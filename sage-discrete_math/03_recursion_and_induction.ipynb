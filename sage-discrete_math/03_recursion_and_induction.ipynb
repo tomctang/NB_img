{
 "cells": [
  {
   "cell_type": "markdown",
   "metadata": {},
   "source": [
    "## Recursion"
   ]
  },
  {
   "cell_type": "markdown",
   "metadata": {},
   "source": [
    "### Introduction\n",
    "The following example illustrates the main idea of recursion by a Python program that counts the number of elements in a list. This is overkill of course, since you can just use the built-in function $\\texttt{len()}$ for that, but this is still an instructive example of recursion."
   ]
  },
  {
   "cell_type": "code",
   "execution_count": 1,
   "metadata": {},
   "outputs": [
    {
     "name": "stdout",
     "output_type": "stream",
     "text": [
      "5\n"
     ]
    }
   ],
   "source": [
    "def length(lst):\n",
    "    if not lst:\n",
    "        return 0\n",
    "    else:\n",
    "        return 1 + length(lst[1:])\n",
    "\n",
    "\n",
    "print(length([5, 3, 2, 1, 7]))"
   ]
  },
  {
   "cell_type": "markdown",
   "metadata": {},
   "source": [
    "Here, `[5, 3, 2, 1, 7]` is a list, that is, a sequence of objects (shown in square brackets separated by commas). To find the length (the number of elements) in the list `lst`, we first check whether `lst` is empty. This is done by checking the [truth value](https://docs.python.org/3/library/stdtypes.html\\#truth-value-testing) of `lst`: in Python, any empty collection is considered false. (One can also use condition `lst == []` instead.) If `lst` is empty, we return zero immediately. Otherwise, we delete the first element of `lst` by \n",
    "using slicing (every sequence in Python is 0-based; hence\n",
    "the slice `[1:]}` just takes a subsequence starting with an element number one, that is, the whole subsequence without the first element). Then, we *recursively* call the same function `length()` on this shorter list, and add one to its answer."
   ]
  },
  {
   "cell_type": "markdown",
   "metadata": {},
   "source": [
    "If you've never seen recursive programs before, this type of function call may\n",
    "confuse you. To better understand what is going on inside, \n",
    "it's always good to add a few *debug printing* instructions.\n",
    "This debug output shows the forward and backward waves."
   ]
  },
  {
   "cell_type": "code",
   "execution_count": 2,
   "metadata": {},
   "outputs": [
    {
     "name": "stdout",
     "output_type": "stream",
     "text": [
      "Computing the length of [5, 3, 2, 1, 7]...\n",
      "Computing the length of [3, 2, 1, 7]...\n",
      "Computing the length of [2, 1, 7]...\n",
      "Computing the length of [1, 7]...\n",
      "Computing the length of [7]...\n",
      "Computing the length of []...\n",
      "The length of [] is 0\n",
      "The length of [7] is 1\n",
      "The length of [1, 7] is 2\n",
      "The length of [2, 1, 7] is 3\n",
      "The length of [3, 2, 1, 7] is 4\n",
      "The length of [5, 3, 2, 1, 7] is 5\n"
     ]
    },
    {
     "data": {
      "text/plain": [
       "5"
      ]
     },
     "execution_count": 2,
     "metadata": {},
     "output_type": "execute_result"
    }
   ],
   "source": [
    "def length(lst):\n",
    "    print(f'Computing the length of {lst}...')\n",
    "    if not lst:\n",
    "        print(f'The length of {lst} is 0')\n",
    "        return 0\n",
    "    else:\n",
    "        shorter_lst = lst[1:]\n",
    "        result = 1 + length(shorter_lst)\n",
    "        print(f'The length of {lst} is {result}')\n",
    "        return result\n",
    "\n",
    "\n",
    "length([5, 3, 2, 1, 7])"
   ]
  },
  {
   "cell_type": "markdown",
   "metadata": {},
   "source": [
    "Here, the print command with [formatted string literals](https://docs.python.org/3/tutorial/inputoutput.html}) is used; expressions within `{}` are printed in specified surroundings."
   ]
  },
  {
   "cell_type": "markdown",
   "metadata": {},
   "source": [
    "Finally, we also note that the same recursive function can be implemented\n",
    "as a single-liner."
   ]
  },
  {
   "cell_type": "code",
   "execution_count": 3,
   "metadata": {},
   "outputs": [
    {
     "name": "stdout",
     "output_type": "stream",
     "text": [
      "3\n"
     ]
    }
   ],
   "source": [
    "def length(lst):\n",
    "    return 1 + length(lst[1:]) if lst else 0\n",
    "\n",
    "print(length(['Alice', 'Bob', 'Charlie']))"
   ]
  },
  {
   "cell_type": "markdown",
   "metadata": {},
   "source": [
    "### Factorial\n",
    "\n",
    "A program for computing factorial:"
   ]
  },
  {
   "cell_type": "code",
   "execution_count": 4,
   "metadata": {},
   "outputs": [
    {
     "name": "stdout",
     "output_type": "stream",
     "text": [
      "3628800\n"
     ]
    }
   ],
   "source": [
    "def factorial(n):\n",
    "    assert n > 0\n",
    "    result = 1\n",
    "    for i in range(1, n + 1):\n",
    "        result *= i\n",
    "    return result\n",
    "\n",
    "\n",
    "print(factorial(10))"
   ]
  },
  {
   "cell_type": "markdown",
   "metadata": {},
   "source": [
    "In this program, we first define a function `factorial(n)` that should compute (and return) factorial of a positive integer `n`, its argument. Then we ask to print $10!$. How does the function `factorial` work? \n",
    "It checks first that the input is positive: `assert n > 0` will complain (and stop the program) if the assertion `n > 0` is false. Then it multiplies the `result` (initially $1$) by the numbers $2,3,\\ldots,n$. It is done as follows: `range(1, n + 1)` is (according to Python conventions) the list $[1,2,\\dotsc,n]$. \n",
    "The line `result *= i` (an equivalent version: `result = result * i`) multiplies the result by `i`. After we do this for $i=1,2,\\ldots,n$, the result is equal to $n!$ and it is the value returned (computed) by the function. "
   ]
  },
  {
   "cell_type": "markdown",
   "metadata": {},
   "source": [
    "A recursive version:"
   ]
  },
  {
   "cell_type": "code",
   "execution_count": 5,
   "metadata": {},
   "outputs": [
    {
     "name": "stdout",
     "output_type": "stream",
     "text": [
      "3628800\n"
     ]
    }
   ],
   "source": [
    "def factorial(n):\n",
    "    assert n > 0\n",
    "    if n == 1:\n",
    "        return 1\n",
    "    else:\n",
    "        return n * factorial(n - 1)\n",
    "\n",
    "\n",
    "print(factorial(10))"
   ]
  },
  {
   "cell_type": "markdown",
   "metadata": {},
   "source": [
    "The program checks that $n$ is positive. Then, it considers the special case when $n=1$; in this case, we do not need to ask anybody to return the answer $1$ (since $1!=1$). For $n>1$, we return `n * factorial(n - 1)`. Note that to compute `factorial(n - 1)`, the Python interpreter needs to follow the same procedure. Returning to our queue metaphor, we may say that we have a line of Python interpreters who ask each other about the factorials of $n$, $n-1$, $n-2$ etc. until the last one computes $1!=1$ and then this answer propagates back, being multiplied \n",
    "by $2,3,\\ldots, n$ on the way."
   ]
  },
  {
   "cell_type": "markdown",
   "metadata": {},
   "source": [
    "### Coins\n",
    "\n",
    "**Problem.** Prove that any monetary amount starting from $8$ can be paid using coins in denominations of $3$ and $5$.\n",
    "\n",
    "The following code finds the required collection of coins."
   ]
  },
  {
   "cell_type": "code",
   "execution_count": 6,
   "metadata": {},
   "outputs": [
    {
     "name": "stdout",
     "output_type": "stream",
     "text": [
      "200=3+5+3+3+3+3+3+3+3+3+3+3+3+3+3+3+3+3+3+3+3+3+3+3+3+3+3+3+3+3+3+3+3+3+3+3+3+3+3+3+3+3+3+3+3+3+3+3+3+3+3+3+3+3+3+3+3+3+3+3+3+3+3+3+3+3\n"
     ]
    }
   ],
   "source": [
    "def change(amount):\n",
    "    assert amount >= 8\n",
    "    if amount == 8:\n",
    "        return [3, 5]\n",
    "    if amount == 9:\n",
    "        return [3, 3, 3]\n",
    "    if amount == 10:\n",
    "        return [5, 5]\n",
    "\n",
    "    coins = change(amount - 3)\n",
    "    coins.append(3)\n",
    "    return coins\n",
    "\n",
    "\n",
    "amount = 200\n",
    "coins = change(amount)\n",
    "\n",
    "print(f\"{amount}={'+'.join(map(str, coins))}\")"
   ]
  },
  {
   "cell_type": "markdown",
   "metadata": {},
   "source": [
    "First, we check that the amount is at least $8$.\n",
    "Then, we consider three special cases ($8$, $9$, \n",
    "and $10$) where the answer can be given immediately. This answer is \n",
    "a list of integers (of length $2$ or $3$, depending \n",
    "on the case). If these lines are not applicable, then $\\texttt{amount} \\ge 11$, and \n",
    "$\\texttt{amount-3}\\ge 8$. Then, we use the same program recursively and get a list of integers $3$ and $5$ with the sum \\texttt{amount-3}. It remains to append the integer \\texttt{3} to the list \\texttt{coins}. This is done (surprise!) by the line `coins.append(3)`, and the resulting list is returned.\n",
    "\n",
    "Now, we test this program for some specific amount, say, for $200$. We could just say `print(coins)`, but this will give the output in the form `[3,5,3,3,3,...,3]`. We want to get a better-looking output with plus signs (just for fun), and it is done by some Python tricks. The function `str` converts an integer to its decimal representation (integer $3$ is not the same as string \\texttt{3} in Python), and `map(str, coins)`  applies `str` to every element of the list `coins`, so we get a list of strings. Now, \n",
    "we need to convert this list to one long string that puts `+` between the integers. For that, we use the `join` function for the string `+` with the list of strings as its argument. This way, we get the string we want (the sum expression as a string). "
   ]
  },
  {
   "cell_type": "markdown",
   "metadata": {},
   "source": [
    "Below, we show also a more compact solution implementing the same\n",
    "recursive idea."
   ]
  },
  {
   "cell_type": "code",
   "execution_count": 7,
   "metadata": {},
   "outputs": [],
   "source": [
    "base_cases = {8: [3, 5], 9: [3, 3, 3], 10: [5, 5]}\n",
    "\n",
    "\n",
    "def change(amount):\n",
    "    assert amount >= 8\n",
    "    if amount <= 10:\n",
    "        return base_cases[amount]\n",
    "    return change(amount - 3) + [3]"
   ]
  },
  {
   "cell_type": "markdown",
   "metadata": {},
   "source": [
    "### Hanoi Towers\n",
    "\n",
    "There is a tower made of $n$ disks of decreasing sizes put on a rod, and two other rods. The goal is to move the entire tower to a different rod \n",
    "if you are allowed to move only one disc at a time (this disc should be the upper one on some rod), and a larger disc should never be placed on top \n",
    "of a smaller one."
   ]
  },
  {
   "cell_type": "code",
   "execution_count": 8,
   "metadata": {},
   "outputs": [
    {
     "name": "stdout",
     "output_type": "stream",
     "text": [
      "Move disk from 1 to 2\n",
      "Move disk from 1 to 3\n",
      "Move disk from 2 to 3\n",
      "Move disk from 1 to 2\n",
      "Move disk from 3 to 1\n",
      "Move disk from 3 to 2\n",
      "Move disk from 1 to 2\n"
     ]
    }
   ],
   "source": [
    "def hanoi_towers(n, from_rod, to_rod):\n",
    "    if n == 1:\n",
    "        print(f'Move disk from {from_rod} to {to_rod}')\n",
    "    else:\n",
    "        unused_rod = 6 - from_rod - to_rod\n",
    "        hanoi_towers(n - 1, from_rod, unused_rod)\n",
    "        print(f'Move disk from {from_rod} to {to_rod}')\n",
    "        hanoi_towers(n - 1, unused_rod, to_rod)\n",
    "\n",
    "\n",
    "hanoi_towers(3, 1, 2)"
   ]
  },
  {
   "cell_type": "markdown",
   "metadata": {},
   "source": [
    "The function `hanoi_towers` takes three arguments: the number $n$ of disks and two integers (from the range $[1,3]$) `from_rod` and `to_rod` specifying from which rod to which rod one should move the disks. The base case is $n=1$: we then just move the only disk. Otherwise, we first move $n-1$ top discs to the unused rod, then move the largest disk, and finally move $n-1$ discs on top of the largest disk. (The sum of the numbers of three different rods is equal to $1+2+3=6$. Hence, to get the number of the unused rod, one needs to subtract the sum of `from_rod` and `to_rod` from 6.)"
   ]
  },
  {
   "cell_type": "markdown",
   "metadata": {},
   "source": [
    "### Binary Search\n",
    "\n",
    "Binary search is an extremely efficient searching procedure that \n",
    "is frequently used in programming and computer science. \n",
    "If you haven't heard about this idea before, we will discover it \n",
    "together by solving the following puzzle.\n",
    "\n",
    "**Problem.** You are playing a game. Your opponent has an integer $1 \\le x \\le n$\n",
    "in mind. You ask questions of the form \"Is $x=y$?\". Your opponent replies\n",
    "either \"yes\", or \"$x<y$\", or \"$x>y$\". Your goal is to get the \"yes\"\n",
    "answer by asking at most $k$ questions."
   ]
  },
  {
   "cell_type": "markdown",
   "metadata": {},
   "source": [
    "The following code mimics the guessing process. The function `query` \"knows\" an integer $x$. A call to `query(y)` \n",
    "tells us\n",
    "whether $x=y$, or $x>y$, or $x>y$. The function `guess()` finds the number $x$ by calling `query()`. It is called with two parameters, `lower` and `upper`, such that\n",
    "\\[\\texttt{lower} \\le x \\le \\texttt{upper} \\, ,\\]\n",
    "that is, $x$ lies in the segment $[\\texttt{lower},\\, \\texttt{upper}]$.\n",
    "It first computes the `middle` point of the segment \n",
    "$[\\texttt{lower},\\, \\texttt{upper}]$ and then calls `query(middle)`.\n",
    "If $x<\\texttt{middle}$, then it continues with the interval \n",
    "$[\\texttt{lower},\\, \\texttt{middle - 1}]$.\n",
    "If $x>\\texttt{middle}$, then it continues with the interval \n",
    "$[\\texttt{middle}+1,\\, \\texttt{upper}]$.\n",
    "\n",
    "\n",
    "Try changing the value of $x$ and run this code\n",
    "to see the sequence of questions (but make sure that $x$ lies \n",
    "in the segment that `guess` is called with).\n"
   ]
  },
  {
   "cell_type": "code",
   "execution_count": 9,
   "metadata": {},
   "outputs": [
    {
     "name": "stdout",
     "output_type": "stream",
     "text": [
      "Is x=1048576? It is greater.\n",
      "Is x=1572864? It is greater.\n",
      "Is x=1835008? It is smaller.\n",
      "Is x=1703936? It is smaller.\n",
      "Is x=1638400? It is smaller.\n",
      "Is x=1605632? It is greater.\n",
      "Is x=1622016? It is smaller.\n",
      "Is x=1613824? It is greater.\n",
      "Is x=1617920? It is greater.\n",
      "Is x=1619968? It is smaller.\n",
      "Is x=1618944? It is smaller.\n",
      "Is x=1618432? It is smaller.\n",
      "Is x=1618176? It is greater.\n",
      "Is x=1618304? It is smaller.\n",
      "Is x=1618240? It is smaller.\n",
      "Is x=1618208? It is greater.\n",
      "Is x=1618224? It is greater.\n",
      "Is x=1618232? It is greater.\n",
      "Is x=1618236? It is smaller.\n",
      "Is x=1618234? It is greater.\n",
      "Is x=1618235? It is equal.\n"
     ]
    }
   ],
   "source": [
    "def query(y):\n",
    "    x = 1618235\n",
    "    if x == y:\n",
    "        return 'equal'\n",
    "    elif x < y:\n",
    "        return 'smaller'\n",
    "    else:\n",
    "        return 'greater'\n",
    "\n",
    "\n",
    "def guess(lower, upper):\n",
    "    middle = (lower + upper) // 2\n",
    "    answer = query(middle)\n",
    "    print(f'Is x={middle}? It is {answer}.')\n",
    "    if answer == 'equal':\n",
    "        return\n",
    "    elif answer == 'smaller':\n",
    "        guess(lower, middle - 1)\n",
    "    else:\n",
    "        assert answer == 'greater'\n",
    "        guess(middle + 1, upper)\n",
    "\n",
    "\n",
    "guess(1, 2097151)"
   ]
  },
  {
   "cell_type": "markdown",
   "metadata": {},
   "source": [
    "Perhaps the most important application of binary search is *searching sorted data*. Searching is a fundamental problem: given a sequence and an element $x$, we would like to check whether $x$ is present in this sequence. For example, 3 is present in the sequence $(7, 2, 5, 6, 11, 3, 2, 9)$ and 4 is not present in this sequence. Given the importance of the search problem, it is not surprising that Python has built-in methods for this."
   ]
  },
  {
   "cell_type": "code",
   "execution_count": 10,
   "metadata": {},
   "outputs": [
    {
     "name": "stdout",
     "output_type": "stream",
     "text": [
      "True\n",
      "False\n"
     ]
    }
   ],
   "source": [
    "print(3 in [7, 2, 5, 6, 11, 3, 2, 9])\n",
    "print(4 in [7, 2, 5, 6, 11, 3, 2, 9])"
   ]
  },
  {
   "cell_type": "markdown",
   "metadata": {},
   "source": [
    "What is going on under the hood when one calls this \n",
    "`in` method? As you would expect, Python just scans the given\n",
    "sequence from left to right and compares every element to $x$. This \n",
    "simple method is called *linear scan*. It makes up to $n$ comparisons on a sequence \n",
    "of length $n$. If the sequence does not contain $x$, we *have to* scan all the elements: if we skip an element, we can't be sure that it is not equal to $x$.\n",
    "\n",
    "The things change drastically, if the given data is *sorted*. Namely, assume that we are searching an integer $x$ in a sequence\n",
    "$(a_0, a_1, \\dotsc, a_{n-1})$ such that\n",
    "\\[a_0 \\le a_1 \\le \\dotsb \\le a_{n-1} \\, .\\]\n",
    "It turns out that in this case about $\\log_2 n$ comparisons are enough!\n",
    "This is a massive improvement: remember that for large values of $n$, $\\log_2 n$ is much smaller than $n$. Say, for $n=10^9$, the linear scan may make a billion comparisons, whereas the binary search never makes more than 30 comparisons.\n",
    "\n",
    "The idea is again to try to half the search space. For this, we compare \n",
    "$x$ with $a_{n/2}$. If $x=a_{n/2}$, then we are done. If $x<a_{n/2}$, then we can discard the right half of the sequence as $x$ just cannot appear there. Indeed, since the sequence is sorted,\n",
    "$$x <a_{n/2} \\le a_{n/2+1} \\le \\dotsb \\le a_{n-1} \\, .$$\n",
    "Similarly, if $x>a_{n/2}$, we discard the left half of the sequence as all its elements are certainly smaller than $x$:\n",
    "$$a_0\\le a_1 \\le \\dotsb \\le a_{n/2} < x \\, .$$\n",
    "This leads us to the following (recursive!) code."
   ]
  },
  {
   "cell_type": "code",
   "execution_count": 11,
   "metadata": {},
   "outputs": [
    {
     "name": "stdout",
     "output_type": "stream",
     "text": [
      "Searching 8 in [1, 2, 3, 3, 5, 6, 6, 8, 9, 9, 9]\n",
      "Searching 8 in [6, 8, 9, 9, 9]\n",
      "Searching 8 in [6, 8]\n",
      "Found!\n"
     ]
    },
    {
     "data": {
      "text/plain": [
       "True"
      ]
     },
     "execution_count": 11,
     "metadata": {},
     "output_type": "execute_result"
    }
   ],
   "source": [
    "def binary_search(a, x):\n",
    "    print(f'Searching {x} in {a}')\n",
    "\n",
    "    if len(a) == 0:\n",
    "        return False\n",
    "\n",
    "    if a[len(a) // 2] == x:\n",
    "        print('Found!')\n",
    "        return True\n",
    "    elif a[len(a) // 2] < x:\n",
    "        return binary_search(a[len(a) // 2 + 1:], x)\n",
    "    else:\n",
    "        return binary_search(a[:len(a) // 2], x)\n",
    "\n",
    "\n",
    "binary_search([1, 2, 3, 3, 5, 6, 6, 8, 9, 9, 9], 8)"
   ]
  },
  {
   "cell_type": "markdown",
   "metadata": {},
   "source": [
    "## Induction\n",
    "\n",
    "### Why Induction?\n",
    "\n",
    "You are reviewing your friend's code. The code contains a function that, given a positive integer $n$, computes the sum of the first $n$ positive integers: $1+2+\\dotsb+n$."
   ]
  },
  {
   "cell_type": "code",
   "execution_count": 12,
   "metadata": {},
   "outputs": [],
   "source": [
    "def sum_of_integers(n):\n",
    "    assert n > 0\n",
    "    return sum(range(1, n + 1))"
   ]
  },
  {
   "cell_type": "markdown",
   "metadata": {},
   "source": [
    "You suggest your friend to improve the code by using the *formula for arithmetic series*: for every positive integer $n$, $$\\sum_{i=1}^{n}i=1+2+\\dotsb+n=\\frac{n(n+1)}{2} \\, .$$\n",
    "\n",
    "A code that uses a formula $n(n+1)/2$ instead of summing up all integers from $1$ to $n$ is more efficient in practice: already for $n=10^9$, computing the sum takes noticeable time, whereas computing $n(n+1)/2$ takes almost nothing.\n",
    "\n",
    "How could you convince your friend that the formula is true for \\emph{every} positive integer $n$? \n",
    "\n",
    "One possibility is to check that it holds for all $1 \\le n \\le 100$."
   ]
  },
  {
   "cell_type": "code",
   "execution_count": 13,
   "metadata": {},
   "outputs": [
    {
     "name": "stdout",
     "output_type": "stream",
     "text": [
      "True\n"
     ]
    }
   ],
   "source": [
    "print(all(sum(range(1, n + 1)) == n * (n + 1) // 2\n",
    "          for n in range(1, 101)))"
   ]
  },
  {
   "cell_type": "markdown",
   "metadata": {},
   "source": [
    "### Bernoulli's Inequality\n",
    "\n",
    "It is instructive to see how exponential functions (such as $1.02^n$) grow, and to see how fast they reach large values. For example, how many days of 2\\% compound interest does it take to get from \\$1\\,000 to \\$1\\,000\\,000?"
   ]
  },
  {
   "cell_type": "code",
   "execution_count": 14,
   "metadata": {},
   "outputs": [
    {
     "name": "stdout",
     "output_type": "stream",
     "text": [
      "If you start with $1000 and earn 2% a day,\n",
      "you will have more than $1000000 on day 350!\n"
     ]
    }
   ],
   "source": [
    "def days_to_target(starting_amount, earn_percent,\n",
    "                   target_amount):\n",
    "    day = 1\n",
    "    amount = starting_amount\n",
    "    daily_factor = (1 + earn_percent / 100.0)\n",
    "    while amount < target_amount:\n",
    "        day += 1\n",
    "        amount = amount * daily_factor\n",
    "    return day\n",
    "\n",
    "\n",
    "def print_example(starting_amount, earn_percent,\n",
    "                  target_amount):\n",
    "    days = days_to_target(starting_amount, earn_percent,\n",
    "                          target_amount)\n",
    "    print(f\"If you start with ${starting_amount} \"\n",
    "          f\"and earn {earn_percent}% a day,\"\n",
    "          f\"\\nyou will have more than ${target_amount} \"\n",
    "          f\"on day {days}!\")\n",
    "\n",
    "\n",
    "print_example(1000, 2, 1000000)"
   ]
  },
  {
   "cell_type": "markdown",
   "metadata": {},
   "source": [
    "Or how much money will I have after a year?"
   ]
  },
  {
   "cell_type": "code",
   "execution_count": 15,
   "metadata": {},
   "outputs": [
    {
     "name": "stdout",
     "output_type": "stream",
     "text": [
      "If you start with $1000 and earn 2% a day,\n",
      "on day 365 you will have more than $1350400!\n"
     ]
    }
   ],
   "source": [
    "def how_much_money(starting_amount, earn_percent, day):\n",
    "    daily_factor = 1 + (earn_percent / 100.0)\n",
    "    return starting_amount * (daily_factor ** (day - 1))\n",
    "\n",
    "\n",
    "def print_example(starting_amount, earn_percent, day):\n",
    "    money = int(how_much_money(starting_amount,\n",
    "                            earn_percent, day))\n",
    "\n",
    "    print(f\"If you start with ${starting_amount} \"\n",
    "          f\"and earn {earn_percent}% a day,\"\n",
    "          f\"\\non day {day} you will have \"\n",
    "          f\"more than ${money}!\")\n",
    "\n",
    "\n",
    "print_example(1000, 2, 365)"
   ]
  },
  {
   "cell_type": "code",
   "execution_count": null,
   "metadata": {},
   "outputs": [],
   "source": []
  }
 ],
 "metadata": {
  "kernelspec": {
   "display_name": "Python 3 (ipykernel)",
   "language": "python",
   "name": "python3"
  },
  "language_info": {
   "codemirror_mode": {
    "name": "ipython",
    "version": 3
   },
   "file_extension": ".py",
   "mimetype": "text/x-python",
   "name": "python",
   "nbconvert_exporter": "python",
   "pygments_lexer": "ipython3",
   "version": "3.9.13"
  }
 },
 "nbformat": 4,
 "nbformat_minor": 2
}
