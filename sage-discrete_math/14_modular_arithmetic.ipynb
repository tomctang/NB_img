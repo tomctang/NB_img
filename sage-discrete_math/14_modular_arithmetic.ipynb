{
 "cells": [
  {
   "cell_type": "markdown",
   "id": "ceeb1294",
   "metadata": {},
   "source": [
    "### Divisors and Multiples"
   ]
  },
  {
   "cell_type": "markdown",
   "id": "300ed20b",
   "metadata": {},
   "source": [
    "#### Divisibility"
   ]
  },
  {
   "cell_type": "code",
   "execution_count": 1,
   "id": "3c014695",
   "metadata": {},
   "outputs": [
    {
     "name": "stdout",
     "output_type": "stream",
     "text": [
      "True\n",
      "False\n",
      "True\n",
      "True\n"
     ]
    }
   ],
   "source": [
    "print(15 % 3 == 0)\n",
    "print(15 % 4 == 0)\n",
    "print(24 % 6 == 0)\n",
    "print(-24 % -6 == 0)"
   ]
  },
  {
   "cell_type": "markdown",
   "id": "d6bc7e81",
   "metadata": {},
   "source": [
    "#### Remainders"
   ]
  },
  {
   "cell_type": "code",
   "execution_count": 2,
   "id": "d77e7426",
   "metadata": {},
   "outputs": [
    {
     "name": "stdout",
     "output_type": "stream",
     "text": [
      "15 // 7 = 2\n",
      "15 % 7 = 1\n",
      "divmod(15, 7) = (2, 1)\n",
      "Beware: 15 / 7 = 2.142857142857143\n"
     ]
    }
   ],
   "source": [
    "print('15 // 7 =', 15 // 7)\n",
    "print('15 % 7 =', 15 % 7)\n",
    "print('divmod(15, 7) =', divmod(15, 7))\n",
    "\n",
    "print('Beware: 15 / 7 =', 15 / 7)"
   ]
  },
  {
   "cell_type": "code",
   "execution_count": 3,
   "id": "67a21ddf",
   "metadata": {},
   "outputs": [
    {
     "name": "stdout",
     "output_type": "stream",
     "text": [
      "-8 (-2, 0)\n",
      "-7 (-2, 1)\n",
      "-6 (-2, 2)\n",
      "-5 (-2, 3)\n",
      "-4 (-1, 0)\n",
      "-3 (-1, 1)\n",
      "-2 (-1, 2)\n",
      "-1 (-1, 3)\n",
      "0 (0, 0)\n",
      "1 (0, 1)\n",
      "2 (0, 2)\n",
      "3 (0, 3)\n",
      "4 (1, 0)\n",
      "5 (1, 1)\n",
      "6 (1, 2)\n",
      "7 (1, 3)\n",
      "8 (2, 0)\n",
      "9 (2, 1)\n"
     ]
    }
   ],
   "source": [
    "for i in range(-8, 10):\n",
    "    print(i, divmod(i, 4))"
   ]
  },
  {
   "cell_type": "code",
   "execution_count": null,
   "id": "0bb8f579",
   "metadata": {},
   "outputs": [],
   "source": [
    "print(divmod(7, -4))\n",
    "print(divmod(-7, -4))"
   ]
  }
 ],
 "metadata": {
  "kernelspec": {
   "display_name": "Python 3 (ipykernel)",
   "language": "python",
   "name": "python3"
  },
  "language_info": {
   "codemirror_mode": {
    "name": "ipython",
    "version": 3
   },
   "file_extension": ".py",
   "mimetype": "text/x-python",
   "name": "python",
   "nbconvert_exporter": "python",
   "pygments_lexer": "ipython3",
   "version": "3.9.13"
  }
 },
 "nbformat": 4,
 "nbformat_minor": 5
}
