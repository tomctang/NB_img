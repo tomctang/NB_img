{
 "cells": [
  {
   "cell_type": "markdown",
   "metadata": {
    "id": "5_7KEvOQ7W7u"
   },
   "source": [
    "## Invariants\n",
    "\n",
    "**Problem.** Bob is debugging his code. When he starts, he has only one bug. \n",
    "But once he fixes one bug, three new bugs appear. During the night, \n",
    "Bob fixed $15$ bugs. How many pending bugs does Bob have at this point?\n",
    "\n",
    "Let us model this process in Python."
   ]
  },
  {
   "cell_type": "code",
   "execution_count": 1,
   "metadata": {
    "colab": {
     "base_uri": "https://localhost:8080/"
    },
    "id": "xRUNzXT38PXQ",
    "outputId": "1360030f-24bf-4d24-a8e5-76dce9fffaa1"
   },
   "outputs": [
    {
     "name": "stdout",
     "output_type": "stream",
     "text": [
      "31\n"
     ]
    }
   ],
   "source": [
    "number_of_pending_bugs = 1\n",
    "\n",
    "for _ in range(15):\n",
    "    number_of_pending_bugs -= 1\n",
    "    number_of_pending_bugs += 3\n",
    "\n",
    "print(number_of_pending_bugs)"
   ]
  },
  {
   "cell_type": "markdown",
   "metadata": {
    "id": "dbGu6pb-8f8O"
   },
   "source": [
    "## Termination\n",
    "\n",
    "**Problem.**\n",
    "King Arthur has a shelf of his works consisting of $10$ volumes, numbered $1,2,\\dotsc,10$. Over the years of use, the volumes got disordered. Arthur hires Merlin to sort the collection, but he does not want more than two volumes leave the shelf at once. The volumes are heavy, so it is possible only to switch two volumes on the shelf in a day. Show that Merlin can always sort the volums in $9$ days."
   ]
  },
  {
   "cell_type": "markdown",
   "metadata": {
    "id": "HESZeZ1V-XsA"
   },
   "source": [
    "<img src=\"images/bookshelf1.png\">\n",
    "\n",
    "On the first day, Merlin finds the position $j$ of volume $1$ (in the example above, $j=8$). If $j \\neq 1$, he exchanges \n",
    "the volumes at the positions $1$ and $j$. \n",
    "\n",
    "<img src=\"images/bookshelf2.png\">\n",
    "\n",
    "On the second day, he finds the position $j$ of volume $2$. Note that \n",
    "$j$ cannot be equal to $1$, since the first position is occupied \n",
    "by volume $1$. If $j \\neq 2$, Merlin exchanges the books \n",
    "at positions $2$ and $j$.\n",
    "\n",
    "<img src=\"images/bookshelf3.png\">\n",
    "\n",
    "Proceeding in the same fashion, on day $i$, Merlin ensures that volume $i$ stays at position $i$. This way, he maintains the following *invariant*:\n",
    "after $i$ days, the first $i$ volumes stay at their intended positions. It remains to note that by the end of ninth day, volume $10$ must stay at position $10$: indeed, volumes $1,2,\\dotsc,9$ stay at positions $1,2,\\dotsc,9$, hence\n",
    "$10$ is the only available position for volume $10$.\n",
    "\n",
    "It is particularly easy to implement this strategy in Python. \n",
    "The code below uses $0$-based indexing for days, books, and positions."
   ]
  },
  {
   "cell_type": "code",
   "execution_count": 2,
   "metadata": {
    "colab": {
     "base_uri": "https://localhost:8080/"
    },
    "id": "bMSHtuJ9DDw_",
    "outputId": "63fe38a7-5eb0-4212-fb26-c7b5a0bcabe5"
   },
   "outputs": [
    {
     "name": "stdout",
     "output_type": "stream",
     "text": [
      "After day 0: [0, 1, 8, 5, 2, 3, 7, 4, 9, 6]\n",
      "After day 1: [0, 1, 2, 5, 8, 3, 7, 4, 9, 6]\n",
      "After day 2: [0, 1, 2, 3, 8, 5, 7, 4, 9, 6]\n",
      "After day 3: [0, 1, 2, 3, 4, 5, 7, 8, 9, 6]\n",
      "After day 4: [0, 1, 2, 3, 4, 5, 6, 8, 9, 7]\n",
      "After day 5: [0, 1, 2, 3, 4, 5, 6, 7, 9, 8]\n",
      "After day 6: [0, 1, 2, 3, 4, 5, 6, 7, 8, 9]\n"
     ]
    }
   ],
   "source": [
    "def sort_books(books):\n",
    "    day = 0\n",
    "\n",
    "    for i in range(len(books)):\n",
    "        j = books.index(i)\n",
    "        if j != i:\n",
    "            books[i], books[j] = books[j], books[i]\n",
    "            print(f'After day {day}: {books}')\n",
    "            day += 1\n",
    "\n",
    "\n",
    "sort_books([0, 5, 8, 1, 2, 3, 7, 4, 9, 6])"
   ]
  },
  {
   "cell_type": "markdown",
   "metadata": {
    "id": "ApjWpep07rZm"
   },
   "source": [
    "## Even and Odd Numbers\n",
    "\n",
    "**Problem.** Prove that every odd integer from $-45$ to $45$ can be obtained \n",
    "by placing signs in the expression\n",
    "\n",
    "$\\pm 1 \\pm 2 \\pm 3 \\pm 4 \\pm 5 \\pm 6 \\pm 7 \\pm 8 \\pm 9.$\n",
    "\n",
    "\n",
    "As a hint, consider the following code that tries to obtain\n",
    "the given value by choosing signs of the numbers in the reverse order (from $9$ to $1$). \n"
   ]
  },
  {
   "cell_type": "code",
   "execution_count": 3,
   "metadata": {
    "colab": {
     "base_uri": "https://localhost:8080/"
    },
    "id": "7GiAjGhJEZCc",
    "outputId": "d875c4e5-b4ab-4801-99c2-a3e8fbfccf06"
   },
   "outputs": [
    {
     "name": "stdout",
     "output_type": "stream",
     "text": [
      "7 [1, -2, -3, 4, 5, -6, 7, -8, 9]\n",
      "15 [-1, -2, 3, 4, -5, 6, -7, 8, 9]\n",
      "22 False\n",
      "33 [1, -2, 3, -4, 5, 6, 7, 8, 9]\n"
     ]
    }
   ],
   "source": [
    "def represent(n, value):\n",
    "    if n == 0 and value == 0:\n",
    "        return []\n",
    "\n",
    "    total = sum(range(1, n + 1))\n",
    "\n",
    "    if abs(value) > total or (total - value) % 2 != 0:\n",
    "        return False\n",
    "\n",
    "    if value >= 0:\n",
    "        return represent(n - 1, value - n) + [n]\n",
    "    else:\n",
    "        return represent(n - 1, value + n) + [-n]\n",
    "\n",
    "\n",
    "for v in (7, 15, 22, 33):\n",
    "    print(v, represent(9, v))\n"
   ]
  },
  {
   "cell_type": "markdown",
   "metadata": {
    "id": "r9QOOdtUEIOb"
   },
   "source": [
    "This code proceeds recursively. This suggests that you may want to solve the above problem as follows: first, generalize the statement (so that it states something about every positive integer $n$ rather than just $n=9$), then prove the generalized statement by induction  on $n$ (recall Section 3.2.3 in the book).\n"
   ]
  }
 ],
 "metadata": {
  "colab": {
   "collapsed_sections": [],
   "name": "05_invariants.ipynb",
   "provenance": []
  },
  "kernelspec": {
   "display_name": "Python 3 (ipykernel)",
   "language": "python",
   "name": "python3"
  },
  "language_info": {
   "codemirror_mode": {
    "name": "ipython",
    "version": 3
   },
   "file_extension": ".py",
   "mimetype": "text/x-python",
   "name": "python",
   "nbconvert_exporter": "python",
   "pygments_lexer": "ipython3",
   "version": "3.9.13"
  }
 },
 "nbformat": 4,
 "nbformat_minor": 1
}
