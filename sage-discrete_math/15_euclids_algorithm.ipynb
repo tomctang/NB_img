{
 "cells": [
  {
   "cell_type": "markdown",
   "id": "329c62bc",
   "metadata": {},
   "source": [
    "### Euclid's Algorithm\n",
    "\n",
    "Naive way of computing the greatest common divisor:"
   ]
  },
  {
   "cell_type": "code",
   "execution_count": 1,
   "id": "92f1efc5",
   "metadata": {},
   "outputs": [
    {
     "name": "stdout",
     "output_type": "stream",
     "text": [
      "1\n",
      "8\n",
      "15\n"
     ]
    }
   ],
   "source": [
    "def gcd(a, b):\n",
    "    assert a >= 0 and b >= 0 and a + b > 0\n",
    "\n",
    "    if a == 0 or b == 0:\n",
    "        return max(a, b)\n",
    "\n",
    "    for d in range(min(a, b), 0, -1):\n",
    "        if a % d == 0 and b % d == 0:\n",
    "            return d\n",
    "\n",
    "\n",
    "print(gcd(0, 1))\n",
    "print(gcd(24, 16))\n",
    "print(gcd(30, 75))"
   ]
  },
  {
   "cell_type": "markdown",
   "id": "29cea15e",
   "metadata": {},
   "source": [
    "Euclid's algorithm:"
   ]
  },
  {
   "cell_type": "code",
   "execution_count": 2,
   "id": "af9c925d",
   "metadata": {},
   "outputs": [
    {
     "name": "stdout",
     "output_type": "stream",
     "text": [
      "8\n",
      "3416723\n",
      "1\n"
     ]
    }
   ],
   "source": [
    "def gcd(a, b):\n",
    "    assert a >= 0 and b >= 0 and a + b > 0\n",
    "\n",
    "    while a > 0 and b > 0:\n",
    "        if a >= b:\n",
    "            a = a % b\n",
    "        else:\n",
    "            b = b % a\n",
    "\n",
    "    return max(a, b)\n",
    "\n",
    "\n",
    "print(gcd(24, 16))\n",
    "print(gcd(790933790547, 1849639579327))\n",
    "print(gcd(790933790548, 7))"
   ]
  },
  {
   "cell_type": "markdown",
   "id": "92c55e31",
   "metadata": {},
   "source": [
    "One-liner:"
   ]
  },
  {
   "cell_type": "code",
   "execution_count": 3,
   "id": "54056583",
   "metadata": {},
   "outputs": [
    {
     "name": "stdout",
     "output_type": "stream",
     "text": [
      "3416723\n"
     ]
    }
   ],
   "source": [
    "def gcd(a, b):\n",
    "    return gcd(b, a % b) if a * b > 0 else max(a, b)\n",
    "\n",
    "print(gcd(790933790547, 1849639579327))"
   ]
  },
  {
   "cell_type": "markdown",
   "id": "3db17f57",
   "metadata": {},
   "source": [
    "Built-in method:"
   ]
  },
  {
   "cell_type": "code",
   "execution_count": 4,
   "id": "e1b50aa6",
   "metadata": {},
   "outputs": [
    {
     "name": "stdout",
     "output_type": "stream",
     "text": [
      "1346173432\n"
     ]
    }
   ],
   "source": [
    "from math import gcd\n",
    "\n",
    "print(gcd(3252589245889168, 56042581012305987047000))"
   ]
  },
  {
   "cell_type": "markdown",
   "id": "e279d0b9",
   "metadata": {},
   "source": [
    "### Extended Euclid's Algorithm"
   ]
  },
  {
   "cell_type": "code",
   "execution_count": 5,
   "id": "4ac84737",
   "metadata": {},
   "outputs": [
    {
     "name": "stdout",
     "output_type": "stream",
     "text": [
      "(-110000, 8777, 7573)\n"
     ]
    }
   ],
   "source": [
    "# returns x, y, d such that d=gcd(a, b) and d=ax+by\n",
    "def gcdex(a, b):\n",
    "    if a == 0:\n",
    "        return 0, 1, b\n",
    "    elif b == 0:\n",
    "        return 1, 0, a\n",
    "    else:\n",
    "        p, q, d = gcdex(b, a % b)\n",
    "        return q, p - (a // b) * q, d\n",
    "\n",
    "\n",
    "print(gcdex(312227217, 3913067549))"
   ]
  },
  {
   "cell_type": "markdown",
   "id": "47528892",
   "metadata": {},
   "source": [
    "Built-in method:"
   ]
  },
  {
   "cell_type": "code",
   "execution_count": 6,
   "id": "d45da6a3",
   "metadata": {},
   "outputs": [
    {
     "name": "stdout",
     "output_type": "stream",
     "text": [
      "(-110000, 8777, 7573)\n"
     ]
    }
   ],
   "source": [
    "from sympy import gcdex\n",
    "\n",
    "print(gcdex(312227217, 3913067549))"
   ]
  },
  {
   "cell_type": "markdown",
   "id": "082d0911",
   "metadata": {},
   "source": [
    "### Diophantine Equations"
   ]
  },
  {
   "cell_type": "code",
   "execution_count": 7,
   "id": "95281044",
   "metadata": {},
   "outputs": [
    {
     "name": "stdout",
     "output_type": "stream",
     "text": [
      "Solution to 391x+299y=-69: (9, -12)\n",
      "Solution to 10x+6y=14: (-7, 14)\n",
      "Solution to 10x+6y=15: no solution\n"
     ]
    }
   ],
   "source": [
    "from sympy import gcdex\n",
    "\n",
    "\n",
    "def solve_equation(a, b, c):\n",
    "    p, q, d = gcdex(a, b)\n",
    "    return (p * c // d, q * c // d) if c % d == 0 \\\n",
    "        else 'no solution'\n",
    "\n",
    "\n",
    "for a, b, c in ((391, 299, -69), (10, 6, 14), (10, 6, 15)):\n",
    "    print(f'Solution to {a}x+{b}y={c}:',\n",
    "          solve_equation(a, b, c))"
   ]
  },
  {
   "cell_type": "markdown",
   "id": "739b4809",
   "metadata": {},
   "source": [
    "### Modular Inversion"
   ]
  },
  {
   "cell_type": "code",
   "execution_count": 8,
   "id": "a5212e1c",
   "metadata": {},
   "outputs": [
    {
     "name": "stdout",
     "output_type": "stream",
     "text": [
      "The inverse of 1 modulo 7 is 1: 1 * 1 = 1 = 1 mod 7\n",
      "The inverse of 2 modulo 7 is 4: 2 * 4 = 8 = 1 mod 7\n",
      "The inverse of 3 modulo 7 is 5: 3 * 5 = 15 = 1 mod 7\n",
      "The inverse of 4 modulo 7 is 2: 4 * 2 = 8 = 1 mod 7\n",
      "The inverse of 5 modulo 7 is 3: 5 * 3 = 15 = 1 mod 7\n",
      "The inverse of 6 modulo 7 is 6: 6 * 6 = 36 = 1 mod 7\n"
     ]
    }
   ],
   "source": [
    "from sympy import gcdex\n",
    "\n",
    "\n",
    "for c in range(1, 7):\n",
    "    x, _, d = gcdex(c, 7)\n",
    "    inv = x % 7\n",
    "    print(f'The inverse of {c} modulo 7 is {inv}: ', end='')\n",
    "    print(f'{c} * {inv} = {c * inv} = {c * inv % 7} mod 7')"
   ]
  },
  {
   "cell_type": "markdown",
   "id": "41aa5b3a",
   "metadata": {},
   "source": [
    "Built-in method:"
   ]
  },
  {
   "cell_type": "code",
   "execution_count": 9,
   "id": "5f5b000e",
   "metadata": {},
   "outputs": [
    {
     "name": "stdout",
     "output_type": "stream",
     "text": [
      "5\n"
     ]
    }
   ],
   "source": [
    "print(pow(3, -1, 7))"
   ]
  }
 ],
 "metadata": {
  "kernelspec": {
   "display_name": "Python 3 (ipykernel)",
   "language": "python",
   "name": "python3"
  },
  "language_info": {
   "codemirror_mode": {
    "name": "ipython",
    "version": 3
   },
   "file_extension": ".py",
   "mimetype": "text/x-python",
   "name": "python",
   "nbconvert_exporter": "python",
   "pygments_lexer": "ipython3",
   "version": "3.9.13"
  }
 },
 "nbformat": 4,
 "nbformat_minor": 5
}
