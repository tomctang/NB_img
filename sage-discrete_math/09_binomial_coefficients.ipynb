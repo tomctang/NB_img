{
 "cells": [
  {
   "cell_type": "markdown",
   "id": "74b37378",
   "metadata": {},
   "source": [
    "# Number of Games in a Tournament\n",
    "\n",
    "**Problem.** Five teams played a tournament: each team played once with each other. What was the number of games?"
   ]
  },
  {
   "cell_type": "code",
   "execution_count": 1,
   "id": "5231dc43",
   "metadata": {},
   "outputs": [
    {
     "name": "stdout",
     "output_type": "stream",
     "text": [
      "10\n"
     ]
    }
   ],
   "source": [
    "# Recursive counting\n",
    "\n",
    "def t(n):\n",
    "    return (n - 1) + t(n - 1) if n > 1 else 0\n",
    "\n",
    "\n",
    "print(t(5))"
   ]
  },
  {
   "cell_type": "code",
   "execution_count": 2,
   "id": "9d1e8aaf",
   "metadata": {},
   "outputs": [
    {
     "name": "stdout",
     "output_type": "stream",
     "text": [
      "a b\n",
      "a c\n",
      "a d\n",
      "a e\n",
      "b c\n",
      "b d\n",
      "b e\n",
      "c d\n",
      "c e\n",
      "d e\n"
     ]
    }
   ],
   "source": [
    "# Enumerating the games\n",
    "\n",
    "from itertools import combinations\n",
    "\n",
    "\n",
    "for game in combinations('abcde', 2):\n",
    "    print(*game)"
   ]
  },
  {
   "cell_type": "markdown",
   "id": "572d0790",
   "metadata": {},
   "source": [
    "# Combinations\n",
    "\n",
    "\n",
    "**Problem.** You are organizing a car journey. You have five friends, but there are only three vacant places in you car. What is the number of ways of taking three of your five friends to the journey?"
   ]
  },
  {
   "cell_type": "code",
   "execution_count": 3,
   "id": "dbff484c",
   "metadata": {},
   "outputs": [
    {
     "name": "stdout",
     "output_type": "stream",
     "text": [
      "a b c\n",
      "a b d\n",
      "a b e\n",
      "a c d\n",
      "a c e\n",
      "a d e\n",
      "b c d\n",
      "b c e\n",
      "b d e\n",
      "c d e\n"
     ]
    }
   ],
   "source": [
    "# Enumerating the groups\n",
    "\n",
    "from itertools import combinations\n",
    "\n",
    "\n",
    "for group in combinations('abcde', 3):\n",
    "    print(*group)"
   ]
  },
  {
   "cell_type": "code",
   "execution_count": 4,
   "id": "adadf24d",
   "metadata": {},
   "outputs": [
    {
     "name": "stdout",
     "output_type": "stream",
     "text": [
      "10\n"
     ]
    }
   ],
   "source": [
    "# Computing the number of groups\n",
    "\n",
    "from math import comb\n",
    "\n",
    "print(comb(5, 3))"
   ]
  },
  {
   "cell_type": "code",
   "execution_count": 5,
   "id": "7b35ff73",
   "metadata": {},
   "outputs": [
    {
     "name": "stdout",
     "output_type": "stream",
     "text": [
      "35\n"
     ]
    }
   ],
   "source": [
    "# Computing binomial coefficients recursively\n",
    "\n",
    "cells = dict()  # cells[n, k] will keep n choose k\n",
    "\n",
    "for n in range(8):\n",
    "    cells[n, 0] = 1\n",
    "    cells[n, n] = 1\n",
    "\n",
    "    for k in range(1, n):\n",
    "        cells[n, k] = cells[n - 1, k - 1] + cells[n - 1, k]\n",
    "\n",
    "print(cells[7, 4])\n"
   ]
  },
  {
   "cell_type": "markdown",
   "id": "a589f32e",
   "metadata": {},
   "source": [
    "# Practice Counting\n",
    "\n",
    "**Problem.** What is the number of four-digit integers whose digits are decreasing?"
   ]
  },
  {
   "cell_type": "code",
   "execution_count": 6,
   "id": "83b19b3d",
   "metadata": {},
   "outputs": [
    {
     "name": "stdout",
     "output_type": "stream",
     "text": [
      "210\n"
     ]
    }
   ],
   "source": [
    "from itertools import product\n",
    "\n",
    "print(len([d for d in product(range(10), repeat=4)\n",
    "           if d[0] > d[1] > d[2] > d[3]]))"
   ]
  }
 ],
 "metadata": {
  "kernelspec": {
   "display_name": "Python 3 (ipykernel)",
   "language": "python",
   "name": "python3"
  },
  "language_info": {
   "codemirror_mode": {
    "name": "ipython",
    "version": 3
   },
   "file_extension": ".py",
   "mimetype": "text/x-python",
   "name": "python",
   "nbconvert_exporter": "python",
   "pygments_lexer": "ipython3",
   "version": "3.9.13"
  }
 },
 "nbformat": 4,
 "nbformat_minor": 5
}
