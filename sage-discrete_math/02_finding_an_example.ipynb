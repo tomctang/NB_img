{
 "cells": [
  {
   "cell_type": "markdown",
   "metadata": {},
   "source": [
    "## Brute Force Search\n",
    "\n",
    "It often helps to identify more properties of an object we are looking for, and use these properties to narrow the search space. Let us start with the following example.\n",
    "\n",
    "**Problem.** Does there exist a six-digit number that starts with $100$ and is a multiple of $9\\,127$?\n",
    "\n",
    "We are looking for a number which starts with $100$ and has three more digits (from $000$ to $999$), and \n",
    "is divisible by $9\\,127$. This gives us $1\\,000$ numbers which should be divided by  $9\\,127$. A computer can easily do this."
   ]
  },
  {
   "cell_type": "code",
   "execution_count": 1,
   "metadata": {},
   "outputs": [
    {
     "name": "stdout",
     "output_type": "stream",
     "text": [
      "100397\n"
     ]
    }
   ],
   "source": [
    "for i in range(100000, 101000):\n",
    "    if i % 9127 == 0:\n",
    "        print(i)"
   ]
  },
  {
   "cell_type": "markdown",
   "metadata": {},
   "source": [
    "**Problem.** Does there exist a three-digit number that has remainder $1$ when divided by $2, 3, 4, 5, 6, 7$?\n",
    "\n",
    "Again, we can write a simple program which checks all three-digit numbers."
   ]
  },
  {
   "cell_type": "code",
   "execution_count": 2,
   "metadata": {},
   "outputs": [
    {
     "name": "stdout",
     "output_type": "stream",
     "text": [
      "421\n",
      "841\n"
     ]
    }
   ],
   "source": [
    "for n in range(100, 1000):\n",
    "    if all(n % m == 1 for m in range(2, 8)):\n",
    "        print(n)"
   ]
  },
  {
   "cell_type": "markdown",
   "metadata": {},
   "source": [
    "**Problem.** Implement a program that, given $n \\ge 4$, finds a correct placement of $n$ queens on an $n \\times n$ board.\n",
    "\n",
    "We start by implementing a brute force solution. \n",
    "Specifically, we will do the following two steps.\n",
    "    1. Enumerate all possible placements of $n$ queens where no two queens stay in the same row or column.\n",
    "    2. Among all such placements, we select one where no two queens stay on the same diagonal.  \n",
    "\n",
    "*Consider a placement of $n$ queens no two of which stay in the same row or column. How to represent such a placement in a program?* \n",
    "\n",
    "To represent it, we may use a sequence $r_0, r_1, \\dotsc, r_{n-1}$ of $n$ integers:\n",
    "$r_i$ is the index of the row containing a queen in the $i$-th column. I.e., a sequence $r_0, r_1, \\dotsc, r_{n-1}$ defines the following $n$ cells on the board:\n",
    "$$(0, r_0), (1, r_1), \\dotsc, (n-1, r_{n-1}) \\, .$$\n",
    "Since we know that no two queens stay in the same row, all $r_i$'s must \n",
    "be different. This, in turn, means that $r_0, r_1, \\dotsc, r_{n-1}$ is nothing else\n",
    "but a *permutation* of the numbers $0, 1, \\dotsc, n-1$. The following figure shows examples of such \n",
    "permutations."
   ]
  },
  {
   "cell_type": "markdown",
   "metadata": {},
   "source": [
    "<img src=\"images/queens_permutations.png\">"
   ]
  },
  {
   "cell_type": "markdown",
   "metadata": {},
   "source": [
    "A permutation is a fundamental object in discrete mathematics. Therefore,\n",
    "it is not at all surprising that Python has built-in methods for enumerating \n",
    "permutations. Using the $\\texttt{permutations()}$ function from the $\\texttt{itertools}$ library allows us to implement step 1 in just one line!"
   ]
  },
  {
   "cell_type": "code",
   "execution_count": 5,
   "metadata": {},
   "outputs": [
    {
     "name": "stdout",
     "output_type": "stream",
     "text": [
      "(0, 1, 2, 3)\n",
      "(0, 1, 3, 2)\n",
      "(0, 2, 1, 3)\n",
      "(0, 2, 3, 1)\n",
      "(0, 3, 1, 2)\n",
      "(0, 3, 2, 1)\n",
      "(1, 0, 2, 3)\n",
      "(1, 0, 3, 2)\n",
      "(1, 2, 0, 3)\n",
      "(1, 2, 3, 0)\n",
      "(1, 3, 0, 2)\n",
      "(1, 3, 2, 0)\n",
      "(2, 0, 1, 3)\n",
      "(2, 0, 3, 1)\n",
      "(2, 1, 0, 3)\n",
      "(2, 1, 3, 0)\n",
      "(2, 3, 0, 1)\n",
      "(2, 3, 1, 0)\n",
      "(3, 0, 1, 2)\n",
      "(3, 0, 2, 1)\n",
      "(3, 1, 0, 2)\n",
      "(3, 1, 2, 0)\n",
      "(3, 2, 0, 1)\n",
      "(3, 2, 1, 0)\n"
     ]
    }
   ],
   "source": [
    "from itertools import permutations\n",
    "\n",
    "for permutation in permutations(range(4)):\n",
    "    print(permutation)"
   ]
  },
  {
   "cell_type": "markdown",
   "metadata": {},
   "source": [
    "We proceed to step 2. Looking at the above figure, we see that not every permutation constitutes a solution to the $n$ queens\n",
    "problem. E.g., the first two permutations of the figure are valid solutions, whereas the last one is not as there are two queens attacking each other.\n",
    "\n",
    "*How to check whether a permutation contains two queens on the same diagonal?*\n",
    "\n",
    "For this, we need to check whether two cells $(i_1, j_1)$ and $(i_1,j_2)$ \n",
    "lie on the same diagonal. This happens if and only if\n",
    "$$|i_1-i_2|=|j_1-j_2| \\, ,$$\n",
    "i.e., if the horizontal shift is the same as the vertical shift."
   ]
  },
  {
   "cell_type": "markdown",
   "metadata": {},
   "source": [
    "This observation allows us to implement the following simple procedure for\n",
    "checking whether the given permutation gives a correct solution.\n",
    "In this code, we use another useful function from the $\\texttt{itertools}$ library: \n",
    "$\\texttt{combinations}$ allows us to enumerate all pairs $(i_1,i_2)$ such that $0 \\le i_1 < i_2 \\le n-1$."
   ]
  },
  {
   "cell_type": "code",
   "execution_count": 6,
   "metadata": {},
   "outputs": [
    {
     "name": "stdout",
     "output_type": "stream",
     "text": [
      "True\n",
      "True\n",
      "False\n"
     ]
    }
   ],
   "source": [
    "from itertools import combinations\n",
    "\n",
    "\n",
    "def is_solution(perm):\n",
    "    pairs = combinations(range(len(perm)), 2)\n",
    "    return all(abs(i1 - i2) != abs(perm[i1] - perm[i2])\n",
    "               for i1, i2 in pairs)\n",
    "\n",
    "\n",
    "print(is_solution([1, 3, 0, 2]))\n",
    "print(is_solution([2, 0, 3, 1]))\n",
    "print(is_solution([3, 1, 0, 2]))"
   ]
  },
  {
   "cell_type": "markdown",
   "metadata": {},
   "source": [
    "Finally, by combining the two steps that we've implemented, we get\n",
    "a program for the $n$ queens problem (basically, just six lines of code!).\n",
    "In the code, the function $\\texttt{filter}$ is used to skip all permutations\n",
    "for which the function $\\texttt{is_solution}$ returns $\\texttt{False}$. The \n",
    "function $\\texttt{next}$ just returns the first permutation satisfying our property."
   ]
  },
  {
   "cell_type": "code",
   "execution_count": 7,
   "metadata": {},
   "outputs": [
    {
     "name": "stdout",
     "output_type": "stream",
     "text": [
      "(0, 4, 7, 5, 2, 6, 1, 3)\n"
     ]
    }
   ],
   "source": [
    "from itertools import combinations, permutations\n",
    "\n",
    "\n",
    "def is_solution(perm):\n",
    "    pairs = combinations(range(len(perm)), 2)\n",
    "    return all(abs(i1 - i2) != abs(perm[i1] - perm[i2])\n",
    "               for i1, i2 in pairs)\n",
    "\n",
    "\n",
    "solution = next(filter(is_solution,\n",
    "                       permutations(range(8))))\n",
    "print(solution)"
   ]
  },
  {
   "cell_type": "code",
   "execution_count": null,
   "metadata": {},
   "outputs": [],
   "source": []
  }
 ],
 "metadata": {
  "kernelspec": {
   "display_name": "Python 3",
   "language": "python",
   "name": "python3"
  },
  "language_info": {
   "codemirror_mode": {
    "name": "ipython",
    "version": 3
   },
   "file_extension": ".py",
   "mimetype": "text/x-python",
   "name": "python",
   "nbconvert_exporter": "python",
   "pygments_lexer": "ipython3",
   "version": "3.7.9"
  }
 },
 "nbformat": 4,
 "nbformat_minor": 2
}
