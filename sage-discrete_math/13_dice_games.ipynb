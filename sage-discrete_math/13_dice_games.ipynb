{
 "cells": [
  {
   "cell_type": "markdown",
   "id": "0b5f1a62",
   "metadata": {},
   "source": [
    "Someone offers you to play the following game. There are several fair dice \n",
    "on the table with various numbers on their sides. You and your opponent \n",
    "pick one dice each. Both of you throw the dice and whoever has the larger number wins. You are going to play this game many times\n",
    "and you are, of course, interested \n",
    "in maximizing the probability of winning.\n",
    "\n",
    "To give you an advantage, your opponent lets you pick your dice first:\n",
    "you pick a dice and then your opponent pics one of the remaining dice.\n",
    "How would you select a dice?\n",
    "\n",
    "Of course, everything depends on the specific dice that are on the table.\n",
    "Say, if there are several standard dice (with numbers $1,2,3,4,5,6$ on their sides), then it does not matter which one to choose. \n",
    "But what if you see the dice shown below.\n",
    "\n",
    "![Dice](images/dice.png)\n",
    "\n",
    "Which one would you choose?\n",
    "\n",
    "The expected value of each dice is equal to $5$:\n",
    "$$\\frac{1+8+6}{3}=5\\,, \\quad \\frac{2+4+9}{3}=5\\,, \\quad \\frac{3+7+5}{3}=5 \\, .$$\n",
    "\n",
    "Does this mean that it does not matter which one to choose?\n",
    "\n",
    "As we have discussed previously,\n",
    "comparing dices by their expected values is not a good idea.\n",
    "Instead, let us compute, for each pair of dice, which one of them\n",
    "beats the other one more often.\n",
    "\n",
    "Let us start with the first two dice. Figure below shows all\n",
    "$36$ outcomes. The highlighted part shows\n",
    "that\n",
    "$$\\Pr[\\text{dice 2 beats dice 1}]=\\frac{20}{36} \\approx 0.555 \\, .$$\n",
    "Thus, the second dice beats the first dice more often.\n",
    "\n",
    "![Dice](images/dice1.png)\n",
    "\n",
    "Since the second dice is better than the first one, let us compare it\n",
    "to the third dice. Figure below shows that\n",
    "$$\\Pr[\\text{dice 3 beats dice 2}]=\\frac{20}{36} \\approx 0.555 \\, .$$\n",
    "\n",
    "![Dice](images/dice2.png)\n",
    "\n",
    "Thus, the third dice is better than the second one, whereas the second one\n",
    "is better than the first one. Definitely, you would like to choose the third dice!\n",
    "Assuming that you have selected the third dice and your opponent has selected the first dice, let us simulate the game."
   ]
  },
  {
   "cell_type": "code",
   "execution_count": 1,
   "id": "390c0fb8",
   "metadata": {},
   "outputs": [
    {
     "name": "stdout",
     "output_type": "stream",
     "text": [
      "Out of 100000 games, you won 44625 times\n"
     ]
    }
   ],
   "source": [
    "from random import randint, seed\n",
    "\n",
    "seed(27)\n",
    "\n",
    "your_dice = [3, 3, 5, 5, 7, 7]\n",
    "opponent_dice = [1, 1, 6, 6, 8, 8]\n",
    "\n",
    "num_rounds = 10 ** 5\n",
    "num_wins = 0\n",
    "\n",
    "for _ in range(num_rounds):\n",
    "    if your_dice[randint(0, 5)] > opponent_dice[randint(0, 5)]:\n",
    "        num_wins += 1\n",
    "\n",
    "print(f'Out of {num_rounds} games, you won {num_wins} times')"
   ]
  },
  {
   "cell_type": "markdown",
   "id": "4ca31e31",
   "metadata": {},
   "source": [
    "This looks strange: the third dice beats the first one less often. How is this possible? Is there a flaw in our previous argument?\n",
    "\n",
    "In fact, all our computations above are correct. \n",
    "The place where we were too fast is when we concluded that\n",
    "the third dice is better than the first one. To verify this, let us\n",
    "compare these two dice directly. \n",
    "\n",
    "![Dice](images/dice3.png)\n",
    "\n",
    "The first one beats the third one with probability $20/36 \\approx 0.555$.\n",
    "\n",
    "Thus, the second dice is better than the first one, the third one is better than the second one, and the first one is better than the first one! How is this possible? We are used to comparing numbers and we are used to certain natural properties of numbers.\n",
    "One of such properties is known as *transitivity*:\n",
    "if $a<b$ and $b<c$, then $a<c$.\n",
    "This experience translates to real life where we usually compare numbers: price, size, weight, etc.\n",
    "\n",
    "However random variables are more complicated objects than numbers.\n",
    "After all, to define a random variable, you write down a table\n",
    "with outcomes, their probabilities, and the values of the random variable\n",
    "for each outcome. What is the right way to compare such tables?\n",
    "\n",
    "Now, what does this mean for our game? We got that for each dice, there is another one that is better! This means that when your opponent offers you \n",
    "to pick the dice first, he does *not* give you an advantage! \n",
    "On the contrary, your opponent gets an advantage, since once he knows \n",
    "your dice, he can pick the better one!\n",
    "\n",
    "\n"
   ]
  }
 ],
 "metadata": {
  "kernelspec": {
   "display_name": "Python 3 (ipykernel)",
   "language": "python",
   "name": "python3"
  },
  "language_info": {
   "codemirror_mode": {
    "name": "ipython",
    "version": 3
   },
   "file_extension": ".py",
   "mimetype": "text/x-python",
   "name": "python",
   "nbconvert_exporter": "python",
   "pygments_lexer": "ipython3",
   "version": "3.9.13"
  }
 },
 "nbformat": 4,
 "nbformat_minor": 5
}
