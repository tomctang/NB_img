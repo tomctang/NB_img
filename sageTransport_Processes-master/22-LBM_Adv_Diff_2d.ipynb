{
 "cells": [
  {
   "cell_type": "markdown",
   "metadata": {},
   "source": [
    "# Advection-diffusion in 2d "
   ]
  },
  {
   "cell_type": "code",
   "execution_count": null,
   "metadata": {},
   "outputs": [],
   "source": [
    "%matplotlib inline\n",
    "import matplotlib.pyplot as plt\n",
    "import numpy as np\n",
    "from ldc_utils import *"
   ]
  },
  {
   "cell_type": "code",
   "execution_count": null,
   "metadata": {},
   "outputs": [],
   "source": []
  },
  {
   "cell_type": "code",
   "execution_count": null,
   "metadata": {},
   "outputs": [],
   "source": [
    "# wersja numpy z indeksowaniem kartezjanskim\n",
    "nx = 64\n",
    "ny = 54\n",
    "\n",
    "Dyf    = 0.1\n",
    "cs2 = 1.0/3.0\n",
    "omega = 1. / (Dyf/cs2+0.5) # relaxation parameter \n",
    "print(Dyf,omega)\n",
    "# weights\n",
    "w  =   np.array([4/9., 1/9.,1/9.,1/9.,1/9., 1/36.,1/36.,1/36.,1/36.])\n",
    "\n",
    "c = [(0,0), (1,0), (0, 1), (-1, 0), (0, -1), (1, 1), (-1, 1), (-1, -1), (1, -1)]\n",
    "opp = [c.index( (-c_[0],-c_[1]) )  for c_ in c]\n",
    "c = np.array(c)\n",
    "# numpy version\n",
    "#opp = [np.where(np.all((c == -c_),axis=-1))[0][0]  for c_ in c]\n",
    "\n",
    "obst = np.ones((nx,ny)).astype(np.bool)\n",
    "obst[1:-1,1:-1] = False \n",
    "\n",
    "\n",
    "def f_eq(rho,u,c=c,w=w):\n",
    "    cu = np.tensordot(c,u,axes=[1,0])\n",
    "    f = rho * (1 + cu/cs2 + (cu**2)/(2*cs2**2) - np.sum((u**2),axis=0)/(2*cs2) )\n",
    "    return f*w[:,np.newaxis,np.newaxis]\n",
    "\n",
    "T_init_l = lambda x:(np.exp( -((x[0] - 23)**2+(x[1] - 13)**2)/20.0 ))\n",
    "X,Y = np.mgrid[0:nx,0:ny]\n",
    "rho_init = T_init_l([X,Y])\n",
    "u_adv = np.zeros((2,nx,ny))\n",
    "u_adv[0,:,:] = 0.1\n",
    "u_adv[1,:,:] = 0.2\n",
    "\n",
    "f = f_eq(rho_init,u_adv,c=c,w=w)\n",
    "\n",
    "u_t = []\n",
    "for iteration in range(100):\n",
    "\n",
    "    rho = f.sum(axis=0)\n",
    "\n",
    "    fOut = f - omega * (f-f_eq(rho,u_adv))\n",
    "    \n",
    "    for i in range(9):  \n",
    "        fOut[i,obst] = f[opp[i],obst]\n",
    "\n",
    "    #f_new = np.empty_like(f)\n",
    "    for i,(k,l) in enumerate(c):\n",
    "        #k,l = -k,-l\n",
    "        # f[i,1:-1,1:-1] = fOut[i,1+k:(nx-1)+k,1+l:(ny-1)+l]\n",
    "        f[i,:,:] = np.roll(np.roll(fOut[i,:,:],k,axis=0),l,axis=1)\n",
    "    if iteration%1==0:\n",
    "        u_t.append( rho.copy() )"
   ]
  },
  {
   "cell_type": "code",
   "execution_count": null,
   "metadata": {},
   "outputs": [],
   "source": [
    "%matplotlib notebook\n",
    "import matplotlib.pyplot as plt\n",
    "from ipywidgets.widgets import IntSlider\n",
    "from ipywidgets import interact,Layout\n",
    "style = Layout(width='70%')\n",
    "\n",
    "f,ax = plt.subplots(figsize=(8,6))\n",
    "#ax.imshow(T_init_l([X,Y]),origin='lower')\n",
    "plt_evo = ax.imshow(u_t[1].T,origin='lower',extent=(0,nx,0,ny))\n",
    "plt_init = ax.contour(X,Y,T_init_l([X,Y]),colors='r')\n",
    "ax.set_aspect(1)\n",
    "@interact(ith=IntSlider(min=0,max=len(u_t)-1,layout=style))\n",
    "def _(ith):\n",
    "    plt.title('%f@%d'%(np.sum(u_t[ith]),ith))\n",
    "    plt_evo.set_array(u_t[ith].T)\n",
    "    print(np.sum(u_t[ith]))"
   ]
  },
  {
   "cell_type": "markdown",
   "metadata": {
    "heading_collapsed": true
   },
   "source": [
    "##  FitzHugh–Nagumo\n"
   ]
  },
  {
   "cell_type": "code",
   "execution_count": null,
   "metadata": {
    "hidden": true
   },
   "outputs": [],
   "source": [
    "import sympy\n",
    "a = .1\n",
    "b = .4\n",
    "d = .31\n",
    "fx = lambda u,v: u-u**3 - v + d\n",
    "fy = lambda u,v: u-a-b*v\n",
    "\n",
    "x0,x1 = -2.,2.\n",
    "y0,y1 = -2.,2.\n",
    "nx,ny = 32*8,32*8\n",
    "\n",
    "X,Y = np.mgrid[0:nx,0:ny]\n",
    "X = x0 + X*(x1-x0)/(nx-1)\n",
    "Y = y0 + Y*(y1-y0)/(ny-1)\n",
    "\n",
    "#X,Y = np.meshgrid(np.linspace(x0,x1,nx),np.linspace(y0,y1,ny))\n",
    "\n",
    "\n",
    "Fx,Fy = fx(X,Y),fy(X,Y)\n",
    "f,ax = plt.subplots(figsize=(8,6))\n",
    "ax.streamplot(X.T,Y.T,Fx.T,Fy.T)\n",
    "ax.contourf(X.T,Y.T,np.sqrt(Fx**2+Fy**2).T,np.linspace(.0,3,10))\n",
    "\n",
    "\n"
   ]
  },
  {
   "cell_type": "code",
   "execution_count": null,
   "metadata": {
    "hidden": true
   },
   "outputs": [],
   "source": []
  },
  {
   "cell_type": "code",
   "execution_count": null,
   "metadata": {
    "hidden": true
   },
   "outputs": [],
   "source": [
    "np.max(np.abs(Fx)),np.max(np.abs(Fy))"
   ]
  },
  {
   "cell_type": "code",
   "execution_count": null,
   "metadata": {
    "hidden": true
   },
   "outputs": [],
   "source": []
  },
  {
   "cell_type": "code",
   "execution_count": null,
   "metadata": {
    "hidden": true
   },
   "outputs": [],
   "source": [
    "%%time \n",
    "# wersja numpy z indeksowaniem kartezjanskim\n",
    "nx = 100\n",
    "ny = 100\n",
    "\n",
    "Dyf    = 0.01\n",
    "u0 = 11.0\n",
    "cs2 = 1.0/3.0\n",
    "omega = 1. / (Dyf/cs2+0.5) # relaxation parameter \n",
    "print(Dyf,omega)\n",
    "# weights\n",
    "w  =   np.array([4/9., 1/9.,1/9.,1/9.,1/9., 1/36.,1/36.,1/36.,1/36.])\n",
    "\n",
    "c = [(0,0), (1,0), (0, 1), (-1, 0), (0, -1), (1, 1), (-1, 1), (-1, -1), (1, -1)]\n",
    "opp = [c.index( (-c_[0],-c_[1]) )  for c_ in c]\n",
    "c = np.array(c)\n",
    "# numpy version\n",
    "#opp = [np.where(np.all((c == -c_),axis=-1))[0][0]  for c_ in c]\n",
    "\n",
    "obst = np.ones((nx,ny)).astype(np.bool)\n",
    "obst[1:-1,1:-1] = False \n",
    "\n",
    "\n",
    "def f_eq(rho,u,c=c,w=w):\n",
    "    cu = np.tensordot(c,u,axes=[1,0])\n",
    "    f = rho * (1 + cu/cs2 + (cu**2)/(2*cs2**2) - np.sum((u**2),axis=0)/(2*cs2) )\n",
    "    return f*w[:,np.newaxis,np.newaxis]\n",
    "\n",
    "T_init_l = lambda x:(np.exp( -((x[0] - .5)**2+(x[1] - .0)**2)/.050 ))\n",
    "rho_init = T_init_l([X,Y])\n",
    "\n",
    "x0,x1 = -2.,2.\n",
    "y0,y1 = -2.,2.\n",
    "\n",
    "X,Y = np.mgrid[0:nx,0:ny]\n",
    "X = x0 + X*(x1-x0)/(nx-1)\n",
    "Y = y0 + Y*(y1-y0)/(ny-1)\n",
    "\n",
    "X,Y = np.meshgrid(np.linspace(x0,x1,nx),np.linspace(y0,y1,ny),indexing='ij')\n",
    "\n",
    "rho_init = T_init_l([X,Y])\n",
    "rho_init[:] = 1.0\n",
    "\n",
    "a = .1\n",
    "b = .4\n",
    "d = .31\n",
    "fx = lambda u,v: u-u**3 - v + d\n",
    "fy = lambda u,v: u-a-b*v\n",
    "\n",
    "#fx = lambda u,v: 5.1\n",
    "#fy = lambda u,v: 1.2\n",
    "\n",
    "u_adv = np.zeros((2,nx,ny))\n",
    "u_adv[0,:,:] = 1/u0*fx(X,Y)\n",
    "u_adv[1,:,:] = 1/u0*fy(X,Y)\n",
    "\n",
    "f = f_eq(rho_init,u_adv,c=c,w=w)\n",
    "\n",
    "u_t = []\n",
    "for iteration in range(1550):\n",
    "\n",
    "    rho = f.sum(axis=0)\n",
    "\n",
    "    fOut = f - omega * (f-f_eq(rho,u_adv))\n",
    "    \n",
    "    for i in range(9):  \n",
    "        fOut[i,obst] = f[opp[i],obst]\n",
    "\n",
    "    for i,(k,l) in enumerate(c):\n",
    "        f[i,:,:] = np.roll(np.roll(fOut[i,:,:],k,axis=0),l,axis=1)\n",
    "        \n",
    "    if iteration%10==0:\n",
    "        u_t.append( rho.copy() )\n"
   ]
  },
  {
   "cell_type": "code",
   "execution_count": null,
   "metadata": {
    "hidden": true
   },
   "outputs": [],
   "source": [
    "%matplotlib notebook\n",
    "import matplotlib.pyplot as plt\n",
    "from ipywidgets.widgets import IntSlider\n",
    "from ipywidgets import interact,Layout\n",
    "style = Layout(width='70%')\n",
    "\n",
    "f,ax = plt.subplots(figsize=(8,6))\n",
    "#ax.imshow(T_init_l([X,Y]),origin='lower')\n",
    "plt_evo = ax.imshow(u_t[0].T,origin='lower',extent=(x0,x1,y0,y1),vmax=12.42,cmap='rainbow')\n",
    "plt_init = ax.contour(X,Y,T_init_l([X,Y]),colors='r')\n",
    "\n",
    "ax.set_aspect(1)\n",
    "\n",
    "@interact(ith=IntSlider(min=0,max=len(u_t)-1,layout=style))\n",
    "def _(ith):\n",
    "    plt.title(r'$\\int_V \\rho(x,y) dxdy =%f$'%np.sum(u_t[ith]))\n",
    "    plt_evo.set_array(u_t[ith].T)\n",
    "    "
   ]
  },
  {
   "cell_type": "code",
   "execution_count": null,
   "metadata": {
    "hidden": true
   },
   "outputs": [],
   "source": []
  },
  {
   "cell_type": "markdown",
   "metadata": {},
   "source": [
    "## in a function"
   ]
  },
  {
   "cell_type": "code",
   "execution_count": null,
   "metadata": {},
   "outputs": [],
   "source": []
  },
  {
   "cell_type": "code",
   "execution_count": null,
   "metadata": {},
   "outputs": [],
   "source": []
  },
  {
   "cell_type": "code",
   "execution_count": null,
   "metadata": {},
   "outputs": [],
   "source": [
    "import numpy as np \n",
    "\n",
    "def D2Q9_solve_adv_diff(Dyf=0.1,u_adv=(1,1),ic=1.0,Niter=100,time_evo=False):\n",
    "    \"\"\"\n",
    "       numpy with matrix indexing (ij)\n",
    "    \"\"\"    \n",
    "    nx,ny = ic.shape\n",
    "    cs2 = 1.0/3.0\n",
    "    omega = 1. / (Dyf/cs2+0.5) # relaxation parameter \n",
    "    # weights\n",
    "    w  =   np.array([4/9., 1/9.,1/9.,1/9.,1/9., 1/36.,1/36.,1/36.,1/36.])\n",
    "\n",
    "    c = [(0,0), (1,0), (0, 1), (-1, 0), (0, -1), (1, 1), (-1, 1), (-1, -1), (1, -1)]\n",
    "    opp = [c.index( (-c_[0],-c_[1]) )  for c_ in c]\n",
    "    c = np.array(c)\n",
    "\n",
    "    obst = np.ones((nx,ny)).astype(np.bool)\n",
    "    obst[1:-1,1:-1] = False \n",
    "\n",
    "\n",
    "    def f_eq(rho,u,c=c,w=w):\n",
    "        cu = np.tensordot(c,u,axes=[1,0])\n",
    "        f = rho * (1 + cu/cs2 + (cu**2)/(2*cs2**2) - np.sum((u**2),axis=0)/(2*cs2) )\n",
    "        return f*w[:,np.newaxis,np.newaxis]\n",
    "\n",
    "    rho_init = np.empty_like( ic )\n",
    "\n",
    "    if type(a)==np.ndarray:\n",
    "        rho_init = ic\n",
    "    else:\n",
    "        rho_init[:] = ic\n",
    "\n",
    "    print(np.sum(rho_init))\n",
    "    f = f_eq(rho_init,u_adv,c=c,w=w)\n",
    "\n",
    "    u_t = []\n",
    "    for iteration in range(Niter):\n",
    "\n",
    "        rho = f.sum(axis=0)\n",
    "\n",
    "        fOut = f - omega * (f-f_eq(rho,u_adv))\n",
    "\n",
    "        for i in range(9):  \n",
    "            fOut[i,obst] = f[opp[i],obst]\n",
    "\n",
    "        for i,(k,l) in enumerate(c):\n",
    "            f[i,:,:] = np.roll(np.roll(fOut[i,:,:],k,axis=0),l,axis=1)\n",
    "\n",
    "        if (iteration%10==0 and time_evo) or iteration==(Niter-1):\n",
    "            u_t.append( rho.copy() )\n",
    "    \n",
    "    return u_t"
   ]
  },
  {
   "cell_type": "code",
   "execution_count": null,
   "metadata": {},
   "outputs": [],
   "source": [
    "u0 = 11.0\n",
    "T_init_l = lambda x:(np.exp( -((x[0] - .5)**2+(x[1] - .0)**2)/.050 ))\n",
    "\n",
    "x0,x1 = -2.,2.\n",
    "y0,y1 = -2.,2.\n",
    "\n",
    "nx = 100\n",
    "ny = 100\n",
    "\n",
    "X,Y = np.meshgrid(np.linspace(x0,x1,nx),np.linspace(y0,y1,ny),indexing='ij')\n",
    "\n",
    "ic = T_init_l([X,Y])\n",
    "\n",
    "a = .1\n",
    "b = .4\n",
    "d = .31\n",
    "fx = lambda u,v: u-u**3 - v + d\n",
    "fy = lambda u,v: u-a-b*v\n",
    "\n",
    "u_adv = np.zeros((2,nx,ny))\n",
    "u_adv[0,:,:] = 1/u0*fx(X,Y)\n",
    "u_adv[1,:,:] = 1/u0*fy(X,Y)\n",
    "\n",
    "%time u_t = D2Q9_solve_adv_diff(Dyf=0.01, u_adv=u_adv, ic=ic, Niter=1000, time_evo=True)"
   ]
  },
  {
   "cell_type": "code",
   "execution_count": null,
   "metadata": {},
   "outputs": [],
   "source": []
  },
  {
   "cell_type": "code",
   "execution_count": null,
   "metadata": {},
   "outputs": [],
   "source": [
    "%matplotlib notebook\n",
    "import matplotlib.pyplot as plt\n",
    "from ipywidgets.widgets import IntSlider\n",
    "from ipywidgets import interact,Layout\n",
    "style = Layout(width='70%')\n",
    "\n",
    "f,ax = plt.subplots(figsize=(8,6))\n",
    "#ax.imshow(T_init_l([X,Y]),origin='lower')\n",
    "plt_evo = ax.imshow(u_t[0].T,origin='lower',extent=(x0,x1,y0,y1),vmax=.2,cmap='rainbow')\n",
    "plt_init = ax.contour(X,Y,T_init_l([X,Y]),colors='r')\n",
    "\n",
    "ax.set_aspect(1)\n",
    "\n",
    "@interact(ith=IntSlider(min=0,max=len(u_t)-1,layout=style))\n",
    "def _(ith):\n",
    "    plt.title(r'$\\int_V \\rho(x,y) dxdy =%f$'%np.sum(u_t[ith]))\n",
    "    plt_evo.set_array(u_t[ith].T)\n",
    "    "
   ]
  },
  {
   "cell_type": "code",
   "execution_count": null,
   "metadata": {},
   "outputs": [],
   "source": []
  },
  {
   "cell_type": "code",
   "execution_count": null,
   "metadata": {},
   "outputs": [],
   "source": [
    "u_t1 = D2Q9_solve_adv_diff(Dyf=0.01, u_adv=u_adv, ic=ic, Niter=1000, time_evo=True)"
   ]
  },
  {
   "cell_type": "code",
   "execution_count": null,
   "metadata": {},
   "outputs": [],
   "source": [
    "u_t2 = D2Q9_solve_adv_diff(Dyf=0.01*0.5, u_adv=0.5*u_adv, ic=ic, Niter=2000, time_evo=True)"
   ]
  },
  {
   "cell_type": "code",
   "execution_count": null,
   "metadata": {},
   "outputs": [],
   "source": [
    "u_t3 = D2Q9_solve_adv_diff(Dyf=0.01/2, u_adv=u_adv[:,::2,::2], ic=ic[::2,::2], Niter=500, time_evo=True)"
   ]
  },
  {
   "cell_type": "markdown",
   "metadata": {},
   "source": [
    "## Peclet number\n",
    "\n",
    "$$Pe = \\frac{u L}{D}$$\n",
    "\n"
   ]
  },
  {
   "cell_type": "code",
   "execution_count": null,
   "metadata": {},
   "outputs": [],
   "source": [
    "%matplotlib notebook\n",
    "import matplotlib.pyplot as plt\n",
    "from ipywidgets.widgets import IntSlider\n",
    "from ipywidgets import interact,Layout\n",
    "style = Layout(width='70%')\n",
    "\n",
    "f,(ax1,ax2) = plt.subplots(ncols=2,figsize=(8,6))\n",
    "plt_evo1 = ax1.imshow(u_t1[0].T,origin='lower',extent=(x0,x1,y0,y1),vmax=.2,cmap='rainbow')\n",
    "\n",
    "plt_evo2 = ax2.imshow(u_t3[0].T,origin='lower',extent=(x0,x1,y0,y1),vmax=.2,cmap='rainbow')\n",
    "\n",
    "ax.set_aspect(1)\n",
    "\n",
    "@interact(ith=IntSlider(min=0,max=len(u_t1)-1,layout=style))\n",
    "def _(ith):\n",
    "    plt.title(r'$\\int_V \\rho(x,y) dxdy =%f$'%np.sum(u_t[ith]))\n",
    "    plt_evo1.set_array(u_t1[ith].T)\n",
    "    plt_evo2.set_array(u_t3[int(ith/2)].T)\n",
    "\n",
    "    "
   ]
  },
  {
   "cell_type": "code",
   "execution_count": null,
   "metadata": {},
   "outputs": [],
   "source": []
  },
  {
   "cell_type": "code",
   "execution_count": null,
   "metadata": {},
   "outputs": [],
   "source": []
  },
  {
   "cell_type": "code",
   "execution_count": null,
   "metadata": {},
   "outputs": [],
   "source": []
  }
 ],
 "metadata": {
  "kernelspec": {
   "display_name": "Python 3",
   "language": "python",
   "name": "python3"
  },
  "language_info": {
   "codemirror_mode": {
    "name": "ipython",
    "version": 3
   },
   "file_extension": ".py",
   "mimetype": "text/x-python",
   "name": "python",
   "nbconvert_exporter": "python",
   "pygments_lexer": "ipython3",
   "version": "3.7.3"
  },
  "nbTranslate": {
   "displayLangs": [
    "en",
    "pl"
   ],
   "hotkey": "alt-t",
   "langInMainMenu": true,
   "sourceLang": "pl",
   "targetLang": "en",
   "useGoogleTranslate": true
  }
 },
 "nbformat": 4,
 "nbformat_minor": 2
}
