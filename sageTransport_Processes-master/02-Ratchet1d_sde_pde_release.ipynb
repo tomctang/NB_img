{
 "cells": [
  {
   "cell_type": "markdown",
   "metadata": {},
   "source": [
    "# Rocked Ratchet (release)"
   ]
  },
  {
   "cell_type": "markdown",
   "metadata": {
    "lang": "en"
   },
   "source": [
    "## Introduction\n",
    "\n",
    "Consider overdamped motion in one dimensional periodic potential dependent explicitely on time:\n",
    "\n",
    "$$ \\dot x = f(x,t) + \\sqrt{2D}\\xi(t),$$\n",
    "\n",
    "where:\n",
    "\n",
    " - $f(x) = -U'(x)$ and the potential is: $$U(x) = -\\frac{1}{2\\pi}(\\sin(2 \\pi x)+ \\frac{1}{4} \\sin(4 \\pi x) + x A \\sin(\\omega t)$$\n",
    " - $\\xi(t)$ - white Gaussian noise with mean zero and $\\langle \\xi(t)\\xi(s)\\rangle=\\delta(t-s)$ correlation function\n",
    " - $D$ is thermal diffusion $D=kT/\\gamma$ (in this case we have $\\gamma=1$)\n",
    "\n",
    "\n",
    "\n",
    "The objective is to calculate the average speed of the molecule in the $v(t) = \\lim_{t\\to\\infty}\\langle x(t)/t \\rangle$ system. Averaging is over the implementation of the system (trajectories) and over time (note that the system explicitly contains time). One option is to calculate the position of the particle after a long time and calculate $v = \\Delta x / \\Delta t$ for each particle.\n",
    "\n",
    "The alternative is to solve the Fokker-Planck equation:\n",
    "\n",
    "$$ \\frac{\\partial P}{\\partial t} = -\\frac{\\partial }{\\partial x}\\left[ f(x,t) P\\right] + D \\frac{\\partial^2 P}{\\partial x^2}$$\n",
    "\n",
    "with periodic boundary condition $P(x)=P(x+L)$, on one period of the system and calculation of speed from the current probability averaged over time (and space):\n",
    "\n",
    "$$ J(x,t) = f(x,t) P - D \\frac{\\partial P}{\\partial x}$$,\n",
    "\n",
    "where $v = \\langle J(x,t) \\rangle_{x,t} L$."
   ]
  },
  {
   "cell_type": "markdown",
   "metadata": {
    "lang": "en"
   },
   "source": [
    "## Problems\n",
    "\n",
    "1. Implement the Euler-Maruyama scheme [link] (https://el.us.edu.pl/ekonofizyka/index.php/MKZR:Stochastyczne_równania_różniczkowe) for the above stochastic equation for CUDA.\n",
    "\n",
    "2. Implement a scheme based on finite differences and explicit integration in time solving the Fokker-Planck equation for CUDA.\n",
    "\n",
    "3. Recreate, for example, Figure 1 from [link] (http://www.physik.uni-augsburg.de/theo1/hanggi/Papers/163.pdf) each method."
   ]
  },
  {
   "cell_type": "markdown",
   "metadata": {},
   "source": [
    "## Numerical integration of Langevin equation\n",
    "\n",
    "The first approach to this problem will be to solve numrically Langevin equation. We will present an algorithm which will be based on numpy module."
   ]
  },
  {
   "cell_type": "code",
   "execution_count": null,
   "metadata": {},
   "outputs": [],
   "source": [
    "%matplotlib inline \n",
    "import numpy as np\n",
    "import matplotlib.pyplot as plt\n",
    "import sympy\n",
    "import  time \n",
    "from ipywidgets import interact, IntSlider\n"
   ]
  },
  {
   "cell_type": "code",
   "execution_count": null,
   "metadata": {},
   "outputs": [],
   "source": [
    "from sympy.codegen.ast import real, float32, float64\n",
    "from sympy.codegen.ast import Declaration, Variable, Pointer\n",
    "\n",
    "var = lambda x,p:sympy.ccode(Declaration(Variable(sympy.Symbol(x), type=p)) )\n",
    "pvar = lambda x,p:sympy.ccode(Declaration(Pointer(sympy.Symbol(x), type=p)) )\n"
   ]
  },
  {
   "cell_type": "code",
   "execution_count": null,
   "metadata": {},
   "outputs": [],
   "source": [
    "precision = float64\n",
    "\n",
    "if precision == float64:\n",
    "    np_prec = np.float64\n",
    "\n",
    "if precision == float32:\n",
    "    np_prec = np.float32\n",
    "\n",
    "\n",
    "def make_U_f(precision=float32, A=0.5, omega=1):\n",
    "    x = sympy.Symbol('x')\n",
    "    t = sympy.Symbol('t')\n",
    "\n",
    "    k = 2*sympy.pi\n",
    "    U = -1/k*(sympy.sin(k*x) + 1/4*sympy.sin(2*k*x)) + x*A*sympy.sin(omega*t)\n",
    "\n",
    "    f = -sympy.diff(U, x, 1) \n",
    "    \n",
    "    U_lamb = sympy.lambdify([x,t ], U, 'numpy')\n",
    "    f_lamb = sympy.lambdify([x,t ], f, 'numpy')\n",
    "    \n",
    "    f_code = sympy.ccode(f,type_aliases={real: precision})\n",
    "\n",
    "\n",
    "    \n",
    "    return U_lamb,f_lamb,f_code,var(\"\",precision),pvar(\"\",precision)\n",
    "\n",
    "omega = 1.0\n",
    "\n",
    "U, f, f_code,fp,pfp = make_U_f(precision=precision, A=1.5, omega=omega)\n",
    "x = np.linspace(-1.2,1.2,100)\n",
    "plt.figure()\n",
    "plt.plot(x,U(x,t=0))\n",
    "plt.show()\n",
    "print(f_code,fp,pfp)"
   ]
  },
  {
   "cell_type": "markdown",
   "metadata": {},
   "source": [
    "Let us prepare numerical values of parameters for the simulation:"
   ]
  },
  {
   "cell_type": "code",
   "execution_count": null,
   "metadata": {},
   "outputs": [],
   "source": [
    "N = 1280\n",
    "\n",
    "T = 2*np.pi/omega\n",
    "n_periods = 261\n",
    "T_end = n_periods*T # integer time period \n",
    "spp = 1000\n",
    "\n",
    "\n",
    "dt = T/spp\n",
    "Dyf = 0.1\n",
    "\n",
    "a = np.sqrt(2*Dyf*dt)\n",
    "x = np.zeros(N)\n",
    "dt,T_end"
   ]
  },
  {
   "cell_type": "code",
   "execution_count": null,
   "metadata": {},
   "outputs": [],
   "source": [
    "nsteps = spp*n_periods\n",
    "nsteps"
   ]
  },
  {
   "cell_type": "code",
   "execution_count": null,
   "metadata": {},
   "outputs": [],
   "source": [
    "cpu_t = time.time()\n",
    "for i in range(nsteps):\n",
    "    t = dt*i\n",
    "    x += f(x,t)*dt + a*np.random.randn(N) \n",
    "cpu_t = time.time() - cpu_t\n",
    "\n",
    "print( cpu_t, (N*nsteps)/cpu_t/1000**2,\" M iterations/sek\" )\n",
    "print('t=',nsteps*dt,\"v =\", np.mean(x)/(nsteps*dt), \"  Deff =\",np.var(x)/(2*nsteps*dt))"
   ]
  },
  {
   "cell_type": "markdown",
   "metadata": {},
   "source": [
    "Having positions of particles at some given time, we can estimate the probability density function. We will use `histogram` function included in  'numpy' module. Note, that the option `density=True` will return normalized probablility density instead counts in intervals."
   ]
  },
  {
   "cell_type": "code",
   "execution_count": null,
   "metadata": {},
   "outputs": [],
   "source": [
    "hist_cpu,xs = np.histogram(x, np.linspace(-50,250,301), density=True)\n",
    "xs = (xs[1:]+xs[:-1])/2\n",
    "\n",
    "plt.figure()\n",
    "\n",
    "plt.plot(xs,hist_cpu)\n",
    "plt.show()"
   ]
  },
  {
   "cell_type": "markdown",
   "metadata": {},
   "source": [
    "## Numerical solution of Fokker Plank equation\n",
    "\n",
    "We will numerically solve the Fokker-Plank equation which is an equivalent descriprion of this problem.\n",
    "For this purpose we will use finite differences on regular grid in space and explicit Euler scheme in time."
   ]
  },
  {
   "cell_type": "code",
   "execution_count": null,
   "metadata": {},
   "outputs": [],
   "source": [
    "import time\n",
    "import numpy as np\n",
    "\n",
    "\n",
    "T = 2*np.pi/omega\n",
    "n_periods = 3\n",
    "total_t = n_periods*T # integer time period \n",
    "\n",
    "spp = 20000\n",
    "dt = T/spp\n",
    "\n",
    "\n",
    "x1,x2 = 0,1\n",
    "\n",
    "N = 100  # space discretization\n",
    "h = (x2-x1)/(N-1) \n",
    "\n",
    "\n",
    "Nsteps = spp*n_periods\n",
    "\n",
    "\n",
    "X = np.linspace(x1, x2, N+1)[:-1]\n",
    "t = np.linspace(0,total_t,Nsteps+1)\n",
    "dt = t[1] - t[0]\n",
    "\n",
    "print( \"N=\",N,\"dt=\",dt,'Nsteps=',Nsteps)\n",
    "\n",
    "u = np.ones(N)\n",
    "\n",
    "tm = time.time()\n",
    "every = 100\n",
    "\n",
    "ulst = []\n",
    "tlst = []\n",
    "flst = []\n",
    "for i in range(Nsteps):\n",
    "  \n",
    "    F = f(X,i*dt)\n",
    "\n",
    "    u[1:-1] = u[1:-1] + dt*( -np.gradient(F*u)[1:-1]/h + Dyf/h**2*np.diff(u,2))\n",
    "\n",
    "    u[0] =  u[0] + dt*(-(F[1]*u[1]-F[-1]*u[-1])/(2*h) + Dyf/h**2*(u[-1]+u[1]-2.0*u[0]) )\n",
    "    u[-1] =  u[-1] + dt*(-(F[0]*u[0]-F[-2]*u[-2])/(2*h) + Dyf/h**2*(u[-2]+u[0]-2.0*u[-1]) )\n",
    "    \n",
    "    if np.nanmax(np.abs(u))>1e6:\n",
    "        break\n",
    "    \n",
    "    if i%every == 0:\n",
    "        ulst.append(u.copy())\n",
    "        tlst.append(i*dt)\n",
    "        flst.append(f(X,i*dt))\n",
    "        print(i,end='\\r')\n",
    "\n",
    "tm = time.time()-tm\n",
    "print (\"Saved \",len(tlst), \" from \", Nsteps, \"h= \",h)\n",
    "\n",
    "print( tm,\"s\")"
   ]
  },
  {
   "cell_type": "markdown",
   "metadata": {},
   "source": [
    "## Comparison of results\n",
    "\n",
    "### Probability density function\n",
    "\n",
    "We will now compare $P(x,t)$ obtained in above algorithm with estimation of density of particles computed from SDE simulation."
   ]
  },
  {
   "cell_type": "code",
   "execution_count": null,
   "metadata": {},
   "outputs": [],
   "source": [
    "x_p = np.fmod(x, 1.0)\n",
    "plt.figure(figsize=(9,4))\n",
    "hist,xs = np.histogram(x_p, np.linspace(0,1,240), density=True)\n",
    "xs = (xs[1:]+xs[:-1])/2\n",
    "plt.plot(xs,hist)\n",
    "plt.plot(X,u)\n"
   ]
  },
  {
   "cell_type": "markdown",
   "metadata": {},
   "source": [
    "### Average velocity in the system\n",
    "\n",
    "We can compare probability flux $J(x,t)$ with average velocity obtained from SDE simulation."
   ]
  },
  {
   "cell_type": "code",
   "execution_count": null,
   "metadata": {},
   "outputs": [],
   "source": [
    "Js =  [ np.sum(h*(ft*u - Dyf/h*np.gradient(u) )) for ft,u in zip(flst,ulst)]\n",
    "Js  = np.array(Js)\n",
    "print (tm,\"s\")"
   ]
  },
  {
   "cell_type": "code",
   "execution_count": null,
   "metadata": {},
   "outputs": [],
   "source": [
    "np.mean(Js)"
   ]
  },
  {
   "cell_type": "code",
   "execution_count": null,
   "metadata": {},
   "outputs": [],
   "source": [
    "plt.plot(tlst,Js)"
   ]
  },
  {
   "cell_type": "code",
   "execution_count": null,
   "metadata": {},
   "outputs": [],
   "source": [
    "np.mean(Js),np.polyfit(tlst,np.cumsum(Js)*dt,1)"
   ]
  },
  {
   "cell_type": "markdown",
   "metadata": {},
   "source": [
    "Values are close, but higher precision is required."
   ]
  },
  {
   "cell_type": "markdown",
   "metadata": {},
   "source": [
    "\\newpage"
   ]
  }
 ],
 "metadata": {
  "kernelspec": {
   "display_name": "Python 3",
   "language": "python",
   "name": "python3"
  },
  "language_info": {
   "codemirror_mode": {
    "name": "ipython",
    "version": 3
   },
   "file_extension": ".py",
   "mimetype": "text/x-python",
   "name": "python",
   "nbconvert_exporter": "python",
   "pygments_lexer": "ipython3",
   "version": "3.7.3"
  },
  "nbTranslate": {
   "displayLangs": [
    "en",
    "pl"
   ],
   "hotkey": "alt-t",
   "langInMainMenu": true,
   "sourceLang": "pl",
   "targetLang": "en",
   "useGoogleTranslate": true
  }
 },
 "nbformat": 4,
 "nbformat_minor": 2
}
