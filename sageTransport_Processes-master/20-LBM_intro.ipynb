{
 "cells": [
  {
   "cell_type": "markdown",
   "metadata": {
    "slideshow": {
     "slide_type": "slide"
    }
   },
   "source": [
    "# Lattice Boltzmann Method\n",
    "\n",
    "\n",
    "Lattice Boltzmann methods (LBM) is a class of computational fluid dynamics (CFD) methods for fluid simulation. Instead of solving the Navier–Stokes equations directly, a fluid density on a lattice is simulated with streaming and collision (relaxation) processes.\n",
    "\n",
    "\n",
    "\n"
   ]
  },
  {
   "cell_type": "markdown",
   "metadata": {
    "lang": "en"
   },
   "source": [
    "## Reynolds number and scaling of equations\n",
    "\n",
    "Navier Stokes equations for incompressible fluid read:\n",
    "\n",
    " $$\\rho\\left(\\frac{\\partial \\vec{u}}{\\partial t}+(\\vec{u}\\cdot\\nabla)\\vec{u}\\right)=-\\vec\\nabla p + \\eta \\Delta\\vec{u}.$$\n",
    "\n",
    "$\\vec u^{\\ast}=\\displaystyle\\frac{\\vec u}{u_0}$, $x^{\\ast}=\\displaystyle \\frac{x}{l}$, $p^{\\ast}=\\displaystyle\\frac{p}{\\rho u_0^2}$"
   ]
  },
  {
   "cell_type": "markdown",
   "metadata": {
    "slideshow": {
     "slide_type": "subslide"
    }
   },
   "source": [
    "In two dimensions:\n",
    "\n",
    "\\begin{eqnarray}\\rho\\left( \\frac{\\partial u}{\\partial t}+u\\frac{\\partial u}{\\partial x}+v\\frac{\\partial u}{\\partial y}\\right) = -\\frac{\\partial p}{\\partial x}+\\eta\\left(\\frac{\\partial^2 u}{\\partial x^2}+\\frac{\\partial^2 u}{\\partial y^2}\\right) \\\\ \n",
    "\\rho\\left(\\frac{\\partial v}{\\partial t}+u\\frac{\\partial v}{\\partial x}+v\\frac{\\partial v}{\\partial y}\\right) = -\\frac{\\partial p}{\\partial y}+\\eta\\left(\\frac{\\partial^2 v}{\\partial x^2}+\\frac{\\partial^2 v}{\\partial y^2}\\right) \\end{eqnarray} \n",
    "\n",
    "$$\\vec u = (u,v)$$"
   ]
  },
  {
   "cell_type": "markdown",
   "metadata": {
    "slideshow": {
     "slide_type": "slide"
    }
   },
   "source": [
    "We have:\n",
    "\n",
    "$\\tau = \\displaystyle\\frac{l}{u_0}$, więc $t^{\\ast}=\\displaystyle \\frac{t}{\\tau} = \\displaystyle \\frac{t u_0}{l}$\n"
   ]
  },
  {
   "cell_type": "markdown",
   "metadata": {
    "slideshow": {
     "slide_type": "slide"
    }
   },
   "source": [
    "$\\vec u ={\\vec u^{\\ast}}{u_0}$; $x = x^{\\ast}{l}$; $p= p^{\\ast} \\rho u_0^2$; $t= t^{\\ast}\\displaystyle\\frac{l}{u_0}$\n",
    "\n",
    "$$\\frac{\\partial}{\\partial t} = \\frac{\\partial}{\\partial (\\displaystyle\\frac{l}{u_0}t^{\\ast})} =\\frac{u_0}{l}\\frac{\\partial}{\\partial t^{\\ast}}$$\n",
    "\n",
    "$$\\frac{\\partial}{\\partial x} = \\frac{\\partial}{\\partial (x^{\\ast}\\displaystyle l)} =\\frac{1}{l}\\frac{\\partial}{\\partial x^{\\ast}}$$"
   ]
  },
  {
   "cell_type": "markdown",
   "metadata": {
    "slideshow": {
     "slide_type": "slide"
    }
   },
   "source": [
    "$$\\rho\\left( \\frac{u_0^2}{l}\\frac{\\partial {\\vec u^{\\ast}}}{\\partial t^*}+\\frac{u_0^2}{l}(\\vec{u^*}\\cdot\\nabla^*)\\vec{u^*}\\right)=-\\frac{1}{l}\\vec\\nabla (p^{\\ast} \\rho u_0^2) + \\eta \\frac{u_0}{l^2} \\Delta\\vec{u}.$$\n",
    "\n",
    "$$\\frac{\\partial {\\vec u^{\\ast}}}{\\partial t^*}+(\\vec{u^*}\\cdot\\nabla^*)\\vec{u^*}=-\\vec\\nabla p^{\\ast} +  \\frac{\\eta}{\\rho l u_0} \\Delta\\vec{u^*}.$$\n",
    "\n"
   ]
  },
  {
   "cell_type": "markdown",
   "metadata": {
    "lang": "en"
   },
   "source": [
    "## Reynolds number\n",
    " \n",
    " We are introducing a new variable: $\\frac{1}{Re} = \\frac{\\eta}{\\rho l u_0}$\n",
    " \n",
    " **$$Re = \\frac{\\rho l u_0}{\\eta}$$**\n",
    " \n",
    " - $\\eta$ - dynamic viscosity\n",
    " - $\\nu =\\frac{\\eta}{\\rho}$ - kinematic viscosity\n",
    "\n",
    "**$$Re = \\frac{l u_0}{\\nu}$$**"
   ]
  },
  {
   "cell_type": "markdown",
   "metadata": {
    "lang": "en"
   },
   "source": [
    "## Viscosity\n",
    " \n",
    "  \n",
    " \n",
    " - $\\eta$ - dynamic viscosity [$Pa\\cdot s$]\n",
    " - $\\nu =\\displaystyle\\frac{\\eta}{\\rho}$ - kinematic viscosity [$\\displaystyle\\frac{m^2}{s}$] - interpretation - velocity diffusion constant\n",
    " \n",
    " Navier-Stokes equation:\n",
    " \n",
    " $$\\frac{\\partial {\\vec u^{\\ast}}}{\\partial t^*}+(\\vec{u^*}\\cdot\\nabla^*)\\vec{u^*}=-\\vec\\nabla p^{\\ast} +  \\frac{1}{Re} \\Delta\\vec{u}.$$"
   ]
  },
  {
   "cell_type": "markdown",
   "metadata": {
    "lang": "en"
   },
   "source": [
    "## Boltzmann equation\n",
    "\n",
    "Kinetic description of gases.\n",
    "\n",
    "We have the $$f(\\vec x,\\vec p)$$ function\n",
    "\n",
    "*Interpretation:* $$f(\\vec x,\\vec p) dx dy dz dp_xdp_ydp_z$$\n",
    "- is the number of molecules in about shoots and positions in the volume $dx dy dz dp_x dp_y dp_z$\n",
    " \n",
    " \n",
    "The Boltzmann equation describes the evolution of this function over time:\n",
    "\n",
    "\n",
    "$$\\frac{\\partial f}{\\partial t} + (\\vec v\\cdot\\vec \\nabla) f +m(\\vec F \\cdot\\vec \\nabla_v) f = \\Omega(f)$$\n",
    "\n",
    "###  Bhatnagar-Gross-Krook (BGK) approximation\n",
    "\n",
    "$$\\Omega(f)=-\\frac{1}{\\tau}(f-f_{eq})$$"
   ]
  },
  {
   "cell_type": "markdown",
   "metadata": {
    "lang": "en"
   },
   "source": [
    "## Equilibrium function\n",
    "\n",
    "\n",
    "$$f_{eq}(\\vec v) = \\left(\\frac{m}{2\\pi k_B T}\\right)^{d/2} \\displaystyle e^{-\\displaystyle\\frac{m (\\vec v-\\vec u)^2}{2k_B T}}$$\n",
    "\n",
    " - $\\vec v$ - local speed\n",
    " - $\\vec u$ - macroscopic speed"
   ]
  },
  {
   "cell_type": "markdown",
   "metadata": {
    "lang": "pl",
    "slideshow": {
     "slide_type": "slide"
    }
   },
   "source": [
    "## The Lattice Boltzmann Equation\n",
    "\n",
    "Równanie Boltzmana na siatce przestrzennej z niewielką liczbą wektorów prędkości.\n",
    "\n",
    "$$ f_i(\\vec x+\\vec c_i\\Delta t,t+\\Delta t) = f_i(\\vec x,t) -\\frac{\\Delta t}{\\tau}(f_i-f_i^{eq})$$\n",
    "\n",
    "$$f_i^{eq}(\\vec x,t) = \\rho w_i \\left(1 + \\frac{\\vec u\\cdot \\vec c_i}{c_s^2}+\\frac{ (\\vec u\\cdot \\vec c_i)^2}{2c_s^4}-\\frac{\\vec u\\cdot \\vec u}{2c_s^2}\\right)$$\n",
    "\n",
    "$$ \\nu_{LB} = c_s^2 (\\tau - \\frac{1}{2})$$"
   ]
  },
  {
   "cell_type": "markdown",
   "metadata": {
    "slideshow": {
     "slide_type": "slide"
    }
   },
   "source": [
    "## Collision and Streaming\n",
    "\n",
    "Równanie:\n",
    "\n",
    "$$f_i(\\vec x+\\vec c_i\\Delta t,t+\\Delta t) = f_i(\\vec x,t) -\\frac{\\Delta t}{\\tau}(f_i-f_i^{eq})$$\n",
    "\n",
    "może byc przedstawione jako dwa kroki\n",
    "\n",
    " 1. Kolizja (collition):\n",
    "  $$ f^*_i(\\vec x,t)  = f_i(\\vec x,t) -\\frac{\\Delta t}{\\tau}(f_i(\\vec x,t)-f_i^{eq}(\\vec x,t))$$\n",
    " 2. Propagacja (streaming):\n",
    "  $$ f_i(\\vec x+\\vec c_i\\Delta t,t+\\Delta t) = f^*_i(\\vec x,t)$$\n",
    "\n"
   ]
  },
  {
   "cell_type": "markdown",
   "metadata": {
    "lang": "pl"
   },
   "source": [
    "## The Lattice Boltzmann Equation\n",
    "\n",
    "Boltzman equation on a spatial grid with a small number of velocity vectors.\n",
    "\n",
    "$$f_i(\\vec x+\\vec c_i\\Delta t,t+\\Delta t) = f_i(\\vec x,t) -\\frac{\\Delta t}{\\tau}(f_i-f_i^{eq})$$\n",
    "\n",
    "$$f_i^{eq}(\\vec x,t) = \\rho w_i \\left(1 + \\frac{\\vec u\\cdot \\vec c_i}{c_s^2}+\\frac{ (\\vec u\\cdot \\vec c_i)^2}{2c_s^4}-\\frac{\\vec u\\cdot \\vec u}{2c_s^2}\\right)$$\n",
    "\n",
    "$$\\nu_{LB} = c_s^2 (\\tau - \\frac{1}{2})$$"
   ]
  },
  {
   "cell_type": "markdown",
   "metadata": {
    "lang": "en"
   },
   "source": [
    "## Relaxation\n",
    "\n",
    "Relaxation introduces diffusion.\n",
    "\n",
    "$$ f_i(\\vec x+\\vec c_i\\Delta t,t+\\Delta t) = f_i(\\vec x,t) -\\omega (f_i-f_i^{eq})$$\n",
    "\n",
    " - $\\omega=0$ - no relaxation\n",
    " - $\\omega<1$ - monotonic relaxation towards $f^{eq}$\n",
    " - $\\omega=1$ - complete relaxation - $f \\to f^{eq}$\n",
    " - $\\omega>1$ - \"overrelaxation\" we subtract more than \"need\" $f^{eq}$, oscillations\n",
    " - $\\omega=2$ - loss of stability"
   ]
  },
  {
   "cell_type": "markdown",
   "metadata": {
    "lang": "en"
   },
   "source": [
    "## The Lattice Boltzmann Equation\n",
    "\n",
    "Boltzman equation on a spatial grid with a small number of velocity vectors.\n",
    "\n",
    "$$f_i(\\vec x+\\vec c_i\\Delta t,t+\\Delta t) = f_i(\\vec x,t) -\\frac{\\Delta t}{\\tau}(f_i-f_i^{eq})$$\n",
    "\n",
    "$$f_i^{eq}(\\vec x,t) = \\rho w_i \\left(1 + \\frac{\\vec u\\cdot \\vec c_i}{c_s^2}+\\frac{ (\\vec u\\cdot \\vec c_i)^2}{2c_s^4}-\\frac{\\vec u\\cdot \\vec u}{2c_s^2}\\right)$$\n",
    "\n",
    "$$\\nu_{LB} = c_s^2 (\\tau - \\frac{1}{2})$$"
   ]
  },
  {
   "cell_type": "markdown",
   "metadata": {
    "slideshow": {
     "slide_type": "slide"
    }
   },
   "source": [
    "## LBM - lattices:  D2Q9  D3Q15  D3Q19\n",
    "\n",
    "![D2Q9](images/lattices.png)"
   ]
  },
  {
   "cell_type": "markdown",
   "metadata": {
    "lang": "en"
   },
   "source": [
    "## The Lattice Boltzmann Equation - macro vs. micro\n",
    "\n",
    " - $\\nu_{LB} = c_s^2 (\\tau - \\displaystyle\\frac{1}{2})$ - microscopic relaxation and macroscopic viscosity\n",
    " - Moments\n",
    "   - zero gives density: $\\rho(x,t) = \\displaystyle\\sum_{i=1}^{i=Q} f_i(x,t)$\n",
    "   - first speed: $\\rho(x,t) \\vec u(x,t) = \\displaystyle \\sum_{i=1}^{i=Q} f_i(x,t) \\vec c_i$\n",
    " - $p_{lu} = c_s^2 \\rho_{lu}$ - equation of state ($\\frac{p}{\\rho} = k_B T$)"
   ]
  },
  {
   "cell_type": "markdown",
   "metadata": {
    "lang": "en"
   },
   "source": [
    "## LBM Algorithm\n",
    "\n",
    "Distribution initialization from macroscopic fields\n",
    "\n",
    "    \n",
    "   - relaxation for each node\n",
    "   - propagation of distribution over the network\n",
    "   - I / O, calculation of macroscopic quantities\n",
    "   - boundary conditions"
   ]
  },
  {
   "cell_type": "code",
   "execution_count": null,
   "metadata": {
    "slideshow": {
     "slide_type": "slide"
    }
   },
   "outputs": [],
   "source": [
    "%matplotlib inline \n",
    "import numpy as np\n",
    "import matplotlib.pyplot as plt\n",
    "\n",
    "tau = np.linspace(1e-4,4)\n",
    "plt.figure(figsize=(7,6))\n",
    "cs2 = 1/1.\n",
    "plt.plot(cs2*(tau-0.5),1/tau,'r',label=r'$\\omega(\\nu)$')\n",
    "plt.plot(cs2*(tau-0.5),tau,'b',label=r'$\\tau(\\nu)$')\n",
    "plt.axvline(.0,linestyle='dashed', linewidth=.6,color='black')\n",
    "plt.axvline(cs2*0.5,linestyle='dashed', linewidth=.6,color='black')\n",
    "\n",
    "plt.axhline(2.,linestyle='dashed', linewidth=.6,color='black')\n",
    "plt.axhline(1.,linestyle='dashed', linewidth=.6,color='black')\n",
    "\n",
    "plt.ylim(0,5)\n",
    "plt.legend()\n",
    "plt.xlabel(r'$Dyf,\\nu_{LB}$')\n",
    "\n",
    "\n",
    "plt.show()"
   ]
  },
  {
   "cell_type": "markdown",
   "metadata": {
    "lang": "en"
   },
   "source": [
    "# Scaling, advection-diffusion equation  \n",
    "\n",
    "$$\\frac{\\partial T}{\\partial t} = -\\frac{\\partial (u T)}{\\partial x} + D \\frac{\\partial^2 T}{\\partial x^2}$$"
   ]
  },
  {
   "cell_type": "markdown",
   "metadata": {
    "slideshow": {
     "slide_type": "slide"
    }
   },
   "source": [
    "\n",
    "\n",
    "\n",
    "\n",
    "$u ={ u^{\\ast}}{u_0}$; $x = x^{\\ast}{l}$;$t= t^{\\ast}\\displaystyle\\frac{l}{u_0}$\n",
    "\n",
    "$$\\frac{\\partial}{\\partial t} = \\frac{\\partial}{\\partial (\\displaystyle\\frac{l}{u_0}t^{\\ast})} =\\frac{u_0}{l}\\frac{\\partial}{\\partial t^{\\ast}}  $$\n",
    "\n",
    "$$ \\frac{\\partial}{\\partial x} = \\frac{\\partial}{\\partial (x^{\\ast}\\displaystyle l)} =\\frac{1}{l}\\frac{\\partial}{\\partial x^{\\ast}}$$\n",
    "\n",
    "$$\\frac{\\partial T}{\\partial t^*} = -\\frac{\\partial (u^* T)}{\\partial x^*} +  \\frac{D}{u_0 l }\\frac{\\partial^2 T}{\\partial x^{*2}}$$\n",
    "\n",
    "$$Pe = \\frac{u_0 l}{D }$$\n",
    "\n",
    "$$\\frac{\\partial T}{\\partial t^*} = -\\frac{\\partial (u^* T)}{\\partial x^*} +  \\frac{1}{Pe}\\frac{\\partial^2 T}{\\partial x^{*2}}$$"
   ]
  },
  {
   "cell_type": "markdown",
   "metadata": {},
   "source": [
    "\\newpage"
   ]
  }
 ],
 "metadata": {
  "celltoolbar": "Slideshow",
  "kernelspec": {
   "display_name": "Python 3",
   "language": "python",
   "name": "python3"
  },
  "language_info": {
   "codemirror_mode": {
    "name": "ipython",
    "version": 3
   },
   "file_extension": ".py",
   "mimetype": "text/x-python",
   "name": "python",
   "nbconvert_exporter": "python",
   "pygments_lexer": "ipython3",
   "version": "3.6.7"
  },
  "nbTranslate": {
   "displayLangs": [
    "en",
    "pl"
   ],
   "hotkey": "alt-t",
   "langInMainMenu": true,
   "sourceLang": "pl",
   "targetLang": "en",
   "useGoogleTranslate": true
  }
 },
 "nbformat": 4,
 "nbformat_minor": 2
}
