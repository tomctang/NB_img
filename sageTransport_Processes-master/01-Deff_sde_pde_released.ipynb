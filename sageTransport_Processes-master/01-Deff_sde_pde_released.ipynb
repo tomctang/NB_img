{
 "cells": [
  {
   "cell_type": "markdown",
   "metadata": {
    "colab_type": "text",
    "id": "ZSd5UbrfQI1J"
   },
   "source": [
    "# Giant Diffusion in Tilted Periodic Potentials"
   ]
  },
  {
   "cell_type": "markdown",
   "metadata": {
    "colab_type": "text",
    "id": "BD0THrS9QI1L",
    "lang": "en"
   },
   "source": [
    "## Introduction\n",
    "\n",
    "Consider the overdamped motion of particle in the one dimensional  periodic potential after the influence of a constant force, described by the following Langevien equation:\n",
    "\n",
    "$$ \\dot x = f(x) + \\sqrt{2D}\\xi(t),$$\n",
    "\n",
    "where:\n",
    "\n",
    " - $f(x) = -U'(x)$ and the potential is $U(x) = \\sin(x) - F x$\n",
    " - $xi(t)$ - white Gaussian noise with mean zero and $<\\xi(t)\\xi(s)>=\\delta(t-s)$ correlation function\n",
    " - $D$ is the thermal diffusion of $D=kT/\\gamma$ (in this case we have $\\gamma=1$)\n",
    "\n",
    "We want to obtain an effective coarse grained coefficient\n",
    "\n",
    "$$D_{eff} =  \\lim_{t\\to\\infty} \\frac{\\langle (x(t) - m(t))^2 \\rangle}{t}$$\n",
    "\n",
    "where:\n",
    "\n",
    " - $m(t) = \\langle x(t) \\rangle$\n",
    " - averaging is over the realization of the system (trajectories)\n",
    " \n",
    "This system shows the phenomenons of $D_{eff}$ growth in the $D\\to0$ boundary\n",
    "\n",
    "https://journals.aps.org/prl/abstract/10.1103/PhysRevLett.87.010602\n",
    "\n",
    "\n",
    "\n",
    "\n",
    "## Problems\n",
    "\n",
    "1. Implement the Euler-Maruyama scheme [link](https://el.us.edu.pl/ekonofizyka/index.php/MKZR:Stochastyczne_r%C3%B3wnania_r%C3%B3%C5%BCniczkowe) for the above stochastic equation for CUDA.\n",
    "\n",
    "2. Implement a scheme based on finite differences and explicit integration in time solving the Fokker-Planck equation for CUDA.\n",
    "\n",
    "3. Recreate, for example, Figure 1 from [PhysRevLett.87.010602] (https://journals.aps.org/prl/abstract/10.1103/PhysRevLett.87.010602) for each method."
   ]
  },
  {
   "cell_type": "code",
   "execution_count": null,
   "metadata": {
    "colab": {},
    "colab_type": "code",
    "id": "Evw7lw_rQI1M"
   },
   "outputs": [],
   "source": [
    "%matplotlib inline \n",
    "import numpy as np\n",
    "import matplotlib.pyplot as plt\n",
    "import sympy\n",
    "import time "
   ]
  },
  {
   "cell_type": "code",
   "execution_count": null,
   "metadata": {
    "colab": {
     "base_uri": "https://localhost:8080/",
     "height": 752
    },
    "colab_type": "code",
    "id": "HQBNufVJQVtU",
    "outputId": "8801dad3-5d54-44af-9bea-1e419892b6d2"
   },
   "outputs": [],
   "source": [
    "!pip install --upgrade sympy\n",
    "!pip install pycuda"
   ]
  },
  {
   "cell_type": "code",
   "execution_count": null,
   "metadata": {
    "colab": {},
    "colab_type": "code",
    "id": "Y4zUt9YyQI1P"
   },
   "outputs": [],
   "source": [
    "from sympy.codegen.ast import real, float32, float64\n",
    "from sympy.codegen.ast import Declaration, Variable, Pointer\n",
    "\n",
    "var = lambda x,p:sympy.ccode(Declaration(Variable(sympy.Symbol(x), type=p)) )\n",
    "pvar = lambda x,p:sympy.ccode(Declaration(Pointer(sympy.Symbol(x), type=p)) )"
   ]
  },
  {
   "cell_type": "code",
   "execution_count": null,
   "metadata": {
    "colab": {
     "base_uri": "https://localhost:8080/",
     "height": 286
    },
    "colab_type": "code",
    "id": "WO9RrUEvQI1R",
    "outputId": "a7aa7700-9dc5-40d1-f066-6d860821b133"
   },
   "outputs": [],
   "source": [
    "precision = float32\n",
    "\n",
    "if precision == float64:\n",
    "    np_prec = np.float64\n",
    "\n",
    "if precision == float32:\n",
    "    np_prec = np.float32\n",
    "\n",
    "\n",
    "def make_U_f(precision=float32):\n",
    "    x = sympy.Symbol('x')\n",
    "    U = sympy.sin(x) - 1.*x\n",
    "\n",
    "    f = -sympy.diff(U, x, 1) \n",
    "    \n",
    "    U_lamb = sympy.lambdify([x, ], U, 'numpy')\n",
    "    f_lamb = sympy.lambdify([x, ], f, 'numpy')\n",
    "    \n",
    "    f_code = sympy.ccode(f,type_aliases={real: precision})\n",
    "\n",
    "\n",
    "    \n",
    "    return U_lamb,f_lamb,f_code,var(\"\",precision),pvar(\"\",precision)\n",
    "\n",
    "U, f, f_code,fp,pfp = make_U_f(precision=precision)\n",
    "x = np.linspace(-7,7,100)\n",
    "plt.figure()\n",
    "plt.plot(x,U(x))\n",
    "plt.show()\n",
    "print(f_code,fp,pfp)"
   ]
  },
  {
   "cell_type": "code",
   "execution_count": null,
   "metadata": {
    "colab": {
     "base_uri": "https://localhost:8080/",
     "height": 34
    },
    "colab_type": "code",
    "id": "5AKo5BtwQI1T",
    "outputId": "50a44171-7f9f-4cad-b738-c6cb93e42821"
   },
   "outputs": [],
   "source": [
    "print(f_code,fp,pfp)"
   ]
  },
  {
   "cell_type": "code",
   "execution_count": null,
   "metadata": {
    "colab": {
     "base_uri": "https://localhost:8080/",
     "height": 34
    },
    "colab_type": "code",
    "id": "8QUyhcb1QI1V",
    "outputId": "e0d2f73e-08a0-45d3-e5c3-ad8778b339b4"
   },
   "outputs": [],
   "source": [
    "print(f([1,2,3]))"
   ]
  },
  {
   "cell_type": "markdown",
   "metadata": {
    "colab_type": "text",
    "id": "yQL1oinvQI1X",
    "lang": "en"
   },
   "source": [
    "## Langevin equation"
   ]
  },
  {
   "cell_type": "code",
   "execution_count": null,
   "metadata": {
    "colab": {},
    "colab_type": "code",
    "id": "Rw8Y_J8XQI1Y"
   },
   "outputs": [],
   "source": [
    "N = 12800\n",
    "nsteps = 50000\n",
    "dt = 0.005\n",
    "Dyf = 0.01\n",
    "a = np.sqrt(2*Dyf*dt)\n",
    "x = np.zeros(N)"
   ]
  },
  {
   "cell_type": "code",
   "execution_count": null,
   "metadata": {
    "colab": {
     "base_uri": "https://localhost:8080/",
     "height": 34
    },
    "colab_type": "code",
    "id": "7f7UkoTFQI1a",
    "outputId": "881790bb-0aa9-4ff5-8e96-3460cdf8a3ee"
   },
   "outputs": [],
   "source": [
    "cpu_t = time.time()\n",
    "for i in range(nsteps):\n",
    "    x += f(x)*dt + a*np.random.randn(N)\n",
    "cpu_t = time.time() - cpu_t\n",
    "\n",
    "print( cpu_t, (N*nsteps)/cpu_t/1000**2,\" M iterations/sek\" )\n",
    "dt_mc = dt"
   ]
  },
  {
   "cell_type": "markdown",
   "metadata": {
    "colab_type": "text",
    "id": "0rdCWc5uQI1d",
    "lang": "en"
   },
   "source": [
    "## Fokker-Planck equation"
   ]
  },
  {
   "cell_type": "code",
   "execution_count": null,
   "metadata": {
    "colab": {
     "base_uri": "https://localhost:8080/",
     "height": 68
    },
    "colab_type": "code",
    "id": "d6C2aayIQI1d",
    "outputId": "03955e15-579d-4638-fa41-b277cc8fdfbf"
   },
   "outputs": [],
   "source": [
    "import time\n",
    "import numpy as np\n",
    "\n",
    "x1,x2 = -2*np.pi,30*np.pi\n",
    "\n",
    "s = int((x2-x1)/(2*np.pi))\n",
    "N = s*250  # space discretization\n",
    "h = (x2-x1)/(N-1) \n",
    " \n",
    "total_t = nsteps*dt # from prev. sim!\n",
    "\n",
    "Nsteps = 1000*int(total_t)\n",
    "\n",
    "X = np.linspace(x1, x2, N+1)[:-1]\n",
    "t = np.linspace(0,total_t,Nsteps)\n",
    "dt = t[1] - t[0]\n",
    "\n",
    "print( \"N =\",N,\"dt =\",dt,'Nsteps =',Nsteps)\n",
    "\n",
    "F = f(X)\n",
    "u = np.zeros(N)\n",
    "i0 = np.where(np.isclose(X,0))[0][0]\n",
    "u[i0:i0+1] = 1.0/h\n",
    "every = 100\n",
    "Tlst = []\n",
    "\n",
    "tm = time.time()\n",
    "for i in range(Nsteps):\n",
    "    At = 1.0\n",
    "    if i%every == 0:\n",
    "        Tlst.append(u.copy())\n",
    " \n",
    "    u[1:-1] = u[1:-1] + dt*( -np.gradient(F*u)[1:-1]/h + Dyf/h**2*np.diff(u,2))\n",
    "\n",
    "    #u[0] =  u[0] + dt*(-At*(F[1]*u[1]-F[-1]*u[-1])/(2*h) + Dyf/h**2*(u[-1]+u[1]-2.0*u[0]) )\n",
    "    #u[-1] =  u[-1] + dt*(-At*(F[0]*u[0]-F[-2]*u[-2])/(2*h) + Dyf/h**2*(u[-2]+u[0]-2.0*u[-1]) )\n",
    "\n",
    "tm = time.time()-tm\n",
    "print (\"Saved \",len(Tlst), \" from \", Nsteps, \"h= \",h)\n",
    "\n",
    "print( tm,\"s\")"
   ]
  },
  {
   "cell_type": "markdown",
   "metadata": {
    "colab_type": "text",
    "id": "j-2QdjGfQI1g"
   },
   "source": [
    "Now we can compute histograms of particle positions:"
   ]
  },
  {
   "cell_type": "code",
   "execution_count": null,
   "metadata": {
    "colab": {
     "base_uri": "https://localhost:8080/",
     "height": 71
    },
    "colab_type": "code",
    "id": "lNlYjRB-QI1h",
    "outputId": "23d55215-bf00-4e5c-f143-632de438c364"
   },
   "outputs": [],
   "source": [
    "hist_cpu,xs = np.histogram(x, np.linspace(0,100,1300), normed=True)\n",
    "xs = (xs[1:]+xs[:-1])/2"
   ]
  },
  {
   "cell_type": "code",
   "execution_count": null,
   "metadata": {
    "colab": {
     "base_uri": "https://localhost:8080/",
     "height": 271
    },
    "colab_type": "code",
    "id": "kyQfQCjTQI1j",
    "outputId": "9b3f85db-2764-469d-b4f0-03d70f109f5c"
   },
   "outputs": [],
   "source": [
    "plt.figure(figsize=(12,4))\n",
    "\n",
    "plt.plot(X,u)\n",
    "plt.plot(xs,hist_cpu)\n",
    "plt.ylim(0,.4)\n",
    "\n",
    "ax = plt.gca()\n",
    "fig = plt.gcf()\n",
    "import matplotlib.ticker as tck\n",
    "ax.xaxis.set_minor_locator(tck.MultipleLocator(base=np.pi))\n",
    "ax.xaxis.set_major_locator(tck.MultipleLocator(base=2*np.pi))\n",
    "ax.xaxis.set_major_formatter(tck.FuncFormatter(lambda x,pos: '%g $\\pi$'%(x/(np.pi))))\n",
    "plt.show()"
   ]
  },
  {
   "cell_type": "markdown",
   "metadata": {
    "colab_type": "text",
    "id": "2AqfHo7dQI1m",
    "lang": "en"
   },
   "source": [
    "### Results:\n",
    "\n",
    "Averages calculated from the $P(x)$ (`u`) distribution:"
   ]
  },
  {
   "cell_type": "code",
   "execution_count": null,
   "metadata": {
    "colab": {
     "base_uri": "https://localhost:8080/",
     "height": 34
    },
    "colab_type": "code",
    "id": "o24-uEw5QI1m",
    "outputId": "83d2676e-f282-4f8c-b3c9-ddb2fe0d9756"
   },
   "outputs": [],
   "source": [
    "print ('t=',dt*Nsteps,\"v =\", np.sum(X*u)*h/(dt*Nsteps), \"  Deff =\",(h*np.sum((X-np.sum(X*u)*h)**2*u))/(2*dt*Nsteps) )"
   ]
  },
  {
   "cell_type": "markdown",
   "metadata": {
    "colab_type": "text",
    "id": "wtKChoGFQI1o",
    "lang": "en"
   },
   "source": [
    "Means after particles from the simulation of Langenvin equation:"
   ]
  },
  {
   "cell_type": "code",
   "execution_count": null,
   "metadata": {
    "colab": {
     "base_uri": "https://localhost:8080/",
     "height": 34
    },
    "colab_type": "code",
    "id": "X1_BfTbCQI1p",
    "outputId": "2124aa7b-b510-47db-e0a1-059f955db455"
   },
   "outputs": [],
   "source": [
    "print('t=',nsteps*dt_mc,\"v =\", np.mean(x)/(nsteps*dt_mc), \"  Deff =\",np.var(x)/(2*nsteps*dt_mc))"
   ]
  },
  {
   "cell_type": "markdown",
   "metadata": {
    "colab_type": "text",
    "id": "GPjemDJsQI1r",
    "lang": "en"
   },
   "source": [
    "## How to implement  SDE on CUDA"
   ]
  },
  {
   "cell_type": "code",
   "execution_count": null,
   "metadata": {
    "colab": {
     "base_uri": "https://localhost:8080/",
     "height": 476
    },
    "colab_type": "code",
    "id": "a1wpvI9RQI1r",
    "outputId": "d6a33432-819a-47af-ffbe-197690c620d0"
   },
   "outputs": [],
   "source": [
    "import numpy as np\n",
    "from pycuda.compiler import SourceModule\n",
    "from pycuda import gpuarray\n",
    "import pycuda.driver as cuda\n",
    "import pycuda \n",
    "\n",
    "cuda.init()\n",
    "device = cuda.Device(0)\n",
    "ctx = device.make_context()\n",
    "\n",
    "code = \"\"\"\n",
    "#include <curand_kernel.h>\n",
    "\n",
    "extern \"C\" {\n",
    "    __global__ void setup_kernel(curandState *state)\n",
    "    {\n",
    "        int id = threadIdx.x + blockIdx.x * blockDim.x;\n",
    "        curand_init(1234, id, 0, &state[id]);\n",
    "    }\n",
    "\n",
    "\n",
    "__global__ void step_sde(curandState *state, %(pf)s x_global)\n",
    "    {\n",
    "        int idx = threadIdx.x + blockIdx.x * blockDim.x;\n",
    "        %(f)s x = x_global[idx];\n",
    "        curandState localState = state[idx];\n",
    "       \n",
    "       \n",
    "        x =  curand_normal(&localState);  \n",
    "        \n",
    "        state[idx] = localState;\n",
    "        x_global[idx] = x;\n",
    "}\n",
    "\n",
    "\n",
    "}\n",
    "\"\"\"%{'fx':f_code,'dt':dt,'f':fp,'pf':pfp}\n",
    "block_size = 128\n",
    "N = 1000*block_size\n",
    "mod = SourceModule(code, no_extern_c=True)\n",
    "\n",
    "setup_kernel = mod.get_function(\"setup_kernel\")\n",
    "step_sde = mod.get_function(\"step_sde\")\n",
    "print(code)"
   ]
  },
  {
   "cell_type": "code",
   "execution_count": null,
   "metadata": {
    "colab": {
     "base_uri": "https://localhost:8080/",
     "height": 51
    },
    "colab_type": "code",
    "id": "QYtfPE5qQI1t",
    "outputId": "18853493-c9e4-4264-d310-a23fb5ceded2"
   },
   "outputs": [],
   "source": [
    "# 7s for 1mln generators \n",
    "rng_states = cuda.mem_alloc(N*pycuda.characterize.sizeof('curandState', '#include <curand_kernel.h>'))\n",
    "setup_kernel(rng_states, block=(block_size,1,1), grid=(N//block_size,1))\n",
    "%time ctx.synchronize()"
   ]
  },
  {
   "cell_type": "code",
   "execution_count": null,
   "metadata": {
    "colab": {},
    "colab_type": "code",
    "id": "v5M7UsvYQI1v"
   },
   "outputs": [],
   "source": [
    "x = gpuarray.zeros(N, dtype=np_prec)"
   ]
  },
  {
   "cell_type": "code",
   "execution_count": null,
   "metadata": {
    "colab": {},
    "colab_type": "code",
    "id": "20Z34Q81QI1x"
   },
   "outputs": [],
   "source": [
    "x.dtype"
   ]
  },
  {
   "cell_type": "code",
   "execution_count": null,
   "metadata": {
    "colab": {
     "base_uri": "https://localhost:8080/",
     "height": 51
    },
    "colab_type": "code",
    "id": "Tv92IWCWQI1z",
    "outputId": "446c26af-405c-485d-dd3f-eb28a50b753d"
   },
   "outputs": [],
   "source": [
    "step_sde(rng_states,  x, block=(block_size,1,1), grid=(N//block_size,1,1))\n",
    "%time ctx.synchronize()\n"
   ]
  },
  {
   "cell_type": "code",
   "execution_count": null,
   "metadata": {
    "colab": {
     "base_uri": "https://localhost:8080/",
     "height": 51
    },
    "colab_type": "code",
    "id": "JbZkNhx4QI11",
    "outputId": "c05ed301-7716-4204-ff7b-79fab992a6af"
   },
   "outputs": [],
   "source": [
    "x.get()[:6]"
   ]
  },
  {
   "cell_type": "code",
   "execution_count": null,
   "metadata": {
    "colab": {
     "base_uri": "https://localhost:8080/",
     "height": 269
    },
    "colab_type": "code",
    "id": "4v3TJz23QI15",
    "outputId": "76faa67a-9a84-4943-8042-8dc27b47979b"
   },
   "outputs": [],
   "source": [
    "plt.figure()\n",
    "plt.hist(x.get(),bins=200)\n",
    "plt.show()"
   ]
  },
  {
   "cell_type": "markdown",
   "metadata": {
    "colab_type": "text",
    "id": "GUi04qyNQI18"
   },
   "source": [
    "\\newpage"
   ]
  }
 ],
 "metadata": {
  "accelerator": "GPU",
  "colab": {
   "name": "01-Deff_sde_pde_released.ipynb",
   "provenance": [],
   "version": "0.3.2"
  },
  "kernelspec": {
   "display_name": "Python 3",
   "language": "python",
   "name": "python3"
  },
  "language_info": {
   "codemirror_mode": {
    "name": "ipython",
    "version": 3
   },
   "file_extension": ".py",
   "mimetype": "text/x-python",
   "name": "python",
   "nbconvert_exporter": "python",
   "pygments_lexer": "ipython3",
   "version": "3.7.3"
  },
  "nbTranslate": {
   "displayLangs": [
    "en",
    "pl"
   ],
   "hotkey": "alt-t",
   "langInMainMenu": true,
   "sourceLang": "pl",
   "targetLang": "en",
   "useGoogleTranslate": true
  }
 },
 "nbformat": 4,
 "nbformat_minor": 1
}
