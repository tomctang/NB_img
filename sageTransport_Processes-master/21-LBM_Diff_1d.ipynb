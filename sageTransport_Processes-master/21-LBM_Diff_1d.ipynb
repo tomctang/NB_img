{
 "cells": [
  {
   "cell_type": "markdown",
   "metadata": {
    "lang": "en"
   },
   "source": [
    "# Lattice Boltzmann models in 1d"
   ]
  },
  {
   "cell_type": "markdown",
   "metadata": {
    "heading_collapsed": true,
    "lang": "en"
   },
   "source": [
    "## Diffusion equation\n",
    "\n",
    "The diffusion equation in one spatial dimension describes propagation of a scalar quantity in time. \n",
    "It is widely used to as a macrocopic model of molecular diffusion in the continous limit or temperature propagation in a medium. We will consider the time evolution of a the scalar field $T=T(x,t)$. Then the diffusion equation reads:\n",
    "\n",
    "$$ \\frac{\\partial T}{\\partial t} = D \\frac{\\partial^2 T}{\\partial x^2} $$\n",
    "\n",
    "It is parabolic linear partial differential equation which can be solved analytically in many cases. The solution is unique if appropriate boundary conditions and the initial  are given. For example if one specifies the value of the scalar $T$ on the end of interval $(a,b)$ e.g. $T(a,t)=T_1$ and $T(b,t)=T_2$ and its initial values inside the interval $T(x,t=0)=f(x)$, the the solution is unique. \n",
    "\n",
    "Here we will solve the diffusion equation with the Latiice Boltzmann Method. It will allow to analyze the properties of the LBM \n",
    "\n",
    "## Model D1Q2\n",
    "\n",
    "We will used LBM method with the D1Q2 grid.\n",
    " \n",
    " - $f^1$ is the number of particles at $c=1$ and $f^2$ with $c=-1$\n",
    " - the equilibrium function does not depend on speed and is equal to $$f_i^{eq}(T) = w_i T$$ with $w_i=(1/2,1/2)$ weights\n",
    " - we consider the 1d grid of $x_k$ points for which $f^i(x_k)$ distributes data in each point\n",
    " - collision operator: $$-\\omega (f-f_{eq})$$\n",
    "  - $\\omega$ relaxation constant links the microscopic and macroscopic description. It can be shown that for the mesh model to approximate the diffusion equation, the following value must be taken:\n",
    " $$\\omega=\\frac{1}{\\frac{Dyf}{c^2_s}+0.5}$$\n",
    "  - $c_s$ has interpretation of the speed of sound on the network and in the case of D1Q2 takes the value 1\n",
    " - boundary conditions:\n",
    "  - consider the reflection at the right end: $f^i(x_{-1})=f^i(x_{-2})$ for $i\\in\\{1,2\\}$\n",
    "  - and the set value on the right: $f^2(x_0) + f^1(x_0) = T_0$"
   ]
  },
  {
   "cell_type": "code",
   "execution_count": null,
   "metadata": {
    "hidden": true
   },
   "outputs": [],
   "source": [
    "%matplotlib inline\n",
    "import numpy as np\n",
    "import matplotlib.pyplot as plt\n",
    "lx = 100\n",
    "\n",
    "Tend = 100\n",
    "w  =  np.array([1/2.,1/2.])\n",
    "cs2 = 1.0\n",
    "c = np.array([1,-1])\n",
    "\n",
    "def f_eq(T,w):\n",
    "    return w[:,np.newaxis]*T\n",
    "\n",
    "Dyf = 9.5\n",
    "omega = 1/(Dyf + 0.5)\n",
    "Tw = 1.0\n",
    "\n",
    "T_init = 0*np.ones(lx)\n",
    "f = f_eq(T_init,w)\n",
    "\n",
    "x = np.linspace(0,lx-1,lx)\n",
    "\n",
    "T_lst = [T_init]\n",
    "for iteration in range(Tend):\n",
    "\n",
    "    # collision \n",
    "    f[0,0] = Tw - f[1,0]\n",
    "    \n",
    "    # symetryczne odbicie (lub bounce-back ponizej)\n",
    "    #for i,k in enumerate(c):\n",
    "    #    f[i,-1] = f[i,-2]    \n",
    "   \n",
    "    T = np.sum(f,axis=0)\n",
    "    \n",
    "    # equilibrium function \n",
    "    fOut = f - omega * (f-f_eq(T,w))\n",
    "    #bounce back\n",
    "    fOut[0,-1], fOut[1,-1] = f[1,-1], f[0,-1]  \n",
    "\n",
    "    # propagation \n",
    "    for i,k in enumerate(c):\n",
    "        f[i,:] = np.roll(fOut[i,:],k,axis=0)\n",
    "    \n",
    "    f[0,0] = np.nan\n",
    "    f[1,-1] = np.nan\n",
    "    \n",
    "    if iteration%1==0:\n",
    "        T_lst.append( T )\n",
    "        \n",
    "print(\"omega=\",omega,\"Dyf=\",Dyf)"
   ]
  },
  {
   "cell_type": "markdown",
   "metadata": {},
   "source": []
  },
  {
   "cell_type": "markdown",
   "metadata": {
    "lang": "en"
   },
   "source": [
    "*Note* - the streaming is implemented using `np.roll` function. It would produce an artifact at the ends as  the distributions are wrapped priodically (we do not have periodic boundary conditions). The actual values ​​of the $T$ field on the edge are given by the boundary condition. On the other hand the values of distributions:\n",
    "\n",
    "$$f_0(x=0), f_1(x=-1)$$\n",
    "\n",
    "are unknown."
   ]
  },
  {
   "cell_type": "markdown",
   "metadata": {
    "lang": "en"
   },
   "source": [
    "## Analysis of solutions\n",
    "\n",
    "As a result of the above code, we have received a time evolution of $f_1$ and $f_2$ for $t\\in(0,100)$.\n",
    "\n",
    "In the table `T_lst` we have a record of all steps. We can draw the last of them on the chart:"
   ]
  },
  {
   "cell_type": "code",
   "execution_count": null,
   "metadata": {},
   "outputs": [],
   "source": [
    "T = T_lst[-1]     \n",
    "plt.plot(x,T,'o-')\n",
    "plt.ylim(0,Tw)\n",
    "plt.xlim(0,None)\n",
    "plt.show()"
   ]
  },
  {
   "cell_type": "markdown",
   "metadata": {
    "lang": "en"
   },
   "source": [
    "### Distributions\n",
    "\n",
    "What do the $f_1(x)$ and $f_2(x)$ distributions look like in 100 steps?\n",
    "\n",
    "Note that in balance we have:\n",
    "\n",
    "$$f_1 = \\frac{1}{2}T \\\\ f_2 = \\frac{1}{2} T$$\n",
    "\n",
    "From this it follows that the difference between distributors is proportional to how far the system is from equilibrium. For $\\omega=0.1$, the state of the system is clearly far from balance.\n",
    "\n",
    "*Investigate how it will look for larger $\\omega$ (change Dyf)*"
   ]
  },
  {
   "cell_type": "code",
   "execution_count": null,
   "metadata": {},
   "outputs": [],
   "source": [
    "plt.figure()\n",
    "plt.plot(x,f[0,:],'r')\n",
    "plt.plot(x,f[1,:],'b')\n",
    "plt.show()"
   ]
  },
  {
   "cell_type": "markdown",
   "metadata": {
    "lang": "en"
   },
   "source": [
    "### Numerical reference solution of the diffusion equation"
   ]
  },
  {
   "cell_type": "code",
   "execution_count": null,
   "metadata": {},
   "outputs": [],
   "source": [
    "dt = 1.0/20\n",
    "\n",
    "dx = 1.0\n",
    "nt = int(Tend/dt)\n",
    "u0 = np.zeros(lx)     \n",
    "\n",
    "#x = np.linspace(0,2,nx)\n",
    "print(nt*dt)\n",
    "u = u0.copy()\n",
    "for n in range(nt):  \n",
    "    u[1:-1] = u[1:-1] +  Dyf*dt/dx**2*np.diff(u,2) #(u[2:]-2*u[1:-1]+u[:-2])\n",
    "    u[0] = Tw    \n",
    "    u[-1] = u[-2]\n",
    "    "
   ]
  },
  {
   "cell_type": "code",
   "execution_count": null,
   "metadata": {},
   "outputs": [],
   "source": [
    "plt.figure()\n",
    "plt.plot(x,u,label='FDM@dt=%0.4f'%dt)\n",
    "plt.plot(x,T,label='LBM D1Q2')\n",
    "plt.ylim(0,Tw)\n",
    "plt.xlim(0,None)\n",
    "plt.legend()\n",
    "plt.show()"
   ]
  },
  {
   "cell_type": "markdown",
   "metadata": {
    "lang": "en"
   },
   "source": [
    "### Analysis of results\n",
    "\n",
    "For the parameter `Dyf = 9.5`\n",
    "\n",
    "Comparing the exact numerical solution with the solution obtained by the LBM method, we can see that there were discrepancies.\n",
    "It should be noted that\n",
    "\n",
    " - the LBM model made 100 time steps on a 100-node grid. This means that with such parameters, the network model was practically unable to \"penetrate\" $x=100$.\n",
    " - distribution value analysis shows that with these parameters the model works at the low relaxation constant $\\omega$ regime and therefore at every point the system is relatively far from equilibrium. The accuracy of BGK approximation assumes that we are close to balance.\n",
    " - The numerical model becomes stable for a time step by an order of magnitude smaller than the step of the LBM model (i.e. $\\Delta t = 1$)"
   ]
  },
  {
   "cell_type": "markdown",
   "metadata": {
    "heading_collapsed": true,
    "lang": "en"
   },
   "source": [
    "## Model D1Q3\n",
    "\n",
    "We will perform calculations by adding a zero vector to the set of velocity vectors.\n",
    "It should be changed:\n",
    "\n",
    " - $c_s^2 = \\frac{1}{3}$ sound speed\n",
    " - determine new weights in equilibrium function\n",
    " - adjust the boundary condition to the new $f_i$ set - if we use bounce-back then only the Dirichlet condition $T(x=0)=1$."
   ]
  },
  {
   "cell_type": "code",
   "execution_count": null,
   "metadata": {
    "hidden": true
   },
   "outputs": [],
   "source": [
    "#D1Q3 ()\n",
    "import numpy as np\n",
    "import matplotlib.pyplot as plt\n",
    "\n",
    "lx = 100\n",
    "\n",
    "w  =  np.array([4/6., 1/6.,1/6.])\n",
    "cs2 = 1/3.0\n",
    "c = np.array([0,1,-1])\n",
    "\n",
    "\n",
    "def f_eq(T,w):\n",
    "    return w[:,np.newaxis]*T\n",
    "\n",
    "\n",
    "omega = 1/(3*Dyf+0.5)\n",
    "Tw = 1\n",
    "\n",
    "T_init = 0*np.ones(lx)\n",
    "f = f_eq(T_init,w)\n",
    "\n",
    "T_lst = [T_init]\n",
    "for iteration in range(Tend):\n",
    "\n",
    "    f[1,0] = 1/3.0*Tw - f[2,0]\n",
    "    f[0,0] = Tw*2/3.0\n",
    "   \n",
    "    #for i,k in enumerate(c):\n",
    "    #    f[i,-1] = f[i,-2]\n",
    "        \n",
    "    T = np.sum(f,axis=0)\n",
    "    fOut = f - omega * (f-f_eq(T,w))\n",
    "    \n",
    "    # bounce back\n",
    "    fOut[1,-1],fOut[2,-1] =  f[2,-1],f[1,-1]  \n",
    "\n",
    "\n",
    "    for i,k in enumerate(c):\n",
    "        f[i,:] = np.roll(fOut[i,:],k,axis=0)\n",
    "    \n",
    "    if iteration%1==0:\n",
    "        T_lst.append( T )\n",
    "        \n",
    " \n",
    "print(omega,Dyf)"
   ]
  },
  {
   "cell_type": "code",
   "execution_count": null,
   "metadata": {
    "hidden": true
   },
   "outputs": [],
   "source": [
    "plt.figure()\n",
    "plt.plot(x,f[0,:],'r')\n",
    "plt.plot(x,f[1,:],'g')\n",
    "plt.plot(x,f[2,:],'b')\n",
    "plt.plot(x,np.sum(f,axis=0),'k-.')\n",
    "plt.show()"
   ]
  },
  {
   "cell_type": "code",
   "execution_count": null,
   "metadata": {
    "hidden": true
   },
   "outputs": [],
   "source": []
  },
  {
   "cell_type": "code",
   "execution_count": null,
   "metadata": {
    "hidden": true
   },
   "outputs": [],
   "source": []
  },
  {
   "cell_type": "code",
   "execution_count": null,
   "metadata": {
    "hidden": true
   },
   "outputs": [],
   "source": [
    "def res_D1d(u,u0,Dyf=Dyf):\n",
    "    resL = u[1:-1] -u0[1:-1]\n",
    "    resR = Dyf*np.diff(u0,2)\n",
    "    res = resL-resR\n",
    "    return res"
   ]
  },
  {
   "cell_type": "markdown",
   "metadata": {
    "hidden": true,
    "lang": "en"
   },
   "source": [
    "### Solution of the D1Q3 model\n",
    "\n",
    "*Note* - the analysis of the solution shows that the boundary condition is not correctly set (although the residue for $x>0$ is small). It should be noted that for $D=9.5$ the model is far from equilibrium and in $x=0$ we set the equilibrium condition. This is the reason for the discrepancy. This can be improved, e.g. by bringing the model closer to balance by scaling what is done below."
   ]
  },
  {
   "cell_type": "code",
   "execution_count": null,
   "metadata": {
    "hidden": true
   },
   "outputs": [],
   "source": [
    "plt.figure(figsize=(8,6))\n",
    "plt.plot(x,u,label='FDM@dt=%0.4f'%dt)\n",
    "plt.plot(np.linspace(0,100-1,lx),T_lst[-1],'r-',label='LBM D1Q3@n=%d'%lx)\n",
    "res = res_D1d(T_lst[-1],T_lst[-2])\n",
    "plt.plot(np.linspace(0,100-1,lx)[1:-1],100*res,label='residuum x 100')\n",
    "plt.ylim(0,Tw)\n",
    "plt.xlim(0,None)\n",
    "plt.legend()\n",
    "plt.show()"
   ]
  },
  {
   "cell_type": "code",
   "execution_count": null,
   "metadata": {
    "hidden": true
   },
   "outputs": [],
   "source": []
  },
  {
   "cell_type": "markdown",
   "metadata": {
    "lang": "en"
   },
   "source": [
    "## Scaling\n",
    "\n",
    "Scaling $t=t^* \\tau$; $x=x^* l_0$ leads to the equation:\n",
    "$$ \\frac{\\partial T}{\\partial t^{*}} = D \\frac{\\tau}{l_0^2} \\frac{\\partial^2 T}{\\partial x^{*2}} $$\n",
    "\n",
    "So in scaled units we have:\n",
    "\n",
    "$$D_{lu} = D \\frac{\\tau}{l_0^2} $$\n",
    "\n",
    "\n",
    "From this it follows that we can lower 2x the diffusion constant in $D_{lu}$ network units (and thus incur the relaxation parameter) in two ways:\n",
    "\n",
    " - reducing the time step twice\n",
    " - reducing the number of nodes by $\\sqrt{2}$"
   ]
  },
  {
   "cell_type": "code",
   "execution_count": null,
   "metadata": {},
   "outputs": [],
   "source": [
    "#D1Q3 ()\n",
    "import numpy as np\n",
    "import matplotlib.pyplot as plt\n",
    "\n",
    "def solve_diff(a=1,b=1,Dyf = 9.5,time_evo=False):\n",
    "  \n",
    "\n",
    "    lx = int(100/np.sqrt(a))\n",
    "    x = np.linspace(0,99-1,lx)\n",
    "    \n",
    "    w  =  np.array([4/6., 1/6.,1/6.])\n",
    "    cs2 = 1/3.0\n",
    "    c = np.array([0,1,-1])\n",
    "\n",
    "\n",
    "    def f_eq(T,w):\n",
    "        return w[:,np.newaxis]*T\n",
    "\n",
    "\n",
    "    omega = 1/(3*Dyf/(a*b)+0.5)\n",
    "    Tw = 1\n",
    "\n",
    "    T_init = 0*np.ones(lx)\n",
    "    f = f_eq(T_init,w)\n",
    "\n",
    "    #f0_eq = f_eq(np.array([Tw]),w)\n",
    "\n",
    "    T_lst = [T_init]\n",
    "    for iteration in range(int(b*Tend)):\n",
    "\n",
    "        f[1,0] = 1/3.0*Tw - f[2,0]\n",
    "        f[0,0] = Tw*2/3.0\n",
    "\n",
    "        #for i,k in enumerate(c):\n",
    "        #    f[i,-1] = f[i,-2]\n",
    "\n",
    "\n",
    "        T = np.sum(f,axis=0)\n",
    "\n",
    "\n",
    "        fOut = f - omega * (f-f_eq(T,w))\n",
    "\n",
    "        # bounce back\n",
    "        fOut[1,-1],fOut[2,-1] =  f[2,-1],f[1,-1]  \n",
    "\n",
    "\n",
    "        for i,k in enumerate(c):\n",
    "            f[i,:] = np.roll(fOut[i,:],k,axis=0)\n",
    "\n",
    "        T_lst.append(T)\n",
    "    \n",
    "    if time_evo:\n",
    "        return x,T_lst\n",
    "    else:\n",
    "        print(\"omega=\",omega,\"steps:\",int(b*Tend),'size:',lx)\n",
    "\n",
    "        return x,T\n",
    " \n"
   ]
  },
  {
   "cell_type": "code",
   "execution_count": null,
   "metadata": {},
   "outputs": [],
   "source": [
    "plt.figure()\n",
    "plt.plot(*solve_diff(a=16,b=1),'ro-')\n",
    "plt.plot(x,u,label='FDM@dt=%0.4f'%dt)\n",
    "plt.legend()\n",
    "plt.show()"
   ]
  },
  {
   "cell_type": "markdown",
   "metadata": {
    "lang": "en"
   },
   "source": [
    "### Scaling the model\n",
    "\n",
    "e.g:\n",
    "\n",
    " - $a=4$ means reduce the number of nodes by 2 times\n",
    " - $b=2$ means reduce the time step 2 times"
   ]
  },
  {
   "cell_type": "code",
   "execution_count": null,
   "metadata": {},
   "outputs": [],
   "source": [
    "%matplotlib notebook\n",
    "import matplotlib.pyplot as plt\n",
    "from ipywidgets import  interact,Layout\n",
    "from ipywidgets.widgets import  FloatSlider\n",
    "style = Layout(width='70%')\n",
    "f,ax = plt.subplots(figsize=(8,5))\n",
    "ax.plot(np.linspace(0,99,100),u,label='FDM@dt=%0.4f'%dt)\n",
    "\n",
    "lbm_plt = ax.plot([0],[0],'ro-')[0]\n",
    "f.canvas.draw()\n",
    "plt.show()\n",
    "@interact(a=FloatSlider(min=1e-2,max=100,step=0.001,value=1.,layout=style),\\\n",
    "         b=FloatSlider(min=1e-2,max=10,step=0.001,value=1.,layout=style))\n",
    "def _(a,b):\n",
    "    lbm_plt.set_data(*solve_diff(a=a,b=b))\n"
   ]
  },
  {
   "cell_type": "code",
   "execution_count": null,
   "metadata": {},
   "outputs": [],
   "source": []
  },
  {
   "cell_type": "markdown",
   "metadata": {
    "lang": "en"
   },
   "source": [
    "### Time propagation"
   ]
  },
  {
   "cell_type": "code",
   "execution_count": null,
   "metadata": {},
   "outputs": [],
   "source": [
    "%matplotlib notebook\n",
    "\n",
    "from ipywidgets.widgets import IntSlider,Layout\n",
    "style = Layout(width='70%')\n",
    "\n",
    "x,Tlst = solve_diff(a=4,b=1,time_evo=True)\n",
    "f,ax = plt.subplots(figsize=(8,5))\n",
    "\n",
    "ax.plot(np.linspace(0,99,100),u,label='FDM@dt=%0.4f'%dt)\n",
    "\n",
    "lbm_t_plt = ax.plot([0],[0],'ro-')[0]\n",
    "f.canvas.draw()\n",
    "plt.show()\n",
    "@interact(ith=IntSlider(min=0,max=len(Tlst)-1,layout=style))\n",
    "def _(ith):\n",
    "    lbm_t_plt.set_data(x,Tlst[ith])\n"
   ]
  },
  {
   "cell_type": "markdown",
   "metadata": {},
   "source": [
    "\\newpage"
   ]
  }
 ],
 "metadata": {
  "kernelspec": {
   "display_name": "Python 3",
   "language": "python",
   "name": "python3"
  },
  "language_info": {
   "codemirror_mode": {
    "name": "ipython",
    "version": 3
   },
   "file_extension": ".py",
   "mimetype": "text/x-python",
   "name": "python",
   "nbconvert_exporter": "python",
   "pygments_lexer": "ipython3",
   "version": "3.7.3"
  },
  "nbTranslate": {
   "displayLangs": [
    "en",
    "pl"
   ],
   "hotkey": "alt-t",
   "langInMainMenu": true,
   "sourceLang": "pl",
   "targetLang": "en",
   "useGoogleTranslate": true
  },
  "widgets": {
   "application/vnd.jupyter.widget-state+json": {
    "state": {
     "020adb5ae5ae4c87bb76dec4b526ad16": {
      "model_module": "@jupyter-widgets/controls",
      "model_module_version": "1.0.0",
      "model_name": "SliderStyleModel",
      "state": {
       "description_width": ""
      }
     },
     "065d4d1fffaf40cb842dae9cc2c15f4a": {
      "model_module": "@jupyter-widgets/base",
      "model_module_version": "1.0.0",
      "model_name": "LayoutModel",
      "state": {}
     },
     "08eefa6a3be54421abb93a0226f28ec7": {
      "model_module": "@jupyter-widgets/controls",
      "model_module_version": "1.0.0",
      "model_name": "SliderStyleModel",
      "state": {
       "description_width": ""
      }
     },
     "0d2f78c7f4054f959d5859f8306aea96": {
      "model_module": "@jupyter-widgets/controls",
      "model_module_version": "1.0.0",
      "model_name": "VBoxModel",
      "state": {
       "_dom_classes": [
        "widget-interact"
       ],
       "children": [
        "IPY_MODEL_c1f4872d4b6e4f70a4e0ad86fbcf93e6",
        "IPY_MODEL_f7d2be5cc2ac49c99ef7a9489482ac32",
        "IPY_MODEL_6bc9e76b2fac4312b9c2b79000e35639"
       ],
       "layout": "IPY_MODEL_0f855394f932428486555af5deddae23"
      }
     },
     "0f855394f932428486555af5deddae23": {
      "model_module": "@jupyter-widgets/base",
      "model_module_version": "1.0.0",
      "model_name": "LayoutModel",
      "state": {}
     },
     "23b1447a91c9467e956ee7b43ba27bb5": {
      "model_module": "@jupyter-widgets/base",
      "model_module_version": "1.0.0",
      "model_name": "LayoutModel",
      "state": {
       "width": "70%"
      }
     },
     "241d898c84f04c3abc94818cdbbf0936": {
      "model_module": "@jupyter-widgets/controls",
      "model_module_version": "1.0.0",
      "model_name": "SliderStyleModel",
      "state": {
       "description_width": ""
      }
     },
     "298821856eec4e0a9027718fc8d96226": {
      "model_module": "@jupyter-widgets/controls",
      "model_module_version": "1.0.0",
      "model_name": "IntSliderModel",
      "state": {
       "description": "ith",
       "layout": "IPY_MODEL_23b1447a91c9467e956ee7b43ba27bb5",
       "style": "IPY_MODEL_241d898c84f04c3abc94818cdbbf0936"
      }
     },
     "2eee76fa431a470da31d5d39df5dbe29": {
      "model_module": "@jupyter-widgets/base",
      "model_module_version": "1.0.0",
      "model_name": "LayoutModel",
      "state": {
       "width": "70%"
      }
     },
     "4517ff8196bc4cf8b9ab614060eb6670": {
      "model_module": "@jupyter-widgets/output",
      "model_module_version": "1.0.0",
      "model_name": "OutputModel",
      "state": {
       "layout": "IPY_MODEL_065d4d1fffaf40cb842dae9cc2c15f4a"
      }
     },
     "5f0f5c9b7da648368f80c9a09c4fb5ae": {
      "model_module": "@jupyter-widgets/base",
      "model_module_version": "1.0.0",
      "model_name": "LayoutModel",
      "state": {
       "width": "70%"
      }
     },
     "619fc827de99480f95d67c5604c2ba2c": {
      "model_module": "@jupyter-widgets/controls",
      "model_module_version": "1.0.0",
      "model_name": "VBoxModel",
      "state": {
       "_dom_classes": [
        "widget-interact"
       ],
       "children": [
        "IPY_MODEL_cb1191a23a4941438b0cde21aaa387e0",
        "IPY_MODEL_c20802e443294322b6ab6ba22b0df816"
       ],
       "layout": "IPY_MODEL_fe760a585a59422e98211b5c33eeeea8"
      }
     },
     "6bc9e76b2fac4312b9c2b79000e35639": {
      "model_module": "@jupyter-widgets/output",
      "model_module_version": "1.0.0",
      "model_name": "OutputModel",
      "state": {
       "layout": "IPY_MODEL_b95392da76fb4b969a2eacf5bee7e7bc",
       "outputs": [
        {
         "name": "stdout",
         "output_type": "stream",
         "text": "omega= 1.2677063685996912 steps: 691 size: 26\n"
        }
       ]
      }
     },
     "9cd73233e848464e886721124a3777ff": {
      "model_module": "@jupyter-widgets/base",
      "model_module_version": "1.0.0",
      "model_name": "LayoutModel",
      "state": {}
     },
     "b95392da76fb4b969a2eacf5bee7e7bc": {
      "model_module": "@jupyter-widgets/base",
      "model_module_version": "1.0.0",
      "model_name": "LayoutModel",
      "state": {}
     },
     "c1f4872d4b6e4f70a4e0ad86fbcf93e6": {
      "model_module": "@jupyter-widgets/controls",
      "model_module_version": "1.0.0",
      "model_name": "FloatSliderModel",
      "state": {
       "description": "a",
       "layout": "IPY_MODEL_5f0f5c9b7da648368f80c9a09c4fb5ae",
       "min": 0.01,
       "step": 0.001,
       "style": "IPY_MODEL_f7f8245b6f3d4b8794361cd5d48b1df1",
       "value": 14.278
      }
     },
     "c20802e443294322b6ab6ba22b0df816": {
      "model_module": "@jupyter-widgets/output",
      "model_module_version": "1.0.0",
      "model_name": "OutputModel",
      "state": {
       "layout": "IPY_MODEL_ef38ee1a2daf4836ab9be8a582218759"
      }
     },
     "cb1191a23a4941438b0cde21aaa387e0": {
      "model_module": "@jupyter-widgets/controls",
      "model_module_version": "1.0.0",
      "model_name": "IntSliderModel",
      "state": {
       "description": "ith",
       "layout": "IPY_MODEL_2eee76fa431a470da31d5d39df5dbe29",
       "style": "IPY_MODEL_08eefa6a3be54421abb93a0226f28ec7"
      }
     },
     "ef38ee1a2daf4836ab9be8a582218759": {
      "model_module": "@jupyter-widgets/base",
      "model_module_version": "1.0.0",
      "model_name": "LayoutModel",
      "state": {}
     },
     "f57386d95ed84bfbbb6ef69f3abe40b3": {
      "model_module": "@jupyter-widgets/controls",
      "model_module_version": "1.0.0",
      "model_name": "VBoxModel",
      "state": {
       "_dom_classes": [
        "widget-interact"
       ],
       "children": [
        "IPY_MODEL_298821856eec4e0a9027718fc8d96226",
        "IPY_MODEL_4517ff8196bc4cf8b9ab614060eb6670"
       ],
       "layout": "IPY_MODEL_9cd73233e848464e886721124a3777ff"
      }
     },
     "f7d2be5cc2ac49c99ef7a9489482ac32": {
      "model_module": "@jupyter-widgets/controls",
      "model_module_version": "1.0.0",
      "model_name": "FloatSliderModel",
      "state": {
       "description": "b",
       "layout": "IPY_MODEL_5f0f5c9b7da648368f80c9a09c4fb5ae",
       "max": 10,
       "min": 0.01,
       "step": 0.001,
       "style": "IPY_MODEL_020adb5ae5ae4c87bb76dec4b526ad16",
       "value": 6.911
      }
     },
     "f7f8245b6f3d4b8794361cd5d48b1df1": {
      "model_module": "@jupyter-widgets/controls",
      "model_module_version": "1.0.0",
      "model_name": "SliderStyleModel",
      "state": {
       "description_width": ""
      }
     },
     "fe760a585a59422e98211b5c33eeeea8": {
      "model_module": "@jupyter-widgets/base",
      "model_module_version": "1.0.0",
      "model_name": "LayoutModel",
      "state": {}
     }
    },
    "version_major": 2,
    "version_minor": 0
   }
  }
 },
 "nbformat": 4,
 "nbformat_minor": 2
}
