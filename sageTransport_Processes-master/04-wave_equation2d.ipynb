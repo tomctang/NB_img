{
 "cells": [
  {
   "cell_type": "markdown",
   "metadata": {
    "colab_type": "text",
    "id": "mQd39NfghBCB",
    "lang": "en"
   },
   "source": [
    "# Wave equation 2d\n",
    "\n",
    "$$ \\frac{\\partial^2 u}{\\partial t^2} = c^2 \\left( \\frac{\\partial^2 u}{\\partial x^2}+\\frac{\\partial^2 u}{\\partial y^2}\\right)$$\n",
    "\n",
    "An explicit pattern over time, in 1d:\n",
    "\n",
    "$$u_i^{j+1} = 2 u_i^{j} - u_i^{j-1} + \\frac{\\Delta t^2 c^2}{\\Delta x^2}\\left(u_{i-1}^{j}+u_{i+1}^{j}-2 u_i^{j}\\right)$$\n",
    "\n",
    "\n",
    " - upper index is the time of the bottom space\n",
    " - the scheme is stable for small $\\frac{\\Delta t^2 c^2}{\\Delta x^2}$.\n",
    "\n",
    "\n",
    "\n",
    "\n",
    "1. Implement a similar scheme on CUDA in 2d or 3d,\n",
    "2. Examine the performance and compare with the diagram in numpy.\n",
    "3. Find an interesting example of a system that can be simulated on CUDA."
   ]
  },
  {
   "cell_type": "code",
   "execution_count": null,
   "metadata": {
    "colab": {},
    "colab_type": "code",
    "id": "nB0S9E1-hBCD"
   },
   "outputs": [],
   "source": [
    "%matplotlib inline\n",
    "import matplotlib.pyplot as plt"
   ]
  },
  {
   "cell_type": "code",
   "execution_count": null,
   "metadata": {
    "colab": {},
    "colab_type": "code",
    "id": "U8EcdQOfhBCG"
   },
   "outputs": [],
   "source": [
    "import time\n",
    "import numpy as np \n",
    "from IPython.core.display import display,clear_output\n"
   ]
  },
  {
   "cell_type": "markdown",
   "metadata": {
    "colab_type": "text",
    "id": "MSIahv_-hVqe"
   },
   "source": [
    "## Visualization helpers\n",
    "\n",
    "We can easily visualize 2d scalar fields in Jupyter notebook using bitmap. An efficient version will use `BytesIO` as a virtual file in which Image will be created."
   ]
  },
  {
   "cell_type": "code",
   "execution_count": null,
   "metadata": {
    "colab": {},
    "colab_type": "code",
    "id": "tRoMMDhAhBCK"
   },
   "outputs": [],
   "source": [
    "from PIL import Image\n",
    "\n",
    "from IPython.core import display\n",
    "from io import BytesIO\n",
    "from IPython.core.display import clear_output\n",
    "\n",
    "def display_pil_image(im):\n",
    "    \"\"\"Displayhook function for PIL Images, rendered as PNG.\"\"\"\n",
    "\n",
    "    b = BytesIO()\n",
    "    im.save(b, format='png')\n",
    "    data = b.getvalue()\n",
    "\n",
    "    ip_img = display.Image(data=data, format='png', embed=True)\n",
    "    return ip_img._repr_png_()\n",
    "\n",
    "\n",
    "# register display func with PNG formatter:\n",
    "png_formatter = get_ipython().display_formatter.formatters['image/png']\n",
    "dpi = png_formatter.for_type(Image.Image, display_pil_image)\n",
    "\n",
    "\n",
    "def plot_as_im(u,a=-1,b=1):\n",
    "    u = ((u-a)/(b-a))\n",
    "    u[u>b] = b\n",
    "    u[u<a] = a\n",
    "    im = Image.fromarray(np.uint8(255*u))\n",
    "    clear_output(wait=True)\n",
    "    display.display(im)"
   ]
  },
  {
   "cell_type": "code",
   "execution_count": null,
   "metadata": {
    "colab": {
     "base_uri": "https://localhost:8080/",
     "height": 437
    },
    "colab_type": "code",
    "id": "MpCfJrCFhBCM",
    "outputId": "7b06b45c-5f51-4ed5-dca1-72125e69012a"
   },
   "outputs": [],
   "source": [
    "scale = 3\n",
    "N = 140*scale\n",
    "l = 100.\n",
    "\n",
    "dx = float(l)/(N-1)\n",
    "\n",
    "c = .45\n",
    "c2 = c**2\n",
    "dt = 0.018\n",
    "x = np.linspace(0,l,N)\n",
    "y = np.linspace(0,l,N)\n",
    "X,Y = np.meshgrid(x,y)\n",
    "\n",
    "u = np.zeros((N,N))\n",
    "u0 = np.zeros((N,N))\n",
    "unew = np.zeros((N,N))\n",
    "\n",
    "\n",
    "\n",
    "cx = np.ones_like(u)\n",
    "cx = c2*cx\n",
    "\n",
    "\n",
    "cx[ ((X-l/2)**2+(Y-73)**2>60**2)*(Y<l/5)+((X-l/2)**2+(Y+33)**2>60**2)*(Y>l/5) ] = (0.6**2)\n",
    "\n",
    "for i in range(100):\n",
    "    cx[1:-1,1:-1] = cx[1:-1,1:-1] + 0.1*(np.diff(cx,2,axis=0)[:,1:-1]+np.diff(cx,2,axis=1)[1:-1,:])\n",
    "\n",
    "\n",
    "\n",
    "\n",
    "ulst=[u.copy()]\n",
    "\n",
    "n = 2\n",
    "T = .30*l/((n+0.25))/scale\n",
    "\n",
    "\n",
    "a,b = -.8,.8 #min/max for plotting\n",
    "\n",
    "for i in range(12500):\n",
    "\n",
    "    unew[1:-1,1:-1] = 2*u[1:-1,1:-1] - u0[1:-1,1:-1] +\\\n",
    "     dt**2 *cx[1:-1,1:-1]/dx**2*(np.diff(u,2,axis=0)[:,1:-1] + np.diff(u,2,axis=1)[1:-1,:])\n",
    "    u0=u.copy()\n",
    "    u=unew.copy()\n",
    "    \n",
    "    u[0,:] = u[1,:] - dx/dt*(u[1,:]-u0[1,:])\n",
    "    u[-1,:] = u[-2,:] - dx/dt*(u[-2,:]-u0[-2,:])\n",
    "    u[:,0] = u[:,1]- dx/dt*(u[:,1]-u0[:,1]) \n",
    "    u[:,-1] = u[:,-2]- dx/dt*(u[:,-2]-u0[:,-2])\n",
    "   \n",
    " \n",
    "    u[0,:] = 0.2*np.sin(dt*i/T*2.0*np.pi)\n",
    "    \n",
    "    if i%40 == 0:\n",
    "        ulst.append(u.copy())\n",
    "        plot_as_im(u,a,b)\n",
    "     \n",
    "        \n",
    "        "
   ]
  },
  {
   "cell_type": "code",
   "execution_count": null,
   "metadata": {
    "colab": {},
    "colab_type": "code",
    "id": "8GEl3UbChBCO"
   },
   "outputs": [],
   "source": [
    "print(\" CFL number: (<<1) \",c*dt/dx)\n"
   ]
  },
  {
   "cell_type": "code",
   "execution_count": null,
   "metadata": {
    "colab": {},
    "colab_type": "code",
    "id": "m7Db8wxRhBCQ"
   },
   "outputs": [],
   "source": [
    "for i,u_ in enumerate(ulst):\n",
    "    plt.imshow(u_)\n",
    "    clear_output(wait=True)\n",
    "    plt.show()"
   ]
  },
  {
   "cell_type": "markdown",
   "metadata": {
    "colab_type": "text",
    "id": "KdhH340zhBCT"
   },
   "source": [
    "## Geometry - \"lens\"\n",
    "\n",
    "We create medium with two different properties (speed of light) inside and outside area enclosed between two intersecting circles."
   ]
  },
  {
   "cell_type": "code",
   "execution_count": null,
   "metadata": {
    "colab": {},
    "colab_type": "code",
    "id": "xlfSx5rshBCT"
   },
   "outputs": [],
   "source": [
    "c = np.ones_like(u)\n",
    "\n",
    "c[ ((X-l/2)**2+(Y-73)**2>60**2)*(Y<l/5)+((X-l/2)**2+(Y+33)**2>60**2)*(Y>l/5) ] = .20\n",
    "\n",
    "#c[ X+2*Y>145 ] = 2\n",
    "#c[ (X-l/2)**2+(Y-l/3)**2>25**2 ] = 2.0\n",
    "    \n",
    "\n",
    "\n",
    "for i in range(120):\n",
    "    c[1:-1,1:-1] = c[1:-1,1:-1] + 0.1*(np.diff(c,2,axis=0)[:,1:-1]+np.diff(c,2,axis=1)[1:-1,:])\n",
    "plt.imshow(c,origin='upper')"
   ]
  },
  {
   "cell_type": "code",
   "execution_count": null,
   "metadata": {
    "colab": {},
    "colab_type": "code",
    "id": "OAKgCrJBhBCV"
   },
   "outputs": [],
   "source": [
    "plt.plot(c[75,:])"
   ]
  },
  {
   "cell_type": "markdown",
   "metadata": {
    "colab_type": "text",
    "id": "UO5AHgurhBCX"
   },
   "source": [
    "\\newpage"
   ]
  }
 ],
 "metadata": {
  "accelerator": "GPU",
  "colab": {
   "name": "04-wave_equation2d.ipynb",
   "provenance": [],
   "version": "0.3.2"
  },
  "kernelspec": {
   "display_name": "Python 3",
   "name": "python3"
  },
  "language_info": {
   "codemirror_mode": {
    "name": "ipython",
    "version": 3
   },
   "file_extension": ".py",
   "mimetype": "text/x-python",
   "name": "python",
   "nbconvert_exporter": "python",
   "pygments_lexer": "ipython3",
   "version": "3.6.7"
  },
  "nbTranslate": {
   "displayLangs": [
    "en",
    "pl"
   ],
   "hotkey": "alt-t",
   "langInMainMenu": true,
   "sourceLang": "pl",
   "targetLang": "en",
   "useGoogleTranslate": true
  },
  "widgets": {
   "state": {
    "3006f7cd6ae34277a4e16b5a65cb6452": {
     "views": [
      {
       "cell_index": 5
      }
     ]
    },
    "31aba9f7e45e4377a86581b88d599c82": {
     "views": [
      {
       "cell_index": 1
      }
     ]
    }
   },
   "version": "1.2.0"
  }
 },
 "nbformat": 4,
 "nbformat_minor": 0
}
