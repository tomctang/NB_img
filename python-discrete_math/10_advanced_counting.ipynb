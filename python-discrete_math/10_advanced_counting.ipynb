{
 "cells": [
  {
   "cell_type": "markdown",
   "id": "1b71347a",
   "metadata": {},
   "source": [
    "# Review\n",
    "\n",
    "Below, we review four standard types of selections. To visualize them, we use a toy example of selecting $k=2$ objects\n",
    "out of a set $\\{{\\tt a}, {\\tt b}, {\\tt c}\\}$ of size $n=3$. We distinguish ordered and unordered selections. In mathematics, the ordered ones are written in parentheses (that is, round brackets) whereas the unordered ones are written in braces (that is, curly brackets): we treat $({\\tt c}, {\\tt a})$ and $({\\tt a}, {\\tt c})$ as different,\n",
    "however we consider $\\{{\\tt c}, {\\tt a}\\}$ and $\\{{\\tt a}, {\\tt c}\\}$ as being the same. We also distinguish selections with and without repetitions: $({\\tt c}, {\\tt c})$ contains a repeating element, whereas $({\\tt c}, {\\tt a})$ does not."
   ]
  },
  {
   "cell_type": "markdown",
   "id": "51399549",
   "metadata": {},
   "source": [
    "**Tuples** are ordered selections with repetitions. Also known as *words*. The number of tuples is $n^k$."
   ]
  },
  {
   "cell_type": "code",
   "execution_count": 1,
   "id": "d645dd65",
   "metadata": {},
   "outputs": [
    {
     "name": "stdout",
     "output_type": "stream",
     "text": [
      "aa ab ac ba bb bc ca cb cc "
     ]
    }
   ],
   "source": [
    "from itertools import product\n",
    "\n",
    "for t in product('abc', repeat=2):\n",
    "    print(*t, sep='', end=' ')"
   ]
  },
  {
   "cell_type": "markdown",
   "id": "460df212",
   "metadata": {},
   "source": [
    "**Permutations** are ordered selections without repetitions. The number of permutations is $\\frac{n!}{(n-k)!}."
   ]
  },
  {
   "cell_type": "code",
   "execution_count": 2,
   "id": "8e648184",
   "metadata": {},
   "outputs": [
    {
     "name": "stdout",
     "output_type": "stream",
     "text": [
      "ab ac ba bc ca cb "
     ]
    }
   ],
   "source": [
    "from itertools import permutations\n",
    "\n",
    "for t in permutations('abc', 2):\n",
    "    print(*t, sep='', end=' ')"
   ]
  },
  {
   "cell_type": "markdown",
   "id": "78d2e04e",
   "metadata": {},
   "source": [
    "**Combinations** are unordered selections without repetitions. Also known as *sets*. The number of combinations is $\\frac{n!}{k!(n-k)!}$ and this quantity appears so frequently that there is a notation for it: $\\binom nk$."
   ]
  },
  {
   "cell_type": "code",
   "execution_count": 3,
   "id": "ce269705",
   "metadata": {},
   "outputs": [
    {
     "name": "stdout",
     "output_type": "stream",
     "text": [
      "ab ac bc "
     ]
    }
   ],
   "source": [
    "from itertools import combinations\n",
    "\n",
    "for t in combinations('abc', 2):\n",
    "    print(*t, sep='', end=' ')"
   ]
  },
  {
   "cell_type": "markdown",
   "id": "b0d36968",
   "metadata": {},
   "source": [
    "**Combinations with repetitions** are unordered selections with repetitions. Also known as *multisets*."
   ]
  },
  {
   "cell_type": "code",
   "execution_count": 4,
   "id": "b1d79e97",
   "metadata": {},
   "outputs": [
    {
     "name": "stdout",
     "output_type": "stream",
     "text": [
      "aa ab ac bb bc cc "
     ]
    }
   ],
   "source": [
    "from itertools import combinations_with_replacement\n",
    "\n",
    "for t in combinations_with_replacement('abc', 2):\n",
    "    print(*t, sep='', end=' ')"
   ]
  },
  {
   "cell_type": "markdown",
   "id": "7fbd79e2",
   "metadata": {},
   "source": [
    "# Combinations with Repetitions\n",
    "\n",
    "**Problem.** We have an unlimited supply of tomatoes, bell peppers, and lettuce. We would like to make a salad out of four units among these three ingredients (we do not have to use all ingredients). How many different salads can we make?"
   ]
  },
  {
   "cell_type": "code",
   "execution_count": 5,
   "id": "9ff91375",
   "metadata": {},
   "outputs": [
    {
     "name": "stdout",
     "output_type": "stream",
     "text": [
      "T T T T\n",
      "T T T B\n",
      "T T T L\n",
      "T T B B\n",
      "T T B L\n",
      "T T L L\n",
      "T B B B\n",
      "T B B L\n",
      "T B L L\n",
      "T L L L\n",
      "B B B B\n",
      "B B B L\n",
      "B B L L\n",
      "B L L L\n",
      "L L L L\n"
     ]
    }
   ],
   "source": [
    "from itertools import combinations_with_replacement\n",
    "\n",
    "for salad in combinations_with_replacement('TBL', 4):\n",
    "    print(*salad)"
   ]
  },
  {
   "cell_type": "code",
   "execution_count": 6,
   "id": "e667e00a",
   "metadata": {},
   "outputs": [
    {
     "name": "stdout",
     "output_type": "stream",
     "text": [
      "| | * * * *   0 1\n",
      "| * | * * *   0 2\n",
      "| * * | * *   0 3\n",
      "| * * * | *   0 4\n",
      "| * * * * |   0 5\n",
      "* | | * * *   1 2\n",
      "* | * | * *   1 3\n",
      "* | * * | *   1 4\n",
      "* | * * * |   1 5\n",
      "* * | | * *   2 3\n",
      "* * | * | *   2 4\n",
      "* * | * * |   2 5\n",
      "* * * | | *   3 4\n",
      "* * * | * |   3 5\n",
      "* * * * | |   4 5\n"
     ]
    }
   ],
   "source": [
    "from itertools import combinations\n",
    "\n",
    "for bars_indices in combinations(range(6), 2):\n",
    "    sequence = ['*'] * 6\n",
    "    for i in bars_indices:\n",
    "        sequence[i] = '|'\n",
    "    print(*sequence, ' ', *bars_indices)"
   ]
  },
  {
   "cell_type": "markdown",
   "id": "2cd13399",
   "metadata": {},
   "source": [
    "# Summary\n",
    "\n",
    "![summary](images/selection_schemes.png)"
   ]
  }
 ],
 "metadata": {
  "kernelspec": {
   "display_name": "Python 3 (ipykernel)",
   "language": "python",
   "name": "python3"
  },
  "language_info": {
   "codemirror_mode": {
    "name": "ipython",
    "version": 3
   },
   "file_extension": ".py",
   "mimetype": "text/x-python",
   "name": "python",
   "nbconvert_exporter": "python",
   "pygments_lexer": "ipython3",
   "version": "3.9.13"
  }
 },
 "nbformat": 4,
 "nbformat_minor": 5
}
