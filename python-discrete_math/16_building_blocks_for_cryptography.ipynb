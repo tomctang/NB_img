{
 "cells": [
  {
   "cell_type": "markdown",
   "id": "8a3f72de",
   "metadata": {},
   "source": [
    "# Integer Factorization\n",
    "\n",
    "## Prime Numbers\n",
    "\n",
    "Checking whether a number is prime:"
   ]
  },
  {
   "cell_type": "code",
   "execution_count": 1,
   "id": "d74a3af3",
   "metadata": {},
   "outputs": [
    {
     "name": "stdout",
     "output_type": "stream",
     "text": [
      "\n",
      "The smallest divisor>1 of 2 is 2 (hence, 2 is prime)\n",
      "The smallest divisor>1 of 3 is 3 (hence, 3 is prime)\n",
      "The smallest divisor>1 of 4 is 2\n",
      "The smallest divisor>1 of 5 is 5 (hence, 5 is prime)\n",
      "The smallest divisor>1 of 6 is 2\n",
      "The smallest divisor>1 of 7 is 7 (hence, 7 is prime)\n",
      "The smallest divisor>1 of 8 is 2\n",
      "The smallest divisor>1 of 9 is 3\n",
      "The smallest divisor>1 of 10 is 2\n",
      "The smallest divisor>1 of 11 is 11 (hence, 11 is prime)\n",
      "The smallest divisor>1 of 12 is 2\n",
      "The smallest divisor>1 of 13 is 13 (hence, 13 is prime)\n",
      "The smallest divisor>1 of 14 is 2\n",
      "The smallest divisor>1 of 15 is 3\n",
      "The smallest divisor>1 of 16 is 2\n",
      "The smallest divisor>1 of 17 is 17 (hence, 17 is prime)\n",
      "The smallest divisor>1 of 18 is 2\n",
      "The smallest divisor>1 of 19 is 19 (hence, 19 is prime)\n",
      "The smallest divisor>1 of 20 is 2\n",
      "The smallest divisor>1 of 21 is 3\n",
      "The smallest divisor>1 of 22 is 2\n",
      "The smallest divisor>1 of 23 is 23 (hence, 23 is prime)\n",
      "The smallest divisor>1 of 24 is 2"
     ]
    }
   ],
   "source": [
    "# Finds the smallest divisor>1 of the given integer m>1\n",
    "def min_divisor(m):\n",
    "    for d in range(2, m + 1):\n",
    "        if m % d == 0:\n",
    "            return d\n",
    "        # optimization:\n",
    "        if d ** 2 > m:\n",
    "            return m\n",
    "\n",
    "\n",
    "for i in range(2, 25):\n",
    "    divisor = min_divisor(i)\n",
    "    print(f'\\nThe smallest divisor>1 of {i} is {divisor}', end='')\n",
    "    if divisor == i:\n",
    "        print(f' (hence, {i} is prime)', end='')"
   ]
  },
  {
   "cell_type": "markdown",
   "id": "6944fd77",
   "metadata": {},
   "source": [
    "List of the first $n$ primes:"
   ]
  },
  {
   "cell_type": "code",
   "execution_count": 2,
   "id": "cbf01af7",
   "metadata": {},
   "outputs": [
    {
     "name": "stdout",
     "output_type": "stream",
     "text": [
      "The first ten primes:\n",
      "[2, 3, 5, 7, 11, 13, 17, 19, 23, 29]\n"
     ]
    }
   ],
   "source": [
    "def is_prime(m):\n",
    "    return m == min_divisor(m)\n",
    "\n",
    "\n",
    "def primes_list(n):\n",
    "    lst = []\n",
    "    boundary = 2\n",
    "    # primes < boundary are in lst\n",
    "    while len(lst) < n:\n",
    "        if is_prime(boundary):\n",
    "            lst.append(boundary)\n",
    "        boundary += 1\n",
    "\n",
    "    return lst\n",
    "\n",
    "\n",
    "print('The first ten primes:')\n",
    "print(primes_list(10))"
   ]
  },
  {
   "cell_type": "markdown",
   "id": "7d8a203d",
   "metadata": {},
   "source": [
    "## Factoring"
   ]
  },
  {
   "cell_type": "code",
   "execution_count": 3,
   "id": "04bbdf2a",
   "metadata": {},
   "outputs": [
    {
     "name": "stdout",
     "output_type": "stream",
     "text": [
      "7 = 7\n",
      "20 = 2*2*5\n",
      "60 = 2*2*3*5\n",
      "1001 = 7*11*13\n",
      "4294967297 = 641*6700417\n",
      "18446744073709551617 = 274177*67280421310721\n"
     ]
    }
   ],
   "source": [
    "def factoring(m):\n",
    "    if is_prime(m):\n",
    "        return [m]\n",
    "    else:\n",
    "        divisor = min_divisor(m)\n",
    "        return [divisor] + factoring(m // divisor)\n",
    "\n",
    "\n",
    "for i in (7, 20, 60, 1001, 2 ** 32 + 1, 2 ** 64 + 1):\n",
    "    print(i, '=', '*'.join(map(str, factoring(i))))\n"
   ]
  },
  {
   "cell_type": "markdown",
   "id": "8188e0c8",
   "metadata": {},
   "source": [
    "Factoring Fermat numbers:"
   ]
  },
  {
   "cell_type": "code",
   "execution_count": 4,
   "id": "833f34d9",
   "metadata": {},
   "outputs": [
    {
     "name": "stdout",
     "output_type": "stream",
     "text": [
      "{3: 1}\n",
      "{5: 1}\n",
      "{17: 1}\n",
      "{257: 1}\n",
      "{65537: 1}\n",
      "{641: 1, 6700417: 1}\n",
      "{274177: 1, 67280421310721: 1}\n"
     ]
    }
   ],
   "source": [
    "from sympy import factorint\n",
    "\n",
    "for n in range(7):\n",
    "    print(factorint(2 ** (2 ** n) + 1))"
   ]
  },
  {
   "cell_type": "markdown",
   "id": "0d715b2a",
   "metadata": {},
   "source": [
    "# Chinese Remainder Theorem"
   ]
  },
  {
   "cell_type": "code",
   "execution_count": 5,
   "id": "90ca1757",
   "metadata": {},
   "outputs": [
    {
     "name": "stdout",
     "output_type": "stream",
     "text": [
      "0: 0 mod 2=0, 0 mod 3=0\n",
      "1: 1 mod 2=1, 1 mod 3=1\n",
      "2: 2 mod 2=0, 2 mod 3=2\n",
      "3: 3 mod 2=1, 3 mod 3=0\n",
      "4: 4 mod 2=0, 4 mod 3=1\n",
      "5: 5 mod 2=1, 5 mod 3=2\n",
      "6: 6 mod 2=0, 6 mod 3=0\n",
      "7: 7 mod 2=1, 7 mod 3=1\n",
      "8: 8 mod 2=0, 8 mod 3=2\n",
      "9: 9 mod 2=1, 9 mod 3=0\n",
      "10: 10 mod 2=0, 10 mod 3=1\n",
      "11: 11 mod 2=1, 11 mod 3=2\n",
      "12: 12 mod 2=0, 12 mod 3=0\n",
      "13: 13 mod 2=1, 13 mod 3=1\n",
      "14: 14 mod 2=0, 14 mod 3=2\n"
     ]
    }
   ],
   "source": [
    "for i in range(15):\n",
    "    print(f'{i}: {i} mod 2={i % 2}, {i} mod 3={i % 3}')"
   ]
  },
  {
   "cell_type": "code",
   "execution_count": 6,
   "id": "531f51c7",
   "metadata": {},
   "outputs": [
    {
     "name": "stdout",
     "output_type": "stream",
     "text": [
      " 0: (0, 0) (0, 0) (0, 0)\n",
      " 1: (1, 1) (1, 1) (1, 1)\n",
      " 2: (0, 2) (2, 2) (2, 2)\n",
      " 3: (1, 3) (0, 3) (3, 3)\n",
      " 4: (0, 0) (1, 0) (4, 0)\n",
      " 5: (1, 1) (2, 1) (5, 1)\n",
      " 6: (0, 2) (0, 2) (0, 2)\n",
      " 7: (1, 3) (1, 3) (1, 3)\n",
      " 8: (0, 0) (2, 0) (2, 0)\n",
      " 9: (1, 1) (0, 1) (3, 1)\n",
      "10: (0, 2) (1, 2) (4, 2)\n",
      "11: (1, 3) (2, 3) (5, 3)\n",
      "12: (0, 0) (0, 0) (0, 0)\n",
      "13: (1, 1) (1, 1) (1, 1)\n",
      "14: (0, 2) (2, 2) (2, 2)\n"
     ]
    }
   ],
   "source": [
    "for i in range(15):\n",
    "    print(f'{i:2d}: ({i % 2}, {i % 4}) '\n",
    "          f'({i % 3}, {i % 4}) '\n",
    "          f'({i % 6}, {i % 4})')"
   ]
  },
  {
   "cell_type": "code",
   "execution_count": 7,
   "id": "f2f4083b",
   "metadata": {},
   "outputs": [
    {
     "data": {
      "image/png": "[encoded data removed]",
      "text/plain": [
       "<Figure size 432x288 with 1 Axes>"
      ]
     },
     "metadata": {
      "needs_background": "light"
     },
     "output_type": "display_data"
    }
   ],
   "source": [
    "import matplotlib.pyplot as plt\n",
    "\n",
    "a, b = 10, 5\n",
    "n = a * b\n",
    "\n",
    "plt.plot([i % a for i in range(n)], [i % b for i in range(n)],\n",
    "         color='green', linestyle='dashed', linewidth=3,\n",
    "         marker='o', markerfacecolor='blue', markersize=12)\n",
    "  \n",
    "plt.axis('square')\n",
    "plt.xlim(-1, a)\n",
    "plt.ylim(-1, b)\n",
    "plt.xlabel(f'm mod {a}')\n",
    "plt.ylabel(f'm mod {b}')\n",
    "\n",
    "plt.savefig('crt-10-5.png')"
   ]
  },
  {
   "cell_type": "markdown",
   "id": "2b96fc58",
   "metadata": {},
   "source": [
    "Algorithmic version of Chinese Reminder Theorem:"
   ]
  },
  {
   "cell_type": "code",
   "execution_count": 8,
   "id": "7bd8f9fe",
   "metadata": {},
   "outputs": [
    {
     "name": "stdout",
     "output_type": "stream",
     "text": [
      "If x=3 mod 5 and x=7 mod 12, then x=43\n",
      "If x=3 mod 10 and x=8 mod 13, then x=73\n",
      "If x=3 mod 10 and x=1 mod 14, then x=113\n"
     ]
    }
   ],
   "source": [
    "from sympy import gcdex\n",
    "\n",
    "\n",
    "def chinese_remainder_theorem(n1, r1, n2, r2):\n",
    "    x, y, d = gcdex(n1, n2)\n",
    "    assert n1 * x + n2 * y == d  # == gcd(n1, n2)\n",
    "    y = -y\n",
    "    assert n1 * x - n2 * y == d\n",
    "    assert (r2 - r1) % d == 0\n",
    "    x *= (r2 - r1) // d\n",
    "    y *= (r2 - r1) // d\n",
    "    assert n1 * x - n2 * y == r2 - r1\n",
    "    return (n1 * x + r1) % (n1 * n2)\n",
    "\n",
    "\n",
    "for n1, r1, n2, r2 in (\n",
    "    (5, 3, 12, 7),\n",
    "    (10, 3, 13, 8),\n",
    "    (10, 3, 14, 1)\n",
    "):\n",
    "    result = chinese_remainder_theorem(n1, r1, n2, r2)\n",
    "    print(f'If x={r1} mod {n1} and x={r2} mod {n2}, then x={result}')"
   ]
  },
  {
   "cell_type": "markdown",
   "id": "0db887b6",
   "metadata": {},
   "source": [
    "# Modular Exponentiation"
   ]
  },
  {
   "cell_type": "code",
   "execution_count": 9,
   "id": "43e9e4f2",
   "metadata": {},
   "outputs": [
    {
     "name": "stdout",
     "output_type": "stream",
     "text": [
      "38\n"
     ]
    }
   ],
   "source": [
    "print((314 ** 271) % 123)"
   ]
  },
  {
   "cell_type": "code",
   "execution_count": 10,
   "id": "0b1c3235",
   "metadata": {},
   "outputs": [
    {
     "name": "stdout",
     "output_type": "stream",
     "text": [
      "38\n",
      "32073907\n"
     ]
    }
   ],
   "source": [
    "print(pow(314, 271, 123))\n",
    "print(pow(314159265358, 2718281828, 123456789))"
   ]
  },
  {
   "cell_type": "code",
   "execution_count": 11,
   "id": "6770d102",
   "metadata": {},
   "outputs": [
    {
     "name": "stdout",
     "output_type": "stream",
     "text": [
      "32073907\n"
     ]
    }
   ],
   "source": [
    "def fast_modular_exponentiation(b, e, m):\n",
    "    assert m > 0 and e >= 0\n",
    "    if e == 0:\n",
    "        return 1\n",
    "    if e == 1:\n",
    "        return b\n",
    "    if e % 2 == 0:\n",
    "        return fast_modular_exponentiation((b * b) % m, e // 2, m)\n",
    "    else:\n",
    "        return (fast_modular_exponentiation(b, e - 1, m) * b) % m\n",
    "\n",
    "\n",
    "print(fast_modular_exponentiation(314159265358, 2718281828, 123456789))"
   ]
  },
  {
   "cell_type": "markdown",
   "id": "49137147",
   "metadata": {},
   "source": [
    "## Fermat's Little Theorem"
   ]
  },
  {
   "cell_type": "code",
   "execution_count": 12,
   "id": "76f46ada",
   "metadata": {},
   "outputs": [
    {
     "data": {
      "image/png": "[encoded data removed]",
      "text/plain": [
       "<Figure size 432x288 with 1 Axes>"
      ]
     },
     "metadata": {},
     "output_type": "display_data"
    }
   ],
   "source": [
    "import networkx as nx\n",
    "import matplotlib.pyplot as plt\n",
    "from math import cos, sin, pi\n",
    "\n",
    "n, factor, rad = 10, 3, 10\n",
    "\n",
    "graph = nx.DiGraph()\n",
    "graph.add_edges_from([(i, i * factor % n) for i in range(n)])\n",
    "\n",
    "positions = [(rad * cos(i * 2 * pi / n), (rad * sin(i * 2 * pi / n)))\n",
    "             for i in range(n)]\n",
    "\n",
    "nx.draw(graph, pos=positions, with_labels=True,\n",
    "        font_color='white', node_size=400, font_size=12)\n",
    "\n",
    "plt.gca().set_aspect('equal')\n",
    "plt.savefig('fermat.png')"
   ]
  }
 ],
 "metadata": {
  "kernelspec": {
   "display_name": "Python 3 (ipykernel)",
   "language": "python",
   "name": "python3"
  },
  "language_info": {
   "codemirror_mode": {
    "name": "ipython",
    "version": 3
   },
   "file_extension": ".py",
   "mimetype": "text/x-python",
   "name": "python",
   "nbconvert_exporter": "python",
   "pygments_lexer": "ipython3",
   "version": "3.9.13"
  }
 },
 "nbformat": 4,
 "nbformat_minor": 5
}
