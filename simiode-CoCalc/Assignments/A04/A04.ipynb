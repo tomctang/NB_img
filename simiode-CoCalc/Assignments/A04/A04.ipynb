{
 "cells": [
  {
   "cell_type": "markdown",
   "id": "ee0a98",
   "metadata": {
    "collapsed": false
   },
   "source": [
    "# A04\n",
    "Abbreviated descriptions of the exercises to complete are provided below, but you should consult the text for the full description of each exercise.   The two identifiers are for the 1st and 2nd editions, respectively."
   ]
  },
  {
   "cell_type": "markdown",
   "id": "207481",
   "metadata": {
    "collapsed": false
   },
   "source": [
    "**Exercise 3.1.1(b) or 3.1.6 #2 (10 points).** Euler's Method on $u' = -u + 3t, u(0) = 2$ with $h = 0.25$ and $N = 4$ steps.  Compare with the actual values."
   ]
  },
  {
   "cell_type": "markdown",
   "id": "ba1cee",
   "metadata": {
    "collapsed": false
   },
   "source": [
    "**Exercise 3.1.2(b) or 3.1.6 #6 (15 points).** For $u' = te^{-u}, u(0) = 1$, estimate $u(3)$ using Euler's method for step sizes $h = 1, 0.1, 0.01$.  Find the actual value for $u(3)$ and compute the errors for each estimate.  Are the results consistent with the errors being $O(h)$?"
   ]
  },
  {
   "cell_type": "markdown",
   "id": "1e33c1",
   "metadata": {
    "collapsed": false
   },
   "source": [
    "**Exercise 3.2.1(b) or 3.2.4 #2(10 points).** Improved Euler's Method on $u' = -u + 3t, u(0) = 2$ with $h = 0.25$ and $N = 4$ steps.  Compare with the actual solution."
   ]
  },
  {
   "cell_type": "markdown",
   "id": "2f01c2",
   "metadata": {
    "collapsed": false
   },
   "source": [
    "**Exercise 3.2.2(b) or 3.2.4 #6(15 points).** For $u' = te^{-u}, u(0) = 1$, estimate $u(3)$ using the improved Euler's method for step sizes $h = 1, 0.1, 0.01$.  Find the actual value for $u(3)$ and compute the errors for each estimate.  Are the results consistent with the errors being $O(h^2)$?"
   ]
  },
  {
   "cell_type": "markdown",
   "id": "3dda77",
   "metadata": {
    "collapsed": false
   },
   "source": [
    "**Exercise 3.3.2(b) or 3.3.3 #6 (10 points).** For $u' = te^{-u}, u(0) = 1$, estimate $u(3)$ using the RK4 method for step sizes $h = 1, 0.1, 0.01$.  Find the actual value for $u(3)$ and compute the errors for each estimate.  Are the results consistent with the errors being $O(h^4)$?"
   ]
  },
  {
   "cell_type": "markdown",
   "id": "fc08d5",
   "metadata": {
    "collapsed": false
   },
   "source": [
    "**Exercise 3.4.1 (c) and (d) or 3.4.6 #1(c) and (d) (20 points).**  For a small data set, find best fit parameter values for the models $u(t) = at^2$ and $u(t) = at^2 + bt + c$. Compare the residuals."
   ]
  },
  {
   "cell_type": "markdown",
   "id": "f5f08f",
   "metadata": {
    "collapsed": false
   },
   "source": [
    "**Exercise 3.4.2 or 3.4.6 #2(10 points).**  Find the best fit model for the decomposition of hydrogen peroxide (with a small data set)."
   ]
  },
  {
   "cell_type": "markdown",
   "id": "92746c",
   "metadata": {
    "collapsed": false
   },
   "source": [
    "**Exercise 3.4.4 or 3.4.6 #4(10 points).** Use our model for Usain Bolt to determine how fast he would run a 200-meter, mile (1609.34 meters), and a marathon (42195 meters).  Compare to world records and explain the differences."
   ]
  },
  {
   "cell_type": "code",
   "execution_count": 0,
   "id": "fcc0ad",
   "metadata": {
    "collapsed": false
   },
   "outputs": [
   ],
   "source": [
   ]
  }
 ],
 "metadata": {
  "kernelspec": {
   "argv": [
    "sage-9.6",
    "--python",
    "-m",
    "sage.repl.ipython_kernel",
    "--matplotlib=inline",
    "-f",
    "{connection_file}"
   ],
   "display_name": "SageMath 9.6",
   "env": {
   },
   "language": "sagemath",
   "metadata": {
    "cocalc": {
     "description": "Open-source mathematical software system",
     "priority": 1,
     "url": "https://www.sagemath.org/"
    }
   },
   "name": "sage-9.6",
   "resource_dir": "/ext/jupyter/kernels/sage-9.6"
  },
  "language_info": {
   "codemirror_mode": {
    "name": "ipython",
    "version": 3
   },
   "file_extension": ".py",
   "mimetype": "text/x-python",
   "name": "python",
   "nbconvert_exporter": "python",
   "pygments_lexer": "ipython3",
   "version": "3.10.3"
  }
 },
 "nbformat": 4,
 "nbformat_minor": 4
}