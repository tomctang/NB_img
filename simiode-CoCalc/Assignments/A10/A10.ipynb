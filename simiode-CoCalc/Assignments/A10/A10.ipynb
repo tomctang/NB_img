{
 "cells": [
  {
   "cell_type": "markdown",
   "id": "a4d094",
   "metadata": {
    "collapsed": false
   },
   "source": [
    "# A10 (125 points)\n",
    "Except where stated otherwise, solutions for the following exercises should be found by hand, but you are encouraged to use the computer to check the overall solutions and the specific steps."
   ]
  },
  {
   "cell_type": "markdown",
   "id": "f86c59",
   "metadata": {
    "collapsed": false
   },
   "source": [
    "**Exercise 6.1.2d OR 6.1.3 #15 (5 points).** Convert $u''(t) + u'(t)u(t) = 7$ with $u(1) = 2$ and $u'(1) = 4$ into a system of first-order differential equations.  Be sure to specify how each new variable is related to the original variables."
   ]
  },
  {
   "cell_type": "markdown",
   "id": "6fe9df",
   "metadata": {
    "collapsed": false
   },
   "source": [
    "**Exercise 6.1.2f OR 6.1.3 #17 (5 points).** Convert $u^{(4)}(t) + u'''(t) + 4u''(t) + 5u'(t) + 3u(t) = 0$ with $u(0) = 1$, $u'(0) = 0$, $u''(0) = -1$ and $u'''(0) = 4$ into a system of first-order differential equations.   Be sure to specify how each new variable is related to the original variables."
   ]
  },
  {
   "cell_type": "markdown",
   "id": "e1705a",
   "metadata": {
    "collapsed": false
   },
   "source": [
    "**Exercise 6.1.3d OR 6.1.3 #95 (10 points).** Convert the couple system $3u_1''(t) + \\sin(u_2'(t)) - u_2(t) = t$ and $u_2''(t) - 2u_2(t) + u_1(t) = 0$ with $u_1(0) = 1$, $u_1'(0) = 3$, $u_2(0) = -2$, and $u_2'(0) = 5$ into a system of first-order differential equations with initial conditions.  Be sure to specify how each new variable is related to the original variables."
   ]
  },
  {
   "cell_type": "markdown",
   "id": "fc2c66",
   "metadata": {
    "collapsed": false
   },
   "source": [
    "**Exercise X1 (20 points).** Find the analytical solution to $\\overset{.}{x}_1 = 3x_1 - x_2, \\overset{.}{x}_2 = x_1 + x_2$.  Find the specific analytic solution with the initial conditions $x_1(0) = 0$ and $x_2(0) = 1$. Obtain a phase portrait that includes the nullclines, direction of motion in each region, straight-line solution curves (if they exist), and other representative solution curves (including the one for the given initial conditions),"
   ]
  },
  {
   "cell_type": "markdown",
   "id": "594bea",
   "metadata": {
    "collapsed": false
   },
   "source": [
    "**Exercise 6.2.1f OR 6.2.5 #6 (20 points).** Consider the system $\\overset{.}{x}_1 = -7x_1 +  2x_2 + 6x_3, \\overset{.}{x}_2 = -6x_1 - x_2 + 4x_3, \\overset{.}{x}_3 = -9x_1 + 2x_2 + 8x_3$ with initial conditions $x_1(0) = -2$, $x_2(0) = 2$, and $x_3 = -4$..Formulate the system as $X' = AX$ by explicitly writing out the matrix $A$.  Find the eigenvalues and eigenvectors of $A$ (this can be done using SageMath or any other symbol manipulation software) and use them to write out a general solution.  If any eigenvalues for $A$ are complex, write out a general solution that does not involve imaginary numbers.  Use either form of the general solution to obtain the given initial data."
   ]
  },
  {
   "cell_type": "markdown",
   "id": "0d3153",
   "metadata": {
    "collapsed": false
   },
   "source": [
    "**Exercise 6.3.2b OR 6.3.4 #10 (20 points).** Consider the system $\\overset{.}{x}_1 = -6x_1 +  2x_2 - 3e^{-3t}, \\overset{.}{x}_2 = -15x_1 + 5x_2 - 9e^{-3t}$ with initial conditions $x_1(0) = 1$ and $x_2(0) = 2$.. \n",
    "\n",
    "- Formulate the system as $\\overset{.}{\\bf{x}} = \\mathbf{A}\\mathbf{x} + \\mathbf{f} (t)$ by explicitly writing out the matrix $\\mathbf{A}$ and function $\\mathbf{f}(t)$.  \n",
    "- Use the method of undetermined coefficients to find a particular solution $\\mathbf{x}_p(t)$ to the system. \n",
    "- Find the eigenvalues and egenvectors of $\\mathbf{A}$ (this can be done using SageMath or any other symbol manipulation software) and use them to write out a general solution to the homogeneous system $\\overset{.}{\\mathbf{x}} = \\mathbf{A}\\mathbf{x}$.  \n",
    "- Form the general solution $\\mathbf{x}(t)$ to the nonhomogeneous system and obtain the given initial data."
   ]
  },
  {
   "cell_type": "markdown",
   "id": "53e602",
   "metadata": {
    "collapsed": false
   },
   "source": [
    "**Exercise 6.3.3ab OR 6.3.4 #16ab (20 points).** Consider a two-compartment salt tank problem in the arrangement of Figure 6.8. Let x1(t) denote the amount of salt in tank 1 and x2(t) the amount of salt in tank 2.  Suppose both tanks start filled with pure water.\n",
    "\n",
    "![](https://cocalc.com/blobs/paste-0.3352651034247224?uuid=33f7b512-7464-4e39-98c6-5972f8141b0a)\n",
    "\n",
    "(a) Formulate this salt tank problem as a nonhomogeneous linear system of ODEs in the form ˙$\\mathbf{x} = \\mathbf{A}\\mathbf{x} + \\mathbf{f}$. Explicitly write out $\\mathbf{A}$ and $\\mathbf{f}$. What are the initial conditions\n",
    "\n",
    "(b) Solve the system using the method of undetermined coefficients."
   ]
  },
  {
   "cell_type": "markdown",
   "id": "25801e",
   "metadata": {
    "collapsed": false
   },
   "source": [
    "**Exercise 6.3.5ef OR 6.3.4 #18ef (10 points).**  Note that it would be good to go through parts (a) to (d) but all that is needed to complete parts (e) and (f) is the system stated in part (d).  For part (f), it is okay to use SageMath to find the solution."
   ]
  },
  {
   "cell_type": "markdown",
   "id": "d73157",
   "metadata": {
    "collapsed": false
   },
   "source": [
    "**Exercise X2 (15 points).**  On a drawing of the trace-determinant plane, draw paths that are consistent with animations B, C,and D found in Class Notes."
   ]
  },
  {
   "cell_type": "code",
   "execution_count": 0,
   "id": "1fcdb3",
   "metadata": {
    "collapsed": false
   },
   "outputs": [
   ],
   "source": [
   ]
  }
 ],
 "metadata": {
  "kernelspec": {
   "argv": [
    "sage-9.7",
    "--python",
    "-m",
    "sage.repl.ipython_kernel",
    "--matplotlib=inline",
    "-f",
    "{connection_file}"
   ],
   "display_name": "SageMath 9.7",
   "env": {
   },
   "language": "sagemath",
   "metadata": {
    "cocalc": {
     "description": "Open-source mathematical software system",
     "priority": 1,
     "url": "https://www.sagemath.org/"
    }
   },
   "name": "sage-9.7",
   "resource_dir": "/ext/jupyter/kernels/sage-9.7"
  },
  "language_info": {
   "codemirror_mode": {
    "name": "ipython",
    "version": 3
   },
   "file_extension": ".py",
   "mimetype": "text/x-python",
   "name": "python",
   "nbconvert_exporter": "python",
   "pygments_lexer": "ipython3",
   "version": "3.10.5"
  }
 },
 "nbformat": 4,
 "nbformat_minor": 4
}