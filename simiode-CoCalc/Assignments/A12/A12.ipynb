{
 "cells": [
  {
   "cell_type": "markdown",
   "id": "ce5dc3",
   "metadata": {
    "collapsed": false
   },
   "source": [
    "# A12 (110 points)"
   ]
  },
  {
   "cell_type": "markdown",
   "id": "5f96b4",
   "metadata": {
    "collapsed": false
   },
   "source": [
    "**Exercise 7.6.2 OR 7.6.4 #4 (20 points).** A frictionless spring-mass system with mass $m$ and spring constant $k$ obeys $m\\overset{..}{x} + kx = 0$.\n",
    "\n",
    "(a) Let $x_1(t) = x(t)$ and $x_2(t) = \\overset{.}{x}(t)$. Formulate this ODE as a coupled pair of first-order ODEs in the form $\\mathbf{\\overset{.}{x}} = \\mathbf{f}(\\mathbf{x})$ where $\\mathbf{x} = (x_1, x_2)$.\n",
    "\n",
    "(b) Verify that the quantity $E(u_1, u_2) = \\frac{k}{2}u_1^2 + \\frac{m}{2}u_2^2$ is a first integral for this system; recall (7.72). What does this say about the trajectories of the system in the $x_1x_2$ phase plane?\n",
    "\n",
    "(c) Suppose the system now has damping and is governed by $m\\overset{..}{x} + \\overset{.}{x} + kx = 0$. Repeat parts (a) and (b) with the same function $E$ and show that $E$ acts as a Lyapunov function by showing that $\\nabla E \\cdot \\mathbf{f} = -cu_2^2$, so that $\\nabla E \\cdot \\mathbf{f} \\leq 0$ for all $u_1$ and $u_2$. What does this say about this equilibrium point’s stability? You may find Theorem 7.6.1 useful, and Theorem 7.6.3 for an even stronger conclusion (using $V = E$ in those theorems)."
   ]
  },
  {
   "cell_type": "markdown",
   "id": "a0cf0f",
   "metadata": {
    "collapsed": false
   },
   "source": [
    "**X1-3.** Analyze each of the following systems of two first-order differential equations.  The analysis should include  the following:\n",
    "\n",
    "(a) a phase plane diagram over an appropriate domain with nullclines and representative solution curves, \n",
    "\n",
    "(b) list of all equilibria and their linearization types, \n",
    "\n",
    "(c) a determination of whether something is conserved, and \n",
    "\n",
    "(d) description of the long term behavior as a function of the initial condition."
   ]
  },
  {
   "cell_type": "markdown",
   "id": "c098c1",
   "metadata": {
    "collapsed": false
   },
   "source": [
    "**X1 (20 points).**\n",
    "$\\begin{array}{lcl}\n",
    "\\overset{.}{x} &=& y^2 + y\\\\\n",
    "\\overset{.}{y} &=& x - y\n",
    "\\end{array}$"
   ]
  },
  {
   "cell_type": "markdown",
   "id": "d88642",
   "metadata": {
    "collapsed": false
   },
   "source": [
    "**X2 (20 points).**\n",
    "$\\begin{array}{lcl}\n",
    "\\overset{.}{x} &=& \\sin(x)\\cos(y) \\\\\n",
    "\\overset{.}{y} &=& 2x - \\cos(x) \\sin(y)\n",
    "\\end{array}$"
   ]
  },
  {
   "cell_type": "markdown",
   "id": "bdfdbb",
   "metadata": {
    "collapsed": false
   },
   "source": [
    "**X3 (20 points).**\n",
    "$\\begin{array}{lcl}\n",
    "\\overset{.}{x} &=& -x^2 y \\\\\n",
    "\\overset{.}{y} &=& x + 1\n",
    "\\end{array}$"
   ]
  },
  {
   "cell_type": "markdown",
   "id": "f8fdc4",
   "metadata": {
    "collapsed": false
   },
   "source": [
    "**X4 (15 points).** Consider the damped pendulum system \n",
    "\n",
    "$\\qquad\\begin{array}{lcl}\n",
    "\\overset{.}{\\theta} &=& v \\\\\n",
    "\\overset{.}{v}        &=& -(g/l)\\sin(\\theta) - (b/m)v\n",
    "\\end{array}$\n",
    "\n",
    "where $m$ is the mass of the bob, $b$ is the damping coefficient, $l$ is the length of the rod, and $g$ is the acceleration due to gravity.\n",
    "\n",
    "(a) What relationship must hold among the parameters for the period of a small swing back and forth of the damped pendulum to be one second?\n",
    "\n",
    "(b) If the length of the rod is increased, how will the period for small amplitude swings of the pendulum change?\n",
    "\n",
    "(c) Suppose the dampling constant $b$ is small but positive.  How will the period and frequency change (if at all) as time increases? "
   ]
  },
  {
   "cell_type": "markdown",
   "id": "75a702",
   "metadata": {
    "collapsed": false
   },
   "source": [
    "**X5 (5 points).**  If you walk down a flight of stairs at one particular speed holding a full cup of coffee, the coffee sloshes (Painfully) onto your hand.  However, at slower or faster speeds, the coffee stays in the cup.  Why?"
   ]
  },
  {
   "cell_type": "markdown",
   "id": "35b919",
   "metadata": {
    "collapsed": false
   },
   "source": [
    "**X6 (5 points).** When you drive down a bumpy road, are the vibrations you experience due to resonance?"
   ]
  },
  {
   "cell_type": "markdown",
   "id": "c019ff",
   "metadata": {
    "collapsed": false
   },
   "source": [
    "**X7 (5 points).**  Describe three different possible long-term behaviors for a solution of a system of the form $\\begin{array}{l} \\overset{.}{x} = f(x,y) \\\\ \\overset{.}{y} = g(x, y) \\end{array}$.  Hint: Of course, we have analyzed many such systems; however, the following code creates a phase diagram for another such system."
   ]
  },
  {
   "cell_type": "code",
   "execution_count": 12,
   "id": "28eb5f",
   "metadata": {
    "collapsed": false
   },
   "outputs": [
    {
     "data": {
      "image/png": "[encoded data removed]",
      "text/plain": "Graphics object consisting of 5 graphics primitives"
     },
     "output_type": "execute_result"
    }
   ],
   "source": [
    "var('x y'); l = 4\n",
    "xp = x*(sqrt(x^2 + y^2) - 1)*(sqrt(x^2 + y^2) - 2)*(sqrt(x^2 + y^2) - 3) - y\n",
    "yp = y*(sqrt(x^2 + y^2) - 1)*(sqrt(x^2 + y^2) - 2)*(sqrt(x^2 + y^2) - 3) + x\n",
    "solns = streamline_plot([xp, yp], (x, -l, l), (y, -l, l))\n",
    "s0 = point((0,0), size = 20, color = \"black\")\n",
    "s1 = implicit_plot(x^2 + y^2 == 1, (x, -l, l), (y, -l, l), color = \"black\")\n",
    "s2 = implicit_plot(x^2 + y^2 == 4, (x, -l, l), (y, -l, l), color = \"black\")\n",
    "s3 = implicit_plot(x^2 + y^2 == 9, (x, -l, l), (y, -l, l), color = \"black\")\n",
    "show(s1 + s2 + s3 + solns + s0)"
   ]
  },
  {
   "cell_type": "code",
   "execution_count": 0,
   "id": "7aa710",
   "metadata": {
    "collapsed": false
   },
   "outputs": [
   ],
   "source": [
   ]
  }
 ],
 "metadata": {
  "kernelspec": {
   "argv": [
    "sage-9.7",
    "--python",
    "-m",
    "sage.repl.ipython_kernel",
    "--matplotlib=inline",
    "-f",
    "{connection_file}"
   ],
   "display_name": "SageMath 9.7",
   "env": {
   },
   "language": "sagemath",
   "metadata": {
    "cocalc": {
     "description": "Open-source mathematical software system",
     "priority": 1,
     "url": "https://www.sagemath.org/"
    }
   },
   "name": "sage-9.7",
   "resource_dir": "/ext/jupyter/kernels/sage-9.7"
  },
  "language_info": {
   "codemirror_mode": {
    "name": "ipython",
    "version": 3
   },
   "file_extension": ".py",
   "mimetype": "text/x-python",
   "name": "python",
   "nbconvert_exporter": "python",
   "pygments_lexer": "ipython3",
   "version": "3.10.5"
  }
 },
 "nbformat": 4,
 "nbformat_minor": 4
}