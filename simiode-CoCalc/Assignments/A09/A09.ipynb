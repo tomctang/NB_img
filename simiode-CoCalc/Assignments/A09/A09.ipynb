{
 "cells": [
  {
   "cell_type": "markdown",
   "id": "d66e0f",
   "metadata": {
    "collapsed": false
   },
   "source": [
    "# A09 Exercises"
   ]
  },
  {
   "cell_type": "markdown",
   "id": "29df66",
   "metadata": {
    "collapsed": false
   },
   "source": [
    "**Exercise 6.1.1b (5 points).** $\\overset{.}{x}_1 = x_1 + x_2, \\overset{.}{x}_2 = x_1 - 2x_2$ is."
   ]
  },
  {
   "cell_type": "markdown",
   "id": "b803d3",
   "metadata": {
    "collapsed": false
   },
   "source": [
    "**Exercise 6.1.1d (5 points).** $\\overset{.}{x}_1 = tx_1 - x_2, \\overset{.}{x}_2 = x_1 + \\sin(t)x_2$ is "
   ]
  },
  {
   "cell_type": "markdown",
   "id": "226bd7",
   "metadata": {
    "collapsed": false
   },
   "source": [
    "**Exercise 6.1.1f (5 points).** $\\overset{.}{x}_1 = e^{x_1 + 2x_2}, \\overset{.}{x}_2 = x_1 - 4x_2$ is"
   ]
  },
  {
   "cell_type": "markdown",
   "id": "ca024a",
   "metadata": {
    "collapsed": false
   },
   "source": [
    "**Exercise 6.1.1h (5 points).** $\\overset{.}{x}_1 = x_1 - x_2x_3, \\overset{.}{x}_2 = x_1 + tx_2 - x_3,  \\overset{.}{x}_3 = x_1 - 2x_2 + e^tx_3$ is "
   ]
  },
  {
   "cell_type": "markdown",
   "id": "c97fc9",
   "metadata": {
    "collapsed": false
   },
   "source": [
    "**Exercise 6.2.1b (20 points).** Solve $\\overset{.}{x}_1 = - x_2, \\overset{.}{x}_2 = 6x_1 - 5x_2$ with $x_1(0) = 2$ and $x_2(0) = 5$ analytically. In addition, obtain a phase portrait that includes the nullclines, direction of motion in each region, straight-line solution curves (if they exist), and other representative solution curves (including the one for the given initial conditions),"
   ]
  },
  {
   "cell_type": "markdown",
   "id": "4f9494",
   "metadata": {
    "collapsed": false
   },
   "source": [
    "**Exercise 6.2.1d (20 points).** Solve $\\overset{.}{x}_1 = -2x_1 - 3x_2, \\overset{.}{x}_2 = 3x_1 - 2x_2$ with $x_1(0) = 2$ and $x_2(0) = -2$ analytically. In addition, obtain a phase portrait that includes the nullclines, direction of motion in each region, straight-line solution curves (if they exist), and other representative solution curves (including the one for the given initial conditions),"
   ]
  },
  {
   "cell_type": "markdown",
   "id": "3add63",
   "metadata": {
    "collapsed": false
   },
   "source": [
    "**Exercise 6.2.1h (20 points).** Solve $\\overset{.}{x}_1 = x_1 +  3x_2, \\overset{.}{x}_2 = x_1 - x_2$ with $x_1(0) = 2$ and $x_2(0) = 2$ analytically. In addition, obtain a phase portrait that includes the nullclines, direction of motion in each region, straight-line solution curves (if they exist), and other representative solution curves (including the one for the given initial conditions),"
   ]
  },
  {
   "cell_type": "markdown",
   "id": "d04d4e",
   "metadata": {
    "collapsed": false
   },
   "source": [
    "**Modeling Exercise (20 points).** (This problem appears in *Differential Equations* by Paul Blanchard, Robert L. Devaney, and Glen R. Hall)  Consider the following model of the market for single family housing in a community.  Let $S(t)$ be the number of sellers at time $t$, and let $B(t)$  be the number of buyers at time $t$.  We assume that there are natural equilibrium levels of buyers and sellers (made up of people who retire, change job locations, or wish to move for family reasons).  The equilibrium level of sellers is $S_0$, and the equilibrium level of buyers is $B_0$.\n",
    "\n",
    "However, market forces can entice people to buy or sell under various conditions.  For example, if the price of a house is very high, then house owners are tempted to sell their homes.  If prices are very low, extra buyers enter the market looking for bargains.  We let $b(t) = B(t) - B_0$ denote the deviation of the number of buyers from equilibrium at time $t$.  So if $b(t) > 0$, then there arer more buyers than usual, and we say it is a \"seller's market.\"  Presumably the competion of the extra buyers for the same number of houses for sale will force the prices up (the law of supply and demand).\n",
    "\n",
    "Similarly, we let $s(t) = S(t) - S_0$ denote the deviation of the number of sellers from the equilibrium level.  If $s(t) > 0$, then there are more sellers on the market than usual; and if the number of buyers is low, there are more sellers on the market than usual; and if the number of buyers is low, there are too many houses on the market and prices decrease, which in turn affects decisions to buy or sell.\n",
    "\n",
    "We give a simple model of this situation as follows:\n",
    "\n",
    "$\\qquad \\dfrac{d\\bf{Y}}{dt} = A\\bf{Y} = \\begin{bmatrix} \\alpha & \\beta \\\\ \\gamma & \\delta \\end{bmatrix} \\begin{bmatrix} b \\\\ s \\end{bmatrix}$. where $\\bf{Y} = \\begin{bmatrix} b \\\\ s \\end{bmatrix}$\n",
    "\n",
    "The exact values of the parameters $\\alpha$, $\\beta$, $\\gamma$, and $\\delta$ depend on the economy of a particular community.  Nevertheless, if we assume that everybody wants to get a bargain when they are buying a hourse and to get top dollar when they are selling a house, then we can hope to predict whether the parameters are positive or negative even though we cannot predict their exact values.\n",
    "\n",
    "Use the information given above to obtain information about  the parameters $\\alpha$, $\\beta$, $\\gamma$, and $\\delta$.  Be sure to justify your answers.\n",
    "\n",
    "(a) If there are more than the usual number of buyers competing for houses, we would expect the price of houses to rise and this increase would make it less likely that new potential buyers will enter the market.  What does this say about the parameter $\\alpha$?\n",
    "\n",
    "(b) If there are fewer than the usuall number of buyers competing for the houses available for sale, then we would expect the price of houses to decrease.  As a recult, fewer potential sellers will place their houses on the market.  What does this imply about the parametr $\\gamma$?\n",
    "\n",
    "(c) Consider the effect on home prices if $s > 0$ and the susequent effect on buyers and sellers.  Then determine the sign of the parameter $\\beta$.\n",
    "\n",
    "(d) Determine the most reasonable sign for the parameter $\\delta$."
   ]
  }
 ],
 "metadata": {
  "kernelspec": {
   "argv": [
    "sage-9.7",
    "--python",
    "-m",
    "sage.repl.ipython_kernel",
    "--matplotlib=inline",
    "-f",
    "{connection_file}"
   ],
   "display_name": "SageMath 9.7",
   "env": {
   },
   "language": "sagemath",
   "metadata": {
    "cocalc": {
     "description": "Open-source mathematical software system",
     "priority": 1,
     "url": "https://www.sagemath.org/"
    }
   },
   "name": "sage-9.7",
   "resource_dir": "/ext/jupyter/kernels/sage-9.7"
  },
  "language_info": {
   "codemirror_mode": {
    "name": "ipython",
    "version": 3
   },
   "file_extension": ".py",
   "mimetype": "text/x-python",
   "name": "python",
   "nbconvert_exporter": "python",
   "pygments_lexer": "ipython3",
   "version": "3.10.5"
  }
 },
 "nbformat": 4,
 "nbformat_minor": 4
}