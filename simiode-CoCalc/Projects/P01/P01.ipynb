{
 "cells": [
  {
   "cell_type": "markdown",
   "id": "66d0ad",
   "metadata": {
    "collapsed": false
   },
   "source": [
    "# P01 Hang Time"
   ]
  },
  {
   "cell_type": "markdown",
   "id": "1b8bb8",
   "metadata": {
    "collapsed": false
   },
   "source": [
    "### Instructions\n",
    "Complete the Section 1.6.1 Hang Time Project with the following addition to Modeling Exercise 6.1.7:  Include a labeled plot of the player's abdominal height as a function of time.  Your answers should be placed in this file in an organized fashion. Use complete sentences and appropriate mathematical notation.  I have helped you out with the organization and given you most of the sentence you need to answer Modeling Exercise 6.1.1.  \n",
    "\n",
    "When the submission is ready to be graded, rename the file from **P01.ipynb** to **GRADE P01.ipynb**.. If two or three students worked together, only one student should do the renaming.  The instructor will electronically collect your notebook sometime after the deadline."
   ]
  },
  {
   "cell_type": "markdown",
   "id": "2bc341",
   "metadata": {
    "collapsed": false
   },
   "source": [
    "### Group Members\n",
    "Replace this text with the names of the members of your group."
   ]
  },
  {
   "cell_type": "markdown",
   "id": "e1a453",
   "metadata": {
    "collapsed": false
   },
   "source": [
    "### Acknowledgements\n",
    "Replace this text with either (1) an acknowledgment of any person who gave you assistance and/or any resource that was used, or (2) a statement that you did not use any outside assistance."
   ]
  },
  {
   "cell_type": "markdown",
   "id": "4f1f30",
   "metadata": {
    "collapsed": false
   },
   "source": [
    "### Modeling Exercise 6.1.1\n",
    "The acceleration is $a = $."
   ]
  },
  {
   "cell_type": "markdown",
   "id": "8a7024",
   "metadata": {
    "collapsed": false
   },
   "source": [
    "### Modeling Exercise 6.1.2"
   ]
  },
  {
   "cell_type": "markdown",
   "id": "5a27f9",
   "metadata": {
    "collapsed": false
   },
   "source": [
    "### Modeling Exercise 6.1.3"
   ]
  },
  {
   "cell_type": "markdown",
   "id": "90832a",
   "metadata": {
    "collapsed": false
   },
   "source": [
    "### Modeling Exercise 6.1.4"
   ]
  },
  {
   "cell_type": "markdown",
   "id": "565e20",
   "metadata": {
    "collapsed": false
   },
   "source": [
    "### Modeling Exercise 6.1.5"
   ]
  },
  {
   "cell_type": "markdown",
   "id": "3664f0",
   "metadata": {
    "collapsed": false
   },
   "source": [
    "### Modeling Exercise 6.1.6"
   ]
  },
  {
   "cell_type": "markdown",
   "id": "f65b38",
   "metadata": {
    "collapsed": false
   },
   "source": [
    "### Modeling Exercise 6.1.7"
   ]
  },
  {
   "cell_type": "code",
   "execution_count": 0,
   "id": "3a898f",
   "metadata": {
    "collapsed": false
   },
   "outputs": [
   ],
   "source": [
   ]
  },
  {
   "cell_type": "code",
   "execution_count": 0,
   "id": "e235c0",
   "metadata": {
    "collapsed": false
   },
   "outputs": [
   ],
   "source": [
   ]
  }
 ],
 "metadata": {
  "kernelspec": {
   "argv": [
    "sage-9.6",
    "--python",
    "-m",
    "sage.repl.ipython_kernel",
    "--matplotlib=inline",
    "-f",
    "{connection_file}"
   ],
   "display_name": "SageMath 9.6",
   "env": {
   },
   "language": "sagemath",
   "metadata": {
    "cocalc": {
     "description": "Open-source mathematical software system",
     "priority": 1,
     "url": "https://www.sagemath.org/"
    }
   },
   "name": "sage-9.6",
   "resource_dir": "/ext/jupyter/kernels/sage-9.6"
  }
 },
 "nbformat": 4,
 "nbformat_minor": 4
}