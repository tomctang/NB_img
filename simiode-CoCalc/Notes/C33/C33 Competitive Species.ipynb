{
 "cells": [
  {
   "cell_type": "markdown",
   "metadata": {
    "collapsed": false
   },
   "source": [
    "# C33 Competitive Species Model"
   ]
  },
  {
   "cell_type": "markdown",
   "metadata": {
    "collapsed": false
   },
   "source": [
    "### Equilibrium Points"
   ]
  },
  {
   "cell_type": "code",
   "execution_count": 0,
   "metadata": {
    "collapsed": false
   },
   "outputs": [
   ],
   "source": [
    "var('a b c d m n x y')\n",
    "soln = solve([1 == x/m + c/a*y, 1 == y/n + d/b*x], [x, y])[0]\n",
    "show(soln)\n",
    "cx0 = soln[0].rhs(); cy0 = soln[1].rhs()"
   ]
  },
  {
   "cell_type": "markdown",
   "metadata": {
    "collapsed": false
   },
   "source": [
    "### Equilibrium Point Analysis"
   ]
  },
  {
   "cell_type": "code",
   "execution_count": 0,
   "metadata": {
    "collapsed": false
   },
   "outputs": [
   ],
   "source": [
    "var('a b c d m n')\n",
    "J(x0, y0) = matrix([[a-(2*a/m)*x0-c*y0, -c*x0], [-d*y0, b-(2*b/n)*y0-d*x0]])\n",
    "JJ = J(0, n)\n",
    "show(JJ)\n",
    "T = JJ.trace(); show(T)\n",
    "D = JJ.det(); show(D)\n",
    "P = factor(T^2 - 4*D); show(P)"
   ]
  },
  {
   "cell_type": "code",
   "execution_count": 0,
   "metadata": {
    "collapsed": false
   },
   "outputs": [
   ],
   "source": [
    "JJ = J(cx0, cy0)\n",
    "show(JJ)\n",
    "T = factor(JJ.trace()); show(T)\n",
    "D = factor(JJ.det()); show(D)\n",
    "P = factor(T^2 - 4*D); show(P)"
   ]
  },
  {
   "cell_type": "code",
   "execution_count": 0,
   "metadata": {
    "collapsed": false
   },
   "outputs": [
   ],
   "source": [
    "Pnum = P.numerator()/(a*b)\n",
    "Qnum = a*b*(a - c*n - b + d*m)^2 + 4*(a - c*n)*(b - d*m)*c*d*m*n; show(Qnum)\n",
    "expand(Pnum-Qnum)"
   ]
  },
  {
   "cell_type": "code",
   "execution_count": 0,
   "metadata": {
    "collapsed": false,
    "scrolled": true
   },
   "outputs": [
   ],
   "source": [
    "forget(); assume(a > 0, b > 0, c > 0, d > 0, m > 0, n > 0, a > c*n, b > d*m)\n",
    "[bool(a > c*n), bool(a - c*n > 0), bool(a - c*n + b - d*m > 0), bool((a - c*n) * (b - d*m) > 0)]"
   ]
  },
  {
   "cell_type": "code",
   "execution_count": 0,
   "metadata": {
    "collapsed": false
   },
   "outputs": [
   ],
   "source": [
   ]
  }
 ],
 "metadata": {
  "kernelspec": {
   "display_name": "SageMath 9.7",
   "language": "sagemath",
   "metadata": {
    "cocalc": {
     "description": "Open-source mathematical software system",
     "priority": 10,
     "url": "https://www.sagemath.org/"
    }
   },
   "name": "sage-9.7",
   "resource_dir": "/ext/jupyter/kernels/sage-9.7"
  }
 },
 "nbformat": 4,
 "nbformat_minor": 4
}