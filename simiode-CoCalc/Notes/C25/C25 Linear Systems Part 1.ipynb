{
 "cells": [
  {
   "cell_type": "markdown",
   "id": "62ea7f",
   "metadata": {
    "collapsed": false
   },
   "source": [
    "# C25 Linear Systems Part 1"
   ]
  },
  {
   "cell_type": "markdown",
   "id": "954d1d",
   "metadata": {
    "collapsed": false
   },
   "source": [
    "#### The Problem\n",
    "$\\qquad\n",
    "\\begin{array}{lcrcrl}\n",
    "x' &=& -5x &+& 3y  & \\text{(ODE)} \\\\\n",
    "y' &=&    x &-& 3y \n",
    "\\end{array}\n",
    "$\n",
    "\n",
    "$\\qquad x(0) = 0$ and $y(0) = 4 \\;$ (ics)."
   ]
  },
  {
   "cell_type": "code",
   "execution_count": 0,
   "id": "c456e6",
   "metadata": {
    "collapsed": false
   },
   "outputs": [
   ],
   "source": [
    "# Phase Plane\n",
    "var('x y'); l = 5\n",
    "xp = -5*x + 3*y\n",
    "yp =    x - 3*y\n",
    "xnull = implicit_plot(xp == 0, (x,-l,l), (y,-l,l), color='red')\n",
    "ynull = implicit_plot(yp == 0, (x,-l,l), (y,-l,l), color='blue')\n",
    "# The first four initial conditions yield the straight line solutions.\n",
    "# The other initial conditions were chosen to illustrate all solution types.\n",
    "ics = [(1,1), (-1,-1), (3,-1), (-3,1), (0,4), (0,-4), (3,0), (-3,0)]\n",
    "solns = streamline_plot([xp, yp], (x,-l,l), (y,-l,l), start_points = ics, color='green')\n",
    "pics = point(ics)\n",
    "show(xnull + ynull + solns + pics, aspect_ratio=1)"
   ]
  },
  {
   "cell_type": "code",
   "execution_count": 0,
   "id": "df5bca",
   "metadata": {
    "collapsed": false
   },
   "outputs": [
   ],
   "source": [
    "# Set up the matrix of coefficients and vector of variables\n",
    "A = matrix([[-5, 3], [1, -3]])\n",
    "var('x y'); X = vector([x, y])\n",
    "show(A, X, A*X)"
   ]
  },
  {
   "cell_type": "code",
   "execution_count": 0,
   "id": "df318e",
   "metadata": {
    "collapsed": false
   },
   "outputs": [
   ],
   "source": [
    "# Equilibria\n",
    "eqns = [0 == (A*X)[k] for k in range(2)]; show(eqns)\n",
    "solve(eqns, [x,y])\n",
    "# A \\ vector([0, 0]) returns (0, 0) regardless of A and so is not helpful."
   ]
  },
  {
   "cell_type": "code",
   "execution_count": 0,
   "id": "4548bb",
   "metadata": {
    "collapsed": false
   },
   "outputs": [
   ],
   "source": [
    "# Alternatively, we know that the zero vector is an equilibrium.\n",
    "# This will be the unique equilibrium if the determinent of A is nonzero.\n",
    "A.det()"
   ]
  },
  {
   "cell_type": "code",
   "execution_count": 0,
   "id": "2996de",
   "metadata": {
    "collapsed": false
   },
   "outputs": [
   ],
   "source": [
    "# With the guess X = B*e^(r*t), we obtain AB = rB, or equivalently (A - rI)B = 0.\n",
    "# This will have a non-zero solution B iff det(A - rI) = 0.\n",
    "# det(A - rI) is called the characteristic polynomial of A.\n",
    "var('r')\n",
    "AmrI = A - r*identity_matrix(2); show(AmrI)\n",
    "cpol = AmrI.det(); show(cpol); show(cpol.expand())\n",
    "solve(cpol, r)"
   ]
  },
  {
   "cell_type": "code",
   "execution_count": 0,
   "id": "d16f96",
   "metadata": {
    "collapsed": false
   },
   "outputs": [
   ],
   "source": [
    "# The solutions to det(A - rI) = 0 are called the eigenvalues of A.\n",
    "A.eigenvalues()"
   ]
  },
  {
   "cell_type": "code",
   "execution_count": 0,
   "id": "a18cdf",
   "metadata": {
    "collapsed": false
   },
   "outputs": [
   ],
   "source": [
    "# For r = -6, we solve (A - rI)B = 0 for the B vector to obtain (SOLN1).\n",
    "var('a b')\n",
    "RHS = (A - (-6)*identity_matrix(2))*vector([a,b])\n",
    "eqns = [0 == RHS[k] for k in range(2)]; show(eqns)\n",
    "solve(eqns, [a,b])\n"
   ]
  },
  {
   "cell_type": "code",
   "execution_count": 0,
   "id": "48c381",
   "metadata": {
    "collapsed": false
   },
   "outputs": [
   ],
   "source": [
    "# For r = -2, we solve (A - rI)B = 0 for the B vector to obtain (SOLN2).\n",
    "var('a b')\n",
    "RHS = (A - (-2)*identity_matrix(2))*vector([a,b])\n",
    "eqns = [0 == RHS[k] for k in range(2)]; show(eqns)\n",
    "solve(eqns, [a,b])"
   ]
  },
  {
   "cell_type": "code",
   "execution_count": 0,
   "id": "3e82ec",
   "metadata": {
    "collapsed": false
   },
   "outputs": [
   ],
   "source": [
    "# The eigenvalues and vectors can be obtained in one step.\n",
    "(evalues, evectors) = A.eigenmatrix_left(); show(evalues, evectors)"
   ]
  },
  {
   "cell_type": "code",
   "execution_count": 0,
   "id": "1a9909",
   "metadata": {
    "collapsed": false
   },
   "outputs": [
   ],
   "source": [
    "# The general solution can be created from the eigen information.\n",
    "var('a b t')\n",
    "xsol(t) = a*1*e^(-2*t) + b*  3 *e^(-6*t); show(xsol)\n",
    "ysol(t) = a*1*e^(-2*t) + b*(-1)*e^(-6*t); show(ysol)"
   ]
  },
  {
   "cell_type": "code",
   "execution_count": 0,
   "id": "daef5c",
   "metadata": {
    "collapsed": false
   },
   "outputs": [
   ],
   "source": [
    "# Find the coefficients for the specific solution.\n",
    "solve([xsol(0) == 0, ysol(0) == 4], [a,b])"
   ]
  },
  {
   "cell_type": "markdown",
   "id": "3d23a0",
   "metadata": {
    "collapsed": false
   },
   "source": [
    "#### Blackbox Solution"
   ]
  },
  {
   "cell_type": "code",
   "execution_count": 0,
   "id": "160f56",
   "metadata": {
    "collapsed": false
   },
   "outputs": [
   ],
   "source": [
    "# Find the general solution.\n",
    "var('t')\n",
    "x = function('x')(t)\n",
    "y = function('y')(t)\n",
    "de1 = diff(x,t) == -5*x + 3*y\n",
    "de2 = diff(y,t) ==    x - 3*y\n",
    "sol = desolve_system([de1, de2], [x, y], ivar = t); print(sol); show(sol)"
   ]
  },
  {
   "cell_type": "code",
   "execution_count": 0,
   "id": "bfb33e",
   "metadata": {
    "collapsed": false
   },
   "outputs": [
   ],
   "source": [
    "# Use the general solution to find the specific solution.\n",
    "xsol(t) = sage_eval(str(sol[0].rhs()).replace('x(0)', '0').replace('y(0)', '4'), locals = {'t':t}); show(xsol)\n",
    "ysol(t) = sage_eval(str(sol[1].rhs()).replace('x(0)', '0').replace('y(0)', '4'), locals = {'t':t}); show(ysol)"
   ]
  },
  {
   "cell_type": "code",
   "execution_count": 0,
   "id": "9c503b",
   "metadata": {
    "collapsed": false
   },
   "outputs": [
   ],
   "source": [
    "# Find the specific solution directly.\n",
    "sol = desolve_system([de1, de2], [x, y], ivar = t, ics = [0, 0, 4]); show(sol)\n",
    "xsol(t) = sol[0].rhs(); show(xsol)\n",
    "ysol(t) = sol[1].rhs(); show(ysol)"
   ]
  },
  {
   "cell_type": "markdown",
   "id": "61b109",
   "metadata": {
    "collapsed": false
   },
   "source": [
    "#### Plots\n",
    "Note that it is sometimes useful to go backward, as well as forward, in time."
   ]
  },
  {
   "cell_type": "code",
   "execution_count": 0,
   "id": "878d63",
   "metadata": {
    "collapsed": false
   },
   "outputs": [
   ],
   "source": [
    "# Can you tell which color is x(t) and which color is y(t)?\n",
    "plot([xsol, ysol], (-0.1,2), figsize = 4, axes_labels = ['t','x,y'])"
   ]
  },
  {
   "cell_type": "code",
   "execution_count": 0,
   "id": "dc7152",
   "metadata": {
    "collapsed": false
   },
   "outputs": [
   ],
   "source": [
    "# Where is (x(0), y(0))?  (x(2), y(2))?\n",
    "parametric_plot([xsol, ysol], (-0.1, 2))"
   ]
  },
  {
   "cell_type": "code",
   "execution_count": 0,
   "id": "e45afc",
   "metadata": {
    "collapsed": false
   },
   "outputs": [
   ],
   "source": [
   ]
  }
 ],
 "metadata": {
  "kernelspec": {
   "argv": [
    "sage-9.7",
    "--python",
    "-m",
    "sage.repl.ipython_kernel",
    "--matplotlib=inline",
    "-f",
    "{connection_file}"
   ],
   "display_name": "SageMath 9.7",
   "env": {
   },
   "language": "sagemath",
   "metadata": {
    "cocalc": {
     "description": "Open-source mathematical software system",
     "priority": 1,
     "url": "https://www.sagemath.org/"
    }
   },
   "name": "sage-9.7",
   "resource_dir": "/ext/jupyter/kernels/sage-9.7"
  },
  "language_info": {
   "codemirror_mode": {
    "name": "ipython",
    "version": 3
   },
   "file_extension": ".py",
   "mimetype": "text/x-python",
   "name": "python",
   "nbconvert_exporter": "python",
   "pygments_lexer": "ipython3",
   "version": "3.10.5"
  }
 },
 "nbformat": 4,
 "nbformat_minor": 4
}