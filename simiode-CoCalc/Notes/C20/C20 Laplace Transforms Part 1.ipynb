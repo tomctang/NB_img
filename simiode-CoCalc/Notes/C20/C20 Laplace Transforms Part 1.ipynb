{
 "cells": [
  {
   "cell_type": "markdown",
   "id": "28dd8f",
   "metadata": {
    "collapsed": false
   },
   "source": [
    "# C20 Laplace Transforms Part 1"
   ]
  },
  {
   "cell_type": "markdown",
   "id": "839f83",
   "metadata": {
    "collapsed": false
   },
   "source": [
    "$\\qquad \\def\\arraystretch{1.2}\n",
    "\\begin{array}{ll}\n",
    "\\text{Function} & \\text{Laplace Transform}\\\\ \\hline\n",
    "e^{at} & 1/(s-a) \\\\\n",
    "t^n & n!/s^{n+1} \\\\\n",
    "af(t) + bg(t) & aF(s) + bG(s) \\\\\n",
    "f'(t) & sF(s) - f(0) \\\\\n",
    "\\end{array}$\n",
    "\n",
    "**Example.**  Solve $u'(t) = -3u(t) + 6t$ with initial condition $u(0) = 1$."
   ]
  },
  {
   "cell_type": "code",
   "execution_count": 0,
   "id": "e95008",
   "metadata": {
    "collapsed": false
   },
   "outputs": [
   ],
   "source": [
    "# Define the differential equation\n",
    "var('s t'); u = function('u')(t)\n",
    "de = diff(u, t) == -3*u + 6*t; show(de)"
   ]
  },
  {
   "cell_type": "code",
   "execution_count": 0,
   "id": "3ff70b",
   "metadata": {
    "collapsed": false
   },
   "outputs": [
   ],
   "source": [
    "# Use the Laplace transform\n",
    "le = laplace(de, t, s); show(le)"
   ]
  },
  {
   "cell_type": "code",
   "execution_count": 0,
   "id": "4dc520",
   "metadata": {
    "collapsed": false
   },
   "outputs": [
   ],
   "source": [
    "# Unfortunately, solving the above equation for `laplac(de, t, s)` does not work.\n",
    "# Instead we must first replace all function notation with symbolic variables.\n",
    "# This will be done by working with a string representation.\n",
    "# At the same time, we can resplace `u(0)` with 1.\n",
    "# Step 1 is to convert the symbolic equation into a string.\n",
    "le1 = str(le); le1"
   ]
  },
  {
   "cell_type": "code",
   "execution_count": 0,
   "id": "d3cd32",
   "metadata": {
    "collapsed": false
   },
   "outputs": [
   ],
   "source": [
    "# Step 2 is to make the function-to-variable replacements in the string.\n",
    "le2 = le1.replace(\"laplace(u(t), t, s)\", 'U').replace('u(0)', '1'); le2"
   ]
  },
  {
   "cell_type": "code",
   "execution_count": 0,
   "id": "c8799e",
   "metadata": {
    "collapsed": false
   },
   "outputs": [
   ],
   "source": [
    "# Step 3 is to converst the string back into a symbolic expression.\n",
    "var('U')\n",
    "le3 = sage_eval(le2, locals = {\"s\":s, \"U\":U}); le3"
   ]
  },
  {
   "cell_type": "code",
   "execution_count": 0,
   "id": "7ff733",
   "metadata": {
    "collapsed": false
   },
   "outputs": [
   ],
   "source": [
    "# Solve the Laplace equation.\n",
    "lsol = solve(le3, U); lsol"
   ]
  },
  {
   "cell_type": "code",
   "execution_count": 0,
   "id": "aa2ff6",
   "metadata": {
    "collapsed": false
   },
   "outputs": [
   ],
   "source": [
    "# As usual, Sage returns the result as a list. \n",
    "# We can extract the desired symbolic expression.\n",
    "lsoln = lsol[0].rhs(); show(lsoln)"
   ]
  },
  {
   "cell_type": "code",
   "execution_count": 0,
   "id": "9bd23e",
   "metadata": {
    "collapsed": false
   },
   "outputs": [
   ],
   "source": [
    "# Partial fraction decomposition can be applied.\n",
    "lsoln.partial_fraction().show()"
   ]
  },
  {
   "cell_type": "code",
   "execution_count": 0,
   "id": "37d047",
   "metadata": {
    "collapsed": false
   },
   "outputs": [
   ],
   "source": [
    "# Find the inverse of the Laplace transform.\n",
    "dsol(t) = inverse_laplace(lsoln, s, t); show(dsol)"
   ]
  },
  {
   "cell_type": "code",
   "execution_count": 0,
   "id": "44efbc",
   "metadata": {
    "collapsed": false,
    "scrolled": true
   },
   "outputs": [
   ],
   "source": [
    "# A graph can be obtained.\n",
    "plot(dsol, (0, 3), figsize = 4)"
   ]
  }
 ],
 "metadata": {
  "kernelspec": {
   "argv": [
    "sage-9.7",
    "--python",
    "-m",
    "sage.repl.ipython_kernel",
    "--matplotlib=inline",
    "-f",
    "{connection_file}"
   ],
   "display_name": "SageMath 9.7",
   "env": {
   },
   "language": "sagemath",
   "metadata": {
    "cocalc": {
     "description": "Open-source mathematical software system",
     "priority": 1,
     "url": "https://www.sagemath.org/"
    }
   },
   "name": "sage-9.7",
   "resource_dir": "/ext/jupyter/kernels/sage-9.7"
  },
  "language_info": {
   "codemirror_mode": {
    "name": "ipython",
    "version": 3
   },
   "file_extension": ".py",
   "mimetype": "text/x-python",
   "name": "python",
   "nbconvert_exporter": "python",
   "pygments_lexer": "ipython3",
   "version": "3.10.5"
  }
 },
 "nbformat": 4,
 "nbformat_minor": 4
}