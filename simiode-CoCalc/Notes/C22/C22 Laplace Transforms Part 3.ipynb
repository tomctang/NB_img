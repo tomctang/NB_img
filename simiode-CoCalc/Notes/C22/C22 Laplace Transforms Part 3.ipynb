{
 "cells": [
  {
   "cell_type": "markdown",
   "id": "1c5607",
   "metadata": {
    "collapsed": false
   },
   "source": [
    "# C22 Laplace Transforms Part 3"
   ]
  },
  {
   "cell_type": "markdown",
   "id": "556046",
   "metadata": {
    "collapsed": false
   },
   "source": [
    "**Rules Summary and Preview.**\n",
    "\n",
    "$ \\qquad \\def\\arraystretch{1.4}\n",
    "\\begin{array}{ll}\n",
    "\\text{Function} & \\text{Laplace Transform}\\\\ \\hline\n",
    "f(t) &  \\int_{0}^{\\infty} e^{-st}f(t) \\, dt \\\\\n",
    "e^{at} & 1/(s-a) \\\\\n",
    "t^n & n!/s^{n+1} \\\\\n",
    "af(t) + bg(t) & aF(s) + bG(s) \\\\\n",
    "f'(t) & sF(s) - f(0) \\\\\n",
    "\\cos(bt) & s/(s^2 + b^2) \\\\\n",
    "\\sin(bt) & b/(s^2 + b^2) \\\\\n",
    "e^{at}f(t) & F(s-a) \\\\\n",
    "H(t-c)f(t-c) & e^{-cs}F(s) \\\\\n",
    "tf(t) & -F'(s) \\\\\n",
    "\\end{array}$"
   ]
  },
  {
   "cell_type": "markdown",
   "id": "c3f8dc",
   "metadata": {
    "collapsed": false
   },
   "source": [
    "**Exercise 5.3.9.** An undamped spring-mass-damper system with mass $m = 2$ kg and spring constant $k = 8$ newtons per meter is at equilibrium position $u = 0$ and is not moving at time $t = 0$. No additional forces act on the mass until time $t = 10$ seconds, but for $t > 10$ a force $f(t) = 40$ newtons is applied to the mass. At time $t = 15$ seconds the force drops to zero. Find the position of the mass for $t > 0$ by formulating an appropriate ODE with initial conditions and solving with the Laplace transform. Plot the solution on the interval $0 ≤ t ≤ 25$."
   ]
  },
  {
   "cell_type": "code",
   "execution_count": 0,
   "id": "f7fb07",
   "metadata": {
    "collapsed": false,
    "scrolled": true
   },
   "outputs": [
   ],
   "source": [
   ]
  }
 ],
 "metadata": {
  "kernelspec": {
   "argv": [
    "sage-9.7",
    "--python",
    "-m",
    "sage.repl.ipython_kernel",
    "--matplotlib=inline",
    "-f",
    "{connection_file}"
   ],
   "display_name": "SageMath 9.7",
   "env": {
   },
   "language": "sagemath",
   "metadata": {
    "cocalc": {
     "description": "Open-source mathematical software system",
     "priority": 1,
     "url": "https://www.sagemath.org/"
    }
   },
   "name": "sage-9.7",
   "resource_dir": "/ext/jupyter/kernels/sage-9.7"
  },
  "language_info": {
   "codemirror_mode": {
    "name": "ipython",
    "version": 3
   },
   "file_extension": ".py",
   "mimetype": "text/x-python",
   "name": "python",
   "nbconvert_exporter": "python",
   "pygments_lexer": "ipython3",
   "version": "3.10.5"
  }
 },
 "nbformat": 4,
 "nbformat_minor": 4
}