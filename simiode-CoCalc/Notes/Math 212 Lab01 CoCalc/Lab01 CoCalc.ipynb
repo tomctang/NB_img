{
 "cells": [
  {
   "cell_type": "markdown",
   "metadata": {
    "collapsed": false
   },
   "source": [
    "# Lab01 CoCalc"
   ]
  },
  {
   "cell_type": "markdown",
   "metadata": {
    "collapsed": false
   },
   "source": [
    "**Replace with your name**"
   ]
  },
  {
   "cell_type": "markdown",
   "metadata": {
    "collapsed": true,
    "deletable": true,
    "editable": true
   },
   "source": [
    "__Learning Objectives.__  Use CoCalc for computation and report writing, solve problems using mathematical techniques through basic calculus, and communicate mathematical ideas clearly in writing.\n",
    "\n",
    "__Procedure.__  Read and follow the instructions given in this notebook.  You are encouraged to collaborate with other students and to seek assistance from the instructor and others.  However, each student must submit their own completed notebook and acknowledge any collaborators, resources used, and assistance received.  This file (do not move where this file is located!) will be collected by the instructor sometime after Wednesday, January 19, 12:00PM."
   ]
  },
  {
   "cell_type": "markdown",
   "metadata": {
    "collapsed": false,
    "deletable": true,
    "editable": true
   },
   "source": [
    "### Exercise 1 (2 points)\n",
    "Double-click on the cell above containing **Replace with your name**, replace the text \"Replace with your name\" with your name, and press shift-enter."
   ]
  },
  {
   "cell_type": "markdown",
   "metadata": {
    "collapsed": false
   },
   "source": [
    "## Introduction\n",
    "CoCalc combines the capabilities of a rudimentary word processor (powered by markdown and LaTeX) and a sophisticated calculator (powered by the SageMath kernel).  Notebooks are partitioned into markdown and code cells. If you followed the first instruction above,  you have already seen how to edit a markdown cell: double-click, type the text you want, and press shift-enter to make it look pretty.  Lines starting with one to six hash marks (#) are converted into header font sizes and become part of the table of contents for the document.  Text surrounded by single underscores or asterisks are *emphasized*, and text surrounded by two underscores or asterisks are **strongly emphasized**.  More details about the markdown syntax can be obtained by clicking on 'Help' in the (lowest) menu bar and then clicking on 'Markdown' in the dropdown menu.\n",
    "\n",
    "<img src=\"Lab01 Markdown Help.png\"></img>"
   ]
  },
  {
   "cell_type": "markdown",
   "metadata": {
    "collapsed": false
   },
   "source": [
    "### Exercise 2 (4 points)\n",
    "In the next markdown cell, answer the following question asked by a college student majoring outside of the sciences: What are the real numbers?  One long paragraph or a couple of short paragraphs is sufficiently long to receive full credit. "
   ]
  },
  {
   "cell_type": "markdown",
   "metadata": {
    "collapsed": false
   },
   "source": [
   ]
  },
  {
   "cell_type": "markdown",
   "metadata": {
    "collapsed": false
   },
   "source": [
    "### Calculation\n",
    "Code cells contain commands to be executed.  The following code cell calculates $\\frac{3-2}{7}+4\\sqrt{3^2+5^2}+\\cos(\\pi)$.  Execute the command by clicking anywhere in the command and pressing shift-enter."
   ]
  },
  {
   "cell_type": "code",
   "execution_count": 0,
   "metadata": {
    "collapsed": false
   },
   "outputs": [
   ],
   "source": [
    "(3-2)/7 + 4*sqrt(3^2 + 5^2) + cos(pi)"
   ]
  },
  {
   "cell_type": "markdown",
   "metadata": {
    "collapsed": false
   },
   "source": [
    "Several observations can be made.  Commands are typed with standard keyboard characters.  The characters `+`, `-`, `*`, `/`, and `^` are used for addition, subtraction, multiplication, division, and exponentiation respectively.  Functions are represented with standard names: `sqrt` for square root and `cos` for cosine.  The arguments to functions are enclosed within parentheses.  Finally, the output is an *exact* value: $\\sqrt{34}$ cannot be written as an integer or rational number and so is left as $\\sqrt{34}$, and the rational number $\\frac{6}{7}$ is left as `6/7` rather than `0.857142857142857` because the presence of a decimal point is SageMath's way of representing an *approximate* real number.  You can ask SageMath to output an approximate real number or 'numerical' result by using the `n` or `N` function.  Execute the next code cell and observe the output."
   ]
  },
  {
   "cell_type": "code",
   "execution_count": 0,
   "metadata": {
    "collapsed": false
   },
   "outputs": [
   ],
   "source": [
    "N((3-2)/7 + 4*sqrt(3^2 + 5^2) + cos(pi))"
   ]
  },
  {
   "cell_type": "markdown",
   "metadata": {
    "collapsed": false
   },
   "source": [
    "Pretty output can be obtained with the 'show' function.  Execute the next code cell and observe the output.  (This is the last time you will be explicitly told to do this.  Every time you reach a code cell, you should execute it, observe the output, and make sure you understand the meaning of the command and output.) "
   ]
  },
  {
   "cell_type": "code",
   "execution_count": 0,
   "metadata": {
    "collapsed": false
   },
   "outputs": [
   ],
   "source": [
    "show((3-2)/7 + 4*sqrt(3^2 + 5^2) + cos(pi))"
   ]
  },
  {
   "cell_type": "markdown",
   "metadata": {
    "collapsed": false,
    "deletable": true,
    "editable": true
   },
   "source": [
    "### Exercise 3 (6 points)\n",
    "The shadow of the top of a tree is 5.2 meters from the center of the base of the tree, and the angle between the ground and the actual top of the tree is 59 degrees at where the shadow of the top is on the ground.  What is the height of the tree?  Use the next code cell to perform the calculation and type your answer in the next markdown cell.  Use a complete sentence, appropriate units, and round numbers to an appropriate number of significant digits."
   ]
  },
  {
   "cell_type": "code",
   "execution_count": 0,
   "metadata": {
    "collapsed": false
   },
   "outputs": [
   ],
   "source": [
   ]
  },
  {
   "cell_type": "markdown",
   "metadata": {
    "collapsed": false
   },
   "source": [
   ]
  },
  {
   "cell_type": "markdown",
   "metadata": {
    "collapsed": false
   },
   "source": [
    "### Text Processing\n",
    "You may have observed that symbolic expressions in the markdown cells, such as \n",
    "$$\\cos(\\pi) + \\sqrt{3^2+5^{34}} + \\left(\\frac{15}{12} - \\log(e)\\right),$$ \n",
    "have appeared in the pretty format.  This is accomplished through LaTeX enclosed within dollar signs (single for in-line expressions and double for displayed expressions).  If you double-click on this markdown cell, you can see the LaTeX used to create the pretty symbolic expression.  In LaTeX, \n",
    "* symbolic names are preceeded with the backslash character (e.g., `\\cos`), \n",
    "* square roots are created with `\\sqrt{contents enclosed within curly braces}`,\n",
    "* superscripts are created with `base^{superscript enclosed in curly braces}` or `base^a single character superscript`, \n",
    "* fractions are created with `\\frac{numerator}{denominator}`, and \n",
    "* resizeable parentheses are created with `\\left(` and `\\right)`.  \n",
    "\n",
    "A good summary of LaTeX symbols and commands can be found at https://artofproblemsolving.com/wiki/index.php/LaTeX:Symbols."
   ]
  },
  {
   "cell_type": "markdown",
   "metadata": {
    "collapsed": false
   },
   "source": [
    "### Exercise 4 (8 points)\n",
    "Edit this markdown cell to include LaTex versions of the following symbolic expressions:\n",
    "* A linear equation with slope 3 and vertical intercept 5 is \n",
    "* The area of a circle with radius $r$ is \n",
    "* A sinusoidal function with period 5, amplitude 7, and mean 3 is \n",
    "* A formula for the length of the hypotenuse of a right triangle with leg lengths $a$ and $b$ is $c = $."
   ]
  },
  {
   "cell_type": "markdown",
   "metadata": {
    "collapsed": false
   },
   "source": [
    "### Exercise 5 (6 points)\n",
    "The charge for a taxi ride in New York City is \\$2.50 upon entry and \\$0.40 for each 1/5 of a mile traveled (rounded up to the nearest 1/5 mile), when the taxicab is traveling at 6 mph or more.  In addition, a New York State Tax Surcharge of \\$0.50 is added to the fare.  What is the cost of a taxi ride that is 14.3 miles?  Use a complete sentence, appropriate units, and round numbers to an appropriate number of significant digits.\n",
    "\n",
    "Hints: The SageMath function `floor(x)` rounds `x` down to the nearest integer and `ceil(x)` rounds `x` up to the nearest integer.  The dollar sign character (\\$) has a special purpose in markdown cells, and so to obtain a dollar sign in the pretty version, you must type `\\\\\\$' in the markdown cell."
   ]
  },
  {
   "cell_type": "code",
   "execution_count": 0,
   "metadata": {
    "collapsed": false
   },
   "outputs": [
   ],
   "source": [
   ]
  },
  {
   "cell_type": "markdown",
   "metadata": {
    "collapsed": false
   },
   "source": [
   ]
  },
  {
   "cell_type": "markdown",
   "metadata": {
    "collapsed": false,
    "deletable": true,
    "editable": true
   },
   "source": [
    "### Beyond a Simple Calculator\n",
    "In addition to its ability to find exact answers, SageMath has other capabilities than a standard calculator. Try calculating 100! or finding 200 decimal digits of π with a calculator versus the output of the following commands."
   ]
  },
  {
   "cell_type": "code",
   "execution_count": 0,
   "metadata": {
    "collapsed": false
   },
   "outputs": [
   ],
   "source": [
    "factorial(100)"
   ]
  },
  {
   "cell_type": "code",
   "execution_count": 0,
   "metadata": {
    "collapsed": false
   },
   "outputs": [
   ],
   "source": [
    "n(factorial(100))"
   ]
  },
  {
   "cell_type": "code",
   "execution_count": 0,
   "metadata": {
    "collapsed": false
   },
   "outputs": [
   ],
   "source": [
    "n(pi, digits=200)"
   ]
  },
  {
   "cell_type": "markdown",
   "metadata": {
    "collapsed": false,
    "deletable": true,
    "editable": true
   },
   "source": [
    "## Algebra"
   ]
  },
  {
   "cell_type": "markdown",
   "metadata": {
    "collapsed": false
   },
   "source": [
    "In high school algebra, you learned how to expand and factor symbolic expressions and solve equations and inequalities. SageMath can carry out such symbol manipulations."
   ]
  },
  {
   "cell_type": "markdown",
   "metadata": {
    "collapsed": false
   },
   "source": [
    "In SageMath, numbers can be assigned to names (which computer programmers call \"variables\").  The following code \n",
    "1. assigns to the name `radius` the number `17`,\n",
    "2. assigns to the name `volume` the number `(4/3)*pi*17^3`,\n",
    "3. assigns to the name `avolume` the numerical approximation of the number assigned to `volume`, and\n",
    "4. outputs a list containing what has been assigned to the three names."
   ]
  },
  {
   "cell_type": "code",
   "execution_count": 0,
   "metadata": {
    "collapsed": false
   },
   "outputs": [
   ],
   "source": [
    "radius = 17\n",
    "volume = (4/3)*pi*radius^3\n",
    "avolume = n(volume)\n",
    "[radius, volume, avolume]"
   ]
  },
  {
   "cell_type": "markdown",
   "metadata": {
    "collapsed": false
   },
   "source": [
    "Names can also be used as symbols (which mathematicians call \"variables\").  The following code\n",
    "* makes the names `a`, `b`, `c`, and `x` act as symbols, and\n",
    "* outputs a list containing the symbol `a` and the number assigned to `radius`."
   ]
  },
  {
   "cell_type": "code",
   "execution_count": 0,
   "metadata": {
    "collapsed": false
   },
   "outputs": [
   ],
   "source": [
    "var('a b c x')\n",
    "[a, radius]"
   ]
  },
  {
   "cell_type": "markdown",
   "metadata": {
    "collapsed": false
   },
   "source": [
    "Notice what happens when we try to output a name that has neither been assigned a number nor been made a symbol."
   ]
  },
  {
   "cell_type": "code",
   "execution_count": 0,
   "metadata": {
    "collapsed": false
   },
   "outputs": [
   ],
   "source": [
    "y"
   ]
  },
  {
   "cell_type": "markdown",
   "metadata": {
    "collapsed": false
   },
   "source": [
    "Symbolic expressions can be expanded."
   ]
  },
  {
   "cell_type": "code",
   "execution_count": 0,
   "metadata": {
    "collapsed": false
   },
   "outputs": [
   ],
   "source": [
    "expand((x^2+2*x+1)*(4*x+5)*(6*x-7))"
   ]
  },
  {
   "cell_type": "markdown",
   "metadata": {
    "collapsed": false
   },
   "source": [
    "Symbolic expressions can be factored."
   ]
  },
  {
   "cell_type": "code",
   "execution_count": 0,
   "metadata": {
    "collapsed": false
   },
   "outputs": [
   ],
   "source": [
    "factor(24*x^4 + 50*x^3 - 7*x^2 - 68*x - 35)"
   ]
  },
  {
   "cell_type": "markdown",
   "metadata": {
    "collapsed": false,
    "deletable": true,
    "editable": true
   },
   "source": [
    "### Exercise 6 (6 points)\n",
    "Expand and factor the expression $(x^2+2x-3)(x^2+2x+1)$.  Explain the difference between `expand` and `factor`.  Note that starting with this exercise, code and markdown cells are not already provided for you.  To insert your own cells, use the Insert menu item or click between two cells.  \n",
    "\n",
    "<img src=\"Lab01 Insert Cell.png\"></img>\n",
    "\n",
    "New cells are code cells by default.  To change a cell to be a markdown cell, use the Cell menu item, use the dropdown showing the cell type, or the M hot key when the cell is marked blue.\n",
    "\n",
    "<img src=\"Lab01 Change to Markdown 1.png\">     \n",
    "</img><img src=\"Lab01 Change to Markdown 2.png\">    \n",
    "</img><img src=\"Lab01 Change to Markdown 3.png\"></img>"
   ]
  },
  {
   "cell_type": "markdown",
   "metadata": {
    "collapsed": false
   },
   "source": [
    "### Exercise 7 (6 points)\n",
    "Factor the expression $x^4-4x^3-x^2+4x$.  Explain what this tells us about the graph of $y = x^4-4x^3-x^2+4x$."
   ]
  },
  {
   "cell_type": "markdown",
   "metadata": {
    "collapsed": false
   },
   "source": [
    "### Solving Equations\n",
    "Symbolic equations can be solved. Since a single equals sign is used for assignment, two equal signs are used to represent the equals sign in an equation. All solutions are displayed in a list."
   ]
  },
  {
   "cell_type": "code",
   "execution_count": 0,
   "metadata": {
    "collapsed": false
   },
   "outputs": [
   ],
   "source": [
    "solve(24*x^4 + 50*x^3 - 7*x^2 - 68*x - 35 == 0, x)"
   ]
  },
  {
   "cell_type": "markdown",
   "metadata": {
    "collapsed": false
   },
   "source": [
    "The next code finds solutions in $x$ to the equation $ax^2+bx+c=0$.  Hopefully, the output looks familiar!"
   ]
  },
  {
   "cell_type": "code",
   "execution_count": 0,
   "metadata": {
    "collapsed": false
   },
   "outputs": [
   ],
   "source": [
    "show(solve(a*x^2 + b*x + c == 0, x))"
   ]
  },
  {
   "cell_type": "markdown",
   "metadata": {
    "collapsed": false
   },
   "source": [
    "Here is how to solve the following system of equations:\n",
    "\\begin{align}\n",
    "x + y + z &= 1 \\\\\n",
    "x - y - z &= 2 \\\\\n",
    "x + y - z &= 3\n",
    "\\end{align}"
   ]
  },
  {
   "cell_type": "code",
   "execution_count": 0,
   "metadata": {
    "collapsed": false
   },
   "outputs": [
   ],
   "source": [
    "var('x y z')\n",
    "solve([x+y+z==1,x-y-z==2,x+y-z==3],[x,y,z])"
   ]
  },
  {
   "cell_type": "markdown",
   "metadata": {
    "collapsed": false
   },
   "source": [
    "Sage cannot find exact solutions to the equation $x = 5\\cos(x)$."
   ]
  },
  {
   "cell_type": "code",
   "execution_count": 0,
   "metadata": {
    "collapsed": false
   },
   "outputs": [
   ],
   "source": [
    "solve(x == 5*cos(x), x)"
   ]
  },
  {
   "cell_type": "markdown",
   "metadata": {
    "collapsed": false
   },
   "source": [
    "In such a situation, an approximate solution within an interval can be sought. The next three code cells look for an approximate solution for the equation $x = 5\\cos(x)$ on each of the intervals $[-6,0]$, $[0,3]$, and $[3,9]$. "
   ]
  },
  {
   "cell_type": "code",
   "execution_count": 0,
   "metadata": {
    "collapsed": false
   },
   "outputs": [
   ],
   "source": [
    "find_root(x == 5*cos(x), -6, 0)"
   ]
  },
  {
   "cell_type": "code",
   "execution_count": 0,
   "metadata": {
    "collapsed": false
   },
   "outputs": [
   ],
   "source": [
    "find_root(x == 5*cos(x), 0, 3)"
   ]
  },
  {
   "cell_type": "code",
   "execution_count": 0,
   "metadata": {
    "collapsed": false
   },
   "outputs": [
   ],
   "source": [
    "find_root(x == 5*cos(x), 3, 9)"
   ]
  },
  {
   "cell_type": "markdown",
   "metadata": {
    "collapsed": false
   },
   "source": [
    "The next code cell calculates that the solution to the inequality $x^2-2x-3 \\geq 0$ is the set $(-\\infty,-1] \\cup [3,\\infty)$."
   ]
  },
  {
   "cell_type": "code",
   "execution_count": 0,
   "metadata": {
    "collapsed": false
   },
   "outputs": [
   ],
   "source": [
    "solve(x^2-2*x-3>=0, x)"
   ]
  },
  {
   "cell_type": "markdown",
   "metadata": {
    "collapsed": false
   },
   "source": [
    "### Exercise 8 (6 points)\n",
    "Simple Bank offers a 9% annual rate of interest without compounding.  Compound Bank offers a 7% annual rate compounded annually.  If \\$100 is deposited into each bank, when will the accumulated amount in Bank Compound overtake the accumulated amount in Bank Simple?  Include both one or more code cells with your computations and a final markdown cell with your answer expressed in a complete sentence."
   ]
  },
  {
   "cell_type": "markdown",
   "metadata": {
    "collapsed": false
   },
   "source": [
    "### Exercise 9 (6 points)\n",
    "One widget contains 3 bolts and 4 links.  One framingstan contains 5 bolts and 2 links.  If 172 bolts and 122 links were used, how many widgets and framingstans were built?  Include both one or more code cells with your computations and a final markdown cell with your answer expressed in a complete sentence.  "
   ]
  },
  {
   "cell_type": "markdown",
   "metadata": {
    "collapsed": false
   },
   "source": [
    "### Exercise 10 (6 points)\n",
    "Where does the circle of radius 3 and center at the origin intersect with the line passing through the points $(0,1)$ and $(5,0)$?  Include both one or more code cells with your computations and a final markdown cell with your answer expressed in a complete sentence."
   ]
  },
  {
   "cell_type": "markdown",
   "metadata": {
    "collapsed": false
   },
   "source": [
    "### Exercise 11 (4 points)\n",
    "Describe the difference between what computer programmers and mathematicians call variables."
   ]
  },
  {
   "cell_type": "markdown",
   "metadata": {
    "collapsed": false
   },
   "source": [
    "## Functions, Plots, and Calculus"
   ]
  },
  {
   "cell_type": "markdown",
   "metadata": {
    "collapsed": false
   },
   "source": [
    "A *function* is a rule that yields an output for each possible input.  The set of possible inputs is called the *domain* of the function, and the set of actual outpus is called the *range* of the function.  In calculus, we typically define functions symbolically and assume that the domain consists of all real numbers for which the symbolic expression makes sense.  For example,\n",
    "$$f(x) = \\ln(x+e)\\cos(x^2)$$\n",
    "defines a function on the domain of all real numbers and\n",
    "$$f(0) = \\ln(0+e)\\cos(0^2) = 1.$$\n",
    "Symbolic functions can be defined, evaluated, and graphed in Sage in a natural manner."
   ]
  },
  {
   "cell_type": "code",
   "execution_count": 0,
   "metadata": {
    "collapsed": false
   },
   "outputs": [
   ],
   "source": [
    "f(x) = log(x+e)*cos(x^2)"
   ]
  },
  {
   "cell_type": "code",
   "execution_count": 0,
   "metadata": {
    "collapsed": false
   },
   "outputs": [
   ],
   "source": [
    "f(0)"
   ]
  },
  {
   "cell_type": "code",
   "execution_count": 0,
   "metadata": {
    "collapsed": false
   },
   "outputs": [
   ],
   "source": [
    "plot(f(x), -e, 5)"
   ]
  },
  {
   "cell_type": "markdown",
   "metadata": {
    "collapsed": false
   },
   "source": [
    "From the graph, estimate the first positive root of $f$, estimate $f(1)$, and estimate $\\int_0^1 f(x)\\,dx$.  These will be calculated momentarily."
   ]
  },
  {
   "cell_type": "markdown",
   "metadata": {
    "collapsed": false
   },
   "source": [
    "Note that `f` is the function and `f(x)` is a symbolic expression for the rule."
   ]
  },
  {
   "cell_type": "code",
   "execution_count": 0,
   "metadata": {
    "collapsed": false
   },
   "outputs": [
   ],
   "source": [
    "f"
   ]
  },
  {
   "cell_type": "code",
   "execution_count": 0,
   "metadata": {
    "collapsed": false
   },
   "outputs": [
   ],
   "source": [
    "f(x)"
   ]
  },
  {
   "cell_type": "markdown",
   "metadata": {
    "collapsed": false
   },
   "source": [
    "The root in the interval $[1, 2]$ can be approximated."
   ]
  },
  {
   "cell_type": "code",
   "execution_count": 0,
   "metadata": {
    "collapsed": false
   },
   "outputs": [
   ],
   "source": [
    "find_root(f(x), 1, 2)"
   ]
  },
  {
   "cell_type": "markdown",
   "metadata": {
    "collapsed": false
   },
   "source": [
    "The derivative of a symbolic expression can be found."
   ]
  },
  {
   "cell_type": "code",
   "execution_count": 0,
   "metadata": {
    "collapsed": false
   },
   "outputs": [
   ],
   "source": [
    "derivative(f(x),x)"
   ]
  },
  {
   "cell_type": "markdown",
   "metadata": {
    "collapsed": false
   },
   "source": [
    "If you need the derivative *function* rather that its symbolic expression, use the following code."
   ]
  },
  {
   "cell_type": "code",
   "execution_count": 0,
   "metadata": {
    "collapsed": false
   },
   "outputs": [
   ],
   "source": [
    "derivative(f,x)"
   ]
  },
  {
   "cell_type": "markdown",
   "metadata": {
    "collapsed": false
   },
   "source": [
    "If you assign the derivative function to a name, it can be evaluated like any other function."
   ]
  },
  {
   "cell_type": "code",
   "execution_count": 0,
   "metadata": {
    "collapsed": false
   },
   "outputs": [
   ],
   "source": [
    "fp = derivative(f,x)\n",
    "n(fp(1))"
   ]
  },
  {
   "cell_type": "markdown",
   "metadata": {
    "collapsed": false
   },
   "source": [
    "Here is how to find a symbolic antiderivative.  Unfortunately, they cannot always be found."
   ]
  },
  {
   "cell_type": "code",
   "execution_count": 0,
   "metadata": {
    "collapsed": false
   },
   "outputs": [
   ],
   "source": [
    "integrate(f(x),x)"
   ]
  },
  {
   "cell_type": "markdown",
   "metadata": {
    "collapsed": false
   },
   "source": [
    "A definite integral can be found by specifying the lower and upper limits.  Here we are only interested in a numerical approximation."
   ]
  },
  {
   "cell_type": "code",
   "execution_count": 0,
   "metadata": {
    "collapsed": false
   },
   "outputs": [
   ],
   "source": [
    "n(integrate(f(x),(x,0,1)))"
   ]
  },
  {
   "cell_type": "markdown",
   "metadata": {
    "collapsed": false
   },
   "source": [
    "Here is how to graph two functions on a single set of axes."
   ]
  },
  {
   "cell_type": "code",
   "execution_count": 0,
   "metadata": {
    "collapsed": false
   },
   "outputs": [
   ],
   "source": [
    "var('t')\n",
    "plot([f(x),fp(x)], -e, 5)"
   ]
  },
  {
   "cell_type": "markdown",
   "metadata": {
    "collapsed": false
   },
   "source": [
    "It is also possible to use a symbolic expression directly in the `plot` function, choose the codomain for the graph, and to have vertical asymptotes detected as is done in the following cell.  The domain and codomain were chosen to obtain a complete graph: shows intercepts, indicates asymptotes, and suggests what happens as the independent variable approaches $\\pm\\infty$.  "
   ]
  },
  {
   "cell_type": "code",
   "execution_count": 0,
   "metadata": {
    "collapsed": false
   },
   "outputs": [
   ],
   "source": [
    "plot((x+2)/(x-2), -8, 10, ymin=-5, ymax=10, detect_poles=true)"
   ]
  },
  {
   "cell_type": "markdown",
   "metadata": {
    "collapsed": false
   },
   "source": [
    "There are a variety of ways to obtain help for Sage.  The Help menu item contains links to a variety of documents.  Detailed documentation for Sage functions can be obtained with the name of the function followed by a question mark as is done for the plot function below.  This would be a good place to learn about graphing multiple functions or using different colors."
   ]
  },
  {
   "cell_type": "code",
   "execution_count": 0,
   "metadata": {
    "collapsed": true
   },
   "outputs": [
   ],
   "source": [
    "plot?"
   ]
  },
  {
   "cell_type": "markdown",
   "metadata": {
    "collapsed": false
   },
   "source": [
    "### Exercise 12 (6 points)\n",
    "Define the function $g(z) = \\sqrt{z^3 - 1}$.  Evaluate $g(7)$ exactly and approximately.  Obtain a complete graph of $g$."
   ]
  },
  {
   "cell_type": "markdown",
   "metadata": {
    "collapsed": false,
    "deletable": true,
    "editable": true
   },
   "source": [
    "### Exercise 13 (4 points)\n",
    "Obtain a complete graph of $$y = \\frac{\\sqrt{x^2 - 3}}{x+5}.$$  Hint: You may need to experiment with different domains and codomains.  It may be helpful to first think about where intercepts and asymptotes may be. "
   ]
  },
  {
   "cell_type": "markdown",
   "metadata": {
    "collapsed": false
   },
   "source": [
    "### Exercise 14 (8 points)\n",
    "Approximate to three significant digits all solutions to the equation $\\cos(5x) = x$.  Hint: First, argue why all solutions must lie in the closed interval $[-1, 1]$.  Second, graph $f(x) = \\cos(5x) - x$ over the interval $[-1, 1]$.  Third, based on the graph use `find_root` to find the solutions.  Fourth, state your answer in a complete sentence using the requested precision for the numbers."
   ]
  },
  {
   "cell_type": "markdown",
   "metadata": {
    "collapsed": false
   },
   "source": [
    "### Exercise 15 (10 points)\n",
    "Let $f(x) = \\sqrt{x}\\sin(x^3)$.  Find the equation of the tangent line to $f$ when $x=2$.  Find the equation of the tangent line to $f$ that is parallel to the tangent line described in the previous sentence for the smallest positive value of $x$.  Obtain a graph of $f$ and the two tangent lines over an appropriate domain and codomain."
   ]
  },
  {
   "cell_type": "markdown",
   "metadata": {
    "collapsed": false
   },
   "source": [
    "### Exercise 16 (10 points)\n",
    "Let $f(x) = x^2 - x$ and $g(x) = x^3 - 3x^2 + x + 1$.  The graphs of these two functions intersect at three points.  Obtain a graph of these two functions that contains the three intersection points.  Find the area exactly and approximately between these two graphs and within the outer two intersection points."
   ]
  },
  {
   "cell_type": "markdown",
   "metadata": {
    "collapsed": false
   },
   "source": [
    "### Acknowledgments"
   ]
  },
  {
   "cell_type": "markdown",
   "metadata": {
    "collapsed": false
   },
   "source": [
    "### Exercise 17 (2 points)\n",
    "Replace the text in this cell with either (1) an acknowledgment of any person who gave you assistance and/or any resource that was used, or (2) a statement that you did not use any outside assistance."
   ]
  }
 ],
 "metadata": {
  "kernelspec": {
   "display_name": "SageMath 9.2",
   "language": "sagemath",
   "metadata": {
    "cocalc": {
     "description": "Open-source mathematical software system",
     "priority": 1,
     "url": "https://www.sagemath.org/"
    }
   },
   "name": "sage-9.2",
   "resource_dir": "/ext/jupyter/kernels/sage-9.2"
  },
  "language_info": {
   "codemirror_mode": {
    "name": "ipython",
    "version": 3
   },
   "file_extension": ".py",
   "mimetype": "text/x-python",
   "name": "python",
   "nbconvert_exporter": "python",
   "pygments_lexer": "ipython3",
   "version": "3.8.5"
  }
 },
 "nbformat": 4,
 "nbformat_minor": 4
}