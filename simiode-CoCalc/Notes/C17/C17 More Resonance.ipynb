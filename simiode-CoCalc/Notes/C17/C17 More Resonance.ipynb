{
 "cells": [
  {
   "cell_type": "markdown",
   "metadata": {
    "collapsed": false
   },
   "source": [
    "# C17 More Resonance"
   ]
  },
  {
   "cell_type": "markdown",
   "metadata": {
    "collapsed": false
   },
   "source": [
    "## Damped Harmonic Oscillator\n",
    "\n",
    "We found last class that all solutions to\n",
    "\n",
    "$$mu''(t) + cu'(t) + ku(t) = C\\sin(\\omega t)$$ \n",
    "\n",
    "with $c > 0$ converge to the particular solution \n",
    "\n",
    "$$u(t) =  \\frac{C(k - m\\omega^2)}{(k - m\\omega^2)^2 + (c\\omega)^2}\\cos(\\omega t) + \\frac{C(c\\omega)^2}{(k - m\\omega^2)^2 + (c\\omega)^2}\\sin(\\omega t).$$\n",
    "\n",
    "We also saw that this particular solution could be rewritten \n",
    "\n",
    "$$u(t) = CG(\\omega)\\sin(\\omega t - \\Phi(\\omega))$$\n",
    "\n",
    "where the gain is\n",
    "\n",
    "$$G(\\omega) = \\frac{1}{\\sqrt{(k - m\\omega^2)^2 + (c\\omega)^2}}$$\n",
    "\n",
    "and the phase shift is\n",
    "\n",
    "$$\\Phi(\\omega) = \\tan^{-1}\\left(\\frac{c\\omega}{k - m\\omega^2} \\right).$$\n",
    "\n",
    "Finally, we found that the gain $G$ is maximized at the resonance angular frequency\n",
    "\n",
    "$$\\omega_{\\max} = \\sqrt{\\frac{k}{m} - \\frac{1}{2}\\left(\\frac{c}{m}\\right)^2}$$\n",
    "\n",
    "which is close to the unforced angular frequency\n",
    "\n",
    "$$\\omega_{\\text{nat}} = \\sqrt{\\frac{k}{m} - \\left(\\frac{c}{2m}\\right)^2}.$$\n",
    "\n",
    "Of course, the last two definitions only make sense only if $c$ is sufficiently small. Otherwise, the gain is maximized at zero and the unforced ODE does not have an oscillatory solution."
   ]
  },
  {
   "cell_type": "markdown",
   "metadata": {
    "collapsed": false
   },
   "source": [
    "### Example.\n",
    "Consider $u''(t) + u'(t) + 10u(t) = \\sin(\\omega t)$.   (To get the Greek symbol $\\omega$ in an input cell, type `\\omega` and the tab key.)\n",
    "\n",
    "a. Find the particular solution for arbitrary $\\omega$.  Compare with our earlier work.\n",
    "\n",
    "b. Plot the gain and phase shift on the interval $0 \\leq \\omega \\leq 5$.  Compare with our earlier work.\n",
    "\n",
    "c. Find the resonant radial frequency.  Compare with the previous graph.\n",
    "\n",
    "d. Plot the gain times the forcing term $G(\\omega)*\\sin(\\omega t)$ and the particular solution $u(t)$ for values of $\\omega$ less than, equal to, and more than the resonant radial frequency   Compare with the earlier parts."
   ]
  },
  {
   "cell_type": "markdown",
   "metadata": {
    "collapsed": false
   },
   "source": [
    "## Undamped Harmonic Oscillator\n",
    "Find the solution to $mu''(t) + ku(t) = \\cos(\\omega t)$ with initial conditions $u(0) = 0$ and $u'(0) = 0$.. Interpret.\n",
    "\n"
   ]
  },
  {
   "cell_type": "code",
   "execution_count": 0,
   "metadata": {
    "collapsed": false
   },
   "outputs": [
   ],
   "source": [
   ]
  }
 ],
 "metadata": {
  "kernelspec": {
   "display_name": "SageMath 9.7",
   "language": "sagemath",
   "metadata": {
    "cocalc": {
     "description": "Open-source mathematical software system",
     "priority": 10,
     "url": "https://www.sagemath.org/"
    }
   },
   "name": "sage-9.7",
   "resource_dir": "/ext/jupyter/kernels/sage-9.7"
  },
  "language_info": {
   "codemirror_mode": {
    "name": "ipython",
    "version": 3
   },
   "file_extension": ".py",
   "mimetype": "text/x-python",
   "name": "python",
   "nbconvert_exporter": "python",
   "pygments_lexer": "ipython3",
   "version": "3.10.5"
  }
 },
 "nbformat": 4,
 "nbformat_minor": 4
}