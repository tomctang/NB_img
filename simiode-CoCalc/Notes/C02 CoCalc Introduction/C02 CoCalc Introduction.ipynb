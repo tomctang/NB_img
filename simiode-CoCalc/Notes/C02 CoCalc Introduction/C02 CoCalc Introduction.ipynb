{
 "cells": [
  {
   "cell_type": "markdown",
   "id": "656f21",
   "metadata": {
    "collapsed": false
   },
   "source": [
    "# C02 CoCalc Introduction"
   ]
  },
  {
   "cell_type": "markdown",
   "id": "0e337c",
   "metadata": {
    "collapsed": false
   },
   "source": [
    "## Arithmetic, Algebra, and Calculus"
   ]
  },
  {
   "cell_type": "markdown",
   "id": "94743b",
   "metadata": {
    "collapsed": false
   },
   "source": [
    "**Exercise 1.** Calculate $\\frac{6}{15} + \\cos(\\pi) + \\sqrt{12e^3}$."
   ]
  },
  {
   "cell_type": "code",
   "execution_count": 0,
   "id": "bdbcb7",
   "metadata": {
    "collapsed": false,
    "scrolled": true
   },
   "outputs": [
   ],
   "source": [
   ]
  },
  {
   "cell_type": "markdown",
   "id": "273bba",
   "metadata": {
    "collapsed": false
   },
   "source": [
    "**Exercise 2.** Solve the equation $ax^2 + bx + c = 0$ for the variable $x$ in terms of the parameters $a$, $b$, and $c$."
   ]
  },
  {
   "cell_type": "code",
   "execution_count": 0,
   "id": "0ac3e4",
   "metadata": {
    "collapsed": false
   },
   "outputs": [
   ],
   "source": [
   ]
  },
  {
   "cell_type": "markdown",
   "id": "d76725",
   "metadata": {
    "collapsed": false
   },
   "source": [
    "**Exercise 3.** Graph the equation $y = 3\\cos(x^2) - x$ for $-1 \\leq x \\leq 3$.  what is $y$ when $x = 3$?"
   ]
  },
  {
   "cell_type": "code",
   "execution_count": 0,
   "id": "bb5c2c",
   "metadata": {
    "collapsed": false
   },
   "outputs": [
   ],
   "source": [
   ]
  },
  {
   "cell_type": "markdown",
   "id": "dd1710",
   "metadata": {
    "collapsed": false
   },
   "source": [
    "**Exercise 4.** Graph the function $f(x) = 3\\cos(x^2) - x$ on the domain $[-1, 3]$.  what is $f(3)$?"
   ]
  },
  {
   "cell_type": "code",
   "execution_count": 0,
   "id": "55d396",
   "metadata": {
    "collapsed": false
   },
   "outputs": [
   ],
   "source": [
   ]
  },
  {
   "cell_type": "markdown",
   "id": "620d07",
   "metadata": {
    "collapsed": false
   },
   "source": [
    "**Exercise 5.**  Find the zeros of the function $f$ defined in the previous exercise on the domain $[-1, 3]$."
   ]
  },
  {
   "cell_type": "code",
   "execution_count": 0,
   "id": "a54dec",
   "metadata": {
    "collapsed": false
   },
   "outputs": [
   ],
   "source": [
   ]
  },
  {
   "cell_type": "markdown",
   "id": "19a0d7",
   "metadata": {
    "collapsed": false
   },
   "source": [
    "**Exercise 6.** Find the area between the graph of $f$, the horizontal axis, and the domain $[-1, 3]$."
   ]
  },
  {
   "cell_type": "code",
   "execution_count": 0,
   "id": "64e7e0",
   "metadata": {
    "collapsed": false
   },
   "outputs": [
   ],
   "source": [
   ]
  },
  {
   "cell_type": "markdown",
   "id": "0672d0",
   "metadata": {
    "collapsed": false
   },
   "source": [
    "**Exercise 7.** Find the equation of the tangent line to the graph of $f$ at $1$.  Graph $f$ and its tangent line at $1$ on the domain $[-1, 3]$."
   ]
  },
  {
   "cell_type": "code",
   "execution_count": 0,
   "id": "3340e2",
   "metadata": {
    "collapsed": false
   },
   "outputs": [
   ],
   "source": [
   ]
  },
  {
   "cell_type": "markdown",
   "id": "400f30",
   "metadata": {
    "collapsed": false
   },
   "source": [
    "## Atlantic Cod Harvesting Model"
   ]
  },
  {
   "cell_type": "markdown",
   "id": "60943a",
   "metadata": {
    "collapsed": false
   },
   "source": [
    "**Exercise 8.**   Equation (1.12) in the text is $u'(t) = ru(t)(1-u(t)/K) - hu(t)$.  Describe the meaning and possible units for each symbol."
   ]
  },
  {
   "cell_type": "markdown",
   "id": "8c7fc5",
   "metadata": {
    "collapsed": false
   },
   "source": [
   ]
  },
  {
   "cell_type": "markdown",
   "id": "45629a",
   "metadata": {
    "collapsed": false
   },
   "source": [
    "**Exercise 9.**   The solution to the harvesting differential equation and initial condition $u(0) = u_0$ is claimed to be equation (1.13):\n",
    "$$u(t) = \\frac{\\left(1-\\frac{h}{r}\\right)K}{1 + e^{-(r-h)t}\\left(\\frac{K}{u_0}\\left(1-\\frac{h}{r}\\right) - 1\\right)}.$$\n",
    "Verify the claim."
   ]
  },
  {
   "cell_type": "code",
   "execution_count": 0,
   "id": "ce8d9b",
   "metadata": {
    "collapsed": false
   },
   "outputs": [
   ],
   "source": [
   ]
  },
  {
   "cell_type": "markdown",
   "id": "add7db",
   "metadata": {
    "collapsed": false
   },
   "source": [
    "**Exercise 10.** Graph the solution on the domain $[0, 10]$ when $K = 10$, $r = 1$, $u_0 = 2$, and $h = 0.1$"
   ]
  },
  {
   "cell_type": "code",
   "execution_count": 0,
   "id": "3c1e99",
   "metadata": {
    "collapsed": false
   },
   "outputs": [
   ],
   "source": [
   ]
  },
  {
   "cell_type": "markdown",
   "id": "971d05",
   "metadata": {
    "collapsed": false
   },
   "source": [
    "**Exercise 11.** According to the harvesting model, what happens to the population as time goes on?"
   ]
  },
  {
   "cell_type": "markdown",
   "id": "4299f0",
   "metadata": {
    "collapsed": false
   },
   "source": [
   ]
  },
  {
   "cell_type": "markdown",
   "id": "e68ac2",
   "metadata": {
    "collapsed": false
   },
   "source": [
    "**Exercise 12.** the code below stores Atlantic cod population and harvesting data from Table 1.2 in the text and then shows part of the table.  Find the mean of the harvesting data.  Graph the population data versus years after January 1, 1978, and the model solution using reasonable parameter values."
   ]
  },
  {
   "cell_type": "code",
   "execution_count": 0,
   "id": "6ca157",
   "metadata": {
    "collapsed": false
   },
   "outputs": [
   ],
   "source": [
    "ydata = list(range(1978,2009))\n",
    "udata = [72148, 73793, 74082, 92912, 82323, 59073, 59920, 48789, 70638, 67462, 68702, 61191, 49599, 46266, 34877, 28827, 21980, 17463, 18057, 22681, 20196, 25776, 23796, 19240, 16495, 12167, 21104, 18871, 21241, 22962, 21848]\n",
    "hdata = [0.18847, 0.14974, 0.21921, 0.17678, 0.28203, 0.34528, 0.20655, 0.33819, 0.14724, 0.19757, 0.23154, 0.2086, 0.33565, 0.29534, 0.33185, 0.35039, 0.2827, 0.19928, 0.18781, 0.19357, 0.18953, 0.17011, 0.1566, 0.28179, 0.25287, 0.25542, 0.08103, 0.0874, 0.08195, 0.10518, NaN]\n",
    "table(columns = [ydata[0:32:6], udata[0:32:6], hdata[0:32:6]], header_row = [\"year\", \"$u_t$\", \"$h_t$\"])"
   ]
  },
  {
   "cell_type": "code",
   "execution_count": 0,
   "id": "dc4f01",
   "metadata": {
    "collapsed": false
   },
   "outputs": [
   ],
   "source": [
   ]
  }
 ],
 "metadata": {
  "kernelspec": {
   "argv": [
    "/usr/bin/python3",
    "-m",
    "ipykernel",
    "--HistoryManager.enabled=False",
    "--matplotlib=inline",
    "-c",
    "%config InlineBackend.figure_formats = set(['retina'])\nimport matplotlib; matplotlib.rcParams['figure.figsize'] = (12, 7)",
    "-f",
    "{connection_file}"
   ],
   "display_name": "Python 3 (system-wide)",
   "env": {
   },
   "language": "python",
   "metadata": {
    "cocalc": {
     "description": "Python 3 programming language",
     "priority": 100,
     "url": "https://www.python.org/"
    }
   },
   "name": "python3",
   "resource_dir": "/ext/jupyter/kernels/python3"
  },
  "language_info": {
   "codemirror_mode": {
    "name": "ipython",
    "version": 3
   },
   "file_extension": ".py",
   "mimetype": "text/x-python",
   "name": "python",
   "nbconvert_exporter": "python",
   "pygments_lexer": "ipython3",
   "version": "3.10.3"
  }
 },
 "nbformat": 4,
 "nbformat_minor": 4
}