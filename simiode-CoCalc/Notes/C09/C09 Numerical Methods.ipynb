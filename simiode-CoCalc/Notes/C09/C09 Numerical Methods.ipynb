{
 "cells": [
  {
   "cell_type": "markdown",
   "id": "79e76f",
   "metadata": {
    "collapsed": false
   },
   "source": [
    "# C09-C10 Numerical Methods"
   ]
  },
  {
   "cell_type": "markdown",
   "id": "c1c44f",
   "metadata": {
    "collapsed": false
   },
   "source": [
    "**Exercise 1.** Solve the logistic differential equation with a time varying carrying capacity $u' = u\\left(1 - \\dfrac{u}{1 + 0.25\\sin(2\\pi t)}\\right)$ and the initial condition $u(0) = 0.1$.  \n"
   ]
  },
  {
   "cell_type": "markdown",
   "id": "d49330",
   "metadata": {
    "collapsed": false
   },
   "source": [
    "**Exercise 2.** Solve $u' = u - 3t^2$ with initial condition $u(0) = 1$, and find the values of $u(0.25), u(0.50), u(0.75), u(1.00)$. "
   ]
  },
  {
   "cell_type": "markdown",
   "id": "ea1211",
   "metadata": {
    "collapsed": false
   },
   "source": [
    "**Exercise 3.** Develop Euclid's Method.  Use it to approximate the solution to $u' = u - 3t^2, u(0) = 1$ at $t = 0.25, 0.50, 0.75, 1.00$.  Show the results graphically in comparison with the actual solution. "
   ]
  },
  {
   "cell_type": "markdown",
   "id": "3cc01b",
   "metadata": {
    "collapsed": false
   },
   "source": [
    "**Exercise 4.** Approximate $u(1)$ for the initial value problem $u' = u - 3t^2, u(0) = 1$  using Euclid's method with $h = 1, 0.1, 0.01, 0.001, 0.0001$ and compare with the actual value."
   ]
  },
  {
   "cell_type": "markdown",
   "id": "fc0b10",
   "metadata": {
    "collapsed": false
   },
   "source": [
    "**Exercise 5.** Approximate $u(1)$ for the initial value problem $u' = u - 3t^2, u(0) = 1$  using the improved Euclid's method with $h = 1, 0.1, 0.01, 0.001, 0.0001$ and compare with the actual value."
   ]
  },
  {
   "cell_type": "markdown",
   "id": "65283b",
   "metadata": {
    "collapsed": false
   },
   "source": [
    "**Exercise 6.** Approximate $u(1)$ for the initial value problem $u' = u - 3t^2, u(0) = 1$  using the fourth-order Runge-Kutta method with $h = 1, 0.1, 0.01, 0.001, 0.0001$ and compare with the actual value."
   ]
  }
 ],
 "metadata": {
  "kernelspec": {
   "argv": [
    "sage-9.6",
    "--python",
    "-m",
    "sage.repl.ipython_kernel",
    "--matplotlib=inline",
    "-f",
    "{connection_file}"
   ],
   "display_name": "SageMath 9.6",
   "env": {
   },
   "language": "sagemath",
   "metadata": {
    "cocalc": {
     "description": "Open-source mathematical software system",
     "priority": 1,
     "url": "https://www.sagemath.org/"
    }
   },
   "name": "sage-9.6",
   "resource_dir": "/ext/jupyter/kernels/sage-9.6"
  },
  "language_info": {
   "codemirror_mode": {
    "name": "ipython",
    "version": 3
   },
   "file_extension": ".py",
   "mimetype": "text/x-python",
   "name": "python",
   "nbconvert_exporter": "python",
   "pygments_lexer": "ipython3",
   "version": "3.10.3"
  }
 },
 "nbformat": 4,
 "nbformat_minor": 4
}