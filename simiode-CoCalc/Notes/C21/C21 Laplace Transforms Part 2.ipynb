{
 "cells": [
  {
   "cell_type": "markdown",
   "id": "f920b7",
   "metadata": {
    "collapsed": false
   },
   "source": [
    "# C21 Laplace Transforms Part 2"
   ]
  },
  {
   "cell_type": "markdown",
   "id": "fba641",
   "metadata": {
    "collapsed": false
   },
   "source": [
    "**Rules Summary and Preview.**\n",
    "\n",
    "$ \\qquad \\def\\arraystretch{1.4}\n",
    "\\begin{array}{lcl}\n",
    "\\text{Function} & \\text{Laplace Transform}\\\\ \\hline\n",
    "f(t) &  \\int_{0}^{\\infty} e^{-st}f(t) \\, dt \\\\\n",
    "e^{at} & 1/(s-a) \\\\\n",
    "t^n & n!/s^{n+1} \\\\\n",
    "af(t) + bg(t) & aF(s) + bG(s) \\\\\n",
    "f'(t) & sF(s) - f(0) \\\\\n",
    "\\cos(bt) & s/(s^2 + b^2) \\\\\n",
    "\\sin(bt) & b/(s^2 + b^2) \\\\\n",
    "e^{at}f(t) & F(s-a) \\\\\n",
    "\\end{array}$"
   ]
  },
  {
   "cell_type": "markdown",
   "id": "3592dd",
   "metadata": {
    "collapsed": false
   },
   "source": [
    "**Laplace Transform Existence.**  Many but not all functions have Laplace transforms.\n",
    "\n",
    "**Theorem 5.2.1.** If $f(t)$ is defined for $t \\geq 0$, piecewise continuous, and is exponential of order $a$ (satisfies for some constant $a$ and constant $M \\geq 0$ the inequality $|f(t)| \\leq Me^{at}$ for all $t \\geq 0$), then the Laplace transform $\\mathcal{L}(f)(s)$ exists for all $s > a$."
   ]
  },
  {
   "cell_type": "markdown",
   "id": "c027c0",
   "metadata": {
    "collapsed": false
   },
   "source": [
    "**Text Example 5.9.** Solve $u''(t) + 4u'(t) + 20u(t) = 0$ with initial conditions $u(0) = 2$ and $u'(0) = 4$."
   ]
  },
  {
   "cell_type": "markdown",
   "id": "f94e9e",
   "metadata": {
    "collapsed": false
   },
   "source": [
    "**Text Example 5.8.** Solve $u''(t) + 4u'(t) + 3u(t) = 0$ with initial conditions $u(0) = 2$ and $u'(0) = 4$."
   ]
  }
 ],
 "metadata": {
  "kernelspec": {
   "argv": [
    "sage-9.7",
    "--python",
    "-m",
    "sage.repl.ipython_kernel",
    "--matplotlib=inline",
    "-f",
    "{connection_file}"
   ],
   "display_name": "SageMath 9.7",
   "env": {
   },
   "language": "sagemath",
   "metadata": {
    "cocalc": {
     "description": "Open-source mathematical software system",
     "priority": 1,
     "url": "https://www.sagemath.org/"
    }
   },
   "name": "sage-9.7",
   "resource_dir": "/ext/jupyter/kernels/sage-9.7"
  }
 },
 "nbformat": 4,
 "nbformat_minor": 4
}