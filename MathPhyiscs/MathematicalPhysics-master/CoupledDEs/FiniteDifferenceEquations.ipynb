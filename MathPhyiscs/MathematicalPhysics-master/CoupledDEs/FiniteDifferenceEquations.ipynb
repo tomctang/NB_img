{
 "cells": [
  {
   "cell_type": "markdown",
   "metadata": {},
   "source": [
    "# Predator Prey\n",
    "\n",
    "Let's start with a different example than we're using in the book, a classic from biology that we'll study more soon, the Lotka-Voltera equations.\n",
    "\n",
    "The standard setup asks you to consider rabbits and wolves. Let $x$ be the number of rabbits, and $y$ be the number of wolves. \n",
    "\n",
    "In our ideal (though still full of death) world, the rabbits have an unlimited amount of food. So, the population of rabbits should be increasing. At first, you might think we'd call it\n",
    "\n",
    "$x(t) = \\alpha x$, \n",
    "\n",
    "a linear increase, where $\\alpha$ is the constant of proportionality (probably determined via experiment). Picking an arbitrary value for $\\alpha$:\n"
   ]
  },
  {
   "cell_type": "code",
   "execution_count": 2,
   "metadata": {
    "collapsed": true
   },
   "outputs": [],
   "source": [
    "import numpy as np, matplotlib as mpl, pandas as pd, seaborn as sns\n",
    "from matplotlib import pyplot as plt\n",
    "%matplotlib inline"
   ]
  },
  {
   "cell_type": "code",
   "execution_count": 3,
   "metadata": {
    "collapsed": false
   },
   "outputs": [
    {
     "data": {
      "text/plain": [
       "[<matplotlib.lines.Line2D at 0x10b54a2e8>]"
      ]
     },
     "execution_count": 3,
     "metadata": {},
     "output_type": "execute_result"
    },
    {
     "data": {
      "image/png": "[encoded data removed]",
      "text/plain": [
       "<matplotlib.figure.Figure at 0x10b469080>"
      ]
     },
     "metadata": {},
     "output_type": "display_data"
    }
   ],
   "source": [
    "t = np.linspace(0,100,1000)\n",
    "alpha = 0.2\n",
    "x = alpha*t\n",
    "plt.plot(t,x)"
   ]
  },
  {
   "cell_type": "markdown",
   "metadata": {},
   "source": [
    "But, thinking a little more, the number of cute little rabbit babies made depends on the number of rabbits available to make the babies. More rabbits = more babies. Fewer rabbits = fewer babies. Put into the language of mathematics, we're saying \n",
    "\n",
    "$\\frac{dx}{dt} = \\alpha x$.\n",
    "\n",
    "Unfortunately for our rabbits, there are **WOLVES**. The wolves eat rabbits. More wolves can eat more rabbits. A little careful thought leads us to the idea that the rate at which rabbits are eaten is proportional to the number of interactions (in some small time $\\delta t$) between the rabbits and the wolves. Mathematically, we can choose another arbitrary constant of proportionality, $\\beta$ and rewrite our equation for rabbits as\n",
    "\n",
    "$\\frac{dx}{dt} = \\alpha x - \\beta xy$.\n",
    "\n",
    "Meanwhile, what happens to the wolves? In this simple model, two things: (1) as the wolves eat the rabbits, their population grows. We need a new constant of proportionality (not just $\\beta$) here, because maybe a wolf has to eat a lot of rabbits to store enough energy up to make a new wolf (don't you love making simplified models?). So we should have $\\frac{dy}{dt} = \\gamma xy$. We also add in a term allowing the wolves to die over time, giving us\n",
    "\n",
    "$\\frac{dy}{dt} = \\gamma xy - \\lambda y$\n",
    "\n",
    "There's more to discuss here, but that will come later. "
   ]
  },
  {
   "cell_type": "code",
   "execution_count": null,
   "metadata": {
    "collapsed": true
   },
   "outputs": [],
   "source": []
  },
  {
   "cell_type": "code",
   "execution_count": null,
   "metadata": {
    "collapsed": true
   },
   "outputs": [],
   "source": []
  },
  {
   "cell_type": "code",
   "execution_count": null,
   "metadata": {
    "collapsed": true
   },
   "outputs": [],
   "source": []
  }
 ],
 "metadata": {
  "kernelspec": {
   "display_name": "Python 3",
   "language": "python",
   "name": "python3"
  },
  "language_info": {
   "codemirror_mode": {
    "name": "ipython",
    "version": 3
   },
   "file_extension": ".py",
   "mimetype": "text/x-python",
   "name": "python",
   "nbconvert_exporter": "python",
   "pygments_lexer": "ipython3",
   "version": "3.5.1"
  }
 },
 "nbformat": 4,
 "nbformat_minor": 0
}
