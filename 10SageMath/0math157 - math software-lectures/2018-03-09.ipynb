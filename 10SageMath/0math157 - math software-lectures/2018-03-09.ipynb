{
 "cells": [
  {
   "cell_type": "markdown",
   "metadata": {
    "collapsed": false
   },
   "source": [
    "## Math 157: Intro to Mathematical Software\n",
    "## UC San Diego, winter 2018\n",
    "\n",
    "## March 9, 2018: Final product redux"
   ]
  },
  {
   "cell_type": "markdown",
   "metadata": {
    "collapsed": false
   },
   "source": [
    "Administrivia:\n",
    "\n",
    "- CAPE evaluations are available! They close Monday, March 19 at 8am. Since this course is highly experimental, your feedback will be very helpful for shaping future offerings.\n",
    "- Today is the last lecture to be counted for course attendance.\n",
    "- HW 6 has been returned.\n",
    "- No lectures on Monday, March 12 or Wednesday, March 14. You may wish to use this time to meet your final project group.\n",
    "- There will be a lecture on Friday, March 16, on the topic of \"Where to go from here?\"\n",
    "- My office hours on Thursday, March 15 are cancelled. All other sections and office hours, including virtual office hours, meet as scheduled next week."
   ]
  },
  {
   "cell_type": "markdown",
   "metadata": {
    "collapsed": false
   },
   "source": [
    "### Comments on HW 8"
   ]
  },
  {
   "cell_type": "markdown",
   "metadata": {
    "collapsed": false
   },
   "source": [
    "- As announced in the original notebook, this homework will be collected Saturday at 8pm.\n",
    "- Problem 2b: correct \"using your answer to 1a\" to \"using your answer to 2a\". You are supposed to produce a function with input and output as in Sage's `crt` function; however, if the input moduli are not coprime, it is okay if you simply return an error (although Sage does handle this case correctly).\n",
    "- Problem 3b: see the [Wikipedia article on Moore-Penrose pseudoinverses](https://en.wikipedia.org/wiki/Moore%E2%80%93Penrose_inverse), particularly the application to linear least-squares, for the recipe for going from the pseudoinverse to the approximate solution of the linear system.\n",
    "- Problem 4c: correct \"modular inverse\" to \"matrix inverse\".\n",
    "- Problem 4d: keep in mind that the Hilbert matrix is essentially a worst-case scenario for numerical instability.\n",
    "- Problem 5c: beware that Nemo matrices do not support all of the same functionality as Julia matrices (e.g., taking row slices). You might find it convenient to do a list comprehension to convert your Nemo matrix back into a Julia matrix, e.g.,\n",
    "```\n",
    "H = [[Int(H[i,j]) for j in 1:28] for i in 1:28]\n",
    "```\n",
    "(Note that I'm also using `Int` to convert Nemo integers into Julia integers.)\n",
    "- Problem 6: when interpreting the given example, keep in mind that Python has its own native complex floating-point type. The expression `1j` is Python's native square root of -1."
   ]
  },
  {
   "cell_type": "markdown",
   "metadata": {
    "collapsed": false
   },
   "source": [
    "Pause for additional questions about HW 8."
   ]
  },
  {
   "cell_type": "code",
   "execution_count": 0,
   "metadata": {
    "collapsed": false
   },
   "outputs": [
   ],
   "source": [
    "crt?"
   ]
  },
  {
   "cell_type": "markdown",
   "metadata": {
    "collapsed": false
   },
   "source": [
    "### Comments on the final project\n",
    "\n",
    "- Both parts will be collected Sunday, March 18 at 8pm.\n",
    "- By now, you should have checked the file `final_project_groups.md` in the shared project to find your group and topic assignment, and contacted the rest of your group. (A small number of groups were updated to remove students who have dropped the course.) Also in the shared project, you will find a workspace for your group and a chatroom which you can use to make contact (you are then free to use other channels of communication). If you are unable to reach one of the members of your group by 8pm tonight, please send me an email so I can make a note of this.\n",
    "\n",
    "Pause for additional questions about Part 2 of the final project."
   ]
  },
  {
   "cell_type": "markdown",
   "metadata": {
    "collapsed": false
   },
   "source": [
    "### Discussion of part 1 of the final project"
   ]
  },
  {
   "cell_type": "markdown",
   "metadata": {
    "collapsed": false
   },
   "source": [
    "The remainder of this lecture will be devoted to discussion of part 1 of the final project. I have placed a copy of that notebook in this folder so that you can work there for attendance purposes; please switch to that notebook now."
   ]
  },
  {
   "cell_type": "code",
   "execution_count": 0,
   "metadata": {
    "collapsed": false
   },
   "outputs": [
   ],
   "source": [
   ]
  }
 ],
 "metadata": {
  "kernelspec": {
   "display_name": "SageMath 8.1",
   "name": "sage-8.1"
  },
  "language_info": {
   "codemirror_mode": {
    "name": "ipython",
    "version": 2
   },
   "file_extension": ".py",
   "mimetype": "text/x-python",
   "name": "python",
   "nbconvert_exporter": "python",
   "pygments_lexer": "ipython2",
   "version": "2.7.14"
  }
 },
 "nbformat": 4,
 "nbformat_minor": 0
}