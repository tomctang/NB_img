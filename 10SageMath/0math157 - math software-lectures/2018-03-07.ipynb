{
 "cells": [
  {
   "cell_type": "markdown",
   "metadata": {
    "collapsed": false
   },
   "source": [
    "## Math 157: Intro to Mathematical Software\n",
    "## UC San Diego, winter 2018\n",
    "\n",
    "## March 7, 2018: Julia (part 3 of 3)"
   ]
  },
  {
   "cell_type": "markdown",
   "metadata": {
    "collapsed": false
   },
   "source": [
    "Administrivia:\n",
    "\n",
    "- CAPE evaluations are available! They close Monday, March 19 at 8am. Since this course is highly experimental, your feedback will be very helpful for shaping future offerings.\n",
    "- Thomas's office hours (usually Tuesday 11am-12pm) are moved to Friday 11:30am-12:50pm.\n",
    "- Peter's office hours (usually Wednesday 3-5pm) are moved to Wednesday 5-7pm. \n",
    "- There will be an extra virtual office hour Thursday 6-7pm.\n",
    " \n",
    "Advance notice for week 10:\n",
    "- No lectures on Monday, March 12 or Wednesday, March 14. You may wish to use this time to meet your final project group.\n",
    "- There will be a lecture on Friday, March 16, on the topic of \"Where to go from here?\" This lecture will not be counted for course attendance; that is, the last lecture for which attendance counts is Friday, March 9.\n",
    "- My office hours on Thursday, March 15 are cancelled. All other sections and office hours meet as scheduled."
   ]
  },
  {
   "cell_type": "markdown",
   "metadata": {
    "collapsed": false
   },
   "source": [
    "### Final project news\n",
    "\n",
    "- Both parts will be collected Sunday, March 18 at 8pm.\n",
    "- The groups for part 2 have been assigned. See the file `final_project_groups.md` in the shared project; then contact your group members as soon as possible. (I have created workspaces and chat rooms which may help with this; these are described in the same file.)\n",
    "- For part 1, problem 4b, instead of the exhaustive search, do random sampling with $10^4$ samples. Ditto for 4c.\n",
    "- A significant portion of the lecture hour on Friday, March 9 will be devoted to questions about Part 1 of the final project. I would recommend having a look at Part 1 before Friday if you have not yet done so."
   ]
  },
  {
   "cell_type": "markdown",
   "metadata": {
    "collapsed": false
   },
   "source": [
    "### The Nemo project"
   ]
  },
  {
   "cell_type": "markdown",
   "metadata": {
    "collapsed": false
   },
   "source": [
    "Since Julia was designed to be a general language for scientific computation, it does not include much of the functionality of a computer algebra system. In Python, we can remedy this by using Sage. Recently, the [Nemo project](http://www.nemocas.org/) was created to provide some (although for now only a little) of the same functionality in Julia."
   ]
  },
  {
   "cell_type": "code",
   "execution_count": 45,
   "metadata": {
    "collapsed": false
   },
   "outputs": [
    {
     "name": "stdout",
     "output_type": "stream",
     "text": [
      "\n",
      "Welcome to Nemo version 0.7.3\n",
      "\n",
      "Nemo comes with absolutely no warranty whatsoever\n",
      "\n"
     ]
    }
   ],
   "source": [
    "using Nemo"
   ]
  },
  {
   "cell_type": "markdown",
   "metadata": {
    "collapsed": false
   },
   "source": [
    "In Nemo, mathematical objects are generally constructed by first constructing a *parent object* which represents the collection of all objects of a particular type. So for example, Nemo big integers are constructed using the special object `ZZ` which stands for the collection of all integers."
   ]
  },
  {
   "cell_type": "code",
   "execution_count": 46,
   "metadata": {
    "collapsed": false
   },
   "outputs": [
    {
     "data": {
      "text/plain": [
       "Integer Ring"
      ]
     },
     "execution_count": 46,
     "metadata": {
     },
     "output_type": "execute_result"
    }
   ],
   "source": [
    "ZZ"
   ]
  },
  {
   "cell_type": "code",
   "execution_count": 48,
   "metadata": {
    "collapsed": false
   },
   "outputs": [
    {
     "data": {
      "text/plain": [
       "6270690073961791488"
      ]
     },
     "execution_count": 48,
     "metadata": {
     },
     "output_type": "execute_result"
    }
   ],
   "source": [
    "23455678^15"
   ]
  },
  {
   "cell_type": "code",
   "execution_count": 47,
   "metadata": {
    "collapsed": false
   },
   "outputs": [
    {
     "data": {
      "text/plain": [
       "357865526951036277776151046050141172644498244064981619523667001448806919564814697587707949626796007199526060032"
      ]
     },
     "execution_count": 47,
     "metadata": {
     },
     "output_type": "execute_result"
    }
   ],
   "source": [
    "ZZ(23455678)^15"
   ]
  },
  {
   "cell_type": "markdown",
   "metadata": {
    "collapsed": false
   },
   "source": [
    "Some more examples from [this list](http://nemocas.github.io/Nemo.jl/latest/constructors.html):"
   ]
  },
  {
   "cell_type": "code",
   "execution_count": 50,
   "metadata": {
    "collapsed": false
   },
   "outputs": [
    {
     "ename": "LoadError",
     "evalue": "\u001b[91mMethodError: no method matching (::Nemo.FlintRationalField)(::Float64)\u001b[0m\nClosest candidates are:\n  FlintRationalField(\u001b[91m::Nemo.fmpq\u001b[39m) at /ext/julia/julia-0.6.2/share/julia/site/v0.6/Nemo/src/flint/fmpq.jl:776\n  FlintRationalField(\u001b[91m::Nemo.fmpz\u001b[39m, \u001b[91m::Nemo.fmpz\u001b[39m) at /ext/julia/julia-0.6.2/share/julia/site/v0.6/Nemo/src/flint/fmpq.jl:774\n  FlintRationalField(\u001b[91m::Nemo.fmpz\u001b[39m) at /ext/julia/julia-0.6.2/share/julia/site/v0.6/Nemo/src/flint/fmpq.jl:766\n  ...\u001b[39m",
     "output_type": "error",
     "traceback": [
      "\u001b[91mMethodError: no method matching (::Nemo.FlintRationalField)(::Float64)\u001b[0m\nClosest candidates are:\n  FlintRationalField(\u001b[91m::Nemo.fmpq\u001b[39m) at /ext/julia/julia-0.6.2/share/julia/site/v0.6/Nemo/src/flint/fmpq.jl:776\n  FlintRationalField(\u001b[91m::Nemo.fmpz\u001b[39m, \u001b[91m::Nemo.fmpz\u001b[39m) at /ext/julia/julia-0.6.2/share/julia/site/v0.6/Nemo/src/flint/fmpq.jl:774\n  FlintRationalField(\u001b[91m::Nemo.fmpz\u001b[39m) at /ext/julia/julia-0.6.2/share/julia/site/v0.6/Nemo/src/flint/fmpq.jl:766\n  ...\u001b[39m",
      "",
      "Stacktrace:",
      " [1] \u001b[1minclude_string\u001b[22m\u001b[22m\u001b[1m(\u001b[22m\u001b[22m::String, ::String\u001b[1m)\u001b[22m\u001b[22m at \u001b[1m./loading.jl:522\u001b[22m\u001b[22m"
     ]
    }
   ],
   "source": [
    "QQ(23/45)^12"
   ]
  },
  {
   "cell_type": "code",
   "execution_count": 49,
   "metadata": {
    "collapsed": false
   },
   "outputs": [
    {
     "data": {
      "text/plain": [
       "21914624432020321//68952523554931640625"
      ]
     },
     "execution_count": 49,
     "metadata": {
     },
     "output_type": "execute_result"
    }
   ],
   "source": [
    "# Rational number, specified by numerator and denominator\n",
    "QQ(23, 45)^12"
   ]
  },
  {
   "cell_type": "code",
   "execution_count": 51,
   "metadata": {
    "collapsed": false
   },
   "outputs": [
    {
     "data": {
      "text/plain": [
       "23"
      ]
     },
     "execution_count": 51,
     "metadata": {
     },
     "output_type": "execute_result"
    }
   ],
   "source": [
    "# Integers mod n\n",
    "ResidueRing(ZZ, 37)(2)^15 # Computing 2^15 mod 37"
   ]
  },
  {
   "cell_type": "code",
   "execution_count": 52,
   "metadata": {
    "collapsed": false
   },
   "outputs": [
    {
     "data": {
      "text/plain": [
       "[1.41421356237309504880168872420969807856967187537694807317668 +/- 1.63e-60]"
      ]
     },
     "execution_count": 52,
     "metadata": {
     },
     "output_type": "execute_result"
    }
   ],
   "source": [
    "# Real numbers with specified precision\n",
    "sqrt(RealField(200)(2))"
   ]
  },
  {
   "cell_type": "markdown",
   "metadata": {
    "collapsed": false
   },
   "source": [
    "By the way, real numbers in Nemo automatically handle interval arithmetic; that is, they keep track of error bounds as you carry out operations. This functionality is provided by the [Arb library](http://arblib.org/)."
   ]
  },
  {
   "cell_type": "code",
   "execution_count": 53,
   "metadata": {
    "collapsed": false
   },
   "outputs": [
    {
     "data": {
      "text/plain": [
       "[1 0 0 0 0 0 0 1 1 1]\n",
       "[0 0 1 0 1 1 0 0 1 0]\n",
       "[0 1 0 1 0 1 1 0 0 0]\n",
       "[0 1 0 1 0 1 1 1 1 1]\n",
       "[0 1 1 1 1 0 1 0 1 0]\n",
       "[1 1 1 0 0 0 1 1 0 0]\n",
       "[1 1 0 0 0 0 0 1 1 0]\n",
       "[0 1 1 0 0 1 1 0 1 0]\n",
       "[0 1 0 0 0 0 0 0 0 1]\n",
       "[1 1 1 0 0 1 0 1 1 0]"
      ]
     },
     "execution_count": 53,
     "metadata": {
     },
     "output_type": "execute_result"
    }
   ],
   "source": [
    "# Matrices with integer entries\n",
    "S = MatrixSpace(ZZ, 10, 10)\n",
    "S(rand(0:1,10,10))"
   ]
  },
  {
   "cell_type": "code",
   "execution_count": 57,
   "metadata": {
    "collapsed": false
   },
   "outputs": [
    {
     "data": {
      "text/plain": [
       "x^4+4*x^3+6*x^2+4*x+1"
      ]
     },
     "execution_count": 57,
     "metadata": {
     },
     "output_type": "execute_result"
    }
   ],
   "source": [
    "# Polynomials with integer coefficients\n",
    "S, x = PolynomialRing(ZZ, \"x\")\n",
    "(x+1)^4"
   ]
  },
  {
   "cell_type": "markdown",
   "metadata": {
    "collapsed": false
   },
   "source": [
    "### Performance comparisons"
   ]
  },
  {
   "cell_type": "markdown",
   "metadata": {
    "collapsed": false
   },
   "source": [
    "Here is an example from the book [Julia High Performance](https://www.packtpub.com/application-development/julia-high-performance) by way of [Stack Overflow](https://stackoverflow.com/questions/44590882/compare-speed-python3-vs-julia). Switch to the Python 3 (Ubuntu Linux) kernel now."
   ]
  },
  {
   "cell_type": "code",
   "execution_count": 1,
   "metadata": {
    "collapsed": false
   },
   "outputs": [
   ],
   "source": [
    "import scipy as sp\n",
    "import time\n",
    "\n",
    "# Sum of 1/t^2 from t = 1 to n by using loops:\n",
    "# --------------------------------------------\n",
    "def pisum(w,n):\n",
    "    u_sum = 0\n",
    "    for vi in range(w):\n",
    "        u_sum = 0\n",
    "        for vj in range(1,n+1,1):\n",
    "            u_sum += 1.0/(vj*vj)\n",
    "    return u_sum\n",
    "\n",
    "# Sum of 1/t^2 from t = 1 to n by using scipy functions:\n",
    "# ------------------------------------------------------\n",
    "def pisum1(w,n):\n",
    "    for vi in range(w):\n",
    "        vj = sp.arange(1,n+1,1)\n",
    "        vj = sp.multiply(vj,vj)\n",
    "        u_sum_sp = (sp.divide(sp.ones(n),vj)).sum()\n",
    "    return u_sum_sp\n",
    "\n",
    "# Sum of 1/t^2 from t = 1 to n by using scipy functions & calculating \n",
    "# the sum via pure python:\n",
    "# -------------------------------------------------------------------\n",
    "def pisum2(w,n):\n",
    "    for vi in range(w):\n",
    "        vj = sp.arange(1,n+1,1)\n",
    "        vj = sp.multiply(vj,vj)\n",
    "        u_sum_py = sum(sp.divide(sp.ones(n),vj))\n",
    "    return u_sum_py\n"
   ]
  },
  {
   "cell_type": "code",
   "execution_count": 2,
   "metadata": {
    "collapsed": false
   },
   "outputs": [
   ],
   "source": [
    "# Benchmarking the methods :\n",
    "# ==========================   \n",
    "\n",
    "w = 500 \n",
    "n = 10000\n",
    "\n",
    "# 1) Loops:\n",
    "# ---------    \n",
    "ta = time.clock()\n",
    "u_sum_loops = pisum(w,n)\n",
    "eltime_loops = time.clock() - ta\n",
    "\n",
    "# 2) scipy:\n",
    "# ---------\n",
    "ta = time.clock()\n",
    "u_sum_sp = pisum1(w,n)\n",
    "eltime_sp= time.clock() - ta\n",
    "\n",
    "\n",
    "# 3) scipy & sum via python:\n",
    "# --------------------------\n",
    "ta = time.clock()\n",
    "u_sum_py = pisum2(w,n)\n",
    "eltime_py= time.clock() - ta\n"
   ]
  },
  {
   "cell_type": "code",
   "execution_count": 3,
   "metadata": {
    "collapsed": false
   },
   "outputs": [
    {
     "name": "stdout",
     "output_type": "stream",
     "text": [
      "Overview calculation time:\n",
      "--------------------------------------------------\n",
      "elapsed time using loops:           0.86448 sec.\n",
      "elapsed time using scipy:           0.03202 sec.\n",
      "elapsed time using python:          0.61134 sec.\n",
      "Overview Sum:\n",
      "--------------------------------------------------\n",
      "sum loops:                    1.6448340718480652\n",
      "sum scipy:                    1.6448340718480603\n",
      "sum scipy and sum via python: 1.6448340718480652\n"
     ]
    }
   ],
   "source": [
    "row_format = '{:<35} {:<5} {:<}'\n",
    "print(\"Overview calculation time:\")\n",
    "print(\"-\"*50)\n",
    "print(row_format.format(\"elapsed time using loops:\",\"%.5f\" % eltime_loops,\"sec.\"))\n",
    "print(row_format.format(\"elapsed time using scipy:\",\"%.5f\" % eltime_sp,\"sec.\"))\n",
    "print(row_format.format(\"elapsed time using python:\",\"%.5f\" % eltime_py,\"sec.\"))\n",
    "\n",
    "line1 = \"sum loops:\",u_sum_loops\n",
    "line2 = \"sum scipy:\",u_sum_sp\n",
    "line3 = \"sum scipy and sum via python:\",u_sum_py\n",
    "row_format = '{:<29} {:<18}'\n",
    "print(\"Overview Sum:\")\n",
    "print(\"-\"*50)\n",
    "print(row_format.format(*line1))\n",
    "print(row_format.format(*line2))\n",
    "print(row_format.format(*line3))\n"
   ]
  },
  {
   "cell_type": "markdown",
   "metadata": {
    "collapsed": false
   },
   "source": [
    "Now switch the kernel back to Julia."
   ]
  },
  {
   "cell_type": "code",
   "execution_count": 6,
   "metadata": {
    "collapsed": false
   },
   "outputs": [
    {
     "name": "stdout",
     "output_type": "stream",
     "text": [
      "  0.172473 seconds (15.00 M allocations: 228.994 MiB, 9.09% gc time)\n"
     ]
    },
    {
     "data": {
      "text/plain": [
       "1.6448340718480652"
      ]
     },
     "execution_count": 6,
     "metadata": {
     },
     "output_type": "execute_result"
    }
   ],
   "source": [
    "# Wrong way\n",
    "\n",
    "function pisum(w,n)\n",
    "    u_sum = 0;\n",
    "    for vi = 1:w\n",
    "        u_sum = 0;\n",
    "        for vj = 1:n\n",
    "            u_sum += 1.0/(vj*vj);\n",
    "        end\n",
    "    end\n",
    "    u_sum\n",
    "end\n",
    "\n",
    "@time u_sum = pisum(500,10000)"
   ]
  },
  {
   "cell_type": "code",
   "execution_count": 3,
   "metadata": {
    "collapsed": false
   },
   "outputs": [
    {
     "name": "stdout",
     "output_type": "stream",
     "text": [
      "  0.021794 seconds (2.21 k allocations: 113.106 KiB)\n"
     ]
    },
    {
     "data": {
      "text/plain": [
       "1.6448340718480652"
      ]
     },
     "execution_count": 3,
     "metadata": {
     },
     "output_type": "execute_result"
    }
   ],
   "source": [
    "# Right way\n",
    "\n",
    "function pisum(w,n)\n",
    "    u_sum = 0.0;\n",
    "    for vi = 1:w\n",
    "        u_sum = 0.0;\n",
    "        for vj = 1:n\n",
    "            u_sum += 1.0/(vj*vj);\n",
    "        end\n",
    "    end\n",
    "    u_sum\n",
    "end\n",
    "@time u_sum = pisum(500,10000)"
   ]
  },
  {
   "cell_type": "markdown",
   "metadata": {
    "collapsed": false
   },
   "source": [
    "Note that the second approach is 2x faster than scipy and about 100x faster than basic Python; however, the first approach is no faster than basic Python. Why the discrepancy?"
   ]
  },
  {
   "cell_type": "code",
   "execution_count": 4,
   "metadata": {
    "collapsed": false
   },
   "outputs": [
    {
     "name": "stdout",
     "output_type": "stream",
     "text": [
      "Int64\n"
     ]
    },
    {
     "name": "stdout",
     "output_type": "stream",
     "text": [
      "Float64\n",
      "Float64\n",
      "Float64\n",
      "Float64\n",
      "Float64\n",
      "Float64\n",
      "Float64\n",
      "Float64\n",
      "Float64\n",
      "Float64\n"
     ]
    }
   ],
   "source": [
    "n = 10\n",
    "u_sum = 0;\n",
    "println(typeof(u_sum))\n",
    "for vj = 1:n\n",
    "   u_sum += 1.0/(vj*vj);\n",
    "   println(typeof(u_sum))\n",
    "end\n"
   ]
  },
  {
   "cell_type": "markdown",
   "metadata": {
    "collapsed": false
   },
   "source": [
    "Note that `u_sum` is originally created as an integer 0, and then at the first step it is converted to a floating-point 0. That doesn't seem like a big penalty to pay, and at runtime it isn't.\n",
    "\n",
    "But remember that Julia's performance benefits derive from it having a just-in-time (JIT) compiler. The issue here is that the Julia compiler sees that this conversion is necessary and is forced to compile in a different (and less efficient) way because of this. This phenomenon is known as *type instability*.\n",
    "\n",
    "The moral is that, while Julia attempts to make it easier to write efficient code, this is not entirely automatic; one must still pay some attention to the underlying structure of the language in order to make things not just run, but run efficiently."
   ]
  },
  {
   "cell_type": "markdown",
   "metadata": {
    "collapsed": false
   },
   "source": [
    "Here is an example of a different issue."
   ]
  },
  {
   "cell_type": "code",
   "execution_count": 7,
   "metadata": {
    "collapsed": false
   },
   "outputs": [
    {
     "name": "stdout",
     "output_type": "stream",
     "text": [
      "elapsed time: 0.992005493 seconds\n"
     ]
    },
    {
     "data": {
      "text/plain": [
       "0.992005493"
      ]
     },
     "execution_count": 7,
     "metadata": {
     },
     "output_type": "execute_result"
    }
   ],
   "source": [
    "w = 500\n",
    "n = 10000\n",
    "tic()\n",
    "u_sum = 0.0;\n",
    "for vi = 1:w\n",
    "    u_sum = 0.0;\n",
    "    for vj = 1:n\n",
    "        u_sum += 1.0/(vj*vj);\n",
    "    end\n",
    "end\n",
    "eltime = toc()"
   ]
  },
  {
   "cell_type": "markdown",
   "metadata": {
    "collapsed": false
   },
   "source": [
    "What is going on here? I avoided type instability and I still have slow code.\n",
    "\n",
    "This time, the issue is that the global scope does not allow type specificity. That is, anything time-sensitive should be done inside a function call."
   ]
  },
  {
   "cell_type": "markdown",
   "metadata": {
    "collapsed": false
   },
   "source": [
    "See [this blog post](http://www.stochasticlifestyle.com/7-julia-gotchas-handle/) for other examples of easy traps to fall into when trying to write Julia code. "
   ]
  },
  {
   "cell_type": "markdown",
   "metadata": {
    "collapsed": false
   },
   "source": [
    "### More examples"
   ]
  },
  {
   "cell_type": "markdown",
   "metadata": {
    "collapsed": false
   },
   "source": [
    "The page [Julia by Example](https://juliabyexample.helpmanual.io/) has some basic examples which might be of use when getting started with the language. Here are a few of them."
   ]
  },
  {
   "cell_type": "markdown",
   "metadata": {
    "collapsed": false
   },
   "source": [
    "### Printing"
   ]
  },
  {
   "cell_type": "code",
   "execution_count": 9,
   "metadata": {
    "collapsed": false
   },
   "outputs": [
    {
     "name": "stdout",
     "output_type": "stream",
     "text": [
      "fix trailing precision: 3.142\n",
      "scientific form: 3.141593e+03\n",
      "a character: α\n",
      "a string: look I'm a string!\n",
      "right justify a string:                 "
     ]
    },
    {
     "name": "stdout",
     "output_type": "stream",
     "text": [
      "   width 50, text right justified!\n",
      "a pointer: 0x0000000005f5e100\n",
      "print a integer: 100000000000000007629769841091887003294964970946560\n"
     ]
    }
   ],
   "source": [
    "# available number format characters are f, e, g, c, s, p, d:\n",
    "# (pi is a predefined constant; however, since its type is \n",
    "# \"MathConst\" it has to be converted to a float to be formatted)\n",
    "@printf \"fix trailing precision: %0.3f\\n\" float(pi)\n",
    "@printf \"scientific form: %0.6e\\n\" 1000pi\n",
    "# g is not implemented yet\n",
    "@printf \"a character: %c\\n\" 'α'\n",
    "@printf \"a string: %s\\n\" \"look I'm a string!\"\n",
    "@printf \"right justify a string: %50s\\n\" \"width 50, text right justified!\"\n",
    "@printf \"a pointer: %p\\n\" 100000000\n",
    "@printf \"print a integer: %d\\n\" 1e50\n"
   ]
  },
  {
   "cell_type": "markdown",
   "metadata": {
    "collapsed": false
   },
   "source": [
    "### Error handling"
   ]
  },
  {
   "cell_type": "code",
   "execution_count": 5,
   "metadata": {
    "collapsed": false
   },
   "outputs": [
    {
     "name": "stdout",
     "output_type": "stream",
     "text": [
      "hello\n",
      "\n",
      "Continuing after error\n"
     ]
    },
    {
     "name": "stderr",
     "output_type": "stream",
     "text": [
      "\u001b[91mMethodError: no method matching pop!(::Array{Any,1}, ::Int64)\u001b[0m\n",
      "Closest candidates are:\n",
      "  pop!(\u001b[91m::IntSet\u001b[39m, ::Integer) at intset.jl:77\n",
      "  pop!(\u001b[91m::IntSet\u001b[39m, ::Integer, \u001b[91m::Any\u001b[39m) at intset.jl:80\n",
      "  pop!(\u001b[91m::ObjectIdDict\u001b[39m, ::ANY) at associative.jl:445\n",
      "  ...\u001b[39m\n",
      "Stacktrace:\n",
      " [1] \u001b[1mbacktrace\u001b[22m\u001b[22m\u001b[1m(\u001b[22m\u001b[22m\u001b[1m)\u001b[22m\u001b[22m at \u001b[1m./error.jl:46\u001b[22m\u001b[22m\n",
      " [2] \u001b[1minclude_string\u001b[22m\u001b[22m\u001b[1m(\u001b[22m\u001b[22m::String, ::String\u001b[1m)\u001b[22m\u001b[22m at \u001b[1m./loading.jl:522\u001b[22m\u001b[22m\n",
      " [3] \u001b[1minclude_string\u001b[22m\u001b[22m\u001b[1m(\u001b[22m\u001b[22m::Module, ::String, ::String\u001b[1m)\u001b[22m\u001b[22m at \u001b[1m/ext/julia/julia-0.6.2/share/julia/site/v0.6/Compat/src/Compat.jl:174\u001b[22m\u001b[22m\n",
      " [4] \u001b[1mexecute_request\u001b[22m\u001b[22m\u001b[1m(\u001b[22m\u001b[22m::ZMQ.Socket, ::IJulia.Msg\u001b[1m)\u001b[22m\u001b[22m at \u001b[1m/ext/julia/julia-0.6.2/share/julia/site/v0.6/IJulia/src/execute_request.jl:154\u001b[22m\u001b[22m\n",
      " [5] \u001b[1m(::Compat.#inner#16{Array{Any,1},IJulia.#execute_request,Tuple{ZMQ.Socket,IJulia.Msg}})\u001b[22m\u001b[22m\u001b[1m(\u001b[22m\u001b[22m\u001b[1m)\u001b[22m\u001b[22m at \u001b[1m/ext/julia/julia-0.6.2/share/julia/site/v0.6/Compat/src/Compat.jl:496\u001b[22m\u001b[22m\n",
      " [6] \u001b[1meventloop\u001b[22m\u001b[22m\u001b[1m(\u001b[22m\u001b[22m::ZMQ.Socket\u001b[1m)\u001b[22m\u001b[22m at \u001b[1m/ext/julia/julia-0.6.2/share/julia/site/v0.6/IJulia/src/eventloop.jl:8\u001b[22m\u001b[22m\n",
      " [7] \u001b[1m(::IJulia.##14#17)\u001b[22m\u001b[22m\u001b[1m(\u001b[22m\u001b[22m\u001b[1m)\u001b[22m\u001b[22m at \u001b[1m./task.jl:335\u001b[22m\u001b[22m"
     ]
    }
   ],
   "source": [
    "a=[]\n",
    "# try, catch can be used to deal with errors as in Python\n",
    "try\n",
    "    pop!(a, 1) # Try changing this to create an error...\n",
    "catch err\n",
    "    println(\"hello\")\n",
    "    showerror(STDERR, err, backtrace())\n",
    "    println()\n",
    "end\n",
    "println(\"Continuing after error\")"
   ]
  },
  {
   "cell_type": "markdown",
   "metadata": {
    "collapsed": false
   },
   "source": [
    "### Plotting"
   ]
  },
  {
   "cell_type": "markdown",
   "metadata": {
    "collapsed": false
   },
   "source": [
    "Plotting is provided using an external package called Winston. (I don't know where the name comes from.)"
   ]
  },
  {
   "cell_type": "code",
   "execution_count": 6,
   "metadata": {
    "collapsed": false
   },
   "outputs": [
   ],
   "source": [
    "using Winston"
   ]
  },
  {
   "cell_type": "code",
   "execution_count": 7,
   "metadata": {
    "collapsed": false
   },
   "outputs": [
    {
     "data": {
      "image/png": "[encoded data removed]"
     },
     "execution_count": 7,
     "metadata": {
     },
     "output_type": "execute_result"
    }
   ],
   "source": [
    "# plot some data\n",
    "pl = plot(cumsum(rand(500) .- 0.5), \"r\", cumsum(rand(500) .- 0.5), \"b\")"
   ]
  },
  {
   "cell_type": "code",
   "execution_count": 8,
   "metadata": {
    "collapsed": false
   },
   "outputs": [
   ],
   "source": [
    "# save the current figure\n",
    "savefig(\"winston.svg\")\n",
    "# .eps, .pdf, & .png are also supported"
   ]
  },
  {
   "cell_type": "markdown",
   "metadata": {
    "collapsed": false
   },
   "source": [
    "### DataFrames"
   ]
  },
  {
   "cell_type": "markdown",
   "metadata": {
    "collapsed": false
   },
   "source": [
    "The DataFrames package does what you might expect. Let's get the irises dataset as a CSV from [here](https://forge.scilab.org/index.php/p/rdataset/source/tree/master/csv/datasets/iris.csv), then try the following."
   ]
  },
  {
   "cell_type": "code",
   "execution_count": 9,
   "metadata": {
    "collapsed": false
   },
   "outputs": [
   ],
   "source": [
    "using DataFrames"
   ]
  },
  {
   "cell_type": "code",
   "execution_count": 10,
   "metadata": {
    "collapsed": false
   },
   "outputs": [
    {
     "data": {
      "text/html": [
       "<table class=\"data-frame\"><thead><tr><th></th><th>x</th><th>Sepal_Length</th><th>Sepal_Width</th><th>Petal_Length</th><th>Petal_Width</th><th>Species</th></tr></thead><tbody><tr><th>1</th><td>1</td><td>5.1</td><td>3.5</td><td>1.4</td><td>0.2</td><td>setosa</td></tr><tr><th>2</th><td>2</td><td>4.9</td><td>3.0</td><td>1.4</td><td>0.2</td><td>setosa</td></tr><tr><th>3</th><td>3</td><td>4.7</td><td>3.2</td><td>1.3</td><td>0.2</td><td>setosa</td></tr><tr><th>4</th><td>4</td><td>4.6</td><td>3.1</td><td>1.5</td><td>0.2</td><td>setosa</td></tr><tr><th>5</th><td>5</td><td>5.0</td><td>3.6</td><td>1.4</td><td>0.2</td><td>setosa</td></tr><tr><th>6</th><td>6</td><td>5.4</td><td>3.9</td><td>1.7</td><td>0.4</td><td>setosa</td></tr></tbody></table>"
      ]
     },
     "execution_count": 10,
     "metadata": {
     },
     "output_type": "execute_result"
    }
   ],
   "source": [
    "iris = readtable(\"iris.csv\")\n",
    "head(iris)"
   ]
  },
  {
   "cell_type": "code",
   "execution_count": 11,
   "metadata": {
    "collapsed": false
   },
   "outputs": [
    {
     "data": {
      "text/plain": [
       "6-element Array{Symbol,1}:\n",
       " :x           \n",
       " :Sepal_Length\n",
       " :Sepal_Width \n",
       " :Petal_Length\n",
       " :Petal_Width \n",
       " :Species     "
      ]
     },
     "execution_count": 11,
     "metadata": {
     },
     "output_type": "execute_result"
    }
   ],
   "source": [
    "# Check the names and element types of the columns of our new DataFrame\n",
    "names(iris)"
   ]
  },
  {
   "cell_type": "code",
   "execution_count": 12,
   "metadata": {
    "collapsed": false
   },
   "outputs": [
    {
     "data": {
      "text/plain": [
       "6-element Array{Type,1}:\n",
       " Int64  \n",
       " Float64\n",
       " Float64\n",
       " Float64\n",
       " Float64\n",
       " String "
      ]
     },
     "execution_count": 12,
     "metadata": {
     },
     "output_type": "execute_result"
    }
   ],
   "source": [
    "eltypes(iris)"
   ]
  },
  {
   "cell_type": "code",
   "execution_count": 14,
   "metadata": {
    "collapsed": false
   },
   "outputs": [
    {
     "data": {
      "text/html": [
       "<table class=\"data-frame\"><thead><tr><th></th><th>x</th><th>Sepal_Length</th><th>Sepal_Width</th><th>Petal_Length</th><th>Petal_Width</th><th>Species</th></tr></thead><tbody><tr><th>1</th><td>101</td><td>6.3</td><td>3.3</td><td>6.0</td><td>2.5</td><td>virginica</td></tr><tr><th>2</th><td>102</td><td>5.8</td><td>2.7</td><td>5.1</td><td>1.9</td><td>virginica</td></tr><tr><th>3</th><td>103</td><td>7.1</td><td>3.0</td><td>5.9</td><td>2.1</td><td>virginica</td></tr><tr><th>4</th><td>104</td><td>6.3</td><td>2.9</td><td>5.6</td><td>1.8</td><td>virginica</td></tr><tr><th>5</th><td>105</td><td>6.5</td><td>3.0</td><td>5.8</td><td>2.2</td><td>virginica</td></tr><tr><th>6</th><td>106</td><td>7.6</td><td>3.0</td><td>6.6</td><td>2.1</td><td>virginica</td></tr></tbody></table>"
      ]
     },
     "execution_count": 14,
     "metadata": {
     },
     "output_type": "execute_result"
    }
   ],
   "source": [
    "# Subset the DataFrame to only include rows for one species\n",
    "head(iris[iris[:Species] .== \"virginica\", :])"
   ]
  },
  {
   "cell_type": "code",
   "execution_count": 15,
   "metadata": {
    "collapsed": false
   },
   "outputs": [
    {
     "data": {
      "text/html": [
       "<table class=\"data-frame\"><thead><tr><th></th><th>Species</th><th>x1</th></tr></thead><tbody><tr><th>1</th><td>setosa</td><td>50</td></tr><tr><th>2</th><td>versicolor</td><td>50</td></tr><tr><th>3</th><td>virginica</td><td>50</td></tr></tbody></table>"
      ]
     },
     "execution_count": 15,
     "metadata": {
     },
     "output_type": "execute_result"
    }
   ],
   "source": [
    "# Count the number of rows for each species\n",
    "by(iris, :Species, df -> size(df, 1))"
   ]
  },
  {
   "cell_type": "code",
   "execution_count": 16,
   "metadata": {
    "collapsed": false
   },
   "outputs": [
    {
     "data": {
      "text/html": [
       "<table class=\"data-frame\"><thead><tr><th></th><th>x</th><th>Sepal_Length</th><th>Sepal_Width</th><th>Petal_Length</th><th>Petal_Width</th><th>Species</th></tr></thead><tbody><tr><th>1</th><td>1</td><td>5</td><td>4</td><td>1.4</td><td>0.2</td><td>setosa</td></tr><tr><th>2</th><td>2</td><td>5</td><td>3</td><td>1.4</td><td>0.2</td><td>setosa</td></tr><tr><th>3</th><td>3</td><td>5</td><td>3</td><td>1.3</td><td>0.2</td><td>setosa</td></tr><tr><th>4</th><td>4</td><td>5</td><td>3</td><td>1.5</td><td>0.2</td><td>setosa</td></tr><tr><th>5</th><td>5</td><td>5</td><td>4</td><td>1.4</td><td>0.2</td><td>setosa</td></tr><tr><th>6</th><td>6</td><td>5</td><td>4</td><td>1.7</td><td>0.4</td><td>setosa</td></tr></tbody></table>"
      ]
     },
     "execution_count": 16,
     "metadata": {
     },
     "output_type": "execute_result"
    }
   ],
   "source": [
    "# Discretize entire columns at a time\n",
    "iris[:Sepal_Length] = round.(Integer, iris[:Sepal_Length])\n",
    "iris[:Sepal_Width] = round.(Integer, iris[:Sepal_Width])\n",
    "head(iris)"
   ]
  },
  {
   "cell_type": "code",
   "execution_count": 17,
   "metadata": {
    "collapsed": false
   },
   "outputs": [
    {
     "data": {
      "text/html": [
       "<table class=\"data-frame\"><thead><tr><th></th><th>Species</th><th>Sepal_Length</th><th>Sepal_Width</th><th>x1</th></tr></thead><tbody><tr><th>1</th><td>setosa</td><td>4</td><td>2</td><td>1</td></tr><tr><th>2</th><td>setosa</td><td>4</td><td>3</td><td>4</td></tr><tr><th>3</th><td>setosa</td><td>5</td><td>3</td><td>23</td></tr><tr><th>4</th><td>setosa</td><td>5</td><td>4</td><td>17</td></tr><tr><th>5</th><td>setosa</td><td>6</td><td>4</td><td>5</td></tr><tr><th>6</th><td>versicolor</td><td>5</td><td>2</td><td>4</td></tr></tbody></table>"
      ]
     },
     "execution_count": 17,
     "metadata": {
     },
     "output_type": "execute_result"
    }
   ],
   "source": [
    "# Tabulate data according to discretized columns to see \"clusters\"\n",
    "tabulated = by(\n",
    "    iris,\n",
    "    [:Species, :Sepal_Length, :Sepal_Width],\n",
    "    df -> size(df, 1)\n",
    ")\n",
    "head(tabulated)"
   ]
  },
  {
   "cell_type": "code",
   "execution_count": 18,
   "metadata": {
    "collapsed": false
   },
   "outputs": [
    {
     "name": "stdout",
     "output_type": "stream",
     "text": [
      "1\n",
      "4\n",
      "23\n",
      "17\n",
      "5\n",
      "4\n",
      "2\n",
      "9\n",
      "27\n",
      "8\n",
      "1\n",
      "3\n",
      "24\n",
      "1\n",
      "14\n",
      "1\n",
      "4\n",
      "2\n"
     ]
    }
   ],
   "source": [
    "# you can setup a grouped dataframe like this\n",
    "gdf = groupby(iris,[:Species, :Sepal_Length, :Sepal_Width])\n",
    "\n",
    "# and then iterate over it\n",
    "for idf in gdf\n",
    "    println(size(idf,1))\n",
    "end"
   ]
  },
  {
   "cell_type": "code",
   "execution_count": 19,
   "metadata": {
    "collapsed": false
   },
   "outputs": [
    {
     "data": {
      "text/html": [
       "<table class=\"data-frame\"><thead><tr><th></th><th>x</th><th>Sepal_Length</th><th>Sepal_Width</th><th>Petal_Length</th><th>randCol</th><th>Petal_Width</th><th>Species</th></tr></thead><tbody><tr><th>1</th><td>1</td><td>5</td><td>4</td><td>1.4</td><td>0.8026071724221897</td><td>0.2</td><td>setosa</td></tr><tr><th>2</th><td>2</td><td>5</td><td>3</td><td>1.4</td><td>0.0672362243212501</td><td>0.2</td><td>setosa</td></tr><tr><th>3</th><td>3</td><td>5</td><td>3</td><td>1.3</td><td>0.9047488240846246</td><td>0.2</td><td>setosa</td></tr><tr><th>4</th><td>4</td><td>5</td><td>3</td><td>1.5</td><td>0.894682502870096</td><td>0.2</td><td>setosa</td></tr><tr><th>5</th><td>5</td><td>5</td><td>4</td><td>1.4</td><td>0.48978040091710096</td><td>0.2</td><td>setosa</td></tr><tr><th>6</th><td>6</td><td>5</td><td>4</td><td>1.7</td><td>0.44183816156777156</td><td>0.4</td><td>setosa</td></tr></tbody></table>"
      ]
     },
     "execution_count": 19,
     "metadata": {
     },
     "output_type": "execute_result"
    }
   ],
   "source": [
    "# insert random numbers at col 5:\n",
    "insert!(iris, 5, rand(nrow(iris)), :randCol)\n",
    "head(iris)"
   ]
  },
  {
   "cell_type": "code",
   "execution_count": 20,
   "metadata": {
    "collapsed": false
   },
   "outputs": [
    {
     "data": {
      "text/html": [
       "<table class=\"data-frame\"><thead><tr><th></th><th>x</th><th>Sepal_Length</th><th>Sepal_Width</th><th>Petal_Length</th><th>Petal_Width</th><th>Species</th></tr></thead><tbody><tr><th>1</th><td>1</td><td>5</td><td>4</td><td>1.4</td><td>0.2</td><td>setosa</td></tr><tr><th>2</th><td>2</td><td>5</td><td>3</td><td>1.4</td><td>0.2</td><td>setosa</td></tr><tr><th>3</th><td>3</td><td>5</td><td>3</td><td>1.3</td><td>0.2</td><td>setosa</td></tr><tr><th>4</th><td>4</td><td>5</td><td>3</td><td>1.5</td><td>0.2</td><td>setosa</td></tr><tr><th>5</th><td>5</td><td>5</td><td>4</td><td>1.4</td><td>0.2</td><td>setosa</td></tr><tr><th>6</th><td>6</td><td>5</td><td>4</td><td>1.7</td><td>0.4</td><td>setosa</td></tr></tbody></table>"
      ]
     },
     "execution_count": 20,
     "metadata": {
     },
     "output_type": "execute_result"
    }
   ],
   "source": [
    "# remove it\n",
    "delete!(iris, :randCol)\n",
    "head(iris)"
   ]
  },
  {
   "cell_type": "markdown",
   "metadata": {
    "collapsed": false
   },
   "source": [
    "### For more on Julia..."
   ]
  },
  {
   "cell_type": "markdown",
   "metadata": {
    "collapsed": false
   },
   "source": [
    "- The page [Julia by Example](https://juliabyexample.helpmanual.io/) has a few very basic examples which might be of use when getting started with the language.\n",
    "- The page [Learning Julia](https://julialang.org/learning/) has a number of links to tutorials, videos, sample Jupyter notebooks, and even books on the topic."
   ]
  },
  {
   "cell_type": "code",
   "execution_count": 0,
   "metadata": {
    "collapsed": false
   },
   "outputs": [
   ],
   "source": [
   ]
  }
 ],
 "metadata": {
  "kernelspec": {
   "display_name": "Julia",
   "language": "julia",
   "name": "julia"
  },
  "language_info": {
   "file_extension": ".jl",
   "mimetype": "application/julia",
   "name": "julia",
   "version": "0.6.2"
  }
 },
 "nbformat": 4,
 "nbformat_minor": 0
}