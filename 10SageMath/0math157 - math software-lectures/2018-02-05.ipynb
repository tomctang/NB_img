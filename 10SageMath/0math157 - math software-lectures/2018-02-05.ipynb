{
 "cells": [
  {
   "cell_type": "markdown",
   "metadata": {
    "collapsed": false
   },
   "source": [
    "## Math 157: Intro to Mathematical Software\n",
    "## UC San Diego, winter 2018"
   ]
  },
  {
   "cell_type": "markdown",
   "metadata": {
    "collapsed": false
   },
   "source": [
    "## February 5, 2018: Combinatorics (part 1 of 3)"
   ]
  },
  {
   "cell_type": "markdown",
   "metadata": {
    "collapsed": false
   },
   "source": [
    "Administrivia:\n",
    "\n",
    "- We are continuing to monitor the course waitlist. If you are on it and still want to join the course, please continue to keep up with lectures and homework, and watch your email for further instructions.\n",
    "- Here (again) is the precise link for the [documentary screening later today](http://physicalsciences.ucsd.edu/programs/research-communications/mathcomm_eremenko_flier1.pdf).\n",
    "- There was an error in the HW 2 solution set (now fixed) which may have affected the grading of problem 3a. If you believe you were affected, contact course staff.\n",
    "\n",
    "Added in class:\n",
    "- HW 4 is now posted."
   ]
  },
  {
   "cell_type": "markdown",
   "metadata": {
    "collapsed": false
   },
   "source": [
    "### Postscript: algorithms for determinants"
   ]
  },
  {
   "cell_type": "markdown",
   "metadata": {
    "collapsed": false
   },
   "source": [
    "How does a computer algebra system compute the determinant of an $n \\times n$ matrix $A$? Let's consider some options.\n",
    "\n",
    "- Recall that there is an explicit formula\n",
    "$$\n",
    "\\det(A) = \\sum_{\\sigma \\in S_n} (-1)^{s(\\sigma)} A_{1\\sigma(1)} A_{2\\sigma(2)} \\cdots A_{n \\sigma(n)}\n",
    "$$\n",
    "where $\\sigma$ runs over all permutations of $\\{1,\\dots,n\\}$ and $s(\\sigma)$ is the sign of $\\sigma$ (if you factor $\\sigma$ as a sequence of transpositions, the sign is +1 or -1 depending on whether this sequence has even or odd length). The sum involves $n!$ terms, which means that already for $n=100$ this is unusable.\n",
    "- There is a recursive algorithm given by expansion in minors. For example, if I expand in minors along the first row, I get\n",
    "$$\n",
    "\\det(A) = \\sum_{i=1}^n (-1)^i A_{1 i}\\det(B_i)\n",
    "$$\n",
    "where $B_i$ is the submatrix obtained by removing row 1 and column $i$. However, once you unwind the recursion, this also involves $O(n!)$ computations.\n",
    "- The most reasonable *generic* method is Gaussian elimination, which requires $O(n^3)$ arithmetic operations.\n",
    "- For *very large* matrices (say n > 50000), there are some more advanced methods that do a bit better, e.g., ones which incorporate [Strassen's algorithm](https://en.wikipedia.org/wiki/Strassen_algorithm) for matrix multiplication."
   ]
  },
  {
   "cell_type": "markdown",
   "metadata": {
    "collapsed": false
   },
   "source": [
    "However, as you learned on the last problem set, Sage does not use Gaussian elimination by itself to do this kind of computation."
   ]
  },
  {
   "cell_type": "code",
   "execution_count": 39,
   "metadata": {
    "collapsed": false
   },
   "outputs": [
    {
     "name": "stdout",
     "output_type": "stream",
     "text": [
      "CPU times: user 11.4 s, sys: 103 ms, total: 11.5 s\n",
      "Wall time: 14 s\n"
     ]
    },
    {
     "data": {
      "text/plain": [
       "-2849968122179466491223698417283711974654232562105638734135332928564615805911430153031967249575087725892310490051042419471717894992961842001133415054034911330822286669353386639811952127516767300995155636837047585686502163841436856805724169807621473993572911899933436702420366693356236453089979256580760853492429812813760531854473545059513417880393740455219897267424285863433965173236885194738566888569932655683273797930395898602289852551154772348233601169483056081345162609676576815777486604892784764781640606200833689263971844928574269297522632738182318760922390322455043624625953680956044526741416404441521711047221342112239739534603859288652897834288678325753080689615125253049263901393370046748145364643195483355613302737670336301176329863041771721960306372831552120826495631014979934545248269998741818477982505334609095865241562192529191583467579422971576053646816534675389032764172210902445701532474499220639052741868842030190513252742426969767065635995077175382925105237545362901650409883374958318141287486467606057572100726039023391395750488529842890708784251016971030391039486318334724577779692184388629878954890479105626929326783236764512408094476057444651336753518657899579298264910854867489367784231375510532464745046673463016300700436964001218760290685428526512059714444207769629782232983409781010667672044894201263196138112856900917569444809455865861831433777522630685185857871752888069849407734076755359774619645093924520445508817088202528511890262931852472284871432296782646505657304548807234304097977512764282538877423604241687510154601108761594268029935202732162070593736948424000674645198671134288975698820810101314121312477742667845922714206611973369898660294603878343726897738220383846990786815286278967782668014939556926541006505156788821087456211888502368849579215846030160256233409907984503398777118633819194620392733459614095899678993551738510667829919455440137138908901786211378757087315635233741232560329331903409923637693029107704672610059596015776176597670334760483634478515270855631966537980421397088023500941455872"
      ]
     },
     "execution_count": 39,
     "metadata": {
     },
     "output_type": "execute_result"
    }
   ],
   "source": [
    "A = random_matrix(ZZ, 1000, x=-10, y=10);  # random 1000x1000 matrix over ZZ with entries in [-10..10]\n",
    "%time A.det()   # should take around 10 seconds!"
   ]
  },
  {
   "cell_type": "markdown",
   "metadata": {
    "collapsed": false
   },
   "source": [
    "The reason is that the use of Gaussian elimination creates some numbers in the middle of the computation which are about twice as long as this. To avoid this, Sage uses a bit of elementary number theory, in the form of the [*Chinese remainder theorem*](https://en.wikipedia.org/wiki/Chinese_remainder_theorem). (I'll demonstrate this for determinants, but similar considerations apply to other complex operations in linear algebra: reduced row echelon forms, matrix inverses, etc.)"
   ]
  },
  {
   "cell_type": "code",
   "execution_count": 40,
   "metadata": {
    "collapsed": false
   },
   "outputs": [
    {
     "data": {
      "text/html": [
       "<html><script type=\"math/tex; mode=display\">\\newcommand{\\Bold}[1]{\\mathbf{#1}}\\left(\\begin{array}{rrrrr}\n",
       "-9 & -7 & -9 & -2 & -4 \\\\\n",
       "-3 & 6 & -10 & -4 & -3 \\\\\n",
       "-8 & -8 & 2 & -10 & -7 \\\\\n",
       "6 & -2 & 3 & 3 & -7 \\\\\n",
       "-2 & 1 & -7 & -5 & -4\n",
       "\\end{array}\\right)</script></html>"
      ]
     },
     "execution_count": 40,
     "metadata": {
     },
     "output_type": "execute_result"
    }
   ],
   "source": [
    "n = 5\n",
    "set_random_seed(42)\n",
    "A = random_matrix(QQ, n, n, num_bound=10, den_bound=1)\n",
    "show(A)"
   ]
  },
  {
   "cell_type": "markdown",
   "metadata": {
    "collapsed": false
   },
   "source": [
    "Let's step through Gaussian elimination in this example.\n"
   ]
  },
  {
   "cell_type": "code",
   "execution_count": 41,
   "metadata": {
    "collapsed": false
   },
   "outputs": [
    {
     "data": {
      "text/html": [
       "<html><script type=\"math/tex; mode=display\">\\newcommand{\\Bold}[1]{\\mathbf{#1}}\\left(\\begin{array}{rrrrr}\n",
       "-9 & -7 & -9 & -2 & -4 \\\\\n",
       "0 & \\frac{25}{3} & -7 & -\\frac{10}{3} & -\\frac{5}{3} \\\\\n",
       "0 & -\\frac{16}{9} & 10 & -\\frac{74}{9} & -\\frac{31}{9} \\\\\n",
       "0 & -\\frac{20}{3} & -3 & \\frac{5}{3} & -\\frac{29}{3} \\\\\n",
       "0 & \\frac{23}{9} & -5 & -\\frac{41}{9} & -\\frac{28}{9}\n",
       "\\end{array}\\right)</script></html>"
      ]
     },
     "execution_count": 41,
     "metadata": {
     },
     "output_type": "execute_result"
    }
   ],
   "source": [
    "for i in range(1,n):\n",
    "    A.add_multiple_of_row(i, 0, -A[i,0]/A[0,0])\n",
    "show(A)"
   ]
  },
  {
   "cell_type": "code",
   "execution_count": 42,
   "metadata": {
    "collapsed": false
   },
   "outputs": [
    {
     "data": {
      "text/html": [
       "<html><script type=\"math/tex; mode=display\">\\newcommand{\\Bold}[1]{\\mathbf{#1}}\\left(\\begin{array}{rrrrr}\n",
       "-9 & -7 & -9 & -2 & -4 \\\\\n",
       "0 & \\frac{25}{3} & -7 & -\\frac{10}{3} & -\\frac{5}{3} \\\\\n",
       "0 & 0 & \\frac{638}{75} & -\\frac{134}{15} & -\\frac{19}{5} \\\\\n",
       "0 & 0 & -\\frac{43}{5} & -1 & -11 \\\\\n",
       "0 & 0 & -\\frac{214}{75} & -\\frac{53}{15} & -\\frac{13}{5}\n",
       "\\end{array}\\right)</script></html>"
      ]
     },
     "execution_count": 42,
     "metadata": {
     },
     "output_type": "execute_result"
    }
   ],
   "source": [
    "for i in range(2,n):\n",
    "    A.add_multiple_of_row(i, 1, -A[i,1]/A[1,1])\n",
    "show(A)"
   ]
  },
  {
   "cell_type": "markdown",
   "metadata": {
    "collapsed": false
   },
   "source": [
    "Skipping ahead..."
   ]
  },
  {
   "cell_type": "code",
   "execution_count": 43,
   "metadata": {
    "collapsed": false
   },
   "outputs": [
    {
     "data": {
      "text/html": [
       "<html><script type=\"math/tex; mode=display\">\\newcommand{\\Bold}[1]{\\mathbf{#1}}\\left(\\begin{array}{rrrrr}\n",
       "-9 & -7 & -9 & -2 & -4 \\\\\n",
       "0 & \\frac{25}{3} & -7 & -\\frac{10}{3} & -\\frac{5}{3} \\\\\n",
       "0 & 0 & \\frac{638}{75} & -\\frac{134}{15} & -\\frac{19}{5} \\\\\n",
       "0 & 0 & 0 & -\\frac{3200}{319} & -\\frac{9469}{638} \\\\\n",
       "0 & 0 & 0 & 0 & \\frac{37033}{6400}\n",
       "\\end{array}\\right)</script></html>"
      ]
     },
     "execution_count": 43,
     "metadata": {
     },
     "output_type": "execute_result"
    }
   ],
   "source": [
    "for j in range(2,n):\n",
    "    for i in range(j+1, n):\n",
    "        A.add_multiple_of_row(i, j, -A[i,j]/A[j,j])\n",
    "show(A)"
   ]
  },
  {
   "cell_type": "code",
   "execution_count": 44,
   "metadata": {
    "collapsed": false
   },
   "outputs": [
    {
     "data": {
      "text/plain": [
       "37033"
      ]
     },
     "execution_count": 44,
     "metadata": {
     },
     "output_type": "execute_result"
    }
   ],
   "source": [
    "det(A)"
   ]
  },
  {
   "cell_type": "markdown",
   "metadata": {
    "collapsed": false
   },
   "source": [
    "One way to get around this would be to be more careful about division, to get rid of the denominators. However, this requires some care and is not quite the best approach."
   ]
  },
  {
   "cell_type": "markdown",
   "metadata": {
    "collapsed": false
   },
   "source": [
    "Alternate strategy:\n",
    "\n",
    "1. Choose some random prime $p$.\n",
    "1. Reduce our matrix modulo a prime number $p$ to get $A\\pmod{p}$.\n",
    "1. Perform row reduction to compute $\\det(A) \\pmod{p}$.\n",
    "1. (*) Lift the result back to the rational numbers to get the right answer.\n",
    "\n",
    "This is potentially better, since until the last step we only deal with integers from 0 to $p-1$."
   ]
  },
  {
   "cell_type": "code",
   "execution_count": 45,
   "metadata": {
    "collapsed": false
   },
   "outputs": [
    {
     "data": {
      "text/html": [
       "<html><script type=\"math/tex; mode=display\">\\newcommand{\\Bold}[1]{\\mathbf{#1}}\\left(\\begin{array}{rrrrr}\n",
       "-9 & -7 & -9 & -2 & -4 \\\\\n",
       "-3 & 6 & -10 & -4 & -3 \\\\\n",
       "-8 & -8 & 2 & -10 & -7 \\\\\n",
       "6 & -2 & 3 & 3 & -7 \\\\\n",
       "-2 & 1 & -7 & -5 & -4\n",
       "\\end{array}\\right)</script></html>"
      ]
     },
     "execution_count": 45,
     "metadata": {
     },
     "output_type": "execute_result"
    }
   ],
   "source": [
    "n = 5\n",
    "set_random_seed(42)\n",
    "A = random_matrix(QQ, n, n, num_bound=10, den_bound=1)\n",
    "show(A)"
   ]
  },
  {
   "cell_type": "code",
   "execution_count": 47,
   "metadata": {
    "collapsed": false
   },
   "outputs": [
    {
     "data": {
      "text/plain": [
       "503"
      ]
     },
     "execution_count": 47,
     "metadata": {
     },
     "output_type": "execute_result"
    }
   ],
   "source": [
    "next_prime(500)"
   ]
  },
  {
   "cell_type": "code",
   "execution_count": 48,
   "metadata": {
    "collapsed": false
   },
   "outputs": [
    {
     "data": {
      "text/plain": [
       "499"
      ]
     },
     "execution_count": 48,
     "metadata": {
     },
     "output_type": "execute_result"
    }
   ],
   "source": [
    "previous_prime(500)"
   ]
  },
  {
   "cell_type": "code",
   "execution_count": 46,
   "metadata": {
    "collapsed": false
   },
   "outputs": [
    {
     "data": {
      "text/html": [
       "<html><script type=\"math/tex; mode=display\">\\newcommand{\\Bold}[1]{\\mathbf{#1}}\\left(\\begin{array}{rrrrr}\n",
       "380 & 382 & 380 & 387 & 385 \\\\\n",
       "386 & 6 & 379 & 385 & 386 \\\\\n",
       "381 & 381 & 2 & 379 & 382 \\\\\n",
       "6 & 387 & 3 & 3 & 382 \\\\\n",
       "387 & 1 & 382 & 384 & 385\n",
       "\\end{array}\\right)</script></html>"
      ]
     },
     "execution_count": 46,
     "metadata": {
     },
     "output_type": "execute_result"
    },
    {
     "data": {
      "text/plain": [
       "Full MatrixSpace of 5 by 5 dense matrices over Ring of integers modulo 389"
      ]
     },
     "execution_count": 46,
     "metadata": {
     },
     "output_type": "execute_result"
    }
   ],
   "source": [
    "B = A.change_ring(GF(389))\n",
    "show(B)\n",
    "B.parent()"
   ]
  },
  {
   "cell_type": "code",
   "execution_count": 49,
   "metadata": {
    "collapsed": false
   },
   "outputs": [
    {
     "data": {
      "text/html": [
       "<html><script type=\"math/tex; mode=display\">\\newcommand{\\Bold}[1]{\\mathbf{#1}}\\left(\\begin{array}{rrrrr}\n",
       "380 & 382 & 380 & 387 & 385 \\\\\n",
       "0 & 138 & 382 & 256 & 128 \\\\\n",
       "0 & 344 & 10 & 35 & 83 \\\\\n",
       "0 & 123 & 386 & 261 & 120 \\\\\n",
       "0 & 89 & 384 & 298 & 213\n",
       "\\end{array}\\right)</script></html>"
      ]
     },
     "execution_count": 49,
     "metadata": {
     },
     "output_type": "execute_result"
    }
   ],
   "source": [
    "for i in range(1,n):\n",
    "    B.add_multiple_of_row(i, 0, -B[i,0]/B[0,0])\n",
    "show(B)"
   ]
  },
  {
   "cell_type": "code",
   "execution_count": 50,
   "metadata": {
    "collapsed": false
   },
   "outputs": [
    {
     "data": {
      "text/html": [
       "<html><script type=\"math/tex; mode=display\">\\newcommand{\\Bold}[1]{\\mathbf{#1}}\\left(\\begin{array}{rrrrr}\n",
       "380 & 382 & 380 & 387 & 385 \\\\\n",
       "0 & 138 & 382 & 256 & 128 \\\\\n",
       "0 & 0 & 50 & 17 & 74 \\\\\n",
       "0 & 0 & 147 & 388 & 378 \\\\\n",
       "0 & 0 & 132 & 178 & 153\n",
       "\\end{array}\\right)</script></html>"
      ]
     },
     "execution_count": 50,
     "metadata": {
     },
     "output_type": "execute_result"
    }
   ],
   "source": [
    "for i in range(2,n):\n",
    "    B.add_multiple_of_row(i, 1, -B[i,1]/B[1,1])\n",
    "show(B)"
   ]
  },
  {
   "cell_type": "code",
   "execution_count": 51,
   "metadata": {
    "collapsed": false
   },
   "outputs": [
    {
     "data": {
      "text/html": [
       "<html><script type=\"math/tex; mode=display\">\\newcommand{\\Bold}[1]{\\mathbf{#1}}\\left(\\begin{array}{rrrrr}\n",
       "380 & 382 & 380 & 387 & 385 \\\\\n",
       "0 & 138 & 382 & 256 & 128 \\\\\n",
       "0 & 0 & 50 & 17 & 74 \\\\\n",
       "0 & 0 & 0 & 268 & 176 \\\\\n",
       "0 & 0 & 0 & 0 & 164\n",
       "\\end{array}\\right)</script></html>"
      ]
     },
     "execution_count": 51,
     "metadata": {
     },
     "output_type": "execute_result"
    }
   ],
   "source": [
    "for j in range(2, n):\n",
    "    for i in range(j+1, n):\n",
    "        B.add_multiple_of_row(i, j, -B[i,j]/B[j,j])\n",
    "show(B)\n"
   ]
  },
  {
   "cell_type": "code",
   "execution_count": 52,
   "metadata": {
    "collapsed": false
   },
   "outputs": [
    {
     "data": {
      "text/plain": [
       "78"
      ]
     },
     "execution_count": 52,
     "metadata": {
     },
     "output_type": "execute_result"
    }
   ],
   "source": [
    "det(B)"
   ]
  },
  {
   "cell_type": "markdown",
   "metadata": {
    "collapsed": false
   },
   "source": [
    "Notice that the numbers are not exploding in size. Imagine doing all this with a 200x200 matrix (or worse)!"
   ]
  },
  {
   "cell_type": "markdown",
   "metadata": {
    "collapsed": false
   },
   "source": [
    "Unfortunately, the prime $p=389$ was not big enough: this computation tells me that $\\det(A) \\equiv 78 \\pmod{389}$ but this is not enough to deduce that $\\det(A) = 37033$. To fix this, I need to compute a bound $N$ on $|\\det(A)|$ (e.g., using the explicit formula in terms of permutations) and then take $p > 2|N|$. (Why does this suffice?)"
   ]
  },
  {
   "cell_type": "markdown",
   "metadata": {
    "collapsed": false
   },
   "source": [
    "This creates its own difficulties, because if $p$ is really large, then we again end up working with large integers and this creates computational overhead. (CPUs can typically only handle 64 bits at a time, so large integers have to be broken into smaller chunks in order to deal with them. Think about the effect on multiplication, for example.)"
   ]
  },
  {
   "cell_type": "markdown",
   "metadata": {
    "collapsed": false
   },
   "source": [
    "Enter the Chinese remainder theorem. Let's instead choose primes $p_1,\\dots,p_k$ such that $p_1 \\cdots p_k > 2 |N|$; we can then compute $\\det(A) \\pmod{p_i}$ for each $i$ and use this knowledge to reconstruct $\\det(A)$."
   ]
  },
  {
   "cell_type": "code",
   "execution_count": 57,
   "metadata": {
    "collapsed": false
   },
   "outputs": [
    {
     "data": {
      "text/html": [
       "<html><script type=\"math/tex; mode=display\">\\newcommand{\\Bold}[1]{\\mathbf{#1}}5.59016994374947 \\times 10^{6}</script></html>"
      ]
     },
     "execution_count": 57,
     "metadata": {
     },
     "output_type": "execute_result"
    }
   ],
   "source": [
    "show(5^(2.5)*10^5) # Hadamard bound"
   ]
  },
  {
   "cell_type": "code",
   "execution_count": 56,
   "metadata": {
    "collapsed": false
   },
   "outputs": [
    {
     "data": {
      "text/html": [
       "<html><script type=\"math/tex; mode=display\">\\newcommand{\\Bold}[1]{\\mathbf{#1}}\\left[2, 3, 5, 7, 11, 13, 17, 19, 23\\right]</script></html>"
      ]
     },
     "execution_count": 56,
     "metadata": {
     },
     "output_type": "execute_result"
    },
    {
     "data": {
      "text/html": [
       "<html><script type=\"math/tex; mode=display\">\\newcommand{\\Bold}[1]{\\mathbf{#1}}223092870</script></html>"
      ]
     },
     "execution_count": 56,
     "metadata": {
     },
     "output_type": "execute_result"
    }
   ],
   "source": [
    "l = prime_range(25)\n",
    "show(l)\n",
    "show(prod(l))"
   ]
  },
  {
   "cell_type": "code",
   "execution_count": 58,
   "metadata": {
    "collapsed": false
   },
   "outputs": [
    {
     "data": {
      "text/html": [
       "<html><script type=\"math/tex; mode=display\">\\newcommand{\\Bold}[1]{\\mathbf{#1}}\\left[1, 1, 3, 3, 7, 9, 7, 2, 3\\right]</script></html>"
      ]
     },
     "execution_count": 58,
     "metadata": {
     },
     "output_type": "execute_result"
    }
   ],
   "source": [
    "m = [det(A.change_ring(GF(p))) for p in l]\n",
    "show(m)"
   ]
  },
  {
   "cell_type": "code",
   "execution_count": 0,
   "metadata": {
    "collapsed": false
   },
   "outputs": [
   ],
   "source": [
    "crt?"
   ]
  },
  {
   "cell_type": "code",
   "execution_count": 59,
   "metadata": {
    "collapsed": false
   },
   "outputs": [
    {
     "ename": "TypeError",
     "evalue": "unsupported operand parent(s) for -: 'Ring of integers modulo 3' and 'Ring of integers modulo 2'",
     "output_type": "error",
     "traceback": [
      "\u001b[0;31m---------------------------------------------------------------------------\u001b[0m",
      "\u001b[0;31mTypeError\u001b[0m                                 Traceback (most recent call last)",
      "\u001b[0;32m<ipython-input-59-8883128bdf31>\u001b[0m in \u001b[0;36m<module>\u001b[0;34m()\u001b[0m\n\u001b[0;32m----> 1\u001b[0;31m \u001b[0mcrt\u001b[0m\u001b[0;34m(\u001b[0m\u001b[0mm\u001b[0m\u001b[0;34m,\u001b[0m \u001b[0ml\u001b[0m\u001b[0;34m)\u001b[0m \u001b[0;31m## This won't work\u001b[0m\u001b[0;34m\u001b[0m\u001b[0m\n\u001b[0m",
      "\u001b[0;32m/ext/sage/sage-8.1/local/lib/python2.7/site-packages/sage/arith/misc.pyc\u001b[0m in \u001b[0;36mcrt\u001b[0;34m(a, b, m, n)\u001b[0m\n\u001b[1;32m   2756\u001b[0m     \"\"\"\n\u001b[1;32m   2757\u001b[0m     \u001b[0;32mif\u001b[0m \u001b[0misinstance\u001b[0m\u001b[0;34m(\u001b[0m\u001b[0ma\u001b[0m\u001b[0;34m,\u001b[0m \u001b[0mlist\u001b[0m\u001b[0;34m)\u001b[0m\u001b[0;34m:\u001b[0m\u001b[0;34m\u001b[0m\u001b[0m\n\u001b[0;32m-> 2758\u001b[0;31m         \u001b[0;32mreturn\u001b[0m \u001b[0mCRT_list\u001b[0m\u001b[0;34m(\u001b[0m\u001b[0ma\u001b[0m\u001b[0;34m,\u001b[0m \u001b[0mb\u001b[0m\u001b[0;34m)\u001b[0m\u001b[0;34m\u001b[0m\u001b[0m\n\u001b[0m\u001b[1;32m   2759\u001b[0m     \u001b[0;32mif\u001b[0m \u001b[0misinstance\u001b[0m\u001b[0;34m(\u001b[0m\u001b[0ma\u001b[0m\u001b[0;34m,\u001b[0m \u001b[0minteger_types\u001b[0m\u001b[0;34m)\u001b[0m\u001b[0;34m:\u001b[0m\u001b[0;34m\u001b[0m\u001b[0m\n\u001b[1;32m   2760\u001b[0m         \u001b[0ma\u001b[0m \u001b[0;34m=\u001b[0m \u001b[0mInteger\u001b[0m\u001b[0;34m(\u001b[0m\u001b[0ma\u001b[0m\u001b[0;34m)\u001b[0m \u001b[0;31m# otherwise we get an error at (b-a).quo_rem(g)\u001b[0m\u001b[0;34m\u001b[0m\u001b[0m\n",
      "\u001b[0;32m/ext/sage/sage-8.1/local/lib/python2.7/site-packages/sage/arith/misc.pyc\u001b[0m in \u001b[0;36mCRT_list\u001b[0;34m(v, moduli)\u001b[0m\n\u001b[1;32m   2841\u001b[0m     \u001b[0;32mfrom\u001b[0m \u001b[0msage\u001b[0m\u001b[0;34m.\u001b[0m\u001b[0marith\u001b[0m\u001b[0;34m.\u001b[0m\u001b[0mfunctions\u001b[0m \u001b[0;32mimport\u001b[0m \u001b[0mlcm\u001b[0m\u001b[0;34m\u001b[0m\u001b[0m\n\u001b[1;32m   2842\u001b[0m     \u001b[0;32mfor\u001b[0m \u001b[0mi\u001b[0m \u001b[0;32min\u001b[0m \u001b[0mrange\u001b[0m\u001b[0;34m(\u001b[0m\u001b[0;36m1\u001b[0m\u001b[0;34m,\u001b[0m \u001b[0mlen\u001b[0m\u001b[0;34m(\u001b[0m\u001b[0mv\u001b[0m\u001b[0;34m)\u001b[0m\u001b[0;34m)\u001b[0m\u001b[0;34m:\u001b[0m\u001b[0;34m\u001b[0m\u001b[0m\n\u001b[0;32m-> 2843\u001b[0;31m         \u001b[0mx\u001b[0m \u001b[0;34m=\u001b[0m \u001b[0mCRT\u001b[0m\u001b[0;34m(\u001b[0m\u001b[0mx\u001b[0m\u001b[0;34m,\u001b[0m\u001b[0mv\u001b[0m\u001b[0;34m[\u001b[0m\u001b[0mi\u001b[0m\u001b[0;34m]\u001b[0m\u001b[0;34m,\u001b[0m\u001b[0mm\u001b[0m\u001b[0;34m,\u001b[0m\u001b[0mmoduli\u001b[0m\u001b[0;34m[\u001b[0m\u001b[0mi\u001b[0m\u001b[0;34m]\u001b[0m\u001b[0;34m)\u001b[0m\u001b[0;34m\u001b[0m\u001b[0m\n\u001b[0m\u001b[1;32m   2844\u001b[0m         \u001b[0mm\u001b[0m \u001b[0;34m=\u001b[0m \u001b[0mlcm\u001b[0m\u001b[0;34m(\u001b[0m\u001b[0mm\u001b[0m\u001b[0;34m,\u001b[0m\u001b[0mmoduli\u001b[0m\u001b[0;34m[\u001b[0m\u001b[0mi\u001b[0m\u001b[0;34m]\u001b[0m\u001b[0;34m)\u001b[0m\u001b[0;34m\u001b[0m\u001b[0m\n\u001b[1;32m   2845\u001b[0m     \u001b[0;32mreturn\u001b[0m \u001b[0mx\u001b[0m\u001b[0;34m%\u001b[0m\u001b[0mm\u001b[0m\u001b[0;34m\u001b[0m\u001b[0m\n",
      "\u001b[0;32m/ext/sage/sage-8.1/local/lib/python2.7/site-packages/sage/arith/misc.pyc\u001b[0m in \u001b[0;36mcrt\u001b[0;34m(a, b, m, n)\u001b[0m\n\u001b[1;32m   2760\u001b[0m         \u001b[0ma\u001b[0m \u001b[0;34m=\u001b[0m \u001b[0mInteger\u001b[0m\u001b[0;34m(\u001b[0m\u001b[0ma\u001b[0m\u001b[0;34m)\u001b[0m \u001b[0;31m# otherwise we get an error at (b-a).quo_rem(g)\u001b[0m\u001b[0;34m\u001b[0m\u001b[0m\n\u001b[1;32m   2761\u001b[0m     \u001b[0mg\u001b[0m\u001b[0;34m,\u001b[0m \u001b[0malpha\u001b[0m\u001b[0;34m,\u001b[0m \u001b[0mbeta\u001b[0m \u001b[0;34m=\u001b[0m \u001b[0mXGCD\u001b[0m\u001b[0;34m(\u001b[0m\u001b[0mm\u001b[0m\u001b[0;34m,\u001b[0m \u001b[0mn\u001b[0m\u001b[0;34m)\u001b[0m\u001b[0;34m\u001b[0m\u001b[0m\n\u001b[0;32m-> 2762\u001b[0;31m     \u001b[0mq\u001b[0m\u001b[0;34m,\u001b[0m \u001b[0mr\u001b[0m \u001b[0;34m=\u001b[0m \u001b[0;34m(\u001b[0m\u001b[0mb\u001b[0m \u001b[0;34m-\u001b[0m \u001b[0ma\u001b[0m\u001b[0;34m)\u001b[0m\u001b[0;34m.\u001b[0m\u001b[0mquo_rem\u001b[0m\u001b[0;34m(\u001b[0m\u001b[0mg\u001b[0m\u001b[0;34m)\u001b[0m\u001b[0;34m\u001b[0m\u001b[0m\n\u001b[0m\u001b[1;32m   2763\u001b[0m     \u001b[0;32mif\u001b[0m \u001b[0mr\u001b[0m \u001b[0;34m!=\u001b[0m \u001b[0;36m0\u001b[0m\u001b[0;34m:\u001b[0m\u001b[0;34m\u001b[0m\u001b[0m\n\u001b[1;32m   2764\u001b[0m         \u001b[0;32mraise\u001b[0m \u001b[0mValueError\u001b[0m\u001b[0;34m(\u001b[0m\u001b[0;34m\"No solution to crt problem since gcd(%s,%s) does not divide %s-%s\"\u001b[0m \u001b[0;34m%\u001b[0m \u001b[0;34m(\u001b[0m\u001b[0mm\u001b[0m\u001b[0;34m,\u001b[0m \u001b[0mn\u001b[0m\u001b[0;34m,\u001b[0m \u001b[0ma\u001b[0m\u001b[0;34m,\u001b[0m \u001b[0mb\u001b[0m\u001b[0;34m)\u001b[0m\u001b[0;34m)\u001b[0m\u001b[0;34m\u001b[0m\u001b[0m\n",
      "\u001b[0;32m/ext/sage/sage-8.1/src/sage/structure/element.pyx\u001b[0m in \u001b[0;36msage.structure.element.Element.__sub__ (build/cythonized/sage/structure/element.c:11444)\u001b[0;34m()\u001b[0m\n\u001b[1;32m   1361\u001b[0m             \u001b[0;32mreturn\u001b[0m \u001b[0;34m(\u001b[0m\u001b[0;34m<\u001b[0m\u001b[0mElement\u001b[0m\u001b[0;34m>\u001b[0m\u001b[0mleft\u001b[0m\u001b[0;34m)\u001b[0m\u001b[0;34m.\u001b[0m\u001b[0m_sub_\u001b[0m\u001b[0;34m(\u001b[0m\u001b[0mright\u001b[0m\u001b[0;34m)\u001b[0m\u001b[0;34m\u001b[0m\u001b[0m\n\u001b[1;32m   1362\u001b[0m         \u001b[0;32mif\u001b[0m \u001b[0mBOTH_ARE_ELEMENT\u001b[0m\u001b[0;34m(\u001b[0m\u001b[0mcl\u001b[0m\u001b[0;34m)\u001b[0m\u001b[0;34m:\u001b[0m\u001b[0;34m\u001b[0m\u001b[0m\n\u001b[0;32m-> 1363\u001b[0;31m             \u001b[0;32mreturn\u001b[0m \u001b[0mcoercion_model\u001b[0m\u001b[0;34m.\u001b[0m\u001b[0mbin_op\u001b[0m\u001b[0;34m(\u001b[0m\u001b[0mleft\u001b[0m\u001b[0;34m,\u001b[0m \u001b[0mright\u001b[0m\u001b[0;34m,\u001b[0m \u001b[0msub\u001b[0m\u001b[0;34m)\u001b[0m\u001b[0;34m\u001b[0m\u001b[0m\n\u001b[0m\u001b[1;32m   1364\u001b[0m \u001b[0;34m\u001b[0m\u001b[0m\n\u001b[1;32m   1365\u001b[0m         \u001b[0;32mtry\u001b[0m\u001b[0;34m:\u001b[0m\u001b[0;34m\u001b[0m\u001b[0m\n",
      "\u001b[0;32m/ext/sage/sage-8.1/src/sage/structure/coerce.pyx\u001b[0m in \u001b[0;36msage.structure.coerce.CoercionModel_cache_maps.bin_op (build/cythonized/sage/structure/coerce.c:10736)\u001b[0;34m()\u001b[0m\n\u001b[1;32m   1137\u001b[0m         \u001b[0;31m# We should really include the underlying error.\u001b[0m\u001b[0;34m\u001b[0m\u001b[0;34m\u001b[0m\u001b[0m\n\u001b[1;32m   1138\u001b[0m         \u001b[0;31m# This causes so much headache.\u001b[0m\u001b[0;34m\u001b[0m\u001b[0;34m\u001b[0m\u001b[0m\n\u001b[0;32m-> 1139\u001b[0;31m         \u001b[0;32mraise\u001b[0m \u001b[0mbin_op_exception\u001b[0m\u001b[0;34m(\u001b[0m\u001b[0mop\u001b[0m\u001b[0;34m,\u001b[0m \u001b[0mx\u001b[0m\u001b[0;34m,\u001b[0m \u001b[0my\u001b[0m\u001b[0;34m)\u001b[0m\u001b[0;34m\u001b[0m\u001b[0m\n\u001b[0m\u001b[1;32m   1140\u001b[0m \u001b[0;34m\u001b[0m\u001b[0m\n\u001b[1;32m   1141\u001b[0m     \u001b[0mcpdef\u001b[0m \u001b[0mcanonical_coercion\u001b[0m\u001b[0;34m(\u001b[0m\u001b[0mself\u001b[0m\u001b[0;34m,\u001b[0m \u001b[0mx\u001b[0m\u001b[0;34m,\u001b[0m \u001b[0my\u001b[0m\u001b[0;34m)\u001b[0m\u001b[0;34m:\u001b[0m\u001b[0;34m\u001b[0m\u001b[0m\n",
      "\u001b[0;31mTypeError\u001b[0m: unsupported operand parent(s) for -: 'Ring of integers modulo 3' and 'Ring of integers modulo 2'"
     ]
    }
   ],
   "source": [
    "crt(m, l) ## This won't work"
   ]
  },
  {
   "cell_type": "code",
   "execution_count": 60,
   "metadata": {
    "collapsed": false
   },
   "outputs": [
    {
     "data": {
      "text/plain": [
       "Ring of integers modulo 23"
      ]
     },
     "execution_count": 60,
     "metadata": {
     },
     "output_type": "execute_result"
    }
   ],
   "source": [
    "m[-1].parent()"
   ]
  },
  {
   "cell_type": "code",
   "execution_count": 62,
   "metadata": {
    "collapsed": false
   },
   "outputs": [
    {
     "data": {
      "text/plain": [
       "3"
      ]
     },
     "execution_count": 62,
     "metadata": {
     },
     "output_type": "execute_result"
    }
   ],
   "source": [
    "lift(m[-1])"
   ]
  },
  {
   "cell_type": "code",
   "execution_count": 63,
   "metadata": {
    "collapsed": false
   },
   "outputs": [
    {
     "data": {
      "text/plain": [
       "37033"
      ]
     },
     "execution_count": 63,
     "metadata": {
     },
     "output_type": "execute_result"
    }
   ],
   "source": [
    "crt(map(lift, m), l) ## Need to lift mod-p reductions back to integers first."
   ]
  },
  {
   "cell_type": "markdown",
   "metadata": {
    "collapsed": false
   },
   "source": [
    "P.S. If for some reason you really wanted to work modulo some very large prime $p$, you would be better off lifting to integers, then doing this CRT approach. Sage doesn't yet do this, but maybe someday..."
   ]
  },
  {
   "cell_type": "markdown",
   "metadata": {
    "collapsed": false
   },
   "source": [
    "### Combinatorics"
   ]
  },
  {
   "cell_type": "markdown",
   "metadata": {
    "collapsed": false
   },
   "source": [
    "\n",
    "Sage has *very* well-developed infrastructure for combinatorics, of which we will only scratch the surface here. For PhD-level research in the subject, it is probably the best software available, open-source or otherwise. (And remember that some basic functionality is available in Python via the `itertools` module, as described last time.)\n",
    "\n",
    "Reference: the Sage combinatorics tutorial http://doc.sagemath.org/html/en/reference/combinat/sage/combinat/tutorial.html"
   ]
  },
  {
   "cell_type": "markdown",
   "metadata": {
    "collapsed": false
   },
   "source": [
    "\n",
    "To begin with, recall that the number of ways to make an *unordered* choice of $k$ *distinguishable* objects from among $n$ given objects is the binomial coefficient\n",
    "$$\n",
    "\\binom{n}{k} = \\frac{n!}{k! (n-k)!}\n",
    "$$\n",
    "where as usual $n! = 1 \\times 2 \\times \\cdots \\times n$ denotes the factorial function."
   ]
  },
  {
   "cell_type": "code",
   "execution_count": 64,
   "metadata": {
    "collapsed": false
   },
   "outputs": [
    {
     "data": {
      "text/plain": [
       "15"
      ]
     },
     "execution_count": 64,
     "metadata": {
     },
     "output_type": "execute_result"
    }
   ],
   "source": [
    "## Count unordered pairs chosen from a set of 6 objects.\n",
    "binomial(6, 2)"
   ]
  },
  {
   "cell_type": "code",
   "execution_count": 65,
   "metadata": {
    "collapsed": false
   },
   "outputs": [
    {
     "data": {
      "text/plain": [
       "2520"
      ]
     },
     "execution_count": 65,
     "metadata": {
     },
     "output_type": "execute_result"
    }
   ],
   "source": [
    "multinomial(2,3,5)"
   ]
  },
  {
   "cell_type": "markdown",
   "metadata": {
    "collapsed": false
   },
   "source": [
    "\n",
    "You can use the binomial coefficients to count subsets without generating them. However, if you do actually want to generate the list of $k$-element subsets of a given set, you can do that easily!"
   ]
  },
  {
   "cell_type": "code",
   "execution_count": 66,
   "metadata": {
    "collapsed": false
   },
   "outputs": [
    {
     "data": {
      "text/html": [
       "<html><script type=\"math/tex; mode=display\">\\newcommand{\\Bold}[1]{\\mathbf{#1}}\\verb|Subsets|\\phantom{\\verb!x!}\\verb|of|\\phantom{\\verb!x!}\\verb|{'ERC',|\\phantom{\\verb!x!}\\verb|'Marshall',|\\phantom{\\verb!x!}\\verb|'Revelle',|\\phantom{\\verb!x!}\\verb|'Muir',|\\phantom{\\verb!x!}\\verb|'Warren',|\\phantom{\\verb!x!}\\verb|'Sixth'}|\\phantom{\\verb!x!}\\verb|of|\\phantom{\\verb!x!}\\verb|size|\\phantom{\\verb!x!}\\verb|2|</script></html>"
      ]
     },
     "execution_count": 66,
     "metadata": {
     },
     "output_type": "execute_result"
    }
   ],
   "source": [
    "l = [\"ERC\", \"Marshall\", \"Revelle\", \"Muir\", \"Warren\", \"Sixth\"]\n",
    "S = Subsets(l, 2)\n",
    "show(S)"
   ]
  },
  {
   "cell_type": "code",
   "execution_count": 67,
   "metadata": {
    "collapsed": false
   },
   "outputs": [
    {
     "name": "stdout",
     "output_type": "stream",
     "text": [
      "15\n"
     ]
    }
   ],
   "source": [
    "print(S.cardinality())"
   ]
  },
  {
   "cell_type": "code",
   "execution_count": 68,
   "metadata": {
    "collapsed": false
   },
   "outputs": [
    {
     "data": {
      "text/plain": [
       "{'Marshall', 'ERC'}"
      ]
     },
     "execution_count": 68,
     "metadata": {
     },
     "output_type": "execute_result"
    }
   ],
   "source": [
    "S[0]"
   ]
  },
  {
   "cell_type": "code",
   "execution_count": 69,
   "metadata": {
    "collapsed": false
   },
   "outputs": [
    {
     "data": {
      "text/plain": [
       "[{'Warren', 'ERC'}, {'Sixth', 'ERC'}]"
      ]
     },
     "execution_count": 69,
     "metadata": {
     },
     "output_type": "execute_result"
    }
   ],
   "source": [
    "S[3:5]"
   ]
  },
  {
   "cell_type": "code",
   "execution_count": 70,
   "metadata": {
    "collapsed": false
   },
   "outputs": [
    {
     "data": {
      "text/plain": [
       "{'Revelle', 'ERC'}"
      ]
     },
     "execution_count": 70,
     "metadata": {
     },
     "output_type": "execute_result"
    }
   ],
   "source": [
    "S[1]"
   ]
  },
  {
   "cell_type": "code",
   "execution_count": 71,
   "metadata": {
    "collapsed": false
   },
   "outputs": [
    {
     "data": {
      "text/plain": [
       "[{'Marshall', 'ERC'},\n",
       " {'Revelle', 'ERC'},\n",
       " {'Muir', 'ERC'},\n",
       " {'Warren', 'ERC'},\n",
       " {'Sixth', 'ERC'},\n",
       " {'Marshall', 'Revelle'},\n",
       " {'Marshall', 'Muir'},\n",
       " {'Marshall', 'Warren'},\n",
       " {'Sixth', 'Marshall'},\n",
       " {'Revelle', 'Muir'},\n",
       " {'Revelle', 'Warren'},\n",
       " {'Sixth', 'Revelle'},\n",
       " {'Muir', 'Warren'},\n",
       " {'Sixth', 'Muir'},\n",
       " {'Sixth', 'Warren'}]"
      ]
     },
     "execution_count": 71,
     "metadata": {
     },
     "output_type": "execute_result"
    }
   ],
   "source": [
    "list(S)"
   ]
  },
  {
   "cell_type": "markdown",
   "metadata": {
    "collapsed": false
   },
   "source": [
    "The Subsets function is an example of a structured set construction. Another important example is the Cartesian product; let's see an example based on playing cards."
   ]
  },
  {
   "cell_type": "code",
   "execution_count": 72,
   "metadata": {
    "collapsed": false
   },
   "outputs": [
   ],
   "source": [
    "suits = [\"Clubs\", \"Diamonds\", \"Hearts\", \"Spades\"]\n",
    "ranks = [\"Ace\", \"2\", \"3\", \"4\", \"5\", \"6\", \"7\", \"8\", \"9\", \"10\", \"Jack\", \"Queen\", \"King\"]\n",
    "deck = cartesian_product([suits, ranks])"
   ]
  },
  {
   "cell_type": "code",
   "execution_count": 73,
   "metadata": {
    "collapsed": false
   },
   "outputs": [
    {
     "data": {
      "text/plain": [
       "<class 'sage.sets.cartesian_product.CartesianProduct_with_category'>"
      ]
     },
     "execution_count": 73,
     "metadata": {
     },
     "output_type": "execute_result"
    }
   ],
   "source": [
    "type(deck)"
   ]
  },
  {
   "cell_type": "code",
   "execution_count": 74,
   "metadata": {
    "collapsed": false
   },
   "outputs": [
    {
     "data": {
      "text/plain": [
       "('Clubs', '2')"
      ]
     },
     "execution_count": 74,
     "metadata": {
     },
     "output_type": "execute_result"
    }
   ],
   "source": [
    "deck[1]"
   ]
  },
  {
   "cell_type": "markdown",
   "metadata": {
    "collapsed": false
   },
   "source": [
    "Another example is the set of permutations of a list."
   ]
  },
  {
   "cell_type": "code",
   "execution_count": 75,
   "metadata": {
    "collapsed": false
   },
   "outputs": [
    {
     "name": "stdout",
     "output_type": "stream",
     "text": [
      "[[1, 2, 3], [1, 3, 2], [2, 1, 3], [2, 3, 1], [3, 1, 2], [3, 2, 1]]\n"
     ]
    }
   ],
   "source": [
    "print(list(Permutations([1,2,3])))"
   ]
  },
  {
   "cell_type": "code",
   "execution_count": 76,
   "metadata": {
    "collapsed": false
   },
   "outputs": [
    {
     "name": "stdout",
     "output_type": "stream",
     "text": [
      "[[1, 1, 2, 3], [1, 1, 3, 2], [1, 2, 1, 3], [1, 2, 3, 1], [1, 3, 1, 2], [1, 3, 2, 1], [2, 1, 1, 3], [2, 1, 3, 1], [2, 3, 1, 1], [3, 1, 1, 2], [3, 1, 2, 1], [3, 2, 1, 1]]\n"
     ]
    }
   ],
   "source": [
    "print(list(Permutations([1,2,1,3])))"
   ]
  },
  {
   "cell_type": "markdown",
   "metadata": {
    "collapsed": false
   },
   "source": [
    "**Exercise for right now:** \"Deal\" a random hand of 13 cards from the deck. You can do this either by \"shuffling\" the whole deck, or by directly selecting a suitable subset."
   ]
  },
  {
   "cell_type": "code",
   "execution_count": 79,
   "metadata": {
    "collapsed": false
   },
   "outputs": [
   ],
   "source": [
    "t = Permutations(deck).random_element()"
   ]
  },
  {
   "cell_type": "code",
   "execution_count": 80,
   "metadata": {
    "collapsed": false
   },
   "outputs": [
    {
     "data": {
      "text/plain": [
       "[('Clubs', '8'),\n",
       " ('Hearts', '6'),\n",
       " ('Hearts', 'King'),\n",
       " ('Diamonds', '6'),\n",
       " ('Spades', '3'),\n",
       " ('Clubs', 'Ace'),\n",
       " ('Diamonds', '7'),\n",
       " ('Spades', 'Jack'),\n",
       " ('Hearts', '8'),\n",
       " ('Spades', '6'),\n",
       " ('Hearts', 'Ace'),\n",
       " ('Hearts', '4'),\n",
       " ('Hearts', '2')]"
      ]
     },
     "execution_count": 80,
     "metadata": {
     },
     "output_type": "execute_result"
    }
   ],
   "source": [
    "t[:13]"
   ]
  },
  {
   "cell_type": "code",
   "execution_count": 81,
   "metadata": {
    "collapsed": false
   },
   "outputs": [
    {
     "data": {
      "text/html": [
       "<html><script type=\"math/tex; mode=display\">\\newcommand{\\Bold}[1]{\\mathbf{#1}}\\left\\{\\left(\\verb|Spades|, 2\\right), \\left(\\verb|Hearts|, 3\\right), \\left(\\verb|Hearts|, 7\\right), \\left(\\verb|Diamonds|, 7\\right), \\left(\\verb|Diamonds|, 6\\right), \\left(\\verb|Spades|, 8\\right), \\left(\\verb|Spades|, 9\\right), \\left(\\verb|Spades|, \\verb|Jack|\\right), \\left(\\verb|Spades|, 3\\right), \\left(\\verb|Spades|, 5\\right), \\left(\\verb|Clubs|, \\verb|Queen|\\right), \\left(\\verb|Clubs|, \\verb|King|\\right), \\left(\\verb|Diamonds|, 8\\right)\\right\\}</script></html>"
      ]
     },
     "execution_count": 81,
     "metadata": {
     },
     "output_type": "execute_result"
    }
   ],
   "source": [
    "S = Subsets(deck, 13)\n",
    "t = S.random_element()\n",
    "show(t)"
   ]
  },
  {
   "cell_type": "markdown",
   "metadata": {
    "collapsed": false
   },
   "source": [
    "\n",
    "Another example is the set of *partitions* of a given nonnegative integer. Let's illustrate with an example:"
   ]
  },
  {
   "cell_type": "code",
   "execution_count": 82,
   "metadata": {
    "collapsed": false
   },
   "outputs": [
    {
     "name": "stdout",
     "output_type": "stream",
     "text": [
      "[[5], [4, 1], [3, 2], [3, 1, 1], [2, 2, 1], [2, 1, 1, 1], [1, 1, 1, 1, 1]]\n"
     ]
    }
   ],
   "source": [
    "print(list(Partitions(5)))"
   ]
  },
  {
   "cell_type": "code",
   "execution_count": 83,
   "metadata": {
    "collapsed": false
   },
   "outputs": [
    {
     "name": "stdout",
     "output_type": "stream",
     "text": [
      "[[7], [6, 1], [5, 2], [5, 1, 1], [4, 3], [4, 2, 1], [4, 1, 1, 1], [3, 3, 1], [3, 2, 2], [3, 2, 1, 1], [3, 1, 1, 1, 1], [2, 2, 2, 1], [2, 2, 1, 1, 1], [2, 1, 1, 1, 1, 1], [1, 1, 1, 1, 1, 1, 1]]\n"
     ]
    }
   ],
   "source": [
    "print(list(Partitions(7)))"
   ]
  },
  {
   "cell_type": "markdown",
   "metadata": {
    "collapsed": false
   },
   "source": [
    "There is a method for counting partitions without enumerating them. This is due to Rademacher, and builds on the phenomenal work of Hardy and Ramanujan where they found an asymptotic series."
   ]
  },
  {
   "cell_type": "code",
   "execution_count": 86,
   "metadata": {
    "collapsed": false
   },
   "outputs": [
    {
     "name": "stdout",
     "output_type": "stream",
     "text": [
      "CPU times: user 139 µs, sys: 3 µs, total: 142 µs\n",
      "Wall time: 150 µs\n",
      "1.11399578738969e6\n"
     ]
    }
   ],
   "source": [
    "%time n = Partitions(10^12).cardinality()\n",
    "\n",
    "print(N(log(n, 10))) ## This number has over 1 million digits! Let's not print it."
   ]
  },
  {
   "cell_type": "markdown",
   "metadata": {
    "collapsed": false
   },
   "source": [
    "At a somewhat smaller scale, we can sample random partitions:"
   ]
  },
  {
   "cell_type": "code",
   "execution_count": 87,
   "metadata": {
    "collapsed": false
   },
   "outputs": [
    {
     "data": {
      "text/plain": [
       "[424, 379, 287, 245, 240, 228, 228, 189, 181, 173, 172, 171, 152, 151, 150, 147, 144, 137, 129, 126, 126, 111, 111, 105, 101, 101, 98, 94, 92, 89, 85, 80, 78, 77, 75, 75, 75, 75, 70, 70, 70, 68, 65, 65, 64, 64, 63, 63, 58, 58, 57, 57, 57, 52, 52, 51, 51, 51, 51, 51, 51, 51, 49, 49, 48, 48, 48, 47, 46, 46, 46, 46, 46, 44, 44, 41, 40, 40, 39, 38, 36, 36, 33, 32, 32, 32, 30, 30, 30, 30, 30, 30, 30, 30, 26, 26, 26, 26, 26, 26, 26, 24, 24, 22, 22, 22, 22, 21, 20, 19, 19, 19, 19, 19, 19, 19, 17, 17, 17, 17, 17, 17, 17, 17, 17, 17, 16, 15, 15, 15, 15, 14, 14, 14, 12, 12, 12, 11, 11, 11, 11, 11, 10, 10, 10, 10, 10, 10, 10, 10, 10, 10, 10, 10, 10, 9, 9, 9, 9, 9, 9, 9, 9, 9, 9, 9, 9, 9, 9, 9, 9, 9, 9, 9, 8, 8, 8, 8, 7, 7, 6, 6, 6, 6, 6, 6, 6, 6, 6, 6, 6, 6, 6, 6, 6, 6, 6, 6, 6, 5, 5, 5, 5, 5, 5, 5, 5, 5, 5, 5, 5, 5, 5, 5, 5, 5, 5, 5, 5, 5, 5, 5, 5, 5, 5, 5, 5, 5, 5, 5, 5, 5, 4, 4, 3, 3, 3, 3, 3, 3, 3, 3, 3, 3, 3, 3, 3, 3, 3, 3, 3, 3, 3, 3, 3, 3, 3, 3, 3, 3, 3, 3, 3, 3, 2, 2, 2, 1, 1, 1, 1, 1, 1, 1, 1, 1, 1, 1, 1, 1, 1, 1, 1, 1, 1, 1, 1, 1, 1, 1, 1, 1, 1, 1, 1, 1, 1, 1, 1, 1, 1, 1, 1, 1, 1, 1, 1, 1, 1]"
      ]
     },
     "execution_count": 87,
     "metadata": {
     },
     "output_type": "execute_result"
    }
   ],
   "source": [
    "Partitions(10^4).random_element()"
   ]
  },
  {
   "cell_type": "markdown",
   "metadata": {
    "collapsed": false
   },
   "source": [
    "One can also enumerate partitions where the parts have fixed size, as in my examples of last time, making change:"
   ]
  },
  {
   "cell_type": "code",
   "execution_count": 88,
   "metadata": {
    "collapsed": false
   },
   "outputs": [
    {
     "data": {
      "text/plain": [
       "[[2, 0, 1, 1],\n",
       " [2, 2, 0, 1],\n",
       " [7, 1, 0, 1],\n",
       " [12, 0, 0, 1],\n",
       " [2, 1, 3, 0],\n",
       " [7, 0, 3, 0],\n",
       " [2, 3, 2, 0],\n",
       " [7, 2, 2, 0],\n",
       " [12, 1, 2, 0],\n",
       " [17, 0, 2, 0],\n",
       " [2, 5, 1, 0],\n",
       " [7, 4, 1, 0],\n",
       " [12, 3, 1, 0],\n",
       " [17, 2, 1, 0],\n",
       " [22, 1, 1, 0],\n",
       " [27, 0, 1, 0],\n",
       " [2, 7, 0, 0],\n",
       " [7, 6, 0, 0],\n",
       " [12, 5, 0, 0],\n",
       " [17, 4, 0, 0],\n",
       " [22, 3, 0, 0],\n",
       " [27, 2, 0, 0],\n",
       " [32, 1, 0, 0],\n",
       " [37, 0, 0, 0]]"
      ]
     },
     "execution_count": 88,
     "metadata": {
     },
     "output_type": "execute_result"
    }
   ],
   "source": [
    "WeightedIntegerVectors(37, [1,5,10,25]).list()"
   ]
  },
  {
   "cell_type": "markdown",
   "metadata": {
    "collapsed": false
   },
   "source": [
    "... or solving the (original) Chicken McNuggets problem: https://en.wikipedia.org/wiki/Coin_problem. (I'm punting on my American football example because both Super Bowl teams have proved that failing to convert the point-after-touchdown is not such a rare occurrence!)"
   ]
  },
  {
   "cell_type": "code",
   "execution_count": 89,
   "metadata": {
    "collapsed": false
   },
   "outputs": [
    {
     "data": {
      "text/plain": [
       "[[2, 0, 4], [0, 8, 1], [3, 6, 1], [6, 4, 1], [9, 2, 1], [12, 0, 1]]"
      ]
     },
     "execution_count": 89,
     "metadata": {
     },
     "output_type": "execute_result"
    }
   ],
   "source": [
    "WeightedIntegerVectors(92, [6,9,20]).list()"
   ]
  },
  {
   "cell_type": "markdown",
   "metadata": {
    "collapsed": false
   },
   "source": [
    "Many combinatorics problems lead naturally to integer sequences. These can be looked up in the [*On-line Encyclopedia of Integer Sequences (OEIS)*](http://oeis.org); but better yet, this database is integrated into Sage! (Whenever you encounter an unknown integer sequence, **always** consult OEIS. If it's not there yet, maybe it should be added.)"
   ]
  },
  {
   "cell_type": "code",
   "execution_count": 90,
   "metadata": {
    "collapsed": false
   },
   "outputs": [
    {
     "data": {
      "text/plain": [
       "0: A000045: Fibonacci numbers: F(n) = F(n-1) + F(n-2) with F(0) = 0 and F(1) = 1.\n",
       "1: A027926: Triangular array T read by rows: T(n,0) = T(n,2n) = 1 for n >= 0; T(n,1) = 1 for n >= 1; T(n,k) = T(n-1,k-2) + T(n-1,k-1) for k = 2..2n-1, n >= 2.\n",
       "2: A001129: Iccanobif numbers: reverse digits of two previous terms and add.\n",
       "3: A005347: First differences of A005579."
      ]
     },
     "execution_count": 90,
     "metadata": {
     },
     "output_type": "execute_result"
    }
   ],
   "source": [
    "oeis([1,2,3,5,8,13], max_results=4) # requires internet access"
   ]
  },
  {
   "cell_type": "markdown",
   "metadata": {
    "collapsed": false
   },
   "source": [
    "Maybe a less familiar example: let's count set partitions of {1, ..., n}."
   ]
  },
  {
   "cell_type": "code",
   "execution_count": 91,
   "metadata": {
    "collapsed": false
   },
   "outputs": [
    {
     "data": {
      "text/plain": [
       "[{{1, 2, 3, 4}},\n",
       " {{1}, {2, 3, 4}},\n",
       " {{1, 3, 4}, {2}},\n",
       " {{1, 2, 4}, {3}},\n",
       " {{1, 2, 3}, {4}},\n",
       " {{1, 2}, {3, 4}},\n",
       " {{1, 3}, {2, 4}},\n",
       " {{1, 4}, {2, 3}},\n",
       " {{1}, {2}, {3, 4}},\n",
       " {{1}, {2, 4}, {3}},\n",
       " {{1}, {2, 3}, {4}},\n",
       " {{1, 4}, {2}, {3}},\n",
       " {{1, 3}, {2}, {4}},\n",
       " {{1, 2}, {3}, {4}},\n",
       " {{1}, {2}, {3}, {4}}]"
      ]
     },
     "execution_count": 91,
     "metadata": {
     },
     "output_type": "execute_result"
    }
   ],
   "source": [
    "list(SetPartitions([1..4]))"
   ]
  },
  {
   "cell_type": "code",
   "execution_count": 92,
   "metadata": {
    "collapsed": false
   },
   "outputs": [
    {
     "name": "stdout",
     "output_type": "stream",
     "text": [
      "[1, 2, 5, 15, 52, 203, 877, 4140, 21147, 115975]\n"
     ]
    }
   ],
   "source": [
    "l = [SetPartitions([1..n]).cardinality() for n in [1..10]]\n",
    "print l"
   ]
  },
  {
   "cell_type": "code",
   "execution_count": 93,
   "metadata": {
    "collapsed": false
   },
   "outputs": [
    {
     "data": {
      "text/plain": [
       "0: A000110: Bell or exponential numbers: number of ways to partition a set of n labeled elements.\n",
       "1: A164864: Number of ways of placing n labeled balls into 10 indistinguishable boxes; word structures of length n using a 10-ary alphabet.\n",
       "2: A276726: Number of set partitions of [n] such that for each block b the smallest integer interval containing b has at most ten elements.\n",
       "3: A287281: Number of set partitions of [n] such that for each block all absolute differences between consecutive elements are <= nine."
      ]
     },
     "execution_count": 93,
     "metadata": {
     },
     "output_type": "execute_result"
    }
   ],
   "source": [
    "oeis(l, max_results=4)"
   ]
  },
  {
   "cell_type": "markdown",
   "metadata": {
    "collapsed": false
   },
   "source": [
    "Aha, let's read about that first one some more."
   ]
  },
  {
   "cell_type": "code",
   "execution_count": 94,
   "metadata": {
    "collapsed": false
   },
   "outputs": [
   ],
   "source": [
    "t = oeis('A000110')"
   ]
  },
  {
   "cell_type": "code",
   "execution_count": 0,
   "metadata": {
    "collapsed": false
   },
   "outputs": [
   ],
   "source": [
    "#What methods?\n",
    "t."
   ]
  },
  {
   "cell_type": "code",
   "execution_count": 95,
   "metadata": {
    "collapsed": false
   },
   "outputs": [
    {
     "data": {
      "text/plain": [
       "'Bell or exponential numbers: number of ways to partition a set of n labeled elements.'"
      ]
     },
     "execution_count": 95,
     "metadata": {
     },
     "output_type": "execute_result"
    }
   ],
   "source": [
    "t.name()"
   ]
  },
  {
   "cell_type": "code",
   "execution_count": 0,
   "metadata": {
    "collapsed": false
   },
   "outputs": [
   ],
   "source": [
   ]
  },
  {
   "cell_type": "code",
   "execution_count": 97,
   "metadata": {
    "collapsed": false
   },
   "outputs": [
    {
     "data": {
      "text/plain": [
       "0: The leading diagonal of its difference table is the sequence shifted, see Bernstein and Sloane (1995). - _N. J. A. Sloane_, Jul 04 2015\n",
       "1: Also the number of equivalence relations that can be defined on a set of n elements. - Federico Arboleda (federico.arboleda(AT)gmail.com), Mar 09 2005\n",
       "2: a(n) = number of nonisomorphic colorings of a map consisting of a row of n+1 adjacent regions. Adjacent regions cannot have the same color. - _David W. Wilson_, Feb 22 2005\n",
       "3: If an integer is squarefree and has n distinct prime factors then a(n) is the number of ways of writing it as a product of its divisors. - _Amarnath Murthy_, Apr 23 2001\n",
       "4: Consider rooted trees of height at most 2. Letting each tree 'grow' into the next generation of n means we produce a new tree for every node which is either the root or at height 1, which gives the Bell numbers. - _Jon Perry_, Jul 23 2003"
      ]
     },
     "execution_count": 97,
     "metadata": {
     },
     "output_type": "execute_result"
    }
   ],
   "source": [
    "t.comments()[:5]"
   ]
  },
  {
   "cell_type": "code",
   "execution_count": 0,
   "metadata": {
    "collapsed": false
   },
   "outputs": [
   ],
   "source": [
   ]
  }
 ],
 "metadata": {
  "kernelspec": {
   "display_name": "SageMath 8.1",
   "name": "sage-8.1"
  },
  "language_info": {
   "codemirror_mode": {
    "name": "ipython",
    "version": 2
   },
   "file_extension": ".py",
   "mimetype": "text/x-python",
   "name": "python",
   "nbconvert_exporter": "python",
   "pygments_lexer": "ipython2",
   "version": "2.7.14"
  }
 },
 "nbformat": 4,
 "nbformat_minor": 0
}