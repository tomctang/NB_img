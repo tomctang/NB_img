{
 "cells": [
  {
   "cell_type": "markdown",
   "metadata": {
    "collapsed": false
   },
   "source": [
    "## Math 157: Intro to Mathematical Software\n",
    "## UC San Diego, winter 2018\n"
   ]
  },
  {
   "cell_type": "code",
   "execution_count": 0,
   "metadata": {
    "collapsed": false
   },
   "outputs": [
   ],
   "source": [
   ]
  },
  {
   "cell_type": "markdown",
   "metadata": {
    "collapsed": false
   },
   "source": [
    "## January 12, 2018: Introduction to Python (part 1 of 3)"
   ]
  },
  {
   "cell_type": "markdown",
   "metadata": {
    "collapsed": false
   },
   "source": [
    "Reminder: no class on Monday, January 15 (holiday). Discussion sections meet as usual on Tuesday."
   ]
  },
  {
   "cell_type": "markdown",
   "metadata": {
    "collapsed": false
   },
   "source": [
    "Python is a high-level programming language used throughout the computing world for a variety of tasks, including scientific computation. Its design includes various features meant to improve readability of code, making it ideal for newcomers to programming.\n",
    "\n",
    "The home page of the Python project is http://www.python.org; there you can find a wealth of documentation about the language and its usage. Note that there are two major forms of the language in common circulation: 'Python 2' and 'Python 3'. The differences are subtle and generally not appear in any of the presented examples; I'll only comment on them occasionally."
   ]
  },
  {
   "cell_type": "markdown",
   "metadata": {
    "collapsed": false
   },
   "source": [
    "In today's lecture, we will focus on:\n",
    "\n",
    "1. Hello World (and beyond)\n",
    "1. Flow control: `for`,  `if`,  `while`. Whitespace matters!\n",
    "1. Functions\n",
    "\n",
    "Remember, you can (and should) experiment with your copy of the file without disturbing anyone else."
   ]
  },
  {
   "cell_type": "markdown",
   "metadata": {
    "collapsed": false
   },
   "source": [
    "### Hello World (and beyond)"
   ]
  },
  {
   "cell_type": "markdown",
   "metadata": {
    "collapsed": false
   },
   "source": [
    "In the context of a programming language, \"Hello World\" refers to the simplest possible program which outputs \"Hello World\" (and does nothing else). In Python, \"Hello World\" is particularly simple."
   ]
  },
  {
   "cell_type": "code",
   "execution_count": 1,
   "metadata": {
    "collapsed": false
   },
   "outputs": [
    {
     "name": "stdout",
     "output_type": "stream",
     "text": [
      "Hello World\n"
     ]
    }
   ],
   "source": [
    "print(\"Hello World\")"
   ]
  },
  {
   "cell_type": "markdown",
   "metadata": {
    "collapsed": false
   },
   "source": [
    "Side note: in Python 2 one can also do `print \"Hello World\"` without the parentheses. But doing it this way works in both Python 2 and Python 3."
   ]
  },
  {
   "cell_type": "markdown",
   "metadata": {
    "collapsed": false
   },
   "source": [
    "Let's soup this up a bit. In Python, sequences of commands do not require any separating punctuation, just a line break. A sequence of (one or more) statements will hereafter be called a *block*."
   ]
  },
  {
   "cell_type": "code",
   "execution_count": 2,
   "metadata": {
    "collapsed": false
   },
   "outputs": [
    {
     "name": "stdout",
     "output_type": "stream",
     "text": [
      "Hello World\n",
      "Hello again\n"
     ]
    }
   ],
   "source": [
    "print(\"Hello World\") # Any text after a hash mark is a comment, ignored by Python\n",
    "\n",
    "# Comments are useful for pointing things out to the reader. For instance, the previous blank line is ignored.\n",
    "print(\"Hello again\")\n"
   ]
  },
  {
   "cell_type": "markdown",
   "metadata": {
    "collapsed": false
   },
   "source": [
    "As we've seen last time, you may use a single equals sign (=) to assign a value to a variable. Unlike in some other languages, there is no notion of \"declaring\" a variable before you use it in Python (it is a \"dynamically typed\" rather than a \"statically typed\" language)."
   ]
  },
  {
   "cell_type": "code",
   "execution_count": 3,
   "metadata": {
    "collapsed": false
   },
   "outputs": [
    {
     "name": "stdout",
     "output_type": "stream",
     "text": [
      "12\n"
     ]
    }
   ],
   "source": [
    "x = 5\n",
    "y = 7\n",
    "print(x+y)\n"
   ]
  },
  {
   "cell_type": "code",
   "execution_count": 4,
   "metadata": {
    "collapsed": false
   },
   "outputs": [
   ],
   "source": [
    "this_is_a_long_variable_name_744 = 2"
   ]
  },
  {
   "cell_type": "markdown",
   "metadata": {
    "collapsed": false
   },
   "source": [
    "Variables can hold different types of values. Different operations behave differently depending on the type of value involves (that is, Python exhibits \"polymorphy\" and \"operator overloading\")."
   ]
  },
  {
   "cell_type": "code",
   "execution_count": 7,
   "metadata": {
    "collapsed": false
   },
   "outputs": [
    {
     "name": "stdout",
     "output_type": "stream",
     "text": [
      "57\n"
     ]
    }
   ],
   "source": [
    "x = \"5\" # Replaces the previous value\n",
    "y = str(7) # Convert this integer to a string\n",
    "print(x+y) # This is a string, not an integer\n"
   ]
  },
  {
   "cell_type": "markdown",
   "metadata": {
    "collapsed": false
   },
   "source": [
    "### Flow control"
   ]
  },
  {
   "cell_type": "markdown",
   "metadata": {
    "collapsed": false
   },
   "source": [
    "Most interesting programs do something more complicated than simply execute a list of instructions in order. The process by which a program skips or repeats code is called *flow control*.\n",
    "\n",
    "Among programming languages, Python is highly unusual in that *whitespace matters*: it uses *indentation levels* to perform flow control. This design choice was made to enforce a degree of readability.\n",
    "\n",
    "Let's see how this works with the most basic example of flow control: the `if/else` statement, which performs one block if a certain binary condition is True, and another block if it is False. (The False option, indicated by `else`, is optional; if omitted, it is treated as a no-op.)\n"
   ]
  },
  {
   "cell_type": "code",
   "execution_count": 11,
   "metadata": {
    "collapsed": false
   },
   "outputs": [
    {
     "name": "stdout",
     "output_type": "stream",
     "text": [
      "3 5\n"
     ]
    }
   ],
   "source": [
    "# Compare this example...\n",
    "x = 3\n",
    "y = 5\n",
    "if x < y: # Note that = means assignment; == means test for equality.\n",
    "    print(x,y) # By the way, print can take a comma-separated sequence of arguments.\n",
    "else:\n",
    "    print(y)\n",
    "    print(x)\n"
   ]
  },
  {
   "cell_type": "code",
   "execution_count": 12,
   "metadata": {
    "collapsed": false
   },
   "outputs": [
    {
     "name": "stdout",
     "output_type": "stream",
     "text": [
      "3 5\n",
      "3\n"
     ]
    }
   ],
   "source": [
    "# ... with this one.\n",
    "x = 3\n",
    "y = 5\n",
    "if x < y:\n",
    "    print(x,y)\n",
    "else:\n",
    "    print(y)\n",
    "print(x) # Removed indentation on this line; it's not part of the conditional statement\n"
   ]
  },
  {
   "cell_type": "code",
   "execution_count": 13,
   "metadata": {
    "collapsed": false
   },
   "outputs": [
    {
     "ename": "SyntaxError",
     "evalue": "invalid syntax (<ipython-input-13-f72646b2d89e>, line 5)",
     "output_type": "error",
     "traceback": [
      "\u001b[0;36m  File \u001b[0;32m\"<ipython-input-13-f72646b2d89e>\"\u001b[0;36m, line \u001b[0;32m5\u001b[0m\n\u001b[0;31m    else:\u001b[0m\n\u001b[0m       ^\u001b[0m\n\u001b[0;31mSyntaxError\u001b[0m\u001b[0;31m:\u001b[0m invalid syntax\n"
     ]
    }
   ],
   "source": [
    "x = 3\n",
    "y = 5\n",
    "if x < y:\n",
    "    print(x,y)\n",
    "    else:\n",
    "    print(y)\n",
    "print(x)"
   ]
  },
  {
   "cell_type": "code",
   "execution_count": 15,
   "metadata": {
    "collapsed": false
   },
   "outputs": [
    {
     "name": "stdout",
     "output_type": "stream",
     "text": [
      "3 5\n"
     ]
    }
   ],
   "source": [
    "if not (x == y):\n",
    "    print(x,y)"
   ]
  },
  {
   "cell_type": "markdown",
   "metadata": {
    "collapsed": false
   },
   "source": [
    "Although Python is slightly more permissive than this, CoCalc enforces the convention that every indentation consists of four spaces. Note that the editor tries to help you out with this: hitting Tab always inserts four spaces, and when you start a line the editor tries to guess what indentation level you want (but of course it won't always be right)."
   ]
  },
  {
   "cell_type": "markdown",
   "metadata": {
    "collapsed": false
   },
   "source": [
    "The true/false condition can be built out of such ingredients as:\n",
    "- comparison (<, >, ==, !=; remember that = is assignment, == is comparison)\n",
    "- boolean operators (or, and, not)\n",
    "- parentheses (to control the order of operations)."
   ]
  },
  {
   "cell_type": "code",
   "execution_count": 0,
   "metadata": {
    "collapsed": false
   },
   "outputs": [
   ],
   "source": [
    "# use the same x, y as before\n",
    "if (x<4 and y>4) and not (x+y==9):\n",
    "    print(x,y)"
   ]
  },
  {
   "cell_type": "markdown",
   "metadata": {
    "collapsed": false
   },
   "source": [
    "To condition over a larger (fixed) number of options, one option would be to use a nested sequence of `if/else` statements. Since this comes up a lot, Python provides a handy contraction for this: the `elif` statement is like an `else` plus an `if`, except it saves one level of indentation."
   ]
  },
  {
   "cell_type": "code",
   "execution_count": 0,
   "metadata": {
    "collapsed": false
   },
   "outputs": [
   ],
   "source": [
    "if x == 5:\n",
    "    print(\"yes\")\n",
    "else:\n",
    "    if x == 3:\n",
    "        print(\"better\")\n",
    "        if y == 3:\n",
    "            print(\"y = 3\")\n",
    "        else:\n",
    "            if (y == 2 and x > 7) or x < 3:\n",
    "                print(\"??\")\n",
    "    else:\n",
    "        print(\"best\")"
   ]
  },
  {
   "cell_type": "code",
   "execution_count": 0,
   "metadata": {
    "collapsed": false
   },
   "outputs": [
   ],
   "source": [
    "if x == 5:\n",
    "    print(\"yes\")\n",
    "elif x == 3:\n",
    "    print(\"better\")\n",
    "    if y == 3:\n",
    "        print(\"y = 3\")\n",
    "    elif (y == 2 and x > 7) or x < 3:\n",
    "        print(\"??\")\n",
    "else:\n",
    "    print(\"best\")"
   ]
  },
  {
   "cell_type": "markdown",
   "metadata": {
    "collapsed": false
   },
   "source": [
    "**Try this now**:\n",
    "\n",
    "Assume that the variable `x` holds an integer. Write code that prints 'positive' if the integer is greater than 0, 'negative' if the integer is less than zero, or 'zero' if the integer is equal to zero."
   ]
  },
  {
   "cell_type": "code",
   "execution_count": 16,
   "metadata": {
    "collapsed": false
   },
   "outputs": [
    {
     "name": "stdout",
     "output_type": "stream",
     "text": [
      "positive\n"
     ]
    }
   ],
   "source": [
    "# Your code goes here...\n",
    "if x>0:\n",
    "    print(\"positive\")\n",
    "elif x<0:\n",
    "    print(\"negative\")\n",
    "else:\n",
    "    print(\"zero\")"
   ]
  },
  {
   "cell_type": "markdown",
   "metadata": {
    "collapsed": false
   },
   "source": [
    "**Try this now**:\n",
    "\n",
    "Using `if/else`, write a code block that prints \"A\", \"B\", \"C\", or \"D\" depending on whether the value of the variable `x` reduces to 0, 1, 2, or 3 modulo 4. The operator `%` performs modular division. (There are better ways to do this...)"
   ]
  },
  {
   "cell_type": "code",
   "execution_count": 17,
   "metadata": {
    "collapsed": false
   },
   "outputs": [
    {
     "data": {
      "text/plain": [
       "2"
      ]
     },
     "execution_count": 17,
     "metadata": {
     },
     "output_type": "execute_result"
    }
   ],
   "source": [
    "27%5  # Modular division"
   ]
  },
  {
   "cell_type": "code",
   "execution_count": 18,
   "metadata": {
    "collapsed": false
   },
   "outputs": [
    {
     "name": "stdout",
     "output_type": "stream",
     "text": [
      "D\n"
     ]
    }
   ],
   "source": [
    "# Your code goes here...\n",
    "if x%4 == 0:\n",
    "    print(\"A\")\n",
    "elif x%4 == 1:\n",
    "    print(\"B\")\n",
    "elif x%4 == 2:\n",
    "    print(\"C\")\n",
    "else:\n",
    "    print(\"D\")"
   ]
  },
  {
   "cell_type": "markdown",
   "metadata": {
    "collapsed": false
   },
   "source": [
    "### For loops"
   ]
  },
  {
   "cell_type": "markdown",
   "metadata": {
    "collapsed": false
   },
   "source": [
    "The simplest way to repeat an operation is the `for` statement, which involves setting one variable (the *counter*) to a succession of different values. There are several ways to specify the values, but more on that in a moment."
   ]
  },
  {
   "cell_type": "code",
   "execution_count": 19,
   "metadata": {
    "collapsed": false
   },
   "outputs": [
    {
     "name": "stdout",
     "output_type": "stream",
     "text": [
      "0\n",
      "1\n",
      "2\n",
      "3\n",
      "4\n"
     ]
    }
   ],
   "source": [
    "for x in range(5): # Note carefully what values are generated!\n",
    "    print(x)"
   ]
  },
  {
   "cell_type": "code",
   "execution_count": 20,
   "metadata": {
    "collapsed": false
   },
   "outputs": [
    {
     "name": "stdout",
     "output_type": "stream",
     "text": [
      "3\n",
      "4\n",
      "5\n",
      "6\n"
     ]
    }
   ],
   "source": [
    "for x in range(3, 7): # Here we specify the start and end of the range.\n",
    "    print(x)"
   ]
  },
  {
   "cell_type": "code",
   "execution_count": 21,
   "metadata": {
    "collapsed": false
   },
   "outputs": [
    {
     "name": "stdout",
     "output_type": "stream",
     "text": [
      "1\n",
      "3\n",
      "5\n",
      "7\n",
      "9\n"
     ]
    }
   ],
   "source": [
    "for x in range(1,11,2): # Here we specify the start value, end value, and step length.\n",
    "    print(x)"
   ]
  },
  {
   "cell_type": "markdown",
   "metadata": {
    "collapsed": false
   },
   "source": [
    "As you may have guessed, the start value is assumed to be 0 if not specified; the step length is assumed to be 1 if not specified; and the last value is never included."
   ]
  },
  {
   "cell_type": "markdown",
   "metadata": {
    "collapsed": false
   },
   "source": [
    "The variable `x` gets modified in the above examples..."
   ]
  },
  {
   "cell_type": "code",
   "execution_count": 22,
   "metadata": {
    "collapsed": false
   },
   "outputs": [
    {
     "data": {
      "text/plain": [
       "9"
      ]
     },
     "execution_count": 22,
     "metadata": {
     },
     "output_type": "execute_result"
    }
   ],
   "source": [
    "x"
   ]
  },
  {
   "cell_type": "markdown",
   "metadata": {
    "collapsed": false
   },
   "source": [
    "... which can be a source of errors if you use the same variable for something else. A good way to avoid such errors is to use the Python convention that the variable `_` (a single underscore) is used for such 'throwaway' uses as a counter in a for loop, and never for any 'substantive' purpose."
   ]
  },
  {
   "cell_type": "code",
   "execution_count": 23,
   "metadata": {
    "collapsed": false
   },
   "outputs": [
    {
     "name": "stdout",
     "output_type": "stream",
     "text": [
      "ahooga\n",
      "ahooga\n",
      "ahooga\n"
     ]
    }
   ],
   "source": [
    "for _ in range(3):\n",
    "    print(\"ahooga\")"
   ]
  },
  {
   "cell_type": "markdown",
   "metadata": {
    "collapsed": false
   },
   "source": [
    "The content of a `for` loop can be any block, which may include additional flow control."
   ]
  },
  {
   "cell_type": "code",
   "execution_count": 24,
   "metadata": {
    "collapsed": false
   },
   "outputs": [
    {
     "name": "stdout",
     "output_type": "stream",
     "text": [
      "0 0\n",
      "0\n",
      "0 1\n",
      "1\n",
      "0 2\n",
      "2\n",
      "0 3\n",
      "3\n",
      "1 0\n",
      "1\n",
      "1 1\n",
      "2\n",
      "1 2\n",
      "3\n",
      "1 3\n",
      "4\n",
      "2 0\n",
      "2\n",
      "2 1\n",
      "3\n",
      "2 2\n",
      "4\n",
      "2 3\n",
      "5\n"
     ]
    }
   ],
   "source": [
    "for x in range(3):\n",
    "    for y in range(4):\n",
    "        print(x,y)\n",
    "        print(x + y)\n"
   ]
  },
  {
   "cell_type": "markdown",
   "metadata": {
    "collapsed": false
   },
   "source": [
    "A special command that works inside a `for` loop is `break`, which skips to the end of the `for` loop without finishing. (Note that `break` only breaks out of *one* such loop, in case there are nested loops.)"
   ]
  },
  {
   "cell_type": "code",
   "execution_count": 0,
   "metadata": {
    "collapsed": false
   },
   "outputs": [
   ],
   "source": [
   ]
  },
  {
   "cell_type": "raw",
   "metadata": {
    "collapsed": false
   },
   "source": [
   ]
  },
  {
   "cell_type": "code",
   "execution_count": 26,
   "metadata": {
    "collapsed": false
   },
   "outputs": [
    {
     "name": "stdout",
     "output_type": "stream",
     "text": [
      "0 0\n",
      "0 1\n",
      "0 2\n",
      "0 3\n",
      "1 0\n",
      "1 1\n",
      "1 2\n",
      "2 0\n",
      "2 1\n"
     ]
    }
   ],
   "source": [
    "for x in range (3):\n",
    "    for y in range(4):\n",
    "        print (x,y)\n",
    "        if x+y > 2:\n",
    "            break"
   ]
  },
  {
   "cell_type": "markdown",
   "metadata": {
    "collapsed": false
   },
   "source": [
    "For more sophisticated iteration, use the `while` statement, which repeats a block as long as some binary condition remains True. Again, within the block, `break` terminates the loop immediately.\n"
   ]
  },
  {
   "cell_type": "code",
   "execution_count": 27,
   "metadata": {
    "collapsed": false
   },
   "outputs": [
    {
     "name": "stdout",
     "output_type": "stream",
     "text": [
      "1\n",
      "3\n",
      "6\n",
      "10\n",
      "15\n",
      "21\n",
      "28\n",
      "36\n",
      "45\n",
      "55\n",
      "66\n",
      "78\n",
      "91\n",
      "105\n"
     ]
    }
   ],
   "source": [
    "x = 0\n",
    "y = 0\n",
    "while (y < 100):\n",
    "    x += 1 # Has the same effect as x = x + 1\n",
    "    y += x\n",
    "    print(y)\n"
   ]
  },
  {
   "cell_type": "markdown",
   "metadata": {
    "collapsed": false
   },
   "source": [
    "**Try this now**:\n",
    " \n",
    " Using `while`, write a loop to print all the Fibonacci numbers up to 200."
   ]
  },
  {
   "cell_type": "code",
   "execution_count": 32,
   "metadata": {
    "collapsed": false
   },
   "outputs": [
    {
     "name": "stdout",
     "output_type": "stream",
     "text": [
      "1\n",
      "1\n",
      "2\n",
      "3\n",
      "5\n",
      "8\n",
      "13\n",
      "21\n",
      "34\n",
      "55\n",
      "89\n",
      "144\n"
     ]
    }
   ],
   "source": [
    "# Your code goes here...\n",
    "x = 0\n",
    "y = 1\n",
    "while (y <= 200):\n",
    "    print(y)\n",
    "    x,y = y, y+x\n"
   ]
  },
  {
   "cell_type": "markdown",
   "metadata": {
    "collapsed": false
   },
   "source": [
    "### Functions (carried over to next lecture)"
   ]
  },
  {
   "cell_type": "markdown",
   "metadata": {
    "collapsed": false
   },
   "source": [
    "Functions are batches of code that can be called from within other code.\n",
    "\n",
    "A function takes zero or more *parameters*, and produces zero or more *return values*. A function may also have side effects, although it cannot change the values of variables outside of the function (that is, variables inside a function are *locally scoped*).\n",
    "\n",
    "Just like assignments of variables, the definition of a function persists between cells, unless you overwrite it by assigning the same name to another function. (If you really want, you can also type `del f` which removes the definition of `f` without replacing it. This works for both variables and functions; in fact, a function is just a special type of value you can assign to a variable.)\n"
   ]
  },
  {
   "cell_type": "code",
   "execution_count": 0,
   "metadata": {
    "collapsed": false
   },
   "outputs": [
   ],
   "source": [
    "def name_of_function(argument1, argument2):\n",
    "    print(\"the first argument is \", argument1, \" and the second is \", argument2)\n",
    "    return argument1 + argument2\n"
   ]
  },
  {
   "cell_type": "code",
   "execution_count": 0,
   "metadata": {
    "collapsed": false
   },
   "outputs": [
   ],
   "source": [
    "# Let's see if that worked!\n",
    "name_of_function(\"foo\", \"bar\")"
   ]
  },
  {
   "cell_type": "code",
   "execution_count": 0,
   "metadata": {
    "collapsed": false
   },
   "outputs": [
   ],
   "source": [
    "output = name_of_function(15, 19) # This doesn't print the return value, but there is a side effect\n"
   ]
  },
  {
   "cell_type": "code",
   "execution_count": 0,
   "metadata": {
    "collapsed": false
   },
   "outputs": [
   ],
   "source": [
    "print(output) # Now let's see the return value"
   ]
  },
  {
   "cell_type": "code",
   "execution_count": 0,
   "metadata": {
    "collapsed": false
   },
   "outputs": [
   ],
   "source": [
    "name_of_function('abc', 123) # This will fail -- you can't add a string and a number in  Python\n"
   ]
  },
  {
   "cell_type": "markdown",
   "metadata": {
    "collapsed": false
   },
   "source": [
    "**Try this now**: write a function that takes four parameters and returns their average. Try the test cases below to see if your function is working."
   ]
  },
  {
   "cell_type": "code",
   "execution_count": 0,
   "metadata": {
    "collapsed": false
   },
   "outputs": [
   ],
   "source": [
    "def avg(x1, x2, x3, x4):\n",
    "    # your code goes here...\n",
    " "
   ]
  },
  {
   "cell_type": "code",
   "execution_count": 0,
   "metadata": {
    "collapsed": false
   },
   "outputs": [
   ],
   "source": [
    "avg(1,3,5,7) # Should return 4"
   ]
  },
  {
   "cell_type": "code",
   "execution_count": 0,
   "metadata": {
    "collapsed": false
   },
   "outputs": [
   ],
   "source": [
    "avg(1,2,3,4) # What do you expect to see here? Are you surprised?"
   ]
  },
  {
   "cell_type": "markdown",
   "metadata": {
    "collapsed": false
   },
   "source": [
    "**Try this now**: \n",
    "\n",
    "Use a `while` loop to write a function `largest_power_of_2` that takes as input a positive integer `n`  and returns the largest power of 2 that is less than `n`. Your loop should start with `pow=1` and while `pow*2` is less than `n` replaces `pow` with `pow*2`; once the loop ends, return `pow`."
   ]
  },
  {
   "cell_type": "code",
   "execution_count": 0,
   "metadata": {
    "collapsed": false
   },
   "outputs": [
   ],
   "source": [
    "def largest_power_of_2(n):\n",
    "    #insert code here\n"
   ]
  },
  {
   "cell_type": "code",
   "execution_count": 0,
   "metadata": {
    "collapsed": false
   },
   "outputs": [
   ],
   "source": [
    "# Test this out!\n",
    "for x in range(1, 17):\n",
    "    print(x, largest_power_of_2(x))"
   ]
  },
  {
   "cell_type": "markdown",
   "metadata": {
    "collapsed": false
   },
   "source": [
    "### Preview: data structures (not used)\n"
   ]
  },
  {
   "cell_type": "markdown",
   "metadata": {
    "collapsed": false
   },
   "source": [
    "Next time, we will discuss the various ways that complex data structures can be recorded in a single variable. This includes lists, which play the role of arrays..."
   ]
  },
  {
   "cell_type": "code",
   "execution_count": 0,
   "metadata": {
    "collapsed": false
   },
   "outputs": [
   ],
   "source": [
    "[i^2 for i in range(5)]"
   ]
  },
  {
   "cell_type": "code",
   "execution_count": 0,
   "metadata": {
    "collapsed": false
   },
   "outputs": [
   ],
   "source": [
    "[2,3,5] + [\"foo\", \"bar\"]"
   ]
  },
  {
   "cell_type": "markdown",
   "metadata": {
    "collapsed": false
   },
   "source": [
    "... and dictionaries (dicts), which play the role of lookup tables (or if you like, functions defined by value tables)."
   ]
  },
  {
   "cell_type": "code",
   "execution_count": 0,
   "metadata": {
    "collapsed": false
   },
   "outputs": [
   ],
   "source": [
    "d = {2:5, 3:7, 4:-1}\n",
    "d[2] + d[4]"
   ]
  },
  {
   "cell_type": "code",
   "execution_count": 0,
   "metadata": {
    "collapsed": false
   },
   "outputs": [
   ],
   "source": [
   ]
  }
 ],
 "metadata": {
  "kernelspec": {
   "display_name": "Python 3 (Ubuntu Linux)",
   "language": "python",
   "name": "python3"
  },
  "language_info": {
   "codemirror_mode": {
    "name": "ipython",
    "version": 3
   },
   "file_extension": ".py",
   "mimetype": "text/x-python",
   "name": "python",
   "nbconvert_exporter": "python",
   "pygments_lexer": "ipython3",
   "version": "3.5.2"
  }
 },
 "nbformat": 4,
 "nbformat_minor": 0
}