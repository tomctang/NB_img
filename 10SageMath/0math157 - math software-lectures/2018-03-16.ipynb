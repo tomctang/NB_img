{
 "cells": [
  {
   "cell_type": "markdown",
   "metadata": {
    "collapsed": false
   },
   "source": [
    "## Math 157: Intro to Mathematical Software\n",
    "## UC San Diego, winter 2018\n",
    "\n",
    "## March 16, 2018: Where to go from here?"
   ]
  },
  {
   "cell_type": "markdown",
   "metadata": {
    "collapsed": false
   },
   "source": [
    "Administrivia:\n",
    "\n",
    "- Last call for CAPE evaluations! They close Monday, March 19 at 8am. Since this course is highly experimental, your feedback will be very helpful for shaping future offerings.\n",
    "- This lecture is not being counted for course attendance. Relax and listen!\n",
    "- HW 7 has been returned. HW 8 and the final project will be returned sometime during exam week.\n",
    "- Both parts of the final project will be collected Sunday, March 18 at 8pm.\n",
    "- The last virtual office hours session runs today 3-7pm."
   ]
  },
  {
   "cell_type": "markdown",
   "metadata": {
    "collapsed": false
   },
   "source": [
    "Pause for questions about the final project."
   ]
  },
  {
   "cell_type": "markdown",
   "metadata": {
    "collapsed": false
   },
   "source": [
    "$\\frac{d^2y}{dt^2}$ $\\partial$ "
   ]
  },
  {
   "cell_type": "markdown",
   "metadata": {
    "collapsed": false
   },
   "source": [
    "### Core mathematical subjects"
   ]
  },
  {
   "cell_type": "markdown",
   "metadata": {
    "collapsed": false
   },
   "source": [
    "Some of the topics we have seen occur in the following courses, albeit with somewhat less of a computational emphasis.\n",
    " - Linear algebra: Math 102\n",
    " - Algebra: Math 100ABC, Math 103AB\n",
    " - Combinatorics: Math 154, Math 184A (see also CSE 20)\n",
    " - Number theory: Math 104ABC\n",
    " - Statistics: Math 181AB, Math 185, Math 186 (for bioinformatics)\n",
    "\n",
    "The Department of Mathematics has just initiated a multi-year process to restructure its course offerings. If there is a particular topic that you wish you had had a chance to study in a math course, let me know and I can pass this on to the committee!"
   ]
  },
  {
   "cell_type": "markdown",
   "metadata": {
    "collapsed": false
   },
   "source": [
    "### Math 152: Applicable Mathematics and Computing"
   ]
  },
  {
   "cell_type": "markdown",
   "metadata": {
    "collapsed": false
   },
   "source": [
    "Math 152 is a variable-topics course usually centered on the interface between mathematics and computing. This course was itself originally offered as a Math 152 topic. Additional topics in recent years have included game theory, wavelets, and foundations of data science."
   ]
  },
  {
   "cell_type": "markdown",
   "metadata": {
    "collapsed": false
   },
   "source": [
    "### Math 187A/B: Introduction to Cryptography / Mathematics of Modern Cryptography"
   ]
  },
  {
   "cell_type": "markdown",
   "metadata": {
    "collapsed": false
   },
   "source": [
    "Math 187A provides an introduction to selected mathematical topics as they arise in classical (private-key) cryptography, focusing on key historical examples. Math 187B concentrates on the mathematical ideas and constructions most relevant to modern (public-key) cryptography. Math 187B in particular has an emphasis on computational examples, and is taught using CoCalc; Math 157 is *very good preparation* for that class!"
   ]
  },
  {
   "cell_type": "markdown",
   "metadata": {
    "collapsed": false
   },
   "source": [
    "There is also a cryptography sequence offered in CSE (107A/B). These are somewhat different: the CSE version focuses more on the theoretical basis of cryptography, whereas the math version focuses more on the mathematical techniques that arise along the way."
   ]
  },
  {
   "cell_type": "markdown",
   "metadata": {
    "collapsed": false
   },
   "source": [
    "### Math 189: Data Analysis and Inference"
   ]
  },
  {
   "cell_type": "markdown",
   "metadata": {
    "collapsed": false
   },
   "source": [
    "The math department offers several courses in traditional statistics, notably Math 181AB. This is not such a course!"
   ]
  },
  {
   "cell_type": "code",
   "execution_count": 2,
   "metadata": {
    "collapsed": false
   },
   "outputs": [
    {
     "data": {
      "text/html": [
       "<h1>Machine Learning</h1><img src=\"https://imgs.xkcd.com/comics/machine_learning.png\" title=\"The pile gets soaked with data and starts to get mushy over time, so it's technically recurrent.\"><div>Source: <a href=\"http://xkcd.com/1838\" target=\"_blank\">http://xkcd.com/1838</a></div>"
      ]
     },
     "execution_count": 2,
     "metadata": {
     },
     "output_type": "execute_result"
    }
   ],
   "source": [
    "xkcd(1838)"
   ]
  },
  {
   "cell_type": "markdown",
   "metadata": {
    "collapsed": false
   },
   "source": [
    "Math 189 investigates modern methods of data science and how they are *and should be* informed by statistics. (This addresses a different sort of \"machine learning fail\" than what I talked about in class.)\n",
    "\n",
    "> A study of fundamental theoretical background of statistical methods and their applications, with the emphasis on real data analysis. The course covers the\n",
    "basic concepts of probability, estimation, testing and regression, all explained on a particular case study developed for it. After this course, you will be able to understand and speak the basic language of statistics and appreciate the strengths and limitations of each method and formulate conclusions accordingly.  More importantly you will be able to perform statistical data analysis and formulate your conclusions in a statistical report.  Finally, and\n",
    "most importantly,  you will learn how to use open source software R and Python for an effective data analysis.\n",
    "\n",
    "I am told that in addition to R and Python, this course now uses Julia as well.\n",
    "\n",
    "Math 189 is required for the new data science major; see below."
   ]
  },
  {
   "cell_type": "markdown",
   "metadata": {
    "collapsed": false
   },
   "source": [
    "### The Halıcıoğlu Data Science Institute"
   ]
  },
  {
   "cell_type": "markdown",
   "metadata": {
    "collapsed": false
   },
   "source": [
    "The [HDSI](http://hdsi.ucsd.edu/) (sorry, I'm not sure how to pronounce it either) is a new unit on campus devoted to the emerging discipline of *data science*. \n",
    "\n",
    "> Data has emerged in our society as an essential means by which we can better understand the world around us and vastly improve the way we conduct business, govern and deliver healthcare. Yet, the methods and tools of this emerging field of data science are still in its early stages of development and not yet in practice.\n",
    ">\n",
    "> [HDSI] is a new academic research unit at UC San Diego with a focused mission. To lay the groundwork for the scientific foundations of this emerging discipline, develop new methods and infrastructure, and train students, faculty and industrial partners to use data science in ways that will allow them to solve some of the world’s most pressing problems.\n",
    ">\n",
    "> By developing new tools and educating the next generation of data scientists, our goal is to improve our quality of life as digital data continues its integration into the infrastructure of commerce, healthcare, government and education.\n",
    "\n",
    "The [list of founding faculty](https://hdsi.ucsd.edu/people/founding-faculty.html) includes representatives from Mathematics (which includes a program in statistics), Computer Science and Engineering, Cognitive Science, Economics, Linguistics, SIO, Bioengineering, Medicine, Psychiatry, Visual Arts, ..."
   ]
  },
  {
   "cell_type": "markdown",
   "metadata": {
    "collapsed": false
   },
   "source": [
    "### Undergraduate program in Data Science\n",
    "\n",
    "One key component of HDSI is the new [undergraduate program in data science](http://dsc.ucsd.edu/) which began in fall 2017. While it incorporates many existing courses in several departments, it also includes several new courses which may be of interest even to students in other majors.\n",
    "\n",
    "- DSC 10: Principles of Data Science. This course treats the basic of Python and Jupyter notebooks, and a bit of statistics in Python; it therefore is largely redundant with Math 157. If you plan to take a course with DSC 10 as a prerequisite, I would be happy to intervene to get that prerequisite waived.\n",
    "- DSC 20: Algorithms, Programming and Data Structures for Data Science I. This is a more advanced Python course.\n",
    "- DSC 30: Algorithms, Programming and Data Structures for Data Science II. This course will be taught for the first time in spring 2018.\n",
    "- CSE 20 (special section): Data Meets Theory I.\n",
    "- CSE 21 (special section): Data Meets Theory II. (These courses will eventually be relabeled under DSC.)"
   ]
  },
  {
   "cell_type": "code",
   "execution_count": 0,
   "metadata": {
    "collapsed": false
   },
   "outputs": [
   ],
   "source": [
   ]
  }
 ],
 "metadata": {
  "kernelspec": {
   "display_name": "SageMath 8.1",
   "name": "sage-8.1"
  },
  "language_info": {
   "codemirror_mode": {
    "name": "ipython",
    "version": 2
   },
   "file_extension": ".py",
   "mimetype": "text/x-python",
   "name": "python",
   "nbconvert_exporter": "python",
   "pygments_lexer": "ipython2",
   "version": "2.7.14"
  }
 },
 "nbformat": 4,
 "nbformat_minor": 0
}