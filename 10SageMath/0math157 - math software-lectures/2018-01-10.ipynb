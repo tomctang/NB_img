{
 "cells": [
  {
   "cell_type": "markdown",
   "metadata": {
    "collapsed": false
   },
   "source": [
    "## Math 157: Intro to Mathematical Software\n",
    "## UC San Diego, winter 2018\n"
   ]
  },
  {
   "cell_type": "markdown",
   "metadata": {
    "collapsed": false
   },
   "source": [
    "## January 10, 2018: Jupyter notebooks"
   ]
  },
  {
   "cell_type": "markdown",
   "metadata": {
    "collapsed": false
   },
   "source": [
    "As I explained last time, you should start each lecture by performing the following steps. (Do them now.)\n",
    "- Open your device, sign into CoCalc, and open your individual project.\n",
    "- If necessary, get to the Files view by clicking the folder icon: ![Folder icon](folder.png)\n",
    "- If necessary, navigate to the top of your directory structure by clicking the home icon: ![Home icon](home.png)\n",
    "- Click on the folder \"lectures\", then the subfolder \"2018-01-10\".\n",
    "- Open the file \"2018-01-10.ipynb\" with that day's date. You should see this file!"
   ]
  },
  {
   "cell_type": "markdown",
   "metadata": {
    "collapsed": false
   },
   "source": [
    "This file is an example of a *Jupyter notebook*. In this lecture, we explain what Jupyter notebooks are, what you can do with them, and how they will be used in this course."
   ]
  },
  {
   "cell_type": "markdown",
   "metadata": {
    "collapsed": false
   },
   "source": [
    "## Optional: chat room"
   ]
  },
  {
   "cell_type": "markdown",
   "metadata": {
    "collapsed": false
   },
   "source": [
    "You may also want to open a second tab or window, open the shared project in CoCalc, and enter the master chat room. Of course you are welcome to ask questions during the lecture, but you also have the possibility of using the chat room to ask a question of the rest of the class. I encourage you to take advantage of the knowledge of your classmates in this way! (Your social media can wait for an hour...)"
   ]
  },
  {
   "cell_type": "markdown",
   "metadata": {
    "collapsed": false
   },
   "source": [
    "Also to be found in the shared project: a folder called first_steps. This is a little tutorial put together by the CoCalc team to walk you through some basic tasks. If you want to mess around with it, please make a copy of the folder first (demonstrate that here). You can also copy it into your course project, but you won't be able to add collaborators there."
   ]
  },
  {
   "cell_type": "markdown",
   "metadata": {
    "collapsed": false
   },
   "source": [
    "## Project Jupyter"
   ]
  },
  {
   "cell_type": "markdown",
   "metadata": {
    "collapsed": false
   },
   "source": [
    "According to its home page http://jupyter.org/:\n",
    "\n",
    "> Project Jupyter exists to develop open-source software, open-standards, and services for interactive computing across dozens of programming languages."
   ]
  },
  {
   "cell_type": "markdown",
   "metadata": {
    "collapsed": false
   },
   "source": [
    "To put that in context, the idea is to provide a uniform environment for both *doing* scientific computations, using a variety of software tools, and *communicating* the results, in a way that others can then *reproduce* the results. In this course, we'll use Jupyter to replace two older technologies: paper and the chalkboard."
   ]
  },
  {
   "cell_type": "markdown",
   "metadata": {
    "collapsed": false
   },
   "source": [
    "## Notebooks and their structure"
   ]
  },
  {
   "cell_type": "markdown",
   "metadata": {
    "collapsed": false
   },
   "source": [
    "The *Jupyter notebook* is Jupyter's analogue of a piece of paper (or an Excel spreadsheet, or a Word document, or ...). At the moment it looks like a pretty static object, but let's look more closely."
   ]
  },
  {
   "cell_type": "markdown",
   "metadata": {
    "collapsed": false
   },
   "source": [
    "Click on this piece of text. You should see a blue outline appear around it. This outline delineates a *cell*; the notebook is composed of a sequence of such cells, of three kinds.\n",
    " - Markdown cells, like this one, display text with some formatting. For help with the formatting, go to the Help menu and select Markdown.\n",
    " - Code cells contain code to be executed by a particular piece of software (the *kernel*). We'll start working with code cells when we start with Python in the next lecture (or today if time permits).\n",
    " - Raw cells are in between: they look like code, but are static like markdown cells. These are useful if you want to display a piece of code but not actually execute it; but this probably won't come up very often for us."
   ]
  },
  {
   "cell_type": "code",
   "execution_count": 1,
   "metadata": {
    "collapsed": false
   },
   "outputs": [
    {
     "data": {
      "text/plain": [
       "3995"
      ]
     },
     "execution_count": 1,
     "metadata": {
     },
     "output_type": "execute_result"
    }
   ],
   "source": [
    "17*235 # Example of a code cell, executes something"
   ]
  },
  {
   "cell_type": "raw",
   "metadata": {
    "collapsed": false
   },
   "source": [
    "2+3 # Example of a raw cell, does not execute"
   ]
  },
  {
   "cell_type": "markdown",
   "metadata": {
    "collapsed": false
   },
   "source": [
    "Now double-click on this cell (or any other). It should be replaced by a text editing box containing the contents of the cell. You should be able to edit this text as in a word processor. Go ahead and try editing some text now (don't worry about clobbering the original; we'll see in a moment how to undo changes). To close the editor, hit Shift-Enter. (The editor will not automatically close if you switch to another cell. If you have multiple open cells, the colored outline will indicate which one you are editing.)\n",
    "\n",
    "You can also try editing the code and raw cells above. They behave slightly differently; for instance, Shift-Enter in a code cell causes it to execute."
   ]
  },
  {
   "cell_type": "markdown",
   "metadata": {
    "collapsed": false
   },
   "source": [
    "## Notebooks in this course"
   ]
  },
  {
   "cell_type": "markdown",
   "metadata": {
    "collapsed": false
   },
   "source": [
    "I can now explain how we will verify your in-class participation for the purposes of your course grade. During each lecture, I will be demonstrating a particular notebook; by following the instructions I gave you at the beginning, you will have access to your own private copy of the same notebook. In order to get credit for in-class participation on a particular day, you need to make a \"reasonable\" number of edits to that day's file during that day's lecture (which we will verify using file logs). So don't just sit there watching me; experiment on your own! I will sometimes pause to give you a chance to try something specific, but you should be trying things out even when I'm not specifically directing you to do so.\n",
    "\n",
    "For example, if you click immediately below this cell, a new cell will be inserted in between this cell and the next one. (If you are using a mouse, a colored bar should appear as you hover, indicating where you should click.) Try inserting a cell and fiddling with Markdown formatting (again using the Help menu).\n",
    "- Can you make some text appear in boldface? Strikethrough? Bold *and* italic at once?\n",
    "- Can you produce a numbered list? A list of lists? A checklist?\n",
    "- Can you make a piece of text (which is not itself a URL) appear as a link to a URL?\n",
    "- What emoji can you produce?"
   ]
  },
  {
   "cell_type": "markdown",
   "metadata": {
    "collapsed": false
   },
   "source": [
    "Homework assignments will also be in the form of notebooks. To find the homework assignment due on a given date, we perform a similar process to the one we did to get started with this lecture. Let's try this with the \"assignment\" due this Friday (January 12).\n",
    "- Open your device, sign into CoCalc, and open your individual project.\n",
    "- If necessary, get to the Files view by clicking the folder icon: ![Folder icon](folder.png)\n",
    "- If necessary, navigate to the top of your directory structure by clicking the home icon: ![Home icon](home.png)\n",
    "- Click on the folder \"assignments\", then the subfolder \"2018-01-12\".\n",
    "- Open the file \"2018-01-12.ipynb\".\n",
    "\n",
    "In fact there is no assignment due this Friday; what you have is a \"practice assignment\" designed to let you get accustomed to working with CoCalc, and to show you some additional features. It will be collected, evaluated, and returned to you as if it were a homework assignment, but no grades will be assigned.\n",
    "\n",
    "I remind you that there is no mechanism for *submitting* your homework assignment. When the homework is due, we will simply copy the contents of the folder (the notebook plus any additional files) to another directory. When grading is complete, you will receive additional files in the same folder."
   ]
  },
  {
   "cell_type": "markdown",
   "metadata": {
    "collapsed": false
   },
   "source": [
    "Can I make text appear in **boldface**?  \n",
    "did this work?\n"
   ]
  },
  {
   "cell_type": "markdown",
   "metadata": {
    "collapsed": false
   },
   "source": [
    "## TimeTravel"
   ]
  },
  {
   "cell_type": "markdown",
   "metadata": {
    "collapsed": false
   },
   "source": [
    "Jupyter notebooks are a widely used format, and are most commonly manipulated using the standard Jupyter server. CoCalc instead implements a custom version of the Jupyter server which has some very useful features, notably TimeTravel."
   ]
  },
  {
   "cell_type": "markdown",
   "metadata": {
    "collapsed": false
   },
   "source": [
    "Try clicking on ![the TimeTravel button](TimeTravel.png) near the top of the window. This takes you to a \"flat\" view of your notebook, in which nothing is editable. However, there is now a slider at the top of your window which you can use to scroll through historical versions of your document. CoCalc takes snapshots about once per second when there is activity on the file."
   ]
  },
  {
   "cell_type": "markdown",
   "metadata": {
    "collapsed": false
   },
   "source": [
    "Note that the TimeTravel view is a separate tab from the original file. To get back without changing anything, just close the TimeTravel tab. If instead you want to roll back some changes, find the version you want in TimeTravel and then click on ![Revert live version to this](Revert.png)."
   ]
  },
  {
   "cell_type": "markdown",
   "metadata": {
    "collapsed": false
   },
   "source": [
    "There are additional options in TimeTravel, such as highlight changes between two versions, and \"Load all history\" in case you want to go back to a *much* older version of the file."
   ]
  },
  {
   "cell_type": "markdown",
   "metadata": {
    "collapsed": false
   },
   "source": [
    "When you copy a file, the history does not come along with it. So for example, if you want to revert this notebook back to its original state *and* save your changes, use the file view to copy the changed version to a new file (which now has no history), then do TimeTravel on the *original* file."
   ]
  },
  {
   "cell_type": "markdown",
   "metadata": {
    "collapsed": false
   },
   "source": [
    "## Kernels and cell execution"
   ]
  },
  {
   "cell_type": "markdown",
   "metadata": {
    "collapsed": false
   },
   "source": [
    "So far we have only seen text in Jupyter notebooks, but of course the whole point is to integrate explanatory text with code that actually *does* something. So let's talk a bit about how that is going to work. We'll get into this in more detail once we start discussing Python specifically (next time).\n",
    "\n",
    "CoCalc supports the use of many different \"kernels\". A kernel is basically a programming language; different kernels have different syntaxes for input (what you type into the kernel) and output (what comes back from the kernel), and often are useful for very different purposes. At any given time, a notebook is set to use a particular kernel, which is named at the top right of the window (right now you should see \"Python 3 (Ubuntu Linux)\".) One can change the running kernel using the \"Kernel\" menu, but you won't normally do this in the middle of a session (and I'll try to make sure the kernel is set correctly for each lecture)."
   ]
  },
  {
   "cell_type": "markdown",
   "metadata": {
    "collapsed": false
   },
   "source": [
    "Communication between the user and the kernel is broken down into *cells*. When editing a code cell, hit Shift-Enter to execute the contents of the cell; the response from the kernel will be printed underneath."
   ]
  },
  {
   "cell_type": "code",
   "execution_count": 2,
   "metadata": {
    "collapsed": false
   },
   "outputs": [
    {
     "data": {
      "text/plain": [
       "4"
      ]
     },
     "execution_count": 2,
     "metadata": {
     },
     "output_type": "execute_result"
    }
   ],
   "source": [
    "2+2"
   ]
  },
  {
   "cell_type": "markdown",
   "metadata": {
    "collapsed": false
   },
   "source": [
    "Note the difference between Shift-Enter and Enter: you can have multiple lines of code within a single cell."
   ]
  },
  {
   "cell_type": "code",
   "execution_count": 3,
   "metadata": {
    "collapsed": false
   },
   "outputs": [
    {
     "data": {
      "text/plain": [
       "5"
      ]
     },
     "execution_count": 3,
     "metadata": {
     },
     "output_type": "execute_result"
    }
   ],
   "source": [
    "x=2\n",
    "x+3"
   ]
  },
  {
   "cell_type": "markdown",
   "metadata": {
    "collapsed": false
   },
   "source": [
    "Although the interaction is broken down into cells, in a single session all of the cell executions form a single \"dialogue\", with persistence of state between cells. For example, in the previous cell the line 'x=2' was an assignment: it declared a new variable 'x' and set it to have the value '2'. That value will persist if we perform another execution. (The \"Restart\" command under the \"Kernel\" menu can be used to end the current dialogue and start afresh.)"
   ]
  },
  {
   "cell_type": "code",
   "execution_count": 4,
   "metadata": {
    "collapsed": false
   },
   "outputs": [
    {
     "data": {
      "text/plain": [
       "7"
      ]
     },
     "execution_count": 4,
     "metadata": {
     },
     "output_type": "execute_result"
    }
   ],
   "source": [
    "3*x+1"
   ]
  },
  {
   "cell_type": "markdown",
   "metadata": {
    "collapsed": false
   },
   "source": [
    "One potential source of confusion: when you look at a notebook, you see a series of code cells in some order. However, in any given session, you can choose to execute the cells in any order; this includes repeatedly executing a single cell, or skipping one entirely. (Notice the \"In\" and \"Out\" tags in the left margin telling you about the execution order; this might look familiar if you have used Mathematica.) Try some experiments with this using the following example."
   ]
  },
  {
   "cell_type": "code",
   "execution_count": 5,
   "metadata": {
    "collapsed": false
   },
   "outputs": [
   ],
   "source": [
    "x=x+1 # Try executing this repeatedly, then one of the others"
   ]
  },
  {
   "cell_type": "markdown",
   "metadata": {
    "collapsed": false
   },
   "source": [
    "That said, if you are preparing a notebook for someone else to read (e.g., when you are submitting homework!), you probably want to assume that the user plans to execute the cells in the order they are given. In fact, there is an easy way to do exactly that: the \"Run all\" command in the \"Cell\" menu. (Note: this picks up from the current state of the kernel; if you want a fresh start, instead use the \"Restart and run all...\" command under the \"Kernel\" menu.)"
   ]
  },
  {
   "cell_type": "markdown",
   "metadata": {
    "collapsed": false
   },
   "source": [
    "On rare occasions, you may want to include a cell that looks like code (i.e., monospaced text without formatting) but shouldn't actually execute. This can be achieved by setting the cell type to \"Raw\"."
   ]
  },
  {
   "cell_type": "raw",
   "metadata": {
    "collapsed": false
   },
   "source": [
    "this=looks like code\n",
    "but=does nothing"
   ]
  },
  {
   "cell_type": "code",
   "execution_count": 0,
   "metadata": {
    "collapsed": false
   },
   "outputs": [
   ],
   "source": [
   ]
  }
 ],
 "metadata": {
  "kernelspec": {
   "display_name": "Python 3 (Ubuntu Linux)",
   "language": "python",
   "name": "python3"
  },
  "language_info": {
   "codemirror_mode": {
    "name": "ipython",
    "version": 3
   },
   "file_extension": ".py",
   "mimetype": "text/x-python",
   "name": "python",
   "nbconvert_exporter": "python",
   "pygments_lexer": "ipython3",
   "version": "3.5.2"
  }
 },
 "nbformat": 4,
 "nbformat_minor": 0
}