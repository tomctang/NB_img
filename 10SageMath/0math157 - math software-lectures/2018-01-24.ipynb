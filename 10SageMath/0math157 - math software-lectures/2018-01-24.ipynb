{
 "cells": [
  {
   "cell_type": "markdown",
   "metadata": {
    "collapsed": false
   },
   "source": [
    "## Math 157: Intro to Mathematical Software\n",
    "## UC San Diego, winter 2018\n"
   ]
  },
  {
   "cell_type": "markdown",
   "metadata": {
    "collapsed": false
   },
   "source": [
    "## January 24, 2018: SageMath (part 2 of 3)"
   ]
  },
  {
   "cell_type": "markdown",
   "metadata": {
    "collapsed": false
   },
   "source": [
    "Administrivia:\n",
    "\n",
    "- Homework 2 is due Friday, January 26 at 8pm. If you do not have it, contact course staff immediately.\n",
    "- We are continuing to monitor the course waitlist. If you are on it and still want to join the course, please continue to keep up with lectures and homework, and watch your email for further instructions."
   ]
  },
  {
   "cell_type": "markdown",
   "metadata": {
    "collapsed": false
   },
   "source": [
    "# Finding Roots: symbolic\n",
    "You can use the solve command to solve for zeroes of a function."
   ]
  },
  {
   "cell_type": "code",
   "execution_count": 67,
   "metadata": {
    "collapsed": false
   },
   "outputs": [
    {
     "ename": "SyntaxError",
     "evalue": "can't assign to operator (<ipython-input-67-d6dc05fa28e5>, line 1)",
     "output_type": "error",
     "traceback": [
      "\u001b[0;36m  File \u001b[0;32m\"<ipython-input-67-d6dc05fa28e5>\"\u001b[0;36m, line \u001b[0;32m1\u001b[0m\n\u001b[0;31m    x**Integer(2)+Integer(3) = Integer(5)  # This is an error; a Python assignment cannot have a complex expression on its left-hand side.\u001b[0m\n\u001b[0;31mSyntaxError\u001b[0m\u001b[0;31m:\u001b[0m can't assign to operator\n"
     ]
    }
   ],
   "source": [
    "x^2+3 = 5  # This is an error; a Python assignment cannot have a complex expression on its left-hand side."
   ]
  },
  {
   "cell_type": "code",
   "execution_count": 0,
   "metadata": {
    "collapsed": false
   },
   "outputs": [
   ],
   "source": [
   ]
  },
  {
   "cell_type": "code",
   "execution_count": 1,
   "metadata": {
    "collapsed": false
   },
   "outputs": [
    {
     "data": {
      "text/plain": [
       "x^2 + 3 == 5"
      ]
     },
     "execution_count": 1,
     "metadata": {
     },
     "output_type": "execute_result"
    }
   ],
   "source": [
    "x^2 + 3 == 5 ## This doesn't make sense in Python, but in Sage it is a valid object!"
   ]
  },
  {
   "cell_type": "code",
   "execution_count": 2,
   "metadata": {
    "collapsed": false
   },
   "outputs": [
    {
     "data": {
      "text/html": [
       "<html><script type=\"math/tex; mode=display\">\\newcommand{\\Bold}[1]{\\mathbf{#1}}x^{2} + 3 = 5</script></html>"
      ]
     },
     "execution_count": 2,
     "metadata": {
     },
     "output_type": "execute_result"
    }
   ],
   "source": [
    "eqn = x^2 + 3 == 5\n",
    "show(eqn)"
   ]
  },
  {
   "cell_type": "code",
   "execution_count": 48,
   "metadata": {
    "collapsed": false
   },
   "outputs": [
   ],
   "source": [
    "f(x) = sin(x)+exp(x)"
   ]
  },
  {
   "cell_type": "code",
   "execution_count": 49,
   "metadata": {
    "collapsed": false
   },
   "outputs": [
    {
     "data": {
      "text/html": [
       "<html><script type=\"math/tex; mode=display\">\\newcommand{\\Bold}[1]{\\mathbf{#1}}x \\ {\\mapsto}\\ e^{x} + \\sin\\left(x\\right)</script></html>"
      ]
     },
     "execution_count": 49,
     "metadata": {
     },
     "output_type": "execute_result"
    }
   ],
   "source": [
    "show(f)"
   ]
  },
  {
   "cell_type": "code",
   "execution_count": 3,
   "metadata": {
    "collapsed": false
   },
   "outputs": [
    {
     "data": {
      "text/plain": [
       "x^2 == 2"
      ]
     },
     "execution_count": 3,
     "metadata": {
     },
     "output_type": "execute_result"
    }
   ],
   "source": [
    "eqn.add_to_both_sides(-3)"
   ]
  },
  {
   "cell_type": "code",
   "execution_count": 52,
   "metadata": {
    "collapsed": false
   },
   "outputs": [
    {
     "data": {
      "image/png": "[encoded data removed]"
     }
    }
   ],
   "source": [
    "v = [(0,0), (1,1), (1,2), (2,0), (3,1)]\n",
    "line(v, thickness=3, color='blue', zorder=-1) + points(v, pointsize=200, color='grey', zorder=1)"
   ]
  },
  {
   "cell_type": "code",
   "execution_count": 4,
   "metadata": {
    "collapsed": false
   },
   "outputs": [
    {
     "data": {
      "text/plain": [
       "pi == pi"
      ]
     },
     "execution_count": 4,
     "metadata": {
     },
     "output_type": "execute_result"
    }
   ],
   "source": [
    "pi == pi"
   ]
  },
  {
   "cell_type": "code",
   "execution_count": 6,
   "metadata": {
    "collapsed": false
   },
   "outputs": [
    {
     "data": {
      "text/plain": [
       "3.14159265358979"
      ]
     },
     "execution_count": 6,
     "metadata": {
     },
     "output_type": "execute_result"
    }
   ],
   "source": [
    "N(pi)"
   ]
  },
  {
   "cell_type": "code",
   "execution_count": 7,
   "metadata": {
    "collapsed": false
   },
   "outputs": [
    {
     "data": {
      "text/plain": [
       "True"
      ]
     },
     "execution_count": 7,
     "metadata": {
     },
     "output_type": "execute_result"
    }
   ],
   "source": [
    "bool(pi == pi)"
   ]
  },
  {
   "cell_type": "code",
   "execution_count": 7,
   "metadata": {
    "collapsed": false
   },
   "outputs": [
    {
     "data": {
      "text/plain": [
       "False"
      ]
     },
     "execution_count": 7,
     "metadata": {
     },
     "output_type": "execute_result"
    }
   ],
   "source": [
    "bool(eqn) # Should return False, because this is not an identity."
   ]
  },
  {
   "cell_type": "code",
   "execution_count": 8,
   "metadata": {
    "collapsed": false
   },
   "outputs": [
    {
     "data": {
      "text/plain": [
       "[x == -1/2*sqrt(((2*I*sqrt(15) + 2)^(2/3) + 4)/(2*I*sqrt(15) + 2)^(1/3)) - 1/2*sqrt(-(2*I*sqrt(15) + 2)^(1/3) - 4/(2*I*sqrt(15) + 2)^(1/3) + 4/sqrt(((2*I*sqrt(15) + 2)^(2/3) + 4)/(2*I*sqrt(15) + 2)^(1/3))), x == -1/2*sqrt(((2*I*sqrt(15) + 2)^(2/3) + 4)/(2*I*sqrt(15) + 2)^(1/3)) + 1/2*sqrt(-(2*I*sqrt(15) + 2)^(1/3) - 4/(2*I*sqrt(15) + 2)^(1/3) + 4/sqrt(((2*I*sqrt(15) + 2)^(2/3) + 4)/(2*I*sqrt(15) + 2)^(1/3))), x == 1/2*sqrt(((2*I*sqrt(15) + 2)^(2/3) + 4)/(2*I*sqrt(15) + 2)^(1/3)) - 1/2*sqrt(-(2*I*sqrt(15) + 2)^(1/3) - 4/(2*I*sqrt(15) + 2)^(1/3) - 4/sqrt(((2*I*sqrt(15) + 2)^(2/3) + 4)/(2*I*sqrt(15) + 2)^(1/3))), x == 1/2*sqrt(((2*I*sqrt(15) + 2)^(2/3) + 4)/(2*I*sqrt(15) + 2)^(1/3)) + 1/2*sqrt(-(2*I*sqrt(15) + 2)^(1/3) - 4/(2*I*sqrt(15) + 2)^(1/3) - 4/sqrt(((2*I*sqrt(15) + 2)^(2/3) + 4)/(2*I*sqrt(15) + 2)^(1/3)))]"
      ]
     },
     "execution_count": 8,
     "metadata": {
     },
     "output_type": "execute_result"
    }
   ],
   "source": [
    "solve(x^4 + 2*x + 3 == 0, x) # There is an analogue of the quadratic formula for polynomials of degree 3 and 4..."
   ]
  },
  {
   "cell_type": "code",
   "execution_count": 9,
   "metadata": {
    "collapsed": false
   },
   "outputs": [
    {
     "data": {
      "text/html": [
       "<html><script type=\"math/tex; mode=display\">\\newcommand{\\Bold}[1]{\\mathbf{#1}}x = -\\frac{1}{2} \\, \\sqrt{\\frac{{\\left(2 i \\, \\sqrt{15} + 2\\right)}^{\\frac{2}{3}} + 4}{{\\left(2 i \\, \\sqrt{15} + 2\\right)}^{\\frac{1}{3}}}} - \\frac{1}{2} \\, \\sqrt{-{\\left(2 i \\, \\sqrt{15} + 2\\right)}^{\\frac{1}{3}} - \\frac{4}{{\\left(2 i \\, \\sqrt{15} + 2\\right)}^{\\frac{1}{3}}} + \\frac{4}{\\sqrt{\\frac{{\\left(2 i \\, \\sqrt{15} + 2\\right)}^{\\frac{2}{3}} + 4}{{\\left(2 i \\, \\sqrt{15} + 2\\right)}^{\\frac{1}{3}}}}}}</script></html>"
      ]
     },
     "execution_count": 9,
     "metadata": {
     },
     "output_type": "execute_result"
    }
   ],
   "source": [
    "show(solve(x^4 + 2*x + 3 == 0, x)[0]) "
   ]
  },
  {
   "cell_type": "code",
   "execution_count": 10,
   "metadata": {
    "collapsed": false
   },
   "outputs": [
    {
     "data": {
      "text/plain": [
       "[x == -1/2*(1/18*sqrt(23)*sqrt(3) - 25/54)^(1/3)*(I*sqrt(3) + 1) - 1/18*(-I*sqrt(3) + 1)/(1/18*sqrt(23)*sqrt(3) - 25/54)^(1/3) + 1/3, x == -1/2*(1/18*sqrt(23)*sqrt(3) - 25/54)^(1/3)*(-I*sqrt(3) + 1) - 1/18*(I*sqrt(3) + 1)/(1/18*sqrt(23)*sqrt(3) - 25/54)^(1/3) + 1/3, x == (1/18*sqrt(23)*sqrt(3) - 25/54)^(1/3) + 1/9/(1/18*sqrt(23)*sqrt(3) - 25/54)^(1/3) + 1/3, x == -1/2*I*sqrt(3) - 1/2, x == 1/2*I*sqrt(3) - 1/2]"
      ]
     },
     "execution_count": 10,
     "metadata": {
     },
     "output_type": "execute_result"
    }
   ],
   "source": [
    "solve(x^5+x+1 == 0, x) # ... but unless you get lucky..."
   ]
  },
  {
   "cell_type": "code",
   "execution_count": 11,
   "metadata": {
    "collapsed": false
   },
   "outputs": [
    {
     "data": {
      "text/plain": [
       "[0 == x^5 + 3*x + 1]"
      ]
     },
     "execution_count": 11,
     "metadata": {
     },
     "output_type": "execute_result"
    }
   ],
   "source": [
    "solve(x^5+3*x+1 == 0, x) # ... not in degree 5. I'll cover this in Math 100C next quarter!"
   ]
  },
  {
   "cell_type": "code",
   "execution_count": 12,
   "metadata": {
    "collapsed": false
   },
   "outputs": [
    {
     "data": {
      "text/plain": [
       "[x == 4]"
      ]
     },
     "execution_count": 12,
     "metadata": {
     },
     "output_type": "execute_result"
    }
   ],
   "source": [
    "solve(sqrt(x) == 2, x)"
   ]
  },
  {
   "cell_type": "code",
   "execution_count": 13,
   "metadata": {
    "collapsed": false
   },
   "outputs": [
    {
     "data": {
      "text/plain": [
       "[x == 0]"
      ]
     },
     "execution_count": 13,
     "metadata": {
     },
     "output_type": "execute_result"
    }
   ],
   "source": [
    "solve(sin(x) == 0, x) # This doesn't give *all* of the solutions, but you can infer the rest."
   ]
  },
  {
   "cell_type": "code",
   "execution_count": 14,
   "metadata": {
    "collapsed": false
   },
   "outputs": [
    {
     "data": {
      "text/plain": [
       "[x == log(1/2*I*5^(1/3)*sqrt(3) - 1/2*5^(1/3)), x == log(-1/2*I*5^(1/3)*sqrt(3) - 1/2*5^(1/3)), x == 1/3*log(5)]"
      ]
     },
     "execution_count": 14,
     "metadata": {
     },
     "output_type": "execute_result"
    }
   ],
   "source": [
    "solve(e^(3*x) == 5, x)"
   ]
  },
  {
   "cell_type": "code",
   "execution_count": 15,
   "metadata": {
    "collapsed": false
   },
   "outputs": [
    {
     "data": {
      "text/plain": [
       "[{x: log(1/2*I*5^(1/3)*sqrt(3) - 1/2*5^(1/3))},\n",
       " {x: log(-1/2*I*5^(1/3)*sqrt(3) - 1/2*5^(1/3))},\n",
       " {x: 1/3*log(5)}]"
      ]
     },
     "execution_count": 15,
     "metadata": {
     },
     "output_type": "execute_result"
    }
   ],
   "source": [
    "v = solve(e^(3*x) == 5, x, solution_dict=True); v"
   ]
  },
  {
   "cell_type": "code",
   "execution_count": 16,
   "metadata": {
    "collapsed": false
   },
   "outputs": [
    {
     "data": {
      "text/plain": [
       "[[x == 1.35720887245841, y == -1.35720887245841], [x == (-0.6786044041487247 + 1.175377306225595*I), y == (0.6786044041487285 - 1.175377306225602*I)], [x == (-0.6786044041487247 - 1.175377306225595*I), y == (0.6786044041487285 + 1.175377306225602*I)]]"
      ]
     },
     "execution_count": 16,
     "metadata": {
     },
     "output_type": "execute_result"
    }
   ],
   "source": [
    "var('x, y')\n",
    "solve([x^2 == y^2, x^3 == y^3 + 5], [x,y])"
   ]
  },
  {
   "cell_type": "code",
   "execution_count": 17,
   "metadata": {
    "collapsed": false
   },
   "outputs": [
    {
     "data": {
      "text/plain": [
       "[{y: -1.35720887245841, x: 1.35720887245841},\n",
       " {y: 0.6786044041487285 - 1.175377306225602*I,\n",
       "  x: -0.6786044041487247 + 1.175377306225595*I},\n",
       " {y: 0.6786044041487285 + 1.175377306225602*I,\n",
       "  x: -0.6786044041487247 - 1.175377306225595*I}]"
      ]
     },
     "execution_count": 17,
     "metadata": {
     },
     "output_type": "execute_result"
    }
   ],
   "source": [
    "\n",
    "solve([x^2 == y^2, x^3 == y^3 + 5], [x,y], solution_dict=True)"
   ]
  },
  {
   "cell_type": "code",
   "execution_count": 26,
   "metadata": {
    "collapsed": false
   },
   "outputs": [
    {
     "data": {
      "image/png": "[encoded data removed]"
     }
    }
   ],
   "source": [
    "g = implicit_plot(x^3 == y^3 + 5, (x, -3, 3), (y,-3,3))\n",
    "g += implicit_plot(x^2 == y^2, (x, -3, 3), (y,-3,3),color='red')\n",
    "g"
   ]
  },
  {
   "cell_type": "code",
   "execution_count": 18,
   "metadata": {
    "collapsed": false
   },
   "outputs": [
    {
     "data": {
      "text/html": [
       "<html><script type=\"math/tex; mode=display\">\\newcommand{\\Bold}[1]{\\mathbf{#1}}\\log\\left(\\frac{1}{2} i \\cdot 5^{\\frac{1}{3}} \\sqrt{3} - \\frac{1}{2} \\cdot 5^{\\frac{1}{3}}\\right)</script></html>"
      ]
     },
     "execution_count": 18,
     "metadata": {
     },
     "output_type": "execute_result"
    }
   ],
   "source": [
    "show(v[0][x])"
   ]
  },
  {
   "cell_type": "code",
   "execution_count": 20,
   "metadata": {
    "collapsed": false
   },
   "outputs": [
    {
     "data": {
      "text/plain": [
       "e^(3*log(1/2*I*5^(1/3)*sqrt(3) - 1/2*5^(1/3)))"
      ]
     },
     "execution_count": 20,
     "metadata": {
     },
     "output_type": "execute_result"
    }
   ],
   "source": [
    "e^(v[0][x]*3)"
   ]
  },
  {
   "cell_type": "code",
   "execution_count": 21,
   "metadata": {
    "collapsed": false
   },
   "outputs": [
    {
     "data": {
      "text/plain": [
       "5"
      ]
     },
     "execution_count": 21,
     "metadata": {
     },
     "output_type": "execute_result"
    }
   ],
   "source": [
    "(e^(v[0][x]*3)).simplify_full()"
   ]
  },
  {
   "cell_type": "code",
   "execution_count": 22,
   "metadata": {
    "collapsed": false
   },
   "outputs": [
    {
     "data": {
      "text/plain": [
       "[(log(1/2*I*5^(1/3)*sqrt(3) - 1/2*5^(1/3)), 1),\n",
       " (log(-1/2*I*5^(1/3)*sqrt(3) - 1/2*5^(1/3)), 1),\n",
       " (1/3*log(5), 1)]"
      ]
     },
     "execution_count": 22,
     "metadata": {
     },
     "output_type": "execute_result"
    }
   ],
   "source": [
    "# or use roots:\n",
    "v = (e^(3*x) - 5).roots()\n",
    "v"
   ]
  },
  {
   "cell_type": "code",
   "execution_count": 30,
   "metadata": {
    "collapsed": false
   },
   "outputs": [
    {
     "data": {
      "text/html": [
       "<html><script type=\"math/tex; mode=display\">\\newcommand{\\Bold}[1]{\\mathbf{#1}}\\log\\left(\\frac{1}{2} i \\cdot 5^{\\frac{1}{3}} \\sqrt{3} - \\frac{1}{2} \\cdot 5^{\\frac{1}{3}}\\right)</script></html>"
      ]
     },
     "execution_count": 30,
     "metadata": {
     },
     "output_type": "execute_result"
    }
   ],
   "source": [
    "show(v[0][0])"
   ]
  },
  {
   "cell_type": "markdown",
   "metadata": {
    "collapsed": false
   },
   "source": [
    "Here we numerically find a *single* zero of a function in a given interval."
   ]
  },
  {
   "cell_type": "code",
   "execution_count": 23,
   "metadata": {
    "collapsed": false
   },
   "outputs": [
    {
     "data": {
      "image/png": "[encoded data removed]"
     }
    }
   ],
   "source": [
    "f(x) = e^(3*x) - 5\n",
    "plot(f, -2, 2, ymax=1)"
   ]
  },
  {
   "cell_type": "code",
   "execution_count": 32,
   "metadata": {
    "collapsed": false
   },
   "outputs": [
    {
     "data": {
      "text/plain": [
       "0.5364793041447001"
      ]
     },
     "execution_count": 32,
     "metadata": {
     },
     "output_type": "execute_result"
    }
   ],
   "source": [
    "f.find_root(0, 1)"
   ]
  },
  {
   "cell_type": "markdown",
   "metadata": {
    "collapsed": false
   },
   "source": [
    "One can also turn a symbolic expression into a numerical approximation, to any desired accuracy (with some caution)."
   ]
  },
  {
   "cell_type": "code",
   "execution_count": 24,
   "metadata": {
    "collapsed": false
   },
   "outputs": [
    {
     "data": {
      "text/plain": [
       "500000000000000000000000000001/1000000000000000000000000000000*pi - 1/1000000000000000000000000000000*e"
      ]
     },
     "execution_count": 24,
     "metadata": {
     },
     "output_type": "execute_result"
    }
   ],
   "source": [
    "f = pi/10^30 + pi - e/10^30 - acos(0)\n",
    "f"
   ]
  },
  {
   "cell_type": "code",
   "execution_count": 25,
   "metadata": {
    "collapsed": false
   },
   "outputs": [
    {
     "data": {
      "text/plain": [
       "1.57079632679490"
      ]
     },
     "execution_count": 25,
     "metadata": {
     },
     "output_type": "execute_result"
    }
   ],
   "source": [
    "numerical_approx(f)"
   ]
  },
  {
   "cell_type": "code",
   "execution_count": 27,
   "metadata": {
    "collapsed": false
   },
   "outputs": [
    {
     "data": {
      "text/html": [
       "<html><script type=\"math/tex; mode=display\">\\newcommand{\\Bold}[1]{\\mathbf{#1}}\\log\\left(\\frac{1}{2} i \\cdot 5^{\\frac{1}{3}} \\sqrt{3} - \\frac{1}{2} \\cdot 5^{\\frac{1}{3}}\\right)</script></html>"
      ]
     },
     "execution_count": 27,
     "metadata": {
     },
     "output_type": "execute_result"
    }
   ],
   "source": [
    "alpha = log(1/2*I*5^(1/3)*sqrt(3) - 1/2*5^(1/3))\n",
    "show(alpha)"
   ]
  },
  {
   "cell_type": "code",
   "execution_count": 28,
   "metadata": {
    "collapsed": false
   },
   "outputs": [
    {
     "data": {
      "text/plain": [
       "0.536479304144700 + 2.09439510239320*I"
      ]
     },
     "execution_count": 28,
     "metadata": {
     },
     "output_type": "execute_result"
    }
   ],
   "source": [
    "numerical_approx(alpha)"
   ]
  },
  {
   "cell_type": "code",
   "execution_count": 29,
   "metadata": {
    "collapsed": false
   },
   "outputs": [
    {
     "data": {
      "text/plain": [
       "0.53647930414470012486691977774206254650853378475617257397088 + 2.0943951023931954923084289221863352561314462662500705473166*I"
      ]
     },
     "execution_count": 29,
     "metadata": {
     },
     "output_type": "execute_result"
    }
   ],
   "source": [
    "numerical_approx(alpha, prec=200)"
   ]
  },
  {
   "cell_type": "code",
   "execution_count": 30,
   "metadata": {
    "collapsed": false
   },
   "outputs": [
    {
     "data": {
      "text/plain": [
       "0.53647930414470012487 + 2.0943951023931954923*I"
      ]
     },
     "execution_count": 30,
     "metadata": {
     },
     "output_type": "execute_result"
    }
   ],
   "source": [
    "numerical_approx(alpha, digits=20)"
   ]
  },
  {
   "cell_type": "code",
   "execution_count": 41,
   "metadata": {
    "collapsed": false
   },
   "outputs": [
    {
     "data": {
      "text/plain": [
       "0.536 + 2.09*I"
      ]
     },
     "execution_count": 41,
     "metadata": {
     },
     "output_type": "execute_result"
    }
   ],
   "source": [
    "# This is the number of digits used in computing the result, NOT the number of correct digits in output!\n",
    "numerical_approx(alpha, digits=3)"
   ]
  },
  {
   "cell_type": "code",
   "execution_count": 31,
   "metadata": {
    "collapsed": false
   },
   "outputs": [
    {
     "data": {
      "text/plain": [
       "4.5000000000000000000000000000"
      ]
     },
     "execution_count": 31,
     "metadata": {
     },
     "output_type": "execute_result"
    }
   ],
   "source": [
    "N(9/2, prec=100)"
   ]
  },
  {
   "cell_type": "markdown",
   "metadata": {
    "collapsed": false
   },
   "source": [
    "In order to obtain an answer which is *guaranteed* to have all reported digits be accurate (assuming no bugs in CoCalc, cosmic rays, or other irreproducible phenomena), one can use *interval arithmetic*. This is like keeping track of \"error bars\". It is somewhat less efficient, and so not commonly used in \"real-life\" applications; but it absolutely essentially if you want to use real-number arithmetic as the basis of a mathematical proof, as in the solution of the [Kepler conjecture](https://en.wikipedia.org/wiki/Kepler_conjecture)."
   ]
  },
  {
   "cell_type": "code",
   "execution_count": 43,
   "metadata": {
    "collapsed": false
   },
   "outputs": [
    {
     "data": {
      "text/plain": [
       "True"
      ]
     },
     "execution_count": 43,
     "metadata": {
     },
     "output_type": "execute_result"
    }
   ],
   "source": [
    "N is numerical_approx # Handy shorthand!"
   ]
  },
  {
   "cell_type": "code",
   "execution_count": 0,
   "metadata": {
    "collapsed": false
   },
   "outputs": [
   ],
   "source": [
    "alpha.N()"
   ]
  },
  {
   "cell_type": "code",
   "execution_count": 0,
   "metadata": {
    "collapsed": false
   },
   "outputs": [
   ],
   "source": [
    "alpha.n()"
   ]
  },
  {
   "cell_type": "code",
   "execution_count": 0,
   "metadata": {
    "collapsed": false
   },
   "outputs": [
   ],
   "source": [
    "alpha.numerical_approx()"
   ]
  },
  {
   "cell_type": "code",
   "execution_count": 32,
   "metadata": {
    "collapsed": false
   },
   "outputs": [
    {
     "data": {
      "text/plain": [
       "0.53648? + 2.09440?*I"
      ]
     },
     "execution_count": 32,
     "metadata": {
     },
     "output_type": "execute_result"
    }
   ],
   "source": [
    "# Interval arithmetic --\n",
    "# Every displayed digit except last in the output is definitely right:\n",
    "ComplexIntervalField(20)(alpha)"
   ]
  },
  {
   "cell_type": "code",
   "execution_count": 36,
   "metadata": {
    "collapsed": false
   },
   "outputs": [
   ],
   "source": [
    "RIF = RealIntervalField()"
   ]
  },
  {
   "cell_type": "code",
   "execution_count": 37,
   "metadata": {
    "collapsed": false
   },
   "outputs": [
   ],
   "source": [
    "u = RIF(sqrt(2))+RIF(sqrt(3))"
   ]
  },
  {
   "cell_type": "code",
   "execution_count": 38,
   "metadata": {
    "collapsed": false
   },
   "outputs": [
    {
     "data": {
      "text/plain": [
       "(3.14626436994197, 3.14626436994198)"
      ]
     },
     "execution_count": 38,
     "metadata": {
     },
     "output_type": "execute_result"
    }
   ],
   "source": [
    "u.lower(), u.upper()"
   ]
  },
  {
   "cell_type": "markdown",
   "metadata": {
    "collapsed": false
   },
   "source": [
    "## More about 2d plots\n",
    "\n",
    "You can do much more than just `plot(function...)`.  E.g.,\n",
    "\n",
    "- a point\n",
    "- a bunch of points\n",
    "- text\n",
    "- \"line\" through a bunch of points\n",
    "- polygon\n",
    "- ellipse\n",
    "- implicit plot\n",
    "- contour plot\n",
    "- vector field"
   ]
  },
  {
   "cell_type": "code",
   "execution_count": 44,
   "metadata": {
    "collapsed": false
   },
   "outputs": [
    {
     "data": {
      "image/png": "[encoded data removed]"
     }
    }
   ],
   "source": [
    "point((1,2))"
   ]
  },
  {
   "cell_type": "code",
   "execution_count": 45,
   "metadata": {
    "collapsed": false
   },
   "outputs": [
    {
     "data": {
      "image/png": "[encoded data removed]"
     }
    }
   ],
   "source": [
    "point2d((1,2), pointsize=150, color='red')"
   ]
  },
  {
   "cell_type": "code",
   "execution_count": 40,
   "metadata": {
    "collapsed": false
   },
   "outputs": [
    {
     "data": {
      "image/png": "[encoded data removed]"
     }
    }
   ],
   "source": [
    "point([(random(), random()) for i in range(100)])"
   ]
  },
  {
   "cell_type": "code",
   "execution_count": 47,
   "metadata": {
    "collapsed": false
   },
   "outputs": [
    {
     "data": {
      "image/png": "[encoded data removed]"
     }
    }
   ],
   "source": [
    "point([(x,x^2) for x in range(50)])"
   ]
  },
  {
   "cell_type": "code",
   "execution_count": 50,
   "metadata": {
    "collapsed": false
   },
   "outputs": [
    {
     "data": {
      "image/png": "[encoded data removed]"
     }
    }
   ],
   "source": [
    "g =  point((1,2), pointsize=300, color='red')\n",
    "g += text(r\"Get $\\int_0^{\\pi} \\sin(x) dx$ points!\", (1,2), alpha=0.5, fontsize=30, fontweight='bold', color='black', rotation=20, zorder=1)\n",
    "g.show(frame=True, axes=False)"
   ]
  },
  {
   "cell_type": "code",
   "execution_count": 51,
   "metadata": {
    "collapsed": false
   },
   "outputs": [
    {
     "data": {
      "image/png": "[encoded data removed]"
     }
    }
   ],
   "source": [
    "line([(0,0), (1,1), (1,2), (2,0), (3,1)], thickness=3, color='blue')"
   ]
  },
  {
   "cell_type": "code",
   "execution_count": 52,
   "metadata": {
    "collapsed": false
   },
   "outputs": [
    {
     "data": {
      "image/png": "[encoded data removed]"
     }
    }
   ],
   "source": [
    "v = [(0,0), (1,1), (1,2), (2,0), (3,1)]\n",
    "line(v, thickness=3, color='blue', zorder=-1) + points(v, pointsize=200, color='grey', zorder=1)"
   ]
  },
  {
   "cell_type": "code",
   "execution_count": 42,
   "metadata": {
    "collapsed": false
   },
   "outputs": [
   ],
   "source": [
    "var('x, y')\n",
    "pl = implicit_plot(y^2 + cos(y*e^x) == x^3 - 2*x + 3, (x,-2,2), (y,-3,3))"
   ]
  },
  {
   "cell_type": "code",
   "execution_count": 43,
   "metadata": {
    "collapsed": false
   },
   "outputs": [
   ],
   "source": [
    "pl.save('test.pdf') # To preserve your handiwork!"
   ]
  },
  {
   "cell_type": "code",
   "execution_count": 45,
   "metadata": {
    "collapsed": false
   },
   "outputs": [
    {
     "data": {
      "text/html": "\n<iframe srcdoc=\"\n<html>\n<head>\n  <style>\n    * {\n      margin: 0;\n      padding: 0;\n      overflow: hidden;\n    }\n    body, html {      \n      height: 100%;\n      width: 100%;\n    }\n  </style>\n  <script type=&quot;text/javascript&quot; src=&quot;/nbextensions/jsmol/JSmol.min.js&quot;></script>\n</head>\n<body>\n  <script type=&quot;text/javascript&quot;>\n    var script = [\n  'data &quot;model list&quot;',\n  '10',\n  'empty',\n  'Xx -3.0 -4.0 -1.5',\n  'Xx 0.0 -4.0 -1.5',\n  'Xx 3.0 -4.0 -1.5',\n  'Xx 4.0 -3.0 -1.5',\n  'Xx 4.0 0.0 -1.5',\n  'Xx 4.0 3.0 -1.5',\n  'Xx -4.0 -3.0 -1.5',\n  'Xx -4.0 -3.0 0.0',\n  'Xx -4.0 -3.0 1.5',\n  'Xx 5.5 5.5 5.5',\n  'end &quot;model list&quot;; show data',\n  'select *',\n  'wireframe off; spacefill off',\n  'set labelOffset 0 0',\n  'background [255,255,255]',\n  'spin OFF',\n  'moveto 0 -764 -346 -545 76.39',\n  'centerAt absolute {0 0 0}',\n  'zoom 100',\n  'frank OFF',\n  'set perspectivedepth ON',\n  'pmesh obj_1 inline &quot;1600',\n  '-3 -3 1.5',\n  '-3 -2.84615 1.35',\n  '-3 -2.69231 1.20789',\n  '-3 -2.53846 1.07368',\n  '-3 -2.38462 0.947368',\n  '-3 -2.23077 0.828947',\n  '-3 -2.07692 0.718421',\n  '-3 -1.92308 0.615789',\n  '-3 -1.76923 0.521053',\n  '-3 -1.61538 0.434211',\n  '-3 -1.46154 0.355263',\n  '-3 -1.30769 0.284211',\n  '-3 -1.15385 0.221053',\n  '-3 -1 0.165789',\n  '-3 -0.846154 0.118421',\n  '-3 -0.692308 0.0789474',\n  '-3 -0.538462 0.0473684',\n  '-3 -0.384615 0.0236842',\n  '-3 -0.230769 0.00789474',\n  '-3 -0.0769231 0',\n  '-3 0.0769231 0',\n  '-3 0.230769 0.00789474',\n  '-3 0.384615 0.0236842',\n  '-3 0.538462 0.0473684',\n  '-3 0.692308 0.0789474',\n  '-3 0.846154 0.118421',\n  '-3 1 0.165789',\n  '-3 1.15385 0.221053',\n  '-3 1.30769 0.284211',\n  '-3 1.46154 0.355263',\n  '-3 1.61538 0.434211',\n  '-3 1.76923 0.521053',\n  '-3 1.92308 0.615789',\n  '-3 2.07692 0.718421',\n  '-3 2.23077 0.828947',\n  '-3 2.38462 0.947368',\n  '-3 2.53846 1.07368',\n  '-3 2.69231 1.20789',\n  '-3 2.84615 1.35',\n  '-3 3 1.5',\n  '-2.84615 -3 1.35',\n  '-2.84615 -2.84615 1.2',\n  '-2.84615 -2.69231 1.05789',\n  '-2.84615 -2.53846 0.923684',\n  '-2.84615 -2.38462 0.797368',\n  '-2.84615 -2.23077 0.678947',\n  '-2.84615 -2.07692 0.568421',\n  '-2.84615 -1.92308 0.465789',\n  '-2.84615 -1.76923 0.371053',\n  '-2.84615 -1.61538 0.284211',\n  '-2.84615 -1.46154 0.205263',\n  '-2.84615 -1.30769 0.134211',\n  '-2.84615 -1.15385 0.0710526',\n  '-2.84615 -1 0.0157895',\n  '-2.84615 -0.846154 -0.0315789',\n  '-2.84615 -0.692308 -0.0710526',\n  '-2.84615 -0.538462 -0.102632',\n  '-2.84615 -0.384615 -0.126316',\n  '-2.84615 -0.230769 -0.142105',\n  '-2.84615 -0.0769231 -0.15',\n  '-2.84615 0.0769231 -0.15',\n  '-2.84615 0.230769 -0.142105',\n  '-2.84615 0.384615 -0.126316',\n  '-2.84615 0.538462 -0.102632',\n  '-2.84615 0.692308 -0.0710526',\n  '-2.84615 0.846154 -0.0315789',\n  '-2.84615 1 0.0157895',\n  '-2.84615 1.15385 0.0710526',\n  '-2.84615 1.30769 0.134211',\n  '-2.84615 1.46154 0.205263',\n  '-2.84615 1.61538 0.284211',\n  '-2.84615 1.76923 0.371053',\n  '-2.84615 1.92308 0.465789',\n  '-2.84615 2.07692 0.568421',\n  '-2.84615 2.23077 0.678947',\n  '-2.84615 2.38462 0.797368',\n  '-2.84615 2.53846 0.923684',\n  '-2.84615 2.69231 1.05789',\n  '-2.84615 2.84615 1.2',\n  '-2.84615 3 1.35',\n  '-2.69231 -3 1.20789',\n  '-2.69231 -2.84615 1.05789',\n  '-2.69231 -2.69231 0.915789',\n  '-2.69231 -2.53846 0.781579',\n  '-2.69231 -2.38462 0.655263',\n  '-2.69231 -2.23077 0.536842',\n  '-2.69231 -2.07692 0.426316',\n  '-2.69231 -1.92308 0.323684',\n  '-2.69231 -1.76923 0.228947',\n  '-2.69231 -1.61538 0.142105',\n  '-2.69231 -1.46154 0.0631579',\n  '-2.69231 -1.30769 -0.00789474',\n  '-2.69231 -1.15385 -0.0710526',\n  '-2.69231 -1 -0.126316',\n  '-2.69231 -0.846154 -0.173684',\n  '-2.69231 -0.692308 -0.213158',\n  '-2.69231 -0.538462 -0.244737',\n  '-2.69231 -0.384615 -0.268421',\n  '-2.69231 -0.230769 -0.284211',\n  '-2.69231 -0.0769231 -0.292105',\n  '-2.69231 0.0769231 -0.292105',\n  '-2.69231 0.230769 -0.284211',\n  '-2.69231 0.384615 -0.268421',\n  '-2.69231 0.538462 -0.244737',\n  '-2.69231 0.692308 -0.213158',\n  '-2.69231 0.846154 -0.173684',\n  '-2.69231 1 -0.126316',\n  '-2.69231 1.15385 -0.0710526',\n  '-2.69231 1.30769 -0.00789474',\n  '-2.69231 1.46154 0.0631579',\n  '-2.69231 1.61538 0.142105',\n  '-2.69231 1.76923 0.228947',\n  '-2.69231 1.92308 0.323684',\n  '-2.69231 2.07692 0.426316',\n  '-2.69231 2.23077 0.536842',\n  '-2.69231 2.38462 0.655263',\n  '-2.69231 2.53846 0.781579',\n  '-2.69231 2.69231 0.915789',\n  '-2.69231 2.84615 1.05789',\n  '-2.69231 3 1.20789',\n  '-2.53846 -3 1.07368',\n  '-2.53846 -2.84615 0.923684',\n  '-2.53846 -2.69231 0.781579',\n  '-2.53846 -2.53846 0.647368',\n  '-2.53846 -2.38462 0.521053',\n  '-2.53846 -2.23077 0.402632',\n  '-2.53846 -2.07692 0.292105',\n  '-2.53846 -1.92308 0.189474',\n  '-2.53846 -1.76923 0.0947368',\n  '-2.53846 -1.61538 0.00789474',\n  '-2.53846 -1.46154 -0.0710526',\n  '-2.53846 -1.30769 -0.142105',\n  '-2.53846 -1.15385 -0.205263',\n  '-2.53846 -1 -0.260526',\n  '-2.53846 -0.846154 -0.307895',\n  '-2.53846 -0.692308 -0.347368',\n  '-2.53846 -0.538462 -0.378947',\n  '-2.53846 -0.384615 -0.402632',\n  '-2.53846 -0.230769 -0.418421',\n  '-2.53846 -0.0769231 -0.426316',\n  '-2.53846 0.0769231 -0.426316',\n  '-2.53846 0.230769 -0.418421',\n  '-2.53846 0.384615 -0.402632',\n  '-2.53846 0.538462 -0.378947',\n  '-2.53846 0.692308 -0.347368',\n  '-2.53846 0.846154 -0.307895',\n  '-2.53846 1 -0.260526',\n  '-2.53846 1.15385 -0.205263',\n  '-2.53846 1.30769 -0.142105',\n  '-2.53846 1.46154 -0.0710526',\n  '-2.53846 1.61538 0.00789474',\n  '-2.53846 1.76923 0.0947368',\n  '-2.53846 1.92308 0.189474',\n  '-2.53846 2.07692 0.292105',\n  '-2.53846 2.23077 0.402632',\n  '-2.53846 2.38462 0.521053',\n  '-2.53846 2.53846 0.647368',\n  '-2.53846 2.69231 0.781579',\n  '-2.53846 2.84615 0.923684',\n  '-2.53846 3 1.07368',\n  '-2.38462 -3 0.947368',\n  '-2.38462 -2.84615 0.797368',\n  '-2.38462 -2.69231 0.655263',\n  '-2.38462 -2.53846 0.521053',\n  '-2.38462 -2.38462 0.394737',\n  '-2.38462 -2.23077 0.276316',\n  '-2.38462 -2.07692 0.165789',\n  '-2.38462 -1.92308 0.0631579',\n  '-2.38462 -1.76923 -0.0315789',\n  '-2.38462 -1.61538 -0.118421',\n  '-2.38462 -1.46154 -0.197368',\n  '-2.38462 -1.30769 -0.268421',\n  '-2.38462 -1.15385 -0.331579',\n  '-2.38462 -1 -0.386842',\n  '-2.38462 -0.846154 -0.434211',\n  '-2.38462 -0.692308 -0.473684',\n  '-2.38462 -0.538462 -0.505263',\n  '-2.38462 -0.384615 -0.528947',\n  '-2.38462 -0.230769 -0.544737',\n  '-2.38462 -0.0769231 -0.552632',\n  '-2.38462 0.0769231 -0.552632',\n  '-2.38462 0.230769 -0.544737',\n  '-2.38462 0.384615 -0.528947',\n  '-2.38462 0.538462 -0.505263',\n  '-2.38462 0.692308 -0.473684',\n  '-2.38462 0.846154 -0.434211',\n  '-2.38462 1 -0.386842',\n  '-2.38462 1.15385 -0.331579',\n  '-2.38462 1.30769 -0.268421',\n  '-2.38462 1.46154 -0.197368',\n  '-2.38462 1.61538 -0.118421',\n  '-2.38462 1.76923 -0.0315789',\n  '-2.38462 1.92308 0.0631579',\n  '-2.38462 2.07692 0.165789',\n  '-2.38462 2.23077 0.276316',\n  '-2.38462 2.38462 0.394737',\n  '-2.38462 2.53846 0.521053',\n  '-2.38462 2.69231 0.655263',\n  '-2.38462 2.84615 0.797368',\n  '-2.38462 3 0.947368',\n  '-2.23077 -3 0.828947',\n  '-2.23077 -2.84615 0.678947',\n  '-2.23077 -2.69231 0.536842',\n  '-2.23077 -2.53846 0.402632',\n  '-2.23077 -2.38462 0.276316',\n  '-2.23077 -2.23077 0.157895',\n  '-2.23077 -2.07692 0.0473684',\n  '-2.23077 -1.92308 -0.0552632',\n  '-2.23077 -1.76923 -0.15',\n  '-2.23077 -1.61538 -0.236842',\n  '-2.23077 -1.46154 -0.315789',\n  '-2.23077 -1.30769 -0.386842',\n  '-2.23077 -1.15385 -0.45',\n  '-2.23077 -1 -0.505263',\n  '-2.23077 -0.846154 -0.552632',\n  '-2.23077 -0.692308 -0.592105',\n  '-2.23077 -0.538462 -0.623684',\n  '-2.23077 -0.384615 -0.647368',\n  '-2.23077 -0.230769 -0.663158',\n  '-2.23077 -0.0769231 -0.671053',\n  '-2.23077 0.0769231 -0.671053',\n  '-2.23077 0.230769 -0.663158',\n  '-2.23077 0.384615 -0.647368',\n  '-2.23077 0.538462 -0.623684',\n  '-2.23077 0.692308 -0.592105',\n  '-2.23077 0.846154 -0.552632',\n  '-2.23077 1 -0.505263',\n  '-2.23077 1.15385 -0.45',\n  '-2.23077 1.30769 -0.386842',\n  '-2.23077 1.46154 -0.315789',\n  '-2.23077 1.61538 -0.236842',\n  '-2.23077 1.76923 -0.15',\n  '-2.23077 1.92308 -0.0552632',\n  '-2.23077 2.07692 0.0473684',\n  '-2.23077 2.23077 0.157895',\n  '-2.23077 2.38462 0.276316',\n  '-2.23077 2.53846 0.402632',\n  '-2.23077 2.69231 0.536842',\n  '-2.23077 2.84615 0.678947',\n  '-2.23077 3 0.828947',\n  '-2.07692 -3 0.718421',\n  '-2.07692 -2.84615 0.568421',\n  '-2.07692 -2.69231 0.426316',\n  '-2.07692 -2.53846 0.292105',\n  '-2.07692 -2.38462 0.165789',\n  '-2.07692 -2.23077 0.0473684',\n  '-2.07692 -2.07692 -0.0631579',\n  '-2.07692 -1.92308 -0.165789',\n  '-2.07692 -1.76923 -0.260526',\n  '-2.07692 -1.61538 -0.347368',\n  '-2.07692 -1.46154 -0.426316',\n  '-2.07692 -1.30769 -0.497368',\n  '-2.07692 -1.15385 -0.560526',\n  '-2.07692 -1 -0.615789',\n  '-2.07692 -0.846154 -0.663158',\n  '-2.07692 -0.692308 -0.702632',\n  '-2.07692 -0.538462 -0.734211',\n  '-2.07692 -0.384615 -0.757895',\n  '-2.07692 -0.230769 -0.773684',\n  '-2.07692 -0.0769231 -0.781579',\n  '-2.07692 0.0769231 -0.781579',\n  '-2.07692 0.230769 -0.773684',\n  '-2.07692 0.384615 -0.757895',\n  '-2.07692 0.538462 -0.734211',\n  '-2.07692 0.692308 -0.702632',\n  '-2.07692 0.846154 -0.663158',\n  '-2.07692 1 -0.615789',\n  '-2.07692 1.15385 -0.560526',\n  '-2.07692 1.30769 -0.497368',\n  '-2.07692 1.46154 -0.426316',\n  '-2.07692 1.61538 -0.347368',\n  '-2.07692 1.76923 -0.260526',\n  '-2.07692 1.92308 -0.165789',\n  '-2.07692 2.07692 -0.0631579',\n  '-2.07692 2.23077 0.0473684',\n  '-2.07692 2.38462 0.165789',\n  '-2.07692 2.53846 0.292105',\n  '-2.07692 2.69231 0.426316',\n  '-2.07692 2.84615 0.568421',\n  '-2.07692 3 0.718421',\n  '-1.92308 -3 0.615789',\n  '-1.92308 -2.84615 0.465789',\n  '-1.92308 -2.69231 0.323684',\n  '-1.92308 -2.53846 0.189474',\n  '-1.92308 -2.38462 0.0631579',\n  '-1.92308 -2.23077 -0.0552632',\n  '-1.92308 -2.07692 -0.165789',\n  '-1.92308 -1.92308 -0.268421',\n  '-1.92308 -1.76923 -0.363158',\n  '-1.92308 -1.61538 -0.45',\n  '-1.92308 -1.46154 -0.528947',\n  '-1.92308 -1.30769 -0.6',\n  '-1.92308 -1.15385 -0.663158',\n  '-1.92308 -1 -0.718421',\n  '-1.92308 -0.846154 -0.765789',\n  '-1.92308 -0.692308 -0.805263',\n  '-1.92308 -0.538462 -0.836842',\n  '-1.92308 -0.384615 -0.860526',\n  '-1.92308 -0.230769 -0.876316',\n  '-1.92308 -0.0769231 -0.884211',\n  '-1.92308 0.0769231 -0.884211',\n  '-1.92308 0.230769 -0.876316',\n  '-1.92308 0.384615 -0.860526',\n  '-1.92308 0.538462 -0.836842',\n  '-1.92308 0.692308 -0.805263',\n  '-1.92308 0.846154 -0.765789',\n  '-1.92308 1 -0.718421',\n  '-1.92308 1.15385 -0.663158',\n  '-1.92308 1.30769 -0.6',\n  '-1.92308 1.46154 -0.528947',\n  '-1.92308 1.61538 -0.45',\n  '-1.92308 1.76923 -0.363158',\n  '-1.92308 1.92308 -0.268421',\n  '-1.92308 2.07692 -0.165789',\n  '-1.92308 2.23077 -0.0552632',\n  '-1.92308 2.38462 0.0631579',\n  '-1.92308 2.53846 0.189474',\n  '-1.92308 2.69231 0.323684',\n  '-1.92308 2.84615 0.465789',\n  '-1.92308 3 0.615789',\n  '-1.76923 -3 0.521053',\n  '-1.76923 -2.84615 0.371053',\n  '-1.76923 -2.69231 0.228947',\n  '-1.76923 -2.53846 0.0947368',\n  '-1.76923 -2.38462 -0.0315789',\n  '-1.76923 -2.23077 -0.15',\n  '-1.76923 -2.07692 -0.260526',\n  '-1.76923 -1.92308 -0.363158',\n  '-1.76923 -1.76923 -0.457895',\n  '-1.76923 -1.61538 -0.544737',\n  '-1.76923 -1.46154 -0.623684',\n  '-1.76923 -1.30769 -0.694737',\n  '-1.76923 -1.15385 -0.757895',\n  '-1.76923 -1 -0.813158',\n  '-1.76923 -0.846154 -0.860526',\n  '-1.76923 -0.692308 -0.9',\n  '-1.76923 -0.538462 -0.931579',\n  '-1.76923 -0.384615 -0.955263',\n  '-1.76923 -0.230769 -0.971053',\n  '-1.76923 -0.0769231 -0.978947',\n  '-1.76923 0.0769231 -0.978947',\n  '-1.76923 0.230769 -0.971053',\n  '-1.76923 0.384615 -0.955263',\n  '-1.76923 0.538462 -0.931579',\n  '-1.76923 0.692308 -0.9',\n  '-1.76923 0.846154 -0.860526',\n  '-1.76923 1 -0.813158',\n  '-1.76923 1.15385 -0.757895',\n  '-1.76923 1.30769 -0.694737',\n  '-1.76923 1.46154 -0.623684',\n  '-1.76923 1.61538 -0.544737',\n  '-1.76923 1.76923 -0.457895',\n  '-1.76923 1.92308 -0.363158',\n  '-1.76923 2.07692 -0.260526',\n  '-1.76923 2.23077 -0.15',\n  '-1.76923 2.38462 -0.0315789',\n  '-1.76923 2.53846 0.0947368',\n  '-1.76923 2.69231 0.228947',\n  '-1.76923 2.84615 0.371053',\n  '-1.76923 3 0.521053',\n  '-1.61538 -3 0.434211',\n  '-1.61538 -2.84615 0.284211',\n  '-1.61538 -2.69231 0.142105',\n  '-1.61538 -2.53846 0.00789474',\n  '-1.61538 -2.38462 -0.118421',\n  '-1.61538 -2.23077 -0.236842',\n  '-1.61538 -2.07692 -0.347368',\n  '-1.61538 -1.92308 -0.45',\n  '-1.61538 -1.76923 -0.544737',\n  '-1.61538 -1.61538 -0.631579',\n  '-1.61538 -1.46154 -0.710526',\n  '-1.61538 -1.30769 -0.781579',\n  '-1.61538 -1.15385 -0.844737',\n  '-1.61538 -1 -0.9',\n  '-1.61538 -0.846154 -0.947368',\n  '-1.61538 -0.692308 -0.986842',\n  '-1.61538 -0.538462 -1.01842',\n  '-1.61538 -0.384615 -1.04211',\n  '-1.61538 -0.230769 -1.05789',\n  '-1.61538 -0.0769231 -1.06579',\n  '-1.61538 0.0769231 -1.06579',\n  '-1.61538 0.230769 -1.05789',\n  '-1.61538 0.384615 -1.04211',\n  '-1.61538 0.538462 -1.01842',\n  '-1.61538 0.692308 -0.986842',\n  '-1.61538 0.846154 -0.947368',\n  '-1.61538 1 -0.9',\n  '-1.61538 1.15385 -0.844737',\n  '-1.61538 1.30769 -0.781579',\n  '-1.61538 1.46154 -0.710526',\n  '-1.61538 1.61538 -0.631579',\n  '-1.61538 1.76923 -0.544737',\n  '-1.61538 1.92308 -0.45',\n  '-1.61538 2.07692 -0.347368',\n  '-1.61538 2.23077 -0.236842',\n  '-1.61538 2.38462 -0.118421',\n  '-1.61538 2.53846 0.00789474',\n  '-1.61538 2.69231 0.142105',\n  '-1.61538 2.84615 0.284211',\n  '-1.61538 3 0.434211',\n  '-1.46154 -3 0.355263',\n  '-1.46154 -2.84615 0.205263',\n  '-1.46154 -2.69231 0.0631579',\n  '-1.46154 -2.53846 -0.0710526',\n  '-1.46154 -2.38462 -0.197368',\n  '-1.46154 -2.23077 -0.315789',\n  '-1.46154 -2.07692 -0.426316',\n  '-1.46154 -1.92308 -0.528947',\n  '-1.46154 -1.76923 -0.623684',\n  '-1.46154 -1.61538 -0.710526',\n  '-1.46154 -1.46154 -0.789474',\n  '-1.46154 -1.30769 -0.860526',\n  '-1.46154 -1.15385 -0.923684',\n  '-1.46154 -1 -0.978947',\n  '-1.46154 -0.846154 -1.02632',\n  '-1.46154 -0.692308 -1.06579',\n  '-1.46154 -0.538462 -1.09737',\n  '-1.46154 -0.384615 -1.12105',\n  '-1.46154 -0.230769 -1.13684',\n  '-1.46154 -0.0769231 -1.14474',\n  '-1.46154 0.0769231 -1.14474',\n  '-1.46154 0.230769 -1.13684',\n  '-1.46154 0.384615 -1.12105',\n  '-1.46154 0.538462 -1.09737',\n  '-1.46154 0.692308 -1.06579',\n  '-1.46154 0.846154 -1.02632',\n  '-1.46154 1 -0.978947',\n  '-1.46154 1.15385 -0.923684',\n  '-1.46154 1.30769 -0.860526',\n  '-1.46154 1.46154 -0.789474',\n  '-1.46154 1.61538 -0.710526',\n  '-1.46154 1.76923 -0.623684',\n  '-1.46154 1.92308 -0.528947',\n  '-1.46154 2.07692 -0.426316',\n  '-1.46154 2.23077 -0.315789',\n  '-1.46154 2.38462 -0.197368',\n  '-1.46154 2.53846 -0.0710526',\n  '-1.46154 2.69231 0.0631579',\n  '-1.46154 2.84615 0.205263',\n  '-1.46154 3 0.355263',\n  '-1.30769 -3 0.284211',\n  '-1.30769 -2.84615 0.134211',\n  '-1.30769 -2.69231 -0.00789474',\n  '-1.30769 -2.53846 -0.142105',\n  '-1.30769 -2.38462 -0.268421',\n  '-1.30769 -2.23077 -0.386842',\n  '-1.30769 -2.07692 -0.497368',\n  '-1.30769 -1.92308 -0.6',\n  '-1.30769 -1.76923 -0.694737',\n  '-1.30769 -1.61538 -0.781579',\n  '-1.30769 -1.46154 -0.860526',\n  '-1.30769 -1.30769 -0.931579',\n  '-1.30769 -1.15385 -0.994737',\n  '-1.30769 -1 -1.05',\n  '-1.30769 -0.846154 -1.09737',\n  '-1.30769 -0.692308 -1.13684',\n  '-1.30769 -0.538462 -1.16842',\n  '-1.30769 -0.384615 -1.19211',\n  '-1.30769 -0.230769 -1.20789',\n  '-1.30769 -0.0769231 -1.21579',\n  '-1.30769 0.0769231 -1.21579',\n  '-1.30769 0.230769 -1.20789',\n  '-1.30769 0.384615 -1.19211',\n  '-1.30769 0.538462 -1.16842',\n  '-1.30769 0.692308 -1.13684',\n  '-1.30769 0.846154 -1.09737',\n  '-1.30769 1 -1.05',\n  '-1.30769 1.15385 -0.994737',\n  '-1.30769 1.30769 -0.931579',\n  '-1.30769 1.46154 -0.860526',\n  '-1.30769 1.61538 -0.781579',\n  '-1.30769 1.76923 -0.694737',\n  '-1.30769 1.92308 -0.6',\n  '-1.30769 2.07692 -0.497368',\n  '-1.30769 2.23077 -0.386842',\n  '-1.30769 2.38462 -0.268421',\n  '-1.30769 2.53846 -0.142105',\n  '-1.30769 2.69231 -0.00789474',\n  '-1.30769 2.84615 0.134211',\n  '-1.30769 3 0.284211',\n  '-1.15385 -3 0.221053',\n  '-1.15385 -2.84615 0.0710526',\n  '-1.15385 -2.69231 -0.0710526',\n  '-1.15385 -2.53846 -0.205263',\n  '-1.15385 -2.38462 -0.331579',\n  '-1.15385 -2.23077 -0.45',\n  '-1.15385 -2.07692 -0.560526',\n  '-1.15385 -1.92308 -0.663158',\n  '-1.15385 -1.76923 -0.757895',\n  '-1.15385 -1.61538 -0.844737',\n  '-1.15385 -1.46154 -0.923684',\n  '-1.15385 -1.30769 -0.994737',\n  '-1.15385 -1.15385 -1.05789',\n  '-1.15385 -1 -1.11316',\n  '-1.15385 -0.846154 -1.16053',\n  '-1.15385 -0.692308 -1.2',\n  '-1.15385 -0.538462 -1.23158',\n  '-1.15385 -0.384615 -1.25526',\n  '-1.15385 -0.230769 -1.27105',\n  '-1.15385 -0.0769231 -1.27895',\n  '-1.15385 0.0769231 -1.27895',\n  '-1.15385 0.230769 -1.27105',\n  '-1.15385 0.384615 -1.25526',\n  '-1.15385 0.538462 -1.23158',\n  '-1.15385 0.692308 -1.2',\n  '-1.15385 0.846154 -1.16053',\n  '-1.15385 1 -1.11316',\n  '-1.15385 1.15385 -1.05789',\n  '-1.15385 1.30769 -0.994737',\n  '-1.15385 1.46154 -0.923684',\n  '-1.15385 1.61538 -0.844737',\n  '-1.15385 1.76923 -0.757895',\n  '-1.15385 1.92308 -0.663158',\n  '-1.15385 2.07692 -0.560526',\n  '-1.15385 2.23077 -0.45',\n  '-1.15385 2.38462 -0.331579',\n  '-1.15385 2.53846 -0.205263',\n  '-1.15385 2.69231 -0.0710526',\n  '-1.15385 2.84615 0.0710526',\n  '-1.15385 3 0.221053',\n  '-1 -3 0.165789',\n  '-1 -2.84615 0.0157895',\n  '-1 -2.69231 -0.126316',\n  '-1 -2.53846 -0.260526',\n  '-1 -2.38462 -0.386842',\n  '-1 -2.23077 -0.505263',\n  '-1 -2.07692 -0.615789',\n  '-1 -1.92308 -0.718421',\n  '-1 -1.76923 -0.813158',\n  '-1 -1.61538 -0.9',\n  '-1 -1.46154 -0.978947',\n  '-1 -1.30769 -1.05',\n  '-1 -1.15385 -1.11316',\n  '-1 -1 -1.16842',\n  '-1 -0.846154 -1.21579',\n  '-1 -0.692308 -1.25526',\n  '-1 -0.538462 -1.28684',\n  '-1 -0.384615 -1.31053',\n  '-1 -0.230769 -1.32632',\n  '-1 -0.0769231 -1.33421',\n  '-1 0.0769231 -1.33421',\n  '-1 0.230769 -1.32632',\n  '-1 0.384615 -1.31053',\n  '-1 0.538462 -1.28684',\n  '-1 0.692308 -1.25526',\n  '-1 0.846154 -1.21579',\n  '-1 1 -1.16842',\n  '-1 1.15385 -1.11316',\n  '-1 1.30769 -1.05',\n  '-1 1.46154 -0.978947',\n  '-1 1.61538 -0.9',\n  '-1 1.76923 -0.813158',\n  '-1 1.92308 -0.718421',\n  '-1 2.07692 -0.615789',\n  '-1 2.23077 -0.505263',\n  '-1 2.38462 -0.386842',\n  '-1 2.53846 -0.260526',\n  '-1 2.69231 -0.126316',\n  '-1 2.84615 0.0157895',\n  '-1 3 0.165789',\n  '-0.846154 -3 0.118421',\n  '-0.846154 -2.84615 -0.0315789',\n  '-0.846154 -2.69231 -0.173684',\n  '-0.846154 -2.53846 -0.307895',\n  '-0.846154 -2.38462 -0.434211',\n  '-0.846154 -2.23077 -0.552632',\n  '-0.846154 -2.07692 -0.663158',\n  '-0.846154 -1.92308 -0.765789',\n  '-0.846154 -1.76923 -0.860526',\n  '-0.846154 -1.61538 -0.947368',\n  '-0.846154 -1.46154 -1.02632',\n  '-0.846154 -1.30769 -1.09737',\n  '-0.846154 -1.15385 -1.16053',\n  '-0.846154 -1 -1.21579',\n  '-0.846154 -0.846154 -1.26316',\n  '-0.846154 -0.692308 -1.30263',\n  '-0.846154 -0.538462 -1.33421',\n  '-0.846154 -0.384615 -1.35789',\n  '-0.846154 -0.230769 -1.37368',\n  '-0.846154 -0.0769231 -1.38158',\n  '-0.846154 0.0769231 -1.38158',\n  '-0.846154 0.230769 -1.37368',\n  '-0.846154 0.384615 -1.35789',\n  '-0.846154 0.538462 -1.33421',\n  '-0.846154 0.692308 -1.30263',\n  '-0.846154 0.846154 -1.26316',\n  '-0.846154 1 -1.21579',\n  '-0.846154 1.15385 -1.16053',\n  '-0.846154 1.30769 -1.09737',\n  '-0.846154 1.46154 -1.02632',\n  '-0.846154 1.61538 -0.947368',\n  '-0.846154 1.76923 -0.860526',\n  '-0.846154 1.92308 -0.765789',\n  '-0.846154 2.07692 -0.663158',\n  '-0.846154 2.23077 -0.552632',\n  '-0.846154 2.38462 -0.434211',\n  '-0.846154 2.53846 -0.307895',\n  '-0.846154 2.69231 -0.173684',\n  '-0.846154 2.84615 -0.0315789',\n  '-0.846154 3 0.118421',\n  '-0.692308 -3 0.0789474',\n  '-0.692308 -2.84615 -0.0710526',\n  '-0.692308 -2.69231 -0.213158',\n  '-0.692308 -2.53846 -0.347368',\n  '-0.692308 -2.38462 -0.473684',\n  '-0.692308 -2.23077 -0.592105',\n  '-0.692308 -2.07692 -0.702632',\n  '-0.692308 -1.92308 -0.805263',\n  '-0.692308 -1.76923 -0.9',\n  '-0.692308 -1.61538 -0.986842',\n  '-0.692308 -1.46154 -1.06579',\n  '-0.692308 -1.30769 -1.13684',\n  '-0.692308 -1.15385 -1.2',\n  '-0.692308 -1 -1.25526',\n  '-0.692308 -0.846154 -1.30263',\n  '-0.692308 -0.692308 -1.34211',\n  '-0.692308 -0.538462 -1.37368',\n  '-0.692308 -0.384615 -1.39737',\n  '-0.692308 -0.230769 -1.41316',\n  '-0.692308 -0.0769231 -1.42105',\n  '-0.692308 0.0769231 -1.42105',\n  '-0.692308 0.230769 -1.41316',\n  '-0.692308 0.384615 -1.39737',\n  '-0.692308 0.538462 -1.37368',\n  '-0.692308 0.692308 -1.34211',\n  '-0.692308 0.846154 -1.30263',\n  '-0.692308 1 -1.25526',\n  '-0.692308 1.15385 -1.2',\n  '-0.692308 1.30769 -1.13684',\n  '-0.692308 1.46154 -1.06579',\n  '-0.692308 1.61538 -0.986842',\n  '-0.692308 1.76923 -0.9',\n  '-0.692308 1.92308 -0.805263',\n  '-0.692308 2.07692 -0.702632',\n  '-0.692308 2.23077 -0.592105',\n  '-0.692308 2.38462 -0.473684',\n  '-0.692308 2.53846 -0.347368',\n  '-0.692308 2.69231 -0.213158',\n  '-0.692308 2.84615 -0.0710526',\n  '-0.692308 3 0.0789474',\n  '-0.538462 -3 0.0473684',\n  '-0.538462 -2.84615 -0.102632',\n  '-0.538462 -2.69231 -0.244737',\n  '-0.538462 -2.53846 -0.378947',\n  '-0.538462 -2.38462 -0.505263',\n  '-0.538462 -2.23077 -0.623684',\n  '-0.538462 -2.07692 -0.734211',\n  '-0.538462 -1.92308 -0.836842',\n  '-0.538462 -1.76923 -0.931579',\n  '-0.538462 -1.61538 -1.01842',\n  '-0.538462 -1.46154 -1.09737',\n  '-0.538462 -1.30769 -1.16842',\n  '-0.538462 -1.15385 -1.23158',\n  '-0.538462 -1 -1.28684',\n  '-0.538462 -0.846154 -1.33421',\n  '-0.538462 -0.692308 -1.37368',\n  '-0.538462 -0.538462 -1.40526',\n  '-0.538462 -0.384615 -1.42895',\n  '-0.538462 -0.230769 -1.44474',\n  '-0.538462 -0.0769231 -1.45263',\n  '-0.538462 0.0769231 -1.45263',\n  '-0.538462 0.230769 -1.44474',\n  '-0.538462 0.384615 -1.42895',\n  '-0.538462 0.538462 -1.40526',\n  '-0.538462 0.692308 -1.37368',\n  '-0.538462 0.846154 -1.33421',\n  '-0.538462 1 -1.28684',\n  '-0.538462 1.15385 -1.23158',\n  '-0.538462 1.30769 -1.16842',\n  '-0.538462 1.46154 -1.09737',\n  '-0.538462 1.61538 -1.01842',\n  '-0.538462 1.76923 -0.931579',\n  '-0.538462 1.92308 -0.836842',\n  '-0.538462 2.07692 -0.734211',\n  '-0.538462 2.23077 -0.623684',\n  '-0.538462 2.38462 -0.505263',\n  '-0.538462 2.53846 -0.378947',\n  '-0.538462 2.69231 -0.244737',\n  '-0.538462 2.84615 -0.102632',\n  '-0.538462 3 0.0473684',\n  '-0.384615 -3 0.0236842',\n  '-0.384615 -2.84615 -0.126316',\n  '-0.384615 -2.69231 -0.268421',\n  '-0.384615 -2.53846 -0.402632',\n  '-0.384615 -2.38462 -0.528947',\n  '-0.384615 -2.23077 -0.647368',\n  '-0.384615 -2.07692 -0.757895',\n  '-0.384615 -1.92308 -0.860526',\n  '-0.384615 -1.76923 -0.955263',\n  '-0.384615 -1.61538 -1.04211',\n  '-0.384615 -1.46154 -1.12105',\n  '-0.384615 -1.30769 -1.19211',\n  '-0.384615 -1.15385 -1.25526',\n  '-0.384615 -1 -1.31053',\n  '-0.384615 -0.846154 -1.35789',\n  '-0.384615 -0.692308 -1.39737',\n  '-0.384615 -0.538462 -1.42895',\n  '-0.384615 -0.384615 -1.45263',\n  '-0.384615 -0.230769 -1.46842',\n  '-0.384615 -0.0769231 -1.47632',\n  '-0.384615 0.0769231 -1.47632',\n  '-0.384615 0.230769 -1.46842',\n  '-0.384615 0.384615 -1.45263',\n  '-0.384615 0.538462 -1.42895',\n  '-0.384615 0.692308 -1.39737',\n  '-0.384615 0.846154 -1.35789',\n  '-0.384615 1 -1.31053',\n  '-0.384615 1.15385 -1.25526',\n  '-0.384615 1.30769 -1.19211',\n  '-0.384615 1.46154 -1.12105',\n  '-0.384615 1.61538 -1.04211',\n  '-0.384615 1.76923 -0.955263',\n  '-0.384615 1.92308 -0.860526',\n  '-0.384615 2.07692 -0.757895',\n  '-0.384615 2.23077 -0.647368',\n  '-0.384615 2.38462 -0.528947',\n  '-0.384615 2.53846 -0.402632',\n  '-0.384615 2.69231 -0.268421',\n  '-0.384615 2.84615 -0.126316',\n  '-0.384615 3 0.0236842',\n  '-0.230769 -3 0.00789474',\n  '-0.230769 -2.84615 -0.142105',\n  '-0.230769 -2.69231 -0.284211',\n  '-0.230769 -2.53846 -0.418421',\n  '-0.230769 -2.38462 -0.544737',\n  '-0.230769 -2.23077 -0.663158',\n  '-0.230769 -2.07692 -0.773684',\n  '-0.230769 -1.92308 -0.876316',\n  '-0.230769 -1.76923 -0.971053',\n  '-0.230769 -1.61538 -1.05789',\n  '-0.230769 -1.46154 -1.13684',\n  '-0.230769 -1.30769 -1.20789',\n  '-0.230769 -1.15385 -1.27105',\n  '-0.230769 -1 -1.32632',\n  '-0.230769 -0.846154 -1.37368',\n  '-0.230769 -0.692308 -1.41316',\n  '-0.230769 -0.538462 -1.44474',\n  '-0.230769 -0.384615 -1.46842',\n  '-0.230769 -0.230769 -1.48421',\n  '-0.230769 -0.0769231 -1.49211',\n  '-0.230769 0.0769231 -1.49211',\n  '-0.230769 0.230769 -1.48421',\n  '-0.230769 0.384615 -1.46842',\n  '-0.230769 0.538462 -1.44474',\n  '-0.230769 0.692308 -1.41316',\n  '-0.230769 0.846154 -1.37368',\n  '-0.230769 1 -1.32632',\n  '-0.230769 1.15385 -1.27105',\n  '-0.230769 1.30769 -1.20789',\n  '-0.230769 1.46154 -1.13684',\n  '-0.230769 1.61538 -1.05789',\n  '-0.230769 1.76923 -0.971053',\n  '-0.230769 1.92308 -0.876316',\n  '-0.230769 2.07692 -0.773684',\n  '-0.230769 2.23077 -0.663158',\n  '-0.230769 2.38462 -0.544737',\n  '-0.230769 2.53846 -0.418421',\n  '-0.230769 2.69231 -0.284211',\n  '-0.230769 2.84615 -0.142105',\n  '-0.230769 3 0.00789474',\n  '-0.0769231 -3 0',\n  '-0.0769231 -2.84615 -0.15',\n  '-0.0769231 -2.69231 -0.292105',\n  '-0.0769231 -2.53846 -0.426316',\n  '-0.0769231 -2.38462 -0.552632',\n  '-0.0769231 -2.23077 -0.671053',\n  '-0.0769231 -2.07692 -0.781579',\n  '-0.0769231 -1.92308 -0.884211',\n  '-0.0769231 -1.76923 -0.978947',\n  '-0.0769231 -1.61538 -1.06579',\n  '-0.0769231 -1.46154 -1.14474',\n  '-0.0769231 -1.30769 -1.21579',\n  '-0.0769231 -1.15385 -1.27895',\n  '-0.0769231 -1 -1.33421',\n  '-0.0769231 -0.846154 -1.38158',\n  '-0.0769231 -0.692308 -1.42105',\n  '-0.0769231 -0.538462 -1.45263',\n  '-0.0769231 -0.384615 -1.47632',\n  '-0.0769231 -0.230769 -1.49211',\n  '-0.0769231 -0.0769231 -1.5',\n  '-0.0769231 0.0769231 -1.5',\n  '-0.0769231 0.230769 -1.49211',\n  '-0.0769231 0.384615 -1.47632',\n  '-0.0769231 0.538462 -1.45263',\n  '-0.0769231 0.692308 -1.42105',\n  '-0.0769231 0.846154 -1.38158',\n  '-0.0769231 1 -1.33421',\n  '-0.0769231 1.15385 -1.27895',\n  '-0.0769231 1.30769 -1.21579',\n  '-0.0769231 1.46154 -1.14474',\n  '-0.0769231 1.61538 -1.06579',\n  '-0.0769231 1.76923 -0.978947',\n  '-0.0769231 1.92308 -0.884211',\n  '-0.0769231 2.07692 -0.781579',\n  '-0.0769231 2.23077 -0.671053',\n  '-0.0769231 2.38462 -0.552632',\n  '-0.0769231 2.53846 -0.426316',\n  '-0.0769231 2.69231 -0.292105',\n  '-0.0769231 2.84615 -0.15',\n  '-0.0769231 3 0',\n  '0.0769231 -3 0',\n  '0.0769231 -2.84615 -0.15',\n  '0.0769231 -2.69231 -0.292105',\n  '0.0769231 -2.53846 -0.426316',\n  '0.0769231 -2.38462 -0.552632',\n  '0.0769231 -2.23077 -0.671053',\n  '0.0769231 -2.07692 -0.781579',\n  '0.0769231 -1.92308 -0.884211',\n  '0.0769231 -1.76923 -0.978947',\n  '0.0769231 -1.61538 -1.06579',\n  '0.0769231 -1.46154 -1.14474',\n  '0.0769231 -1.30769 -1.21579',\n  '0.0769231 -1.15385 -1.27895',\n  '0.0769231 -1 -1.33421',\n  '0.0769231 -0.846154 -1.38158',\n  '0.0769231 -0.692308 -1.42105',\n  '0.0769231 -0.538462 -1.45263',\n  '0.0769231 -0.384615 -1.47632',\n  '0.0769231 -0.230769 -1.49211',\n  '0.0769231 -0.0769231 -1.5',\n  '0.0769231 0.0769231 -1.5',\n  '0.0769231 0.230769 -1.49211',\n  '0.0769231 0.384615 -1.47632',\n  '0.0769231 0.538462 -1.45263',\n  '0.0769231 0.692308 -1.42105',\n  '0.0769231 0.846154 -1.38158',\n  '0.0769231 1 -1.33421',\n  '0.0769231 1.15385 -1.27895',\n  '0.0769231 1.30769 -1.21579',\n  '0.0769231 1.46154 -1.14474',\n  '0.0769231 1.61538 -1.06579',\n  '0.0769231 1.76923 -0.978947',\n  '0.0769231 1.92308 -0.884211',\n  '0.0769231 2.07692 -0.781579',\n  '0.0769231 2.23077 -0.671053',\n  '0.0769231 2.38462 -0.552632',\n  '0.0769231 2.53846 -0.426316',\n  '0.0769231 2.69231 -0.292105',\n  '0.0769231 2.84615 -0.15',\n  '0.0769231 3 0',\n  '0.230769 -3 0.00789474',\n  '0.230769 -2.84615 -0.142105',\n  '0.230769 -2.69231 -0.284211',\n  '0.230769 -2.53846 -0.418421',\n  '0.230769 -2.38462 -0.544737',\n  '0.230769 -2.23077 -0.663158',\n  '0.230769 -2.07692 -0.773684',\n  '0.230769 -1.92308 -0.876316',\n  '0.230769 -1.76923 -0.971053',\n  '0.230769 -1.61538 -1.05789',\n  '0.230769 -1.46154 -1.13684',\n  '0.230769 -1.30769 -1.20789',\n  '0.230769 -1.15385 -1.27105',\n  '0.230769 -1 -1.32632',\n  '0.230769 -0.846154 -1.37368',\n  '0.230769 -0.692308 -1.41316',\n  '0.230769 -0.538462 -1.44474',\n  '0.230769 -0.384615 -1.46842',\n  '0.230769 -0.230769 -1.48421',\n  '0.230769 -0.0769231 -1.49211',\n  '0.230769 0.0769231 -1.49211',\n  '0.230769 0.230769 -1.48421',\n  '0.230769 0.384615 -1.46842',\n  '0.230769 0.538462 -1.44474',\n  '0.230769 0.692308 -1.41316',\n  '0.230769 0.846154 -1.37368',\n  '0.230769 1 -1.32632',\n  '0.230769 1.15385 -1.27105',\n  '0.230769 1.30769 -1.20789',\n  '0.230769 1.46154 -1.13684',\n  '0.230769 1.61538 -1.05789',\n  '0.230769 1.76923 -0.971053',\n  '0.230769 1.92308 -0.876316',\n  '0.230769 2.07692 -0.773684',\n  '0.230769 2.23077 -0.663158',\n  '0.230769 2.38462 -0.544737',\n  '0.230769 2.53846 -0.418421',\n  '0.230769 2.69231 -0.284211',\n  '0.230769 2.84615 -0.142105',\n  '0.230769 3 0.00789474',\n  '0.384615 -3 0.0236842',\n  '0.384615 -2.84615 -0.126316',\n  '0.384615 -2.69231 -0.268421',\n  '0.384615 -2.53846 -0.402632',\n  '0.384615 -2.38462 -0.528947',\n  '0.384615 -2.23077 -0.647368',\n  '0.384615 -2.07692 -0.757895',\n  '0.384615 -1.92308 -0.860526',\n  '0.384615 -1.76923 -0.955263',\n  '0.384615 -1.61538 -1.04211',\n  '0.384615 -1.46154 -1.12105',\n  '0.384615 -1.30769 -1.19211',\n  '0.384615 -1.15385 -1.25526',\n  '0.384615 -1 -1.31053',\n  '0.384615 -0.846154 -1.35789',\n  '0.384615 -0.692308 -1.39737',\n  '0.384615 -0.538462 -1.42895',\n  '0.384615 -0.384615 -1.45263',\n  '0.384615 -0.230769 -1.46842',\n  '0.384615 -0.0769231 -1.47632',\n  '0.384615 0.0769231 -1.47632',\n  '0.384615 0.230769 -1.46842',\n  '0.384615 0.384615 -1.45263',\n  '0.384615 0.538462 -1.42895',\n  '0.384615 0.692308 -1.39737',\n  '0.384615 0.846154 -1.35789',\n  '0.384615 1 -1.31053',\n  '0.384615 1.15385 -1.25526',\n  '0.384615 1.30769 -1.19211',\n  '0.384615 1.46154 -1.12105',\n  '0.384615 1.61538 -1.04211',\n  '0.384615 1.76923 -0.955263',\n  '0.384615 1.92308 -0.860526',\n  '0.384615 2.07692 -0.757895',\n  '0.384615 2.23077 -0.647368',\n  '0.384615 2.38462 -0.528947',\n  '0.384615 2.53846 -0.402632',\n  '0.384615 2.69231 -0.268421',\n  '0.384615 2.84615 -0.126316',\n  '0.384615 3 0.0236842',\n  '0.538462 -3 0.0473684',\n  '0.538462 -2.84615 -0.102632',\n  '0.538462 -2.69231 -0.244737',\n  '0.538462 -2.53846 -0.378947',\n  '0.538462 -2.38462 -0.505263',\n  '0.538462 -2.23077 -0.623684',\n  '0.538462 -2.07692 -0.734211',\n  '0.538462 -1.92308 -0.836842',\n  '0.538462 -1.76923 -0.931579',\n  '0.538462 -1.61538 -1.01842',\n  '0.538462 -1.46154 -1.09737',\n  '0.538462 -1.30769 -1.16842',\n  '0.538462 -1.15385 -1.23158',\n  '0.538462 -1 -1.28684',\n  '0.538462 -0.846154 -1.33421',\n  '0.538462 -0.692308 -1.37368',\n  '0.538462 -0.538462 -1.40526',\n  '0.538462 -0.384615 -1.42895',\n  '0.538462 -0.230769 -1.44474',\n  '0.538462 -0.0769231 -1.45263',\n  '0.538462 0.0769231 -1.45263',\n  '0.538462 0.230769 -1.44474',\n  '0.538462 0.384615 -1.42895',\n  '0.538462 0.538462 -1.40526',\n  '0.538462 0.692308 -1.37368',\n  '0.538462 0.846154 -1.33421',\n  '0.538462 1 -1.28684',\n  '0.538462 1.15385 -1.23158',\n  '0.538462 1.30769 -1.16842',\n  '0.538462 1.46154 -1.09737',\n  '0.538462 1.61538 -1.01842',\n  '0.538462 1.76923 -0.931579',\n  '0.538462 1.92308 -0.836842',\n  '0.538462 2.07692 -0.734211',\n  '0.538462 2.23077 -0.623684',\n  '0.538462 2.38462 -0.505263',\n  '0.538462 2.53846 -0.378947',\n  '0.538462 2.69231 -0.244737',\n  '0.538462 2.84615 -0.102632',\n  '0.538462 3 0.0473684',\n  '0.692308 -3 0.0789474',\n  '0.692308 -2.84615 -0.0710526',\n  '0.692308 -2.69231 -0.213158',\n  '0.692308 -2.53846 -0.347368',\n  '0.692308 -2.38462 -0.473684',\n  '0.692308 -2.23077 -0.592105',\n  '0.692308 -2.07692 -0.702632',\n  '0.692308 -1.92308 -0.805263',\n  '0.692308 -1.76923 -0.9',\n  '0.692308 -1.61538 -0.986842',\n  '0.692308 -1.46154 -1.06579',\n  '0.692308 -1.30769 -1.13684',\n  '0.692308 -1.15385 -1.2',\n  '0.692308 -1 -1.25526',\n  '0.692308 -0.846154 -1.30263',\n  '0.692308 -0.692308 -1.34211',\n  '0.692308 -0.538462 -1.37368',\n  '0.692308 -0.384615 -1.39737',\n  '0.692308 -0.230769 -1.41316',\n  '0.692308 -0.0769231 -1.42105',\n  '0.692308 0.0769231 -1.42105',\n  '0.692308 0.230769 -1.41316',\n  '0.692308 0.384615 -1.39737',\n  '0.692308 0.538462 -1.37368',\n  '0.692308 0.692308 -1.34211',\n  '0.692308 0.846154 -1.30263',\n  '0.692308 1 -1.25526',\n  '0.692308 1.15385 -1.2',\n  '0.692308 1.30769 -1.13684',\n  '0.692308 1.46154 -1.06579',\n  '0.692308 1.61538 -0.986842',\n  '0.692308 1.76923 -0.9',\n  '0.692308 1.92308 -0.805263',\n  '0.692308 2.07692 -0.702632',\n  '0.692308 2.23077 -0.592105',\n  '0.692308 2.38462 -0.473684',\n  '0.692308 2.53846 -0.347368',\n  '0.692308 2.69231 -0.213158',\n  '0.692308 2.84615 -0.0710526',\n  '0.692308 3 0.0789474',\n  '0.846154 -3 0.118421',\n  '0.846154 -2.84615 -0.0315789',\n  '0.846154 -2.69231 -0.173684',\n  '0.846154 -2.53846 -0.307895',\n  '0.846154 -2.38462 -0.434211',\n  '0.846154 -2.23077 -0.552632',\n  '0.846154 -2.07692 -0.663158',\n  '0.846154 -1.92308 -0.765789',\n  '0.846154 -1.76923 -0.860526',\n  '0.846154 -1.61538 -0.947368',\n  '0.846154 -1.46154 -1.02632',\n  '0.846154 -1.30769 -1.09737',\n  '0.846154 -1.15385 -1.16053',\n  '0.846154 -1 -1.21579',\n  '0.846154 -0.846154 -1.26316',\n  '0.846154 -0.692308 -1.30263',\n  '0.846154 -0.538462 -1.33421',\n  '0.846154 -0.384615 -1.35789',\n  '0.846154 -0.230769 -1.37368',\n  '0.846154 -0.0769231 -1.38158',\n  '0.846154 0.0769231 -1.38158',\n  '0.846154 0.230769 -1.37368',\n  '0.846154 0.384615 -1.35789',\n  '0.846154 0.538462 -1.33421',\n  '0.846154 0.692308 -1.30263',\n  '0.846154 0.846154 -1.26316',\n  '0.846154 1 -1.21579',\n  '0.846154 1.15385 -1.16053',\n  '0.846154 1.30769 -1.09737',\n  '0.846154 1.46154 -1.02632',\n  '0.846154 1.61538 -0.947368',\n  '0.846154 1.76923 -0.860526',\n  '0.846154 1.92308 -0.765789',\n  '0.846154 2.07692 -0.663158',\n  '0.846154 2.23077 -0.552632',\n  '0.846154 2.38462 -0.434211',\n  '0.846154 2.53846 -0.307895',\n  '0.846154 2.69231 -0.173684',\n  '0.846154 2.84615 -0.0315789',\n  '0.846154 3 0.118421',\n  '1 -3 0.165789',\n  '1 -2.84615 0.0157895',\n  '1 -2.69231 -0.126316',\n  '1 -2.53846 -0.260526',\n  '1 -2.38462 -0.386842',\n  '1 -2.23077 -0.505263',\n  '1 -2.07692 -0.615789',\n  '1 -1.92308 -0.718421',\n  '1 -1.76923 -0.813158',\n  '1 -1.61538 -0.9',\n  '1 -1.46154 -0.978947',\n  '1 -1.30769 -1.05',\n  '1 -1.15385 -1.11316',\n  '1 -1 -1.16842',\n  '1 -0.846154 -1.21579',\n  '1 -0.692308 -1.25526',\n  '1 -0.538462 -1.28684',\n  '1 -0.384615 -1.31053',\n  '1 -0.230769 -1.32632',\n  '1 -0.0769231 -1.33421',\n  '1 0.0769231 -1.33421',\n  '1 0.230769 -1.32632',\n  '1 0.384615 -1.31053',\n  '1 0.538462 -1.28684',\n  '1 0.692308 -1.25526',\n  '1 0.846154 -1.21579',\n  '1 1 -1.16842',\n  '1 1.15385 -1.11316',\n  '1 1.30769 -1.05',\n  '1 1.46154 -0.978947',\n  '1 1.61538 -0.9',\n  '1 1.76923 -0.813158',\n  '1 1.92308 -0.718421',\n  '1 2.07692 -0.615789',\n  '1 2.23077 -0.505263',\n  '1 2.38462 -0.386842',\n  '1 2.53846 -0.260526',\n  '1 2.69231 -0.126316',\n  '1 2.84615 0.0157895',\n  '1 3 0.165789',\n  '1.15385 -3 0.221053',\n  '1.15385 -2.84615 0.0710526',\n  '1.15385 -2.69231 -0.0710526',\n  '1.15385 -2.53846 -0.205263',\n  '1.15385 -2.38462 -0.331579',\n  '1.15385 -2.23077 -0.45',\n  '1.15385 -2.07692 -0.560526',\n  '1.15385 -1.92308 -0.663158',\n  '1.15385 -1.76923 -0.757895',\n  '1.15385 -1.61538 -0.844737',\n  '1.15385 -1.46154 -0.923684',\n  '1.15385 -1.30769 -0.994737',\n  '1.15385 -1.15385 -1.05789',\n  '1.15385 -1 -1.11316',\n  '1.15385 -0.846154 -1.16053',\n  '1.15385 -0.692308 -1.2',\n  '1.15385 -0.538462 -1.23158',\n  '1.15385 -0.384615 -1.25526',\n  '1.15385 -0.230769 -1.27105',\n  '1.15385 -0.0769231 -1.27895',\n  '1.15385 0.0769231 -1.27895',\n  '1.15385 0.230769 -1.27105',\n  '1.15385 0.384615 -1.25526',\n  '1.15385 0.538462 -1.23158',\n  '1.15385 0.692308 -1.2',\n  '1.15385 0.846154 -1.16053',\n  '1.15385 1 -1.11316',\n  '1.15385 1.15385 -1.05789',\n  '1.15385 1.30769 -0.994737',\n  '1.15385 1.46154 -0.923684',\n  '1.15385 1.61538 -0.844737',\n  '1.15385 1.76923 -0.757895',\n  '1.15385 1.92308 -0.663158',\n  '1.15385 2.07692 -0.560526',\n  '1.15385 2.23077 -0.45',\n  '1.15385 2.38462 -0.331579',\n  '1.15385 2.53846 -0.205263',\n  '1.15385 2.69231 -0.0710526',\n  '1.15385 2.84615 0.0710526',\n  '1.15385 3 0.221053',\n  '1.30769 -3 0.284211',\n  '1.30769 -2.84615 0.134211',\n  '1.30769 -2.69231 -0.00789474',\n  '1.30769 -2.53846 -0.142105',\n  '1.30769 -2.38462 -0.268421',\n  '1.30769 -2.23077 -0.386842',\n  '1.30769 -2.07692 -0.497368',\n  '1.30769 -1.92308 -0.6',\n  '1.30769 -1.76923 -0.694737',\n  '1.30769 -1.61538 -0.781579',\n  '1.30769 -1.46154 -0.860526',\n  '1.30769 -1.30769 -0.931579',\n  '1.30769 -1.15385 -0.994737',\n  '1.30769 -1 -1.05',\n  '1.30769 -0.846154 -1.09737',\n  '1.30769 -0.692308 -1.13684',\n  '1.30769 -0.538462 -1.16842',\n  '1.30769 -0.384615 -1.19211',\n  '1.30769 -0.230769 -1.20789',\n  '1.30769 -0.0769231 -1.21579',\n  '1.30769 0.0769231 -1.21579',\n  '1.30769 0.230769 -1.20789',\n  '1.30769 0.384615 -1.19211',\n  '1.30769 0.538462 -1.16842',\n  '1.30769 0.692308 -1.13684',\n  '1.30769 0.846154 -1.09737',\n  '1.30769 1 -1.05',\n  '1.30769 1.15385 -0.994737',\n  '1.30769 1.30769 -0.931579',\n  '1.30769 1.46154 -0.860526',\n  '1.30769 1.61538 -0.781579',\n  '1.30769 1.76923 -0.694737',\n  '1.30769 1.92308 -0.6',\n  '1.30769 2.07692 -0.497368',\n  '1.30769 2.23077 -0.386842',\n  '1.30769 2.38462 -0.268421',\n  '1.30769 2.53846 -0.142105',\n  '1.30769 2.69231 -0.00789474',\n  '1.30769 2.84615 0.134211',\n  '1.30769 3 0.284211',\n  '1.46154 -3 0.355263',\n  '1.46154 -2.84615 0.205263',\n  '1.46154 -2.69231 0.0631579',\n  '1.46154 -2.53846 -0.0710526',\n  '1.46154 -2.38462 -0.197368',\n  '1.46154 -2.23077 -0.315789',\n  '1.46154 -2.07692 -0.426316',\n  '1.46154 -1.92308 -0.528947',\n  '1.46154 -1.76923 -0.623684',\n  '1.46154 -1.61538 -0.710526',\n  '1.46154 -1.46154 -0.789474',\n  '1.46154 -1.30769 -0.860526',\n  '1.46154 -1.15385 -0.923684',\n  '1.46154 -1 -0.978947',\n  '1.46154 -0.846154 -1.02632',\n  '1.46154 -0.692308 -1.06579',\n  '1.46154 -0.538462 -1.09737',\n  '1.46154 -0.384615 -1.12105',\n  '1.46154 -0.230769 -1.13684',\n  '1.46154 -0.0769231 -1.14474',\n  '1.46154 0.0769231 -1.14474',\n  '1.46154 0.230769 -1.13684',\n  '1.46154 0.384615 -1.12105',\n  '1.46154 0.538462 -1.09737',\n  '1.46154 0.692308 -1.06579',\n  '1.46154 0.846154 -1.02632',\n  '1.46154 1 -0.978947',\n  '1.46154 1.15385 -0.923684',\n  '1.46154 1.30769 -0.860526',\n  '1.46154 1.46154 -0.789474',\n  '1.46154 1.61538 -0.710526',\n  '1.46154 1.76923 -0.623684',\n  '1.46154 1.92308 -0.528947',\n  '1.46154 2.07692 -0.426316',\n  '1.46154 2.23077 -0.315789',\n  '1.46154 2.38462 -0.197368',\n  '1.46154 2.53846 -0.0710526',\n  '1.46154 2.69231 0.0631579',\n  '1.46154 2.84615 0.205263',\n  '1.46154 3 0.355263',\n  '1.61538 -3 0.434211',\n  '1.61538 -2.84615 0.284211',\n  '1.61538 -2.69231 0.142105',\n  '1.61538 -2.53846 0.00789474',\n  '1.61538 -2.38462 -0.118421',\n  '1.61538 -2.23077 -0.236842',\n  '1.61538 -2.07692 -0.347368',\n  '1.61538 -1.92308 -0.45',\n  '1.61538 -1.76923 -0.544737',\n  '1.61538 -1.61538 -0.631579',\n  '1.61538 -1.46154 -0.710526',\n  '1.61538 -1.30769 -0.781579',\n  '1.61538 -1.15385 -0.844737',\n  '1.61538 -1 -0.9',\n  '1.61538 -0.846154 -0.947368',\n  '1.61538 -0.692308 -0.986842',\n  '1.61538 -0.538462 -1.01842',\n  '1.61538 -0.384615 -1.04211',\n  '1.61538 -0.230769 -1.05789',\n  '1.61538 -0.0769231 -1.06579',\n  '1.61538 0.0769231 -1.06579',\n  '1.61538 0.230769 -1.05789',\n  '1.61538 0.384615 -1.04211',\n  '1.61538 0.538462 -1.01842',\n  '1.61538 0.692308 -0.986842',\n  '1.61538 0.846154 -0.947368',\n  '1.61538 1 -0.9',\n  '1.61538 1.15385 -0.844737',\n  '1.61538 1.30769 -0.781579',\n  '1.61538 1.46154 -0.710526',\n  '1.61538 1.61538 -0.631579',\n  '1.61538 1.76923 -0.544737',\n  '1.61538 1.92308 -0.45',\n  '1.61538 2.07692 -0.347368',\n  '1.61538 2.23077 -0.236842',\n  '1.61538 2.38462 -0.118421',\n  '1.61538 2.53846 0.00789474',\n  '1.61538 2.69231 0.142105',\n  '1.61538 2.84615 0.284211',\n  '1.61538 3 0.434211',\n  '1.76923 -3 0.521053',\n  '1.76923 -2.84615 0.371053',\n  '1.76923 -2.69231 0.228947',\n  '1.76923 -2.53846 0.0947368',\n  '1.76923 -2.38462 -0.0315789',\n  '1.76923 -2.23077 -0.15',\n  '1.76923 -2.07692 -0.260526',\n  '1.76923 -1.92308 -0.363158',\n  '1.76923 -1.76923 -0.457895',\n  '1.76923 -1.61538 -0.544737',\n  '1.76923 -1.46154 -0.623684',\n  '1.76923 -1.30769 -0.694737',\n  '1.76923 -1.15385 -0.757895',\n  '1.76923 -1 -0.813158',\n  '1.76923 -0.846154 -0.860526',\n  '1.76923 -0.692308 -0.9',\n  '1.76923 -0.538462 -0.931579',\n  '1.76923 -0.384615 -0.955263',\n  '1.76923 -0.230769 -0.971053',\n  '1.76923 -0.0769231 -0.978947',\n  '1.76923 0.0769231 -0.978947',\n  '1.76923 0.230769 -0.971053',\n  '1.76923 0.384615 -0.955263',\n  '1.76923 0.538462 -0.931579',\n  '1.76923 0.692308 -0.9',\n  '1.76923 0.846154 -0.860526',\n  '1.76923 1 -0.813158',\n  '1.76923 1.15385 -0.757895',\n  '1.76923 1.30769 -0.694737',\n  '1.76923 1.46154 -0.623684',\n  '1.76923 1.61538 -0.544737',\n  '1.76923 1.76923 -0.457895',\n  '1.76923 1.92308 -0.363158',\n  '1.76923 2.07692 -0.260526',\n  '1.76923 2.23077 -0.15',\n  '1.76923 2.38462 -0.0315789',\n  '1.76923 2.53846 0.0947368',\n  '1.76923 2.69231 0.228947',\n  '1.76923 2.84615 0.371053',\n  '1.76923 3 0.521053',\n  '1.92308 -3 0.615789',\n  '1.92308 -2.84615 0.465789',\n  '1.92308 -2.69231 0.323684',\n  '1.92308 -2.53846 0.189474',\n  '1.92308 -2.38462 0.0631579',\n  '1.92308 -2.23077 -0.0552632',\n  '1.92308 -2.07692 -0.165789',\n  '1.92308 -1.92308 -0.268421',\n  '1.92308 -1.76923 -0.363158',\n  '1.92308 -1.61538 -0.45',\n  '1.92308 -1.46154 -0.528947',\n  '1.92308 -1.30769 -0.6',\n  '1.92308 -1.15385 -0.663158',\n  '1.92308 -1 -0.718421',\n  '1.92308 -0.846154 -0.765789',\n  '1.92308 -0.692308 -0.805263',\n  '1.92308 -0.538462 -0.836842',\n  '1.92308 -0.384615 -0.860526',\n  '1.92308 -0.230769 -0.876316',\n  '1.92308 -0.0769231 -0.884211',\n  '1.92308 0.0769231 -0.884211',\n  '1.92308 0.230769 -0.876316',\n  '1.92308 0.384615 -0.860526',\n  '1.92308 0.538462 -0.836842',\n  '1.92308 0.692308 -0.805263',\n  '1.92308 0.846154 -0.765789',\n  '1.92308 1 -0.718421',\n  '1.92308 1.15385 -0.663158',\n  '1.92308 1.30769 -0.6',\n  '1.92308 1.46154 -0.528947',\n  '1.92308 1.61538 -0.45',\n  '1.92308 1.76923 -0.363158',\n  '1.92308 1.92308 -0.268421',\n  '1.92308 2.07692 -0.165789',\n  '1.92308 2.23077 -0.0552632',\n  '1.92308 2.38462 0.0631579',\n  '1.92308 2.53846 0.189474',\n  '1.92308 2.69231 0.323684',\n  '1.92308 2.84615 0.465789',\n  '1.92308 3 0.615789',\n  '2.07692 -3 0.718421',\n  '2.07692 -2.84615 0.568421',\n  '2.07692 -2.69231 0.426316',\n  '2.07692 -2.53846 0.292105',\n  '2.07692 -2.38462 0.165789',\n  '2.07692 -2.23077 0.0473684',\n  '2.07692 -2.07692 -0.0631579',\n  '2.07692 -1.92308 -0.165789',\n  '2.07692 -1.76923 -0.260526',\n  '2.07692 -1.61538 -0.347368',\n  '2.07692 -1.46154 -0.426316',\n  '2.07692 -1.30769 -0.497368',\n  '2.07692 -1.15385 -0.560526',\n  '2.07692 -1 -0.615789',\n  '2.07692 -0.846154 -0.663158',\n  '2.07692 -0.692308 -0.702632',\n  '2.07692 -0.538462 -0.734211',\n  '2.07692 -0.384615 -0.757895',\n  '2.07692 -0.230769 -0.773684',\n  '2.07692 -0.0769231 -0.781579',\n  '2.07692 0.0769231 -0.781579',\n  '2.07692 0.230769 -0.773684',\n  '2.07692 0.384615 -0.757895',\n  '2.07692 0.538462 -0.734211',\n  '2.07692 0.692308 -0.702632',\n  '2.07692 0.846154 -0.663158',\n  '2.07692 1 -0.615789',\n  '2.07692 1.15385 -0.560526',\n  '2.07692 1.30769 -0.497368',\n  '2.07692 1.46154 -0.426316',\n  '2.07692 1.61538 -0.347368',\n  '2.07692 1.76923 -0.260526',\n  '2.07692 1.92308 -0.165789',\n  '2.07692 2.07692 -0.0631579',\n  '2.07692 2.23077 0.0473684',\n  '2.07692 2.38462 0.165789',\n  '2.07692 2.53846 0.292105',\n  '2.07692 2.69231 0.426316',\n  '2.07692 2.84615 0.568421',\n  '2.07692 3 0.718421',\n  '2.23077 -3 0.828947',\n  '2.23077 -2.84615 0.678947',\n  '2.23077 -2.69231 0.536842',\n  '2.23077 -2.53846 0.402632',\n  '2.23077 -2.38462 0.276316',\n  '2.23077 -2.23077 0.157895',\n  '2.23077 -2.07692 0.0473684',\n  '2.23077 -1.92308 -0.0552632',\n  '2.23077 -1.76923 -0.15',\n  '2.23077 -1.61538 -0.236842',\n  '2.23077 -1.46154 -0.315789',\n  '2.23077 -1.30769 -0.386842',\n  '2.23077 -1.15385 -0.45',\n  '2.23077 -1 -0.505263',\n  '2.23077 -0.846154 -0.552632',\n  '2.23077 -0.692308 -0.592105',\n  '2.23077 -0.538462 -0.623684',\n  '2.23077 -0.384615 -0.647368',\n  '2.23077 -0.230769 -0.663158',\n  '2.23077 -0.0769231 -0.671053',\n  '2.23077 0.0769231 -0.671053',\n  '2.23077 0.230769 -0.663158',\n  '2.23077 0.384615 -0.647368',\n  '2.23077 0.538462 -0.623684',\n  '2.23077 0.692308 -0.592105',\n  '2.23077 0.846154 -0.552632',\n  '2.23077 1 -0.505263',\n  '2.23077 1.15385 -0.45',\n  '2.23077 1.30769 -0.386842',\n  '2.23077 1.46154 -0.315789',\n  '2.23077 1.61538 -0.236842',\n  '2.23077 1.76923 -0.15',\n  '2.23077 1.92308 -0.0552632',\n  '2.23077 2.07692 0.0473684',\n  '2.23077 2.23077 0.157895',\n  '2.23077 2.38462 0.276316',\n  '2.23077 2.53846 0.402632',\n  '2.23077 2.69231 0.536842',\n  '2.23077 2.84615 0.678947',\n  '2.23077 3 0.828947',\n  '2.38462 -3 0.947368',\n  '2.38462 -2.84615 0.797368',\n  '2.38462 -2.69231 0.655263',\n  '2.38462 -2.53846 0.521053',\n  '2.38462 -2.38462 0.394737',\n  '2.38462 -2.23077 0.276316',\n  '2.38462 -2.07692 0.165789',\n  '2.38462 -1.92308 0.0631579',\n  '2.38462 -1.76923 -0.0315789',\n  '2.38462 -1.61538 -0.118421',\n  '2.38462 -1.46154 -0.197368',\n  '2.38462 -1.30769 -0.268421',\n  '2.38462 -1.15385 -0.331579',\n  '2.38462 -1 -0.386842',\n  '2.38462 -0.846154 -0.434211',\n  '2.38462 -0.692308 -0.473684',\n  '2.38462 -0.538462 -0.505263',\n  '2.38462 -0.384615 -0.528947',\n  '2.38462 -0.230769 -0.544737',\n  '2.38462 -0.0769231 -0.552632',\n  '2.38462 0.0769231 -0.552632',\n  '2.38462 0.230769 -0.544737',\n  '2.38462 0.384615 -0.528947',\n  '2.38462 0.538462 -0.505263',\n  '2.38462 0.692308 -0.473684',\n  '2.38462 0.846154 -0.434211',\n  '2.38462 1 -0.386842',\n  '2.38462 1.15385 -0.331579',\n  '2.38462 1.30769 -0.268421',\n  '2.38462 1.46154 -0.197368',\n  '2.38462 1.61538 -0.118421',\n  '2.38462 1.76923 -0.0315789',\n  '2.38462 1.92308 0.0631579',\n  '2.38462 2.07692 0.165789',\n  '2.38462 2.23077 0.276316',\n  '2.38462 2.38462 0.394737',\n  '2.38462 2.53846 0.521053',\n  '2.38462 2.69231 0.655263',\n  '2.38462 2.84615 0.797368',\n  '2.38462 3 0.947368',\n  '2.53846 -3 1.07368',\n  '2.53846 -2.84615 0.923684',\n  '2.53846 -2.69231 0.781579',\n  '2.53846 -2.53846 0.647368',\n  '2.53846 -2.38462 0.521053',\n  '2.53846 -2.23077 0.402632',\n  '2.53846 -2.07692 0.292105',\n  '2.53846 -1.92308 0.189474',\n  '2.53846 -1.76923 0.0947368',\n  '2.53846 -1.61538 0.00789474',\n  '2.53846 -1.46154 -0.0710526',\n  '2.53846 -1.30769 -0.142105',\n  '2.53846 -1.15385 -0.205263',\n  '2.53846 -1 -0.260526',\n  '2.53846 -0.846154 -0.307895',\n  '2.53846 -0.692308 -0.347368',\n  '2.53846 -0.538462 -0.378947',\n  '2.53846 -0.384615 -0.402632',\n  '2.53846 -0.230769 -0.418421',\n  '2.53846 -0.0769231 -0.426316',\n  '2.53846 0.0769231 -0.426316',\n  '2.53846 0.230769 -0.418421',\n  '2.53846 0.384615 -0.402632',\n  '2.53846 0.538462 -0.378947',\n  '2.53846 0.692308 -0.347368',\n  '2.53846 0.846154 -0.307895',\n  '2.53846 1 -0.260526',\n  '2.53846 1.15385 -0.205263',\n  '2.53846 1.30769 -0.142105',\n  '2.53846 1.46154 -0.0710526',\n  '2.53846 1.61538 0.00789474',\n  '2.53846 1.76923 0.0947368',\n  '2.53846 1.92308 0.189474',\n  '2.53846 2.07692 0.292105',\n  '2.53846 2.23077 0.402632',\n  '2.53846 2.38462 0.521053',\n  '2.53846 2.53846 0.647368',\n  '2.53846 2.69231 0.781579',\n  '2.53846 2.84615 0.923684',\n  '2.53846 3 1.07368',\n  '2.69231 -3 1.20789',\n  '2.69231 -2.84615 1.05789',\n  '2.69231 -2.69231 0.915789',\n  '2.69231 -2.53846 0.781579',\n  '2.69231 -2.38462 0.655263',\n  '2.69231 -2.23077 0.536842',\n  '2.69231 -2.07692 0.426316',\n  '2.69231 -1.92308 0.323684',\n  '2.69231 -1.76923 0.228947',\n  '2.69231 -1.61538 0.142105',\n  '2.69231 -1.46154 0.0631579',\n  '2.69231 -1.30769 -0.00789474',\n  '2.69231 -1.15385 -0.0710526',\n  '2.69231 -1 -0.126316',\n  '2.69231 -0.846154 -0.173684',\n  '2.69231 -0.692308 -0.213158',\n  '2.69231 -0.538462 -0.244737',\n  '2.69231 -0.384615 -0.268421',\n  '2.69231 -0.230769 -0.284211',\n  '2.69231 -0.0769231 -0.292105',\n  '2.69231 0.0769231 -0.292105',\n  '2.69231 0.230769 -0.284211',\n  '2.69231 0.384615 -0.268421',\n  '2.69231 0.538462 -0.244737',\n  '2.69231 0.692308 -0.213158',\n  '2.69231 0.846154 -0.173684',\n  '2.69231 1 -0.126316',\n  '2.69231 1.15385 -0.0710526',\n  '2.69231 1.30769 -0.00789474',\n  '2.69231 1.46154 0.0631579',\n  '2.69231 1.61538 0.142105',\n  '2.69231 1.76923 0.228947',\n  '2.69231 1.92308 0.323684',\n  '2.69231 2.07692 0.426316',\n  '2.69231 2.23077 0.536842',\n  '2.69231 2.38462 0.655263',\n  '2.69231 2.53846 0.781579',\n  '2.69231 2.69231 0.915789',\n  '2.69231 2.84615 1.05789',\n  '2.69231 3 1.20789',\n  '2.84615 -3 1.35',\n  '2.84615 -2.84615 1.2',\n  '2.84615 -2.69231 1.05789',\n  '2.84615 -2.53846 0.923684',\n  '2.84615 -2.38462 0.797368',\n  '2.84615 -2.23077 0.678947',\n  '2.84615 -2.07692 0.568421',\n  '2.84615 -1.92308 0.465789',\n  '2.84615 -1.76923 0.371053',\n  '2.84615 -1.61538 0.284211',\n  '2.84615 -1.46154 0.205263',\n  '2.84615 -1.30769 0.134211',\n  '2.84615 -1.15385 0.0710526',\n  '2.84615 -1 0.0157895',\n  '2.84615 -0.846154 -0.0315789',\n  '2.84615 -0.692308 -0.0710526',\n  '2.84615 -0.538462 -0.102632',\n  '2.84615 -0.384615 -0.126316',\n  '2.84615 -0.230769 -0.142105',\n  '2.84615 -0.0769231 -0.15',\n  '2.84615 0.0769231 -0.15',\n  '2.84615 0.230769 -0.142105',\n  '2.84615 0.384615 -0.126316',\n  '2.84615 0.538462 -0.102632',\n  '2.84615 0.692308 -0.0710526',\n  '2.84615 0.846154 -0.0315789',\n  '2.84615 1 0.0157895',\n  '2.84615 1.15385 0.0710526',\n  '2.84615 1.30769 0.134211',\n  '2.84615 1.46154 0.205263',\n  '2.84615 1.61538 0.284211',\n  '2.84615 1.76923 0.371053',\n  '2.84615 1.92308 0.465789',\n  '2.84615 2.07692 0.568421',\n  '2.84615 2.23077 0.678947',\n  '2.84615 2.38462 0.797368',\n  '2.84615 2.53846 0.923684',\n  '2.84615 2.69231 1.05789',\n  '2.84615 2.84615 1.2',\n  '2.84615 3 1.35',\n  '3 -3 1.5',\n  '3 -2.84615 1.35',\n  '3 -2.69231 1.20789',\n  '3 -2.53846 1.07368',\n  '3 -2.38462 0.947368',\n  '3 -2.23077 0.828947',\n  '3 -2.07692 0.718421',\n  '3 -1.92308 0.615789',\n  '3 -1.76923 0.521053',\n  '3 -1.61538 0.434211',\n  '3 -1.46154 0.355263',\n  '3 -1.30769 0.284211',\n  '3 -1.15385 0.221053',\n  '3 -1 0.165789',\n  '3 -0.846154 0.118421',\n  '3 -0.692308 0.0789474',\n  '3 -0.538462 0.0473684',\n  '3 -0.384615 0.0236842',\n  '3 -0.230769 0.00789474',\n  '3 -0.0769231 0',\n  '3 0.0769231 0',\n  '3 0.230769 0.00789474',\n  '3 0.384615 0.0236842',\n  '3 0.538462 0.0473684',\n  '3 0.692308 0.0789474',\n  '3 0.846154 0.118421',\n  '3 1 0.165789',\n  '3 1.15385 0.221053',\n  '3 1.30769 0.284211',\n  '3 1.46154 0.355263',\n  '3 1.61538 0.434211',\n  '3 1.76923 0.521053',\n  '3 1.92308 0.615789',\n  '3 2.07692 0.718421',\n  '3 2.23077 0.828947',\n  '3 2.38462 0.947368',\n  '3 2.53846 1.07368',\n  '3 2.69231 1.20789',\n  '3 2.84615 1.35',\n  '3 3 1.5',\n  '1521',\n  '5',\n  '0',\n  '1',\n  '41',\n  '40',\n  '0',\n  '5',\n  '1',\n  '2',\n  '42',\n  '41',\n  '1',\n  '5',\n  '2',\n  '3',\n  '43',\n  '42',\n  '2',\n  '5',\n  '3',\n  '4',\n  '44',\n  '43',\n  '3',\n  '5',\n  '4',\n  '5',\n  '45',\n  '44',\n  '4',\n  '5',\n  '5',\n  '6',\n  '46',\n  '45',\n  '5',\n  '5',\n  '6',\n  '7',\n  '47',\n  '46',\n  '6',\n  '5',\n  '7',\n  '8',\n  '48',\n  '47',\n  '7',\n  '5',\n  '8',\n  '9',\n  '49',\n  '48',\n  '8',\n  '5',\n  '9',\n  '10',\n  '50',\n  '49',\n  '9',\n  '5',\n  '10',\n  '11',\n  '51',\n  '50',\n  '10',\n  '5',\n  '11',\n  '12',\n  '52',\n  '51',\n  '11',\n  '5',\n  '12',\n  '13',\n  '53',\n  '52',\n  '12',\n  '5',\n  '13',\n  '14',\n  '54',\n  '53',\n  '13',\n  '5',\n  '14',\n  '15',\n  '55',\n  '54',\n  '14',\n  '5',\n  '15',\n  '16',\n  '56',\n  '55',\n  '15',\n  '5',\n  '16',\n  '17',\n  '57',\n  '56',\n  '16',\n  '5',\n  '17',\n  '18',\n  '58',\n  '57',\n  '17',\n  '5',\n  '18',\n  '19',\n  '59',\n  '58',\n  '18',\n  '5',\n  '19',\n  '20',\n  '60',\n  '59',\n  '19',\n  '5',\n  '20',\n  '21',\n  '61',\n  '60',\n  '20',\n  '5',\n  '21',\n  '22',\n  '62',\n  '61',\n  '21',\n  '5',\n  '22',\n  '23',\n  '63',\n  '62',\n  '22',\n  '5',\n  '23',\n  '24',\n  '64',\n  '63',\n  '23',\n  '5',\n  '24',\n  '25',\n  '65',\n  '64',\n  '24',\n  '5',\n  '25',\n  '26',\n  '66',\n  '65',\n  '25',\n  '5',\n  '26',\n  '27',\n  '67',\n  '66',\n  '26',\n  '5',\n  '27',\n  '28',\n  '68',\n  '67',\n  '27',\n  '5',\n  '28',\n  '29',\n  '69',\n  '68',\n  '28',\n  '5',\n  '29',\n  '30',\n  '70',\n  '69',\n  '29',\n  '5',\n  '30',\n  '31',\n  '71',\n  '70',\n  '30',\n  '5',\n  '31',\n  '32',\n  '72',\n  '71',\n  '31',\n  '5',\n  '32',\n  '33',\n  '73',\n  '72',\n  '32',\n  '5',\n  '33',\n  '34',\n  '74',\n  '73',\n  '33',\n  '5',\n  '34',\n  '35',\n  '75',\n  '74',\n  '34',\n  '5',\n  '35',\n  '36',\n  '76',\n  '75',\n  '35',\n  '5',\n  '36',\n  '37',\n  '77',\n  '76',\n  '36',\n  '5',\n  '37',\n  '38',\n  '78',\n  '77',\n  '37',\n  '5',\n  '38',\n  '39',\n  '79',\n  '78',\n  '38',\n  '5',\n  '40',\n  '41',\n  '81',\n  '80',\n  '40',\n  '5',\n  '41',\n  '42',\n  '82',\n  '81',\n  '41',\n  '5',\n  '42',\n  '43',\n  '83',\n  '82',\n  '42',\n  '5',\n  '43',\n  '44',\n  '84',\n  '83',\n  '43',\n  '5',\n  '44',\n  '45',\n  '85',\n  '84',\n  '44',\n  '5',\n  '45',\n  '46',\n  '86',\n  '85',\n  '45',\n  '5',\n  '46',\n  '47',\n  '87',\n  '86',\n  '46',\n  '5',\n  '47',\n  '48',\n  '88',\n  '87',\n  '47',\n  '5',\n  '48',\n  '49',\n  '89',\n  '88',\n  '48',\n  '5',\n  '49',\n  '50',\n  '90',\n  '89',\n  '49',\n  '5',\n  '50',\n  '51',\n  '91',\n  '90',\n  '50',\n  '5',\n  '51',\n  '52',\n  '92',\n  '91',\n  '51',\n  '5',\n  '52',\n  '53',\n  '93',\n  '92',\n  '52',\n  '5',\n  '53',\n  '54',\n  '94',\n  '93',\n  '53',\n  '5',\n  '54',\n  '55',\n  '95',\n  '94',\n  '54',\n  '5',\n  '55',\n  '56',\n  '96',\n  '95',\n  '55',\n  '5',\n  '56',\n  '57',\n  '97',\n  '96',\n  '56',\n  '5',\n  '57',\n  '58',\n  '98',\n  '97',\n  '57',\n  '5',\n  '58',\n  '59',\n  '99',\n  '98',\n  '58',\n  '5',\n  '59',\n  '60',\n  '100',\n  '99',\n  '59',\n  '5',\n  '60',\n  '61',\n  '101',\n  '100',\n  '60',\n  '5',\n  '61',\n  '62',\n  '102',\n  '101',\n  '61',\n  '5',\n  '62',\n  '63',\n  '103',\n  '102',\n  '62',\n  '5',\n  '63',\n  '64',\n  '104',\n  '103',\n  '63',\n  '5',\n  '64',\n  '65',\n  '105',\n  '104',\n  '64',\n  '5',\n  '65',\n  '66',\n  '106',\n  '105',\n  '65',\n  '5',\n  '66',\n  '67',\n  '107',\n  '106',\n  '66',\n  '5',\n  '67',\n  '68',\n  '108',\n  '107',\n  '67',\n  '5',\n  '68',\n  '69',\n  '109',\n  '108',\n  '68',\n  '5',\n  '69',\n  '70',\n  '110',\n  '109',\n  '69',\n  '5',\n  '70',\n  '71',\n  '111',\n  '110',\n  '70',\n  '5',\n  '71',\n  '72',\n  '112',\n  '111',\n  '71',\n  '5',\n  '72',\n  '73',\n  '113',\n  '112',\n  '72',\n  '5',\n  '73',\n  '74',\n  '114',\n  '113',\n  '73',\n  '5',\n  '74',\n  '75',\n  '115',\n  '114',\n  '74',\n  '5',\n  '75',\n  '76',\n  '116',\n  '115',\n  '75',\n  '5',\n  '76',\n  '77',\n  '117',\n  '116',\n  '76',\n  '5',\n  '77',\n  '78',\n  '118',\n  '117',\n  '77',\n  '5',\n  '78',\n  '79',\n  '119',\n  '118',\n  '78',\n  '5',\n  '80',\n  '81',\n  '121',\n  '120',\n  '80',\n  '5',\n  '81',\n  '82',\n  '122',\n  '121',\n  '81',\n  '5',\n  '82',\n  '83',\n  '123',\n  '122',\n  '82',\n  '5',\n  '83',\n  '84',\n  '124',\n  '123',\n  '83',\n  '5',\n  '84',\n  '85',\n  '125',\n  '124',\n  '84',\n  '5',\n  '85',\n  '86',\n  '126',\n  '125',\n  '85',\n  '5',\n  '86',\n  '87',\n  '127',\n  '126',\n  '86',\n  '5',\n  '87',\n  '88',\n  '128',\n  '127',\n  '87',\n  '5',\n  '88',\n  '89',\n  '129',\n  '128',\n  '88',\n  '5',\n  '89',\n  '90',\n  '130',\n  '129',\n  '89',\n  '5',\n  '90',\n  '91',\n  '131',\n  '130',\n  '90',\n  '5',\n  '91',\n  '92',\n  '132',\n  '131',\n  '91',\n  '5',\n  '92',\n  '93',\n  '133',\n  '132',\n  '92',\n  '5',\n  '93',\n  '94',\n  '134',\n  '133',\n  '93',\n  '5',\n  '94',\n  '95',\n  '135',\n  '134',\n  '94',\n  '5',\n  '95',\n  '96',\n  '136',\n  '135',\n  '95',\n  '5',\n  '96',\n  '97',\n  '137',\n  '136',\n  '96',\n  '5',\n  '97',\n  '98',\n  '138',\n  '137',\n  '97',\n  '5',\n  '98',\n  '99',\n  '139',\n  '138',\n  '98',\n  '5',\n  '99',\n  '100',\n  '140',\n  '139',\n  '99',\n  '5',\n  '100',\n  '101',\n  '141',\n  '140',\n  '100',\n  '5',\n  '101',\n  '102',\n  '142',\n  '141',\n  '101',\n  '5',\n  '102',\n  '103',\n  '143',\n  '142',\n  '102',\n  '5',\n  '103',\n  '104',\n  '144',\n  '143',\n  '103',\n  '5',\n  '104',\n  '105',\n  '145',\n  '144',\n  '104',\n  '5',\n  '105',\n  '106',\n  '146',\n  '145',\n  '105',\n  '5',\n  '106',\n  '107',\n  '147',\n  '146',\n  '106',\n  '5',\n  '107',\n  '108',\n  '148',\n  '147',\n  '107',\n  '5',\n  '108',\n  '109',\n  '149',\n  '148',\n  '108',\n  '5',\n  '109',\n  '110',\n  '150',\n  '149',\n  '109',\n  '5',\n  '110',\n  '111',\n  '151',\n  '150',\n  '110',\n  '5',\n  '111',\n  '112',\n  '152',\n  '151',\n  '111',\n  '5',\n  '112',\n  '113',\n  '153',\n  '152',\n  '112',\n  '5',\n  '113',\n  '114',\n  '154',\n  '153',\n  '113',\n  '5',\n  '114',\n  '115',\n  '155',\n  '154',\n  '114',\n  '5',\n  '115',\n  '116',\n  '156',\n  '155',\n  '115',\n  '5',\n  '116',\n  '117',\n  '157',\n  '156',\n  '116',\n  '5',\n  '117',\n  '118',\n  '158',\n  '157',\n  '117',\n  '5',\n  '118',\n  '119',\n  '159',\n  '158',\n  '118',\n  '5',\n  '120',\n  '121',\n  '161',\n  '160',\n  '120',\n  '5',\n  '121',\n  '122',\n  '162',\n  '161',\n  '121',\n  '5',\n  '122',\n  '123',\n  '163',\n  '162',\n  '122',\n  '5',\n  '123',\n  '124',\n  '164',\n  '163',\n  '123',\n  '5',\n  '124',\n  '125',\n  '165',\n  '164',\n  '124',\n  '5',\n  '125',\n  '126',\n  '166',\n  '165',\n  '125',\n  '5',\n  '126',\n  '127',\n  '167',\n  '166',\n  '126',\n  '5',\n  '127',\n  '128',\n  '168',\n  '167',\n  '127',\n  '5',\n  '128',\n  '129',\n  '169',\n  '168',\n  '128',\n  '5',\n  '129',\n  '130',\n  '170',\n  '169',\n  '129',\n  '5',\n  '130',\n  '131',\n  '171',\n  '170',\n  '130',\n  '5',\n  '131',\n  '132',\n  '172',\n  '171',\n  '131',\n  '5',\n  '132',\n  '133',\n  '173',\n  '172',\n  '132',\n  '5',\n  '133',\n  '134',\n  '174',\n  '173',\n  '133',\n  '5',\n  '134',\n  '135',\n  '175',\n  '174',\n  '134',\n  '5',\n  '135',\n  '136',\n  '176',\n  '175',\n  '135',\n  '5',\n  '136',\n  '137',\n  '177',\n  '176',\n  '136',\n  '5',\n  '137',\n  '138',\n  '178',\n  '177',\n  '137',\n  '5',\n  '138',\n  '139',\n  '179',\n  '178',\n  '138',\n  '5',\n  '139',\n  '140',\n  '180',\n  '179',\n  '139',\n  '5',\n  '140',\n  '141',\n  '181',\n  '180',\n  '140',\n  '5',\n  '141',\n  '142',\n  '182',\n  '181',\n  '141',\n  '5',\n  '142',\n  '143',\n  '183',\n  '182',\n  '142',\n  '5',\n  '143',\n  '144',\n  '184',\n  '183',\n  '143',\n  '5',\n  '144',\n  '145',\n  '185',\n  '184',\n  '144',\n  '5',\n  '145',\n  '146',\n  '186',\n  '185',\n  '145',\n  '5',\n  '146',\n  '147',\n  '187',\n  '186',\n  '146',\n  '5',\n  '147',\n  '148',\n  '188',\n  '187',\n  '147',\n  '5',\n  '148',\n  '149',\n  '189',\n  '188',\n  '148',\n  '5',\n  '149',\n  '150',\n  '190',\n  '189',\n  '149',\n  '5',\n  '150',\n  '151',\n  '191',\n  '190',\n  '150',\n  '5',\n  '151',\n  '152',\n  '192',\n  '191',\n  '151',\n  '5',\n  '152',\n  '153',\n  '193',\n  '192',\n  '152',\n  '5',\n  '153',\n  '154',\n  '194',\n  '193',\n  '153',\n  '5',\n  '154',\n  '155',\n  '195',\n  '194',\n  '154',\n  '5',\n  '155',\n  '156',\n  '196',\n  '195',\n  '155',\n  '5',\n  '156',\n  '157',\n  '197',\n  '196',\n  '156',\n  '5',\n  '157',\n  '158',\n  '198',\n  '197',\n  '157',\n  '5',\n  '158',\n  '159',\n  '199',\n  '198',\n  '158',\n  '5',\n  '160',\n  '161',\n  '201',\n  '200',\n  '160',\n  '5',\n  '161',\n  '162',\n  '202',\n  '201',\n  '161',\n  '5',\n  '162',\n  '163',\n  '203',\n  '202',\n  '162',\n  '5',\n  '163',\n  '164',\n  '204',\n  '203',\n  '163',\n  '5',\n  '164',\n  '165',\n  '205',\n  '204',\n  '164',\n  '5',\n  '165',\n  '166',\n  '206',\n  '205',\n  '165',\n  '5',\n  '166',\n  '167',\n  '207',\n  '206',\n  '166',\n  '5',\n  '167',\n  '168',\n  '208',\n  '207',\n  '167',\n  '5',\n  '168',\n  '169',\n  '209',\n  '208',\n  '168',\n  '5',\n  '169',\n  '170',\n  '210',\n  '209',\n  '169',\n  '5',\n  '170',\n  '171',\n  '211',\n  '210',\n  '170',\n  '5',\n  '171',\n  '172',\n  '212',\n  '211',\n  '171',\n  '5',\n  '172',\n  '173',\n  '213',\n  '212',\n  '172',\n  '5',\n  '173',\n  '174',\n  '214',\n  '213',\n  '173',\n  '5',\n  '174',\n  '175',\n  '215',\n  '214',\n  '174',\n  '5',\n  '175',\n  '176',\n  '216',\n  '215',\n  '175',\n  '5',\n  '176',\n  '177',\n  '217',\n  '216',\n  '176',\n  '5',\n  '177',\n  '178',\n  '218',\n  '217',\n  '177',\n  '5',\n  '178',\n  '179',\n  '219',\n  '218',\n  '178',\n  '5',\n  '179',\n  '180',\n  '220',\n  '219',\n  '179',\n  '5',\n  '180',\n  '181',\n  '221',\n  '220',\n  '180',\n  '5',\n  '181',\n  '182',\n  '222',\n  '221',\n  '181',\n  '5',\n  '182',\n  '183',\n  '223',\n  '222',\n  '182',\n  '5',\n  '183',\n  '184',\n  '224',\n  '223',\n  '183',\n  '5',\n  '184',\n  '185',\n  '225',\n  '224',\n  '184',\n  '5',\n  '185',\n  '186',\n  '226',\n  '225',\n  '185',\n  '5',\n  '186',\n  '187',\n  '227',\n  '226',\n  '186',\n  '5',\n  '187',\n  '188',\n  '228',\n  '227',\n  '187',\n  '5',\n  '188',\n  '189',\n  '229',\n  '228',\n  '188',\n  '5',\n  '189',\n  '190',\n  '230',\n  '229',\n  '189',\n  '5',\n  '190',\n  '191',\n  '231',\n  '230',\n  '190',\n  '5',\n  '191',\n  '192',\n  '232',\n  '231',\n  '191',\n  '5',\n  '192',\n  '193',\n  '233',\n  '232',\n  '192',\n  '5',\n  '193',\n  '194',\n  '234',\n  '233',\n  '193',\n  '5',\n  '194',\n  '195',\n  '235',\n  '234',\n  '194',\n  '5',\n  '195',\n  '196',\n  '236',\n  '235',\n  '195',\n  '5',\n  '196',\n  '197',\n  '237',\n  '236',\n  '196',\n  '5',\n  '197',\n  '198',\n  '238',\n  '237',\n  '197',\n  '5',\n  '198',\n  '199',\n  '239',\n  '238',\n  '198',\n  '5',\n  '200',\n  '201',\n  '241',\n  '240',\n  '200',\n  '5',\n  '201',\n  '202',\n  '242',\n  '241',\n  '201',\n  '5',\n  '202',\n  '203',\n  '243',\n  '242',\n  '202',\n  '5',\n  '203',\n  '204',\n  '244',\n  '243',\n  '203',\n  '5',\n  '204',\n  '205',\n  '245',\n  '244',\n  '204',\n  '5',\n  '205',\n  '206',\n  '246',\n  '245',\n  '205',\n  '5',\n  '206',\n  '207',\n  '247',\n  '246',\n  '206',\n  '5',\n  '207',\n  '208',\n  '248',\n  '247',\n  '207',\n  '5',\n  '208',\n  '209',\n  '249',\n  '248',\n  '208',\n  '5',\n  '209',\n  '210',\n  '250',\n  '249',\n  '209',\n  '5',\n  '210',\n  '211',\n  '251',\n  '250',\n  '210',\n  '5',\n  '211',\n  '212',\n  '252',\n  '251',\n  '211',\n  '5',\n  '212',\n  '213',\n  '253',\n  '252',\n  '212',\n  '5',\n  '213',\n  '214',\n  '254',\n  '253',\n  '213',\n  '5',\n  '214',\n  '215',\n  '255',\n  '254',\n  '214',\n  '5',\n  '215',\n  '216',\n  '256',\n  '255',\n  '215',\n  '5',\n  '216',\n  '217',\n  '257',\n  '256',\n  '216',\n  '5',\n  '217',\n  '218',\n  '258',\n  '257',\n  '217',\n  '5',\n  '218',\n  '219',\n  '259',\n  '258',\n  '218',\n  '5',\n  '219',\n  '220',\n  '260',\n  '259',\n  '219',\n  '5',\n  '220',\n  '221',\n  '261',\n  '260',\n  '220',\n  '5',\n  '221',\n  '222',\n  '262',\n  '261',\n  '221',\n  '5',\n  '222',\n  '223',\n  '263',\n  '262',\n  '222',\n  '5',\n  '223',\n  '224',\n  '264',\n  '263',\n  '223',\n  '5',\n  '224',\n  '225',\n  '265',\n  '264',\n  '224',\n  '5',\n  '225',\n  '226',\n  '266',\n  '265',\n  '225',\n  '5',\n  '226',\n  '227',\n  '267',\n  '266',\n  '226',\n  '5',\n  '227',\n  '228',\n  '268',\n  '267',\n  '227',\n  '5',\n  '228',\n  '229',\n  '269',\n  '268',\n  '228',\n  '5',\n  '229',\n  '230',\n  '270',\n  '269',\n  '229',\n  '5',\n  '230',\n  '231',\n  '271',\n  '270',\n  '230',\n  '5',\n  '231',\n  '232',\n  '272',\n  '271',\n  '231',\n  '5',\n  '232',\n  '233',\n  '273',\n  '272',\n  '232',\n  '5',\n  '233',\n  '234',\n  '274',\n  '273',\n  '233',\n  '5',\n  '234',\n  '235',\n  '275',\n  '274',\n  '234',\n  '5',\n  '235',\n  '236',\n  '276',\n  '275',\n  '235',\n  '5',\n  '236',\n  '237',\n  '277',\n  '276',\n  '236',\n  '5',\n  '237',\n  '238',\n  '278',\n  '277',\n  '237',\n  '5',\n  '238',\n  '239',\n  '279',\n  '278',\n  '238',\n  '5',\n  '240',\n  '241',\n  '281',\n  '280',\n  '240',\n  '5',\n  '241',\n  '242',\n  '282',\n  '281',\n  '241',\n  '5',\n  '242',\n  '243',\n  '283',\n  '282',\n  '242',\n  '5',\n  '243',\n  '244',\n  '284',\n  '283',\n  '243',\n  '5',\n  '244',\n  '245',\n  '285',\n  '284',\n  '244',\n  '5',\n  '245',\n  '246',\n  '286',\n  '285',\n  '245',\n  '5',\n  '246',\n  '247',\n  '287',\n  '286',\n  '246',\n  '5',\n  '247',\n  '248',\n  '288',\n  '287',\n  '247',\n  '5',\n  '248',\n  '249',\n  '289',\n  '288',\n  '248',\n  '5',\n  '249',\n  '250',\n  '290',\n  '289',\n  '249',\n  '5',\n  '250',\n  '251',\n  '291',\n  '290',\n  '250',\n  '5',\n  '251',\n  '252',\n  '292',\n  '291',\n  '251',\n  '5',\n  '252',\n  '253',\n  '293',\n  '292',\n  '252',\n  '5',\n  '253',\n  '254',\n  '294',\n  '293',\n  '253',\n  '5',\n  '254',\n  '255',\n  '295',\n  '294',\n  '254',\n  '5',\n  '255',\n  '256',\n  '296',\n  '295',\n  '255',\n  '5',\n  '256',\n  '257',\n  '297',\n  '296',\n  '256',\n  '5',\n  '257',\n  '258',\n  '298',\n  '297',\n  '257',\n  '5',\n  '258',\n  '259',\n  '299',\n  '298',\n  '258',\n  '5',\n  '259',\n  '260',\n  '300',\n  '299',\n  '259',\n  '5',\n  '260',\n  '261',\n  '301',\n  '300',\n  '260',\n  '5',\n  '261',\n  '262',\n  '302',\n  '301',\n  '261',\n  '5',\n  '262',\n  '263',\n  '303',\n  '302',\n  '262',\n  '5',\n  '263',\n  '264',\n  '304',\n  '303',\n  '263',\n  '5',\n  '264',\n  '265',\n  '305',\n  '304',\n  '264',\n  '5',\n  '265',\n  '266',\n  '306',\n  '305',\n  '265',\n  '5',\n  '266',\n  '267',\n  '307',\n  '306',\n  '266',\n  '5',\n  '267',\n  '268',\n  '308',\n  '307',\n  '267',\n  '5',\n  '268',\n  '269',\n  '309',\n  '308',\n  '268',\n  '5',\n  '269',\n  '270',\n  '310',\n  '309',\n  '269',\n  '5',\n  '270',\n  '271',\n  '311',\n  '310',\n  '270',\n  '5',\n  '271',\n  '272',\n  '312',\n  '311',\n  '271',\n  '5',\n  '272',\n  '273',\n  '313',\n  '312',\n  '272',\n  '5',\n  '273',\n  '274',\n  '314',\n  '313',\n  '273',\n  '5',\n  '274',\n  '275',\n  '315',\n  '314',\n  '274',\n  '5',\n  '275',\n  '276',\n  '316',\n  '315',\n  '275',\n  '5',\n  '276',\n  '277',\n  '317',\n  '316',\n  '276',\n  '5',\n  '277',\n  '278',\n  '318',\n  '317',\n  '277',\n  '5',\n  '278',\n  '279',\n  '319',\n  '318',\n  '278',\n  '5',\n  '280',\n  '281',\n  '321',\n  '320',\n  '280',\n  '5',\n  '281',\n  '282',\n  '322',\n  '321',\n  '281',\n  '5',\n  '282',\n  '283',\n  '323',\n  '322',\n  '282',\n  '5',\n  '283',\n  '284',\n  '324',\n  '323',\n  '283',\n  '5',\n  '284',\n  '285',\n  '325',\n  '324',\n  '284',\n  '5',\n  '285',\n  '286',\n  '326',\n  '325',\n  '285',\n  '5',\n  '286',\n  '287',\n  '327',\n  '326',\n  '286',\n  '5',\n  '287',\n  '288',\n  '328',\n  '327',\n  '287',\n  '5',\n  '288',\n  '289',\n  '329',\n  '328',\n  '288',\n  '5',\n  '289',\n  '290',\n  '330',\n  '329',\n  '289',\n  '5',\n  '290',\n  '291',\n  '331',\n  '330',\n  '290',\n  '5',\n  '291',\n  '292',\n  '332',\n  '331',\n  '291',\n  '5',\n  '292',\n  '293',\n  '333',\n  '332',\n  '292',\n  '5',\n  '293',\n  '294',\n  '334',\n  '333',\n  '293',\n  '5',\n  '294',\n  '295',\n  '335',\n  '334',\n  '294',\n  '5',\n  '295',\n  '296',\n  '336',\n  '335',\n  '295',\n  '5',\n  '296',\n  '297',\n  '337',\n  '336',\n  '296',\n  '5',\n  '297',\n  '298',\n  '338',\n  '337',\n  '297',\n  '5',\n  '298',\n  '299',\n  '339',\n  '338',\n  '298',\n  '5',\n  '299',\n  '300',\n  '340',\n  '339',\n  '299',\n  '5',\n  '300',\n  '301',\n  '341',\n  '340',\n  '300',\n  '5',\n  '301',\n  '302',\n  '342',\n  '341',\n  '301',\n  '5',\n  '302',\n  '303',\n  '343',\n  '342',\n  '302',\n  '5',\n  '303',\n  '304',\n  '344',\n  '343',\n  '303',\n  '5',\n  '304',\n  '305',\n  '345',\n  '344',\n  '304',\n  '5',\n  '305',\n  '306',\n  '346',\n  '345',\n  '305',\n  '5',\n  '306',\n  '307',\n  '347',\n  '346',\n  '306',\n  '5',\n  '307',\n  '308',\n  '348',\n  '347',\n  '307',\n  '5',\n  '308',\n  '309',\n  '349',\n  '348',\n  '308',\n  '5',\n  '309',\n  '310',\n  '350',\n  '349',\n  '309',\n  '5',\n  '310',\n  '311',\n  '351',\n  '350',\n  '310',\n  '5',\n  '311',\n  '312',\n  '352',\n  '351',\n  '311',\n  '5',\n  '312',\n  '313',\n  '353',\n  '352',\n  '312',\n  '5',\n  '313',\n  '314',\n  '354',\n  '353',\n  '313',\n  '5',\n  '314',\n  '315',\n  '355',\n  '354',\n  '314',\n  '5',\n  '315',\n  '316',\n  '356',\n  '355',\n  '315',\n  '5',\n  '316',\n  '317',\n  '357',\n  '356',\n  '316',\n  '5',\n  '317',\n  '318',\n  '358',\n  '357',\n  '317',\n  '5',\n  '318',\n  '319',\n  '359',\n  '358',\n  '318',\n  '5',\n  '320',\n  '321',\n  '361',\n  '360',\n  '320',\n  '5',\n  '321',\n  '322',\n  '362',\n  '361',\n  '321',\n  '5',\n  '322',\n  '323',\n  '363',\n  '362',\n  '322',\n  '5',\n  '323',\n  '324',\n  '364',\n  '363',\n  '323',\n  '5',\n  '324',\n  '325',\n  '365',\n  '364',\n  '324',\n  '5',\n  '325',\n  '326',\n  '366',\n  '365',\n  '325',\n  '5',\n  '326',\n  '327',\n  '367',\n  '366',\n  '326',\n  '5',\n  '327',\n  '328',\n  '368',\n  '367',\n  '327',\n  '5',\n  '328',\n  '329',\n  '369',\n  '368',\n  '328',\n  '5',\n  '329',\n  '330',\n  '370',\n  '369',\n  '329',\n  '5',\n  '330',\n  '331',\n  '371',\n  '370',\n  '330',\n  '5',\n  '331',\n  '332',\n  '372',\n  '371',\n  '331',\n  '5',\n  '332',\n  '333',\n  '373',\n  '372',\n  '332',\n  '5',\n  '333',\n  '334',\n  '374',\n  '373',\n  '333',\n  '5',\n  '334',\n  '335',\n  '375',\n  '374',\n  '334',\n  '5',\n  '335',\n  '336',\n  '376',\n  '375',\n  '335',\n  '5',\n  '336',\n  '337',\n  '377',\n  '376',\n  '336',\n  '5',\n  '337',\n  '338',\n  '378',\n  '377',\n  '337',\n  '5',\n  '338',\n  '339',\n  '379',\n  '378',\n  '338',\n  '5',\n  '339',\n  '340',\n  '380',\n  '379',\n  '339',\n  '5',\n  '340',\n  '341',\n  '381',\n  '380',\n  '340',\n  '5',\n  '341',\n  '342',\n  '382',\n  '381',\n  '341',\n  '5',\n  '342',\n  '343',\n  '383',\n  '382',\n  '342',\n  '5',\n  '343',\n  '344',\n  '384',\n  '383',\n  '343',\n  '5',\n  '344',\n  '345',\n  '385',\n  '384',\n  '344',\n  '5',\n  '345',\n  '346',\n  '386',\n  '385',\n  '345',\n  '5',\n  '346',\n  '347',\n  '387',\n  '386',\n  '346',\n  '5',\n  '347',\n  '348',\n  '388',\n  '387',\n  '347',\n  '5',\n  '348',\n  '349',\n  '389',\n  '388',\n  '348',\n  '5',\n  '349',\n  '350',\n  '390',\n  '389',\n  '349',\n  '5',\n  '350',\n  '351',\n  '391',\n  '390',\n  '350',\n  '5',\n  '351',\n  '352',\n  '392',\n  '391',\n  '351',\n  '5',\n  '352',\n  '353',\n  '393',\n  '392',\n  '352',\n  '5',\n  '353',\n  '354',\n  '394',\n  '393',\n  '353',\n  '5',\n  '354',\n  '355',\n  '395',\n  '394',\n  '354',\n  '5',\n  '355',\n  '356',\n  '396',\n  '395',\n  '355',\n  '5',\n  '356',\n  '357',\n  '397',\n  '396',\n  '356',\n  '5',\n  '357',\n  '358',\n  '398',\n  '397',\n  '357',\n  '5',\n  '358',\n  '359',\n  '399',\n  '398',\n  '358',\n  '5',\n  '360',\n  '361',\n  '401',\n  '400',\n  '360',\n  '5',\n  '361',\n  '362',\n  '402',\n  '401',\n  '361',\n  '5',\n  '362',\n  '363',\n  '403',\n  '402',\n  '362',\n  '5',\n  '363',\n  '364',\n  '404',\n  '403',\n  '363',\n  '5',\n  '364',\n  '365',\n  '405',\n  '404',\n  '364',\n  '5',\n  '365',\n  '366',\n  '406',\n  '405',\n  '365',\n  '5',\n  '366',\n  '367',\n  '407',\n  '406',\n  '366',\n  '5',\n  '367',\n  '368',\n  '408',\n  '407',\n  '367',\n  '5',\n  '368',\n  '369',\n  '409',\n  '408',\n  '368',\n  '5',\n  '369',\n  '370',\n  '410',\n  '409',\n  '369',\n  '5',\n  '370',\n  '371',\n  '411',\n  '410',\n  '370',\n  '5',\n  '371',\n  '372',\n  '412',\n  '411',\n  '371',\n  '5',\n  '372',\n  '373',\n  '413',\n  '412',\n  '372',\n  '5',\n  '373',\n  '374',\n  '414',\n  '413',\n  '373',\n  '5',\n  '374',\n  '375',\n  '415',\n  '414',\n  '374',\n  '5',\n  '375',\n  '376',\n  '416',\n  '415',\n  '375',\n  '5',\n  '376',\n  '377',\n  '417',\n  '416',\n  '376',\n  '5',\n  '377',\n  '378',\n  '418',\n  '417',\n  '377',\n  '5',\n  '378',\n  '379',\n  '419',\n  '418',\n  '378',\n  '5',\n  '379',\n  '380',\n  '420',\n  '419',\n  '379',\n  '5',\n  '380',\n  '381',\n  '421',\n  '420',\n  '380',\n  '5',\n  '381',\n  '382',\n  '422',\n  '421',\n  '381',\n  '5',\n  '382',\n  '383',\n  '423',\n  '422',\n  '382',\n  '5',\n  '383',\n  '384',\n  '424',\n  '423',\n  '383',\n  '5',\n  '384',\n  '385',\n  '425',\n  '424',\n  '384',\n  '5',\n  '385',\n  '386',\n  '426',\n  '425',\n  '385',\n  '5',\n  '386',\n  '387',\n  '427',\n  '426',\n  '386',\n  '5',\n  '387',\n  '388',\n  '428',\n  '427',\n  '387',\n  '5',\n  '388',\n  '389',\n  '429',\n  '428',\n  '388',\n  '5',\n  '389',\n  '390',\n  '430',\n  '429',\n  '389',\n  '5',\n  '390',\n  '391',\n  '431',\n  '430',\n  '390',\n  '5',\n  '391',\n  '392',\n  '432',\n  '431',\n  '391',\n  '5',\n  '392',\n  '393',\n  '433',\n  '432',\n  '392',\n  '5',\n  '393',\n  '394',\n  '434',\n  '433',\n  '393',\n  '5',\n  '394',\n  '395',\n  '435',\n  '434',\n  '394',\n  '5',\n  '395',\n  '396',\n  '436',\n  '435',\n  '395',\n  '5',\n  '396',\n  '397',\n  '437',\n  '436',\n  '396',\n  '5',\n  '397',\n  '398',\n  '438',\n  '437',\n  '397',\n  '5',\n  '398',\n  '399',\n  '439',\n  '438',\n  '398',\n  '5',\n  '400',\n  '401',\n  '441',\n  '440',\n  '400',\n  '5',\n  '401',\n  '402',\n  '442',\n  '441',\n  '401',\n  '5',\n  '402',\n  '403',\n  '443',\n  '442',\n  '402',\n  '5',\n  '403',\n  '404',\n  '444',\n  '443',\n  '403',\n  '5',\n  '404',\n  '405',\n  '445',\n  '444',\n  '404',\n  '5',\n  '405',\n  '406',\n  '446',\n  '445',\n  '405',\n  '5',\n  '406',\n  '407',\n  '447',\n  '446',\n  '406',\n  '5',\n  '407',\n  '408',\n  '448',\n  '447',\n  '407',\n  '5',\n  '408',\n  '409',\n  '449',\n  '448',\n  '408',\n  '5',\n  '409',\n  '410',\n  '450',\n  '449',\n  '409',\n  '5',\n  '410',\n  '411',\n  '451',\n  '450',\n  '410',\n  '5',\n  '411',\n  '412',\n  '452',\n  '451',\n  '411',\n  '5',\n  '412',\n  '413',\n  '453',\n  '452',\n  '412',\n  '5',\n  '413',\n  '414',\n  '454',\n  '453',\n  '413',\n  '5',\n  '414',\n  '415',\n  '455',\n  '454',\n  '414',\n  '5',\n  '415',\n  '416',\n  '456',\n  '455',\n  '415',\n  '5',\n  '416',\n  '417',\n  '457',\n  '456',\n  '416',\n  '5',\n  '417',\n  '418',\n  '458',\n  '457',\n  '417',\n  '5',\n  '418',\n  '419',\n  '459',\n  '458',\n  '418',\n  '5',\n  '419',\n  '420',\n  '460',\n  '459',\n  '419',\n  '5',\n  '420',\n  '421',\n  '461',\n  '460',\n  '420',\n  '5',\n  '421',\n  '422',\n  '462',\n  '461',\n  '421',\n  '5',\n  '422',\n  '423',\n  '463',\n  '462',\n  '422',\n  '5',\n  '423',\n  '424',\n  '464',\n  '463',\n  '423',\n  '5',\n  '424',\n  '425',\n  '465',\n  '464',\n  '424',\n  '5',\n  '425',\n  '426',\n  '466',\n  '465',\n  '425',\n  '5',\n  '426',\n  '427',\n  '467',\n  '466',\n  '426',\n  '5',\n  '427',\n  '428',\n  '468',\n  '467',\n  '427',\n  '5',\n  '428',\n  '429',\n  '469',\n  '468',\n  '428',\n  '5',\n  '429',\n  '430',\n  '470',\n  '469',\n  '429',\n  '5',\n  '430',\n  '431',\n  '471',\n  '470',\n  '430',\n  '5',\n  '431',\n  '432',\n  '472',\n  '471',\n  '431',\n  '5',\n  '432',\n  '433',\n  '473',\n  '472',\n  '432',\n  '5',\n  '433',\n  '434',\n  '474',\n  '473',\n  '433',\n  '5',\n  '434',\n  '435',\n  '475',\n  '474',\n  '434',\n  '5',\n  '435',\n  '436',\n  '476',\n  '475',\n  '435',\n  '5',\n  '436',\n  '437',\n  '477',\n  '476',\n  '436',\n  '5',\n  '437',\n  '438',\n  '478',\n  '477',\n  '437',\n  '5',\n  '438',\n  '439',\n  '479',\n  '478',\n  '438',\n  '5',\n  '440',\n  '441',\n  '481',\n  '480',\n  '440',\n  '5',\n  '441',\n  '442',\n  '482',\n  '481',\n  '441',\n  '5',\n  '442',\n  '443',\n  '483',\n  '482',\n  '442',\n  '5',\n  '443',\n  '444',\n  '484',\n  '483',\n  '443',\n  '5',\n  '444',\n  '445',\n  '485',\n  '484',\n  '444',\n  '5',\n  '445',\n  '446',\n  '486',\n  '485',\n  '445',\n  '5',\n  '446',\n  '447',\n  '487',\n  '486',\n  '446',\n  '5',\n  '447',\n  '448',\n  '488',\n  '487',\n  '447',\n  '5',\n  '448',\n  '449',\n  '489',\n  '488',\n  '448',\n  '5',\n  '449',\n  '450',\n  '490',\n  '489',\n  '449',\n  '5',\n  '450',\n  '451',\n  '491',\n  '490',\n  '450',\n  '5',\n  '451',\n  '452',\n  '492',\n  '491',\n  '451',\n  '5',\n  '452',\n  '453',\n  '493',\n  '492',\n  '452',\n  '5',\n  '453',\n  '454',\n  '494',\n  '493',\n  '453',\n  '5',\n  '454',\n  '455',\n  '495',\n  '494',\n  '454',\n  '5',\n  '455',\n  '456',\n  '496',\n  '495',\n  '455',\n  '5',\n  '456',\n  '457',\n  '497',\n  '496',\n  '456',\n  '5',\n  '457',\n  '458',\n  '498',\n  '497',\n  '457',\n  '5',\n  '458',\n  '459',\n  '499',\n  '498',\n  '458',\n  '5',\n  '459',\n  '460',\n  '500',\n  '499',\n  '459',\n  '5',\n  '460',\n  '461',\n  '501',\n  '500',\n  '460',\n  '5',\n  '461',\n  '462',\n  '502',\n  '501',\n  '461',\n  '5',\n  '462',\n  '463',\n  '503',\n  '502',\n  '462',\n  '5',\n  '463',\n  '464',\n  '504',\n  '503',\n  '463',\n  '5',\n  '464',\n  '465',\n  '505',\n  '504',\n  '464',\n  '5',\n  '465',\n  '466',\n  '506',\n  '505',\n  '465',\n  '5',\n  '466',\n  '467',\n  '507',\n  '506',\n  '466',\n  '5',\n  '467',\n  '468',\n  '508',\n  '507',\n  '467',\n  '5',\n  '468',\n  '469',\n  '509',\n  '508',\n  '468',\n  '5',\n  '469',\n  '470',\n  '510',\n  '509',\n  '469',\n  '5',\n  '470',\n  '471',\n  '511',\n  '510',\n  '470',\n  '5',\n  '471',\n  '472',\n  '512',\n  '511',\n  '471',\n  '5',\n  '472',\n  '473',\n  '513',\n  '512',\n  '472',\n  '5',\n  '473',\n  '474',\n  '514',\n  '513',\n  '473',\n  '5',\n  '474',\n  '475',\n  '515',\n  '514',\n  '474',\n  '5',\n  '475',\n  '476',\n  '516',\n  '515',\n  '475',\n  '5',\n  '476',\n  '477',\n  '517',\n  '516',\n  '476',\n  '5',\n  '477',\n  '478',\n  '518',\n  '517',\n  '477',\n  '5',\n  '478',\n  '479',\n  '519',\n  '518',\n  '478',\n  '5',\n  '480',\n  '481',\n  '521',\n  '520',\n  '480',\n  '5',\n  '481',\n  '482',\n  '522',\n  '521',\n  '481',\n  '5',\n  '482',\n  '483',\n  '523',\n  '522',\n  '482',\n  '5',\n  '483',\n  '484',\n  '524',\n  '523',\n  '483',\n  '5',\n  '484',\n  '485',\n  '525',\n  '524',\n  '484',\n  '5',\n  '485',\n  '486',\n  '526',\n  '525',\n  '485',\n  '5',\n  '486',\n  '487',\n  '527',\n  '526',\n  '486',\n  '5',\n  '487',\n  '488',\n  '528',\n  '527',\n  '487',\n  '5',\n  '488',\n  '489',\n  '529',\n  '528',\n  '488',\n  '5',\n  '489',\n  '490',\n  '530',\n  '529',\n  '489',\n  '5',\n  '490',\n  '491',\n  '531',\n  '530',\n  '490',\n  '5',\n  '491',\n  '492',\n  '532',\n  '531',\n  '491',\n  '5',\n  '492',\n  '493',\n  '533',\n  '532',\n  '492',\n  '5',\n  '493',\n  '494',\n  '534',\n  '533',\n  '493',\n  '5',\n  '494',\n  '495',\n  '535',\n  '534',\n  '494',\n  '5',\n  '495',\n  '496',\n  '536',\n  '535',\n  '495',\n  '5',\n  '496',\n  '497',\n  '537',\n  '536',\n  '496',\n  '5',\n  '497',\n  '498',\n  '538',\n  '537',\n  '497',\n  '5',\n  '498',\n  '499',\n  '539',\n  '538',\n  '498',\n  '5',\n  '499',\n  '500',\n  '540',\n  '539',\n  '499',\n  '5',\n  '500',\n  '501',\n  '541',\n  '540',\n  '500',\n  '5',\n  '501',\n  '502',\n  '542',\n  '541',\n  '501',\n  '5',\n  '502',\n  '503',\n  '543',\n  '542',\n  '502',\n  '5',\n  '503',\n  '504',\n  '544',\n  '543',\n  '503',\n  '5',\n  '504',\n  '505',\n  '545',\n  '544',\n  '504',\n  '5',\n  '505',\n  '506',\n  '546',\n  '545',\n  '505',\n  '5',\n  '506',\n  '507',\n  '547',\n  '546',\n  '506',\n  '5',\n  '507',\n  '508',\n  '548',\n  '547',\n  '507',\n  '5',\n  '508',\n  '509',\n  '549',\n  '548',\n  '508',\n  '5',\n  '509',\n  '510',\n  '550',\n  '549',\n  '509',\n  '5',\n  '510',\n  '511',\n  '551',\n  '550',\n  '510',\n  '5',\n  '511',\n  '512',\n  '552',\n  '551',\n  '511',\n  '5',\n  '512',\n  '513',\n  '553',\n  '552',\n  '512',\n  '5',\n  '513',\n  '514',\n  '554',\n  '553',\n  '513',\n  '5',\n  '514',\n  '515',\n  '555',\n  '554',\n  '514',\n  '5',\n  '515',\n  '516',\n  '556',\n  '555',\n  '515',\n  '5',\n  '516',\n  '517',\n  '557',\n  '556',\n  '516',\n  '5',\n  '517',\n  '518',\n  '558',\n  '557',\n  '517',\n  '5',\n  '518',\n  '519',\n  '559',\n  '558',\n  '518',\n  '5',\n  '520',\n  '521',\n  '561',\n  '560',\n  '520',\n  '5',\n  '521',\n  '522',\n  '562',\n  '561',\n  '521',\n  '5',\n  '522',\n  '523',\n  '563',\n  '562',\n  '522',\n  '5',\n  '523',\n  '524',\n  '564',\n  '563',\n  '523',\n  '5',\n  '524',\n  '525',\n  '565',\n  '564',\n  '524',\n  '5',\n  '525',\n  '526',\n  '566',\n  '565',\n  '525',\n  '5',\n  '526',\n  '527',\n  '567',\n  '566',\n  '526',\n  '5',\n  '527',\n  '528',\n  '568',\n  '567',\n  '527',\n  '5',\n  '528',\n  '529',\n  '569',\n  '568',\n  '528',\n  '5',\n  '529',\n  '530',\n  '570',\n  '569',\n  '529',\n  '5',\n  '530',\n  '531',\n  '571',\n  '570',\n  '530',\n  '5',\n  '531',\n  '532',\n  '572',\n  '571',\n  '531',\n  '5',\n  '532',\n  '533',\n  '573',\n  '572',\n  '532',\n  '5',\n  '533',\n  '534',\n  '574',\n  '573',\n  '533',\n  '5',\n  '534',\n  '535',\n  '575',\n  '574',\n  '534',\n  '5',\n  '535',\n  '536',\n  '576',\n  '575',\n  '535',\n  '5',\n  '536',\n  '537',\n  '577',\n  '576',\n  '536',\n  '5',\n  '537',\n  '538',\n  '578',\n  '577',\n  '537',\n  '5',\n  '538',\n  '539',\n  '579',\n  '578',\n  '538',\n  '5',\n  '539',\n  '540',\n  '580',\n  '579',\n  '539',\n  '5',\n  '540',\n  '541',\n  '581',\n  '580',\n  '540',\n  '5',\n  '541',\n  '542',\n  '582',\n  '581',\n  '541',\n  '5',\n  '542',\n  '543',\n  '583',\n  '582',\n  '542',\n  '5',\n  '543',\n  '544',\n  '584',\n  '583',\n  '543',\n  '5',\n  '544',\n  '545',\n  '585',\n  '584',\n  '544',\n  '5',\n  '545',\n  '546',\n  '586',\n  '585',\n  '545',\n  '5',\n  '546',\n  '547',\n  '587',\n  '586',\n  '546',\n  '5',\n  '547',\n  '548',\n  '588',\n  '587',\n  '547',\n  '5',\n  '548',\n  '549',\n  '589',\n  '588',\n  '548',\n  '5',\n  '549',\n  '550',\n  '590',\n  '589',\n  '549',\n  '5',\n  '550',\n  '551',\n  '591',\n  '590',\n  '550',\n  '5',\n  '551',\n  '552',\n  '592',\n  '591',\n  '551',\n  '5',\n  '552',\n  '553',\n  '593',\n  '592',\n  '552',\n  '5',\n  '553',\n  '554',\n  '594',\n  '593',\n  '553',\n  '5',\n  '554',\n  '555',\n  '595',\n  '594',\n  '554',\n  '5',\n  '555',\n  '556',\n  '596',\n  '595',\n  '555',\n  '5',\n  '556',\n  '557',\n  '597',\n  '596',\n  '556',\n  '5',\n  '557',\n  '558',\n  '598',\n  '597',\n  '557',\n  '5',\n  '558',\n  '559',\n  '599',\n  '598',\n  '558',\n  '5',\n  '560',\n  '561',\n  '601',\n  '600',\n  '560',\n  '5',\n  '561',\n  '562',\n  '602',\n  '601',\n  '561',\n  '5',\n  '562',\n  '563',\n  '603',\n  '602',\n  '562',\n  '5',\n  '563',\n  '564',\n  '604',\n  '603',\n  '563',\n  '5',\n  '564',\n  '565',\n  '605',\n  '604',\n  '564',\n  '5',\n  '565',\n  '566',\n  '606',\n  '605',\n  '565',\n  '5',\n  '566',\n  '567',\n  '607',\n  '606',\n  '566',\n  '5',\n  '567',\n  '568',\n  '608',\n  '607',\n  '567',\n  '5',\n  '568',\n  '569',\n  '609',\n  '608',\n  '568',\n  '5',\n  '569',\n  '570',\n  '610',\n  '609',\n  '569',\n  '5',\n  '570',\n  '571',\n  '611',\n  '610',\n  '570',\n  '5',\n  '571',\n  '572',\n  '612',\n  '611',\n  '571',\n  '5',\n  '572',\n  '573',\n  '613',\n  '612',\n  '572',\n  '5',\n  '573',\n  '574',\n  '614',\n  '613',\n  '573',\n  '5',\n  '574',\n  '575',\n  '615',\n  '614',\n  '574',\n  '5',\n  '575',\n  '576',\n  '616',\n  '615',\n  '575',\n  '5',\n  '576',\n  '577',\n  '617',\n  '616',\n  '576',\n  '5',\n  '577',\n  '578',\n  '618',\n  '617',\n  '577',\n  '5',\n  '578',\n  '579',\n  '619',\n  '618',\n  '578',\n  '5',\n  '579',\n  '580',\n  '620',\n  '619',\n  '579',\n  '5',\n  '580',\n  '581',\n  '621',\n  '620',\n  '580',\n  '5',\n  '581',\n  '582',\n  '622',\n  '621',\n  '581',\n  '5',\n  '582',\n  '583',\n  '623',\n  '622',\n  '582',\n  '5',\n  '583',\n  '584',\n  '624',\n  '623',\n  '583',\n  '5',\n  '584',\n  '585',\n  '625',\n  '624',\n  '584',\n  '5',\n  '585',\n  '586',\n  '626',\n  '625',\n  '585',\n  '5',\n  '586',\n  '587',\n  '627',\n  '626',\n  '586',\n  '5',\n  '587',\n  '588',\n  '628',\n  '627',\n  '587',\n  '5',\n  '588',\n  '589',\n  '629',\n  '628',\n  '588',\n  '5',\n  '589',\n  '590',\n  '630',\n  '629',\n  '589',\n  '5',\n  '590',\n  '591',\n  '631',\n  '630',\n  '590',\n  '5',\n  '591',\n  '592',\n  '632',\n  '631',\n  '591',\n  '5',\n  '592',\n  '593',\n  '633',\n  '632',\n  '592',\n  '5',\n  '593',\n  '594',\n  '634',\n  '633',\n  '593',\n  '5',\n  '594',\n  '595',\n  '635',\n  '634',\n  '594',\n  '5',\n  '595',\n  '596',\n  '636',\n  '635',\n  '595',\n  '5',\n  '596',\n  '597',\n  '637',\n  '636',\n  '596',\n  '5',\n  '597',\n  '598',\n  '638',\n  '637',\n  '597',\n  '5',\n  '598',\n  '599',\n  '639',\n  '638',\n  '598',\n  '5',\n  '600',\n  '601',\n  '641',\n  '640',\n  '600',\n  '5',\n  '601',\n  '602',\n  '642',\n  '641',\n  '601',\n  '5',\n  '602',\n  '603',\n  '643',\n  '642',\n  '602',\n  '5',\n  '603',\n  '604',\n  '644',\n  '643',\n  '603',\n  '5',\n  '604',\n  '605',\n  '645',\n  '644',\n  '604',\n  '5',\n  '605',\n  '606',\n  '646',\n  '645',\n  '605',\n  '5',\n  '606',\n  '607',\n  '647',\n  '646',\n  '606',\n  '5',\n  '607',\n  '608',\n  '648',\n  '647',\n  '607',\n  '5',\n  '608',\n  '609',\n  '649',\n  '648',\n  '608',\n  '5',\n  '609',\n  '610',\n  '650',\n  '649',\n  '609',\n  '5',\n  '610',\n  '611',\n  '651',\n  '650',\n  '610',\n  '5',\n  '611',\n  '612',\n  '652',\n  '651',\n  '611',\n  '5',\n  '612',\n  '613',\n  '653',\n  '652',\n  '612',\n  '5',\n  '613',\n  '614',\n  '654',\n  '653',\n  '613',\n  '5',\n  '614',\n  '615',\n  '655',\n  '654',\n  '614',\n  '5',\n  '615',\n  '616',\n  '656',\n  '655',\n  '615',\n  '5',\n  '616',\n  '617',\n  '657',\n  '656',\n  '616',\n  '5',\n  '617',\n  '618',\n  '658',\n  '657',\n  '617',\n  '5',\n  '618',\n  '619',\n  '659',\n  '658',\n  '618',\n  '5',\n  '619',\n  '620',\n  '660',\n  '659',\n  '619',\n  '5',\n  '620',\n  '621',\n  '661',\n  '660',\n  '620',\n  '5',\n  '621',\n  '622',\n  '662',\n  '661',\n  '621',\n  '5',\n  '622',\n  '623',\n  '663',\n  '662',\n  '622',\n  '5',\n  '623',\n  '624',\n  '664',\n  '663',\n  '623',\n  '5',\n  '624',\n  '625',\n  '665',\n  '664',\n  '624',\n  '5',\n  '625',\n  '626',\n  '666',\n  '665',\n  '625',\n  '5',\n  '626',\n  '627',\n  '667',\n  '666',\n  '626',\n  '5',\n  '627',\n  '628',\n  '668',\n  '667',\n  '627',\n  '5',\n  '628',\n  '629',\n  '669',\n  '668',\n  '628',\n  '5',\n  '629',\n  '630',\n  '670',\n  '669',\n  '629',\n  '5',\n  '630',\n  '631',\n  '671',\n  '670',\n  '630',\n  '5',\n  '631',\n  '632',\n  '672',\n  '671',\n  '631',\n  '5',\n  '632',\n  '633',\n  '673',\n  '672',\n  '632',\n  '5',\n  '633',\n  '634',\n  '674',\n  '673',\n  '633',\n  '5',\n  '634',\n  '635',\n  '675',\n  '674',\n  '634',\n  '5',\n  '635',\n  '636',\n  '676',\n  '675',\n  '635',\n  '5',\n  '636',\n  '637',\n  '677',\n  '676',\n  '636',\n  '5',\n  '637',\n  '638',\n  '678',\n  '677',\n  '637',\n  '5',\n  '638',\n  '639',\n  '679',\n  '678',\n  '638',\n  '5',\n  '640',\n  '641',\n  '681',\n  '680',\n  '640',\n  '5',\n  '641',\n  '642',\n  '682',\n  '681',\n  '641',\n  '5',\n  '642',\n  '643',\n  '683',\n  '682',\n  '642',\n  '5',\n  '643',\n  '644',\n  '684',\n  '683',\n  '643',\n  '5',\n  '644',\n  '645',\n  '685',\n  '684',\n  '644',\n  '5',\n  '645',\n  '646',\n  '686',\n  '685',\n  '645',\n  '5',\n  '646',\n  '647',\n  '687',\n  '686',\n  '646',\n  '5',\n  '647',\n  '648',\n  '688',\n  '687',\n  '647',\n  '5',\n  '648',\n  '649',\n  '689',\n  '688',\n  '648',\n  '5',\n  '649',\n  '650',\n  '690',\n  '689',\n  '649',\n  '5',\n  '650',\n  '651',\n  '691',\n  '690',\n  '650',\n  '5',\n  '651',\n  '652',\n  '692',\n  '691',\n  '651',\n  '5',\n  '652',\n  '653',\n  '693',\n  '692',\n  '652',\n  '5',\n  '653',\n  '654',\n  '694',\n  '693',\n  '653',\n  '5',\n  '654',\n  '655',\n  '695',\n  '694',\n  '654',\n  '5',\n  '655',\n  '656',\n  '696',\n  '695',\n  '655',\n  '5',\n  '656',\n  '657',\n  '697',\n  '696',\n  '656',\n  '5',\n  '657',\n  '658',\n  '698',\n  '697',\n  '657',\n  '5',\n  '658',\n  '659',\n  '699',\n  '698',\n  '658',\n  '5',\n  '659',\n  '660',\n  '700',\n  '699',\n  '659',\n  '5',\n  '660',\n  '661',\n  '701',\n  '700',\n  '660',\n  '5',\n  '661',\n  '662',\n  '702',\n  '701',\n  '661',\n  '5',\n  '662',\n  '663',\n  '703',\n  '702',\n  '662',\n  '5',\n  '663',\n  '664',\n  '704',\n  '703',\n  '663',\n  '5',\n  '664',\n  '665',\n  '705',\n  '704',\n  '664',\n  '5',\n  '665',\n  '666',\n  '706',\n  '705',\n  '665',\n  '5',\n  '666',\n  '667',\n  '707',\n  '706',\n  '666',\n  '5',\n  '667',\n  '668',\n  '708',\n  '707',\n  '667',\n  '5',\n  '668',\n  '669',\n  '709',\n  '708',\n  '668',\n  '5',\n  '669',\n  '670',\n  '710',\n  '709',\n  '669',\n  '5',\n  '670',\n  '671',\n  '711',\n  '710',\n  '670',\n  '5',\n  '671',\n  '672',\n  '712',\n  '711',\n  '671',\n  '5',\n  '672',\n  '673',\n  '713',\n  '712',\n  '672',\n  '5',\n  '673',\n  '674',\n  '714',\n  '713',\n  '673',\n  '5',\n  '674',\n  '675',\n  '715',\n  '714',\n  '674',\n  '5',\n  '675',\n  '676',\n  '716',\n  '715',\n  '675',\n  '5',\n  '676',\n  '677',\n  '717',\n  '716',\n  '676',\n  '5',\n  '677',\n  '678',\n  '718',\n  '717',\n  '677',\n  '5',\n  '678',\n  '679',\n  '719',\n  '718',\n  '678',\n  '5',\n  '680',\n  '681',\n  '721',\n  '720',\n  '680',\n  '5',\n  '681',\n  '682',\n  '722',\n  '721',\n  '681',\n  '5',\n  '682',\n  '683',\n  '723',\n  '722',\n  '682',\n  '5',\n  '683',\n  '684',\n  '724',\n  '723',\n  '683',\n  '5',\n  '684',\n  '685',\n  '725',\n  '724',\n  '684',\n  '5',\n  '685',\n  '686',\n  '726',\n  '725',\n  '685',\n  '5',\n  '686',\n  '687',\n  '727',\n  '726',\n  '686',\n  '5',\n  '687',\n  '688',\n  '728',\n  '727',\n  '687',\n  '5',\n  '688',\n  '689',\n  '729',\n  '728',\n  '688',\n  '5',\n  '689',\n  '690',\n  '730',\n  '729',\n  '689',\n  '5',\n  '690',\n  '691',\n  '731',\n  '730',\n  '690',\n  '5',\n  '691',\n  '692',\n  '732',\n  '731',\n  '691',\n  '5',\n  '692',\n  '693',\n  '733',\n  '732',\n  '692',\n  '5',\n  '693',\n  '694',\n  '734',\n  '733',\n  '693',\n  '5',\n  '694',\n  '695',\n  '735',\n  '734',\n  '694',\n  '5',\n  '695',\n  '696',\n  '736',\n  '735',\n  '695',\n  '5',\n  '696',\n  '697',\n  '737',\n  '736',\n  '696',\n  '5',\n  '697',\n  '698',\n  '738',\n  '737',\n  '697',\n  '5',\n  '698',\n  '699',\n  '739',\n  '738',\n  '698',\n  '5',\n  '699',\n  '700',\n  '740',\n  '739',\n  '699',\n  '5',\n  '700',\n  '701',\n  '741',\n  '740',\n  '700',\n  '5',\n  '701',\n  '702',\n  '742',\n  '741',\n  '701',\n  '5',\n  '702',\n  '703',\n  '743',\n  '742',\n  '702',\n  '5',\n  '703',\n  '704',\n  '744',\n  '743',\n  '703',\n  '5',\n  '704',\n  '705',\n  '745',\n  '744',\n  '704',\n  '5',\n  '705',\n  '706',\n  '746',\n  '745',\n  '705',\n  '5',\n  '706',\n  '707',\n  '747',\n  '746',\n  '706',\n  '5',\n  '707',\n  '708',\n  '748',\n  '747',\n  '707',\n  '5',\n  '708',\n  '709',\n  '749',\n  '748',\n  '708',\n  '5',\n  '709',\n  '710',\n  '750',\n  '749',\n  '709',\n  '5',\n  '710',\n  '711',\n  '751',\n  '750',\n  '710',\n  '5',\n  '711',\n  '712',\n  '752',\n  '751',\n  '711',\n  '5',\n  '712',\n  '713',\n  '753',\n  '752',\n  '712',\n  '5',\n  '713',\n  '714',\n  '754',\n  '753',\n  '713',\n  '5',\n  '714',\n  '715',\n  '755',\n  '754',\n  '714',\n  '5',\n  '715',\n  '716',\n  '756',\n  '755',\n  '715',\n  '5',\n  '716',\n  '717',\n  '757',\n  '756',\n  '716',\n  '5',\n  '717',\n  '718',\n  '758',\n  '757',\n  '717',\n  '5',\n  '718',\n  '719',\n  '759',\n  '758',\n  '718',\n  '5',\n  '720',\n  '721',\n  '761',\n  '760',\n  '720',\n  '5',\n  '721',\n  '722',\n  '762',\n  '761',\n  '721',\n  '5',\n  '722',\n  '723',\n  '763',\n  '762',\n  '722',\n  '5',\n  '723',\n  '724',\n  '764',\n  '763',\n  '723',\n  '5',\n  '724',\n  '725',\n  '765',\n  '764',\n  '724',\n  '5',\n  '725',\n  '726',\n  '766',\n  '765',\n  '725',\n  '5',\n  '726',\n  '727',\n  '767',\n  '766',\n  '726',\n  '5',\n  '727',\n  '728',\n  '768',\n  '767',\n  '727',\n  '5',\n  '728',\n  '729',\n  '769',\n  '768',\n  '728',\n  '5',\n  '729',\n  '730',\n  '770',\n  '769',\n  '729',\n  '5',\n  '730',\n  '731',\n  '771',\n  '770',\n  '730',\n  '5',\n  '731',\n  '732',\n  '772',\n  '771',\n  '731',\n  '5',\n  '732',\n  '733',\n  '773',\n  '772',\n  '732',\n  '5',\n  '733',\n  '734',\n  '774',\n  '773',\n  '733',\n  '5',\n  '734',\n  '735',\n  '775',\n  '774',\n  '734',\n  '5',\n  '735',\n  '736',\n  '776',\n  '775',\n  '735',\n  '5',\n  '736',\n  '737',\n  '777',\n  '776',\n  '736',\n  '5',\n  '737',\n  '738',\n  '778',\n  '777',\n  '737',\n  '5',\n  '738',\n  '739',\n  '779',\n  '778',\n  '738',\n  '5',\n  '739',\n  '740',\n  '780',\n  '779',\n  '739',\n  '5',\n  '740',\n  '741',\n  '781',\n  '780',\n  '740',\n  '5',\n  '741',\n  '742',\n  '782',\n  '781',\n  '741',\n  '5',\n  '742',\n  '743',\n  '783',\n  '782',\n  '742',\n  '5',\n  '743',\n  '744',\n  '784',\n  '783',\n  '743',\n  '5',\n  '744',\n  '745',\n  '785',\n  '784',\n  '744',\n  '5',\n  '745',\n  '746',\n  '786',\n  '785',\n  '745',\n  '5',\n  '746',\n  '747',\n  '787',\n  '786',\n  '746',\n  '5',\n  '747',\n  '748',\n  '788',\n  '787',\n  '747',\n  '5',\n  '748',\n  '749',\n  '789',\n  '788',\n  '748',\n  '5',\n  '749',\n  '750',\n  '790',\n  '789',\n  '749',\n  '5',\n  '750',\n  '751',\n  '791',\n  '790',\n  '750',\n  '5',\n  '751',\n  '752',\n  '792',\n  '791',\n  '751',\n  '5',\n  '752',\n  '753',\n  '793',\n  '792',\n  '752',\n  '5',\n  '753',\n  '754',\n  '794',\n  '793',\n  '753',\n  '5',\n  '754',\n  '755',\n  '795',\n  '794',\n  '754',\n  '5',\n  '755',\n  '756',\n  '796',\n  '795',\n  '755',\n  '5',\n  '756',\n  '757',\n  '797',\n  '796',\n  '756',\n  '5',\n  '757',\n  '758',\n  '798',\n  '797',\n  '757',\n  '5',\n  '758',\n  '759',\n  '799',\n  '798',\n  '758',\n  '5',\n  '760',\n  '761',\n  '801',\n  '800',\n  '760',\n  '5',\n  '761',\n  '762',\n  '802',\n  '801',\n  '761',\n  '5',\n  '762',\n  '763',\n  '803',\n  '802',\n  '762',\n  '5',\n  '763',\n  '764',\n  '804',\n  '803',\n  '763',\n  '5',\n  '764',\n  '765',\n  '805',\n  '804',\n  '764',\n  '5',\n  '765',\n  '766',\n  '806',\n  '805',\n  '765',\n  '5',\n  '766',\n  '767',\n  '807',\n  '806',\n  '766',\n  '5',\n  '767',\n  '768',\n  '808',\n  '807',\n  '767',\n  '5',\n  '768',\n  '769',\n  '809',\n  '808',\n  '768',\n  '5',\n  '769',\n  '770',\n  '810',\n  '809',\n  '769',\n  '5',\n  '770',\n  '771',\n  '811',\n  '810',\n  '770',\n  '5',\n  '771',\n  '772',\n  '812',\n  '811',\n  '771',\n  '5',\n  '772',\n  '773',\n  '813',\n  '812',\n  '772',\n  '5',\n  '773',\n  '774',\n  '814',\n  '813',\n  '773',\n  '5',\n  '774',\n  '775',\n  '815',\n  '814',\n  '774',\n  '5',\n  '775',\n  '776',\n  '816',\n  '815',\n  '775',\n  '5',\n  '776',\n  '777',\n  '817',\n  '816',\n  '776',\n  '5',\n  '777',\n  '778',\n  '818',\n  '817',\n  '777',\n  '5',\n  '778',\n  '779',\n  '819',\n  '818',\n  '778',\n  '5',\n  '779',\n  '780',\n  '820',\n  '819',\n  '779',\n  '5',\n  '780',\n  '781',\n  '821',\n  '820',\n  '780',\n  '5',\n  '781',\n  '782',\n  '822',\n  '821',\n  '781',\n  '5',\n  '782',\n  '783',\n  '823',\n  '822',\n  '782',\n  '5',\n  '783',\n  '784',\n  '824',\n  '823',\n  '783',\n  '5',\n  '784',\n  '785',\n  '825',\n  '824',\n  '784',\n  '5',\n  '785',\n  '786',\n  '826',\n  '825',\n  '785',\n  '5',\n  '786',\n  '787',\n  '827',\n  '826',\n  '786',\n  '5',\n  '787',\n  '788',\n  '828',\n  '827',\n  '787',\n  '5',\n  '788',\n  '789',\n  '829',\n  '828',\n  '788',\n  '5',\n  '789',\n  '790',\n  '830',\n  '829',\n  '789',\n  '5',\n  '790',\n  '791',\n  '831',\n  '830',\n  '790',\n  '5',\n  '791',\n  '792',\n  '832',\n  '831',\n  '791',\n  '5',\n  '792',\n  '793',\n  '833',\n  '832',\n  '792',\n  '5',\n  '793',\n  '794',\n  '834',\n  '833',\n  '793',\n  '5',\n  '794',\n  '795',\n  '835',\n  '834',\n  '794',\n  '5',\n  '795',\n  '796',\n  '836',\n  '835',\n  '795',\n  '5',\n  '796',\n  '797',\n  '837',\n  '836',\n  '796',\n  '5',\n  '797',\n  '798',\n  '838',\n  '837',\n  '797',\n  '5',\n  '798',\n  '799',\n  '839',\n  '838',\n  '798',\n  '5',\n  '800',\n  '801',\n  '841',\n  '840',\n  '800',\n  '5',\n  '801',\n  '802',\n  '842',\n  '841',\n  '801',\n  '5',\n  '802',\n  '803',\n  '843',\n  '842',\n  '802',\n  '5',\n  '803',\n  '804',\n  '844',\n  '843',\n  '803',\n  '5',\n  '804',\n  '805',\n  '845',\n  '844',\n  '804',\n  '5',\n  '805',\n  '806',\n  '846',\n  '845',\n  '805',\n  '5',\n  '806',\n  '807',\n  '847',\n  '846',\n  '806',\n  '5',\n  '807',\n  '808',\n  '848',\n  '847',\n  '807',\n  '5',\n  '808',\n  '809',\n  '849',\n  '848',\n  '808',\n  '5',\n  '809',\n  '810',\n  '850',\n  '849',\n  '809',\n  '5',\n  '810',\n  '811',\n  '851',\n  '850',\n  '810',\n  '5',\n  '811',\n  '812',\n  '852',\n  '851',\n  '811',\n  '5',\n  '812',\n  '813',\n  '853',\n  '852',\n  '812',\n  '5',\n  '813',\n  '814',\n  '854',\n  '853',\n  '813',\n  '5',\n  '814',\n  '815',\n  '855',\n  '854',\n  '814',\n  '5',\n  '815',\n  '816',\n  '856',\n  '855',\n  '815',\n  '5',\n  '816',\n  '817',\n  '857',\n  '856',\n  '816',\n  '5',\n  '817',\n  '818',\n  '858',\n  '857',\n  '817',\n  '5',\n  '818',\n  '819',\n  '859',\n  '858',\n  '818',\n  '5',\n  '819',\n  '820',\n  '860',\n  '859',\n  '819',\n  '5',\n  '820',\n  '821',\n  '861',\n  '860',\n  '820',\n  '5',\n  '821',\n  '822',\n  '862',\n  '861',\n  '821',\n  '5',\n  '822',\n  '823',\n  '863',\n  '862',\n  '822',\n  '5',\n  '823',\n  '824',\n  '864',\n  '863',\n  '823',\n  '5',\n  '824',\n  '825',\n  '865',\n  '864',\n  '824',\n  '5',\n  '825',\n  '826',\n  '866',\n  '865',\n  '825',\n  '5',\n  '826',\n  '827',\n  '867',\n  '866',\n  '826',\n  '5',\n  '827',\n  '828',\n  '868',\n  '867',\n  '827',\n  '5',\n  '828',\n  '829',\n  '869',\n  '868',\n  '828',\n  '5',\n  '829',\n  '830',\n  '870',\n  '869',\n  '829',\n  '5',\n  '830',\n  '831',\n  '871',\n  '870',\n  '830',\n  '5',\n  '831',\n  '832',\n  '872',\n  '871',\n  '831',\n  '5',\n  '832',\n  '833',\n  '873',\n  '872',\n  '832',\n  '5',\n  '833',\n  '834',\n  '874',\n  '873',\n  '833',\n  '5',\n  '834',\n  '835',\n  '875',\n  '874',\n  '834',\n  '5',\n  '835',\n  '836',\n  '876',\n  '875',\n  '835',\n  '5',\n  '836',\n  '837',\n  '877',\n  '876',\n  '836',\n  '5',\n  '837',\n  '838',\n  '878',\n  '877',\n  '837',\n  '5',\n  '838',\n  '839',\n  '879',\n  '878',\n  '838',\n  '5',\n  '840',\n  '841',\n  '881',\n  '880',\n  '840',\n  '5',\n  '841',\n  '842',\n  '882',\n  '881',\n  '841',\n  '5',\n  '842',\n  '843',\n  '883',\n  '882',\n  '842',\n  '5',\n  '843',\n  '844',\n  '884',\n  '883',\n  '843',\n  '5',\n  '844',\n  '845',\n  '885',\n  '884',\n  '844',\n  '5',\n  '845',\n  '846',\n  '886',\n  '885',\n  '845',\n  '5',\n  '846',\n  '847',\n  '887',\n  '886',\n  '846',\n  '5',\n  '847',\n  '848',\n  '888',\n  '887',\n  '847',\n  '5',\n  '848',\n  '849',\n  '889',\n  '888',\n  '848',\n  '5',\n  '849',\n  '850',\n  '890',\n  '889',\n  '849',\n  '5',\n  '850',\n  '851',\n  '891',\n  '890',\n  '850',\n  '5',\n  '851',\n  '852',\n  '892',\n  '891',\n  '851',\n  '5',\n  '852',\n  '853',\n  '893',\n  '892',\n  '852',\n  '5',\n  '853',\n  '854',\n  '894',\n  '893',\n  '853',\n  '5',\n  '854',\n  '855',\n  '895',\n  '894',\n  '854',\n  '5',\n  '855',\n  '856',\n  '896',\n  '895',\n  '855',\n  '5',\n  '856',\n  '857',\n  '897',\n  '896',\n  '856',\n  '5',\n  '857',\n  '858',\n  '898',\n  '897',\n  '857',\n  '5',\n  '858',\n  '859',\n  '899',\n  '898',\n  '858',\n  '5',\n  '859',\n  '860',\n  '900',\n  '899',\n  '859',\n  '5',\n  '860',\n  '861',\n  '901',\n  '900',\n  '860',\n  '5',\n  '861',\n  '862',\n  '902',\n  '901',\n  '861',\n  '5',\n  '862',\n  '863',\n  '903',\n  '902',\n  '862',\n  '5',\n  '863',\n  '864',\n  '904',\n  '903',\n  '863',\n  '5',\n  '864',\n  '865',\n  '905',\n  '904',\n  '864',\n  '5',\n  '865',\n  '866',\n  '906',\n  '905',\n  '865',\n  '5',\n  '866',\n  '867',\n  '907',\n  '906',\n  '866',\n  '5',\n  '867',\n  '868',\n  '908',\n  '907',\n  '867',\n  '5',\n  '868',\n  '869',\n  '909',\n  '908',\n  '868',\n  '5',\n  '869',\n  '870',\n  '910',\n  '909',\n  '869',\n  '5',\n  '870',\n  '871',\n  '911',\n  '910',\n  '870',\n  '5',\n  '871',\n  '872',\n  '912',\n  '911',\n  '871',\n  '5',\n  '872',\n  '873',\n  '913',\n  '912',\n  '872',\n  '5',\n  '873',\n  '874',\n  '914',\n  '913',\n  '873',\n  '5',\n  '874',\n  '875',\n  '915',\n  '914',\n  '874',\n  '5',\n  '875',\n  '876',\n  '916',\n  '915',\n  '875',\n  '5',\n  '876',\n  '877',\n  '917',\n  '916',\n  '876',\n  '5',\n  '877',\n  '878',\n  '918',\n  '917',\n  '877',\n  '5',\n  '878',\n  '879',\n  '919',\n  '918',\n  '878',\n  '5',\n  '880',\n  '881',\n  '921',\n  '920',\n  '880',\n  '5',\n  '881',\n  '882',\n  '922',\n  '921',\n  '881',\n  '5',\n  '882',\n  '883',\n  '923',\n  '922',\n  '882',\n  '5',\n  '883',\n  '884',\n  '924',\n  '923',\n  '883',\n  '5',\n  '884',\n  '885',\n  '925',\n  '924',\n  '884',\n  '5',\n  '885',\n  '886',\n  '926',\n  '925',\n  '885',\n  '5',\n  '886',\n  '887',\n  '927',\n  '926',\n  '886',\n  '5',\n  '887',\n  '888',\n  '928',\n  '927',\n  '887',\n  '5',\n  '888',\n  '889',\n  '929',\n  '928',\n  '888',\n  '5',\n  '889',\n  '890',\n  '930',\n  '929',\n  '889',\n  '5',\n  '890',\n  '891',\n  '931',\n  '930',\n  '890',\n  '5',\n  '891',\n  '892',\n  '932',\n  '931',\n  '891',\n  '5',\n  '892',\n  '893',\n  '933',\n  '932',\n  '892',\n  '5',\n  '893',\n  '894',\n  '934',\n  '933',\n  '893',\n  '5',\n  '894',\n  '895',\n  '935',\n  '934',\n  '894',\n  '5',\n  '895',\n  '896',\n  '936',\n  '935',\n  '895',\n  '5',\n  '896',\n  '897',\n  '937',\n  '936',\n  '896',\n  '5',\n  '897',\n  '898',\n  '938',\n  '937',\n  '897',\n  '5',\n  '898',\n  '899',\n  '939',\n  '938',\n  '898',\n  '5',\n  '899',\n  '900',\n  '940',\n  '939',\n  '899',\n  '5',\n  '900',\n  '901',\n  '941',\n  '940',\n  '900',\n  '5',\n  '901',\n  '902',\n  '942',\n  '941',\n  '901',\n  '5',\n  '902',\n  '903',\n  '943',\n  '942',\n  '902',\n  '5',\n  '903',\n  '904',\n  '944',\n  '943',\n  '903',\n  '5',\n  '904',\n  '905',\n  '945',\n  '944',\n  '904',\n  '5',\n  '905',\n  '906',\n  '946',\n  '945',\n  '905',\n  '5',\n  '906',\n  '907',\n  '947',\n  '946',\n  '906',\n  '5',\n  '907',\n  '908',\n  '948',\n  '947',\n  '907',\n  '5',\n  '908',\n  '909',\n  '949',\n  '948',\n  '908',\n  '5',\n  '909',\n  '910',\n  '950',\n  '949',\n  '909',\n  '5',\n  '910',\n  '911',\n  '951',\n  '950',\n  '910',\n  '5',\n  '911',\n  '912',\n  '952',\n  '951',\n  '911',\n  '5',\n  '912',\n  '913',\n  '953',\n  '952',\n  '912',\n  '5',\n  '913',\n  '914',\n  '954',\n  '953',\n  '913',\n  '5',\n  '914',\n  '915',\n  '955',\n  '954',\n  '914',\n  '5',\n  '915',\n  '916',\n  '956',\n  '955',\n  '915',\n  '5',\n  '916',\n  '917',\n  '957',\n  '956',\n  '916',\n  '5',\n  '917',\n  '918',\n  '958',\n  '957',\n  '917',\n  '5',\n  '918',\n  '919',\n  '959',\n  '958',\n  '918',\n  '5',\n  '920',\n  '921',\n  '961',\n  '960',\n  '920',\n  '5',\n  '921',\n  '922',\n  '962',\n  '961',\n  '921',\n  '5',\n  '922',\n  '923',\n  '963',\n  '962',\n  '922',\n  '5',\n  '923',\n  '924',\n  '964',\n  '963',\n  '923',\n  '5',\n  '924',\n  '925',\n  '965',\n  '964',\n  '924',\n  '5',\n  '925',\n  '926',\n  '966',\n  '965',\n  '925',\n  '5',\n  '926',\n  '927',\n  '967',\n  '966',\n  '926',\n  '5',\n  '927',\n  '928',\n  '968',\n  '967',\n  '927',\n  '5',\n  '928',\n  '929',\n  '969',\n  '968',\n  '928',\n  '5',\n  '929',\n  '930',\n  '970',\n  '969',\n  '929',\n  '5',\n  '930',\n  '931',\n  '971',\n  '970',\n  '930',\n  '5',\n  '931',\n  '932',\n  '972',\n  '971',\n  '931',\n  '5',\n  '932',\n  '933',\n  '973',\n  '972',\n  '932',\n  '5',\n  '933',\n  '934',\n  '974',\n  '973',\n  '933',\n  '5',\n  '934',\n  '935',\n  '975',\n  '974',\n  '934',\n  '5',\n  '935',\n  '936',\n  '976',\n  '975',\n  '935',\n  '5',\n  '936',\n  '937',\n  '977',\n  '976',\n  '936',\n  '5',\n  '937',\n  '938',\n  '978',\n  '977',\n  '937',\n  '5',\n  '938',\n  '939',\n  '979',\n  '978',\n  '938',\n  '5',\n  '939',\n  '940',\n  '980',\n  '979',\n  '939',\n  '5',\n  '940',\n  '941',\n  '981',\n  '980',\n  '940',\n  '5',\n  '941',\n  '942',\n  '982',\n  '981',\n  '941',\n  '5',\n  '942',\n  '943',\n  '983',\n  '982',\n  '942',\n  '5',\n  '943',\n  '944',\n  '984',\n  '983',\n  '943',\n  '5',\n  '944',\n  '945',\n  '985',\n  '984',\n  '944',\n  '5',\n  '945',\n  '946',\n  '986',\n  '985',\n  '945',\n  '5',\n  '946',\n  '947',\n  '987',\n  '986',\n  '946',\n  '5',\n  '947',\n  '948',\n  '988',\n  '987',\n  '947',\n  '5',\n  '948',\n  '949',\n  '989',\n  '988',\n  '948',\n  '5',\n  '949',\n  '950',\n  '990',\n  '989',\n  '949',\n  '5',\n  '950',\n  '951',\n  '991',\n  '990',\n  '950',\n  '5',\n  '951',\n  '952',\n  '992',\n  '991',\n  '951',\n  '5',\n  '952',\n  '953',\n  '993',\n  '992',\n  '952',\n  '5',\n  '953',\n  '954',\n  '994',\n  '993',\n  '953',\n  '5',\n  '954',\n  '955',\n  '995',\n  '994',\n  '954',\n  '5',\n  '955',\n  '956',\n  '996',\n  '995',\n  '955',\n  '5',\n  '956',\n  '957',\n  '997',\n  '996',\n  '956',\n  '5',\n  '957',\n  '958',\n  '998',\n  '997',\n  '957',\n  '5',\n  '958',\n  '959',\n  '999',\n  '998',\n  '958',\n  '5',\n  '960',\n  '961',\n  '1001',\n  '1000',\n  '960',\n  '5',\n  '961',\n  '962',\n  '1002',\n  '1001',\n  '961',\n  '5',\n  '962',\n  '963',\n  '1003',\n  '1002',\n  '962',\n  '5',\n  '963',\n  '964',\n  '1004',\n  '1003',\n  '963',\n  '5',\n  '964',\n  '965',\n  '1005',\n  '1004',\n  '964',\n  '5',\n  '965',\n  '966',\n  '1006',\n  '1005',\n  '965',\n  '5',\n  '966',\n  '967',\n  '1007',\n  '1006',\n  '966',\n  '5',\n  '967',\n  '968',\n  '1008',\n  '1007',\n  '967',\n  '5',\n  '968',\n  '969',\n  '1009',\n  '1008',\n  '968',\n  '5',\n  '969',\n  '970',\n  '1010',\n  '1009',\n  '969',\n  '5',\n  '970',\n  '971',\n  '1011',\n  '1010',\n  '970',\n  '5',\n  '971',\n  '972',\n  '1012',\n  '1011',\n  '971',\n  '5',\n  '972',\n  '973',\n  '1013',\n  '1012',\n  '972',\n  '5',\n  '973',\n  '974',\n  '1014',\n  '1013',\n  '973',\n  '5',\n  '974',\n  '975',\n  '1015',\n  '1014',\n  '974',\n  '5',\n  '975',\n  '976',\n  '1016',\n  '1015',\n  '975',\n  '5',\n  '976',\n  '977',\n  '1017',\n  '1016',\n  '976',\n  '5',\n  '977',\n  '978',\n  '1018',\n  '1017',\n  '977',\n  '5',\n  '978',\n  '979',\n  '1019',\n  '1018',\n  '978',\n  '5',\n  '979',\n  '980',\n  '1020',\n  '1019',\n  '979',\n  '5',\n  '980',\n  '981',\n  '1021',\n  '1020',\n  '980',\n  '5',\n  '981',\n  '982',\n  '1022',\n  '1021',\n  '981',\n  '5',\n  '982',\n  '983',\n  '1023',\n  '1022',\n  '982',\n  '5',\n  '983',\n  '984',\n  '1024',\n  '1023',\n  '983',\n  '5',\n  '984',\n  '985',\n  '1025',\n  '1024',\n  '984',\n  '5',\n  '985',\n  '986',\n  '1026',\n  '1025',\n  '985',\n  '5',\n  '986',\n  '987',\n  '1027',\n  '1026',\n  '986',\n  '5',\n  '987',\n  '988',\n  '1028',\n  '1027',\n  '987',\n  '5',\n  '988',\n  '989',\n  '1029',\n  '1028',\n  '988',\n  '5',\n  '989',\n  '990',\n  '1030',\n  '1029',\n  '989',\n  '5',\n  '990',\n  '991',\n  '1031',\n  '1030',\n  '990',\n  '5',\n  '991',\n  '992',\n  '1032',\n  '1031',\n  '991',\n  '5',\n  '992',\n  '993',\n  '1033',\n  '1032',\n  '992',\n  '5',\n  '993',\n  '994',\n  '1034',\n  '1033',\n  '993',\n  '5',\n  '994',\n  '995',\n  '1035',\n  '1034',\n  '994',\n  '5',\n  '995',\n  '996',\n  '1036',\n  '1035',\n  '995',\n  '5',\n  '996',\n  '997',\n  '1037',\n  '1036',\n  '996',\n  '5',\n  '997',\n  '998',\n  '1038',\n  '1037',\n  '997',\n  '5',\n  '998',\n  '999',\n  '1039',\n  '1038',\n  '998',\n  '5',\n  '1000',\n  '1001',\n  '1041',\n  '1040',\n  '1000',\n  '5',\n  '1001',\n  '1002',\n  '1042',\n  '1041',\n  '1001',\n  '5',\n  '1002',\n  '1003',\n  '1043',\n  '1042',\n  '1002',\n  '5',\n  '1003',\n  '1004',\n  '1044',\n  '1043',\n  '1003',\n  '5',\n  '1004',\n  '1005',\n  '1045',\n  '1044',\n  '1004',\n  '5',\n  '1005',\n  '1006',\n  '1046',\n  '1045',\n  '1005',\n  '5',\n  '1006',\n  '1007',\n  '1047',\n  '1046',\n  '1006',\n  '5',\n  '1007',\n  '1008',\n  '1048',\n  '1047',\n  '1007',\n  '5',\n  '1008',\n  '1009',\n  '1049',\n  '1048',\n  '1008',\n  '5',\n  '1009',\n  '1010',\n  '1050',\n  '1049',\n  '1009',\n  '5',\n  '1010',\n  '1011',\n  '1051',\n  '1050',\n  '1010',\n  '5',\n  '1011',\n  '1012',\n  '1052',\n  '1051',\n  '1011',\n  '5',\n  '1012',\n  '1013',\n  '1053',\n  '1052',\n  '1012',\n  '5',\n  '1013',\n  '1014',\n  '1054',\n  '1053',\n  '1013',\n  '5',\n  '1014',\n  '1015',\n  '1055',\n  '1054',\n  '1014',\n  '5',\n  '1015',\n  '1016',\n  '1056',\n  '1055',\n  '1015',\n  '5',\n  '1016',\n  '1017',\n  '1057',\n  '1056',\n  '1016',\n  '5',\n  '1017',\n  '1018',\n  '1058',\n  '1057',\n  '1017',\n  '5',\n  '1018',\n  '1019',\n  '1059',\n  '1058',\n  '1018',\n  '5',\n  '1019',\n  '1020',\n  '1060',\n  '1059',\n  '1019',\n  '5',\n  '1020',\n  '1021',\n  '1061',\n  '1060',\n  '1020',\n  '5',\n  '1021',\n  '1022',\n  '1062',\n  '1061',\n  '1021',\n  '5',\n  '1022',\n  '1023',\n  '1063',\n  '1062',\n  '1022',\n  '5',\n  '1023',\n  '1024',\n  '1064',\n  '1063',\n  '1023',\n  '5',\n  '1024',\n  '1025',\n  '1065',\n  '1064',\n  '1024',\n  '5',\n  '1025',\n  '1026',\n  '1066',\n  '1065',\n  '1025',\n  '5',\n  '1026',\n  '1027',\n  '1067',\n  '1066',\n  '1026',\n  '5',\n  '1027',\n  '1028',\n  '1068',\n  '1067',\n  '1027',\n  '5',\n  '1028',\n  '1029',\n  '1069',\n  '1068',\n  '1028',\n  '5',\n  '1029',\n  '1030',\n  '1070',\n  '1069',\n  '1029',\n  '5',\n  '1030',\n  '1031',\n  '1071',\n  '1070',\n  '1030',\n  '5',\n  '1031',\n  '1032',\n  '1072',\n  '1071',\n  '1031',\n  '5',\n  '1032',\n  '1033',\n  '1073',\n  '1072',\n  '1032',\n  '5',\n  '1033',\n  '1034',\n  '1074',\n  '1073',\n  '1033',\n  '5',\n  '1034',\n  '1035',\n  '1075',\n  '1074',\n  '1034',\n  '5',\n  '1035',\n  '1036',\n  '1076',\n  '1075',\n  '1035',\n  '5',\n  '1036',\n  '1037',\n  '1077',\n  '1076',\n  '1036',\n  '5',\n  '1037',\n  '1038',\n  '1078',\n  '1077',\n  '1037',\n  '5',\n  '1038',\n  '1039',\n  '1079',\n  '1078',\n  '1038',\n  '5',\n  '1040',\n  '1041',\n  '1081',\n  '1080',\n  '1040',\n  '5',\n  '1041',\n  '1042',\n  '1082',\n  '1081',\n  '1041',\n  '5',\n  '1042',\n  '1043',\n  '1083',\n  '1082',\n  '1042',\n  '5',\n  '1043',\n  '1044',\n  '1084',\n  '1083',\n  '1043',\n  '5',\n  '1044',\n  '1045',\n  '1085',\n  '1084',\n  '1044',\n  '5',\n  '1045',\n  '1046',\n  '1086',\n  '1085',\n  '1045',\n  '5',\n  '1046',\n  '1047',\n  '1087',\n  '1086',\n  '1046',\n  '5',\n  '1047',\n  '1048',\n  '1088',\n  '1087',\n  '1047',\n  '5',\n  '1048',\n  '1049',\n  '1089',\n  '1088',\n  '1048',\n  '5',\n  '1049',\n  '1050',\n  '1090',\n  '1089',\n  '1049',\n  '5',\n  '1050',\n  '1051',\n  '1091',\n  '1090',\n  '1050',\n  '5',\n  '1051',\n  '1052',\n  '1092',\n  '1091',\n  '1051',\n  '5',\n  '1052',\n  '1053',\n  '1093',\n  '1092',\n  '1052',\n  '5',\n  '1053',\n  '1054',\n  '1094',\n  '1093',\n  '1053',\n  '5',\n  '1054',\n  '1055',\n  '1095',\n  '1094',\n  '1054',\n  '5',\n  '1055',\n  '1056',\n  '1096',\n  '1095',\n  '1055',\n  '5',\n  '1056',\n  '1057',\n  '1097',\n  '1096',\n  '1056',\n  '5',\n  '1057',\n  '1058',\n  '1098',\n  '1097',\n  '1057',\n  '5',\n  '1058',\n  '1059',\n  '1099',\n  '1098',\n  '1058',\n  '5',\n  '1059',\n  '1060',\n  '1100',\n  '1099',\n  '1059',\n  '5',\n  '1060',\n  '1061',\n  '1101',\n  '1100',\n  '1060',\n  '5',\n  '1061',\n  '1062',\n  '1102',\n  '1101',\n  '1061',\n  '5',\n  '1062',\n  '1063',\n  '1103',\n  '1102',\n  '1062',\n  '5',\n  '1063',\n  '1064',\n  '1104',\n  '1103',\n  '1063',\n  '5',\n  '1064',\n  '1065',\n  '1105',\n  '1104',\n  '1064',\n  '5',\n  '1065',\n  '1066',\n  '1106',\n  '1105',\n  '1065',\n  '5',\n  '1066',\n  '1067',\n  '1107',\n  '1106',\n  '1066',\n  '5',\n  '1067',\n  '1068',\n  '1108',\n  '1107',\n  '1067',\n  '5',\n  '1068',\n  '1069',\n  '1109',\n  '1108',\n  '1068',\n  '5',\n  '1069',\n  '1070',\n  '1110',\n  '1109',\n  '1069',\n  '5',\n  '1070',\n  '1071',\n  '1111',\n  '1110',\n  '1070',\n  '5',\n  '1071',\n  '1072',\n  '1112',\n  '1111',\n  '1071',\n  '5',\n  '1072',\n  '1073',\n  '1113',\n  '1112',\n  '1072',\n  '5',\n  '1073',\n  '1074',\n  '1114',\n  '1113',\n  '1073',\n  '5',\n  '1074',\n  '1075',\n  '1115',\n  '1114',\n  '1074',\n  '5',\n  '1075',\n  '1076',\n  '1116',\n  '1115',\n  '1075',\n  '5',\n  '1076',\n  '1077',\n  '1117',\n  '1116',\n  '1076',\n  '5',\n  '1077',\n  '1078',\n  '1118',\n  '1117',\n  '1077',\n  '5',\n  '1078',\n  '1079',\n  '1119',\n  '1118',\n  '1078',\n  '5',\n  '1080',\n  '1081',\n  '1121',\n  '1120',\n  '1080',\n  '5',\n  '1081',\n  '1082',\n  '1122',\n  '1121',\n  '1081',\n  '5',\n  '1082',\n  '1083',\n  '1123',\n  '1122',\n  '1082',\n  '5',\n  '1083',\n  '1084',\n  '1124',\n  '1123',\n  '1083',\n  '5',\n  '1084',\n  '1085',\n  '1125',\n  '1124',\n  '1084',\n  '5',\n  '1085',\n  '1086',\n  '1126',\n  '1125',\n  '1085',\n  '5',\n  '1086',\n  '1087',\n  '1127',\n  '1126',\n  '1086',\n  '5',\n  '1087',\n  '1088',\n  '1128',\n  '1127',\n  '1087',\n  '5',\n  '1088',\n  '1089',\n  '1129',\n  '1128',\n  '1088',\n  '5',\n  '1089',\n  '1090',\n  '1130',\n  '1129',\n  '1089',\n  '5',\n  '1090',\n  '1091',\n  '1131',\n  '1130',\n  '1090',\n  '5',\n  '1091',\n  '1092',\n  '1132',\n  '1131',\n  '1091',\n  '5',\n  '1092',\n  '1093',\n  '1133',\n  '1132',\n  '1092',\n  '5',\n  '1093',\n  '1094',\n  '1134',\n  '1133',\n  '1093',\n  '5',\n  '1094',\n  '1095',\n  '1135',\n  '1134',\n  '1094',\n  '5',\n  '1095',\n  '1096',\n  '1136',\n  '1135',\n  '1095',\n  '5',\n  '1096',\n  '1097',\n  '1137',\n  '1136',\n  '1096',\n  '5',\n  '1097',\n  '1098',\n  '1138',\n  '1137',\n  '1097',\n  '5',\n  '1098',\n  '1099',\n  '1139',\n  '1138',\n  '1098',\n  '5',\n  '1099',\n  '1100',\n  '1140',\n  '1139',\n  '1099',\n  '5',\n  '1100',\n  '1101',\n  '1141',\n  '1140',\n  '1100',\n  '5',\n  '1101',\n  '1102',\n  '1142',\n  '1141',\n  '1101',\n  '5',\n  '1102',\n  '1103',\n  '1143',\n  '1142',\n  '1102',\n  '5',\n  '1103',\n  '1104',\n  '1144',\n  '1143',\n  '1103',\n  '5',\n  '1104',\n  '1105',\n  '1145',\n  '1144',\n  '1104',\n  '5',\n  '1105',\n  '1106',\n  '1146',\n  '1145',\n  '1105',\n  '5',\n  '1106',\n  '1107',\n  '1147',\n  '1146',\n  '1106',\n  '5',\n  '1107',\n  '1108',\n  '1148',\n  '1147',\n  '1107',\n  '5',\n  '1108',\n  '1109',\n  '1149',\n  '1148',\n  '1108',\n  '5',\n  '1109',\n  '1110',\n  '1150',\n  '1149',\n  '1109',\n  '5',\n  '1110',\n  '1111',\n  '1151',\n  '1150',\n  '1110',\n  '5',\n  '1111',\n  '1112',\n  '1152',\n  '1151',\n  '1111',\n  '5',\n  '1112',\n  '1113',\n  '1153',\n  '1152',\n  '1112',\n  '5',\n  '1113',\n  '1114',\n  '1154',\n  '1153',\n  '1113',\n  '5',\n  '1114',\n  '1115',\n  '1155',\n  '1154',\n  '1114',\n  '5',\n  '1115',\n  '1116',\n  '1156',\n  '1155',\n  '1115',\n  '5',\n  '1116',\n  '1117',\n  '1157',\n  '1156',\n  '1116',\n  '5',\n  '1117',\n  '1118',\n  '1158',\n  '1157',\n  '1117',\n  '5',\n  '1118',\n  '1119',\n  '1159',\n  '1158',\n  '1118',\n  '5',\n  '1120',\n  '1121',\n  '1161',\n  '1160',\n  '1120',\n  '5',\n  '1121',\n  '1122',\n  '1162',\n  '1161',\n  '1121',\n  '5',\n  '1122',\n  '1123',\n  '1163',\n  '1162',\n  '1122',\n  '5',\n  '1123',\n  '1124',\n  '1164',\n  '1163',\n  '1123',\n  '5',\n  '1124',\n  '1125',\n  '1165',\n  '1164',\n  '1124',\n  '5',\n  '1125',\n  '1126',\n  '1166',\n  '1165',\n  '1125',\n  '5',\n  '1126',\n  '1127',\n  '1167',\n  '1166',\n  '1126',\n  '5',\n  '1127',\n  '1128',\n  '1168',\n  '1167',\n  '1127',\n  '5',\n  '1128',\n  '1129',\n  '1169',\n  '1168',\n  '1128',\n  '5',\n  '1129',\n  '1130',\n  '1170',\n  '1169',\n  '1129',\n  '5',\n  '1130',\n  '1131',\n  '1171',\n  '1170',\n  '1130',\n  '5',\n  '1131',\n  '1132',\n  '1172',\n  '1171',\n  '1131',\n  '5',\n  '1132',\n  '1133',\n  '1173',\n  '1172',\n  '1132',\n  '5',\n  '1133',\n  '1134',\n  '1174',\n  '1173',\n  '1133',\n  '5',\n  '1134',\n  '1135',\n  '1175',\n  '1174',\n  '1134',\n  '5',\n  '1135',\n  '1136',\n  '1176',\n  '1175',\n  '1135',\n  '5',\n  '1136',\n  '1137',\n  '1177',\n  '1176',\n  '1136',\n  '5',\n  '1137',\n  '1138',\n  '1178',\n  '1177',\n  '1137',\n  '5',\n  '1138',\n  '1139',\n  '1179',\n  '1178',\n  '1138',\n  '5',\n  '1139',\n  '1140',\n  '1180',\n  '1179',\n  '1139',\n  '5',\n  '1140',\n  '1141',\n  '1181',\n  '1180',\n  '1140',\n  '5',\n  '1141',\n  '1142',\n  '1182',\n  '1181',\n  '1141',\n  '5',\n  '1142',\n  '1143',\n  '1183',\n  '1182',\n  '1142',\n  '5',\n  '1143',\n  '1144',\n  '1184',\n  '1183',\n  '1143',\n  '5',\n  '1144',\n  '1145',\n  '1185',\n  '1184',\n  '1144',\n  '5',\n  '1145',\n  '1146',\n  '1186',\n  '1185',\n  '1145',\n  '5',\n  '1146',\n  '1147',\n  '1187',\n  '1186',\n  '1146',\n  '5',\n  '1147',\n  '1148',\n  '1188',\n  '1187',\n  '1147',\n  '5',\n  '1148',\n  '1149',\n  '1189',\n  '1188',\n  '1148',\n  '5',\n  '1149',\n  '1150',\n  '1190',\n  '1189',\n  '1149',\n  '5',\n  '1150',\n  '1151',\n  '1191',\n  '1190',\n  '1150',\n  '5',\n  '1151',\n  '1152',\n  '1192',\n  '1191',\n  '1151',\n  '5',\n  '1152',\n  '1153',\n  '1193',\n  '1192',\n  '1152',\n  '5',\n  '1153',\n  '1154',\n  '1194',\n  '1193',\n  '1153',\n  '5',\n  '1154',\n  '1155',\n  '1195',\n  '1194',\n  '1154',\n  '5',\n  '1155',\n  '1156',\n  '1196',\n  '1195',\n  '1155',\n  '5',\n  '1156',\n  '1157',\n  '1197',\n  '1196',\n  '1156',\n  '5',\n  '1157',\n  '1158',\n  '1198',\n  '1197',\n  '1157',\n  '5',\n  '1158',\n  '1159',\n  '1199',\n  '1198',\n  '1158',\n  '5',\n  '1160',\n  '1161',\n  '1201',\n  '1200',\n  '1160',\n  '5',\n  '1161',\n  '1162',\n  '1202',\n  '1201',\n  '1161',\n  '5',\n  '1162',\n  '1163',\n  '1203',\n  '1202',\n  '1162',\n  '5',\n  '1163',\n  '1164',\n  '1204',\n  '1203',\n  '1163',\n  '5',\n  '1164',\n  '1165',\n  '1205',\n  '1204',\n  '1164',\n  '5',\n  '1165',\n  '1166',\n  '1206',\n  '1205',\n  '1165',\n  '5',\n  '1166',\n  '1167',\n  '1207',\n  '1206',\n  '1166',\n  '5',\n  '1167',\n  '1168',\n  '1208',\n  '1207',\n  '1167',\n  '5',\n  '1168',\n  '1169',\n  '1209',\n  '1208',\n  '1168',\n  '5',\n  '1169',\n  '1170',\n  '1210',\n  '1209',\n  '1169',\n  '5',\n  '1170',\n  '1171',\n  '1211',\n  '1210',\n  '1170',\n  '5',\n  '1171',\n  '1172',\n  '1212',\n  '1211',\n  '1171',\n  '5',\n  '1172',\n  '1173',\n  '1213',\n  '1212',\n  '1172',\n  '5',\n  '1173',\n  '1174',\n  '1214',\n  '1213',\n  '1173',\n  '5',\n  '1174',\n  '1175',\n  '1215',\n  '1214',\n  '1174',\n  '5',\n  '1175',\n  '1176',\n  '1216',\n  '1215',\n  '1175',\n  '5',\n  '1176',\n  '1177',\n  '1217',\n  '1216',\n  '1176',\n  '5',\n  '1177',\n  '1178',\n  '1218',\n  '1217',\n  '1177',\n  '5',\n  '1178',\n  '1179',\n  '1219',\n  '1218',\n  '1178',\n  '5',\n  '1179',\n  '1180',\n  '1220',\n  '1219',\n  '1179',\n  '5',\n  '1180',\n  '1181',\n  '1221',\n  '1220',\n  '1180',\n  '5',\n  '1181',\n  '1182',\n  '1222',\n  '1221',\n  '1181',\n  '5',\n  '1182',\n  '1183',\n  '1223',\n  '1222',\n  '1182',\n  '5',\n  '1183',\n  '1184',\n  '1224',\n  '1223',\n  '1183',\n  '5',\n  '1184',\n  '1185',\n  '1225',\n  '1224',\n  '1184',\n  '5',\n  '1185',\n  '1186',\n  '1226',\n  '1225',\n  '1185',\n  '5',\n  '1186',\n  '1187',\n  '1227',\n  '1226',\n  '1186',\n  '5',\n  '1187',\n  '1188',\n  '1228',\n  '1227',\n  '1187',\n  '5',\n  '1188',\n  '1189',\n  '1229',\n  '1228',\n  '1188',\n  '5',\n  '1189',\n  '1190',\n  '1230',\n  '1229',\n  '1189',\n  '5',\n  '1190',\n  '1191',\n  '1231',\n  '1230',\n  '1190',\n  '5',\n  '1191',\n  '1192',\n  '1232',\n  '1231',\n  '1191',\n  '5',\n  '1192',\n  '1193',\n  '1233',\n  '1232',\n  '1192',\n  '5',\n  '1193',\n  '1194',\n  '1234',\n  '1233',\n  '1193',\n  '5',\n  '1194',\n  '1195',\n  '1235',\n  '1234',\n  '1194',\n  '5',\n  '1195',\n  '1196',\n  '1236',\n  '1235',\n  '1195',\n  '5',\n  '1196',\n  '1197',\n  '1237',\n  '1236',\n  '1196',\n  '5',\n  '1197',\n  '1198',\n  '1238',\n  '1237',\n  '1197',\n  '5',\n  '1198',\n  '1199',\n  '1239',\n  '1238',\n  '1198',\n  '5',\n  '1200',\n  '1201',\n  '1241',\n  '1240',\n  '1200',\n  '5',\n  '1201',\n  '1202',\n  '1242',\n  '1241',\n  '1201',\n  '5',\n  '1202',\n  '1203',\n  '1243',\n  '1242',\n  '1202',\n  '5',\n  '1203',\n  '1204',\n  '1244',\n  '1243',\n  '1203',\n  '5',\n  '1204',\n  '1205',\n  '1245',\n  '1244',\n  '1204',\n  '5',\n  '1205',\n  '1206',\n  '1246',\n  '1245',\n  '1205',\n  '5',\n  '1206',\n  '1207',\n  '1247',\n  '1246',\n  '1206',\n  '5',\n  '1207',\n  '1208',\n  '1248',\n  '1247',\n  '1207',\n  '5',\n  '1208',\n  '1209',\n  '1249',\n  '1248',\n  '1208',\n  '5',\n  '1209',\n  '1210',\n  '1250',\n  '1249',\n  '1209',\n  '5',\n  '1210',\n  '1211',\n  '1251',\n  '1250',\n  '1210',\n  '5',\n  '1211',\n  '1212',\n  '1252',\n  '1251',\n  '1211',\n  '5',\n  '1212',\n  '1213',\n  '1253',\n  '1252',\n  '1212',\n  '5',\n  '1213',\n  '1214',\n  '1254',\n  '1253',\n  '1213',\n  '5',\n  '1214',\n  '1215',\n  '1255',\n  '1254',\n  '1214',\n  '5',\n  '1215',\n  '1216',\n  '1256',\n  '1255',\n  '1215',\n  '5',\n  '1216',\n  '1217',\n  '1257',\n  '1256',\n  '1216',\n  '5',\n  '1217',\n  '1218',\n  '1258',\n  '1257',\n  '1217',\n  '5',\n  '1218',\n  '1219',\n  '1259',\n  '1258',\n  '1218',\n  '5',\n  '1219',\n  '1220',\n  '1260',\n  '1259',\n  '1219',\n  '5',\n  '1220',\n  '1221',\n  '1261',\n  '1260',\n  '1220',\n  '5',\n  '1221',\n  '1222',\n  '1262',\n  '1261',\n  '1221',\n  '5',\n  '1222',\n  '1223',\n  '1263',\n  '1262',\n  '1222',\n  '5',\n  '1223',\n  '1224',\n  '1264',\n  '1263',\n  '1223',\n  '5',\n  '1224',\n  '1225',\n  '1265',\n  '1264',\n  '1224',\n  '5',\n  '1225',\n  '1226',\n  '1266',\n  '1265',\n  '1225',\n  '5',\n  '1226',\n  '1227',\n  '1267',\n  '1266',\n  '1226',\n  '5',\n  '1227',\n  '1228',\n  '1268',\n  '1267',\n  '1227',\n  '5',\n  '1228',\n  '1229',\n  '1269',\n  '1268',\n  '1228',\n  '5',\n  '1229',\n  '1230',\n  '1270',\n  '1269',\n  '1229',\n  '5',\n  '1230',\n  '1231',\n  '1271',\n  '1270',\n  '1230',\n  '5',\n  '1231',\n  '1232',\n  '1272',\n  '1271',\n  '1231',\n  '5',\n  '1232',\n  '1233',\n  '1273',\n  '1272',\n  '1232',\n  '5',\n  '1233',\n  '1234',\n  '1274',\n  '1273',\n  '1233',\n  '5',\n  '1234',\n  '1235',\n  '1275',\n  '1274',\n  '1234',\n  '5',\n  '1235',\n  '1236',\n  '1276',\n  '1275',\n  '1235',\n  '5',\n  '1236',\n  '1237',\n  '1277',\n  '1276',\n  '1236',\n  '5',\n  '1237',\n  '1238',\n  '1278',\n  '1277',\n  '1237',\n  '5',\n  '1238',\n  '1239',\n  '1279',\n  '1278',\n  '1238',\n  '5',\n  '1240',\n  '1241',\n  '1281',\n  '1280',\n  '1240',\n  '5',\n  '1241',\n  '1242',\n  '1282',\n  '1281',\n  '1241',\n  '5',\n  '1242',\n  '1243',\n  '1283',\n  '1282',\n  '1242',\n  '5',\n  '1243',\n  '1244',\n  '1284',\n  '1283',\n  '1243',\n  '5',\n  '1244',\n  '1245',\n  '1285',\n  '1284',\n  '1244',\n  '5',\n  '1245',\n  '1246',\n  '1286',\n  '1285',\n  '1245',\n  '5',\n  '1246',\n  '1247',\n  '1287',\n  '1286',\n  '1246',\n  '5',\n  '1247',\n  '1248',\n  '1288',\n  '1287',\n  '1247',\n  '5',\n  '1248',\n  '1249',\n  '1289',\n  '1288',\n  '1248',\n  '5',\n  '1249',\n  '1250',\n  '1290',\n  '1289',\n  '1249',\n  '5',\n  '1250',\n  '1251',\n  '1291',\n  '1290',\n  '1250',\n  '5',\n  '1251',\n  '1252',\n  '1292',\n  '1291',\n  '1251',\n  '5',\n  '1252',\n  '1253',\n  '1293',\n  '1292',\n  '1252',\n  '5',\n  '1253',\n  '1254',\n  '1294',\n  '1293',\n  '1253',\n  '5',\n  '1254',\n  '1255',\n  '1295',\n  '1294',\n  '1254',\n  '5',\n  '1255',\n  '1256',\n  '1296',\n  '1295',\n  '1255',\n  '5',\n  '1256',\n  '1257',\n  '1297',\n  '1296',\n  '1256',\n  '5',\n  '1257',\n  '1258',\n  '1298',\n  '1297',\n  '1257',\n  '5',\n  '1258',\n  '1259',\n  '1299',\n  '1298',\n  '1258',\n  '5',\n  '1259',\n  '1260',\n  '1300',\n  '1299',\n  '1259',\n  '5',\n  '1260',\n  '1261',\n  '1301',\n  '1300',\n  '1260',\n  '5',\n  '1261',\n  '1262',\n  '1302',\n  '1301',\n  '1261',\n  '5',\n  '1262',\n  '1263',\n  '1303',\n  '1302',\n  '1262',\n  '5',\n  '1263',\n  '1264',\n  '1304',\n  '1303',\n  '1263',\n  '5',\n  '1264',\n  '1265',\n  '1305',\n  '1304',\n  '1264',\n  '5',\n  '1265',\n  '1266',\n  '1306',\n  '1305',\n  '1265',\n  '5',\n  '1266',\n  '1267',\n  '1307',\n  '1306',\n  '1266',\n  '5',\n  '1267',\n  '1268',\n  '1308',\n  '1307',\n  '1267',\n  '5',\n  '1268',\n  '1269',\n  '1309',\n  '1308',\n  '1268',\n  '5',\n  '1269',\n  '1270',\n  '1310',\n  '1309',\n  '1269',\n  '5',\n  '1270',\n  '1271',\n  '1311',\n  '1310',\n  '1270',\n  '5',\n  '1271',\n  '1272',\n  '1312',\n  '1311',\n  '1271',\n  '5',\n  '1272',\n  '1273',\n  '1313',\n  '1312',\n  '1272',\n  '5',\n  '1273',\n  '1274',\n  '1314',\n  '1313',\n  '1273',\n  '5',\n  '1274',\n  '1275',\n  '1315',\n  '1314',\n  '1274',\n  '5',\n  '1275',\n  '1276',\n  '1316',\n  '1315',\n  '1275',\n  '5',\n  '1276',\n  '1277',\n  '1317',\n  '1316',\n  '1276',\n  '5',\n  '1277',\n  '1278',\n  '1318',\n  '1317',\n  '1277',\n  '5',\n  '1278',\n  '1279',\n  '1319',\n  '1318',\n  '1278',\n  '5',\n  '1280',\n  '1281',\n  '1321',\n  '1320',\n  '1280',\n  '5',\n  '1281',\n  '1282',\n  '1322',\n  '1321',\n  '1281',\n  '5',\n  '1282',\n  '1283',\n  '1323',\n  '1322',\n  '1282',\n  '5',\n  '1283',\n  '1284',\n  '1324',\n  '1323',\n  '1283',\n  '5',\n  '1284',\n  '1285',\n  '1325',\n  '1324',\n  '1284',\n  '5',\n  '1285',\n  '1286',\n  '1326',\n  '1325',\n  '1285',\n  '5',\n  '1286',\n  '1287',\n  '1327',\n  '1326',\n  '1286',\n  '5',\n  '1287',\n  '1288',\n  '1328',\n  '1327',\n  '1287',\n  '5',\n  '1288',\n  '1289',\n  '1329',\n  '1328',\n  '1288',\n  '5',\n  '1289',\n  '1290',\n  '1330',\n  '1329',\n  '1289',\n  '5',\n  '1290',\n  '1291',\n  '1331',\n  '1330',\n  '1290',\n  '5',\n  '1291',\n  '1292',\n  '1332',\n  '1331',\n  '1291',\n  '5',\n  '1292',\n  '1293',\n  '1333',\n  '1332',\n  '1292',\n  '5',\n  '1293',\n  '1294',\n  '1334',\n  '1333',\n  '1293',\n  '5',\n  '1294',\n  '1295',\n  '1335',\n  '1334',\n  '1294',\n  '5',\n  '1295',\n  '1296',\n  '1336',\n  '1335',\n  '1295',\n  '5',\n  '1296',\n  '1297',\n  '1337',\n  '1336',\n  '1296',\n  '5',\n  '1297',\n  '1298',\n  '1338',\n  '1337',\n  '1297',\n  '5',\n  '1298',\n  '1299',\n  '1339',\n  '1338',\n  '1298',\n  '5',\n  '1299',\n  '1300',\n  '1340',\n  '1339',\n  '1299',\n  '5',\n  '1300',\n  '1301',\n  '1341',\n  '1340',\n  '1300',\n  '5',\n  '1301',\n  '1302',\n  '1342',\n  '1341',\n  '1301',\n  '5',\n  '1302',\n  '1303',\n  '1343',\n  '1342',\n  '1302',\n  '5',\n  '1303',\n  '1304',\n  '1344',\n  '1343',\n  '1303',\n  '5',\n  '1304',\n  '1305',\n  '1345',\n  '1344',\n  '1304',\n  '5',\n  '1305',\n  '1306',\n  '1346',\n  '1345',\n  '1305',\n  '5',\n  '1306',\n  '1307',\n  '1347',\n  '1346',\n  '1306',\n  '5',\n  '1307',\n  '1308',\n  '1348',\n  '1347',\n  '1307',\n  '5',\n  '1308',\n  '1309',\n  '1349',\n  '1348',\n  '1308',\n  '5',\n  '1309',\n  '1310',\n  '1350',\n  '1349',\n  '1309',\n  '5',\n  '1310',\n  '1311',\n  '1351',\n  '1350',\n  '1310',\n  '5',\n  '1311',\n  '1312',\n  '1352',\n  '1351',\n  '1311',\n  '5',\n  '1312',\n  '1313',\n  '1353',\n  '1352',\n  '1312',\n  '5',\n  '1313',\n  '1314',\n  '1354',\n  '1353',\n  '1313',\n  '5',\n  '1314',\n  '1315',\n  '1355',\n  '1354',\n  '1314',\n  '5',\n  '1315',\n  '1316',\n  '1356',\n  '1355',\n  '1315',\n  '5',\n  '1316',\n  '1317',\n  '1357',\n  '1356',\n  '1316',\n  '5',\n  '1317',\n  '1318',\n  '1358',\n  '1357',\n  '1317',\n  '5',\n  '1318',\n  '1319',\n  '1359',\n  '1358',\n  '1318',\n  '5',\n  '1320',\n  '1321',\n  '1361',\n  '1360',\n  '1320',\n  '5',\n  '1321',\n  '1322',\n  '1362',\n  '1361',\n  '1321',\n  '5',\n  '1322',\n  '1323',\n  '1363',\n  '1362',\n  '1322',\n  '5',\n  '1323',\n  '1324',\n  '1364',\n  '1363',\n  '1323',\n  '5',\n  '1324',\n  '1325',\n  '1365',\n  '1364',\n  '1324',\n  '5',\n  '1325',\n  '1326',\n  '1366',\n  '1365',\n  '1325',\n  '5',\n  '1326',\n  '1327',\n  '1367',\n  '1366',\n  '1326',\n  '5',\n  '1327',\n  '1328',\n  '1368',\n  '1367',\n  '1327',\n  '5',\n  '1328',\n  '1329',\n  '1369',\n  '1368',\n  '1328',\n  '5',\n  '1329',\n  '1330',\n  '1370',\n  '1369',\n  '1329',\n  '5',\n  '1330',\n  '1331',\n  '1371',\n  '1370',\n  '1330',\n  '5',\n  '1331',\n  '1332',\n  '1372',\n  '1371',\n  '1331',\n  '5',\n  '1332',\n  '1333',\n  '1373',\n  '1372',\n  '1332',\n  '5',\n  '1333',\n  '1334',\n  '1374',\n  '1373',\n  '1333',\n  '5',\n  '1334',\n  '1335',\n  '1375',\n  '1374',\n  '1334',\n  '5',\n  '1335',\n  '1336',\n  '1376',\n  '1375',\n  '1335',\n  '5',\n  '1336',\n  '1337',\n  '1377',\n  '1376',\n  '1336',\n  '5',\n  '1337',\n  '1338',\n  '1378',\n  '1377',\n  '1337',\n  '5',\n  '1338',\n  '1339',\n  '1379',\n  '1378',\n  '1338',\n  '5',\n  '1339',\n  '1340',\n  '1380',\n  '1379',\n  '1339',\n  '5',\n  '1340',\n  '1341',\n  '1381',\n  '1380',\n  '1340',\n  '5',\n  '1341',\n  '1342',\n  '1382',\n  '1381',\n  '1341',\n  '5',\n  '1342',\n  '1343',\n  '1383',\n  '1382',\n  '1342',\n  '5',\n  '1343',\n  '1344',\n  '1384',\n  '1383',\n  '1343',\n  '5',\n  '1344',\n  '1345',\n  '1385',\n  '1384',\n  '1344',\n  '5',\n  '1345',\n  '1346',\n  '1386',\n  '1385',\n  '1345',\n  '5',\n  '1346',\n  '1347',\n  '1387',\n  '1386',\n  '1346',\n  '5',\n  '1347',\n  '1348',\n  '1388',\n  '1387',\n  '1347',\n  '5',\n  '1348',\n  '1349',\n  '1389',\n  '1388',\n  '1348',\n  '5',\n  '1349',\n  '1350',\n  '1390',\n  '1389',\n  '1349',\n  '5',\n  '1350',\n  '1351',\n  '1391',\n  '1390',\n  '1350',\n  '5',\n  '1351',\n  '1352',\n  '1392',\n  '1391',\n  '1351',\n  '5',\n  '1352',\n  '1353',\n  '1393',\n  '1392',\n  '1352',\n  '5',\n  '1353',\n  '1354',\n  '1394',\n  '1393',\n  '1353',\n  '5',\n  '1354',\n  '1355',\n  '1395',\n  '1394',\n  '1354',\n  '5',\n  '1355',\n  '1356',\n  '1396',\n  '1395',\n  '1355',\n  '5',\n  '1356',\n  '1357',\n  '1397',\n  '1396',\n  '1356',\n  '5',\n  '1357',\n  '1358',\n  '1398',\n  '1397',\n  '1357',\n  '5',\n  '1358',\n  '1359',\n  '1399',\n  '1398',\n  '1358',\n  '5',\n  '1360',\n  '1361',\n  '1401',\n  '1400',\n  '1360',\n  '5',\n  '1361',\n  '1362',\n  '1402',\n  '1401',\n  '1361',\n  '5',\n  '1362',\n  '1363',\n  '1403',\n  '1402',\n  '1362',\n  '5',\n  '1363',\n  '1364',\n  '1404',\n  '1403',\n  '1363',\n  '5',\n  '1364',\n  '1365',\n  '1405',\n  '1404',\n  '1364',\n  '5',\n  '1365',\n  '1366',\n  '1406',\n  '1405',\n  '1365',\n  '5',\n  '1366',\n  '1367',\n  '1407',\n  '1406',\n  '1366',\n  '5',\n  '1367',\n  '1368',\n  '1408',\n  '1407',\n  '1367',\n  '5',\n  '1368',\n  '1369',\n  '1409',\n  '1408',\n  '1368',\n  '5',\n  '1369',\n  '1370',\n  '1410',\n  '1409',\n  '1369',\n  '5',\n  '1370',\n  '1371',\n  '1411',\n  '1410',\n  '1370',\n  '5',\n  '1371',\n  '1372',\n  '1412',\n  '1411',\n  '1371',\n  '5',\n  '1372',\n  '1373',\n  '1413',\n  '1412',\n  '1372',\n  '5',\n  '1373',\n  '1374',\n  '1414',\n  '1413',\n  '1373',\n  '5',\n  '1374',\n  '1375',\n  '1415',\n  '1414',\n  '1374',\n  '5',\n  '1375',\n  '1376',\n  '1416',\n  '1415',\n  '1375',\n  '5',\n  '1376',\n  '1377',\n  '1417',\n  '1416',\n  '1376',\n  '5',\n  '1377',\n  '1378',\n  '1418',\n  '1417',\n  '1377',\n  '5',\n  '1378',\n  '1379',\n  '1419',\n  '1418',\n  '1378',\n  '5',\n  '1379',\n  '1380',\n  '1420',\n  '1419',\n  '1379',\n  '5',\n  '1380',\n  '1381',\n  '1421',\n  '1420',\n  '1380',\n  '5',\n  '1381',\n  '1382',\n  '1422',\n  '1421',\n  '1381',\n  '5',\n  '1382',\n  '1383',\n  '1423',\n  '1422',\n  '1382',\n  '5',\n  '1383',\n  '1384',\n  '1424',\n  '1423',\n  '1383',\n  '5',\n  '1384',\n  '1385',\n  '1425',\n  '1424',\n  '1384',\n  '5',\n  '1385',\n  '1386',\n  '1426',\n  '1425',\n  '1385',\n  '5',\n  '1386',\n  '1387',\n  '1427',\n  '1426',\n  '1386',\n  '5',\n  '1387',\n  '1388',\n  '1428',\n  '1427',\n  '1387',\n  '5',\n  '1388',\n  '1389',\n  '1429',\n  '1428',\n  '1388',\n  '5',\n  '1389',\n  '1390',\n  '1430',\n  '1429',\n  '1389',\n  '5',\n  '1390',\n  '1391',\n  '1431',\n  '1430',\n  '1390',\n  '5',\n  '1391',\n  '1392',\n  '1432',\n  '1431',\n  '1391',\n  '5',\n  '1392',\n  '1393',\n  '1433',\n  '1432',\n  '1392',\n  '5',\n  '1393',\n  '1394',\n  '1434',\n  '1433',\n  '1393',\n  '5',\n  '1394',\n  '1395',\n  '1435',\n  '1434',\n  '1394',\n  '5',\n  '1395',\n  '1396',\n  '1436',\n  '1435',\n  '1395',\n  '5',\n  '1396',\n  '1397',\n  '1437',\n  '1436',\n  '1396',\n  '5',\n  '1397',\n  '1398',\n  '1438',\n  '1437',\n  '1397',\n  '5',\n  '1398',\n  '1399',\n  '1439',\n  '1438',\n  '1398',\n  '5',\n  '1400',\n  '1401',\n  '1441',\n  '1440',\n  '1400',\n  '5',\n  '1401',\n  '1402',\n  '1442',\n  '1441',\n  '1401',\n  '5',\n  '1402',\n  '1403',\n  '1443',\n  '1442',\n  '1402',\n  '5',\n  '1403',\n  '1404',\n  '1444',\n  '1443',\n  '1403',\n  '5',\n  '1404',\n  '1405',\n  '1445',\n  '1444',\n  '1404',\n  '5',\n  '1405',\n  '1406',\n  '1446',\n  '1445',\n  '1405',\n  '5',\n  '1406',\n  '1407',\n  '1447',\n  '1446',\n  '1406',\n  '5',\n  '1407',\n  '1408',\n  '1448',\n  '1447',\n  '1407',\n  '5',\n  '1408',\n  '1409',\n  '1449',\n  '1448',\n  '1408',\n  '5',\n  '1409',\n  '1410',\n  '1450',\n  '1449',\n  '1409',\n  '5',\n  '1410',\n  '1411',\n  '1451',\n  '1450',\n  '1410',\n  '5',\n  '1411',\n  '1412',\n  '1452',\n  '1451',\n  '1411',\n  '5',\n  '1412',\n  '1413',\n  '1453',\n  '1452',\n  '1412',\n  '5',\n  '1413',\n  '1414',\n  '1454',\n  '1453',\n  '1413',\n  '5',\n  '1414',\n  '1415',\n  '1455',\n  '1454',\n  '1414',\n  '5',\n  '1415',\n  '1416',\n  '1456',\n  '1455',\n  '1415',\n  '5',\n  '1416',\n  '1417',\n  '1457',\n  '1456',\n  '1416',\n  '5',\n  '1417',\n  '1418',\n  '1458',\n  '1457',\n  '1417',\n  '5',\n  '1418',\n  '1419',\n  '1459',\n  '1458',\n  '1418',\n  '5',\n  '1419',\n  '1420',\n  '1460',\n  '1459',\n  '1419',\n  '5',\n  '1420',\n  '1421',\n  '1461',\n  '1460',\n  '1420',\n  '5',\n  '1421',\n  '1422',\n  '1462',\n  '1461',\n  '1421',\n  '5',\n  '1422',\n  '1423',\n  '1463',\n  '1462',\n  '1422',\n  '5',\n  '1423',\n  '1424',\n  '1464',\n  '1463',\n  '1423',\n  '5',\n  '1424',\n  '1425',\n  '1465',\n  '1464',\n  '1424',\n  '5',\n  '1425',\n  '1426',\n  '1466',\n  '1465',\n  '1425',\n  '5',\n  '1426',\n  '1427',\n  '1467',\n  '1466',\n  '1426',\n  '5',\n  '1427',\n  '1428',\n  '1468',\n  '1467',\n  '1427',\n  '5',\n  '1428',\n  '1429',\n  '1469',\n  '1468',\n  '1428',\n  '5',\n  '1429',\n  '1430',\n  '1470',\n  '1469',\n  '1429',\n  '5',\n  '1430',\n  '1431',\n  '1471',\n  '1470',\n  '1430',\n  '5',\n  '1431',\n  '1432',\n  '1472',\n  '1471',\n  '1431',\n  '5',\n  '1432',\n  '1433',\n  '1473',\n  '1472',\n  '1432',\n  '5',\n  '1433',\n  '1434',\n  '1474',\n  '1473',\n  '1433',\n  '5',\n  '1434',\n  '1435',\n  '1475',\n  '1474',\n  '1434',\n  '5',\n  '1435',\n  '1436',\n  '1476',\n  '1475',\n  '1435',\n  '5',\n  '1436',\n  '1437',\n  '1477',\n  '1476',\n  '1436',\n  '5',\n  '1437',\n  '1438',\n  '1478',\n  '1477',\n  '1437',\n  '5',\n  '1438',\n  '1439',\n  '1479',\n  '1478',\n  '1438',\n  '5',\n  '1440',\n  '1441',\n  '1481',\n  '1480',\n  '1440',\n  '5',\n  '1441',\n  '1442',\n  '1482',\n  '1481',\n  '1441',\n  '5',\n  '1442',\n  '1443',\n  '1483',\n  '1482',\n  '1442',\n  '5',\n  '1443',\n  '1444',\n  '1484',\n  '1483',\n  '1443',\n  '5',\n  '1444',\n  '1445',\n  '1485',\n  '1484',\n  '1444',\n  '5',\n  '1445',\n  '1446',\n  '1486',\n  '1485',\n  '1445',\n  '5',\n  '1446',\n  '1447',\n  '1487',\n  '1486',\n  '1446',\n  '5',\n  '1447',\n  '1448',\n  '1488',\n  '1487',\n  '1447',\n  '5',\n  '1448',\n  '1449',\n  '1489',\n  '1488',\n  '1448',\n  '5',\n  '1449',\n  '1450',\n  '1490',\n  '1489',\n  '1449',\n  '5',\n  '1450',\n  '1451',\n  '1491',\n  '1490',\n  '1450',\n  '5',\n  '1451',\n  '1452',\n  '1492',\n  '1491',\n  '1451',\n  '5',\n  '1452',\n  '1453',\n  '1493',\n  '1492',\n  '1452',\n  '5',\n  '1453',\n  '1454',\n  '1494',\n  '1493',\n  '1453',\n  '5',\n  '1454',\n  '1455',\n  '1495',\n  '1494',\n  '1454',\n  '5',\n  '1455',\n  '1456',\n  '1496',\n  '1495',\n  '1455',\n  '5',\n  '1456',\n  '1457',\n  '1497',\n  '1496',\n  '1456',\n  '5',\n  '1457',\n  '1458',\n  '1498',\n  '1497',\n  '1457',\n  '5',\n  '1458',\n  '1459',\n  '1499',\n  '1498',\n  '1458',\n  '5',\n  '1459',\n  '1460',\n  '1500',\n  '1499',\n  '1459',\n  '5',\n  '1460',\n  '1461',\n  '1501',\n  '1500',\n  '1460',\n  '5',\n  '1461',\n  '1462',\n  '1502',\n  '1501',\n  '1461',\n  '5',\n  '1462',\n  '1463',\n  '1503',\n  '1502',\n  '1462',\n  '5',\n  '1463',\n  '1464',\n  '1504',\n  '1503',\n  '1463',\n  '5',\n  '1464',\n  '1465',\n  '1505',\n  '1504',\n  '1464',\n  '5',\n  '1465',\n  '1466',\n  '1506',\n  '1505',\n  '1465',\n  '5',\n  '1466',\n  '1467',\n  '1507',\n  '1506',\n  '1466',\n  '5',\n  '1467',\n  '1468',\n  '1508',\n  '1507',\n  '1467',\n  '5',\n  '1468',\n  '1469',\n  '1509',\n  '1508',\n  '1468',\n  '5',\n  '1469',\n  '1470',\n  '1510',\n  '1509',\n  '1469',\n  '5',\n  '1470',\n  '1471',\n  '1511',\n  '1510',\n  '1470',\n  '5',\n  '1471',\n  '1472',\n  '1512',\n  '1511',\n  '1471',\n  '5',\n  '1472',\n  '1473',\n  '1513',\n  '1512',\n  '1472',\n  '5',\n  '1473',\n  '1474',\n  '1514',\n  '1513',\n  '1473',\n  '5',\n  '1474',\n  '1475',\n  '1515',\n  '1514',\n  '1474',\n  '5',\n  '1475',\n  '1476',\n  '1516',\n  '1515',\n  '1475',\n  '5',\n  '1476',\n  '1477',\n  '1517',\n  '1516',\n  '1476',\n  '5',\n  '1477',\n  '1478',\n  '1518',\n  '1517',\n  '1477',\n  '5',\n  '1478',\n  '1479',\n  '1519',\n  '1518',\n  '1478',\n  '5',\n  '1480',\n  '1481',\n  '1521',\n  '1520',\n  '1480',\n  '5',\n  '1481',\n  '1482',\n  '1522',\n  '1521',\n  '1481',\n  '5',\n  '1482',\n  '1483',\n  '1523',\n  '1522',\n  '1482',\n  '5',\n  '1483',\n  '1484',\n  '1524',\n  '1523',\n  '1483',\n  '5',\n  '1484',\n  '1485',\n  '1525',\n  '1524',\n  '1484',\n  '5',\n  '1485',\n  '1486',\n  '1526',\n  '1525',\n  '1485',\n  '5',\n  '1486',\n  '1487',\n  '1527',\n  '1526',\n  '1486',\n  '5',\n  '1487',\n  '1488',\n  '1528',\n  '1527',\n  '1487',\n  '5',\n  '1488',\n  '1489',\n  '1529',\n  '1528',\n  '1488',\n  '5',\n  '1489',\n  '1490',\n  '1530',\n  '1529',\n  '1489',\n  '5',\n  '1490',\n  '1491',\n  '1531',\n  '1530',\n  '1490',\n  '5',\n  '1491',\n  '1492',\n  '1532',\n  '1531',\n  '1491',\n  '5',\n  '1492',\n  '1493',\n  '1533',\n  '1532',\n  '1492',\n  '5',\n  '1493',\n  '1494',\n  '1534',\n  '1533',\n  '1493',\n  '5',\n  '1494',\n  '1495',\n  '1535',\n  '1534',\n  '1494',\n  '5',\n  '1495',\n  '1496',\n  '1536',\n  '1535',\n  '1495',\n  '5',\n  '1496',\n  '1497',\n  '1537',\n  '1536',\n  '1496',\n  '5',\n  '1497',\n  '1498',\n  '1538',\n  '1537',\n  '1497',\n  '5',\n  '1498',\n  '1499',\n  '1539',\n  '1538',\n  '1498',\n  '5',\n  '1499',\n  '1500',\n  '1540',\n  '1539',\n  '1499',\n  '5',\n  '1500',\n  '1501',\n  '1541',\n  '1540',\n  '1500',\n  '5',\n  '1501',\n  '1502',\n  '1542',\n  '1541',\n  '1501',\n  '5',\n  '1502',\n  '1503',\n  '1543',\n  '1542',\n  '1502',\n  '5',\n  '1503',\n  '1504',\n  '1544',\n  '1543',\n  '1503',\n  '5',\n  '1504',\n  '1505',\n  '1545',\n  '1544',\n  '1504',\n  '5',\n  '1505',\n  '1506',\n  '1546',\n  '1545',\n  '1505',\n  '5',\n  '1506',\n  '1507',\n  '1547',\n  '1546',\n  '1506',\n  '5',\n  '1507',\n  '1508',\n  '1548',\n  '1547',\n  '1507',\n  '5',\n  '1508',\n  '1509',\n  '1549',\n  '1548',\n  '1508',\n  '5',\n  '1509',\n  '1510',\n  '1550',\n  '1549',\n  '1509',\n  '5',\n  '1510',\n  '1511',\n  '1551',\n  '1550',\n  '1510',\n  '5',\n  '1511',\n  '1512',\n  '1552',\n  '1551',\n  '1511',\n  '5',\n  '1512',\n  '1513',\n  '1553',\n  '1552',\n  '1512',\n  '5',\n  '1513',\n  '1514',\n  '1554',\n  '1553',\n  '1513',\n  '5',\n  '1514',\n  '1515',\n  '1555',\n  '1554',\n  '1514',\n  '5',\n  '1515',\n  '1516',\n  '1556',\n  '1555',\n  '1515',\n  '5',\n  '1516',\n  '1517',\n  '1557',\n  '1556',\n  '1516',\n  '5',\n  '1517',\n  '1518',\n  '1558',\n  '1557',\n  '1517',\n  '5',\n  '1518',\n  '1519',\n  '1559',\n  '1558',\n  '1518',\n  '5',\n  '1520',\n  '1521',\n  '1561',\n  '1560',\n  '1520',\n  '5',\n  '1521',\n  '1522',\n  '1562',\n  '1561',\n  '1521',\n  '5',\n  '1522',\n  '1523',\n  '1563',\n  '1562',\n  '1522',\n  '5',\n  '1523',\n  '1524',\n  '1564',\n  '1563',\n  '1523',\n  '5',\n  '1524',\n  '1525',\n  '1565',\n  '1564',\n  '1524',\n  '5',\n  '1525',\n  '1526',\n  '1566',\n  '1565',\n  '1525',\n  '5',\n  '1526',\n  '1527',\n  '1567',\n  '1566',\n  '1526',\n  '5',\n  '1527',\n  '1528',\n  '1568',\n  '1567',\n  '1527',\n  '5',\n  '1528',\n  '1529',\n  '1569',\n  '1568',\n  '1528',\n  '5',\n  '1529',\n  '1530',\n  '1570',\n  '1569',\n  '1529',\n  '5',\n  '1530',\n  '1531',\n  '1571',\n  '1570',\n  '1530',\n  '5',\n  '1531',\n  '1532',\n  '1572',\n  '1571',\n  '1531',\n  '5',\n  '1532',\n  '1533',\n  '1573',\n  '1572',\n  '1532',\n  '5',\n  '1533',\n  '1534',\n  '1574',\n  '1573',\n  '1533',\n  '5',\n  '1534',\n  '1535',\n  '1575',\n  '1574',\n  '1534',\n  '5',\n  '1535',\n  '1536',\n  '1576',\n  '1575',\n  '1535',\n  '5',\n  '1536',\n  '1537',\n  '1577',\n  '1576',\n  '1536',\n  '5',\n  '1537',\n  '1538',\n  '1578',\n  '1577',\n  '1537',\n  '5',\n  '1538',\n  '1539',\n  '1579',\n  '1578',\n  '1538',\n  '5',\n  '1539',\n  '1540',\n  '1580',\n  '1579',\n  '1539',\n  '5',\n  '1540',\n  '1541',\n  '1581',\n  '1580',\n  '1540',\n  '5',\n  '1541',\n  '1542',\n  '1582',\n  '1581',\n  '1541',\n  '5',\n  '1542',\n  '1543',\n  '1583',\n  '1582',\n  '1542',\n  '5',\n  '1543',\n  '1544',\n  '1584',\n  '1583',\n  '1543',\n  '5',\n  '1544',\n  '1545',\n  '1585',\n  '1584',\n  '1544',\n  '5',\n  '1545',\n  '1546',\n  '1586',\n  '1585',\n  '1545',\n  '5',\n  '1546',\n  '1547',\n  '1587',\n  '1586',\n  '1546',\n  '5',\n  '1547',\n  '1548',\n  '1588',\n  '1587',\n  '1547',\n  '5',\n  '1548',\n  '1549',\n  '1589',\n  '1588',\n  '1548',\n  '5',\n  '1549',\n  '1550',\n  '1590',\n  '1589',\n  '1549',\n  '5',\n  '1550',\n  '1551',\n  '1591',\n  '1590',\n  '1550',\n  '5',\n  '1551',\n  '1552',\n  '1592',\n  '1591',\n  '1551',\n  '5',\n  '1552',\n  '1553',\n  '1593',\n  '1592',\n  '1552',\n  '5',\n  '1553',\n  '1554',\n  '1594',\n  '1593',\n  '1553',\n  '5',\n  '1554',\n  '1555',\n  '1595',\n  '1594',\n  '1554',\n  '5',\n  '1555',\n  '1556',\n  '1596',\n  '1595',\n  '1555',\n  '5',\n  '1556',\n  '1557',\n  '1597',\n  '1596',\n  '1556',\n  '5',\n  '1557',\n  '1558',\n  '1598',\n  '1597',\n  '1557',\n  '5',\n  '1558',\n  '1559',\n  '1599',\n  '1598',\n  '1558&quot;',\n  'color pmesh  [102,102,255]',\n  'draw line_2 diameter 1 curve {-3.0 -3.0 -1.5}  {-3.0 3.0 -1.5} ',\n  'color $line_2 translucent 0.5 [0,0,0]',\n  'draw line_3 diameter 1 curve {-3.0 3.0 -1.5}  {3.0 3.0 -1.5} ',\n  'color $line_3 translucent 0.5 [0,0,0]',\n  'draw line_4 diameter 1 curve {3.0 3.0 -1.5}  {3.0 -3.0 -1.5} ',\n  'color $line_4 translucent 0.5 [0,0,0]',\n  'draw line_5 diameter 1 curve {3.0 -3.0 -1.5}  {-3.0 -3.0 -1.5} ',\n  'color $line_5 translucent 0.5 [0,0,0]',\n  'draw line_6 diameter 1 curve {-3.0 -3.0 -1.5}  {-3.0 -3.0 1.5} ',\n  'color $line_6 translucent 0.5 [0,0,0]',\n  'draw line_7 diameter 1 curve {-3.0 -3.0 1.5}  {-3.0 3.0 1.5} ',\n  'color $line_7 translucent 0.5 [0,0,0]',\n  'draw line_8 diameter 1 curve {-3.0 3.0 1.5}  {3.0 3.0 1.5} ',\n  'color $line_8 translucent 0.5 [0,0,0]',\n  'draw line_9 diameter 1 curve {3.0 3.0 1.5}  {3.0 -3.0 1.5} ',\n  'color $line_9 translucent 0.5 [0,0,0]',\n  'draw line_10 diameter 1 curve {3.0 -3.0 1.5}  {-3.0 -3.0 1.5} ',\n  'color $line_10 translucent 0.5 [0,0,0]',\n  'draw line_11 diameter 1 curve {-3.0 -3.0 1.5} ',\n  'color $line_11 translucent 0.5 [0,0,0]',\n  'draw line_12 diameter 1 curve {-3.0 3.0 -1.5}  {-3.0 3.0 1.5} ',\n  'color $line_12 translucent 0.5 [0,0,0]',\n  'draw line_13 diameter 1 curve {3.0 -3.0 -1.5}  {3.0 -3.0 1.5} ',\n  'color $line_13 translucent 0.5 [0,0,0]',\n  'draw line_14 diameter 1 curve {3.0 3.0 -1.5}  {3.0 3.0 1.5} ',\n  'color $line_14 translucent 0.5 [0,0,0]',\n  'select atomno = 1',\n  'color atom  [76,76,76]',\n  'label &quot;-2.0&quot;',\n  'select atomno = 2',\n  'color atom  [76,76,76]',\n  'label &quot;0.0&quot;',\n  'select atomno = 3',\n  'color atom  [76,76,76]',\n  'label &quot;2.0&quot;',\n  'select atomno = 4',\n  'color atom  [76,76,76]',\n  'label &quot;-2.0&quot;',\n  'select atomno = 5',\n  'color atom  [76,76,76]',\n  'label &quot;0.0&quot;',\n  'select atomno = 6',\n  'color atom  [76,76,76]',\n  'label &quot;2.0&quot;',\n  'select atomno = 7',\n  'color atom  [76,76,76]',\n  'label &quot;0.0&quot;',\n  'select atomno = 8',\n  'color atom  [76,76,76]',\n  'label &quot;4.0&quot;',\n  'select atomno = 9',\n  'color atom  [76,76,76]',\n  'label &quot;8.0&quot;',\n  'isosurface fullylit; pmesh o* fullylit; set antialiasdisplay on;',\n].join('\\n');;\n    var Info = {\n      width: '100%',\n      height: '500',\n      debug: false,\n      disableInitialConsole: true,   // very slow when used with inline mesh\n      color: '#3131ff',\n      addSelectionOptions: false,\n      use: 'HTML5',\n      j2sPath: '/nbextensions/jsmol/j2s',\n      script: script,\n    };\n    var jmolApplet0 = Jmol.getApplet('jmolApplet0', Info);\n  </script>\n</body>\n</html>\n\" \n        width=\"100%\"\n        height=\"500\"\n        style=\"border: 0;\">\n</iframe>\n"
     },
     "execution_count": 45,
     "metadata": {
     },
     "output_type": "execute_result"
    }
   ],
   "source": [
    "var('x,y')\n",
    "plot3d(x^2+y^2, (x,-2,2),(y,-2,2))"
   ]
  },
  {
   "cell_type": "code",
   "execution_count": 0,
   "metadata": {
    "collapsed": false
   },
   "outputs": [
   ],
   "source": [
   ]
  }
 ],
 "metadata": {
  "kernelspec": {
   "display_name": "SageMath 8.1",
   "name": "sage-8.1"
  },
  "language_info": {
   "codemirror_mode": {
    "name": "ipython",
    "version": 2
   },
   "file_extension": ".py",
   "mimetype": "text/x-python",
   "name": "python",
   "nbconvert_exporter": "python",
   "pygments_lexer": "ipython2",
   "version": "2.7.14"
  }
 },
 "nbformat": 4,
 "nbformat_minor": 0
}