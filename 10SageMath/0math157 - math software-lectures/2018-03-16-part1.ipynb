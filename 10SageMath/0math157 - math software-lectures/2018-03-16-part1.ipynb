{
 "cells": [
  {
   "cell_type": "markdown",
   "metadata": {
    "collapsed": false
   },
   "source": [
    "## Math 157: Intro to Mathematical Software\n",
    "## UC San Diego, winter 2018"
   ]
  },
  {
   "cell_type": "markdown",
   "metadata": {
    "collapsed": false
   },
   "source": [
    "## March 9, 2018: discussion of part 1 of the final project"
   ]
  },
  {
   "cell_type": "markdown",
   "metadata": {
    "collapsed": false
   },
   "source": [
    "I have added some comments in **boldface** to the original problem statements."
   ]
  },
  {
   "cell_type": "markdown",
   "metadata": {
    "collapsed": false
   },
   "source": [
    "### Problem 1: Symbolic sums"
   ]
  },
  {
   "cell_type": "markdown",
   "metadata": {
    "collapsed": false
   },
   "source": [
    "Grading criteria: correctness of code."
   ]
  },
  {
   "cell_type": "markdown",
   "metadata": {
    "collapsed": false
   },
   "source": [
    "Demonstrate that Sage is able to evaluate the following infinite sums (without manually encoding known mathematical formulas).\n",
    "\n",
    "1. Compute $\\sum_{n=1}^{\\infty} \\frac{(-1)^n}{n}$ symbolically.\n",
    "1. Compute $\\sum_{n=1}^{\\infty} \\frac{1}{n^2}$ symbolically.\n",
    "1. Compute $\\sum_{n=1}^{\\infty} \\frac{1}{n^3}$ both symbolically (in terms of the Riemann Zeta function) and numerically.\n",
    "1. Compute $\\sum_{n=1}^{\\infty} \\frac{1}{n^4}$ symbolically."
   ]
  },
  {
   "cell_type": "code",
   "execution_count": 0,
   "metadata": {
    "collapsed": false
   },
   "outputs": [
   ],
   "source": [
   ]
  },
  {
   "cell_type": "code",
   "execution_count": 0,
   "metadata": {
    "collapsed": false
   },
   "outputs": [
   ],
   "source": [
   ]
  },
  {
   "cell_type": "code",
   "execution_count": 0,
   "metadata": {
    "collapsed": false
   },
   "outputs": [
   ],
   "source": [
   ]
  },
  {
   "cell_type": "code",
   "execution_count": 0,
   "metadata": {
    "collapsed": false
   },
   "outputs": [
   ],
   "source": [
   ]
  },
  {
   "cell_type": "markdown",
   "metadata": {
    "collapsed": false
   },
   "source": [
    "### Problem 2: Determinants"
   ]
  },
  {
   "cell_type": "markdown",
   "metadata": {
    "collapsed": false
   },
   "source": [
    "Grading criteria: correctness of code and explanations."
   ]
  },
  {
   "cell_type": "markdown",
   "metadata": {
    "collapsed": false
   },
   "source": [
    "2a. Implement a function called `my_det` that calculates the determinant of a matrix recursively using expansion by cofactors. The Matrix methods `delete_columns` and `delete_rows` may come in handy. You can assume that your input is a square matrix."
   ]
  },
  {
   "cell_type": "code",
   "execution_count": 0,
   "metadata": {
    "collapsed": false
   },
   "outputs": [
   ],
   "source": [
   ]
  },
  {
   "cell_type": "markdown",
   "metadata": {
    "collapsed": false
   },
   "source": [
    "2b. Check that your function agrees with Sage's built-in function on a random 5 by 5 matrix over $\\mathbb{Z}$."
   ]
  },
  {
   "cell_type": "code",
   "execution_count": 0,
   "metadata": {
    "collapsed": false
   },
   "outputs": [
   ],
   "source": [
   ]
  },
  {
   "cell_type": "markdown",
   "metadata": {
    "collapsed": false
   },
   "source": [
    "2c. Do some timings for random $n \\times n$ matrices over $\\mathbb{Z}$ for $n=5, \\dots, 10$ comparing your function and Sage's built-in function. Make a single plot containing both sets of results. ** The timing for $n=10$ may take a long time (>30 minutes). **"
   ]
  },
  {
   "cell_type": "code",
   "execution_count": 0,
   "metadata": {
    "collapsed": false
   },
   "outputs": [
   ],
   "source": [
   ]
  },
  {
   "cell_type": "markdown",
   "metadata": {
    "collapsed": false
   },
   "source": [
    "2d. Explain the results of 2c in terms of the asymptotic complexity of the two methods."
   ]
  },
  {
   "cell_type": "code",
   "execution_count": 0,
   "metadata": {
    "collapsed": false
   },
   "outputs": [
   ],
   "source": [
   ]
  },
  {
   "cell_type": "markdown",
   "metadata": {
    "collapsed": false
   },
   "source": [
    "### Problem 3: Back to the poker table"
   ]
  },
  {
   "cell_type": "markdown",
   "metadata": {
    "collapsed": false
   },
   "source": [
    "Grading criteria: correctness of code."
   ]
  },
  {
   "cell_type": "markdown",
   "metadata": {
    "collapsed": false
   },
   "source": [
    "In a previous exercise, you constructed a \"deck\" of 52 playing cards consisting of the Cartesian product of \"ranks\" and \"suits\",\n",
    "and wrote a function to classify a set of 5 (distinct) cards as a poker hand. You may wish to reuse your answer to that problem here."
   ]
  },
  {
   "cell_type": "markdown",
   "metadata": {
    "collapsed": false
   },
   "source": [
    "3a. Write a function which, given two poker hands `h1` and `h2`, returns 1 if `h1` is the higher-ranking hand, -1 if `h2` is the higher-ranking hand, and 0 if the two hands are equally ranked. Note that poker hands are primarily sorted by their type, but there are rules to break some ties even among hands of the same type. (For example, a pair of queens outranks a pair of jacks.)"
   ]
  },
  {
   "cell_type": "code",
   "execution_count": 0,
   "metadata": {
    "collapsed": false
   },
   "outputs": [
   ],
   "source": [
   ]
  },
  {
   "cell_type": "markdown",
   "metadata": {
    "collapsed": false
   },
   "source": [
    "3b. Define a Python class called \"Hand\" with the following property: if `s1` and `s2` are two poker hands, then\n",
    "```\n",
    "h1 = Hand(s1)\n",
    "h2 = Hand(s2)\n",
    "print(h1 < h2)\n",
    "```\n",
    "will print True if and only if `s2` is (strictly) higher in ranking than `s1`. Your class should implement the method ``__lt__`` to achieve operator overloading. (Do not implement ``__cmp__``; this works in Python 2 but will fail in Python 3.)"
   ]
  },
  {
   "cell_type": "code",
   "execution_count": 0,
   "metadata": {
    "collapsed": false
   },
   "outputs": [
   ],
   "source": [
    "class Hand:\n",
    "    # rest of the definition goes here"
   ]
  },
  {
   "cell_type": "code",
   "execution_count": 0,
   "metadata": {
    "collapsed": false
   },
   "outputs": [
   ],
   "source": [
    "# Assume that s1 and s2 are two lists of five distinct cards each.\n",
    "h1 = Hand(s1)\n",
    "h2 = Hand(s2)\n",
    "print(h1 < h2)"
   ]
  },
  {
   "cell_type": "markdown",
   "metadata": {
    "collapsed": false
   },
   "source": [
    "### Problem 4: Texas Hold 'Em"
   ]
  },
  {
   "cell_type": "markdown",
   "metadata": {
    "collapsed": false
   },
   "source": [
    "Grading criteria: correctness of code, to be judged as if your solution to problem 3 is completely correct."
   ]
  },
  {
   "cell_type": "markdown",
   "metadata": {
    "collapsed": false
   },
   "source": [
    "Texas Hold 'Em is the variety of poker most often shown on television. Each player is initially dealt two cards (kept hidden), and eventually five more cards are dealt (face up) on the table. Each player's holding is ranked according to the best hand that can be made from their two cards plus the five common cards. (The bidding aspect of the game is not relevant for this problem.)\n"
   ]
  },
  {
   "cell_type": "markdown",
   "metadata": {
    "collapsed": false
   },
   "source": [
    "4a. Write a function which, given a set of seven distinct cards, identifies the highest-ranking hand which can be made using some five of the cards. In case of a tie, you may return any hand which ties for the highest ranking."
   ]
  },
  {
   "cell_type": "code",
   "execution_count": 0,
   "metadata": {
    "collapsed": false
   },
   "outputs": [
   ],
   "source": [
   ]
  },
  {
   "cell_type": "markdown",
   "metadata": {
    "collapsed": false
   },
   "source": [
    "4b. Write a function which, given two pairs of cards, computes the probability that for a random set of five common cards (where all nine cards in question are distinct), the first pair will outrank the second pair. For full credit, you should do this by exhausting over all possibilities for the common cards, rather than doing a random sample. ** This was a bit too optimistic in my part. Instead, do a random sample on at least $10^4$ sample points. **"
   ]
  },
  {
   "cell_type": "code",
   "execution_count": 0,
   "metadata": {
    "collapsed": false
   },
   "outputs": [
   ],
   "source": [
   ]
  },
  {
   "cell_type": "markdown",
   "metadata": {
    "collapsed": false
   },
   "source": [
    "4c. Write a function, given *one* pair of distinct cards, computes the probability that if one chooses another pair and five common cards at random from the remaining cards (so again all nine cards in question are distinct), the given pair will outrank the other pair. For this problem, instead of exhaustion, use $10^6$ random samples. ** Again, it is sufficient if you use at least $10^4$ sample points. **"
   ]
  },
  {
   "cell_type": "code",
   "execution_count": 0,
   "metadata": {
    "collapsed": false
   },
   "outputs": [
   ],
   "source": [
   ]
  },
  {
   "cell_type": "markdown",
   "metadata": {
    "collapsed": false
   },
   "source": [
    "4d. Determine the values of the function you wrote in 3c for all possible pairs of distinct cards. Note that this probability should depend only on the values of the two cards and (if the values are distinct) whether the two cards are of the same or different suits. ** You may want to exploit the fact that the exact suits of the initial 2 cards do not matter, only whether they are the same or different. **"
   ]
  },
  {
   "cell_type": "code",
   "execution_count": 0,
   "metadata": {
    "collapsed": false
   },
   "outputs": [
   ],
   "source": [
   ]
  },
  {
   "cell_type": "markdown",
   "metadata": {
    "collapsed": false
   },
   "source": [
    "### Problem 5: Adjacent states"
   ]
  },
  {
   "cell_type": "markdown",
   "metadata": {
    "collapsed": false
   },
   "source": [
    "Grading criteria: correctness of code."
   ]
  },
  {
   "cell_type": "markdown",
   "metadata": {
    "collapsed": false
   },
   "source": [
    "Throughout this problem, by \"US states\" we mean the 50 US states *plus* the District of Columbia."
   ]
  },
  {
   "cell_type": "markdown",
   "metadata": {
    "collapsed": false
   },
   "source": [
    "5a. The following string, adapted from [this source](https://writeonly.wordpress.com/2009/03/20/adjacency-list-of-states-of-the-united-states-us/), represents the adjacencies among US states, as represented by their [standard postal abbreviations](https://en.wikipedia.org/wiki/List_of_U.S._state_abbreviations).\n",
    "\n",
    "Starting from `s`, construct a graph whose vertices are labeled by the postal abbreviations, with an edge between two vertices if and only if they correspond to adjacent states."
   ]
  },
  {
   "cell_type": "code",
   "execution_count": 0,
   "metadata": {
    "collapsed": false
   },
   "outputs": [
   ],
   "source": [
    "s = \"\"\"\n",
    "AK\n",
    "AL,MS,TN,GA,FL\n",
    "AR,MO,TN,MS,LA,TX,OK\n",
    "AZ,CA,NV,UT,NM\n",
    "CA,OR,NV,AZ\n",
    "CO,WY,NE,KS,OK,NM,UT\n",
    "CT,NY,MA,RI\n",
    "DC,MD,VA\n",
    "DE,MD,PA,NJ\n",
    "FL,AL,GA\n",
    "GA,FL,AL,TN,NC,SC\n",
    "HI\n",
    "IA,MN,WI,IL,MO,NE,SD\n",
    "ID,MT,WY,UT,NV,OR,WA\n",
    "IL,IN,KY,MO,IA,WI\n",
    "IN,MI,OH,KY,IL\n",
    "KS,NE,MO,OK,CO\n",
    "KY,IN,OH,WV,VA,TN,MO,IL\n",
    "LA,TX,AR,MS\n",
    "MA,RI,CT,NY,NH,VT\n",
    "MD,VA,WV,PA,DC,DE\n",
    "ME,NH\n",
    "MI,WI,IN,OH\n",
    "MN,WI,IA,SD,ND\n",
    "MO,IA,IL,KY,TN,AR,OK,KS,NE\n",
    "MS,LA,AR,TN,AL\n",
    "MT,ND,SD,WY,ID\n",
    "NC,VA,TN,GA,SC\n",
    "ND,MN,SD,MT\n",
    "NE,SD,IA,MO,KS,CO,WY\n",
    "NH,VT,ME,MA\n",
    "NJ,DE,PA,NY\n",
    "NM,AZ,CO,OK,TX\n",
    "NV,ID,UT,AZ,CA,OR\n",
    "NY,NJ,PA,VT,MA,CT\n",
    "OH,PA,WV,KY,IN,MI\n",
    "OK,KS,MO,AR,TX,NM,CO\n",
    "OR,CA,NV,ID,WA\n",
    "PA,NY,NJ,DE,MD,WV,OH\n",
    "RI,CT,MA\n",
    "SC,GA,NC\n",
    "SD,ND,MN,IA,NE,WY,MT\n",
    "TN,KY,VA,NC,GA,AL,MS,AR,MO\n",
    "TX,NM,OK,AR,LA\n",
    "UT,ID,WY,CO,AZ,NV\n",
    "VA,NC,TN,KY,WV,MD,DC\n",
    "VT,NY,NH,MA\n",
    "WA,ID,OR\n",
    "WI,MI,MN,IA,IL\n",
    "WV,OH,PA,MD,VA,KY\n",
    "WY,MT,SD,NE,CO,UT,ID\n",
    "\"\"\""
   ]
  },
  {
   "cell_type": "code",
   "execution_count": 0,
   "metadata": {
    "collapsed": false
   },
   "outputs": [
   ],
   "source": [
   ]
  },
  {
   "cell_type": "markdown",
   "metadata": {
    "collapsed": false
   },
   "source": [
    "5b. Compute a maximum flow and a minimum cut for this graph, using California as the source and the District of Columbia as the sink. ** For the maximum flow, you should also find a set of edge-disjoint paths realizing the maximum. **"
   ]
  },
  {
   "cell_type": "code",
   "execution_count": 0,
   "metadata": {
    "collapsed": false
   },
   "outputs": [
   ],
   "source": [
   ]
  },
  {
   "cell_type": "markdown",
   "metadata": {
    "collapsed": false
   },
   "source": [
    "### Problem 6: Cholesky dempositions"
   ]
  },
  {
   "cell_type": "markdown",
   "metadata": {
    "collapsed": false
   },
   "source": [
    "Grading criteria: correctness of explanations and code. ** For this problem, you are not expected to implement the Cholesky decomposition yourself; it is sufficient to use the predefined functions in the various systems. **"
   ]
  },
  {
   "cell_type": "markdown",
   "metadata": {
    "collapsed": false
   },
   "source": [
    "6a. In your words, explain what the *Cholesky decomposition* of a matrix is, for which matrices it is defined, and why it is useful in numerical linear algebra."
   ]
  },
  {
   "cell_type": "code",
   "execution_count": 0,
   "metadata": {
    "collapsed": false
   },
   "outputs": [
   ],
   "source": [
   ]
  },
  {
   "cell_type": "markdown",
   "metadata": {
    "collapsed": false
   },
   "source": [
    "6b. Use Sage's `cholesky` function to compute the Cholesky decomposition of the matrix\n",
    "$$\n",
    "M = \\left(\\begin{array}{rrrrr}\n",
    "3 & -1 & -1 & -3 & -2 \\\\\n",
    "-1 & 6 & 5 & 1 & 2 \\\\\n",
    "-1 & 5 & 6 & 1 & 3 \\\\\n",
    "-3 & 1 & 1 & 5 & 1 \\\\\n",
    "-2 & 2 & 3 & 1 & 6\n",
    "        \\end{array}\\right).\n",
    "$$"
   ]
  },
  {
   "cell_type": "markdown",
   "metadata": {
    "collapsed": false
   },
   "source": [
   ]
  },
  {
   "cell_type": "markdown",
   "metadata": {
    "collapsed": false
   },
   "source": [
    "6c. Repeat the computation using numpy."
   ]
  },
  {
   "cell_type": "code",
   "execution_count": 0,
   "metadata": {
    "collapsed": false
   },
   "outputs": [
   ],
   "source": [
   ]
  },
  {
   "cell_type": "markdown",
   "metadata": {
    "collapsed": false
   },
   "source": [
    "6d. Repeat the computation using Octave. You may either switch to the Octave kernel or call Octave directly from Sage."
   ]
  },
  {
   "cell_type": "code",
   "execution_count": 0,
   "metadata": {
    "collapsed": false
   },
   "outputs": [
   ],
   "source": [
   ]
  },
  {
   "cell_type": "markdown",
   "metadata": {
    "collapsed": false
   },
   "source": [
    "6e. Repeat the computation using Julia. You will need to switch to the Julia kernel for this."
   ]
  },
  {
   "cell_type": "code",
   "execution_count": 0,
   "metadata": {
    "collapsed": false
   },
   "outputs": [
   ],
   "source": [
   ]
  },
  {
   "cell_type": "markdown",
   "metadata": {
    "collapsed": false
   },
   "source": [
    "### Problem 7: Face completion"
   ]
  },
  {
   "cell_type": "markdown",
   "metadata": {
    "collapsed": false
   },
   "source": [
    "Grading criteria: correctness of code and answers.\n",
    "\n",
    "**Special note**: in this problem, you will be running code in another notebook. However, you will only be credited for answers entered in this notebook.\n",
    "\n",
    "Go to the [scikit-learn example of face completion](http://scikit-learn.org/stable/auto_examples/plot_multioutput_face_completion.html); download the script as a Jupyter notebook; upload it into this folder in your project; and run all cells using the Python 3 (Ubuntu Linux) kernel. Then answer the following questions."
   ]
  },
  {
   "cell_type": "markdown",
   "metadata": {
    "collapsed": false
   },
   "source": [
    "7a. What fraction of the data was used for testing? And what code can be used to determine this?"
   ]
  },
  {
   "cell_type": "code",
   "execution_count": 0,
   "metadata": {
    "collapsed": false
   },
   "outputs": [
   ],
   "source": [
   ]
  },
  {
   "cell_type": "markdown",
   "metadata": {
    "collapsed": false
   },
   "source": [
    "7b. Suppose we want to predict the top half of the face from the bottom. Which lines of code need to be changed, and to what?"
   ]
  },
  {
   "cell_type": "raw",
   "metadata": {
    "collapsed": false
   },
   "source": [
    "# List all the lines of code that you are changing here..."
   ]
  },
  {
   "cell_type": "raw",
   "metadata": {
    "collapsed": false
   },
   "source": [
    "# ... and their replacements here."
   ]
  },
  {
   "cell_type": "markdown",
   "metadata": {
    "collapsed": false
   },
   "source": [
    "7c. Suppose we want to use a [Multilayer perceptron regressor](https://en.wikipedia.org/wiki/Multilayer_perceptron) in addition to the four other estimators used in the sample. What lines of code need to be added, and where? (In each location where one or more lines is to be added, include one existing line before and after your addition.)"
   ]
  },
  {
   "cell_type": "raw",
   "metadata": {
    "collapsed": false
   },
   "source": [
    "# List added code here, with one line of context on each side."
   ]
  },
  {
   "cell_type": "markdown",
   "metadata": {
    "collapsed": false
   },
   "source": [
    "### Problem 8: Finding (discrete logarithms using) Nemo"
   ]
  },
  {
   "cell_type": "markdown",
   "metadata": {
    "collapsed": false
   },
   "source": [
    "Grading criteria: correctness of code."
   ]
  },
  {
   "cell_type": "markdown",
   "metadata": {
    "collapsed": false
   },
   "source": [
    "For this problem, use the Julia kernel. ** The use of Nemo for this problem is permitted but not required; you may use Julia native functionality instead if you prefer. **"
   ]
  },
  {
   "cell_type": "markdown",
   "metadata": {
    "collapsed": false
   },
   "source": [
    "8a. Demonstrate the (usual, not elliptic) Diffie-Hellman key exchange in Julia using the prime `p=2171645417` and the primitive root `g=3`. That is, Alice and Bob choose random secrets and use them to establish a common key."
   ]
  },
  {
   "cell_type": "code",
   "execution_count": 0,
   "metadata": {
    "collapsed": false
   },
   "outputs": [
   ],
   "source": [
    "using Nemo"
   ]
  },
  {
   "cell_type": "code",
   "execution_count": 0,
   "metadata": {
    "collapsed": false
   },
   "outputs": [
   ],
   "source": [
   ]
  },
  {
   "cell_type": "markdown",
   "metadata": {
    "collapsed": false
   },
   "source": [
    "8b. Implement the baby-step-giant-step algorithm in Julia using the same `p` and `g`, including a test for correctness."
   ]
  },
  {
   "cell_type": "code",
   "execution_count": 0,
   "metadata": {
    "collapsed": false
   },
   "outputs": [
   ],
   "source": [
   ]
  }
 ],
 "metadata": {
  "kernelspec": {
   "display_name": "SageMath 8.1",
   "name": "sage-8.1"
  },
  "language_info": {
   "codemirror_mode": {
    "name": "ipython",
    "version": 2
   },
   "file_extension": ".py",
   "mimetype": "text/x-python",
   "name": "python",
   "nbconvert_exporter": "python",
   "pygments_lexer": "ipython2",
   "version": "2.7.14"
  }
 },
 "nbformat": 4,
 "nbformat_minor": 0
}