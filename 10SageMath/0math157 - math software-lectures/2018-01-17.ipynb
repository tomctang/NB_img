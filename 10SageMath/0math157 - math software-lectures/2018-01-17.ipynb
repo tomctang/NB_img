{
 "cells": [
  {
   "cell_type": "markdown",
   "metadata": {
    "collapsed": false
   },
   "source": [
    "## Math 157: Intro to Mathematical Software\n",
    "## UC San Diego, winter 2018\n"
   ]
  },
  {
   "cell_type": "markdown",
   "metadata": {
    "collapsed": false
   },
   "source": [
    "## January 17, 2018: Introduction to Python (part 2 of 3)"
   ]
  },
  {
   "cell_type": "markdown",
   "metadata": {
    "collapsed": false
   },
   "source": [
    "Administrivia:\n",
    "\n",
    "- Homework 1 due Friday, January 19 at 8pm. Remember, put all your work in the \"assignments/2018-01-19\" folder; it will be collected automatically after the deadline passes.\n",
    "\n",
    "Extra announcements (not in your copy of this file):\n",
    "\n",
    "- My office hours are Thursday 4-5 in APM 7202.\n",
    "- I will process the waitlist at the end of the week. In addition to priority on the waitlist, I will also take into account participation in the course so far (in-class plus homework).\n",
    "- There are two extra files in today's folder which you should ignore. You should have open \"2018-01-17.ipynb\"."
   ]
  },
  {
   "cell_type": "markdown",
   "metadata": {
    "collapsed": false
   },
   "source": [
    "### Functions (carryover from last lecture)"
   ]
  },
  {
   "cell_type": "markdown",
   "metadata": {
    "collapsed": false
   },
   "source": [
    "Functions are batches of code that can be called from within other code.\n",
    "\n",
    "A function takes zero or more *parameters*, and produces zero or more *return values*. A function may also have side effects, although it cannot change the values of variables outside of the function (that is, variables inside a function are *locally scoped*).\n",
    "\n",
    "Just like assignments of variables, the definition of a function persists between cells, unless you overwrite it by assigning the same name to another function. (If you really want, you can also type `del f` which removes the definition of `f` without replacing it. This works for both variables and functions; in fact, a function is just a special type of value you can assign to a variable.)\n"
   ]
  },
  {
   "cell_type": "code",
   "execution_count": 5,
   "metadata": {
    "collapsed": false
   },
   "outputs": [
   ],
   "source": [
    "def name_of_function(argument1, argument2):\n",
    "    x = 8\n",
    "    print(\"the first argument is \", argument1, \" and the second is \", argument2)\n",
    "    return argument1 + argument2\n"
   ]
  },
  {
   "cell_type": "code",
   "execution_count": 6,
   "metadata": {
    "collapsed": false
   },
   "outputs": [
    {
     "name": "stdout",
     "output_type": "stream",
     "text": [
      "the first argument is  foo  and the second is  bar\n"
     ]
    },
    {
     "data": {
      "text/plain": [
       "'foobar'"
      ]
     },
     "execution_count": 6,
     "metadata": {
     },
     "output_type": "execute_result"
    }
   ],
   "source": [
    "# Let's see if that worked!\n",
    "name_of_function(\"foo\", \"bar\")"
   ]
  },
  {
   "cell_type": "code",
   "execution_count": 3,
   "metadata": {
    "collapsed": false
   },
   "outputs": [
    {
     "name": "stdout",
     "output_type": "stream",
     "text": [
      "the first argument is  15  and the second is  19\n"
     ]
    }
   ],
   "source": [
    "output = name_of_function(15, 19) # This doesn't print the return value, but there is a side effect\n"
   ]
  },
  {
   "cell_type": "code",
   "execution_count": 4,
   "metadata": {
    "collapsed": false
   },
   "outputs": [
    {
     "name": "stdout",
     "output_type": "stream",
     "text": [
      "34\n"
     ]
    }
   ],
   "source": [
    "print(output) # Now let's see the return value"
   ]
  },
  {
   "cell_type": "code",
   "execution_count": 8,
   "metadata": {
    "collapsed": false
   },
   "outputs": [
    {
     "name": "stdout",
     "output_type": "stream",
     "text": [
      "the first argument is  abc  and the second is  123\n"
     ]
    },
    {
     "ename": "TypeError",
     "evalue": "Can't convert 'int' object to str implicitly",
     "output_type": "error",
     "traceback": [
      "\u001b[0;31m---------------------------------------------------------------------------\u001b[0m",
      "\u001b[0;31mTypeError\u001b[0m                                 Traceback (most recent call last)",
      "\u001b[0;32m<ipython-input-8-ee53d52ce0bb>\u001b[0m in \u001b[0;36m<module>\u001b[0;34m()\u001b[0m\n\u001b[0;32m----> 1\u001b[0;31m \u001b[0mname_of_function\u001b[0m\u001b[0;34m(\u001b[0m\u001b[0;34m'abc'\u001b[0m\u001b[0;34m,\u001b[0m \u001b[0;36m123\u001b[0m\u001b[0;34m)\u001b[0m \u001b[0;31m# This will fail -- you can't add a string and a number in  Python\u001b[0m\u001b[0;34m\u001b[0m\u001b[0m\n\u001b[0m",
      "\u001b[0;32m<ipython-input-5-b6c722822b73>\u001b[0m in \u001b[0;36mname_of_function\u001b[0;34m(argument1, argument2)\u001b[0m\n\u001b[1;32m      2\u001b[0m     \u001b[0mx\u001b[0m \u001b[0;34m=\u001b[0m \u001b[0;36m8\u001b[0m\u001b[0;34m\u001b[0m\u001b[0m\n\u001b[1;32m      3\u001b[0m     \u001b[0mprint\u001b[0m\u001b[0;34m(\u001b[0m\u001b[0;34m\"the first argument is \"\u001b[0m\u001b[0;34m,\u001b[0m \u001b[0margument1\u001b[0m\u001b[0;34m,\u001b[0m \u001b[0;34m\" and the second is \"\u001b[0m\u001b[0;34m,\u001b[0m \u001b[0margument2\u001b[0m\u001b[0;34m)\u001b[0m\u001b[0;34m\u001b[0m\u001b[0m\n\u001b[0;32m----> 4\u001b[0;31m     \u001b[0;32mreturn\u001b[0m \u001b[0margument1\u001b[0m \u001b[0;34m+\u001b[0m \u001b[0margument2\u001b[0m\u001b[0;34m\u001b[0m\u001b[0m\n\u001b[0m",
      "\u001b[0;31mTypeError\u001b[0m: Can't convert 'int' object to str implicitly"
     ]
    }
   ],
   "source": [
    "name_of_function('abc', 123) # This will fail -- you can't add a string and a number in  Python\n"
   ]
  },
  {
   "cell_type": "markdown",
   "metadata": {
    "collapsed": false
   },
   "source": [
    "**Try this now:** last time, you wrote a code block that, given an integer `x`, returns 1, -1, or 0 depending on whether the integer is positive, negative, or zero. Now create a function `my_sign` that does the same for its input."
   ]
  },
  {
   "cell_type": "code",
   "execution_count": 13,
   "metadata": {
    "collapsed": false
   },
   "outputs": [
   ],
   "source": [
    "def my_sign(x):\n",
    "    if x > 0:\n",
    "        return 1\n",
    "    if x < 0:\n",
    "        return -1\n",
    "    return 0"
   ]
  },
  {
   "cell_type": "markdown",
   "metadata": {
    "collapsed": false
   },
   "source": [
    "**Try this now**: write a function that takes four parameters and returns their average. Try the test cases below to see if your function is working."
   ]
  },
  {
   "cell_type": "code",
   "execution_count": 23,
   "metadata": {
    "collapsed": false
   },
   "outputs": [
   ],
   "source": [
    "def avg(x1, x2, x3, x4):\n",
    "    return (x1+x2+x3+x4)//4\n",
    " "
   ]
  },
  {
   "cell_type": "code",
   "execution_count": 24,
   "metadata": {
    "collapsed": false
   },
   "outputs": [
   ],
   "source": [
    "u = avg(1,3,5,7) # Should return 4"
   ]
  },
  {
   "cell_type": "code",
   "execution_count": 25,
   "metadata": {
    "collapsed": false
   },
   "outputs": [
    {
     "data": {
      "text/plain": [
       "int"
      ]
     },
     "execution_count": 25,
     "metadata": {
     },
     "output_type": "execute_result"
    }
   ],
   "source": [
    "type(u)"
   ]
  },
  {
   "cell_type": "code",
   "execution_count": 26,
   "metadata": {
    "collapsed": false
   },
   "outputs": [
    {
     "data": {
      "text/plain": [
       "2"
      ]
     },
     "execution_count": 26,
     "metadata": {
     },
     "output_type": "execute_result"
    }
   ],
   "source": [
    "avg(1,2,3,4) # What do you expect to see here? Are you surprised? Should we try this in Python Tutor?"
   ]
  },
  {
   "cell_type": "code",
   "execution_count": 30,
   "metadata": {
    "collapsed": false
   },
   "outputs": [
    {
     "data": {
      "text/plain": [
       "float"
      ]
     },
     "execution_count": 30,
     "metadata": {
     },
     "output_type": "execute_result"
    }
   ],
   "source": [
    "type(4.0)"
   ]
  },
  {
   "cell_type": "markdown",
   "metadata": {
    "collapsed": false
   },
   "source": [
    "**Try this now**: \n",
    "\n",
    "Use a `while` loop to write a function `largest_power_of_2` that takes as input a positive integer `n`  and returns the largest power of 2 that is less than `n`. Your loop should start with `pow=1` and while `pow*2` is less than `n` replaces `pow` with `pow*2`; once the loop ends, return `pow`."
   ]
  },
  {
   "cell_type": "code",
   "execution_count": 27,
   "metadata": {
    "collapsed": false
   },
   "outputs": [
   ],
   "source": [
    "def largest_power_of_2(n):\n",
    "    pow = 1\n",
    "    while pow*2 < n:\n",
    "        pow *= 2\n",
    "    return pow\n",
    "    #insert code here\n"
   ]
  },
  {
   "cell_type": "code",
   "execution_count": 29,
   "metadata": {
    "collapsed": false
   },
   "outputs": [
    {
     "name": "stdout",
     "output_type": "stream",
     "text": [
      "1 1\n",
      "2 1\n",
      "3 2\n",
      "4 2\n",
      "5 4\n",
      "6 4\n",
      "7 4\n",
      "8 4\n",
      "9 8\n",
      "10 8\n",
      "11 8\n",
      "12 8\n",
      "13 8\n",
      "14 8\n",
      "15 8\n",
      "16 8\n",
      "17 16\n"
     ]
    }
   ],
   "source": [
    "# Test this out!\n",
    "for x in range(1, 18):\n",
    "    print(x, largest_power_of_2(x))"
   ]
  },
  {
   "cell_type": "markdown",
   "metadata": {
    "collapsed": false
   },
   "source": [
    "Aside: the syntax for exponentiation in Python is `2**n` rather than `2^n`."
   ]
  },
  {
   "cell_type": "markdown",
   "metadata": {
    "collapsed": false
   },
   "source": [
    "### Lists\n",
    "\n",
    "A *list* is a Python type consisting of an ordered list of other objects. This is similar to the concept of an *array* in other programming languages; however, in Python the objects of a list can be of different types (e.g., a single list can simultaneously contain numbers, strings, other lists, etc.).\n",
    "\n",
    "One can create a list by specifying its contents enclosed in square brackets. The empty list is allowed.\n",
    "\n",
    "If `l` is a list, then the objects of the list can be retrieved as `l[0], l[1], ...`; note that the first index is 0, not 1. The *last* items in a list can be retrieved as `l[-1], l[-2], ...`."
   ]
  },
  {
   "cell_type": "code",
   "execution_count": 31,
   "metadata": {
    "collapsed": false
   },
   "outputs": [
    {
     "name": "stdout",
     "output_type": "stream",
     "text": [
      "2\n",
      "ab\n"
     ]
    }
   ],
   "source": [
    "l = [2, 3, \"ab\"]\n",
    "print(l[0])\n",
    "print(l[-1])"
   ]
  },
  {
   "cell_type": "markdown",
   "metadata": {
    "collapsed": false
   },
   "source": [
    "\n",
    "Here are some examples of operations on lists."
   ]
  },
  {
   "cell_type": "code",
   "execution_count": 32,
   "metadata": {
    "collapsed": false
   },
   "outputs": [
    {
     "name": "stdout",
     "output_type": "stream",
     "text": [
      "3\n"
     ]
    }
   ],
   "source": [
    "l = [2,5,3]\n",
    "print(len(l)) # Length of a list"
   ]
  },
  {
   "cell_type": "code",
   "execution_count": 33,
   "metadata": {
    "collapsed": false
   },
   "outputs": [
    {
     "name": "stdout",
     "output_type": "stream",
     "text": [
      "False\n"
     ]
    }
   ],
   "source": [
    "print(4 in l) # Test for membership in a list"
   ]
  },
  {
   "cell_type": "code",
   "execution_count": 34,
   "metadata": {
    "collapsed": false
   },
   "outputs": [
    {
     "name": "stdout",
     "output_type": "stream",
     "text": [
      "[2, 5, 3, 6, 7]\n"
     ]
    }
   ],
   "source": [
    "l += [6,7] # The + operator concatenates lists\n",
    "print(l)"
   ]
  },
  {
   "cell_type": "code",
   "execution_count": 35,
   "metadata": {
    "collapsed": false
   },
   "outputs": [
    {
     "name": "stdout",
     "output_type": "stream",
     "text": [
      "[2, 5, 3, 7]\n"
     ]
    }
   ],
   "source": [
    "del l[3] # Remove an element from a list\n",
    "print(l)"
   ]
  },
  {
   "cell_type": "code",
   "execution_count": 36,
   "metadata": {
    "collapsed": false
   },
   "outputs": [
    {
     "name": "stdout",
     "output_type": "stream",
     "text": [
      "[2, 5, 3, 7]\n"
     ]
    }
   ],
   "source": [
    "print(l[:]) # This creates a new list consisting of a certain range of elements of the original list."
   ]
  },
  {
   "cell_type": "markdown",
   "metadata": {
    "collapsed": false
   },
   "source": [
    "Many of the available operations on lists, and on other Python objects, are accessed using a slightly different syntax than the one used so far. Look at these examples."
   ]
  },
  {
   "cell_type": "code",
   "execution_count": 37,
   "metadata": {
    "collapsed": false
   },
   "outputs": [
    {
     "name": "stdout",
     "output_type": "stream",
     "text": [
      "[2, 3, 5, 7]\n"
     ]
    }
   ],
   "source": [
    "l.sort() # Sort the list\n",
    "print(l)"
   ]
  },
  {
   "cell_type": "code",
   "execution_count": 16,
   "metadata": {
    "collapsed": false
   },
   "outputs": [
    {
     "name": "stdout",
     "output_type": "stream",
     "text": [
      "[2, 3, 5, 7, 8]\n"
     ]
    }
   ],
   "source": [
    "l.append(8) # Add an element to a list\n",
    "print(l)"
   ]
  },
  {
   "cell_type": "markdown",
   "metadata": {
    "collapsed": false
   },
   "source": [
    "These kinds of functions are specific to a certain type of object, in this case lists; they are called *methods* of the object class. This is a symptom of the fact that Python is an *object-oriented* programming language; we will see later how Sage takes advantage of this architecture to implement *mathematical* objects.\n",
    "\n",
    "In the meantime, I point out two ways to find out more about the methods associated to a particular class of objects.\n",
    "\n",
    "1. Use *tab-completion*: type `l.` and hit the Tab key to see a list of methods associated to `l`. If you have typed some letters after the period before hitting Tab, you'll only get objects whose names match the initial string you typed.\n",
    "1. Look at the page from the Python documentation corresponding to the type. For example, for lists this page is https://docs.python.org/2/tutorial/datastructures.html."
   ]
  },
  {
   "cell_type": "code",
   "execution_count": 17,
   "metadata": {
    "collapsed": false
   },
   "outputs": [
   ],
   "source": [
    "# Try tab-completion here!\n",
    "l.i"
   ]
  },
  {
   "cell_type": "markdown",
   "metadata": {
    "collapsed": false
   },
   "source": [
    "### List comprehensions"
   ]
  },
  {
   "cell_type": "markdown",
   "metadata": {
    "collapsed": false
   },
   "source": [
    "Mathematicians are fond of constructing sets out of other sets. Python offers a similar syntax:\n",
    "\n",
    "    [expression(x) for x in [list]]\n",
    "    [expression(x) for x in [list] if something(x)]\n",
    "    [expression(x, y) for x in [list] for y in [another list] if something(x, y)]\n",
    "\n",
    "et cetera."
   ]
  },
  {
   "cell_type": "code",
   "execution_count": 38,
   "metadata": {
    "collapsed": false
   },
   "outputs": [
    {
     "data": {
      "text/plain": [
       "[-3, -2, -1, 0, 1, 2, 3, 4]"
      ]
     },
     "execution_count": 38,
     "metadata": {
     },
     "output_type": "execute_result"
    }
   ],
   "source": [
    "[n for n in range(-3,5)]  # you can give a start value for range"
   ]
  },
  {
   "cell_type": "code",
   "execution_count": 39,
   "metadata": {
    "collapsed": false
   },
   "outputs": [
    {
     "data": {
      "text/plain": [
       "[0, 2, 4, 6, 8, 10, 12, 14, 16, 18]"
      ]
     },
     "execution_count": 39,
     "metadata": {
     },
     "output_type": "execute_result"
    }
   ],
   "source": [
    "[n*2 for n in range(10)]"
   ]
  },
  {
   "cell_type": "code",
   "execution_count": 40,
   "metadata": {
    "collapsed": false
   },
   "outputs": [
    {
     "data": {
      "text/plain": [
       "[0, 2, 4, 6, 8, 10, 12, 14, 16, 18]"
      ]
     },
     "execution_count": 40,
     "metadata": {
     },
     "output_type": "execute_result"
    }
   ],
   "source": [
    "[n for n in range(20) if n%2 == 0] # What does % do again?"
   ]
  },
  {
   "cell_type": "code",
   "execution_count": 41,
   "metadata": {
    "collapsed": false
   },
   "outputs": [
    {
     "data": {
      "text/plain": [
       "[[0, 'X'], [0, 'Y'], [0, 'Z'], [2, 'X'], [2, 'Y'], [2, 'Z']]"
      ]
     },
     "execution_count": 41,
     "metadata": {
     },
     "output_type": "execute_result"
    }
   ],
   "source": [
    "[[x,y] for x in range(4) for y in ['X','Y','Z'] if x%2 == 0]"
   ]
  },
  {
   "cell_type": "markdown",
   "metadata": {
    "collapsed": false
   },
   "source": [
    "You can typically rewrite a list comprehension as a `for` loop (or nested `for` loops)."
   ]
  },
  {
   "cell_type": "code",
   "execution_count": 23,
   "metadata": {
    "collapsed": false
   },
   "outputs": [
    {
     "name": "stdout",
     "output_type": "stream",
     "text": [
      "[0, 1, 2, 3, 4, 5, 6, 7, 8, 9]\n"
     ]
    }
   ],
   "source": [
    "v = []\n",
    "for n in range(10):\n",
    "    v.append(n)\n",
    "print(v)"
   ]
  },
  {
   "cell_type": "markdown",
   "metadata": {
    "collapsed": false
   },
   "source": [
    "**Helpful hint:** The order of the `for` loops and the `if` are *exactly* the same as in the list comprehension."
   ]
  },
  {
   "cell_type": "code",
   "execution_count": 26,
   "metadata": {
    "collapsed": false
   },
   "outputs": [
    {
     "name": "stdout",
     "output_type": "stream",
     "text": [
      "[[0, 'X'], [0, 'Y'], [0, 'Z'], [2, 'X'], [2, 'Y'], [2, 'Z']]\n"
     ]
    }
   ],
   "source": [
    "v = []\n",
    "for x in range(4):\n",
    "    for y in ['X','Y','Z']:\n",
    "        if x % 2 == 0:\n",
    "            v.append([x,y])\n",
    "print(v)"
   ]
  },
  {
   "cell_type": "markdown",
   "metadata": {
    "collapsed": false
   },
   "source": [
    "**Try this now:**\n",
    "\n",
    "Construct the following list using a list comprehension and the function `my_sign` you wrote earlier (which should still be declared):\n",
    "\n",
    "    [[-3,'negative'], [-2,'negative'], [-1,'negative'], [0,'zero'], [1,'positive'], [2,'positive'], [3,'positive']]\n",
    "\n",
    "If you have extra time, do the same using a `for` loop."
   ]
  },
  {
   "cell_type": "markdown",
   "metadata": {
    "collapsed": false
   },
   "source": [
    "Advanced note: the definition of list comprehension does now allow for an `else` clause. However, there is an inline version of `if/else` that is sometimes useful in this context."
   ]
  },
  {
   "cell_type": "code",
   "execution_count": 27,
   "metadata": {
    "collapsed": false
   },
   "outputs": [
    {
     "data": {
      "text/plain": [
       "[0, 1, 2, 3, 4, -1, -1, -1, -1, -1]"
      ]
     },
     "execution_count": 27,
     "metadata": {
     },
     "output_type": "execute_result"
    }
   ],
   "source": [
    "[(x if x < 5 else -1) for x in range(10)]"
   ]
  },
  {
   "cell_type": "markdown",
   "metadata": {
    "collapsed": false
   },
   "source": [
    "## Warning: lists are mutable"
   ]
  },
  {
   "cell_type": "markdown",
   "metadata": {
    "collapsed": false
   },
   "source": [
    "There is a serious subtlety with how Python lists works. This is a frequent source of errors for new Python users.\n",
    "\n",
    "In Python, objects are copied by *reference*, not by *value*. That is, when you perform the assignment `b = a`, Python does not assign a *copy* of the value of `a` to the new variable `b`; rather, `a` and `b` are both *references* to the *same* object in memory. (This is different from MATLAB, for example.)\n",
    "\n",
    "This is already true for basic objects like integers, but isn't really an issue."
   ]
  },
  {
   "cell_type": "code",
   "execution_count": 28,
   "metadata": {
    "collapsed": false
   },
   "outputs": [
    {
     "name": "stdout",
     "output_type": "stream",
     "text": [
      "3 7\n"
     ]
    }
   ],
   "source": [
    "a = 3\n",
    "b = a  # Now a and b point to the same object in memory, a copy of the integer 3.\n",
    "b += 4 # This creates a new integer and makes b point to it instead, so a remains intact.\n",
    "print(a,b)"
   ]
  },
  {
   "cell_type": "code",
   "execution_count": 29,
   "metadata": {
    "collapsed": false
   },
   "outputs": [
    {
     "name": "stdout",
     "output_type": "stream",
     "text": [
      "10919488 10919616\n"
     ]
    }
   ],
   "source": [
    "print(id(a), id(b)) # This proves that a and b are now pointing to different places in memory"
   ]
  },
  {
   "cell_type": "markdown",
   "metadata": {
    "collapsed": false
   },
   "source": [
    "By contrast, basic operations on lists change the original list, rather than creating a new one. This can lead to unexpected side effects."
   ]
  },
  {
   "cell_type": "code",
   "execution_count": 42,
   "metadata": {
    "collapsed": false
   },
   "outputs": [
    {
     "name": "stdout",
     "output_type": "stream",
     "text": [
      "[3, 5, 7]\n"
     ]
    }
   ],
   "source": [
    "a = [3,5]\n",
    "b = a\n",
    "b.append(7)\n",
    "print(a)"
   ]
  },
  {
   "cell_type": "code",
   "execution_count": 43,
   "metadata": {
    "collapsed": false
   },
   "outputs": [
    {
     "name": "stdout",
     "output_type": "stream",
     "text": [
      "140567236775816 140567236775816\n"
     ]
    }
   ],
   "source": [
    "print(id(a), id(b))"
   ]
  },
  {
   "cell_type": "markdown",
   "metadata": {
    "collapsed": false
   },
   "source": [
    "Different programming languages make very subtle and different design choices regarding this and other aspects of programming (see homework)."
   ]
  },
  {
   "cell_type": "markdown",
   "metadata": {
    "collapsed": false
   },
   "source": [
    "\n",
    "The copy by reference choice of Python makes lists potentially subtle. For example:"
   ]
  },
  {
   "cell_type": "code",
   "execution_count": 32,
   "metadata": {
    "collapsed": false
   },
   "outputs": [
    {
     "data": {
      "text/plain": [
       "[[1, 2, 3], [1, 2, 3], [1, 2, 3]]"
      ]
     },
     "execution_count": 32,
     "metadata": {
     },
     "output_type": "execute_result"
    }
   ],
   "source": [
    "v = [1,2,3]\n",
    "w = [v, v, [1,2,3]]\n",
    "w"
   ]
  },
  {
   "cell_type": "code",
   "execution_count": 33,
   "metadata": {
    "collapsed": false
   },
   "outputs": [
   ],
   "source": [
    "w[0][0] = 'sage'"
   ]
  },
  {
   "cell_type": "markdown",
   "metadata": {
    "collapsed": false
   },
   "source": [
    "Now **what the heck** is w equal to?  (Wait until lots of people in class think this through.)"
   ]
  },
  {
   "cell_type": "code",
   "execution_count": 34,
   "metadata": {
    "collapsed": false
   },
   "outputs": [
    {
     "name": "stdout",
     "output_type": "stream",
     "text": [
      "[['sage', 2, 3], ['sage', 2, 3], [1, 2, 3]]\n"
     ]
    }
   ],
   "source": [
    "print(w)"
   ]
  },
  {
   "cell_type": "code",
   "execution_count": 35,
   "metadata": {
    "collapsed": false
   },
   "outputs": [
    {
     "data": {
      "text/plain": [
       "[140651206536008, 140651206536008, 140651206546952]"
      ]
     },
     "execution_count": 35,
     "metadata": {
     },
     "output_type": "execute_result"
    }
   ],
   "source": [
    "[id(x) for x in w]"
   ]
  },
  {
   "cell_type": "markdown",
   "metadata": {
    "collapsed": false
   },
   "source": [
    "**Moral: Don't judge an object by its cover (how it prints).**\n",
    "Just because something prints out at `[[1, 2, 3], [1, 2, 3], [1, 2, 3]]` doesn't mean you know what that something is!\n",
    "In Python, things can be very subtle.\n",
    "\n",
    "If you don't get this point, you might hate Python.  If you do get it, you might start to see huge power and flexibility in\n",
    "what Python offers... and understand why Python might be the most popular programming language in data science (and why DS10 is taught in Python)."
   ]
  },
  {
   "cell_type": "markdown",
   "metadata": {
    "collapsed": false
   },
   "source": [
    "### Shallow and deep copies"
   ]
  },
  {
   "cell_type": "markdown",
   "metadata": {
    "collapsed": false
   },
   "source": [
    "In light of the previous issue, let's take a closer look at how copying works. Let's try the copy module from Python's standard library: https://docs.python.org/2/library/"
   ]
  },
  {
   "cell_type": "code",
   "execution_count": 38,
   "metadata": {
    "collapsed": false
   },
   "outputs": [
    {
     "ename": "SyntaxError",
     "evalue": "invalid syntax (<ipython-input-38-f13a981896f0>, line 2)",
     "output_type": "error",
     "traceback": [
      "\u001b[0;36m  File \u001b[0;32m\"<ipython-input-38-f13a981896f0>\"\u001b[0;36m, line \u001b[0;32m2\u001b[0m\n\u001b[0;31m    copy. # Let's do the tab completion here to see what new functions we got\u001b[0m\n\u001b[0m                                                                             ^\u001b[0m\n\u001b[0;31mSyntaxError\u001b[0m\u001b[0;31m:\u001b[0m invalid syntax\n"
     ]
    }
   ],
   "source": [
    "import copy  # this is how you import a module in Python\n",
    "copy. # Let's do the tab completion here to see what new functions we got"
   ]
  },
  {
   "cell_type": "code",
   "execution_count": 39,
   "metadata": {
    "collapsed": false
   },
   "outputs": [
    {
     "name": "stdout",
     "output_type": "stream",
     "text": [
      "w1 =  [['hi', 2, 3], ['hi', 2, 3], [1, 2, 3]]\n",
      "w  =  [['hi', 2, 3], ['hi', 2, 3], [1, 2, 3]]\n"
     ]
    }
   ],
   "source": [
    "v = [1,2,3]\n",
    "w = [v, v, [1,2,3]]\n",
    "w1 = copy.copy(w)   # how to use a function defined in a module\n",
    "w1[0][0] = 'hi'\n",
    "print(\"w1 = \", w1)\n",
    "print(\"w  = \", w)   # not much of a copy!!!  It just copies the top level references"
   ]
  },
  {
   "cell_type": "code",
   "execution_count": 40,
   "metadata": {
    "collapsed": false
   },
   "outputs": [
    {
     "name": "stdout",
     "output_type": "stream",
     "text": [
      "[['hi', 2, 3], ['hi', 2, 3], [1, 2, 3]]\n"
     ]
    }
   ],
   "source": [
    "# Question: will this change w?\n",
    "w1[0] = 'hi'\n",
    "print(w)   # what do you expect"
   ]
  },
  {
   "cell_type": "markdown",
   "metadata": {
    "collapsed": false
   },
   "source": [
    "Another approach to the shallow copy uses *slicing*, which is actually more general: given a list, you can use it to produce a new list consisting of some subrange of objects from the first list. The trivial case, where the subrange is the whole list, is equivalent to shallow copy."
   ]
  },
  {
   "cell_type": "code",
   "execution_count": 41,
   "metadata": {
    "collapsed": false
   },
   "outputs": [
    {
     "name": "stdout",
     "output_type": "stream",
     "text": [
      "[3, 4]\n",
      "[4, 5]\n",
      "[3, 4, 5, 6]\n",
      "[1, 2, 3, 4, 5, 6]\n"
     ]
    }
   ],
   "source": [
    "v = [1,2,3,4,5,6]\n",
    "print(v[2:4])   # Same endpoint conventions as for range...\n",
    "print(v[3:-1])  # ... except that negative indices are allowed!\n",
    "print(v[2:])    # Can also omit one endpoint...\n",
    "print(v[:])     # ... or both."
   ]
  },
  {
   "cell_type": "raw",
   "metadata": {
    "collapsed": false
   },
   "source": [
    "v = [1,2,3]\n",
    "w = [v, v, [1,2,3]]\n",
    "x = w[:] # Another form of shallow copying."
   ]
  },
  {
   "cell_type": "markdown",
   "metadata": {
    "collapsed": false
   },
   "source": [
    "A shallow copy is to be distinguished from a *deep copy*, which can be modified with no side effects on the original."
   ]
  },
  {
   "cell_type": "code",
   "execution_count": 42,
   "metadata": {
    "collapsed": false
   },
   "outputs": [
    {
     "name": "stdout",
     "output_type": "stream",
     "text": [
      "w1 =  [['hi', 2, 3], ['hi', 2, 3], [1, 2, 3]]\n",
      "w  =  [[1, 2, 3], [1, 2, 3], [1, 2, 3]]\n"
     ]
    }
   ],
   "source": [
    "# We already imported copy, no need to do it again.\n",
    "\n",
    "v = [1,2,3]\n",
    "w = [v, v, [1,2,3]]\n",
    "w1 = copy.deepcopy(w)   # uses more memory; causes more work -- and that's why we want options\n",
    "w1[0][0] = 'hi'\n",
    "print(\"w1 = \", w1)\n",
    "print(\"w  = \", w)   # yep, not touched by changing w"
   ]
  },
  {
   "cell_type": "markdown",
   "metadata": {
    "collapsed": false
   },
   "source": [
    "**MORAL:** Python is a real programming language designed (and very occasionally modified) by software engineers. As a result, it takes into account important subtleties about programming to which mathematicians tend to be oblivious.\n",
    "\n",
    "By contrast, most legacy mathematical software systems were built by mathematicians (or physicists) whose expertise and interests lay far away from programming. The interfaces with these systems are themselves programming languages, but were designed by people without much familiarity with software engineering; this tends to cause problems in the long run."
   ]
  },
  {
   "cell_type": "markdown",
   "metadata": {
    "collapsed": false
   },
   "source": [
    "### Tuples"
   ]
  },
  {
   "cell_type": "markdown",
   "metadata": {
    "collapsed": false
   },
   "source": [
    "Tuples are a data structure that look quite similar to lists.\n",
    "\n",
    "- Like Python lists, except you use parentheses instead of square brackets to create them.\n",
    "- Tuples are *immutable* in the sense that you can't change the number of entries or *what* they reference.  However, you might be able to change the referenced thing itself (e.g., if it is a list)."
   ]
  },
  {
   "cell_type": "code",
   "execution_count": 53,
   "metadata": {
    "collapsed": false
   },
   "outputs": [
    {
     "name": "stdout",
     "output_type": "stream",
     "text": [
      "v = [['x', 'y'], 2, 5]\n",
      "t = (['x', 'y'], 2, 5)\n"
     ]
    }
   ],
   "source": [
    "v = [['x','y'], 2, 5]  # a list\n",
    "t = (['x', 'y'], 2, 5) # a tuple\n",
    "print(\"v =\", v)        # The input to a function is implicitly a tuple!\n",
    "print(\"t =\", t)"
   ]
  },
  {
   "cell_type": "code",
   "execution_count": 54,
   "metadata": {
    "collapsed": false
   },
   "outputs": [
    {
     "ename": "TypeError",
     "evalue": "'tuple' object does not support item assignment",
     "output_type": "error",
     "traceback": [
      "\u001b[0;31m---------------------------------------------------------------------------\u001b[0m",
      "\u001b[0;31mTypeError\u001b[0m                                 Traceback (most recent call last)",
      "\u001b[0;32m<ipython-input-54-08a06e0316d9>\u001b[0m in \u001b[0;36m<module>\u001b[0;34m()\u001b[0m\n\u001b[0;32m----> 1\u001b[0;31m \u001b[0mt\u001b[0m\u001b[0;34m[\u001b[0m\u001b[0;36m1\u001b[0m\u001b[0;34m]\u001b[0m \u001b[0;34m=\u001b[0m \u001b[0;36m3\u001b[0m \u001b[0;31m# not allowed!\u001b[0m\u001b[0;34m\u001b[0m\u001b[0m\n\u001b[0m",
      "\u001b[0;31mTypeError\u001b[0m: 'tuple' object does not support item assignment"
     ]
    }
   ],
   "source": [
    "t[1] = 3 # not allowed!"
   ]
  },
  {
   "cell_type": "code",
   "execution_count": 55,
   "metadata": {
    "collapsed": false
   },
   "outputs": [
   ],
   "source": [
    "v[1] = 3"
   ]
  },
  {
   "cell_type": "code",
   "execution_count": 56,
   "metadata": {
    "collapsed": false
   },
   "outputs": [
    {
     "data": {
      "text/plain": [
       "[['x', 'y'], 3, 5, 'something']"
      ]
     },
     "execution_count": 56,
     "metadata": {
     },
     "output_type": "execute_result"
    }
   ],
   "source": [
    "v.append(\"something\")   # lists allow for lots of exciting ways of changing them\n",
    "v"
   ]
  },
  {
   "cell_type": "code",
   "execution_count": 57,
   "metadata": {
    "collapsed": false
   },
   "outputs": [
    {
     "data": {
      "text/plain": [
       "[['x', 'y'], 3, 5]"
      ]
     },
     "execution_count": 57,
     "metadata": {
     },
     "output_type": "execute_result"
    }
   ],
   "source": [
    "del v[3]\n",
    "v"
   ]
  },
  {
   "cell_type": "code",
   "execution_count": 58,
   "metadata": {
    "collapsed": false
   },
   "outputs": [
    {
     "ename": "AttributeError",
     "evalue": "'tuple' object has no attribute 'append'",
     "output_type": "error",
     "traceback": [
      "\u001b[0;31m---------------------------------------------------------------------------\u001b[0m",
      "\u001b[0;31mAttributeError\u001b[0m                            Traceback (most recent call last)",
      "\u001b[0;32m<ipython-input-58-3bf7a14c4b06>\u001b[0m in \u001b[0;36m<module>\u001b[0;34m()\u001b[0m\n\u001b[0;32m----> 1\u001b[0;31m \u001b[0mt\u001b[0m\u001b[0;34m.\u001b[0m\u001b[0mappend\u001b[0m  \u001b[0;31m# not so for tuples\u001b[0m\u001b[0;34m\u001b[0m\u001b[0m\n\u001b[0m",
      "\u001b[0;31mAttributeError\u001b[0m: 'tuple' object has no attribute 'append'"
     ]
    }
   ],
   "source": [
    "t.append  # not so for tuples"
   ]
  },
  {
   "cell_type": "code",
   "execution_count": 59,
   "metadata": {
    "collapsed": false
   },
   "outputs": [
    {
     "data": {
      "text/plain": [
       "[['x', 'y', 'z'], 3, 5]"
      ]
     },
     "execution_count": 59,
     "metadata": {
     },
     "output_type": "execute_result"
    }
   ],
   "source": [
    "# However, and this is critical -- you can change v[0] or t[0] itself!\n",
    "\n",
    "v[0].append('z')\n",
    "v"
   ]
  },
  {
   "cell_type": "code",
   "execution_count": 60,
   "metadata": {
    "collapsed": false
   },
   "outputs": [
   ],
   "source": [
    "t[0].append('z')   # this doesn't change t --\n",
    "# think of t as references to 3 specific objects -- you are changing one of the referenced objects, not t itself!"
   ]
  },
  {
   "cell_type": "code",
   "execution_count": 0,
   "metadata": {
    "collapsed": false
   },
   "outputs": [
   ],
   "source": [
   ]
  },
  {
   "cell_type": "code",
   "execution_count": 61,
   "metadata": {
    "collapsed": false
   },
   "outputs": [
    {
     "name": "stdout",
     "output_type": "stream",
     "text": [
      "(1, [2, 3, 5], 4)\n"
     ]
    }
   ],
   "source": [
    "a = (1,[2,3],4)\n",
    "a[1].append(5)\n",
    "print(a)"
   ]
  },
  {
   "cell_type": "code",
   "execution_count": 62,
   "metadata": {
    "collapsed": false
   },
   "outputs": [
    {
     "data": {
      "text/plain": [
       "(['x', 'y', 'z'], 2, 5)"
      ]
     },
     "execution_count": 62,
     "metadata": {
     },
     "output_type": "execute_result"
    }
   ],
   "source": [
    "t"
   ]
  },
  {
   "cell_type": "markdown",
   "metadata": {
    "collapsed": false
   },
   "source": [
    "**Try this now:** Write a function that takes as input a tuple and returns the sorted version of the tuple."
   ]
  },
  {
   "cell_type": "code",
   "execution_count": 0,
   "metadata": {
    "collapsed": false
   },
   "outputs": [
   ],
   "source": [
   ]
  },
  {
   "cell_type": "code",
   "execution_count": 68,
   "metadata": {
    "collapsed": false
   },
   "outputs": [
    {
     "data": {
      "text/plain": [
       "[1, 4, 7]"
      ]
     },
     "execution_count": 68,
     "metadata": {
     },
     "output_type": "execute_result"
    }
   ],
   "source": [
    "# Hints to make this really easy:\n",
    "v = (1,7, 4)\n",
    "sorted(v)   # returns sorted list obtained from a tuple (or another suitable data type)"
   ]
  },
  {
   "cell_type": "code",
   "execution_count": 64,
   "metadata": {
    "collapsed": false
   },
   "outputs": [
    {
     "data": {
      "text/plain": [
       "(4, 7, 8)"
      ]
     },
     "execution_count": 64,
     "metadata": {
     },
     "output_type": "execute_result"
    }
   ],
   "source": [
    "tuple([4,7,8])  # tuple of a list makes a tuple"
   ]
  },
  {
   "cell_type": "code",
   "execution_count": 65,
   "metadata": {
    "collapsed": false
   },
   "outputs": [
   ],
   "source": [
    "def sorted_tuple(x):\n",
    "    return  # what goes here? something"
   ]
  },
  {
   "cell_type": "code",
   "execution_count": 66,
   "metadata": {
    "collapsed": false
   },
   "outputs": [
   ],
   "source": [
    "sorted_tuple((7,3,5))  # test your function!"
   ]
  }
 ],
 "metadata": {
  "kernelspec": {
   "display_name": "Python 3 (Ubuntu Linux)",
   "language": "python",
   "name": "python3"
  },
  "language_info": {
   "codemirror_mode": {
    "name": "ipython",
    "version": 3
   },
   "file_extension": ".py",
   "mimetype": "text/x-python",
   "name": "python",
   "nbconvert_exporter": "python",
   "pygments_lexer": "ipython3",
   "version": "3.5.2"
  }
 },
 "nbformat": 4,
 "nbformat_minor": 0
}