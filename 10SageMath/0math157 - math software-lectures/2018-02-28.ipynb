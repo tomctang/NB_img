{
 "cells": [
  {
   "cell_type": "markdown",
   "metadata": {
    "collapsed": false
   },
   "source": [
    "## Math 157: Intro to Mathematical Software\n",
    "## UC San Diego, winter 2018\n",
    "\n",
    "## February 28, 2018: More on machine learning"
   ]
  },
  {
   "cell_type": "markdown",
   "metadata": {
    "collapsed": false
   },
   "source": [
    "Administrivia (to be updated):\n",
    "\n",
    "- CAPE evaluations are available! They close Monday, March 19 at 8am. Since this course is highly experimental, your feedback will be very helpful for shaping future offerings.\n",
    "- Attendance scores through Wednesday, February 21 are now posted on TritonEd. Contact Peter with any issues.\n",
    "- My office hours this week will be held Thursday, 3:30-4:30 (rather than 4-5).\n",
    "- Grades for HW5 will be available shortly.\n",
    "- The HW6 solution set is available.\n",
    "- HW 7 is now available. Some early comments:\n",
    " - Problem 1: The \"Orange\" dataset is not available via statsmodels. However, you can access it directly from R using the `rpy2` module. Also, some students have had issues with the \"FacetGrid\" command crashing their kernel; if this occurs, simply state that and skip this part of the problem. (Added in class: try restarting your project before giving up.)\n",
    " - Problem 3a: The mpg dataset is in ggplot, not statsmodels: `from ggplot import mpg`\n",
    "\n",
    "Added in class:\n",
    "- If you are unable to be on campus during week 10, please contact me immediately to set up a workaround for the final project.\n",
    "- It looks everyone can have their first choice for the final project. However, please fill out the Google Form (see Monday's lecture or Part 2 of the final project for the link) by Friday.\n",
    "\n",
    "Advance notice for week 9:\n",
    "- No sections on Tuesday, March 6. However, during this time, you are welcome to use APM 6402 as a study room; we will also try to monitor the chat room.\n",
    "- Thomas's office hours (usually Tuesday 11am-12pm) are moved to Friday 11:30am-12:50pm.\n",
    "- Peter's office hours (usually Wednesday 3-5pm) are moved to Wednesday 5-7pm. \n",
    "- There will be an extra virtual office hour Thursday 6-7pm.\n",
    "\n",
    "Advance notice for week 10:\n",
    "- No lectures on Monday, March 12 or Wednesday, March 14. You may wish to use this time to meet your assigned group for Part 2 of the final project.\n",
    "- There will be a lecture on Friday, March 16, on the topic of \"Where to go from here?\" This lecture will not be counted for course attendance; that is, the last lecture for which attendance counts is Friday, March 9.\n",
    "- My office hours on Thursday, March 15 are cancelled. All other sections and office hours meet as scheduled."
   ]
  },
  {
   "cell_type": "code",
   "execution_count": 1,
   "metadata": {
    "collapsed": false
   },
   "outputs": [
    {
     "data": {
      "text/html": [
       "<h1>Machine Learning</h1><img src=\"https://imgs.xkcd.com/comics/machine_learning.png\" title=\"The pile gets soaked with data and starts to get mushy over time, so it's technically recurrent.\"><div>Source: <a href=\"http://xkcd.com/1838\" target=\"_blank\">http://xkcd.com/1838</a></div>"
      ]
     },
     "execution_count": 1,
     "metadata": {
     },
     "output_type": "execute_result"
    }
   ],
   "source": [
    "xkcd(1838)"
   ]
  },
  {
   "cell_type": "markdown",
   "metadata": {
    "collapsed": false
   },
   "source": [
    "<img src=\"https://datahub.packtpub.com/wp-content/uploads/2017/12/Screen-Shot-2017-12-07-at-8.06.19-AM-768x446.png\" class=\"pull-right\" width=300>\n",
    "Machine learning is basically everywhere these days. Here a few common examples, together with some potential downsides caused by undesirable features of the input data (e.g., biased or insufficiently diverse training data). This [TED talk](https://www.ted.com/talks/joy_buolamwini_how_i_m_fighting_bias_in_algorithms) summarizes the key issue; it mentions [this book](https://weaponsofmathdestructionbook.com/) which takes a deeper look at the phenomenon (disclosure: the author is married to my PhD advisor).\n",
    "\n",
    "- Text inputs\n",
    " - spam filtering (downside: [can also be used to defeat spam filtering](https://www.usenix.org/legacy/event/leet08/tech/full_papers/nelson/nelson_html/))\n",
    " - machine translation (downside: [may reflect gender bias](https://www.fastcompany.com/3010223/google-translates-gender-problem-and-bing-translates-and-systrans))\n",
    " - chat bots (downside: [may reflect incivility](https://arstechnica.com/information-technology/2016/03/microsoft-terminates-its-tay-ai-chatbot-after-she-turns-into-a-nazi/))\n",
    "- Graphical inputs\n",
    " - face detection (downside: [may reflect racial bias](https://www.youtube.com/watch?v=t4DT3tQqgRM))\n",
    "- Sound inputs\n",
    " - speech-to-text (downside: [may discriminate based on accent](https://www.wired.com/2017/03/voice-is-the-next-big-platform-unless-you-have-an-accent/) or [based on gender](https://makingnoiseandhearingthings.com/2016/07/12/googles-speech-recognition-has-a-gender-bias/))\n",
    "- Location inputs\n",
    " - augmented reality (downside: [may reflect racial bias in housing](http://www.usatoday.com/story/tech/news/2016/08/09/pokemon-go-racist-app-redlining-communities-color-racist-pokestops-gyms/87732734/))\n",
    "- Situational inputs\n",
    " - recommendations (downside: [may reflect gender bias](https://phys.org/news/2016-09-gender-bias-algorithms.html))\n",
    " - online ads (downside: [may reflect racial bias](http://arxiv.org/ftp/arxiv/papers/1301/1301.6822.pdf))\n",
    " - crime prediction and prevention (downside: [may perpetuate racial disparities](https://www.sciencenews.org/blog/science-public/data-driven-crime-prediction-fails-erase-human-bias))\n",
    " - prison sentencing (downside: [may perpetuate racial disparaties](https://www.propublica.org/article/machine-bias-risk-assessments-in-criminal-sentencing))\n",
    "  - content aggregation (downside: [may facilitate political manipulation](https://www.theguardian.com/technology/2017/sep/06/facebook-political-ads-russia-us-election-trump-clinton))"
   ]
  },
  {
   "cell_type": "markdown",
   "metadata": {
    "collapsed": false
   },
   "source": [
    "The rest of this lecture is not about ethical issues; however, I did want to highlight them before continuing. The proliferation of such issues makes it important for *everyone* to understand a bit about how machine learning works."
   ]
  },
  {
   "cell_type": "markdown",
   "metadata": {
    "collapsed": false
   },
   "source": [
    "### Modalities of machine learning"
   ]
  },
  {
   "cell_type": "markdown",
   "metadata": {
    "collapsed": false
   },
   "source": [
    "This [cheat sheet](http://scikit-learn.org/stable/tutorial/machine_learning_map/index.html) can be used to navigate the maze of estimators available in scikit-learn. While in many of the real-world examples the predictions being made are rather complex, at the most basic level machine-learning tasks tend to fall into one of the following two categories.\n",
    "\n",
    "- Predicting a *quantity* (i.e., one or more real numbers).\n",
    "- Predicting a *category* (i.e., an element of a prescribed finite set).\n",
    "\n",
    "This dichotomy parallels the conventional (and imprecise) distinction between *continuous* mathematics (like calculus) and *discrete* mathematics (like combinatorics).\n",
    "\n",
    "Pause to go through the cheat sheet."
   ]
  },
  {
   "cell_type": "markdown",
   "metadata": {
    "collapsed": false
   },
   "source": [
    "### Demonstration on text data"
   ]
  },
  {
   "cell_type": "markdown",
   "metadata": {
    "collapsed": false
   },
   "source": [
    "Let's try an example which shows off a lot of different estimators at once. Let's first take a look [here](http://scikit-learn.org/stable/auto_examples/text/document_classification_20newsgroups.html#sphx-glr-auto-examples-text-document-classification-20newsgroups-py).\n",
    "\n",
    "This being Python code, we can try it out here. But better yet, the download is available as a Jupyter notebook, so we can download that notebook *directly* into CoCalc and try it that way! \n",
    "\n",
    "**Try this now:** \n",
    "- Copy the link to the Jupyter notebook at the bottom of the example (which I've also reproduced [here](http://scikit-learn.org/stable/_downloads/document_classification_20newsgroups.ipynb)).\n",
    "- Go to the Files view in your project (the folder icon at top left).\n",
    "- Hit the \"Create...\" button.\n",
    "- Paste the URL into the text box at the top of the page.\n",
    "- Hit \"Download from Internet\". You should end up viewing a new Jupyter notebook called `document_classification_20newsgroups.ipynb` with the header \"Classification of text documents using sparse features\".\n",
    "- Select \"Run all\" from the \"Cell\" menu.\n",
    "- Examine the results!\n",
    "\n",
    "**Question for you:** Which estimator does the cheat sheet suggest to use in this case? Is this consistent with your experimental result?"
   ]
  },
  {
   "cell_type": "code",
   "execution_count": 0,
   "metadata": {
    "collapsed": false
   },
   "outputs": [
   ],
   "source": [
   ]
  },
  {
   "cell_type": "markdown",
   "metadata": {
    "collapsed": false
   },
   "source": [
    "### Clustering"
   ]
  },
  {
   "cell_type": "markdown",
   "metadata": {
    "collapsed": false
   },
   "source": [
    "While I formulated machine learning in terms of predicting a function, another modality is to identify *clusters* among a collection of objects. Let's try an example of this based on the US stock market. Let's first take a look [here](http://scikit-learn.org/stable/auto_examples/applications/plot_stock_market.html#sphx-glr-auto-examples-applications-plot-stock-market-py); then download and run the notebook using [this link](http://scikit-learn.org/stable/_downloads/plot_stock_market.ipynb)."
   ]
  },
  {
   "cell_type": "markdown",
   "metadata": {
    "collapsed": false
   },
   "source": [
    "**Question for you**: This notebook is attempting to classify stocks based on the extent to which their price movements are correlated. Can you identify what the various clusters have in common?\n"
   ]
  },
  {
   "cell_type": "markdown",
   "metadata": {
    "collapsed": false
   },
   "source": [
    "Here is an other example of clustering in the form of *segmentation* in machine vision. Let's first take a look [here](http://scikit-learn.org/stable/auto_examples/cluster/plot_face_segmentation.html#sphx-glr-auto-examples-cluster-plot-face-segmentation-py), then download the notebook using [this link](http://scikit-learn.org/stable/_downloads/plot_face_segmentation.ipynb)."
   ]
  },
  {
   "cell_type": "markdown",
   "metadata": {
    "collapsed": false
   },
   "source": [
    "Here the goal is to *discretize*, i.e., to take what is effectively a \"continuous\" (or at least high-resolution) input, and break it up into its key features. For some applications it is important to be able to do this *very* efficiently, e.g., autonomous vehicle navigation (\"self-driving cars\")."
   ]
  },
  {
   "cell_type": "markdown",
   "metadata": {
    "collapsed": false
   },
   "source": [
    "### For this course..."
   ]
  },
  {
   "cell_type": "markdown",
   "metadata": {
    "collapsed": false
   },
   "source": [
    "... you will not be expect to do much implementation \"from scratch\" of machine learning. To do this would require some more time to develop the relevant statistics background, and some more intricate programming than what we have done so far.\n",
    "\n",
    "What I mostly what you to take away here is the underlying taxonomy of ideas, that is, how to separate different machine-learning problems into related categories (you might call this \"meta-clustering\")."
   ]
  },
  {
   "cell_type": "code",
   "execution_count": 0,
   "metadata": {
    "collapsed": false
   },
   "outputs": [
   ],
   "source": [
   ]
  }
 ],
 "metadata": {
  "kernelspec": {
   "display_name": "SageMath 8.1",
   "name": "sage-8.1"
  },
  "language_info": {
   "codemirror_mode": {
    "name": "ipython",
    "version": 2
   },
   "file_extension": ".py",
   "mimetype": "text/x-python",
   "name": "python",
   "nbconvert_exporter": "python",
   "pygments_lexer": "ipython2",
   "version": "2.7.14"
  }
 },
 "nbformat": 4,
 "nbformat_minor": 0
}