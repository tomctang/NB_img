{
 "cells": [
  {
   "cell_type": "markdown",
   "metadata": {
    "collapsed": false
   },
   "source": [
    "## Math 157: Intro to Mathematical Software\n",
    "## UC San Diego, winter 2018"
   ]
  },
  {
   "cell_type": "markdown",
   "metadata": {
    "collapsed": false
   },
   "source": [
    "## Odds and ends"
   ]
  },
  {
   "cell_type": "markdown",
   "metadata": {
    "collapsed": false
   },
   "source": [
    "Administrivia:\n",
    "\n",
    "- Please fill out the [week 4 questionnaire](https://docs.google.com/forms/d/e/1FAIpQLSeecb_KR5QHZWGxJcISzQuKG-F9fFJzfvE_K1-v7ctk2piT_Q/viewform?usp=sf_link).\n",
    "- We are continuing to monitor the course waitlist. If you are on it and still want to join the course, please continue to keep up with lectures and homework, and watch your email for further instructions.\n",
    "- Here (again) is precise link for the [documentary screening next Monday](http://physicalsciences.ucsd.edu/programs/research-communications/mathcomm_eremenko_flier1.pdf).\n",
    "\n",
    "Added in class:\n",
    "- HW 2 scores are posted on TritonEd. You should have feedback in your course project either now or shortly.\n",
    "- As usual, virtual office hours take place 3-7pm today, with the homework due at 8pm.\n",
    "- In case you lost track, the course syllabus is posted at http://math.ucsd.edu/~kedlaya/math157. (This is also linked from the math department's list of course web sites.)\n"
   ]
  },
  {
   "cell_type": "markdown",
   "metadata": {
    "collapsed": false
   },
   "source": [
    "### Notes on the homework"
   ]
  },
  {
   "cell_type": "markdown",
   "metadata": {
    "collapsed": false
   },
   "source": [
    "Problem 3b: The method `QR` of a Sage matrix does not have identical behavior to the MATLAB function; try them side-by-side to see what I mean. Also, Sage may have trouble solving an overdetermined system of equations; you might need to discard the extra equations before solving."
   ]
  },
  {
   "cell_type": "markdown",
   "metadata": {
    "collapsed": false
   },
   "source": [
    "Problem 6c: The definition of the binary height (in order to agree with the Python code) should have been\n",
    "    $$\n",
    "    \\lfloor \\log_2 r \\rfloor + 1 + \\lfloor \\log_2 s \\rfloor + 1.\n",
    "    $$\n",
    "There is only a difference if one of $r$ or $s$ is a power of 2; this should not have a material impact on the rest of the problem."
   ]
  },
  {
   "cell_type": "markdown",
   "metadata": {
    "collapsed": false
   },
   "source": [
    "Problem 6d: The exact output of the code is subject to some random variation. What I what you to explain is the relative *size* of the two return values."
   ]
  },
  {
   "cell_type": "markdown",
   "metadata": {
    "collapsed": false
   },
   "source": [
    "### Notes on the final project"
   ]
  },
  {
   "cell_type": "markdown",
   "metadata": {
    "collapsed": false
   },
   "source": [
    "Several of you have asked about the \"final project\" which is worth 20% of the course grade. This will be formally assigned later in the quarter (sometime during week 7 or 8), but here is a quick preview of what to expect."
   ]
  },
  {
   "cell_type": "markdown",
   "metadata": {
    "collapsed": false
   },
   "source": [
    "The final project will consist of two parts, each of equal weight (so each one contributes 10% to your course grade)."
   ]
  },
  {
   "cell_type": "markdown",
   "metadata": {
    "collapsed": false
   },
   "source": [
    "Part 1 will be a problem set similar in style to the ones from earlier in the term, except that it will be cumulative over the whole quarter. Grading criteria will be problem-by-problem as usual."
   ]
  },
  {
   "cell_type": "markdown",
   "metadata": {
    "collapsed": false
   },
   "source": [
    "Part 2 will be open-ended: you will be asked to do the following.\n",
    " - Choose a topic subject to some constraints. These constraints will be described in the formal assignment.\n",
    " - Prepare a 20-30 minute presentation, a three-problem exercise set, and a solution key in the style of this course (each using a Jupyter notebook).\n",
    " - After being assigned randomly into a foursome of students, deliver your presentation to the other three students. There will be no lectures on March 12 or March 14; please use these hours to schedule your presentations.\n",
    " - If you want, give constructive feedback about the presentations, and revise your own project.\n",
    " - Submit, in addition to your presentation and exercises, your comments on the presentation and exercises from the other students in your foursome. (This need not be the same as the feedback you gave in the previous step.\n",
    "\n",
    "You will be graded on the following criteria:\n",
    " - Presentation:\n",
    "   - Completeness: Did you include enough material for 20-30 minutes? Is your material at a suitable depth?\n",
    "   - Correctness: Do your examples work?\n",
    "   - Exposition: Does your text actually explain what is going on?\n",
    " - Exercise set and solution key:\n",
    "   - Completeness: Did you include enough material for three exercises? Is your material at a suitable depth?\n",
    "   - Correctness: Are your solutions correct?\n",
    "   - Exposition: Do your problems serve to elucidate your chosen topic?\n",
    " - Comments:\n",
    "   - Thoroughness: Did you provide comments on all of your assigned presentations?\n",
    "   - Thoughtfulness: Were you paying attention? Are your comments germane?\n"
   ]
  },
  {
   "cell_type": "markdown",
   "metadata": {
    "collapsed": false
   },
   "source": [
    "### Notes on timing"
   ]
  },
  {
   "cell_type": "markdown",
   "metadata": {
    "collapsed": false
   },
   "source": [
    "The last lecture included an example of measuring the time it takes for a function to run. Here are some additional comments on how to do this.\n",
    "\n",
    "To begin with, let's say we are trying to measure the efficiency of the following function. (This is not the most intelligent way to do this particular computation, but never mind.)"
   ]
  },
  {
   "cell_type": "code",
   "execution_count": 1,
   "metadata": {
    "collapsed": false
   },
   "outputs": [
   ],
   "source": [
    "def sin_sum(n):\n",
    "    \"\"\"\n",
    "    Return the \"sum\"  sin(1) + sin(2) + ... + sin(n-1)\n",
    "    \"\"\"\n",
    "    return sum(float(sin(m)) for m in xrange(1,n))"
   ]
  },
  {
   "cell_type": "code",
   "execution_count": 2,
   "metadata": {
    "collapsed": false
   },
   "outputs": [
    {
     "name": "stdout",
     "output_type": "stream",
     "text": [
      "1.43152600417\n"
     ]
    }
   ],
   "source": [
    "print(sin_sum(50000))"
   ]
  },
  {
   "cell_type": "markdown",
   "metadata": {
    "collapsed": false
   },
   "source": [
    "We've already seen the `timeit` function."
   ]
  },
  {
   "cell_type": "code",
   "execution_count": 3,
   "metadata": {
    "collapsed": false
   },
   "outputs": [
    {
     "name": "stdout",
     "output_type": "stream",
     "text": [
      "5 loops, best of 3: 5.1 s per loop\n"
     ]
    }
   ],
   "source": [
    "timeit('sin_sum(50000)')"
   ]
  },
  {
   "cell_type": "code",
   "execution_count": 4,
   "metadata": {
    "collapsed": false
   },
   "outputs": [
    {
     "name": "stdout",
     "output_type": "stream",
     "text": [
      "10 loops, best of 3: 4.75 s per loop\n"
     ]
    }
   ],
   "source": [
    "timeit('sin_sum(50000)', number=10) # Force a specific number of iterations\n"
   ]
  },
  {
   "cell_type": "markdown",
   "metadata": {
    "collapsed": false
   },
   "source": [
    "Warning: Sage's `timeit` command is based on Python's `timeit.timeit` command but is not identical (it is better in some ways)."
   ]
  },
  {
   "cell_type": "markdown",
   "metadata": {
    "collapsed": false
   },
   "source": [
    "The python `time` module provides lots of useful commands. One of them is `time.time`, which returns the number of seconds since a certain reference time called \"the epoch\". (When was that exactly?)"
   ]
  },
  {
   "cell_type": "code",
   "execution_count": 5,
   "metadata": {
    "collapsed": false
   },
   "outputs": [
    {
     "name": "stdout",
     "output_type": "stream",
     "text": [
      "elapsed time: 3.82931208611\n"
     ]
    }
   ],
   "source": [
    "import time\n",
    "t = time.time()\n",
    "sin_sum(50000)\n",
    "t = time.time() - t\n",
    "print( \"elapsed time: \" + str(t))"
   ]
  },
  {
   "cell_type": "markdown",
   "metadata": {
    "collapsed": false
   },
   "source": [
    "The `time` module also includes some other functions for doing things like time zone conversions. A closely related module is `datetime` which has functionality for things like converting dates between different formats; I use this on my personal web site for [dynamic conference listings](http://kskedlaya.org/confs.cgi)."
   ]
  },
  {
   "cell_type": "markdown",
   "metadata": {
    "collapsed": false
   },
   "source": [
    "In some situations, you may want to keep track of the difference between *CPU time*, the amount of time that a processor is being engaged, and *wall time*, the amount of time that you experience in real life. Differences between the two could come from communication lags, other activity on the processor, etc."
   ]
  },
  {
   "cell_type": "code",
   "execution_count": 12,
   "metadata": {
    "collapsed": false
   },
   "outputs": [
    {
     "name": "stdout",
     "output_type": "stream",
     "text": [
      "2.711331\n"
     ]
    }
   ],
   "source": [
    "t = cputime()\n",
    "sin_sum(50000)\n",
    "print(cputime()-t)"
   ]
  },
  {
   "cell_type": "code",
   "execution_count": 13,
   "metadata": {
    "collapsed": false
   },
   "outputs": [
    {
     "name": "stdout",
     "output_type": "stream",
     "text": [
      "3.28448796272\n"
     ]
    }
   ],
   "source": [
    "t = walltime()\n",
    "sin_sum(50000)\n",
    "print(walltime()-t)"
   ]
  },
  {
   "cell_type": "markdown",
   "metadata": {
    "collapsed": false
   },
   "source": [
    "For more involved functions, you may wish to make use of a *profiler* to find out exactly where your code is spending most of its execution time. Sage provides one called `prun`, but I won't demonstrate that here (it doesn't work so well in the notebook; try it in a Sage worksheet instead)."
   ]
  },
  {
   "cell_type": "markdown",
   "metadata": {
    "collapsed": false
   },
   "source": [
    "### Preview: combinatorics in Python (itertools)"
   ]
  },
  {
   "cell_type": "markdown",
   "metadata": {
    "collapsed": false
   },
   "source": [
    "Next week, we will discuss some of Sage's (extensive) functionality for combinatorics. As a warmup for this, I would like to point out some very useful functionality available in Python via the [`itertools` module](https://docs.python.org/2/library/itertools.html)."
   ]
  },
  {
   "cell_type": "code",
   "execution_count": 15,
   "metadata": {
    "collapsed": false
   },
   "outputs": [
   ],
   "source": [
    "import itertools"
   ]
  },
  {
   "cell_type": "markdown",
   "metadata": {
    "collapsed": false
   },
   "source": [
    "We start with the Cartesian product. The command `itertools.product` returns an iterator, which one can convert into a list..."
   ]
  },
  {
   "cell_type": "code",
   "execution_count": 16,
   "metadata": {
    "collapsed": false
   },
   "outputs": [
    {
     "data": {
      "text/plain": [
       "[(1, 3, 5),\n",
       " (1, 3, 6),\n",
       " (1, 4, 5),\n",
       " (1, 4, 6),\n",
       " (2, 3, 5),\n",
       " (2, 3, 6),\n",
       " (2, 4, 5),\n",
       " (2, 4, 6)]"
      ]
     },
     "execution_count": 16,
     "metadata": {
     },
     "output_type": "execute_result"
    }
   ],
   "source": [
    "list(itertools.product([1,2],[3,4],[5,6]))"
   ]
  },
  {
   "cell_type": "markdown",
   "metadata": {
    "collapsed": false
   },
   "source": [
    "... or use by itself in a `for` loop or a list comprehension."
   ]
  },
  {
   "cell_type": "code",
   "execution_count": 17,
   "metadata": {
    "collapsed": false
   },
   "outputs": [
    {
     "data": {
      "text/plain": [
       "[(1, 1, 1, 4),\n",
       " (1, 1, 2, 3),\n",
       " (1, 1, 3, 2),\n",
       " (1, 1, 4, 1),\n",
       " (1, 2, 1, 3),\n",
       " (1, 2, 2, 2),\n",
       " (1, 2, 3, 1),\n",
       " (1, 3, 1, 2),\n",
       " (1, 3, 2, 1),\n",
       " (1, 4, 1, 1),\n",
       " (2, 1, 1, 3),\n",
       " (2, 1, 2, 2),\n",
       " (2, 1, 3, 1),\n",
       " (2, 2, 1, 2),\n",
       " (2, 2, 2, 1),\n",
       " (2, 3, 1, 1),\n",
       " (3, 1, 1, 2),\n",
       " (3, 1, 2, 1),\n",
       " (3, 2, 1, 1),\n",
       " (4, 1, 1, 1)]"
      ]
     },
     "execution_count": 17,
     "metadata": {
     },
     "output_type": "execute_result"
    }
   ],
   "source": [
    "l = [t for t in itertools.product([1,2,3,4],repeat=4) if sum(t) == 7]\n",
    "l"
   ]
  },
  {
   "cell_type": "markdown",
   "metadata": {
    "collapsed": false
   },
   "source": [
    "This is an example of enumerating *partitions*, the ways to split a certain number up as a sum. We'll see some functionality for this in Sage later."
   ]
  },
  {
   "cell_type": "markdown",
   "metadata": {
    "collapsed": false
   },
   "source": [
    "One very handy use of this construction is to make a nested `for` loop where you *do not know* in advance how many loops there will be!"
   ]
  },
  {
   "cell_type": "code",
   "execution_count": 18,
   "metadata": {
    "collapsed": false
   },
   "outputs": [
    {
     "name": "stdout",
     "output_type": "stream",
     "text": [
      "(0, 0, 0)\n",
      "(0, 0, 1)\n",
      "(0, 1, 0)\n",
      "(0, 1, 1)\n",
      "(1, 0, 0)\n",
      "(1, 0, 1)\n",
      "(1, 1, 0)\n",
      "(1, 1, 1)\n"
     ]
    }
   ],
   "source": [
    "def f(n):\n",
    "    for t in itertools.product([0,1], repeat=n):\n",
    "        print(t)\n",
    "        \n",
    "f(3)"
   ]
  },
  {
   "cell_type": "markdown",
   "metadata": {
    "collapsed": false
   },
   "source": [
    "There are also special functions for permutations and combinations."
   ]
  },
  {
   "cell_type": "code",
   "execution_count": 19,
   "metadata": {
    "collapsed": false
   },
   "outputs": [
    {
     "data": {
      "text/plain": [
       "[(1, 2, 3), (1, 3, 2), (2, 1, 3), (2, 3, 1), (3, 1, 2), (3, 2, 1)]"
      ]
     },
     "execution_count": 19,
     "metadata": {
     },
     "output_type": "execute_result"
    }
   ],
   "source": [
    "list(itertools.permutations([1,2,3]))"
   ]
  },
  {
   "cell_type": "code",
   "execution_count": 20,
   "metadata": {
    "collapsed": false
   },
   "outputs": [
    {
     "data": {
      "text/plain": [
       "[(1, 2),\n",
       " (1, 3),\n",
       " (1, 4),\n",
       " (2, 1),\n",
       " (2, 3),\n",
       " (2, 4),\n",
       " (3, 1),\n",
       " (3, 2),\n",
       " (3, 4),\n",
       " (4, 1),\n",
       " (4, 2),\n",
       " (4, 3)]"
      ]
     },
     "execution_count": 20,
     "metadata": {
     },
     "output_type": "execute_result"
    }
   ],
   "source": [
    "list(itertools.permutations([1,2,3,4],2)) # Order matters!"
   ]
  },
  {
   "cell_type": "code",
   "execution_count": 21,
   "metadata": {
    "collapsed": false
   },
   "outputs": [
    {
     "data": {
      "text/plain": [
       "[(1, 1, 2, 3),\n",
       " (1, 1, 3, 2),\n",
       " (1, 2, 1, 3),\n",
       " (1, 2, 3, 1),\n",
       " (1, 3, 1, 2),\n",
       " (1, 3, 2, 1),\n",
       " (1, 1, 2, 3),\n",
       " (1, 1, 3, 2),\n",
       " (1, 2, 1, 3),\n",
       " (1, 2, 3, 1),\n",
       " (1, 3, 1, 2),\n",
       " (1, 3, 2, 1),\n",
       " (2, 1, 1, 3),\n",
       " (2, 1, 3, 1),\n",
       " (2, 1, 1, 3),\n",
       " (2, 1, 3, 1),\n",
       " (2, 3, 1, 1),\n",
       " (2, 3, 1, 1),\n",
       " (3, 1, 1, 2),\n",
       " (3, 1, 2, 1),\n",
       " (3, 1, 1, 2),\n",
       " (3, 1, 2, 1),\n",
       " (3, 2, 1, 1),\n",
       " (3, 2, 1, 1)]"
      ]
     },
     "execution_count": 21,
     "metadata": {
     },
     "output_type": "execute_result"
    }
   ],
   "source": [
    "list(itertools.permutations([1,1,2,3])) # Beware of permutations of a list with repeated entries."
   ]
  },
  {
   "cell_type": "code",
   "execution_count": 22,
   "metadata": {
    "collapsed": false
   },
   "outputs": [
    {
     "data": {
      "text/plain": [
       "[(1, 2), (1, 3), (1, 4), (2, 3), (2, 4), (3, 4)]"
      ]
     },
     "execution_count": 22,
     "metadata": {
     },
     "output_type": "execute_result"
    }
   ],
   "source": [
    "list(itertools.combinations([1,2,3,4], 2)) # Order doesn't matter!"
   ]
  },
  {
   "cell_type": "code",
   "execution_count": 23,
   "metadata": {
    "collapsed": false
   },
   "outputs": [
    {
     "data": {
      "text/plain": [
       "[(1, 1),\n",
       " (1, 2),\n",
       " (1, 3),\n",
       " (1, 4),\n",
       " (2, 2),\n",
       " (2, 3),\n",
       " (2, 4),\n",
       " (3, 3),\n",
       " (3, 4),\n",
       " (4, 4)]"
      ]
     },
     "execution_count": 23,
     "metadata": {
     },
     "output_type": "execute_result"
    }
   ],
   "source": [
    "list(itertools.combinations_with_replacement([1,2,3,4], 2))"
   ]
  },
  {
   "cell_type": "markdown",
   "metadata": {
    "collapsed": false
   },
   "source": [
    "The following example is inspired by page 2 of [this restaurant menu I encountered in Palo Alto](https://wixlabs-pdf-dev.appspot.com/assets/libs/pdfjs/web/viewer.html?file=%2Fpdfproxy%3Finstance%3Dx1N3941hjC85GLW2X7stmD0pRRqc_Dgp1mH07fnaIHQ.eyJpbnN0YW5jZUlkIjoiMTJkYzJmNWYtNDAxNi00ZDI2LWE1MjgtZmMyNDllZTQxODY0IiwiYXBwRGVmSWQiOiIxM2VlMTBhMy1lY2I5LTdlZmYtNDI5OC1kMmY5ZjM0YWNmMGQiLCJzaWduRGF0ZSI6IjIwMTgtMDItMDJUMDc6NDY6MjEuNzUxWiIsInVpZCI6bnVsbCwiaXBBbmRQb3J0IjoiNzYuMTc2LjI1LjI1Mi80OTIwNCIsInZlbmRvclByb2R1Y3RJZCI6bnVsbCwiZGVtb01vZGUiOmZhbHNlLCJhaWQiOiJlMDg3MDVkNi1kN2QzLTRmNTMtYWY5Mi1hNWJkMWZkODVjMWIiLCJiaVRva2VuIjoiMTljNGY5NmQtOTg0Mi0wYjQ5LTE2YWUtZjg5ZmJhNDRkYjFhIiwic2l0ZU93bmVySWQiOiI1YWQ3YmUzNi1mNDg2LTRiYzUtOWI2OS00OTBjNzQ1MTkzYmIifQ%26compId%3Dcomp-j8hp8apu%26url%3Dhttps%3A%2F%2Fmedia.wix.com%2Fugd%2F5ad7be_7d03a925ca234fea9d437ffc09bd90b7.pdf#page=1&links=true&originalFileName=PA%20sol%20lunch&allowDownload=true&allowPrinting=true)."
   ]
  },
  {
   "cell_type": "code",
   "execution_count": 24,
   "metadata": {
    "collapsed": false
   },
   "outputs": [
    {
     "data": {
      "text/plain": [
       "[('chile relleno', 'chile relleno'),\n",
       " ('chile relleno', 'enchilada'),\n",
       " ('chile relleno', 'taco'),\n",
       " ('chile relleno', 'tostada'),\n",
       " ('chile relleno', 'quesadilla'),\n",
       " ('enchilada', 'enchilada'),\n",
       " ('enchilada', 'taco'),\n",
       " ('enchilada', 'tostada'),\n",
       " ('enchilada', 'quesadilla'),\n",
       " ('taco', 'taco'),\n",
       " ('taco', 'tostada'),\n",
       " ('taco', 'quesadilla'),\n",
       " ('tostada', 'tostada'),\n",
       " ('tostada', 'quesadilla'),\n",
       " ('quesadilla', 'quesadilla')]"
      ]
     },
     "execution_count": 24,
     "metadata": {
     },
     "output_type": "execute_result"
    }
   ],
   "source": [
    "list(itertools.combinations_with_replacement(('chile relleno', 'enchilada', 'taco', 'tostada', 'quesadilla'), 2))"
   ]
  },
  {
   "cell_type": "markdown",
   "metadata": {
    "collapsed": false
   },
   "source": [
    "In addition to these combinatorial operations, the `itertools` module includes various tools for efficiently dealing with iterators. These have the advantage over more naive solutions of being much more conservative with memory usage.\n",
    "\n",
    "For example, the `izip` function may be useful for making list plots with very large numbers of sample points, since it avoids the overhead of creating a new list of ordered pairs."
   ]
  },
  {
   "cell_type": "code",
   "execution_count": 25,
   "metadata": {
    "collapsed": false
   },
   "outputs": [
    {
     "data": {
      "text/plain": [
       "[(1, 5), (2, 6), (3, 7), (4, 8)]"
      ]
     },
     "execution_count": 25,
     "metadata": {
     },
     "output_type": "execute_result"
    }
   ],
   "source": [
    "list(itertools.izip([1,2,3,4],[5,6,7,8]))"
   ]
  },
  {
   "cell_type": "code",
   "execution_count": 26,
   "metadata": {
    "collapsed": false
   },
   "outputs": [
   ],
   "source": [
    "# The ODE example from Monday, revisited.\n",
    "import numpy as np\n",
    "\n",
    "def calc_derivative(ypos, time):\n",
    "    return -2 * ypos\n",
    "\n",
    "n = 100\n",
    "from scipy.integrate import odeint\n",
    "time_vec = np.linspace(0, 4, n)\n",
    "y = odeint(calc_derivative, y0=1, t=time_vec)"
   ]
  },
  {
   "cell_type": "code",
   "execution_count": 27,
   "metadata": {
    "collapsed": false
   },
   "outputs": [
    {
     "data": {
      "image/png": "[encoded data removed]"
     },
     "execution_count": 27,
     "metadata": {
     },
     "output_type": "execute_result"
    }
   ],
   "source": [
    "point(itertools.izip(time_vec, y))"
   ]
  },
  {
   "cell_type": "markdown",
   "metadata": {
    "collapsed": false
   },
   "source": [
    "The `itertools` documentation includes numerous examples of 'recipes' that combine these tools in interesting ways. For example..."
   ]
  },
  {
   "cell_type": "code",
   "execution_count": 28,
   "metadata": {
    "collapsed": false
   },
   "outputs": [
   ],
   "source": [
    "import random"
   ]
  },
  {
   "cell_type": "code",
   "execution_count": 29,
   "metadata": {
    "collapsed": false
   },
   "outputs": [
   ],
   "source": [
    "def random_permutation(iterable, r=None):\n",
    "    \"Random selection from itertools.permutations(iterable, r)\"\n",
    "    pool = tuple(iterable)\n",
    "    r = len(pool) if r is None else r\n",
    "    return tuple(random.sample(pool, r))"
   ]
  },
  {
   "cell_type": "code",
   "execution_count": 0,
   "metadata": {
    "collapsed": false
   },
   "outputs": [
   ],
   "source": [
   ]
  },
  {
   "cell_type": "markdown",
   "metadata": {
    "collapsed": false
   },
   "source": [
    "### Turning to Sage..."
   ]
  },
  {
   "cell_type": "markdown",
   "metadata": {
    "collapsed": false
   },
   "source": [
    "Here are some of the ways Sage can do better than Python alone in terms of combinatorial operations."
   ]
  },
  {
   "cell_type": "code",
   "execution_count": 30,
   "metadata": {
    "collapsed": false
   },
   "outputs": [
    {
     "data": {
      "text/plain": [
       "[[1, 2, 3, 3],\n",
       " [1, 3, 2, 3],\n",
       " [1, 3, 3, 2],\n",
       " [2, 1, 3, 3],\n",
       " [2, 3, 1, 3],\n",
       " [2, 3, 3, 1],\n",
       " [3, 1, 2, 3],\n",
       " [3, 1, 3, 2],\n",
       " [3, 2, 1, 3],\n",
       " [3, 2, 3, 1],\n",
       " [3, 3, 1, 2],\n",
       " [3, 3, 2, 1]]"
      ]
     },
     "execution_count": 30,
     "metadata": {
     },
     "output_type": "execute_result"
    }
   ],
   "source": [
    "list(Permutations([1,2,3,3])) # Repeated entries now handled correctly!"
   ]
  },
  {
   "cell_type": "markdown",
   "metadata": {
    "collapsed": false
   },
   "source": [
    "In one of the previous examples, we enumerated the ways to write 7 as a sum of four integers, each in the range from 1 to 4 (inclusive). Sage can do this directly!"
   ]
  },
  {
   "cell_type": "code",
   "execution_count": 31,
   "metadata": {
    "collapsed": false
   },
   "outputs": [
    {
     "data": {
      "text/plain": [
       "[[4, 1, 1, 1], [3, 2, 1, 1], [2, 2, 2, 1]]"
      ]
     },
     "execution_count": 31,
     "metadata": {
     },
     "output_type": "execute_result"
    }
   ],
   "source": [
    "list(Partitions(7, length=4, min_part=1, max_part=4)) # Here, order is not considered significant."
   ]
  },
  {
   "cell_type": "markdown",
   "metadata": {
    "collapsed": false
   },
   "source": [
    "### Weighted integer vectors"
   ]
  },
  {
   "cell_type": "markdown",
   "metadata": {
    "collapsed": false
   },
   "source": [
    "Three variations on a theme:\n",
    "- In the US, the most common denominations of coins are 1 cent (penny), 5 cents (nickel), 10 cents (dime), and 25 cents (quarter). In what ways can one assemble coins worth a total of 37 cents?"
   ]
  },
  {
   "cell_type": "code",
   "execution_count": 32,
   "metadata": {
    "collapsed": false
   },
   "outputs": [
    {
     "data": {
      "text/plain": [
       "[[2, 0, 1, 1],\n",
       " [2, 2, 0, 1],\n",
       " [7, 1, 0, 1],\n",
       " [12, 0, 0, 1],\n",
       " [2, 1, 3, 0],\n",
       " [7, 0, 3, 0],\n",
       " [2, 3, 2, 0],\n",
       " [7, 2, 2, 0],\n",
       " [12, 1, 2, 0],\n",
       " [17, 0, 2, 0],\n",
       " [2, 5, 1, 0],\n",
       " [7, 4, 1, 0],\n",
       " [12, 3, 1, 0],\n",
       " [17, 2, 1, 0],\n",
       " [22, 1, 1, 0],\n",
       " [27, 0, 1, 0],\n",
       " [2, 7, 0, 0],\n",
       " [7, 6, 0, 0],\n",
       " [12, 5, 0, 0],\n",
       " [17, 4, 0, 0],\n",
       " [22, 3, 0, 0],\n",
       " [27, 2, 0, 0],\n",
       " [32, 1, 0, 0],\n",
       " [37, 0, 0, 0]]"
      ]
     },
     "execution_count": 32,
     "metadata": {
     },
     "output_type": "execute_result"
    }
   ],
   "source": [
    "W = WeightedIntegerVectors(37, [1,5,10,25])\n",
    "list(W)"
   ]
  },
  {
   "cell_type": "markdown",
   "metadata": {
    "collapsed": false
   },
   "source": [
    "- When McDonald's first introduced Chicken McNuggets in the US in 1983, they were sold in boxes of 6, 9, and 20 pieces. In what ways could one order a total of 87 pieces?"
   ]
  },
  {
   "cell_type": "code",
   "execution_count": 33,
   "metadata": {
    "collapsed": false
   },
   "outputs": [
    {
     "data": {
      "text/plain": [
       "[[0, 3, 3], [3, 1, 3], [1, 9, 0], [4, 7, 0], [7, 5, 0], [10, 3, 0], [13, 1, 0]]"
      ]
     },
     "execution_count": 33,
     "metadata": {
     },
     "output_type": "execute_result"
    }
   ],
   "source": [
    "W = WeightedIntegerVectors(87, [6, 9, 20])\n",
    "list(W)"
   ]
  },
  {
   "cell_type": "markdown",
   "metadata": {
    "collapsed": false
   },
   "source": [
    "- In American football (e.g., the Super Bowl this Sunday), the most common scoring plays (excluding two-point conversions to keep this simple) are touchdown (7 points), field goal (3 points), and safety (2 points). In what ways could one obtain a total of 31 points?"
   ]
  },
  {
   "cell_type": "code",
   "execution_count": 34,
   "metadata": {
    "collapsed": false
   },
   "outputs": [
    {
     "data": {
      "text/plain": [
       "[[0, 1, 4],\n",
       " [2, 2, 3],\n",
       " [5, 0, 3],\n",
       " [1, 5, 2],\n",
       " [4, 3, 2],\n",
       " [7, 1, 2],\n",
       " [0, 8, 1],\n",
       " [3, 6, 1],\n",
       " [6, 4, 1],\n",
       " [9, 2, 1],\n",
       " [12, 0, 1],\n",
       " [2, 9, 0],\n",
       " [5, 7, 0],\n",
       " [8, 5, 0],\n",
       " [11, 3, 0],\n",
       " [14, 1, 0]]"
      ]
     },
     "execution_count": 34,
     "metadata": {
     },
     "output_type": "execute_result"
    }
   ],
   "source": [
    "W = WeightedIntegerVectors(31, [2,3,7])\n",
    "list(W)"
   ]
  },
  {
   "cell_type": "code",
   "execution_count": 0,
   "metadata": {
    "collapsed": false
   },
   "outputs": [
   ],
   "source": [
   ]
  }
 ],
 "metadata": {
  "kernelspec": {
   "display_name": "SageMath 8.1",
   "name": "sage-8.1"
  },
  "language_info": {
   "codemirror_mode": {
    "name": "ipython",
    "version": 2
   },
   "file_extension": ".py",
   "mimetype": "text/x-python",
   "name": "python",
   "nbconvert_exporter": "python",
   "pygments_lexer": "ipython2",
   "version": "2.7.14"
  }
 },
 "nbformat": 4,
 "nbformat_minor": 0
}