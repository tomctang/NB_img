{
 "cells": [
  {
   "cell_type": "markdown",
   "metadata": {
    "collapsed": false
   },
   "source": [
    "## Math 157: Intro to Mathematical Software\n",
    "## UC San Diego, winter 2018\n"
   ]
  },
  {
   "cell_type": "markdown",
   "metadata": {
    "collapsed": false
   },
   "source": [
    "## January 29, 2018: Linear algebra (part 1 of 2)"
   ]
  },
  {
   "cell_type": "markdown",
   "metadata": {
    "collapsed": false
   },
   "source": [
    "Administrivia:\n",
    "\n",
    "- Homework 1 has been returned. Feedback has been added to your project. Grades are posted on TritonEd.\n",
    "- Homework 2 solutions have been distributed. We are expecting to have grades and feedback by Friday at noon.\n",
    "- Homework 3 is now posted. It is due Friday, February 2 at 8pm.\n",
    "- In addition, please fill out the [week 4 questionnaire](https://docs.google.com/forms/d/e/1FAIpQLSeecb_KR5QHZWGxJcISzQuKG-F9fFJzfvE_K1-v7ctk2piT_Q/viewform?usp=sf_link).\n",
    "- We are continuing to monitor the course waitlist. If you are on it and still want to join the course, please continue to keep up with lectures and homework, and watch your email for further instructions.\n",
    "\n",
    "Added in class:\n",
    "- Some of you might find this [documentary screening](http://math.ucsd.edu) on Monday, February 5 of interest.\n",
    "- We are still working some kinks out of the script that computes participation grades. Let us know if you find any issues."
   ]
  },
  {
   "cell_type": "markdown",
   "metadata": {
    "collapsed": false
   },
   "source": [
    "### Vectors and matrices in Sage"
   ]
  },
  {
   "cell_type": "markdown",
   "metadata": {
    "collapsed": false
   },
   "source": [
    "A handy \"cheat sheet\" for matrices in Sage: the [Sage Quick Reference for Linear Algebra](https://wiki.sagemath.org/quickref?action=AttachFile&do=get&target=quickref-linalg.pdf). You might also find useful:\n",
    "\n",
    "- References for today's material:\n",
    "  - Linear algebra reference manual: http://doc.sagemath.org/html/en/reference/index.html#linear-algebra\n",
    "  - 1.5, 4.4, 4.16, of *Sage For Undergraduates*: http://www.gregorybard.com/Sage.html\n"
   ]
  },
  {
   "cell_type": "code",
   "execution_count": 90,
   "metadata": {
    "collapsed": false
   },
   "outputs": [
    {
     "name": "stdout",
     "output_type": "stream",
     "text": [
      "((2, -1, 4), (1, 0, -3))\n"
     ]
    }
   ],
   "source": [
    "v = vector((2, -1, 4))\n",
    "w = vector([1, 0, -3])\n",
    "print(v,w)"
   ]
  },
  {
   "cell_type": "code",
   "execution_count": 92,
   "metadata": {
    "collapsed": false
   },
   "outputs": [
    {
     "data": {
      "text/plain": [
       "(5, -1, -5)"
      ]
     },
     "execution_count": 92,
     "metadata": {
     },
     "output_type": "execute_result"
    }
   ],
   "source": [
    "v + 3*w # Addition, scalar multiplication"
   ]
  },
  {
   "cell_type": "code",
   "execution_count": 93,
   "metadata": {
    "collapsed": false
   },
   "outputs": [
    {
     "data": {
      "text/plain": [
       "-10"
      ]
     },
     "execution_count": 93,
     "metadata": {
     },
     "output_type": "execute_result"
    }
   ],
   "source": [
    "v.dot_product(w)"
   ]
  },
  {
   "cell_type": "code",
   "execution_count": 94,
   "metadata": {
    "collapsed": false
   },
   "outputs": [
    {
     "data": {
      "text/plain": [
       "(3, 10, 1)"
      ]
     },
     "execution_count": 94,
     "metadata": {
     },
     "output_type": "execute_result"
    }
   ],
   "source": [
    "v.cross_product(w)"
   ]
  },
  {
   "cell_type": "code",
   "execution_count": 95,
   "metadata": {
    "collapsed": false
   },
   "outputs": [
    {
     "data": {
      "text/plain": [
       "-10"
      ]
     },
     "execution_count": 95,
     "metadata": {
     },
     "output_type": "execute_result"
    }
   ],
   "source": [
    "v*w # Synonym for dot product"
   ]
  },
  {
   "cell_type": "code",
   "execution_count": 97,
   "metadata": {
    "collapsed": false
   },
   "outputs": [
    {
     "data": {
      "text/plain": [
       "7"
      ]
     },
     "execution_count": 97,
     "metadata": {
     },
     "output_type": "execute_result"
    }
   ],
   "source": [
    "v.norm(p=1)"
   ]
  },
  {
   "cell_type": "code",
   "execution_count": 0,
   "metadata": {
    "collapsed": false
   },
   "outputs": [
   ],
   "source": [
    "v.norm?"
   ]
  },
  {
   "cell_type": "code",
   "execution_count": 98,
   "metadata": {
    "collapsed": false
   },
   "outputs": [
    {
     "data": {
      "text/plain": [
       "1"
      ]
     },
     "execution_count": 98,
     "metadata": {
     },
     "output_type": "execute_result"
    }
   ],
   "source": [
    "M = Matrix([[1, -1, 0], [-2, 2, -1], [0, 1, 3]])\n",
    "M.det() # Shorthand for M.determinant()"
   ]
  },
  {
   "cell_type": "code",
   "execution_count": 99,
   "metadata": {
    "collapsed": false
   },
   "outputs": [
    {
     "data": {
      "text/plain": [
       "[ 2 -1  4]\n",
       "[ 1  0 -3]"
      ]
     },
     "execution_count": 99,
     "metadata": {
     },
     "output_type": "execute_result"
    }
   ],
   "source": [
    "Matrix((v,w))"
   ]
  },
  {
   "cell_type": "code",
   "execution_count": 0,
   "metadata": {
    "collapsed": false
   },
   "outputs": [
   ],
   "source": [
    "Matrix(2,2,[1,2,3,4])"
   ]
  },
  {
   "cell_type": "code",
   "execution_count": 101,
   "metadata": {
    "collapsed": false
   },
   "outputs": [
    {
     "data": {
      "text/plain": [
       "[ 2 -1  0]\n",
       "[-2  3 -1]\n",
       "[ 0  1  4]"
      ]
     },
     "execution_count": 101,
     "metadata": {
     },
     "output_type": "execute_result"
    }
   ],
   "source": [
    "M + identity_matrix(3)"
   ]
  },
  {
   "cell_type": "code",
   "execution_count": 102,
   "metadata": {
    "collapsed": false
   },
   "outputs": [
    {
     "data": {
      "text/plain": [
       "[ 3 -3  1]\n",
       "[-6  5 -5]\n",
       "[-2  5  8]"
      ]
     },
     "execution_count": 102,
     "metadata": {
     },
     "output_type": "execute_result"
    }
   ],
   "source": [
    "M * M # Matrix multiplication"
   ]
  },
  {
   "cell_type": "code",
   "execution_count": 103,
   "metadata": {
    "collapsed": false
   },
   "outputs": [
    {
     "data": {
      "text/plain": [
       "(-2, 2, -1)"
      ]
     },
     "execution_count": 103,
     "metadata": {
     },
     "output_type": "execute_result"
    }
   ],
   "source": [
    "M[1] # Extract a row"
   ]
  },
  {
   "cell_type": "code",
   "execution_count": 104,
   "metadata": {
    "collapsed": false
   },
   "outputs": [
    {
     "data": {
      "text/plain": [
       "(-1, 2, 1)"
      ]
     },
     "execution_count": 104,
     "metadata": {
     },
     "output_type": "execute_result"
    }
   ],
   "source": [
    "M.transpose()[1] # Extract a column"
   ]
  },
  {
   "cell_type": "code",
   "execution_count": 105,
   "metadata": {
    "collapsed": false
   },
   "outputs": [
    {
     "data": {
      "text/plain": [
       "(-1, 2, 1)"
      ]
     },
     "execution_count": 105,
     "metadata": {
     },
     "output_type": "execute_result"
    }
   ],
   "source": [
    "M.column(1)"
   ]
  },
  {
   "cell_type": "code",
   "execution_count": 106,
   "metadata": {
    "collapsed": false
   },
   "outputs": [
    {
     "data": {
      "text/plain": [
       "[ 1 -1  0]\n",
       "[-2  2 -1]"
      ]
     },
     "execution_count": 106,
     "metadata": {
     },
     "output_type": "execute_result"
    }
   ],
   "source": [
    "M[:2] # Extract a row slice, as a new matrix"
   ]
  },
  {
   "cell_type": "code",
   "execution_count": 107,
   "metadata": {
    "collapsed": false
   },
   "outputs": [
    {
     "data": {
      "text/plain": [
       "x^3 - 6*x^2 + 10*x - 1"
      ]
     },
     "execution_count": 107,
     "metadata": {
     },
     "output_type": "execute_result"
    }
   ],
   "source": [
    "M.charpoly() # Short for M.characteristic_polynomial()"
   ]
  },
  {
   "cell_type": "markdown",
   "metadata": {
    "collapsed": false
   },
   "source": [
    "**Try this now**: solve the system of linear equations\n",
    "$$\n",
    "3x_1 + 2x_2 - x_3 = 1 \\\\\n",
    "2x_1 + x_2 - x_3 = -1 \\\\\n",
    "x_1 - x_2 + x_3 = 2.\n",
    "$$\n",
    "There are several ways to do this! How many can you find?"
   ]
  },
  {
   "cell_type": "code",
   "execution_count": 114,
   "metadata": {
    "collapsed": false
   },
   "outputs": [
    {
     "data": {
      "text/plain": [
       "(1/3, 5/3, 10/3)"
      ]
     },
     "execution_count": 114,
     "metadata": {
     },
     "output_type": "execute_result"
    }
   ],
   "source": [
    "# Try this here...\n",
    "A = Matrix([[3,2,-1],[2,1,-1],[1,-1,1]])\n",
    "v = vector([1,-1,2])\n",
    "A.solve_right(v)"
   ]
  },
  {
   "cell_type": "code",
   "execution_count": 110,
   "metadata": {
    "collapsed": false
   },
   "outputs": [
    {
     "data": {
      "text/plain": [
       "(1, -1, 2)"
      ]
     },
     "execution_count": 110,
     "metadata": {
     },
     "output_type": "execute_result"
    }
   ],
   "source": [
    "w = vector((1/3,5/3,10/3))\n",
    "A*w"
   ]
  },
  {
   "cell_type": "code",
   "execution_count": 112,
   "metadata": {
    "collapsed": false
   },
   "outputs": [
    {
     "data": {
      "text/plain": [
       "(1/3, 5/3, 10/3)"
      ]
     },
     "execution_count": 112,
     "metadata": {
     },
     "output_type": "execute_result"
    }
   ],
   "source": [
    "A.inverse()*v"
   ]
  },
  {
   "cell_type": "code",
   "execution_count": 118,
   "metadata": {
    "collapsed": false
   },
   "outputs": [
    {
     "data": {
      "text/plain": [
       "[ 3  2 -1  1]\n",
       "[ 2  1 -1 -1]\n",
       "[ 1 -1  1  2]"
      ]
     },
     "execution_count": 118,
     "metadata": {
     },
     "output_type": "execute_result"
    }
   ],
   "source": [
    "l = A.columns()\n",
    "l.append(v)\n",
    "Matrix(l).transpose()"
   ]
  },
  {
   "cell_type": "code",
   "execution_count": 119,
   "metadata": {
    "collapsed": false
   },
   "outputs": [
    {
     "data": {
      "text/plain": [
       "[ 3  2 -1  1]\n",
       "[ 2  1 -1 -1]\n",
       "[ 1 -1  1  2]"
      ]
     },
     "execution_count": 119,
     "metadata": {
     },
     "output_type": "execute_result"
    }
   ],
   "source": [
    "A.augment(v)"
   ]
  },
  {
   "cell_type": "code",
   "execution_count": 113,
   "metadata": {
    "collapsed": false
   },
   "outputs": [
    {
     "data": {
      "text/plain": [
       "[   1    0    0  1/3]\n",
       "[   0    1    0  5/3]\n",
       "[   0    0    1 10/3]"
      ]
     },
     "execution_count": 113,
     "metadata": {
     },
     "output_type": "execute_result"
    }
   ],
   "source": [
    "B = Matrix([[3,2,-1,1],[2,1,-1,-1],[1,-1,1,2]])\n",
    "B.rref()"
   ]
  },
  {
   "cell_type": "markdown",
   "metadata": {
    "collapsed": false
   },
   "source": [
    "### Matrix entries"
   ]
  },
  {
   "cell_type": "markdown",
   "metadata": {
    "collapsed": false
   },
   "source": [
    "Unlike a Python array, the entries of a matrix must all be of the same type. Moreover, this type must admit addition, subtraction, and multiplication (that is, it must be an element of a *ring*). For some operations (e.g., row reduction), one also needs division by nonzero elements (i.e., a *field*).\n",
    "\n",
    "Examples:\n",
    "- Integers (parent ring `Integers() == IntegerRing() == ZZ`)\n",
    "- Rational numbers (parent ring `Rationals() == QQ`)\n",
    "- Real numbers (parent ring `RealField() == RR`)\n",
    "- Complex numbers (parent ring `ComplexField() == CC`)\n",
    " - Can also change precision: `RealField(200)` for 200 bits of precision\n",
    " - Interval arithmetic: `RealIntervalField(200), ComplexIntervalField(200)`\n",
    "- Integers modulo `n` (parent ring `Integers(n) == IntegerModRing(n)`)\n",
    " - For integers modulo a prime `p`, another synonym for the parent ring is `GF(p)`\n",
    "- Symbolic expressions (parent ring `SymbolicRing() == SR`)"
   ]
  },
  {
   "cell_type": "markdown",
   "metadata": {
    "collapsed": false
   },
   "source": [
    "To pass from one ring to another, use the `change_ring` function."
   ]
  },
  {
   "cell_type": "code",
   "execution_count": 120,
   "metadata": {
    "collapsed": false
   },
   "outputs": [
    {
     "data": {
      "text/plain": [
       "[1 1 1]\n",
       "[0 1 1]\n",
       "[0 1 0]"
      ]
     },
     "execution_count": 120,
     "metadata": {
     },
     "output_type": "execute_result"
    }
   ],
   "source": [
    "M = Matrix([[1, -1, 0], [-2, 2, -1], [0, 1, 3]])\n",
    "N = M.change_ring(GF(2)) # Entries are now integers mod 2\n",
    "N.inverse()"
   ]
  },
  {
   "cell_type": "code",
   "execution_count": 121,
   "metadata": {
    "collapsed": false
   },
   "outputs": [
    {
     "data": {
      "text/plain": [
       "[-pi*e/(sqrt(2)*pi*e - 2*I) + 1/2*sqrt(2)          sqrt(2)*pi/(sqrt(2)*pi*e - 2*I)]\n",
       "[          sqrt(2)*e/(sqrt(2)*pi*e - 2*I)                  -2/(sqrt(2)*pi*e - 2*I)]"
      ]
     },
     "execution_count": 121,
     "metadata": {
     },
     "output_type": "execute_result"
    }
   ],
   "source": [
    "M = Matrix([[sqrt(2), pi], [e, I]])\n",
    "M.inverse()"
   ]
  },
  {
   "cell_type": "code",
   "execution_count": 122,
   "metadata": {
    "collapsed": false
   },
   "outputs": [
    {
     "data": {
      "text/plain": [
       "[ 0.0188745367983670 - 0.113973965547083*I  0.358059772863211 + 0.0592961061456607*I]\n",
       "[ 0.309813359464052 + 0.0513063103995832*I -0.161183527834128 - 0.0266926259237610*I]"
      ]
     },
     "execution_count": 122,
     "metadata": {
     },
     "output_type": "execute_result"
    }
   ],
   "source": [
    "N = M.change_ring(CC) # Can't use RR here because of the I in the matrix\n",
    "N.inverse()"
   ]
  },
  {
   "cell_type": "markdown",
   "metadata": {
    "collapsed": false
   },
   "source": [
    "### Constructing a matrix from a formula"
   ]
  },
  {
   "cell_type": "markdown",
   "metadata": {
    "collapsed": false
   },
   "source": [
    "The matrix constructor accepts inputs of several different types. One particularly useful syntax is to specify the dimensions (rows, then columns) and then a function that takes a row and column index (which as usual start from 0) and returns the corresponding matrix entry. This function can either be an explicitly declared function or a lambda function."
   ]
  },
  {
   "cell_type": "code",
   "execution_count": 123,
   "metadata": {
    "collapsed": false
   },
   "outputs": [
    {
     "data": {
      "text/plain": [
       "[  1   0   0   0   0   0   0   0   0   0]\n",
       "[  1   1   0   0   0   0   0   0   0   0]\n",
       "[  1   2   1   0   0   0   0   0   0   0]\n",
       "[  1   3   3   1   0   0   0   0   0   0]\n",
       "[  1   4   6   4   1   0   0   0   0   0]\n",
       "[  1   5  10  10   5   1   0   0   0   0]\n",
       "[  1   6  15  20  15   6   1   0   0   0]\n",
       "[  1   7  21  35  35  21   7   1   0   0]\n",
       "[  1   8  28  56  70  56  28   8   1   0]\n",
       "[  1   9  36  84 126 126  84  36   9   1]"
      ]
     },
     "execution_count": 123,
     "metadata": {
     },
     "output_type": "execute_result"
    }
   ],
   "source": [
    "def f(i,j):\n",
    "    return binomial(i,j)\n",
    "\n",
    "M = Matrix(10, 10, f); M"
   ]
  },
  {
   "cell_type": "code",
   "execution_count": 124,
   "metadata": {
    "collapsed": false
   },
   "outputs": [
    {
     "data": {
      "text/plain": [
       "[  1   0   0   0   0   0   0   0   0   0]\n",
       "[  1   1   0   0   0   0   0   0   0   0]\n",
       "[  1   2   1   0   0   0   0   0   0   0]\n",
       "[  1   3   3   1   0   0   0   0   0   0]\n",
       "[  1   4   6   4   1   0   0   0   0   0]\n",
       "[  1   5  10  10   5   1   0   0   0   0]\n",
       "[  1   6  15  20  15   6   1   0   0   0]\n",
       "[  1   7  21  35  35  21   7   1   0   0]\n",
       "[  1   8  28  56  70  56  28   8   1   0]\n",
       "[  1   9  36  84 126 126  84  36   9   1]"
      ]
     },
     "execution_count": 124,
     "metadata": {
     },
     "output_type": "execute_result"
    }
   ],
   "source": [
    "M = Matrix(10, 10, lambda i,j: binomial(i, j))\n",
    "M"
   ]
  },
  {
   "cell_type": "code",
   "execution_count": 125,
   "metadata": {
    "collapsed": false
   },
   "outputs": [
    {
     "data": {
      "text/plain": [
       "[   1    0    0    0    0    0    0    0    0    0]\n",
       "[  -1    1    0    0    0    0    0    0    0    0]\n",
       "[   1   -2    1    0    0    0    0    0    0    0]\n",
       "[  -1    3   -3    1    0    0    0    0    0    0]\n",
       "[   1   -4    6   -4    1    0    0    0    0    0]\n",
       "[  -1    5  -10   10   -5    1    0    0    0    0]\n",
       "[   1   -6   15  -20   15   -6    1    0    0    0]\n",
       "[  -1    7  -21   35  -35   21   -7    1    0    0]\n",
       "[   1   -8   28  -56   70  -56   28   -8    1    0]\n",
       "[  -1    9  -36   84 -126  126  -84   36   -9    1]"
      ]
     },
     "execution_count": 125,
     "metadata": {
     },
     "output_type": "execute_result"
    }
   ],
   "source": [
    "M.inverse()"
   ]
  },
  {
   "cell_type": "markdown",
   "metadata": {
    "collapsed": false
   },
   "source": [
    "**Try this on your own**: formulate a general conjecture based on this example, then prove it. Better yet, try variations of this construction to see if you can come with any other conjectures like it!"
   ]
  },
  {
   "cell_type": "markdown",
   "metadata": {
    "collapsed": false
   },
   "source": [
    "### Numpy"
   ]
  },
  {
   "cell_type": "markdown",
   "metadata": {
    "collapsed": false
   },
   "source": [
    "The [NumPy](http://www.numpy.org/) (\"Numerical Python\") project provides Python with functionality comparable to Fortran. From the home page:\n",
    "\n",
    "> NumPy is the fundamental package for scientific computing with Python. It contains among other things:\n",
    ">\n",
    ">  - a powerful N-dimensional array object\n",
    ">  - sophisticated (broadcasting) functions\n",
    ">  - tools for integrating C/C++ and Fortran code\n",
    ">  - useful linear algebra, Fourier transform, and random number capabilities"
   ]
  },
  {
   "cell_type": "markdown",
   "metadata": {
    "collapsed": false
   },
   "source": [
    "NumPy is a pure Python package, but requires [installation](https://www.scipy.org/install.html). However, Sage provides NumPy by default."
   ]
  },
  {
   "cell_type": "code",
   "execution_count": 126,
   "metadata": {
    "collapsed": false,
    "scrolled": true
   },
   "outputs": [
    {
     "data": {
      "text/plain": [
       "array([[2, 3, 4],\n",
       "       [5, 6, 7]])"
      ]
     },
     "execution_count": 126,
     "metadata": {
     },
     "output_type": "execute_result"
    }
   ],
   "source": [
    "import numpy as np # A handy shorthand for importing modules\n",
    "a = np.array([[2,3,4],[5,6,7]]); a"
   ]
  },
  {
   "cell_type": "markdown",
   "metadata": {
    "collapsed": false
   },
   "source": [
    "The NumPy type `array` plays the role of both vectors and matrices. In fact, arrays may have *any* number of dimensions."
   ]
  },
  {
   "cell_type": "code",
   "execution_count": 127,
   "metadata": {
    "collapsed": false
   },
   "outputs": [
    {
     "data": {
      "text/plain": [
       "array([[[ 1.,  1.,  1.,  1.],\n",
       "        [ 1.,  1.,  1.,  1.],\n",
       "        [ 1.,  1.,  1.,  1.]],\n",
       "\n",
       "       [[ 1.,  1.,  1.,  1.],\n",
       "        [ 1.,  1.,  1.,  1.],\n",
       "        [ 1.,  1.,  1.,  1.]]])"
      ]
     },
     "execution_count": 127,
     "metadata": {
     },
     "output_type": "execute_result"
    }
   ],
   "source": [
    "a = np.ones((2,3,4)); a"
   ]
  },
  {
   "cell_type": "markdown",
   "metadata": {
    "collapsed": false
   },
   "source": [
    "Converting between Sage matrices and Numpy matrices is easy! This makes it possible to apply numpy functions to Sage matrices."
   ]
  },
  {
   "cell_type": "code",
   "execution_count": 128,
   "metadata": {
    "collapsed": false
   },
   "outputs": [
    {
     "data": {
      "text/plain": [
       "array([[ 1, -1,  0],\n",
       "       [-2,  2, -1],\n",
       "       [ 0,  1,  3]])"
      ]
     },
     "execution_count": 128,
     "metadata": {
     },
     "output_type": "execute_result"
    }
   ],
   "source": [
    "M = Matrix([[1, -1, 0], [-2, 2, -1], [0, 1, 3]])\n",
    "a = M.numpy(); a"
   ]
  },
  {
   "cell_type": "markdown",
   "metadata": {
    "collapsed": false
   },
   "source": [
    "Here we use the NumPy [cumulative sum function](https://docs.scipy.org/doc/numpy-dev/reference/generated/numpy.cumsum.html#numpy.cumsum)."
   ]
  },
  {
   "cell_type": "code",
   "execution_count": 131,
   "metadata": {
    "collapsed": false
   },
   "outputs": [
    {
     "data": {
      "text/plain": [
       "array([[ 1, -1,  0],\n",
       "       [-1,  1, -1],\n",
       "       [-1,  2,  2]])"
      ]
     },
     "execution_count": 131,
     "metadata": {
     },
     "output_type": "execute_result"
    }
   ],
   "source": [
    "b = np.cumsum(a, 0); b # Cumulative sum function"
   ]
  },
  {
   "cell_type": "code",
   "execution_count": 132,
   "metadata": {
    "collapsed": false
   },
   "outputs": [
    {
     "data": {
      "text/plain": [
       "[ 1 -1  0]\n",
       "[-1  1 -1]\n",
       "[-1  2  2]"
      ]
     },
     "execution_count": 132,
     "metadata": {
     },
     "output_type": "execute_result"
    }
   ],
   "source": [
    "Matrix(b)"
   ]
  },
  {
   "cell_type": "markdown",
   "metadata": {
    "collapsed": false
   },
   "source": [
    "Some other examples of NumPy functions you might want to access from Sage:\n",
    "   - least squares approximations (see homework);\n",
    "   - matrix decompositions (e.g., singular value decomposition);\n",
    "   - discrete Fourier transform.\n",
    "   "
   ]
  },
  {
   "cell_type": "markdown",
   "metadata": {
    "collapsed": false
   },
   "source": [
    "### NumPy and SciPy"
   ]
  },
  {
   "cell_type": "markdown",
   "metadata": {
    "collapsed": false
   },
   "source": [
    "A closely related project to NumPy is [SciPy](https://scipy.org/scipylib/index.html) (\"Scientific Python\"). More precisely, I am talking about the SciPy library, which together with NumPy form two components of the [SciPy ecosystem](https://scipy.org/). (Other components of the ecosystem include IPython, the basis for the Jupyter notebook; Matplotlib and Sympy, used by Sage for plotting and symbolics; and pandas, more on which later.)"
   ]
  },
  {
   "cell_type": "markdown",
   "metadata": {
    "collapsed": false
   },
   "source": [
    "Some of the strengths of SciPy (the library):\n",
    "\n",
    "- low-rank matrix approximations (a/k/a compressed sensing);\n",
    "- interpolation and curve-fitting;\n",
    "- numerical integration (including numerical solution of differential equations);\n",
    "- image manipulation;\n",
    "- signal processing.\n",
    "\n",
    "We will probably not cover much of this in this course, though. See the [SciPy lectures](http://www.scipy-lectures.org) for a number of worked examples."
   ]
  },
  {
   "cell_type": "code",
   "execution_count": 137,
   "metadata": {
    "collapsed": false
   },
   "outputs": [
   ],
   "source": [
    "# Example of numerical solution of an ODE from SciPy lectures 1.5.7.2\n",
    "# y' = -2y\n",
    "\n",
    "def calc_derivative(ypos, time):\n",
    "    return -2 * ypos\n",
    "\n",
    "n = 400\n",
    "from scipy.integrate import odeint\n",
    "time_vec = np.linspace(0, 4, n)\n",
    "y = odeint(calc_derivative, y0=1, t=time_vec)"
   ]
  },
  {
   "cell_type": "code",
   "execution_count": 134,
   "metadata": {
    "collapsed": false
   },
   "outputs": [
    {
     "data": {
      "text/plain": [
       "array([ 0.        ,  0.1025641 ,  0.20512821,  0.30769231,  0.41025641,\n",
       "        0.51282051,  0.61538462,  0.71794872,  0.82051282,  0.92307692,\n",
       "        1.02564103,  1.12820513,  1.23076923,  1.33333333,  1.43589744,\n",
       "        1.53846154,  1.64102564,  1.74358974,  1.84615385,  1.94871795,\n",
       "        2.05128205,  2.15384615,  2.25641026,  2.35897436,  2.46153846,\n",
       "        2.56410256,  2.66666667,  2.76923077,  2.87179487,  2.97435897,\n",
       "        3.07692308,  3.17948718,  3.28205128,  3.38461538,  3.48717949,\n",
       "        3.58974359,  3.69230769,  3.79487179,  3.8974359 ,  4.        ])"
      ]
     },
     "execution_count": 134,
     "metadata": {
     },
     "output_type": "execute_result"
    }
   ],
   "source": [
    "time_vec"
   ]
  },
  {
   "cell_type": "code",
   "execution_count": 135,
   "metadata": {
    "collapsed": false
   },
   "outputs": [
    {
     "data": {
      "text/plain": [
       "array([[  1.00000000e+00],\n",
       "       [  8.14542898e-01],\n",
       "       [  6.63480126e-01],\n",
       "       [  5.40433015e-01],\n",
       "       [  4.40205868e-01],\n",
       "       [  3.58566566e-01],\n",
       "       [  2.92067826e-01],\n",
       "       [  2.37901766e-01],\n",
       "       [  1.93781189e-01],\n",
       "       [  1.57843082e-01],\n",
       "       [  1.28569955e-01],\n",
       "       [  1.04725738e-01],\n",
       "       [  8.53036015e-02],\n",
       "       [  6.94834394e-02],\n",
       "       [  5.65972376e-02],\n",
       "       [  4.61008805e-02],\n",
       "       [  3.75511484e-02],\n",
       "       [  3.05870204e-02],\n",
       "       [  2.49144403e-02],\n",
       "       [  2.02938795e-02],\n",
       "       [  1.65302356e-02],\n",
       "       [  1.34645860e-02],\n",
       "       [  1.09674830e-02],\n",
       "       [  8.93348546e-03],\n",
       "       [  7.27670714e-03],\n",
       "       [  5.92719016e-03],\n",
       "       [  4.82795066e-03],\n",
       "       [  3.93257294e-03],\n",
       "       [  3.20324937e-03],\n",
       "       [  2.60918427e-03],\n",
       "       [  2.12529267e-03],\n",
       "       [  1.73114166e-03],\n",
       "       [  1.41008843e-03],\n",
       "       [  1.14857711e-03],\n",
       "       [  9.35565007e-04],\n",
       "       [  7.62057552e-04],\n",
       "       [  6.20728409e-04],\n",
       "       [  5.05609460e-04],\n",
       "       [  4.11840447e-04],\n",
       "       [  3.35461687e-04]])"
      ]
     },
     "execution_count": 135,
     "metadata": {
     },
     "output_type": "execute_result"
    }
   ],
   "source": [
    "y #Let's see what we got here."
   ]
  },
  {
   "cell_type": "code",
   "execution_count": 138,
   "metadata": {
    "collapsed": false
   },
   "outputs": [
    {
     "data": {
      "image/png": "[encoded data removed]"
     },
     "execution_count": 138,
     "metadata": {
     },
     "output_type": "execute_result"
    }
   ],
   "source": [
    "# Collate the x and y axes and make a list plot.\n",
    "point([(time_vec[i], y[i]) for i in range(n)])"
   ]
  },
  {
   "cell_type": "code",
   "execution_count": 0,
   "metadata": {
    "collapsed": false
   },
   "outputs": [
   ],
   "source": [
   ]
  }
 ],
 "metadata": {
  "kernelspec": {
   "display_name": "SageMath 8.1",
   "name": "sage-8.1"
  },
  "language_info": {
   "codemirror_mode": {
    "name": "ipython",
    "version": 2
   },
   "file_extension": ".py",
   "mimetype": "text/x-python",
   "name": "python",
   "nbconvert_exporter": "python",
   "pygments_lexer": "ipython2",
   "version": "2.7.14"
  }
 },
 "nbformat": 4,
 "nbformat_minor": 0
}