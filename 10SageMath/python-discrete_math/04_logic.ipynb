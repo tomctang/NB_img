{
  "nbformat": 4,
  "nbformat_minor": 0,
  "metadata": {
    "colab": {
      "name": "04_logic.ipynb",
      "provenance": [],
      "collapsed_sections": []
    },
    "kernelspec": {
      "name": "python3",
      "display_name": "Python 3"
    }
  },
  "cells": [
    {
      "cell_type": "markdown",
      "metadata": {
        "id": "-dFJKKeeR3W1"
      },
      "source": [
        "## Examples and Counterexamples\n",
        "\n",
        "**Problem.** Does there exist a power of $2$ that starts with $65$?\n",
        "\n",
        "We can find an example of such a number using the following snippet."
      ]
    },
    {
      "cell_type": "code",
      "metadata": {
        "colab": {
          "base_uri": "https://localhost:8080/"
        },
        "id": "ZRh4IFdIR0XE",
        "outputId": "964c5b2c-c4d9-42bf-f34e-17cb17e7c65c"
      },
      "source": [
        "for n in range(100):\n",
        "    if int(str(2 ** n)[:2]) == 65:\n",
        "        print(f'2**{n}={2 ** n}')"
      ],
      "execution_count": null,
      "outputs": [
        {
          "output_type": "stream",
          "text": [
            "2**16=65536\n"
          ],
          "name": "stdout"
        }
      ]
    },
    {
      "cell_type": "markdown",
      "metadata": {
        "id": "7gJYRIxbR_Hy"
      },
      "source": [
        "Here, we use `int(str(2 ** n)[:2])` to compute the first two digits \n",
        "of $2^n$. Indeed, the function `str` converts the value of $2^n$ into a string, then the slice `[:2]` takes the first two characters of this string, and finally the function `int` converts the result back into an integer."
      ]
    },
    {
      "cell_type": "markdown",
      "metadata": {
        "id": "PtT003MdS2aJ"
      },
      "source": [
        "**Problem.** For every integer $n > 1$, the number $n^2 + n + 41$ is prime (is not a product of two smaller integers). Is this statement true?\n",
        "\n",
        "The following program finds counterexamples to this statement (which means that the statement is *not* true). "
      ]
    },
    {
      "cell_type": "code",
      "metadata": {
        "colab": {
          "base_uri": "https://localhost:8080/"
        },
        "id": "2ylYKyYXTvzO",
        "outputId": "da13be83-be72-4106-90cd-18ec70c81fdd"
      },
      "source": [
        "def is_prime(n):\n",
        "    assert n > 0\n",
        "    if n == 1:\n",
        "        return False\n",
        "\n",
        "    for d in range(2, n):\n",
        "        if n % d == 0:\n",
        "            return False\n",
        "\n",
        "    return True\n",
        "\n",
        "\n",
        "for n in range(1, 50):\n",
        "    if not is_prime(n ** 2 + n + 41):\n",
        "        print(n)"
      ],
      "execution_count": null,
      "outputs": [
        {
          "output_type": "stream",
          "text": [
            "40\n",
            "41\n",
            "44\n",
            "49\n"
          ],
          "name": "stdout"
        }
      ]
    },
    {
      "cell_type": "markdown",
      "metadata": {
        "id": "Dren-X37VKmU"
      },
      "source": [
        "Here, the function `is_prime` checks whether the given positive integer $n$ is prime simply by checking all its potential divisors $2 \\le d < n$ (recall that $n=1$ is not prime by convention).\n",
        "We then go through all $1 \\le n < 50$ and check if $n^2+n+41$ \n",
        "is prime. If it is not, we print $n$.\n",
        "\n",
        "Here's a shorter snippet that finds the first counterexample.\n"
      ]
    },
    {
      "cell_type": "code",
      "metadata": {
        "colab": {
          "base_uri": "https://localhost:8080/"
        },
        "id": "xdEKQFDuVbXh",
        "outputId": "969eb377-21ee-415c-feff-781e7fb59de1"
      },
      "source": [
        "def is_prime(n):\n",
        "    return n != 1 and all(n % d != 0 for d in range(2, n))\n",
        "\n",
        "\n",
        "print(next(n for n in range(2, 100) if\n",
        "           not is_prime(n * n + n + 41)))\n"
      ],
      "execution_count": null,
      "outputs": [
        {
          "output_type": "stream",
          "text": [
            "40\n"
          ],
          "name": "stdout"
        }
      ]
    },
    {
      "cell_type": "markdown",
      "metadata": {
        "id": "p_lZA-A5VunZ"
      },
      "source": [
        "**Problem.** Do there exist positive integers $a, b, c$ such that $a^2+b^2=c^2$?\n",
        "\n",
        "Yes! And the following code finds some such triples of numbers."
      ]
    },
    {
      "cell_type": "code",
      "metadata": {
        "colab": {
          "base_uri": "https://localhost:8080/"
        },
        "id": "ehu6qegqV5Ma",
        "outputId": "0d2c1746-3c4f-4fe9-b5d2-e94f064b0c0b"
      },
      "source": [
        "from itertools import combinations\n",
        "\n",
        "\n",
        "for a, b, c in combinations(range(1, 20), 3):\n",
        "    if a ** 2 + b ** 2 == c ** 2:\n",
        "        print(f'{a}**2 + {b}**2 = {c}**2')"
      ],
      "execution_count": null,
      "outputs": [
        {
          "output_type": "stream",
          "text": [
            "3**2 + 4**2 = 5**2\n",
            "5**2 + 12**2 = 13**2\n",
            "6**2 + 8**2 = 10**2\n",
            "8**2 + 15**2 = 17**2\n",
            "9**2 + 12**2 = 15**2\n"
          ],
          "name": "stdout"
        }
      ]
    },
    {
      "cell_type": "markdown",
      "metadata": {
        "id": "JeYfJUppWIPx"
      },
      "source": [
        "This code enumerates all triples $1\\leq a \\le b \\le c < 20$ (by using the `combinations` function from the `itertools` module). \n",
        "For each such triple, it checks whether $a^2+b^2=c^2$ (recall the Python notation `a ** n` for $a^n$)."
      ]
    },
    {
      "cell_type": "markdown",
      "metadata": {
        "id": "9zpv5dWxtIPk"
      },
      "source": [
        "**Problem -- Sum of powers conjecture.** In 1769, Euler conjectured that for any integer $n>2$, to represent $n$th power of a positive integer as a sum of $n$th powers of positive integers one needs at least $n$ summands. In particular, equations\n",
        "\n",
        "$a^4+b^4+c^4=d^4$ and $a^5+b^5+c^5+d^5=e^5$\n",
        "\n",
        "do not have solutions in positive integers. (Hence, Fermat's Last Theorem is a special case of this conjecture for $n=2$.)\n",
        "How can we disprove this conjecture? [*Warning: this is rather hard, and serious tools like elliptic curves or a supercomputer were used to find \n",
        "a counterexample for $n=4$. For $n=5$, this is easier and can be done \n",
        "if you optimize the search procedure a bit.*]"
      ]
    },
    {
      "cell_type": "markdown",
      "metadata": {
        "id": "pR8ci5bhuDbU"
      },
      "source": [
        "To disprove Euler's conjecture, it is enough to give a single counterexample.\n",
        "For example, for $n=4$ one may take the following integers:\n",
        "\n",
        "$a=95800,\\, b=217519,\\, c=414560,\\, d=422481$\n",
        "\n",
        "The following code verifies that these numbers indeed form a counterexample. (It is also known that this is the only counterexample where all numbers are less than one million.)"
      ]
    },
    {
      "cell_type": "code",
      "metadata": {
        "colab": {
          "base_uri": "https://localhost:8080/"
        },
        "id": "F7d6y-eOuFM5",
        "outputId": "99efa117-ba63-4045-b4a7-52d7c517aff2"
      },
      "source": [
        "print(95800 ** 4 + 217519 ** 4 + 414560 ** 4)\n",
        "print(422481 ** 4)"
      ],
      "execution_count": null,
      "outputs": [
        {
          "output_type": "stream",
          "text": [
            "31858749840007945920321\n",
            "31858749840007945920321\n"
          ],
          "name": "stdout"
        }
      ]
    },
    {
      "cell_type": "markdown",
      "metadata": {
        "id": "FxeFDRCHuetg"
      },
      "source": [
        "**Problem.** Is it possible to represent $42$ as a sum of three (not necessarily positive) cubes? In other words, are there integers $x,y,z$ such that $42=x^3+y^3+z^3$?\n",
        "An affirmative answer to this question was found just\n",
        "recently (in 2019!). It took over a million of machine hours to find it, but checking the result is trivial:\n"
      ]
    },
    {
      "cell_type": "code",
      "metadata": {
        "colab": {
          "base_uri": "https://localhost:8080/"
        },
        "id": "X57VbZq4uvoZ",
        "outputId": "7dcc1a38-d9e6-4e24-8cb9-bd4f28cfa793"
      },
      "source": [
        "x = -80538738812075974\n",
        "y = 80435758145817515\n",
        "z = 12602123297335631\n",
        "\n",
        "print(x ** 3 + y ** 3 + z ** 3)"
      ],
      "execution_count": null,
      "outputs": [
        {
          "output_type": "stream",
          "text": [
            "42\n"
          ],
          "name": "stdout"
        }
      ]
    },
    {
      "cell_type": "markdown",
      "metadata": {
        "id": "q-4ga84Ru30R"
      },
      "source": [
        "## Logic\n",
        "\n",
        "A *proposition* is a statement that is true or false. For example, *I'm a human* and *25 is a multiple of 7* are propositions (the first one is true, and the second one if false), while *You should fly to the Moon* is not a proposition. Using the language of mathematical logic, we create compound propositions from simple ones (\"$i\\geq0$ and $i\\leq n$ and $a[i]$ divides $100$, or $i$ is a prime\"). We use such propositions as conditions in `if`-statemenets and `while`-loops, and, thus, \"give directions\" to computer programs. Here are a few examples of propositions."
      ]
    },
    {
      "cell_type": "code",
      "metadata": {
        "colab": {
          "base_uri": "https://localhost:8080/"
        },
        "id": "1Kz9fFlHvuGu",
        "outputId": "da78cf33-2989-4144-9b04-8a4afe30150e"
      },
      "source": [
        "print(3 < 5 and 7 < 5)\n",
        "print(3 < 5 and not(7 < 5))\n",
        "print(2+2 == 5 or 2+2 == 4)\n"
      ],
      "execution_count": null,
      "outputs": [
        {
          "output_type": "stream",
          "text": [
            "False\n",
            "True\n",
            "True\n"
          ],
          "name": "stdout"
        }
      ]
    },
    {
      "cell_type": "markdown",
      "metadata": {
        "id": "x76h0PHuwP9G"
      },
      "source": [
        "In the following code, the function `foo` prints out \"Foo!\". One of the conditions in the `if`-statement calls the function `foo`. Why don't we see \"Foo!\" in the output of the program?"
      ]
    },
    {
      "cell_type": "code",
      "metadata": {
        "colab": {
          "base_uri": "https://localhost:8080/"
        },
        "id": "0JS5buWVwqU3",
        "outputId": "74f0f535-1c90-4fb1-827c-451c377cbcd5"
      },
      "source": [
        "def foo():\n",
        "    print('Foo!')\n",
        "    return True\n",
        "\n",
        "\n",
        "if 2 + 2 == 5 and foo():\n",
        "    print('True')\n",
        "else:\n",
        "    print('False')"
      ],
      "execution_count": null,
      "outputs": [
        {
          "output_type": "stream",
          "text": [
            "False\n"
          ],
          "name": "stdout"
        }
      ]
    },
    {
      "cell_type": "markdown",
      "metadata": {
        "id": "_ojnHiO6wC4h"
      },
      "source": [
        "This is known as *lazy evaluation*. The Python interpreter knows that the whole `if`-condition evaluates to `False` after evaluating its first part. That is why it does not even bother to call the `foo()` function (so \"Foo!\" is not printed). Try changing the order of two statements in the `if`$-statement and see what happens!"
      ]
    },
    {
      "cell_type": "markdown",
      "metadata": {
        "id": "jBvsZgdexAgD"
      },
      "source": [
        "The universal quantifier is a mathematical analogue of the function `{all}` in Python that outputs `True` if all elements\n",
        "in the list are `True`. Similarly, the existential quantifier is \n",
        "a mathematical formalization of the function `any` that outputs `True` if at least one of the elements in the list \n",
        "is `True`.\n",
        "\n",
        "For example, the following program verifies the following two statements with universal quantifiers: \n",
        "\n",
        "*All integers in ${6, 2, 4}$ are even*\n",
        "\n",
        "and \n",
        "\n",
        "*All integers in ${2, 7, 6}$ are even*.\n"
      ]
    },
    {
      "cell_type": "code",
      "metadata": {
        "colab": {
          "base_uri": "https://localhost:8080/"
        },
        "id": "kD-DXtzD0OSB",
        "outputId": "8a717f3b-7957-4f09-95fb-c54dd2e57ff0"
      },
      "source": [
        "a = (6, 2, 4)\n",
        "print(all((i % 2 == 0) for i in a))\n",
        "a = (2, 7, 6)\n",
        "print(all((i % 2 == 0) for i in a))"
      ],
      "execution_count": null,
      "outputs": [
        {
          "output_type": "stream",
          "text": [
            "True\n",
            "False\n"
          ],
          "name": "stdout"
        }
      ]
    },
    {
      "cell_type": "markdown",
      "metadata": {
        "id": "Hkm082aJ0Snt"
      },
      "source": [
        "Similarly, the following code evaluates the statements with the existential quantifier \n",
        "\n",
        "*There is an even integer in $\\{1, 7, 9\\}$*\n",
        "\n",
        "and \n",
        "\n",
        "*There is an even integer in $\\{9, 2, 3\\}$*"
      ]
    },
    {
      "cell_type": "code",
      "metadata": {
        "colab": {
          "base_uri": "https://localhost:8080/"
        },
        "id": "Xcu5ts6r0r7P",
        "outputId": "b1b8c4df-bccf-465f-c48d-b10be3d670e4"
      },
      "source": [
        "a = (1, 7, 9)\n",
        "print(all((i % 2 == 0) for i in a))\n",
        "a = (9, 2, 3)\n",
        "print(any((i % 2 == 0) for i in a))"
      ],
      "execution_count": null,
      "outputs": [
        {
          "output_type": "stream",
          "text": [
            "False\n",
            "True\n"
          ],
          "name": "stdout"
        }
      ]
    },
    {
      "cell_type": "markdown",
      "metadata": {
        "id": "kAKNWMyC3S3a"
      },
      "source": [
        "The negation of a universal quantifier is an existential quantifier; and the negation of an existential quantifier is a universal quantifier. For example, the negation of the statement\n",
        "\n",
        "*For all $n, \\, A(n)$ is true*\n",
        "\n",
        "is the statement \n",
        "\n",
        "*There exists $n$, such that $A(n)$ is false.*"
      ]
    },
    {
      "cell_type": "code",
      "metadata": {
        "colab": {
          "base_uri": "https://localhost:8080/"
        },
        "id": "x5brnzkI4ji5",
        "outputId": "128c0127-1bc9-4932-c817-7aa8de06fc53"
      },
      "source": [
        "def is_divisible_by_3(x):\n",
        "    return x % 3 == 0\n",
        "\n",
        "\n",
        "lst = [5, 17, 6, 10]\n",
        "\n",
        "print(not any([is_divisible_by_3(x) for x in lst]))\n",
        "print(all([not is_divisible_by_3(x) for x in lst]))"
      ],
      "execution_count": null,
      "outputs": [
        {
          "output_type": "stream",
          "text": [
            "False\n",
            "False\n"
          ],
          "name": "stdout"
        }
      ]
    },
    {
      "cell_type": "markdown",
      "metadata": {
        "id": "5kQScsCL1rO2"
      },
      "source": [
        "In this example, the function `is_divisible_by_3(x)` returns `True` or `False` when `x` is (or is not) a multiple of $3$. Here, `True` and `False` are *Boolean values*. We may want to check whether \n",
        "a list `lst` of integers contains a multiple of $3$. For that, we use a special Python construction. First, `[is_divisible_by_3(x) for x in lst]` is the list of Boolean values `is_divisible_by_3(x)` for all elements `x` in the list `lst`. \n",
        "\n",
        "In our example, `lst=[5,17,6,10]`, so this list equals `[False, False, True, False]` (only $6$ is divisible by $3$). Then, `any(S)` checks whether there exists a `True` value in `S`, and `not` reverses the answer. This way, we evaluate the statement *there is no element `x` in the list `lst` that is divisible by $3$*. \n",
        "\n",
        "In the next line, we evaluate the statement *all elements of `lst` are not divisible by $3$* and get the same answer `False`: there is no good element in the list if and only if all elements are bad."
      ]
    }
  ]
}