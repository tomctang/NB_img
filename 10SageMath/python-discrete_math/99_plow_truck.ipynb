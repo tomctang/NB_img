{
 "cells": [
  {
   "cell_type": "markdown",
   "id": "106f6e5e",
   "metadata": {},
   "source": [
    "# Plow Truck\n",
    "\n",
    "A plow truck needs to clean every street and get back to its original location. Help it find the shortest route for this. Try it in an [interactive puzzle](https://discrete-math-puzzles.github.io/puzzles/plow-truck/index.html)!\n",
    "\n",
    "![](images/plow_truck.png)"
   ]
  },
  {
   "cell_type": "markdown",
   "id": "1218bb09",
   "metadata": {},
   "source": [
    "## Solution in Python"
   ]
  },
  {
   "cell_type": "code",
   "execution_count": null,
   "id": "7eb64415",
   "metadata": {},
   "outputs": [],
   "source": [
    "!apt install libgraphviz-dev\n",
    "!pip install pygraphviz\n",
    "import networkx as nx\n",
    "from IPython.display import Image"
   ]
  },
  {
   "cell_type": "code",
   "execution_count": null,
   "id": "c6c7b957",
   "metadata": {},
   "outputs": [],
   "source": [
    "grid = nx.MultiGraph(nx.grid_2d_graph(5, 5))\n",
    "grid = nx.eulerize(grid)\n",
    "\n",
    "drawing = nx.nx_agraph.to_agraph(grid)\n",
    "drawing.layout()\n",
    "drawing.draw('plow_truck_grid.png')\n",
    "Image('plow_truck_grid.png')"
   ]
  },
  {
   "cell_type": "code",
   "execution_count": null,
   "id": "5a3767fe",
   "metadata": {},
   "outputs": [],
   "source": [
    "print('→'.join(str(edge[0]) for edge in nx.eulerian_circuit(grid, (0, 0))))"
   ]
  }
 ],
 "metadata": {
  "kernelspec": {
   "display_name": "Python 3 (ipykernel)",
   "language": "python",
   "name": "python3"
  },
  "language_info": {
   "codemirror_mode": {
    "name": "ipython",
    "version": 3
   },
   "file_extension": ".py",
   "mimetype": "text/x-python",
   "name": "python",
   "nbconvert_exporter": "python",
   "pygments_lexer": "ipython3",
   "version": "3.9.6"
  }
 },
 "nbformat": 4,
 "nbformat_minor": 5
}
