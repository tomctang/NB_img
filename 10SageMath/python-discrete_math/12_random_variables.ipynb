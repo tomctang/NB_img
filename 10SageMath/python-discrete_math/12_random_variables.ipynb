{
 "cells": [
  {
   "cell_type": "markdown",
   "id": "7e5d3951",
   "metadata": {},
   "source": [
    "### Average"
   ]
  },
  {
   "cell_type": "code",
   "execution_count": 1,
   "id": "6c12b32f",
   "metadata": {},
   "outputs": [
    {
     "name": "stdout",
     "output_type": "stream",
     "text": [
      "3.5\n",
      "7.0\n",
      "10.0\n"
     ]
    }
   ],
   "source": [
    "def average(numbers):\n",
    "    return sum(numbers) / len(numbers)\n",
    "\n",
    "\n",
    "print(average([1, 2, 3, 4, 5, 6]))\n",
    "print(average([7, 7, 7]))\n",
    "print(average([9.5, 10.5]))"
   ]
  },
  {
   "cell_type": "code",
   "execution_count": 2,
   "id": "8c1ee4af",
   "metadata": {},
   "outputs": [
    {
     "name": "stdout",
     "output_type": "stream",
     "text": [
      "3.5\n",
      "7\n",
      "10.0\n"
     ]
    }
   ],
   "source": [
    "from statistics import mean\n",
    "\n",
    "\n",
    "print(mean([1, 2, 3, 4, 5, 6]))\n",
    "print(mean([7, 7, 7]))\n",
    "print(mean([9.5, 10.5]))"
   ]
  },
  {
   "cell_type": "markdown",
   "id": "82aa36f4",
   "metadata": {},
   "source": [
    "**Problem.** HR management of a company has decided to optimize the average performance of employees by applying the following strategy: while there is a person whose efficiency is less than the average efficiency, fire this person. What will be a result of such strategy?"
   ]
  },
  {
   "cell_type": "code",
   "execution_count": 3,
   "id": "a7163815",
   "metadata": {},
   "outputs": [
    {
     "name": "stdout",
     "output_type": "stream",
     "text": [
      "The mean of [6, 9, 5, 2, 4, 3] is 4.83\n",
      "Remove 2\n",
      "The mean of [6, 9, 5, 4, 3] is 5.40\n",
      "Remove 3\n",
      "The mean of [6, 9, 5, 4] is 6.00\n",
      "Remove 4\n",
      "The mean of [6, 9, 5] is 6.67\n",
      "Remove 5\n",
      "The mean of [6, 9] is 7.50\n",
      "Remove 6\n"
     ]
    }
   ],
   "source": [
    "from statistics import mean\n",
    "\n",
    "\n",
    "def improve_average(numbers):\n",
    "    minimal, average = min(numbers), mean(numbers)\n",
    "    while minimal < average:\n",
    "        print(f'The mean of {numbers} is {average:.2f}')\n",
    "        print(f'Remove {minimal}')\n",
    "        numbers.remove(minimal)\n",
    "        minimal, average = min(numbers), mean(numbers)\n",
    "\n",
    "\n",
    "improve_average([6, 9, 5, 2, 4, 3])"
   ]
  },
  {
   "cell_type": "markdown",
   "id": "e3dd2265",
   "metadata": {},
   "source": [
    "Average of 1000 throws of a dice:"
   ]
  },
  {
   "cell_type": "code",
   "execution_count": 4,
   "id": "d0beb050",
   "metadata": {},
   "outputs": [
    {
     "name": "stdout",
     "output_type": "stream",
     "text": [
      "3.50433\n"
     ]
    }
   ],
   "source": [
    "from random import randint, seed\n",
    "from statistics import mean\n",
    "\n",
    "seed(19)\n",
    "print(mean([randint(1, 6) for _ in range(10 ** 5)]))"
   ]
  },
  {
   "cell_type": "markdown",
   "id": "e1cc364b",
   "metadata": {},
   "source": [
    "### Birthday Problem\n",
    "\n",
    "Denote by $p(n)$ the probability that \n",
    "among $n$ randomly selected persons there are two with the same birthday.\n",
    "Instead of computing this probability directly, we compute the probability $q(n)$ that among $n$ randomly selected people no two share the same birthday. Clearly, $p(n)=1-q(n)$. One can compute $q(n)$ as follows:\n",
    "$$q(n)=\\frac{365}{365} \\cdot \\frac{364}{365} \\cdot \\frac{363}{365} \\dotsb \\frac{(365-n+1)}{365} \\, .$$\n",
    "Indeed, the first person may have a birthday on any of $365$ days, \n",
    "the second one may have a birthday on all days except for the birthday \n",
    "of the first person and so on. Computing $q(n)$ by hand is not that easy.\n",
    "Instead, let us compute $q(n)$ using Python.\n",
    "\n",
    "The code below computes the value of $p(n)$\n",
    "for all $n=1,2,\\dotsc, 365$. It then plots the function $p(n)$."
   ]
  },
  {
   "cell_type": "code",
   "execution_count": 5,
   "id": "7a575f0b",
   "metadata": {},
   "outputs": [
    {
     "name": "stdout",
     "output_type": "stream",
     "text": [
      "The probability for 22 people is 0.4756953076625502\n",
      "The probability for 23 people is 0.5072972343239854\n",
      "The probability for 35 people is 0.8143832388747152\n",
      "The probability for 100 people is 0.9999996927510721\n"
     ]
    },
    {
     "data": {
      "image/png": "[encoded data removed]",
      "text/plain": [
       "<Figure size 432x288 with 1 Axes>"
      ]
     },
     "metadata": {
      "needs_background": "light"
     },
     "output_type": "display_data"
    }
   ],
   "source": [
    "from itertools import accumulate\n",
    "import matplotlib.pyplot as plt\n",
    "from operator import mul\n",
    "\n",
    "num_days = 365\n",
    "\n",
    "factors = [1 - i / num_days for i in range(num_days)]\n",
    "prob_no_collision = list(accumulate(factors, mul))\n",
    "prob_collision = [1 - p for p in prob_no_collision]\n",
    "\n",
    "plt.plot(prob_collision)\n",
    "plt.savefig('birthdays.png')\n",
    "\n",
    "for n in (22, 23, 35, 100):\n",
    "    print(f'The probability for {n} people '\n",
    "          f'is {prob_collision[n - 1]}')"
   ]
  },
  {
   "cell_type": "markdown",
   "id": "f0bd6261",
   "metadata": {},
   "source": [
    "### Expectation Is Not All\n",
    "\n",
    "Alice and Bob play the following game. Each of them has fair, but unconventional dice. The numbers on the sides of Alice's dice are $2, 2, 2, 2, 3, 3$, whereas the numbers on the sides of Bob's dice are $1, 1, 1, 1, 6, 6$.\n",
    "They throw their dices. The one with the larger number on the dice wins. If Alice and Bob play the game many times, who is likely to win more often?\n",
    "\n",
    "Let us compute the expectations of the corresponding two random variables.\n",
    "Alice gets $2$ with probability $2/3$ and gets $3$ with probability $1/3$. Her expectation is \n",
    "$$\n",
    "2 \\cdot \\frac 23 + 3 \\cdot \\frac 13 = \\frac 73.\n",
    "$$\n",
    "Bob gets $1$ with probability $2/3$ and gets $6$ with probability $1/3$. His expected value is \n",
    "$$\n",
    "1 \\cdot \\frac 23 + 6 \\cdot \\frac 13 = \\frac 83.\n",
    "$$\n",
    "Therefore, Bob has better expected value. Does it mean that he wins more often?\n",
    "\n",
    "Let us compute the probabilities for each player to win directly. \n",
    "The result of the game depends only on the outcome of Bob: indeed, \n",
    "if he throws $1$, he loses, if he throws $6$, he wins. \n",
    "Bob throws $1$ with probability $2/3$. Thus, Bob loses with probability $2/3$. Bob loses more often despite having larger expected value.\n",
    "\n",
    "The following code snippet simulates the game $100\\,000$ times\n",
    "and shows that, indeed, Alice wins in about $2/3$ of all games."
   ]
  },
  {
   "cell_type": "code",
   "execution_count": 6,
   "id": "ab2ca5af",
   "metadata": {},
   "outputs": [
    {
     "name": "stdout",
     "output_type": "stream",
     "text": [
      "Out of 100000 throws, dice1 won 66868 times\n"
     ]
    }
   ],
   "source": [
    "from random import randint, seed\n",
    "\n",
    "seed(27)\n",
    "\n",
    "dice1 = [2, 2, 2, 2, 3, 3]\n",
    "dice2 = [1, 1, 1, 1, 6, 6]\n",
    "\n",
    "num_rounds = 10 ** 5\n",
    "num_dice1_wins = 0\n",
    "\n",
    "for _ in range(num_rounds):\n",
    "    dice1_result = dice1[randint(0, 5)]\n",
    "    dice2_result = dice2[randint(0, 5)]\n",
    "\n",
    "    if dice1_result > dice2_result:\n",
    "        num_dice1_wins += 1\n",
    "\n",
    "print(f'Out of {num_rounds} throws, dice1 won {num_dice1_wins} times')"
   ]
  }
 ],
 "metadata": {
  "kernelspec": {
   "display_name": "Python 3 (ipykernel)",
   "language": "python",
   "name": "python3"
  },
  "language_info": {
   "codemirror_mode": {
    "name": "ipython",
    "version": 3
   },
   "file_extension": ".py",
   "mimetype": "text/x-python",
   "name": "python",
   "nbconvert_exporter": "python",
   "pygments_lexer": "ipython3",
   "version": "3.9.13"
  }
 },
 "nbformat": 4,
 "nbformat_minor": 5
}
