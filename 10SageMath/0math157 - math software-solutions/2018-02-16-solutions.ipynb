{
 "cells": [
  {
   "cell_type": "markdown",
   "metadata": {
    "collapsed": false
   },
   "source": [
    "## Math 157: Intro to Mathematical Software\n",
    "## UC San Diego, winter 2018"
   ]
  },
  {
   "cell_type": "markdown",
   "metadata": {
    "collapsed": false
   },
   "source": [
    "## Homework 5: due February 16, 2018"
   ]
  },
  {
   "cell_type": "markdown",
   "metadata": {
    "collapsed": false
   },
   "source": [
    "Please enter all answers within this notebook unless otherwise specified. As usual, don't forget to cite sources and collaborators.\n",
    "\n",
    "Through this problem set, use the SageMath 8.1 kernel. Tips:\n",
    "\n",
    "- You can use `preparser(False)` to turn off the Sage preparser (e.g., to avoid issues with pandas) and `preparser(True)` to turn it back on.\n",
    "- To avoid issues with CoCalc, don't forget to delete temporary files.\n",
    "- Run the following imports before executing cells using numpy or pandas."
   ]
  },
  {
   "cell_type": "code",
   "execution_count": 1,
   "metadata": {
    "collapsed": false
   },
   "outputs": [
   ],
   "source": [
    "import numpy as np\n",
    "import pandas as pd"
   ]
  },
  {
   "cell_type": "markdown",
   "metadata": {
    "collapsed": false
   },
   "source": [
    "### Problem 1: Distances between cities"
   ]
  },
  {
   "cell_type": "markdown",
   "metadata": {
    "collapsed": false
   },
   "source": [
    "Grading criteria: correctness of code."
   ]
  },
  {
   "cell_type": "markdown",
   "metadata": {
    "collapsed": false
   },
   "source": [
    "1a. Retrieve the CSV version of the [Zip Code Database](http://zips.sourceforge.net/), upload it into your project, and import it into a DataFrame."
   ]
  },
  {
   "cell_type": "code",
   "execution_count": 2,
   "metadata": {
    "collapsed": false
   },
   "outputs": [
   ],
   "source": [
    "#renaming the column headers and removing the \" \"\n",
    "#one can also read_csv then perform the above afterwards\n",
    "df1=pd.read_csv('zips.csv', names=['zip code','state abbreviation ','latitude','longitude','city','state'])\n",
    "for i, column in enumerate(df1.columns):\n",
    "    df1.iloc[:,i]=df1.iloc[:,i].str.replace('\"','')"
   ]
  },
  {
   "cell_type": "markdown",
   "metadata": {
    "collapsed": false
   },
   "source": [
    "1b. Import the Excel file \"state_capitals.xlsx\" (sourced from Wikipedia, found in this directory) into a DataFrame."
   ]
  },
  {
   "cell_type": "code",
   "execution_count": 3,
   "metadata": {
    "collapsed": false
   },
   "outputs": [
   ],
   "source": [
    "df2 = pd.read_excel('state_capitals.xlsx')"
   ]
  },
  {
   "cell_type": "markdown",
   "metadata": {
    "collapsed": false
   },
   "source": [
    "1c. Construct a new DataFrame in which each row consists of:\n",
    "- the name of a state;\n",
    "- the two-letter postal abbrevation of the state;\n",
    "- the name of the capital city;\n",
    "- a list of the zip codes associated to that city;\n",
    "- the latitude and longitude associated to the first zip code in the list."
   ]
  },
  {
   "cell_type": "code",
   "execution_count": 4,
   "metadata": {
    "collapsed": false
   },
   "outputs": [
   ],
   "source": [
    "preparser(False)"
   ]
  },
  {
   "cell_type": "code",
   "execution_count": 5,
   "metadata": {
    "collapsed": false
   },
   "outputs": [
   ],
   "source": [
    "#Construct a table with State, Abbreviation, Capital by choosing/deleting relevant rows/columns\n",
    "df3 = df2.copy()\n",
    "df3 = df3.iloc[1:51,1:5]\n",
    "df3 = df3.drop('Unnamed: 3',1)\n",
    "df3.columns = ['State', 'Abbreviation','Capital']\n"
   ]
  },
  {
   "cell_type": "code",
   "execution_count": 6,
   "metadata": {
    "collapsed": false
   },
   "outputs": [
   ],
   "source": [
    "#Define a function which returns a list of zipcodes, latitude and longitude for a given State and its Capital\n",
    "def zip_lat_long(state,capital):\n",
    "    zip = []\n",
    "    lat = \"\"\n",
    "    long = \"\"\n",
    "    for i in range(len(df1.axes[0])):\n",
    "        if ' '+state == df1['state'][i] and ' '+capital == df1['city'][i]:\n",
    "            zip.append(int(df1['zip code'][i]))\n",
    "            if lat == \"\" or long == \"\":\n",
    "                lat = CDF(df1['latitude'][i])\n",
    "                long = CDF(df1['longitude'][i])\n",
    "    return zip,lat,long"
   ]
  },
  {
   "cell_type": "code",
   "execution_count": 7,
   "metadata": {
    "collapsed": false
   },
   "outputs": [
   ],
   "source": [
    "#Constructing the Zipcode, Latitude, Longitude columns, note that Frankfort is added manually\n",
    "ziplist = []\n",
    "latlist = []\n",
    "lonlist = []\n",
    "for i in range(1,51):\n",
    "    zip,lat,long = zip_lat_long(str(df3['State'][i]),str(df3['Capital'][i]))\n",
    "    ziplist.append(zip)\n",
    "    latlist.append(lat)\n",
    "    lonlist.append(long)\n",
    "    if zip == []:\n",
    "        zip.append(40601)"
   ]
  },
  {
   "cell_type": "code",
   "execution_count": 8,
   "metadata": {
    "collapsed": false
   },
   "outputs": [
    {
     "data": {
      "text/html": [
       "<div>\n",
       "<style scoped>\n",
       "    .dataframe tbody tr th:only-of-type {\n",
       "        vertical-align: middle;\n",
       "    }\n",
       "\n",
       "    .dataframe tbody tr th {\n",
       "        vertical-align: top;\n",
       "    }\n",
       "\n",
       "    .dataframe thead th {\n",
       "        text-align: right;\n",
       "    }\n",
       "</style>\n",
       "<table border=\"1\" class=\"dataframe\">\n",
       "  <thead>\n",
       "    <tr style=\"text-align: right;\">\n",
       "      <th></th>\n",
       "      <th>State</th>\n",
       "      <th>Abbreviation</th>\n",
       "      <th>Capital</th>\n",
       "      <th>Zipcode</th>\n",
       "      <th>Latitude</th>\n",
       "      <th>Longitude</th>\n",
       "    </tr>\n",
       "  </thead>\n",
       "  <tbody>\n",
       "    <tr>\n",
       "      <th>1</th>\n",
       "      <td>Alabama</td>\n",
       "      <td>AL</td>\n",
       "      <td>Montgomery</td>\n",
       "      <td>[36104, 36105, 36106, 36107, 36108, 36109, 361...</td>\n",
       "      <td>32.377509</td>\n",
       "      <td>-86.31068</td>\n",
       "    </tr>\n",
       "    <tr>\n",
       "      <th>2</th>\n",
       "      <td>Alaska</td>\n",
       "      <td>AK</td>\n",
       "      <td>Juneau</td>\n",
       "      <td>[99801, 99850]</td>\n",
       "      <td>58.358599</td>\n",
       "      <td>-134.54749</td>\n",
       "    </tr>\n",
       "    <tr>\n",
       "      <th>3</th>\n",
       "      <td>Arizona</td>\n",
       "      <td>AZ</td>\n",
       "      <td>Phoenix</td>\n",
       "      <td>[85003, 85004, 85006, 85007, 85008, 85009, 850...</td>\n",
       "      <td>33.451143</td>\n",
       "      <td>-112.07838</td>\n",
       "    </tr>\n",
       "    <tr>\n",
       "      <th>4</th>\n",
       "      <td>Arkansas</td>\n",
       "      <td>AR</td>\n",
       "      <td>Little Rock</td>\n",
       "      <td>[72201, 72202, 72204, 72205, 72206, 72207, 722...</td>\n",
       "      <td>34.745692</td>\n",
       "      <td>-92.27987</td>\n",
       "    </tr>\n",
       "    <tr>\n",
       "      <th>5</th>\n",
       "      <td>California</td>\n",
       "      <td>CA</td>\n",
       "      <td>Sacramento</td>\n",
       "      <td>[95814, 95815, 95816, 95817, 95818, 95819, 958...</td>\n",
       "      <td>38.580255</td>\n",
       "      <td>-121.49125</td>\n",
       "    </tr>\n",
       "    <tr>\n",
       "      <th>6</th>\n",
       "      <td>Colorado</td>\n",
       "      <td>CO</td>\n",
       "      <td>Denver</td>\n",
       "      <td>[80202, 80203, 80204, 80205, 80206, 80207, 802...</td>\n",
       "      <td>39.751586</td>\n",
       "      <td>-104.99699</td>\n",
       "    </tr>\n",
       "    <tr>\n",
       "      <th>7</th>\n",
       "      <td>Connecticut</td>\n",
       "      <td>CT</td>\n",
       "      <td>Hartford</td>\n",
       "      <td>[6103, 6105, 6106, 6112, 6114, 6120]</td>\n",
       "      <td>41.767049</td>\n",
       "      <td>-72.67433</td>\n",
       "    </tr>\n",
       "    <tr>\n",
       "      <th>8</th>\n",
       "      <td>Delaware</td>\n",
       "      <td>DE</td>\n",
       "      <td>Dover</td>\n",
       "      <td>[19901, 19904]</td>\n",
       "      <td>39.16426</td>\n",
       "      <td>-75.51163</td>\n",
       "    </tr>\n",
       "    <tr>\n",
       "      <th>9</th>\n",
       "      <td>Florida</td>\n",
       "      <td>FL</td>\n",
       "      <td>Tallahassee</td>\n",
       "      <td>[32301, 32303, 32304, 32308, 32310, 32311, 323...</td>\n",
       "      <td>30.431283</td>\n",
       "      <td>-84.26903</td>\n",
       "    </tr>\n",
       "    <tr>\n",
       "      <th>10</th>\n",
       "      <td>Georgia</td>\n",
       "      <td>GA</td>\n",
       "      <td>Atlanta</td>\n",
       "      <td>[30303, 30305, 30306, 30307, 30308, 30309, 303...</td>\n",
       "      <td>33.752856</td>\n",
       "      <td>-84.39013</td>\n",
       "    </tr>\n",
       "    <tr>\n",
       "      <th>11</th>\n",
       "      <td>Hawaii</td>\n",
       "      <td>HI</td>\n",
       "      <td>Honolulu</td>\n",
       "      <td>[96813, 96814, 96815, 96816, 96817, 96818, 968...</td>\n",
       "      <td>21.313033</td>\n",
       "      <td>-157.85615</td>\n",
       "    </tr>\n",
       "    <tr>\n",
       "      <th>12</th>\n",
       "      <td>Idaho</td>\n",
       "      <td>ID</td>\n",
       "      <td>Boise</td>\n",
       "      <td>[83702, 83703, 83704, 83705, 83706, 83709, 837...</td>\n",
       "      <td>43.627734</td>\n",
       "      <td>-116.20756</td>\n",
       "    </tr>\n",
       "    <tr>\n",
       "      <th>13</th>\n",
       "      <td>Illinois</td>\n",
       "      <td>IL</td>\n",
       "      <td>Springfield</td>\n",
       "      <td>[62701]</td>\n",
       "      <td>39.80095</td>\n",
       "      <td>-89.64999</td>\n",
       "    </tr>\n",
       "    <tr>\n",
       "      <th>14</th>\n",
       "      <td>Indiana</td>\n",
       "      <td>IN</td>\n",
       "      <td>Indianapolis</td>\n",
       "      <td>[46201, 46202, 46203, 46204, 46205, 46208, 462...</td>\n",
       "      <td>39.775125</td>\n",
       "      <td>-86.10839</td>\n",
       "    </tr>\n",
       "    <tr>\n",
       "      <th>15</th>\n",
       "      <td>Iowa</td>\n",
       "      <td>IA</td>\n",
       "      <td>Des Moines</td>\n",
       "      <td>[50309, 50310, 50312, 50313, 50314, 50315, 503...</td>\n",
       "      <td>41.585939</td>\n",
       "      <td>-93.62004</td>\n",
       "    </tr>\n",
       "    <tr>\n",
       "      <th>16</th>\n",
       "      <td>Kansas</td>\n",
       "      <td>KS</td>\n",
       "      <td>Topeka</td>\n",
       "      <td>[66603, 66604, 66605, 66606, 66607, 66608, 666...</td>\n",
       "      <td>39.0562</td>\n",
       "      <td>-95.67547</td>\n",
       "    </tr>\n",
       "    <tr>\n",
       "      <th>17</th>\n",
       "      <td>Kentucky</td>\n",
       "      <td>KY</td>\n",
       "      <td>Frankfort</td>\n",
       "      <td>[40601]</td>\n",
       "      <td>38.2009</td>\n",
       "      <td>-84.8733</td>\n",
       "    </tr>\n",
       "    <tr>\n",
       "      <th>18</th>\n",
       "      <td>Louisiana</td>\n",
       "      <td>LA</td>\n",
       "      <td>Baton Rouge</td>\n",
       "      <td>[70801, 70802, 70805, 70806, 70808, 70809, 708...</td>\n",
       "      <td>30.44884</td>\n",
       "      <td>-91.18633</td>\n",
       "    </tr>\n",
       "    <tr>\n",
       "      <th>19</th>\n",
       "      <td>Maine</td>\n",
       "      <td>ME</td>\n",
       "      <td>Augusta</td>\n",
       "      <td>[4330]</td>\n",
       "      <td>44.344406</td>\n",
       "      <td>-69.76345</td>\n",
       "    </tr>\n",
       "    <tr>\n",
       "      <th>20</th>\n",
       "      <td>Maryland</td>\n",
       "      <td>MD</td>\n",
       "      <td>Annapolis</td>\n",
       "      <td>[21403, 21405]</td>\n",
       "      <td>38.946462</td>\n",
       "      <td>-76.48358</td>\n",
       "    </tr>\n",
       "    <tr>\n",
       "      <th>21</th>\n",
       "      <td>Massachusetts</td>\n",
       "      <td>MA</td>\n",
       "      <td>Boston</td>\n",
       "      <td>[2108, 2109, 2110, 2111, 2113, 2114, 2115, 211...</td>\n",
       "      <td>42.357903</td>\n",
       "      <td>-71.06408</td>\n",
       "    </tr>\n",
       "    <tr>\n",
       "      <th>22</th>\n",
       "      <td>Michigan</td>\n",
       "      <td>MI</td>\n",
       "      <td>Lansing</td>\n",
       "      <td>[48906, 48910, 48911, 48912, 48915, 48917, 48933]</td>\n",
       "      <td>42.764167</td>\n",
       "      <td>-84.56153</td>\n",
       "    </tr>\n",
       "    <tr>\n",
       "      <th>23</th>\n",
       "      <td>Minnesota</td>\n",
       "      <td>MN</td>\n",
       "      <td>Saint Paul</td>\n",
       "      <td>[55101, 55102, 55103, 55104, 55105, 55106, 551...</td>\n",
       "      <td>44.964852</td>\n",
       "      <td>-93.08397</td>\n",
       "    </tr>\n",
       "    <tr>\n",
       "      <th>24</th>\n",
       "      <td>Mississippi</td>\n",
       "      <td>MS</td>\n",
       "      <td>Jackson</td>\n",
       "      <td>[39201, 39202, 39203, 39204, 39206, 39209, 392...</td>\n",
       "      <td>32.292396</td>\n",
       "      <td>-90.18328</td>\n",
       "    </tr>\n",
       "    <tr>\n",
       "      <th>25</th>\n",
       "      <td>Missouri</td>\n",
       "      <td>MO</td>\n",
       "      <td>Jefferson City</td>\n",
       "      <td>[65101, 65109]</td>\n",
       "      <td>38.535897</td>\n",
       "      <td>-92.13905</td>\n",
       "    </tr>\n",
       "    <tr>\n",
       "      <th>26</th>\n",
       "      <td>Montana</td>\n",
       "      <td>MT</td>\n",
       "      <td>Helena</td>\n",
       "      <td>[59601, 59602]</td>\n",
       "      <td>46.588803</td>\n",
       "      <td>-112.04193</td>\n",
       "    </tr>\n",
       "    <tr>\n",
       "      <th>27</th>\n",
       "      <td>Nebraska</td>\n",
       "      <td>NE</td>\n",
       "      <td>Lincoln</td>\n",
       "      <td>[68502, 68503, 68504, 68505, 68506, 68507, 685...</td>\n",
       "      <td>40.789051</td>\n",
       "      <td>-96.69589</td>\n",
       "    </tr>\n",
       "    <tr>\n",
       "      <th>28</th>\n",
       "      <td>Nevada</td>\n",
       "      <td>NV</td>\n",
       "      <td>Carson City</td>\n",
       "      <td>[89701, 89703, 89704, 89705]</td>\n",
       "      <td>39.147877</td>\n",
       "      <td>-119.74536</td>\n",
       "    </tr>\n",
       "    <tr>\n",
       "      <th>29</th>\n",
       "      <td>New Hampshire</td>\n",
       "      <td>NH</td>\n",
       "      <td>Concord</td>\n",
       "      <td>[3301]</td>\n",
       "      <td>43.213705</td>\n",
       "      <td>-71.53774</td>\n",
       "    </tr>\n",
       "    <tr>\n",
       "      <th>30</th>\n",
       "      <td>New Jersey</td>\n",
       "      <td>NJ</td>\n",
       "      <td>Trenton</td>\n",
       "      <td>[8608, 8618, 8625, 8638]</td>\n",
       "      <td>40.219158</td>\n",
       "      <td>-74.76481</td>\n",
       "    </tr>\n",
       "    <tr>\n",
       "      <th>31</th>\n",
       "      <td>New Mexico</td>\n",
       "      <td>NM</td>\n",
       "      <td>Santa Fe</td>\n",
       "      <td>[87505]</td>\n",
       "      <td>35.616662</td>\n",
       "      <td>-105.97926</td>\n",
       "    </tr>\n",
       "    <tr>\n",
       "      <th>32</th>\n",
       "      <td>New York</td>\n",
       "      <td>NY</td>\n",
       "      <td>Albany</td>\n",
       "      <td>[12202, 12204, 12206, 12207, 12208, 12209, 12210]</td>\n",
       "      <td>42.640129</td>\n",
       "      <td>-73.76061</td>\n",
       "    </tr>\n",
       "    <tr>\n",
       "      <th>33</th>\n",
       "      <td>North Carolina</td>\n",
       "      <td>NC</td>\n",
       "      <td>Raleigh</td>\n",
       "      <td>[27601, 27603, 27604, 27605, 27606, 27607, 276...</td>\n",
       "      <td>35.774451</td>\n",
       "      <td>-78.63274</td>\n",
       "    </tr>\n",
       "    <tr>\n",
       "      <th>34</th>\n",
       "      <td>North Dakota</td>\n",
       "      <td>ND</td>\n",
       "      <td>Bismarck</td>\n",
       "      <td>[58501, 58505]</td>\n",
       "      <td>46.83962</td>\n",
       "      <td>-100.7723</td>\n",
       "    </tr>\n",
       "    <tr>\n",
       "      <th>35</th>\n",
       "      <td>Ohio</td>\n",
       "      <td>OH</td>\n",
       "      <td>Columbus</td>\n",
       "      <td>[43201, 43202, 43203, 43204, 43205, 43206, 432...</td>\n",
       "      <td>39.990764</td>\n",
       "      <td>-83.00117</td>\n",
       "    </tr>\n",
       "    <tr>\n",
       "      <th>36</th>\n",
       "      <td>Oklahoma</td>\n",
       "      <td>OK</td>\n",
       "      <td>Oklahoma City</td>\n",
       "      <td>[73102, 73103, 73104, 73105, 73106, 73107, 731...</td>\n",
       "      <td>35.47156</td>\n",
       "      <td>-97.52036</td>\n",
       "    </tr>\n",
       "    <tr>\n",
       "      <th>37</th>\n",
       "      <td>Oregon</td>\n",
       "      <td>OR</td>\n",
       "      <td>Salem</td>\n",
       "      <td>[97301, 97302, 97304, 97306]</td>\n",
       "      <td>44.926644</td>\n",
       "      <td>-122.98694</td>\n",
       "    </tr>\n",
       "    <tr>\n",
       "      <th>38</th>\n",
       "      <td>Pennsylvania</td>\n",
       "      <td>PA</td>\n",
       "      <td>Harrisburg</td>\n",
       "      <td>[17101, 17102, 17104, 17110, 17112]</td>\n",
       "      <td>40.261839</td>\n",
       "      <td>-76.88279</td>\n",
       "    </tr>\n",
       "    <tr>\n",
       "      <th>39</th>\n",
       "      <td>Rhode Island</td>\n",
       "      <td>RI</td>\n",
       "      <td>Providence</td>\n",
       "      <td>[2903, 2906, 2908]</td>\n",
       "      <td>41.8208</td>\n",
       "      <td>-71.41306</td>\n",
       "    </tr>\n",
       "    <tr>\n",
       "      <th>40</th>\n",
       "      <td>South Carolina</td>\n",
       "      <td>SC</td>\n",
       "      <td>Columbia</td>\n",
       "      <td>[29201, 29202, 29203, 29204, 29205, 29206, 292...</td>\n",
       "      <td>33.998454</td>\n",
       "      <td>-81.03519</td>\n",
       "    </tr>\n",
       "    <tr>\n",
       "      <th>41</th>\n",
       "      <td>South Dakota</td>\n",
       "      <td>SD</td>\n",
       "      <td>Pierre</td>\n",
       "      <td>[57501]</td>\n",
       "      <td>44.425356</td>\n",
       "      <td>-100.29145</td>\n",
       "    </tr>\n",
       "    <tr>\n",
       "      <th>42</th>\n",
       "      <td>Tennessee</td>\n",
       "      <td>TN</td>\n",
       "      <td>Nashville</td>\n",
       "      <td>[37201, 37203, 37205, 37206, 37207, 37208, 372...</td>\n",
       "      <td>36.164556</td>\n",
       "      <td>-86.77738</td>\n",
       "    </tr>\n",
       "    <tr>\n",
       "      <th>43</th>\n",
       "      <td>Texas</td>\n",
       "      <td>TX</td>\n",
       "      <td>Austin</td>\n",
       "      <td>[78701, 78702, 78703, 78704, 78705, 78717, 787...</td>\n",
       "      <td>30.27127</td>\n",
       "      <td>-97.74103</td>\n",
       "    </tr>\n",
       "    <tr>\n",
       "      <th>44</th>\n",
       "      <td>Utah</td>\n",
       "      <td>UT</td>\n",
       "      <td>Salt Lake City</td>\n",
       "      <td>[84101, 84102, 84103, 84104, 84105, 84106, 841...</td>\n",
       "      <td>40.754746</td>\n",
       "      <td>-111.89875</td>\n",
       "    </tr>\n",
       "    <tr>\n",
       "      <th>45</th>\n",
       "      <td>Vermont</td>\n",
       "      <td>VT</td>\n",
       "      <td>Montpelier</td>\n",
       "      <td>[5602]</td>\n",
       "      <td>44.265633</td>\n",
       "      <td>-72.59686</td>\n",
       "    </tr>\n",
       "    <tr>\n",
       "      <th>46</th>\n",
       "      <td>Virginia</td>\n",
       "      <td>VA</td>\n",
       "      <td>Richmond</td>\n",
       "      <td>[23219, 23220, 23221, 23222, 23223, 23224, 232...</td>\n",
       "      <td>37.541046</td>\n",
       "      <td>-77.43536</td>\n",
       "    </tr>\n",
       "    <tr>\n",
       "      <th>47</th>\n",
       "      <td>Washington</td>\n",
       "      <td>WA</td>\n",
       "      <td>Olympia</td>\n",
       "      <td>[98501, 98502, 98512, 98513, 98516]</td>\n",
       "      <td>47.014718</td>\n",
       "      <td>-122.8819</td>\n",
       "    </tr>\n",
       "    <tr>\n",
       "      <th>48</th>\n",
       "      <td>West Virginia</td>\n",
       "      <td>WV</td>\n",
       "      <td>Charleston</td>\n",
       "      <td>[25301, 25304, 25311, 25312, 25314]</td>\n",
       "      <td>38.350647</td>\n",
       "      <td>-81.63028</td>\n",
       "    </tr>\n",
       "    <tr>\n",
       "      <th>49</th>\n",
       "      <td>Wisconsin</td>\n",
       "      <td>WI</td>\n",
       "      <td>Madison</td>\n",
       "      <td>[53703, 53704, 53705, 53706, 53711, 53714, 537...</td>\n",
       "      <td>43.078646</td>\n",
       "      <td>-89.37727</td>\n",
       "    </tr>\n",
       "    <tr>\n",
       "      <th>50</th>\n",
       "      <td>Wyoming</td>\n",
       "      <td>WY</td>\n",
       "      <td>Cheyenne</td>\n",
       "      <td>[82001, 82007, 82009]</td>\n",
       "      <td>41.141281</td>\n",
       "      <td>-104.80208</td>\n",
       "    </tr>\n",
       "  </tbody>\n",
       "</table>\n",
       "</div>"
      ]
     },
     "execution_count": 8,
     "metadata": {
     },
     "output_type": "execute_result"
    }
   ],
   "source": [
    "#Adding the columns together, and the latitude and longitude for Frankfort\n",
    "df3['Zipcode'] = pd.Series(ziplist, index = df3.index)\n",
    "df3['Latitude'] = pd.Series(latlist, index = df3.index)\n",
    "df3['Longitude'] = pd.Series(lonlist, index = df3.index)\n",
    "df3.loc[17, 'Latitude'] = 38.2009055\n",
    "df3.loc[17, 'Longitude'] = -84.8732835\n",
    "df3"
   ]
  },
  {
   "cell_type": "markdown",
   "metadata": {
    "collapsed": false
   },
   "source": [
    "### Problem 2: Minimum spanning trees"
   ]
  },
  {
   "cell_type": "code",
   "execution_count": 0,
   "metadata": {
    "collapsed": false
   },
   "outputs": [
   ],
   "source": [
   ]
  },
  {
   "cell_type": "markdown",
   "metadata": {
    "collapsed": false
   },
   "source": [
    "Grading criteria: correctness of code. Note: you will need to reference your answer to problem 1, but this problem will be graded independently (i.e., as if your answer to problem 1 is correct, whether it is or not)."
   ]
  },
  {
   "cell_type": "markdown",
   "metadata": {
    "collapsed": false
   },
   "source": [
    "William Stein announces the formation of CoCalc Fiber, a new broadband network which will connect the capital cities of the 48 continental United States (excluding Alaska and Hawaii) with a series of underground cables joining certain pairs of cities. Naturally, William wants to minimize the cost of building this network; he assumes that the cost of building a network link between some pairs of cities is proportional to the distance between those two cities."
   ]
  },
  {
   "cell_type": "markdown",
   "metadata": {
    "collapsed": false
   },
   "source": [
    "2a. Define a function that implements the [haversine formula](https://en.wikipedia.org/wiki/Haversine_formula): given two latitude-longitude pairs, compute the distance between those two points on Earth. Use kilometers instead of miles, because [the US was supposed to convert to the metric system in 1975](https://en.wikipedia.org/wiki/Metrication_in_the_United_States). Check your formula by computing the distance between New York City and San Diego, as reported by the [Great Circle Mapper](http://www.gcmap.com/) web site."
   ]
  },
  {
   "cell_type": "code",
   "execution_count": 9,
   "metadata": {
    "collapsed": false
   },
   "outputs": [
    {
     "data": {
      "text/plain": [
       "3928.02845687260"
      ]
     },
     "execution_count": 9,
     "metadata": {
     },
     "output_type": "execute_result"
    }
   ],
   "source": [
    "#Distance function given latitudes and longitudes of two points\n",
    "def dist(lat1,lon1,lat2,lon2):\n",
    "    lat1 = (lat1)*pi/180\n",
    "    lon1 = (lon1)*pi/180\n",
    "    lat2 = (lat2)*pi/180\n",
    "    lon2 = (lon2)*pi/180\n",
    "    return RR(2* 6371* arcsin( (sin((lat2 - lat1)/2)**2 + cos(lat1)*cos(lat2)*(sin((lon2 - lon1)/2)**2) )**0.5))\n",
    "dist(32.733556, -117.189666, 40.639926,-73.778694) #Should be ~3900 kilometers"
   ]
  },
  {
   "cell_type": "markdown",
   "metadata": {
    "collapsed": false
   },
   "source": [
    "2b. Construct a complete graph in which each vertex is labeled by the name of a state, and each edge is labeled by the distance between the capital cities."
   ]
  },
  {
   "cell_type": "code",
   "execution_count": 10,
   "metadata": {
    "collapsed": false
   },
   "outputs": [
   ],
   "source": [
    "#Removing Alaska, Hawaii\n",
    "df3 = df3.drop([2,11])\n",
    "df3 = df3.reset_index()"
   ]
  },
  {
   "cell_type": "code",
   "execution_count": 11,
   "metadata": {
    "collapsed": false
   },
   "outputs": [
   ],
   "source": [
    "#Distance function for two capital cities\n",
    "def dist1(state1,state2):\n",
    "    index1 = vertices.index(state1)\n",
    "    index2 = vertices.index(state2)\n",
    "    lat1,lon1 = df3.loc[index1, 'Latitude'], df3.loc[index1, 'Longitude']\n",
    "    lat2,lon2 = df3.loc[index2, 'Latitude'], df3.loc[index2, 'Longitude']\n",
    "    return dist(lat1,lon1,lat2,lon2)"
   ]
  },
  {
   "cell_type": "code",
   "execution_count": 12,
   "metadata": {
    "collapsed": false
   },
   "outputs": [
   ],
   "source": [
    "#Creating a list of states, a complete graph and relabelling vertices of the graph by the distances between each state\n",
    "vertices = [ str(df3['State'][i]) for i in range(0,48)]\n",
    "G = graphs.CompleteGraph(len(vertices))\n",
    "G.relabel(vertices)\n",
    "for u,v,_ in G.edges():\n",
    "    G.set_edge_label(u,v, dist1(u,v))"
   ]
  },
  {
   "cell_type": "markdown",
   "metadata": {
    "collapsed": false
   },
   "source": [
    "2c. Construct the minimal spanning tree corresponding to the optimal CoCalc Fiber network."
   ]
  },
  {
   "cell_type": "code",
   "execution_count": 13,
   "metadata": {
    "collapsed": false
   },
   "outputs": [
    {
     "data": {
      "text/plain": [
       "[('Alabama', 'Florida', 290.464505771591),\n",
       " ('Alabama', 'Georgia', 235.401837205328),\n",
       " ('Alabama', 'Mississippi', 363.943879208483),\n",
       " ('Arizona', 'New Mexico', 608.218170408967),\n",
       " ('Arkansas', 'Mississippi', 334.930159215873),\n",
       " ('California', 'Nevada', 163.804167327820),\n",
       " ('Colorado', 'New Mexico', 467.827463700896),\n",
       " ('Colorado', 'Utah', 596.066959733611),\n",
       " ('Colorado', 'Wyoming', 155.404616786441),\n",
       " ('Connecticut', 'New Jersey', 245.764132396774),\n",
       " ('Connecticut', 'New York', 132.023510004992),\n",
       " ('Connecticut', 'Rhode Island', 104.730287883573),\n",
       " ('Delaware', 'Maryland', 87.3488770982968),\n",
       " ('Delaware', 'New Jersey', 133.574091418784),\n",
       " ('Georgia', 'South Carolina', 310.913752743612),\n",
       " ('Georgia', 'Tennessee', 345.289179355967),\n",
       " ('Idaho', 'Montana', 463.853807680178),\n",
       " ('Idaho', 'Nevada', 578.867366070901),\n",
       " ('Idaho', 'Oregon', 558.522025225758),\n",
       " ('Idaho', 'Utah', 477.440688249369),\n",
       " ('Illinois', 'Indiana', 302.602669377097),\n",
       " ('Illinois', 'Missouri', 256.559447034262),\n",
       " ('Illinois', 'Wisconsin', 365.170821530894),\n",
       " ('Indiana', 'Kentucky', 205.021870912780),\n",
       " ('Iowa', 'Nebraska', 272.195778244353),\n",
       " ('Kansas', 'Missouri', 311.868746983862),\n",
       " ('Kansas', 'Nebraska', 211.417797679443),\n",
       " ('Kansas', 'Oklahoma', 430.705689324920),\n",
       " ('Kentucky', 'Ohio', 256.328321144289),\n",
       " ('Kentucky', 'Tennessee', 282.341441202274),\n",
       " ('Louisiana', 'Mississippi', 226.030007148609),\n",
       " ('Maine', 'New Hampshire', 189.988457483170),\n",
       " ('Maryland', 'Pennsylvania', 150.208177331960),\n",
       " ('Maryland', 'Virginia', 177.002099199001),\n",
       " ('Massachusetts', 'New Hampshire', 102.711082276713),\n",
       " ('Massachusetts', 'Rhode Island', 66.3030982404046),\n",
       " ('Michigan', 'Ohio', 334.726719858719),\n",
       " ('Minnesota', 'Wisconsin', 363.021888288697),\n",
       " ('Nebraska', 'South Dakota', 499.964883618775),\n",
       " ('New Hampshire', 'Vermont', 144.639651937895),\n",
       " ('North Carolina', 'South Carolina', 294.967855635065),\n",
       " ('North Carolina', 'Virginia', 223.590911324458),\n",
       " ('North Dakota', 'South Dakota', 271.043360010918),\n",
       " ('Ohio', 'West Virginia', 217.308265748075),\n",
       " ('Oklahoma', 'Texas', 578.612428692669),\n",
       " ('Oregon', 'Washington', 232.325038441383),\n",
       " ('South Dakota', 'Wyoming', 518.352973278333)]"
      ]
     },
     "execution_count": 13,
     "metadata": {
     },
     "output_type": "execute_result"
    }
   ],
   "source": [
    "#Weights and minimal spanning tree\n",
    "G.weighted(new = True)\n",
    "H= G.min_spanning_tree()\n",
    "H\n",
    "#plotting the spanning tree would not be enlightening"
   ]
  },
  {
   "cell_type": "markdown",
   "metadata": {
    "collapsed": false
   },
   "source": [
    "2d. William decides to scale back his plans and connect only the Western states (meaning Montana, Wyoming, Colorado, New Mexico, and all continental states west of these). Furthermore, he is now only going to build links between states which are adjacent (meaning that they share a land border, not just a corner); and all city pairs will now be treated as costing the same amount. Construct the minimal spanning tree corresponding to the optimal network."
   ]
  },
  {
   "cell_type": "code",
   "execution_count": 14,
   "metadata": {
    "collapsed": false
   },
   "outputs": [
    {
     "data": {
      "text/plain": [
       "[('Arizona', 'New Mexico', 608.218170408967),\n",
       " ('California', 'Nevada', 163.804167327820),\n",
       " ('Colorado', 'New Mexico', 467.827463700896),\n",
       " ('Colorado', 'Utah', 596.066959733611),\n",
       " ('Colorado', 'Wyoming', 155.404616786441),\n",
       " ('Idaho', 'Montana', 463.853807680178),\n",
       " ('Idaho', 'Nevada', 578.867366070901),\n",
       " ('Idaho', 'Oregon', 558.522025225758),\n",
       " ('Idaho', 'Utah', 477.440688249369),\n",
       " ('Oregon', 'Washington', 232.325038441383)]"
      ]
     },
     "execution_count": 14,
     "metadata": {
     },
     "output_type": "execute_result"
    }
   ],
   "source": [
    "#List of Western states and minimal spanning tree\n",
    "vertices1 = ['Montana','Wyoming','Colorado','New Mexico','Arizona','Utah','Idaho','Washington','Oregon','Nevada','California']\n",
    "G = graphs.CompleteGraph(len(vertices1))\n",
    "G.relabel(vertices1)\n",
    "for u,v,_ in G.edges():\n",
    "    G.set_edge_label(u,v, dist1(u,v))\n",
    "G.weighted(new = True)\n",
    "H= G.min_spanning_tree()\n",
    "H\n",
    "#h = Graph(H)\n",
    "#h.plot()"
   ]
  },
  {
   "cell_type": "markdown",
   "metadata": {
    "collapsed": false
   },
   "source": [
    "### Problem 3: \"Year-old bug ruined crypto!\""
   ]
  },
  {
   "cell_type": "markdown",
   "metadata": {
    "collapsed": false
   },
   "source": [
    "Grading criteria: correctness of code and explanations."
   ]
  },
  {
   "cell_type": "markdown",
   "metadata": {
    "collapsed": false
   },
   "source": [
    "The article \"[Socat slams backdoor, sparks thrilling whodunit -- Year-old bug ruined crypto](http://www.theregister.co.uk/2016/02/03/socat_backdoor_fix/)\" is about a potential backdoor in some networking software [called Socat](http://www.dest-unreach.org/socat/), in which \"the SSL implementation uses a non-prime number as its Diffie-Hellman $p$-parameter\".  See also [Socat? What? (timeline of events)](https://github.com/mimoo/Diffie-Hellman_Backdoor/blob/master/socat_reverse/README.md)."
   ]
  },
  {
   "cell_type": "markdown",
   "metadata": {
    "collapsed": false
   },
   "source": [
    "3a. Using the Chinese remainder theorem, explain what the problem is with using a nonprime parameter in Diffie-Hellman."
   ]
  },
  {
   "cell_type": "markdown",
   "metadata": {
    "collapsed": false
   },
   "source": [
    "An explanation of Diffie-Hellman can be found [here](https://mathworld.wolfram.com/Diffie-HellmanProtocol.html). Using the same notations, if $p$ is not prime, then we can write $p = n_1 \\cdot \\ldots \\cdot n_r$ where $n_i$ are pairwise coprime. Thus, finding $g^a (mod \\ p)$ can be reduced to finding $g^a (mod \\ n_i)$ for $1 \\leq i \\leq r$ which is relatively easier to compute."
   ]
  },
  {
   "cell_type": "markdown",
   "metadata": {
    "collapsed": false
   },
   "source": [
    "3b. The parameter $p$ in the Socat story is defined below. Use the `trial_division` function to find all prime factors of $p$ less than $10^6$."
   ]
  },
  {
   "cell_type": "code",
   "execution_count": 15,
   "metadata": {
    "collapsed": false
   },
   "outputs": [
   ],
   "source": [
    "p = 143319364394905942617148968085785991039146683740268996579566827015580969124702493833109074343879894586653465192222251909074832038151585448034731101690454685781999248641772509287801359980318348021809541131200479989220793925941518568143721972993251823166164933334796625008174851430377966394594186901123322297453"
   ]
  },
  {
   "cell_type": "code",
   "execution_count": 16,
   "metadata": {
    "collapsed": false
   },
   "outputs": [
    {
     "data": {
      "text/plain": [
       "[271,\n",
       " 13597,\n",
       " 38894884397634366007356454548332370646972724268802781973440208895542936165564656473524541403310393405820598366261673173802130771236325314878371830363723788045821711985461441675679316058246609104355161134470046705337593170498462616195650378975298117141144096886684800236261920005248055422089305813639519]"
      ]
     },
     "execution_count": 16,
     "metadata": {
     },
     "output_type": "execute_result"
    }
   ],
   "source": [
    "#Trial division\n",
    "factors =[]\n",
    "p1 = p\n",
    "while p1 > 1:\n",
    "    f = trial_division(p1, 10**6)\n",
    "    factors.append(f)\n",
    "    p1 = p1/f\n",
    "factors"
   ]
  },
  {
   "cell_type": "markdown",
   "metadata": {
    "collapsed": false
   },
   "source": [
    "3c. One theory that was floated about the Socat story is that the parameter $p$ had suffered from a transcription error, e.g., there is a prime that differs from $p$ in one decimal digit and this was what was intended. Write code to find all such primes. (Do not allow substituting a 0 for the leading digit.)"
   ]
  },
  {
   "cell_type": "code",
   "execution_count": 17,
   "metadata": {
    "collapsed": false
   },
   "outputs": [
    {
     "data": {
      "text/plain": [
       "[143319364394905942617148968085785991039146683740268996579566827015580969124702493833109074343879894586655465192222251909074832038151585448034731101690454685781999248641772509287801359980318348021809541131200479989220793925941518568143721972993251823166164933334796625008174851430377966394594186901123322297453L,\n",
       " 143319364394905942617148968085785991039146683740268996579566827015580969124702493833109074343879894586653465192222251909074832038151585448034731101690454685181999248641772509287801359980318348021809541131200479989220793925941518568143721972993251823166164933334796625008174851430377966394594186901123322297453L,\n",
       " 143319364394905942617148968085785991039146683740268996579566827015580969124702493833109074343879894586653465192222251909074832038151585448034731101690454685781999248641772509287831359980318348021809541131200479989220793925941518568143721972993251823166164933334796625008174851430377966394594186901123322297453L,\n",
       " 143319364394905942617148968085785991039146683740268996579566827015580969124702493833109074343879894586653465192222251909074832038151585448034731101690454685781999248641772509287801359980318348021809541131200479989220793925941518568743721972993251823166164933334796625008174851430377966394594186901123322297453L]"
      ]
     },
     "execution_count": 17,
     "metadata": {
     },
     "output_type": "execute_result"
    }
   ],
   "source": [
    "#Changing each digit by varying from 0-9 and noting that the leading digit can't be 0\n",
    "dec_prime = []\n",
    "for i in range(len(str(p))):\n",
    "    for j in range(10):\n",
    "        jstr = str(j)\n",
    "        if jstr != str(p)[i]:\n",
    "            plist = list(str(p))\n",
    "            plist[i] = jstr\n",
    "            p1 = int(''.join(plist))\n",
    "            if is_prime(p1) is True and len(str(p1)) == len(str(p)):\n",
    "                dec_prime.append(p1)\n",
    "dec_prime"
   ]
  },
  {
   "cell_type": "markdown",
   "metadata": {
    "collapsed": false
   },
   "source": [
    "3d. Repeat 3c but with binary digits instead of decimal digits."
   ]
  },
  {
   "cell_type": "code",
   "execution_count": 18,
   "metadata": {
    "collapsed": false
   },
   "outputs": [
    {
     "data": {
      "text/plain": [
       "[]"
      ]
     },
     "execution_count": 18,
     "metadata": {
     },
     "output_type": "execute_result"
    }
   ],
   "source": [
    "#Repeat with binary\n",
    "bin_prime = []\n",
    "for i in range(len(bin(p)[2:])):\n",
    "    for j in range(2):\n",
    "        jstr = str(j)\n",
    "        plist = list(bin(p)[2:])\n",
    "        if jstr != plist[i]:\n",
    "            plist[i] = jstr\n",
    "            p1 = int(''.join(plist),2)\n",
    "            if is_prime(p1) is True and len(str(p1)) == len(str(p)):\n",
    "                bin_prime.append(p1)\n",
    "bin_prime"
   ]
  },
  {
   "cell_type": "markdown",
   "metadata": {
    "collapsed": false
   },
   "source": [
    "### Problem 4: A backdoor to factoring"
   ]
  },
  {
   "cell_type": "markdown",
   "metadata": {
    "collapsed": false
   },
   "source": [
    "Grading criteria: correctness of code and explanations."
   ]
  },
  {
   "cell_type": "markdown",
   "metadata": {
    "collapsed": false
   },
   "source": [
    "4a. Explain, in your own words, the backdoor to factoring being described in this quote. (This topic is treated in more detail in Math 187B.)\n",
    "\n",
    "> \"We performed a large-scale study of RSA and DSA cryptographic keys in use on the Internet and discovered that significant numbers of keys are insecure due to insufficient randomness.  **We found that 5.57% of TLS hosts and 9.60% of SSH hosts share public keys in an apparently vulnerable manner...**\" -- see https://factorable.net/\n"
   ]
  },
  {
   "cell_type": "markdown",
   "metadata": {
    "collapsed": false
   },
   "source": [
    "In general, RSA and DSA cryptographic keys are supposed to be large numbers that are hard to factorise. However, if we can find a pair such that they share a common factor, e.g., their gcd, then we would reduce our problem into factoring smaller numbers by dividing by their gcd's. From the quote, there is a lack of randomness or some nontrivial factors shared by the keys."
   ]
  },
  {
   "cell_type": "markdown",
   "metadata": {
    "collapsed": false
   },
   "source": [
    "4b. Use this backdoor to factor the numbers $a$ and $b$ defined below."
   ]
  },
  {
   "cell_type": "markdown",
   "metadata": {
    "collapsed": false
   },
   "source": [
    "a = 659481018095533082202091938200108415755014729057676791347712890248315591033900561408617722880031918351642894659648847446299804878752991957454382452262126117247899544055830787469355702640917\n",
    "\n",
    "b = 223986669883088680371243199849357901244618017803455583407479556994195127176620839487674896299802613306139834600384565144314609009904613010988914195091967322701239166323910725912324556645705719757"
   ]
  },
  {
   "cell_type": "code",
   "execution_count": 19,
   "metadata": {
    "collapsed": false
   },
   "outputs": [
    {
     "data": {
      "text/plain": [
       "(True, True)"
      ]
     },
     "execution_count": 19,
     "metadata": {
     },
     "output_type": "execute_result"
    }
   ],
   "source": [
    "a = 659481018095533082202091938200108415755014729057676791347712890248315591033900561408617722880031918351642894659648847446299804878752991957454382452262126117247899544055830787469355702640917\n",
    "\n",
    "b = 223986669883088680371243199849357901244618017803455583407479556994195127176620839487674896299802613306139834600384565144314609009904613010988914195091967322701239166323910725912324556645705719757\n",
    "\n",
    "p =gcd(a,b)\n",
    "a1 = int(a/p)\n",
    "b1 = int(b/p)\n",
    "is_prime(a1), is_prime(b1)"
   ]
  },
  {
   "cell_type": "markdown",
   "metadata": {
    "collapsed": false
   },
   "source": [
    "4c. Compare the size of $a$ and $b$ to the current state of the RSA Factoring Challenge. Would it have been feasible to factor them without the backdoor?"
   ]
  },
  {
   "cell_type": "code",
   "execution_count": 20,
   "metadata": {
    "collapsed": false
   },
   "outputs": [
    {
     "data": {
      "text/plain": [
       "(189, 195)"
      ]
     },
     "execution_count": 20,
     "metadata": {
     },
     "output_type": "execute_result"
    }
   ],
   "source": [
    "a2 = str(a)\n",
    "b2 = str(b)\n",
    "len(a2), len(b2)"
   ]
  },
  {
   "cell_type": "markdown",
   "metadata": {
    "collapsed": false
   },
   "source": [
    "According to [RSA Factoring Challenge](https://en.wikipedia.org/wiki/RSA_Factoring_Challenge), the numbers with (decimal) digits greater than 180 have been factored fairly recently (earliest in 2005) so it is relatively hard to factor them without the backdoor."
   ]
  },
  {
   "cell_type": "markdown",
   "metadata": {
    "collapsed": false
   },
   "source": [
    "### Problem 5: Primitive roots"
   ]
  },
  {
   "cell_type": "markdown",
   "metadata": {
    "collapsed": false
   },
   "source": [
    "Grading criteria: correctness of code and explanations."
   ]
  },
  {
   "cell_type": "markdown",
   "metadata": {
    "collapsed": false
   },
   "source": [
    "5a. Look up, then formulate in your own words, the statement of Artin's conjecture on primitive roots."
   ]
  },
  {
   "cell_type": "markdown",
   "metadata": {
    "collapsed": false
   },
   "source": [
    "(Artin's Conjecture) Let $a$ be an integer that is not $1,-1$ or a square number. Then there exists infintely many primes $p$ such that $a$ is a primitive root (mod $p$). Moreover, the density of $a$ being a primitive root modulo $p$ for all primes $p$ is independent of $a$ and is equal to Artin's constant $0.3739558136\\ldots$."
   ]
  },
  {
   "cell_type": "markdown",
   "metadata": {
    "collapsed": false
   },
   "source": [
    "5b. Compute, to at least five decimal places, the prediction made by Artin's conjecture for the probability that 2 is a primitive root modulo a random prime $p$."
   ]
  },
  {
   "cell_type": "code",
   "execution_count": 21,
   "metadata": {
    "collapsed": false,
    "scrolled": true
   },
   "outputs": [
    {
     "data": {
      "text/plain": [
       "0.37395948446710636"
      ]
     },
     "execution_count": 21,
     "metadata": {
     },
     "output_type": "execute_result"
    }
   ],
   "source": [
    "#Computing the predicted value, should match Artin's constant\n",
    "c = 1\n",
    "for i in prime_range(10000): \n",
    "    p = i\n",
    "    c = c*(1 - 1/(p*(p-1)))\n",
    "float(c)"
   ]
  },
  {
   "cell_type": "markdown",
   "metadata": {
    "collapsed": false
   },
   "source": [
    "5c. Write a function that, given an input $n$, computes the probability that 2 is a primitive root modulo a random prime less than $n$."
   ]
  },
  {
   "cell_type": "code",
   "execution_count": 1,
   "metadata": {
    "collapsed": false
   },
   "outputs": [
   ],
   "source": [
    "def prim(n):\n",
    "    i = 3\n",
    "    j = 0\n",
    "    k = len(prime_range(3,n))\n",
    "    while i < n:\n",
    "        if primitive_root(i) == 2:\n",
    "            j += 1\n",
    "        i = next_prime(i)\n",
    "    return RR(j)/RR(k)"
   ]
  },
  {
   "cell_type": "markdown",
   "metadata": {
    "collapsed": false
   },
   "source": [
    "5d. Make a plot of your answer to 5c for $n$ up to at least $10^6$, with at least 10 sample points (of your choice). Use a logarithmic scale on the $x$-axis."
   ]
  },
  {
   "cell_type": "code",
   "execution_count": 2,
   "metadata": {
    "collapsed": false
   },
   "outputs": [
   ],
   "source": [
    "#Choosing suitablle points so that the points appear to be evenly distributed on the x-axis\n",
    "prim_prob = [ 100, 300, 1000, 3000, 10000, 40000, 100000, 300000, 1000000, 3000000, 10000000]\n",
    "pts = [ (n, prim(n)) for n in prim_prob]"
   ]
  },
  {
   "cell_type": "code",
   "execution_count": 3,
   "metadata": {
    "collapsed": false
   },
   "outputs": [
    {
     "data": {
      "image/png": "[encoded data removed]"
     },
     "execution_count": 3,
     "metadata": {
     },
     "output_type": "execute_result"
    }
   ],
   "source": [
    "#Choice of plotting only the points/ connecting them/ line of best fit/ etc.\n",
    "list_plot(pts, scale='semilogx')"
   ]
  },
  {
   "cell_type": "markdown",
   "metadata": {
    "collapsed": false
   },
   "source": [
    "### Problem 6: Graphs and number theory"
   ]
  },
  {
   "cell_type": "markdown",
   "metadata": {
    "collapsed": false
   },
   "source": [
    "Grading criteria: correctness of code."
   ]
  },
  {
   "cell_type": "markdown",
   "metadata": {
    "collapsed": false
   },
   "source": [
    "6a. Read the definition of a [Paley graph](https://en.wikipedia.org/wiki/Paley_graph), then write a function that, given a prime $p$ congruent to 1 modulo 4, constructs the Paley graph associated to that prime. (There also exist Paley graphs associated to prime powers, but your function need not construct those.)"
   ]
  },
  {
   "cell_type": "code",
   "execution_count": 4,
   "metadata": {
    "collapsed": false
   },
   "outputs": [
   ],
   "source": [
    "#Sage already has a function for this: graphs.PaleyGraph(p)\n",
    "def paley(p):\n",
    "    if is_prime(p) and mod(p,4) ==1:\n",
    "        M = Matrix(p, p, lambda i,j: legendre_symbol(i-j,p))\n",
    "        for i in range(p):\n",
    "            for j in range(p):\n",
    "                if M[i,j] == -1:\n",
    "                    M[i,j] = 0\n",
    "        return Graph(M)\n",
    "    else:\n",
    "        print('Input must be a prime congruent to 1 modulo 4')"
   ]
  },
  {
   "cell_type": "markdown",
   "metadata": {
    "collapsed": false
   },
   "source": [
    "6b. Using your answer to 6a for $p=13$ and the [Paley construction](https://en.wikipedia.org/wiki/Paley_construction), construct (but do not print) a $28 \\times 28$ which achieves the [Hadamard determinant bound](https://en.wikipedia.org/wiki/Hadamard%27s_inequality)."
   ]
  },
  {
   "cell_type": "code",
   "execution_count": 5,
   "metadata": {
    "collapsed": false,
    "scrolled": true
   },
   "outputs": [
   ],
   "source": [
    "#Constructs the Q matrix\n",
    "Q = paley(13).adjacency_matrix()\n",
    "for i in range(13):\n",
    "    for j in range(13):\n",
    "        if i != j and Q[i,j] == 0:\n",
    "            Q[i,j] = -1\n",
    "\n",
    "#Paley construction II\n",
    "l = [1]*13\n",
    "j = vector(l)\n",
    "M = zero_matrix(14)\n",
    "M[0,1:] = j.row()\n",
    "M[1:,0] = j.column()\n",
    "M[1:,1:] = Q\n",
    "\n",
    "\n",
    "#Replacement process\n",
    "i1 = matrix([[1,-1],[-1,-1]])\n",
    "i2 = matrix([[1,1],[1,-1]])\n",
    "HadMat = zero_matrix(28)\n",
    "for i in range(14):\n",
    "    for j in range(14):\n",
    "        if M[i,j] == 0:\n",
    "            HadMat[2*i:2*i + 2, 2*j:2*j + 2] = i1\n",
    "        elif M[i,j] == 1:\n",
    "            HadMat[2*i:2*i + 2, 2*j:2*j + 2] = i2\n",
    "        elif M[i,j] == -1:\n",
    "            HadMat[2*i:2*i + 2, 2*j:2*j + 2] = -i2"
   ]
  },
  {
   "cell_type": "markdown",
   "metadata": {
    "collapsed": false
   },
   "source": [
    "6c. Check that your answer to 6b actually does achieve the Hadamard bound."
   ]
  },
  {
   "cell_type": "code",
   "execution_count": 6,
   "metadata": {
    "collapsed": false
   },
   "outputs": [
    {
     "data": {
      "text/plain": [
       "1.82059119829943e20"
      ]
     },
     "execution_count": 6,
     "metadata": {
     },
     "output_type": "execute_result"
    }
   ],
   "source": [
    "RR(prod(norm(HadMat[:,i]) for i in range(28)))"
   ]
  },
  {
   "cell_type": "code",
   "execution_count": 7,
   "metadata": {
    "collapsed": false
   },
   "outputs": [
    {
     "data": {
      "text/plain": [
       "1.82059119829943e20"
      ]
     },
     "execution_count": 7,
     "metadata": {
     },
     "output_type": "execute_result"
    }
   ],
   "source": [
    "RR(HadMat.det())"
   ]
  },
  {
   "cell_type": "code",
   "execution_count": 8,
   "metadata": {
    "collapsed": false
   },
   "outputs": [
    {
     "data": {
      "text/plain": [
       "1.82059119829943e20"
      ]
     },
     "execution_count": 8,
     "metadata": {
     },
     "output_type": "execute_result"
    }
   ],
   "source": [
    "#Sage has a function for Hadamard matrix of Paley II\n",
    "RR(sage.combinat.matrices.hadamard_matrix.hadamard_matrix_paleyII(28).det())"
   ]
  }
 ],
 "metadata": {
  "kernelspec": {
   "display_name": "SageMath 8.1",
   "name": "sage-8.1"
  },
  "language_info": {
   "codemirror_mode": {
    "name": "ipython",
    "version": 2
   },
   "file_extension": ".py",
   "mimetype": "text/x-python",
   "name": "python",
   "nbconvert_exporter": "python",
   "pygments_lexer": "ipython2",
   "version": "2.7.14"
  }
 },
 "nbformat": 4,
 "nbformat_minor": 0
}