{
 "cells": [
  {
   "cell_type": "markdown",
   "metadata": {
    "collapsed": false
   },
   "source": [
    "## Math 157: Intro to Mathematical Software\n",
    "## UC San Diego, winter 2018"
   ]
  },
  {
   "cell_type": "markdown",
   "metadata": {
    "collapsed": false
   },
   "source": [
    "## Homework 3: due February 2, 2018"
   ]
  },
  {
   "cell_type": "markdown",
   "metadata": {
    "collapsed": false
   },
   "source": [
    "Please enter all answers within this notebook unless otherwise specified. As usual, don't forget to cite sources and collaborators.\n",
    "\n",
    "Through this problem set, use the SageMath 8.1 kernel unless otherwise specified."
   ]
  },
  {
   "cell_type": "markdown",
   "metadata": {
    "collapsed": false
   },
   "source": [
    "### Problem 1: Gradient vector fields"
   ]
  },
  {
   "cell_type": "markdown",
   "metadata": {
    "collapsed": false
   },
   "source": [
    "Grading criterion: correctness of code."
   ]
  },
  {
   "cell_type": "markdown",
   "metadata": {
    "collapsed": false
   },
   "source": [
    "1a. Compute the gradient of $f(x,y) = 3\\sin(x) - 2\\cos(2y) - x - y$."
   ]
  },
  {
   "cell_type": "code",
   "execution_count": 0,
   "metadata": {
    "collapsed": false
   },
   "outputs": [
   ],
   "source": [
   ]
  },
  {
   "cell_type": "markdown",
   "metadata": {
    "collapsed": false
   },
   "source": [
    "1b. Plot the 2-dimensional vector field defined by the gradient of $f$ in the rectangle $(-2,-2) \\leq (x,y) \\leq (2,2)$."
   ]
  },
  {
   "cell_type": "code",
   "execution_count": 0,
   "metadata": {
    "collapsed": false
   },
   "outputs": [
   ],
   "source": [
   ]
  },
  {
   "cell_type": "markdown",
   "metadata": {
    "collapsed": false
   },
   "source": [
    "### Problem 2: 3D plotting"
   ]
  },
  {
   "cell_type": "markdown",
   "metadata": {
    "collapsed": false
   },
   "source": [
    "Grading criterion: correctness of code."
   ]
  },
  {
   "cell_type": "markdown",
   "metadata": {
    "collapsed": false
   },
   "source": [
    "2a. Draw a 3D plot of a torus."
   ]
  },
  {
   "cell_type": "code",
   "execution_count": 0,
   "metadata": {
    "collapsed": false
   },
   "outputs": [
   ],
   "source": [
   ]
  },
  {
   "cell_type": "markdown",
   "metadata": {
    "collapsed": false
   },
   "source": [
    "2b. Draw a single 3D plot containing the five regular polytopes in it: tetrahedron, cube, octahedron, dodecahedron, icosahedron.  All five must be visible."
   ]
  },
  {
   "cell_type": "code",
   "execution_count": 0,
   "metadata": {
    "collapsed": false
   },
   "outputs": [
   ],
   "source": [
   ]
  },
  {
   "cell_type": "markdown",
   "metadata": {
    "collapsed": false
   },
   "source": [
    "2c. Draw a 3D plot of the [Mexican hat function](https://en.wikipedia.org/wiki/Mexican_hat_wavelet). Try to choose the parameter $\\sigma$ to get an authentic \"sombrero\" look."
   ]
  },
  {
   "cell_type": "code",
   "execution_count": 0,
   "metadata": {
    "collapsed": false
   },
   "outputs": [
   ],
   "source": [
   ]
  },
  {
   "cell_type": "markdown",
   "metadata": {
    "collapsed": false
   },
   "source": [
    "### Problem 3: MATLAB (and Octave) vs. Sage"
   ]
  },
  {
   "cell_type": "markdown",
   "metadata": {
    "collapsed": false
   },
   "source": [
    "Grading criterion: correctness of code."
   ]
  },
  {
   "cell_type": "markdown",
   "metadata": {
    "collapsed": false
   },
   "source": [
    "This exercise refers to the [Math 18 MATLAB exercise set](http://www.math.ucsd.edu/~math18/)."
   ]
  },
  {
   "cell_type": "markdown",
   "metadata": {
    "collapsed": false
   },
   "source": [
    "3a. Do MATLAB exercise 4.5 twice: once using Octave, and a second time using Sage. (For this problem, you will need to switch the kernel between Octave and SageMath.)"
   ]
  },
  {
   "cell_type": "raw",
   "metadata": {
    "collapsed": false
   },
   "source": [
    "your Octave answer goes here"
   ]
  },
  {
   "cell_type": "raw",
   "metadata": {
    "collapsed": false
   },
   "source": [
    "your SageMath answer goes here"
   ]
  },
  {
   "cell_type": "markdown",
   "metadata": {
    "collapsed": false
   },
   "source": [
    "3b. Repeat with MATLAB exercise 5.6, using `numpy` to obtain the analogue of MATLAB's least squares functionality."
   ]
  },
  {
   "cell_type": "raw",
   "metadata": {
    "collapsed": false
   },
   "source": [
    "your Octave answer goes here"
   ]
  },
  {
   "cell_type": "code",
   "execution_count": 0,
   "metadata": {
    "collapsed": false
   },
   "outputs": [
   ],
   "source": [
    "your SageMath answer goes here"
   ]
  },
  {
   "cell_type": "markdown",
   "metadata": {
    "collapsed": false
   },
   "source": [
    "### Problem 4: Eigenvectors and eigenvalues"
   ]
  },
  {
   "cell_type": "markdown",
   "metadata": {
    "collapsed": false
   },
   "source": [
    "Grading criteria: correctness of code and explanations."
   ]
  },
  {
   "cell_type": "markdown",
   "metadata": {
    "collapsed": false
   },
   "source": [
    "Let $M$ be the following matrix with rational entries:\n",
    "$$\n",
    "M = \\left(\\begin{array}{rrrr}\n",
    "\\frac{1}{2} & 0 & -1 & 0 \\\\\n",
    "1 & \\frac{1}{2} & 1 & 1 \\\\\n",
    "0 & 1 & -1 & -1 \\\\\n",
    "2 & 1 & -2 & 1\n",
    "\\end{array}\\right)\n",
    "$$"
   ]
  },
  {
   "cell_type": "markdown",
   "metadata": {
    "collapsed": false
   },
   "source": [
    "4a. State the Cayley-Hamilton theorem, then use Sage to verify that it holds for $M$."
   ]
  },
  {
   "cell_type": "code",
   "execution_count": 0,
   "metadata": {
    "collapsed": false
   },
   "outputs": [
   ],
   "source": [
   ]
  },
  {
   "cell_type": "markdown",
   "metadata": {
    "collapsed": false
   },
   "source": [
    "4b. Compute the eigenvalues and eigenvectors of $M$, and verify (using numerical approximations) that each eigenvector is indeed an eigenvector with the specified eigenvalue."
   ]
  },
  {
   "cell_type": "code",
   "execution_count": 0,
   "metadata": {
    "collapsed": false
   },
   "outputs": [
   ],
   "source": [
   ]
  },
  {
   "cell_type": "markdown",
   "metadata": {
    "collapsed": false
   },
   "source": [
    "4c. State the relationship between the characteristic polynomial, the determinant, and the eigenvalues of a matrix; then verify numerically that this holds for $M$."
   ]
  },
  {
   "cell_type": "code",
   "execution_count": 0,
   "metadata": {
    "collapsed": false
   },
   "outputs": [
   ],
   "source": [
   ]
  },
  {
   "cell_type": "code",
   "execution_count": 0,
   "metadata": {
    "collapsed": false
   },
   "outputs": [
   ],
   "source": [
   ]
  },
  {
   "cell_type": "markdown",
   "metadata": {
    "collapsed": false
   },
   "source": [
    "### Problem 5: Hilbert matrices and numerical stability"
   ]
  },
  {
   "cell_type": "markdown",
   "metadata": {
    "collapsed": false
   },
   "source": [
    "Grading criterion: correctness of code and thoroughness of explanation."
   ]
  },
  {
   "cell_type": "markdown",
   "metadata": {
    "collapsed": false
   },
   "source": [
    "5a. Define a Python function `f`, which on the input of a positive integer $n$, returns the $n \\times n$ Sage matrix over the rational numbers \n",
    "$$\n",
    "H_{ij} = \\frac{1}{i+j-1} \\qquad (i,j=1,\\dots,n).\n",
    "$$\n",
    "See below for a sample output.\n",
    "Hint: remember that Sage, like Python, starts indexing with 0 instead of 1."
   ]
  },
  {
   "cell_type": "code",
   "execution_count": 29,
   "metadata": {
    "collapsed": false
   },
   "outputs": [
    {
     "ename": "IndentationError",
     "evalue": "expected an indented block (<ipython-input-29-a3ab5dd50729>, line 2)",
     "output_type": "error",
     "traceback": [
      "\u001b[0;36m  File \u001b[0;32m\"<ipython-input-29-a3ab5dd50729>\"\u001b[0;36m, line \u001b[0;32m2\u001b[0m\n\u001b[0;31m    # your code goes here\u001b[0m\n\u001b[0m                         ^\u001b[0m\n\u001b[0;31mIndentationError\u001b[0m\u001b[0;31m:\u001b[0m expected an indented block\n"
     ]
    }
   ],
   "source": [
    "def f(n):\n",
    "    # your code goes here"
   ]
  },
  {
   "cell_type": "raw",
   "metadata": {
    "collapsed": false
   },
   "source": [
    "## Sample output of f(3):\n",
    "[  1 1/2 1/3]\n",
    "[1/2 1/3 1/4]\n",
    "[1/3 1/4 1/5]"
   ]
  },
  {
   "cell_type": "markdown",
   "metadata": {
    "collapsed": false
   },
   "source": [
    "5b. Write Sage code to compute the inverse of `f(25)`, print out the top left entry (not the whole matrix), and verify that the whole answer agrees with the [formula in Wikipedia](https://en.wikipedia.org/wiki/Hilbert_matrix)."
   ]
  },
  {
   "cell_type": "code",
   "execution_count": 0,
   "metadata": {
    "collapsed": false
   },
   "outputs": [
   ],
   "source": [
   ]
  },
  {
   "cell_type": "markdown",
   "metadata": {
    "collapsed": false
   },
   "source": [
    "5c. Use the `change_ring` method to redo the computation of the inverse of `f(25)` over the ring `RR` (i.e., using floating-point real numbers with double precision == 53 bits), agian printing out the top left entry."
   ]
  },
  {
   "cell_type": "code",
   "execution_count": 0,
   "metadata": {
    "collapsed": false
   },
   "outputs": [
   ],
   "source": [
   ]
  },
  {
   "cell_type": "markdown",
   "metadata": {
    "collapsed": false
   },
   "source": [
    "5d. In as much detail as you can, explain what you have just observed. You may want to compute the determinant of `f(25)` and/or read about [numerical stability](https://en.wikipedia.org/wiki/Numerical_stability)."
   ]
  },
  {
   "cell_type": "code",
   "execution_count": 0,
   "metadata": {
    "collapsed": false
   },
   "outputs": [
   ],
   "source": [
   ]
  },
  {
   "cell_type": "markdown",
   "metadata": {
    "collapsed": false
   },
   "source": [
    "### Problem 6: Linear algebra over Q"
   ]
  },
  {
   "cell_type": "markdown",
   "metadata": {
    "collapsed": false
   },
   "source": [
    "Grading criteria: correctness of code and thoroughness of explanation."
   ]
  },
  {
   "cell_type": "markdown",
   "metadata": {
    "collapsed": false
   },
   "source": [
    "6a. Explain in detail what the following code does and how it is being done. Assume that the input `M` is a matrix with entries in `QQ`."
   ]
  },
  {
   "cell_type": "code",
   "execution_count": 0,
   "metadata": {
    "collapsed": false
   },
   "outputs": [
   ],
   "source": [
    "def f(M):\n",
    "    M = copy(M) # replace M with a copy to avoid clobbering the original\n",
    "    n = M.dimensions()[0]\n",
    "    if n != M.dimensions()[1]: raise ValueError\n",
    "    for i in range(n):\n",
    "        j = i\n",
    "        while j<n and M[j,i] == 0: j += 1\n",
    "        if j==n: return(0)\n",
    "        if i<j:\n",
    "            M.swap_rows(i,j)\n",
    "            M.rescale_row(i, -1)\n",
    "        for k in range(i+1,n):\n",
    "            M.add_multiple_of_row(k,i,-M[k,i]/M[i,i])\n",
    "    return(prod(M[i,i] for i in range(n)))"
   ]
  },
  {
   "cell_type": "code",
   "execution_count": 0,
   "metadata": {
    "collapsed": false
   },
   "outputs": [
   ],
   "source": [
   ]
  },
  {
   "cell_type": "markdown",
   "metadata": {
    "collapsed": false
   },
   "source": [
    "6b. Define a Python function `g` that, on input a positive integer `n`, returns an $n \\times n$ matrix in which each entry is a Sage integer is chosen uniformly at random among 0 and 1. (Hint: use the `randint` function, but read the docstring carefully!) \n",
    "\n",
    "Then check that on the output of `g(25)`, the function `f` agrees with the native Sage way of doing the same computation."
   ]
  },
  {
   "cell_type": "code",
   "execution_count": 0,
   "metadata": {
    "collapsed": false
   },
   "outputs": [
   ],
   "source": [
    "def g(n):\n",
    "    # your code goes here"
   ]
  },
  {
   "cell_type": "code",
   "execution_count": 0,
   "metadata": {
    "collapsed": false
   },
   "outputs": [
   ],
   "source": [
   ]
  },
  {
   "cell_type": "markdown",
   "metadata": {
    "collapsed": false
   },
   "source": [
    "6c. Define the *binary height* of a nonzero rational number $\\frac{r}{s}$, written in lowest terms, to be the quantity\n",
    "$$ \\left\\lfloor\\log_2 r \\right\\rfloor + 1 + \\left\\lfloor \\log_2 s \\right\\rfloor + 1.$$\n",
    "Use the function `binary_height` defined below to compute this.\n",
    "\n",
    "Take the code defining `f`, recopy it below, then modify it so that at the last step, instead of returning the product of the diagonal entries of `M`, it returns the maximum of the heights of the diagonal entries."
   ]
  },
  {
   "cell_type": "code",
   "execution_count": 0,
   "metadata": {
    "collapsed": false
   },
   "outputs": [
   ],
   "source": [
    "def binary_height(x):\n",
    "    return(x.numer().nbits() + x.denom().nbits())"
   ]
  },
  {
   "cell_type": "code",
   "execution_count": 0,
   "metadata": {
    "collapsed": false
   },
   "outputs": [
   ],
   "source": [
    "def f_modified(M):\n",
    "    # your modified code goes here"
   ]
  },
  {
   "cell_type": "markdown",
   "metadata": {
    "collapsed": false
   },
   "source": [
    "6d. Explain, in words, the output of the following code. (It should run without errors!)"
   ]
  },
  {
   "cell_type": "code",
   "execution_count": 0,
   "metadata": {
    "collapsed": false
   },
   "outputs": [
   ],
   "source": [
    "M = g(25).change_ring(QQ)\n",
    "print(binary_height(f(M)))\n",
    "print(f_modified(M))"
   ]
  },
  {
   "cell_type": "code",
   "execution_count": 0,
   "metadata": {
    "collapsed": false
   },
   "outputs": [
   ],
   "source": [
   ]
  },
  {
   "cell_type": "markdown",
   "metadata": {
    "collapsed": false
   },
   "source": [
    "6e. Sage does *not* use the method illustrated by the definition of `f` for matrices of integers or rational numbers; instead, it uses an approach based on the [Chinese remainder theorem](https://en.wikipedia.org/wiki/Chinese_remainder_theorem), in which one does the analogous computation modulo $p$ for a few primes $p$. Explain why you think this decision was made."
   ]
  },
  {
   "cell_type": "code",
   "execution_count": 0,
   "metadata": {
    "collapsed": false
   },
   "outputs": [
   ],
   "source": [
   ]
  }
 ],
 "metadata": {
  "kernelspec": {
   "display_name": "SageMath 8.1",
   "name": "sage-8.1"
  },
  "language_info": {
   "codemirror_mode": {
    "name": "ipython",
    "version": 2
   },
   "file_extension": ".py",
   "mimetype": "text/x-python",
   "name": "python",
   "nbconvert_exporter": "python",
   "pygments_lexer": "ipython2",
   "version": "2.7.14"
  }
 },
 "nbformat": 4,
 "nbformat_minor": 0
}