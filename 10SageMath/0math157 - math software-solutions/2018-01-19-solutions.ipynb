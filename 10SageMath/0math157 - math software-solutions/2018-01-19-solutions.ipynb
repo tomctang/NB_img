{
 "cells": [
  {
   "cell_type": "markdown",
   "metadata": {
    "collapsed": false
   },
   "source": [
    "## Math 157: Intro to Mathematical Software\n",
    "## UC San Diego, winter 2018; materials by Kiran S. Kedlaya"
   ]
  },
  {
   "cell_type": "markdown",
   "metadata": {
    "collapsed": false
   },
   "source": [
    "## Homework 1: due January 19, 2018"
   ]
  },
  {
   "cell_type": "markdown",
   "metadata": {
    "collapsed": false
   },
   "source": [
    "Please enter all answers within this notebook unless otherwise specified.\n",
    "\n",
    "Each problem's statement includes the criteria by which it will be graded. Correctness means in particular that all code that is supposed to execute must actually do so without errors! In addition, you may be marked off for not setting cells to the appropriate format (Code or Markdown), or for not answering textual questions in complete, grammatical English sentences with proper spelling and punctuation.\n",
    "\n",
    "Note: homework assignments may consist of variable numbers of problems, but the maximum possible scores will be renormalized to a common value for the computation of grades."
   ]
  },
  {
   "cell_type": "markdown",
   "metadata": {
    "collapsed": false
   },
   "source": [
    "## Problem 1: Comparison of programming languages"
   ]
  },
  {
   "cell_type": "markdown",
   "metadata": {
    "collapsed": false
   },
   "source": [
    "Grading criterion: correctness."
   ]
  },
  {
   "cell_type": "markdown",
   "metadata": {
    "collapsed": false
   },
   "source": [
    "1a. Explain the difference between 0-based arrays and 1-based arrays."
   ]
  },
  {
   "cell_type": "markdown",
   "metadata": {
    "collapsed": false
   },
   "source": [
    "In a 0-based array, the initial object is assigned the index 0. In a 1-based array, the initial object is assigned the index 1."
   ]
  },
  {
   "cell_type": "markdown",
   "metadata": {
    "collapsed": false
   },
   "source": [
    "1b. Explain the difference between \"pass by reference\" and \"pass by value\"."
   ]
  },
  {
   "cell_type": "markdown",
   "metadata": {
    "collapsed": false
   },
   "source": [
    "When a parameter is passed by *value* to a function, a copy is made. Any changes made to the parameter within the function are only made to that copy, so the original parameter is unchanged. When a parameter is passed by *reference* to a function, no copy is made. Any changes made to the parameter within the function are therefore also made outside that function.  "
   ]
  },
  {
   "cell_type": "markdown",
   "metadata": {
    "collapsed": false
   },
   "source": [
    "1c. Classify the following programming languages according to the criteria in parts a and b: Python, MATLAB, R, Javascript, Julia. For examples of the languages other than Python, see the Sage worksheet \"comparison.sagews\" in this folder."
   ]
  },
  {
   "cell_type": "markdown",
   "metadata": {
    "collapsed": false
   },
   "source": [
    "Python and Javascript are 0-based; MATLAB, R, and Julia are 1-based.\n",
    "Python, MATLAB, and R are pass by value; Javascript and Julia are pass by reference.\n",
    "To see this for MATLAB using the Sage worksheet \"comparison.sagews\", we note that to change the initial element of the array b we input \"b(1)=5\". We conclude that MATLAB is 1-based. We note that when b is changed, a is not changed, so we conclude that MATLAB is pass by value."
   ]
  },
  {
   "cell_type": "markdown",
   "metadata": {
    "collapsed": false
   },
   "source": [
    "References: \n",
    "https://en.wikipedia.org/wiki/Zero-based_numbering\n",
    "\n",
    "https://stackoverflow.com/questions/373419/whats-the-difference-between-passing-by-reference-vs-passing-by-value"
   ]
  },
  {
   "cell_type": "markdown",
   "metadata": {
    "collapsed": false
   },
   "source": [
    "## Problem 2: Truth values"
   ]
  },
  {
   "cell_type": "markdown",
   "metadata": {
    "collapsed": false
   },
   "source": [
    "Grading criterion: correctness and thoroughness."
   ]
  },
  {
   "cell_type": "markdown",
   "metadata": {
    "collapsed": false
   },
   "source": [
    "An expression `e` will be called *truthy* if `bool(e)` is True (i.e., if `if e: stuff` executes `stuff`); otherwise `e` is falsy."
   ]
  },
  {
   "cell_type": "markdown",
   "metadata": {
    "collapsed": false
   },
   "source": [
    "1a. Create a list `l` consisting of 10 different Python objects that are falsy. For correctness, your list must have the property that `a is b` evaluates to False whenever `a` and `b` are entries of the list in different positions. For thoroughness, the entries should look as different as possible. (Hint: `[]` is an example.)"
   ]
  },
  {
   "cell_type": "code",
   "execution_count": 1,
   "metadata": {
    "collapsed": false
   },
   "outputs": [
   ],
   "source": [
    "l = [None, False, 0, 0.0, 0j, [], {}, (), '', set()]  #insert ten objects here"
   ]
  },
  {
   "cell_type": "code",
   "execution_count": 2,
   "metadata": {
    "collapsed": false
   },
   "outputs": [
    {
     "name": "stdout",
     "output_type": "stream",
     "text": [
      "True\n",
      "True\n",
      "True\n"
     ]
    }
   ],
   "source": [
    "# Use this code to test correctness of your answer!\n",
    "print(len(l) == 10)\n",
    "print(all(not l[i] for i in range(10)))\n",
    "print(all(not (l[i] is l[j]) for i in range(10) for j in range(i+1,10)))"
   ]
  },
  {
   "cell_type": "markdown",
   "metadata": {
    "collapsed": false
   },
   "source": [
    "1b. In Python, \"is\" means \"identical objects\", whereas \"==\" can be much more subtle. Create a list `l` consisting of 5 tuples `(a,b)` for each of which `a==b` evaluates to True but `a is b` evaluates to False."
   ]
  },
  {
   "cell_type": "code",
   "execution_count": 4,
   "metadata": {
    "collapsed": false
   },
   "outputs": [
   ],
   "source": [
    "l = [([],[]),({},{}),(1,1.0),(1,2/2),(1,True)] #insert five objects here"
   ]
  },
  {
   "cell_type": "markdown",
   "metadata": {
    "collapsed": false
   },
   "source": [
    "1c. By analogy with the code snippet given in 1a, write a code snippet to verify correctness of your answer to 1b. That is, the code snippet should print one or more True/False values, all of which are True if and only if the answer is correct."
   ]
  },
  {
   "cell_type": "code",
   "execution_count": 6,
   "metadata": {
    "collapsed": false
   },
   "outputs": [
    {
     "name": "stdout",
     "output_type": "stream",
     "text": [
      "True\n",
      "True\n",
      "True\n"
     ]
    }
   ],
   "source": [
    "print(len(l) == 5)\n",
    "print(all((l[i][0]==l[i][1]) for i in range(5)))\n",
    "print(all(not (l[i][0] is l[i][1]) for i in range(5)))"
   ]
  },
  {
   "cell_type": "markdown",
   "metadata": {
    "collapsed": false
   },
   "source": [
    "References: https://stackoverflow.com/questions/39983695/what-is-truthy-and-falsy-in-python-how-is-it-different-from-true-and-false\n",
    "\n",
    "https://dbader.org/blog/difference-between-is-and-equals-in-python\n"
   ]
  },
  {
   "cell_type": "markdown",
   "metadata": {
    "collapsed": false
   },
   "source": [
    "## Problem 3: Flow control"
   ]
  },
  {
   "cell_type": "markdown",
   "metadata": {
    "collapsed": false
   },
   "source": [
    "Grading criteria: correctness of output."
   ]
  },
  {
   "cell_type": "markdown",
   "metadata": {
    "collapsed": false
   },
   "source": [
    "Write a function named `fizz_buzz` that accepts an integer `N` and for each integer `m` from `1` to `N`, prints 'Fizz' if `m` is divisible by 2 but not 3, prints 'Buzz' if `m` is divisible by 3 but not 2, prints 'FizzBuzz' if `m` is divisible by 2 and 3, and prints 'Moot' if none of the above."
   ]
  },
  {
   "cell_type": "code",
   "execution_count": 8,
   "metadata": {
    "collapsed": false
   },
   "outputs": [
   ],
   "source": [
    "def fizz_buzz(N):\n",
    "    for m in range(1,N+1): # Go through the integers from 1 to N one by one\n",
    "        if m%2 == 0 and m%3 != 0: # Check the various divisibility conditions using %\n",
    "            print('Fizz')\n",
    "        elif m%2 != 0 and m%3 == 0: # Use elif to make sure that for each integer, only one thing is printed \n",
    "            print('Buzz')\n",
    "        elif m%2 == 0 and m%3 == 0:\n",
    "            print('FizzBuzz')\n",
    "        else:\n",
    "            print('Moot')\n",
    "            "
   ]
  },
  {
   "cell_type": "code",
   "execution_count": 9,
   "metadata": {
    "collapsed": false
   },
   "outputs": [
    {
     "name": "stdout",
     "output_type": "stream",
     "text": [
      "Moot\n",
      "Fizz\n",
      "Buzz\n",
      "Fizz\n",
      "Moot\n",
      "FizzBuzz\n",
      "Moot\n"
     ]
    }
   ],
   "source": [
    "# Test your answer against the output below\n",
    "fizz_buzz(7)"
   ]
  },
  {
   "cell_type": "raw",
   "metadata": {
    "collapsed": false
   },
   "source": [
    "Moot\n",
    "Fizz\n",
    "Buzz\n",
    "Fizz\n",
    "Moot\n",
    "FizzBuzz\n",
    "Moot"
   ]
  },
  {
   "cell_type": "markdown",
   "metadata": {
    "collapsed": false
   },
   "source": [
    "## Problem 4: Better and worse"
   ]
  },
  {
   "cell_type": "markdown",
   "metadata": {
    "collapsed": false
   },
   "source": [
    "Grading criteria: correctness (of the code) and thoroughness (of the explanation)."
   ]
  },
  {
   "cell_type": "markdown",
   "metadata": {
    "collapsed": false
   },
   "source": [
    "4a. Read about *recursion* in Python. Then write two different functions that, on an input `N`, return the `N`th Fibonacci number: one using recursion, and one not."
   ]
  },
  {
   "cell_type": "code",
   "execution_count": 14,
   "metadata": {
    "collapsed": false
   },
   "outputs": [
   ],
   "source": [
    "def fib1(n): # Version with recursion\n",
    "    if n<1: # Check that the input is a positive integer\n",
    "        return \"Need n positive\"\n",
    "    elif n in [1,2]: # Base case\n",
    "        return 1\n",
    "    else: # Recursively call the function inside itself\n",
    "        return fib1(n-1)+fib1(n-2)"
   ]
  },
  {
   "cell_type": "code",
   "execution_count": 15,
   "metadata": {
    "collapsed": false
   },
   "outputs": [
   ],
   "source": [
    "def fib2(n): # Version without recursion\n",
    "    if n<1: # Check that the input is a positive integer\n",
    "        return \"Need n positive\"\n",
    "    elif n in [1,2]: # Base case\n",
    "        return 1\n",
    "    num0=1 # We need to be able to store three values at a time,\n",
    "    num1=1 # the two numbers that we'll be adding\n",
    "    num2=1 # and their sum\n",
    "    for _ in range(n-2): # Computing F_n requires n-2 additions\n",
    "        num0=num1 # Move the two largest known Fibonacci numbers down \n",
    "        num1=num2 \n",
    "        num2=num0+num1 # Compute their sum to get a larger number\n",
    "    return num2"
   ]
  },
  {
   "cell_type": "markdown",
   "metadata": {
    "collapsed": false
   },
   "source": [
    "4b. State an identity of Fibonacci numbers other than the defining recurrence $F_n = F_{n-1} + F_{n-2}$; use TeX symbols to format this correctly. Then write some code that tests this identity using your two functions."
   ]
  },
  {
   "cell_type": "markdown",
   "metadata": {
    "collapsed": false
   },
   "source": [
    "Sample identity: $F_n^2-F_{n+1}F_{n-1}=(-1)^{n-1}$\n",
    "\n",
    "Other identities can be found here: https://en.wikipedia.org/wiki/Fibonacci_number#Combinatorial_identities"
   ]
  },
  {
   "cell_type": "code",
   "execution_count": 33,
   "metadata": {
    "collapsed": false
   },
   "outputs": [
    {
     "name": "stdout",
     "output_type": "stream",
     "text": [
      "True\n"
     ]
    }
   ],
   "source": [
    "def fib_check(n):\n",
    "    if n<2:\n",
    "        return \"Need n at least 2\"\n",
    "    if (fib1(n)**2-fib1(n+1)*fib1(n-1))==(-1)**(n-1): # Check first program\n",
    "        fib1_works=True\n",
    "    else:\n",
    "        fib1_works=False\n",
    "    if fib2(n)**2-fib2(n+1)*fib2(n-1)==(-1)**(n-1): # Check second program\n",
    "        fib2_works=True\n",
    "    else:\n",
    "        fib2_works=False\n",
    "    if fib1_works and fib2_works: # If both programs worked, return True\n",
    "        return True\n",
    "    else:\n",
    "        return False\n",
    "        \n",
    "print(all(fib_check(n) for n in range(2,12)))\n",
    "    "
   ]
  },
  {
   "cell_type": "raw",
   "metadata": {
    "collapsed": false
   },
   "source": [
    "4c. Give as detailed an explanation of possible of why your non-recursive function is \"better\" than the recursive one. You may wish to do some online research for this, in which case please cite your sources."
   ]
  },
  {
   "cell_type": "markdown",
   "metadata": {
    "collapsed": false
   },
   "source": [
    "When computing $F_n$, the recursive function does a separate computation for each of the smaller Fibonacci numbers $F_{n-1},F_{n-2},\\dots,F_1$. The non-recursive function uses the Fibonacci numbers it has already computed to compute the next value. The recursive function will therefore take exponentially time to run, wile the non-recursive function will run in linear time. For small values of $n$ the difference will be minor, but for large values the non-recursive function will be much faster.\n",
    "\n",
    "Reference: https://cs.stackexchange.com/questions/14733/complexity-of-recursive-fibonacci-algorithm"
   ]
  },
  {
   "cell_type": "markdown",
   "metadata": {
    "collapsed": false
   },
   "source": [
    "## Problem 5: Dictionaries"
   ]
  },
  {
   "cell_type": "markdown",
   "metadata": {
    "collapsed": false
   },
   "source": [
    "Grading criteria: correctness and thoroughness."
   ]
  },
  {
   "cell_type": "markdown",
   "metadata": {
    "collapsed": false
   },
   "source": [
    "5a. Search online and find as many names as you can for data structures that are like a Python \"dictionary\", but in other programming languages. (For example, in Javascript the analogue of a Python dictionary is called a \"Map\".)\n"
   ]
  },
  {
   "cell_type": "markdown",
   "metadata": {
    "collapsed": false
   },
   "source": [
    "An extremely extensive list is given here: https://en.wikipedia.org/wiki/Comparison_of_programming_languages_(associative_array)\n",
    "\n",
    "Some examples are maps in C++ and Java, dictionaries in Julia, alists in Lisp, associations in Mathematica, and hashes in Perl."
   ]
  },
  {
   "cell_type": "markdown",
   "metadata": {
    "collapsed": false
   },
   "source": [
    "5b. Give a list `l1` of five Python objects that can't be the keys of a Python dictionary, and a list `l2` of five objects that can be keys of a Python dictionary. Then check that each object consists of five objects of different types; that is, `[type(obj) for obj in l1]` should contain no repeated entries, and similarly for `l2`. (The check should be in the form of a code snippet that prints True if the check passes and False if it fails.)"
   ]
  },
  {
   "cell_type": "code",
   "execution_count": 34,
   "metadata": {
    "collapsed": false
   },
   "outputs": [
   ],
   "source": [
    "l1=[[1],{5:3},([1],1),set([1]),bytearray([0x00, 0x00])]\n",
    "l2=[1, 'a', 1.1, True, (1,2)]"
   ]
  },
  {
   "cell_type": "code",
   "execution_count": 35,
   "metadata": {
    "collapsed": false
   },
   "outputs": [
    {
     "name": "stdout",
     "output_type": "stream",
     "text": [
      "True\n",
      "True\n"
     ]
    }
   ],
   "source": [
    "print(all(not (l1[i] is l1[j]) for i in range(5) for j in range(i+1,5)))\n",
    "print(all(not (l2[i] is l2[j]) for i in range(5) for j in range(i+1,5)))"
   ]
  },
  {
   "cell_type": "markdown",
   "metadata": {
    "collapsed": false
   },
   "source": [
    "Python objects can be the keys of a Python dictionary only when they are *immutable*. Immutable objects cannot be modified. If you try to change an immutable object, Python will just create a new object. More details can be found here: https://codehabitude.com/2013/12/24/python-objects-mutable-vs-immutable/"
   ]
  },
  {
   "cell_type": "markdown",
   "metadata": {
    "collapsed": false
   },
   "source": [
    "## Problem 6: List comprehensions"
   ]
  },
  {
   "cell_type": "markdown",
   "metadata": {
    "collapsed": false
   },
   "source": [
    "Grading criteria: correctness."
   ]
  },
  {
   "cell_type": "markdown",
   "metadata": {
    "collapsed": false
   },
   "source": [
    "Translate each of the following mathematical definitions of sets into a Python list comprehension:\n",
    "\n",
    "- $\\{x: 0 < x < 100, x \\not\\equiv 0 \\pmod{3} \\}$\n",
    "- $\\{x: 10 < x < 50, x^2 \\equiv 1 \\pmod{5}\\}$\n",
    "- $\\{(x,y): 0 < x < 1000, 0 < y < 1000, x^2 - y^3 = 1\\}$\n",
    "- $\\{(x,y): -10 < x < 10, -10 < y < 10, |x^2-y^2-y| < 3\\}$"
   ]
  },
  {
   "cell_type": "code",
   "execution_count": 37,
   "metadata": {
    "collapsed": false
   },
   "outputs": [
    {
     "data": {
      "text/plain": [
       "[1,\n",
       " 2,\n",
       " 4,\n",
       " 5,\n",
       " 7,\n",
       " 8,\n",
       " 10,\n",
       " 11,\n",
       " 13,\n",
       " 14,\n",
       " 16,\n",
       " 17,\n",
       " 19,\n",
       " 20,\n",
       " 22,\n",
       " 23,\n",
       " 25,\n",
       " 26,\n",
       " 28,\n",
       " 29,\n",
       " 31,\n",
       " 32,\n",
       " 34,\n",
       " 35,\n",
       " 37,\n",
       " 38,\n",
       " 40,\n",
       " 41,\n",
       " 43,\n",
       " 44,\n",
       " 46,\n",
       " 47,\n",
       " 49,\n",
       " 50,\n",
       " 52,\n",
       " 53,\n",
       " 55,\n",
       " 56,\n",
       " 58,\n",
       " 59,\n",
       " 61,\n",
       " 62,\n",
       " 64,\n",
       " 65,\n",
       " 67,\n",
       " 68,\n",
       " 70,\n",
       " 71,\n",
       " 73,\n",
       " 74,\n",
       " 76,\n",
       " 77,\n",
       " 79,\n",
       " 80,\n",
       " 82,\n",
       " 83,\n",
       " 85,\n",
       " 86,\n",
       " 88,\n",
       " 89,\n",
       " 91,\n",
       " 92,\n",
       " 94,\n",
       " 95,\n",
       " 97,\n",
       " 98]"
      ]
     },
     "execution_count": 37,
     "metadata": {
     },
     "output_type": "execute_result"
    }
   ],
   "source": [
    "[x for x in range(1,100) if not x%3==0]"
   ]
  },
  {
   "cell_type": "code",
   "execution_count": 39,
   "metadata": {
    "collapsed": false
   },
   "outputs": [
    {
     "data": {
      "text/plain": [
       "[11, 14, 16, 19, 21, 24, 26, 29, 31, 34, 36, 39, 41, 44, 46, 49]"
      ]
     },
     "execution_count": 39,
     "metadata": {
     },
     "output_type": "execute_result"
    }
   ],
   "source": [
    "[x for x in range(10,50) if x**2%5==1]"
   ]
  },
  {
   "cell_type": "code",
   "execution_count": 41,
   "metadata": {
    "collapsed": false
   },
   "outputs": [
    {
     "data": {
      "text/plain": [
       "[(3, 2)]"
      ]
     },
     "execution_count": 41,
     "metadata": {
     },
     "output_type": "execute_result"
    }
   ],
   "source": [
    "[(x,y) for x in range(1,1000) for y in range(1,1000) if x**2-y**3==1]"
   ]
  },
  {
   "cell_type": "code",
   "execution_count": 42,
   "metadata": {
    "collapsed": false
   },
   "outputs": [
    {
     "data": {
      "text/plain": [
       "[(-2, -3),\n",
       " (-2, -2),\n",
       " (-2, 1),\n",
       " (-2, 2),\n",
       " (-1, -2),\n",
       " (-1, -1),\n",
       " (-1, 0),\n",
       " (-1, 1),\n",
       " (0, -2),\n",
       " (0, -1),\n",
       " (0, 0),\n",
       " (0, 1),\n",
       " (1, -2),\n",
       " (1, -1),\n",
       " (1, 0),\n",
       " (1, 1),\n",
       " (2, -3),\n",
       " (2, -2),\n",
       " (2, 1),\n",
       " (2, 2)]"
      ]
     },
     "execution_count": 42,
     "metadata": {
     },
     "output_type": "execute_result"
    }
   ],
   "source": [
    "[(x,y) for x in range(-10,10) for y in range(-10,10) if abs(x**2-y**2-y)<3]"
   ]
  },
  {
   "cell_type": "code",
   "execution_count": 0,
   "metadata": {
    "collapsed": false
   },
   "outputs": [
   ],
   "source": [
   ]
  }
 ],
 "metadata": {
  "kernelspec": {
   "display_name": "Python 3 (Ubuntu Linux)",
   "language": "python",
   "name": "python3"
  },
  "language_info": {
   "codemirror_mode": {
    "name": "ipython",
    "version": 3
   },
   "file_extension": ".py",
   "mimetype": "text/x-python",
   "name": "python",
   "nbconvert_exporter": "python",
   "pygments_lexer": "ipython3",
   "version": "3.5.2"
  }
 },
 "nbformat": 4,
 "nbformat_minor": 0
}