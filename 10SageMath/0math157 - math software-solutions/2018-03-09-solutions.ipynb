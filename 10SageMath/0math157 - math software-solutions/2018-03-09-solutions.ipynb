{
 "cells": [
  {
   "cell_type": "markdown",
   "metadata": {
    "collapsed": false
   },
   "source": [
    "## Math 157: Intro to Mathematical Software\n",
    "## UC San Diego, winter 2018"
   ]
  },
  {
   "cell_type": "markdown",
   "metadata": {
    "collapsed": false
   },
   "source": [
    "## Homework 8: due March 10, 2018"
   ]
  },
  {
   "cell_type": "markdown",
   "metadata": {
    "collapsed": false
   },
   "source": [
    "**Note:** Due to the cancellation of sections and rescheduling of office hours this week, I am preemptively moving the due date of this assignment to Saturday, March 10 at 8pm."
   ]
  },
  {
   "cell_type": "markdown",
   "metadata": {
    "collapsed": false
   },
   "source": [
    "This problem set consists of 6 problems, each of equal value. As usual, please enter all answers within this notebook except as specified, and cite all sources and collaborators.\n",
    "\n",
    "Throughout this problem set, use the Julia kernel."
   ]
  },
  {
   "cell_type": "markdown",
   "metadata": {
    "collapsed": false
   },
   "source": [
    "### Problem 1: Parallel computing"
   ]
  },
  {
   "cell_type": "markdown",
   "metadata": {
    "collapsed": false
   },
   "source": [
    "Grading criteria: correctness and thoroughness of explanations. No code required."
   ]
  },
  {
   "cell_type": "markdown",
   "metadata": {
    "collapsed": false
   },
   "source": [
    "1a. Explain what the \"GIL\" is in Python and its effect on parallel computation."
   ]
  },
  {
   "cell_type": "markdown",
   "metadata": {
    "collapsed": false
   },
   "source": [
    "GIL (Global Interpreter Lock) is a mutex which only allows one thread to execute at any point in time. This is ncessary due to Python's memory management being not thread-safe. Thus, even in the presence of multiple processors, GIL prevents the system from parallel operations, possibly leading to bottlenecks."
   ]
  },
  {
   "cell_type": "markdown",
   "metadata": {
    "collapsed": false
   },
   "source": [
    "1b. Explain what a \"race condition\" is and how the absence of a GIL pertains to this."
   ]
  },
  {
   "cell_type": "markdown",
   "metadata": {
    "collapsed": false
   },
   "source": [
    "A race condition happens when two or more threads have access to shared data and attempting to change it simultaneously which potentially may lead to the data content being different than what is expected. The absence of a GIL will allow multiple threads to run at the same time. Since Python's memory management is not thread-safe, this may lead to race conditions."
   ]
  },
  {
   "cell_type": "markdown",
   "metadata": {
    "collapsed": false
   },
   "source": [
    "### Problem 2: Euclidean algorithm"
   ]
  },
  {
   "cell_type": "markdown",
   "metadata": {
    "collapsed": false
   },
   "source": [
    "Grading criteria: correctness of code."
   ]
  },
  {
   "cell_type": "markdown",
   "metadata": {
    "collapsed": false
   },
   "source": [
    "2a. Implement the Euclidean algorithm from scratch (not using any built-in functions other than arithmetic) for multiprecision integers."
   ]
  },
  {
   "cell_type": "code",
   "execution_count": 2,
   "metadata": {
    "collapsed": false
   },
   "outputs": [
    {
     "data": {
      "text/plain": [
       "eea (generic function with 1 method)"
      ]
     },
     "execution_count": 2,
     "metadata": {
     },
     "output_type": "execute_result"
    }
   ],
   "source": [
    "#extended euclidean, output is (gcd(a,b),x,y) for gcd(a,b) = ax + by\n",
    "function eea(a, b)\n",
    "    s0, s1 = 1,0\n",
    "    t0, t1 = 0,1\n",
    "    while b != 0\n",
    "        q = div(a, b)\n",
    "        a, b = b, rem(a, b)\n",
    "        s0, s1 = s1, s0 - q*s1\n",
    "        t0, t1 = t1, t0 - q*t1\n",
    "    end\n",
    "    if a < 0\n",
    "        return -a,-s0,-t0\n",
    "    else\n",
    "        return a,s0,t0\n",
    "    end\n",
    "end"
   ]
  },
  {
   "cell_type": "code",
   "execution_count": 3,
   "metadata": {
    "collapsed": false
   },
   "outputs": [
    {
     "data": {
      "text/plain": [
       "((6, 0, 1), (1, -1, 1), (3, 1, 1), 6)"
      ]
     },
     "execution_count": 3,
     "metadata": {
     },
     "output_type": "execute_result"
    }
   ],
   "source": [
    "#test\n",
    "eea(6,6),eea(3,4),eea(15,-12), eea(6,6)[1]"
   ]
  },
  {
   "cell_type": "markdown",
   "metadata": {
    "collapsed": false
   },
   "source": [
    "2b. Implement the Chinese remainder theorem (for two moduli) using your answer to 2a. You should implement a function mimicking Sage's `crt` function, except that if the moduli are not coprime you may simply return an error. (By contrast, Sage handles this case more robustly: it returns a meaningful error when possible and returns an error otherwise.)"
   ]
  },
  {
   "cell_type": "code",
   "execution_count": 4,
   "metadata": {
    "collapsed": false
   },
   "outputs": [
    {
     "data": {
      "text/plain": [
       "crt2 (generic function with 1 method)"
      ]
     },
     "execution_count": 4,
     "metadata": {
     },
     "output_type": "execute_result"
    }
   ],
   "source": [
    "#gives x (mod a_1 a_2) for x_1 mod(a_1) and x_2 mod(a_2), where a_1 and a_2 are coprime\n",
    "function crt2(x_1,a_1,x_2,a_2)\n",
    "    g = eea(a_1,a_2)\n",
    "    g[1] != 1 && throw(error(\"gcd($a_1,$a_2) = $g\"))\n",
    "    return rem( a_1*g[2]*x_2 + a_2*g[3]*x_1,a_1*a_2)\n",
    "end"
   ]
  },
  {
   "cell_type": "code",
   "execution_count": 5,
   "metadata": {
    "collapsed": false
   },
   "outputs": [
    {
     "data": {
      "text/plain": [
       "20"
      ]
     },
     "execution_count": 5,
     "metadata": {
     },
     "output_type": "execute_result"
    }
   ],
   "source": [
    "crt2(6,7,4,8)"
   ]
  },
  {
   "cell_type": "markdown",
   "metadata": {
    "collapsed": false
   },
   "source": [
    "### Problem 3: MATLAB vs. Julia"
   ]
  },
  {
   "cell_type": "markdown",
   "metadata": {
    "collapsed": false
   },
   "source": [
    "Grading criterion: correctness of code."
   ]
  },
  {
   "cell_type": "markdown",
   "metadata": {
    "collapsed": false
   },
   "source": [
    "This exercise refers to the [Math 18 MATLAB exercise set](http://www.math.ucsd.edu/~math18/)."
   ]
  },
  {
   "cell_type": "markdown",
   "metadata": {
    "collapsed": false
   },
   "source": [
    "3a. Do MATLAB exercise 4.5 once more, this time using Julia."
   ]
  },
  {
   "cell_type": "code",
   "execution_count": 6,
   "metadata": {
    "collapsed": false
   },
   "outputs": [
    {
     "data": {
      "text/plain": [
       "4-element Array{Float64,1}:\n",
       " 0.5106\n",
       " 0.472 \n",
       " 0.0075\n",
       " 0.0099"
      ]
     },
     "execution_count": 6,
     "metadata": {
     },
     "output_type": "execute_result"
    }
   ],
   "source": [
    "P = [0.8100 0.0800 0.1600 0.1000; 0.0900 0.8400 0.0500 0.0800; 0.0600 0.0400 0.7400 0.0400; 0.0400 0.0400 0.0500 0.7800]\n",
    "x0 = [0.5106, 0.4720, 0.0075, 0.0099]"
   ]
  },
  {
   "cell_type": "code",
   "execution_count": 7,
   "metadata": {
    "collapsed": false
   },
   "outputs": [
    {
     "data": {
      "text/plain": [
       "4×4 Array{Float64,2}:\n",
       " 0.665624   0.767579    0.543214   -0.464102\n",
       " 0.616521  -0.284124   -0.814822   -0.12538 \n",
       " 0.29462   -0.568248    0.181071   -0.25076 \n",
       " 0.300076   0.0847934   0.0905357   0.840243"
      ]
     },
     "execution_count": 7,
     "metadata": {
     },
     "output_type": "execute_result"
    }
   ],
   "source": [
    "#Part a\n",
    "D = zeros(4,4)\n",
    "D[1:4,1:4] = Diagonal(eig(P)[1])\n",
    "Q = eig(P)[2]\n",
    "#check P and Q*D*inv(Q)"
   ]
  },
  {
   "cell_type": "code",
   "execution_count": 8,
   "metadata": {
    "collapsed": false
   },
   "outputs": [
    {
     "data": {
      "text/plain": [
       "4×4 Array{Int64,2}:\n",
       " 1  0  0  0\n",
       " 0  0  0  0\n",
       " 0  0  0  0\n",
       " 0  0  0  0"
      ]
     },
     "execution_count": 8,
     "metadata": {
     },
     "output_type": "execute_result"
    }
   ],
   "source": [
    "#Part b\n",
    "L = [1 0 0 0; 0 0 0 0 ;0 0 0 0 ;0 0 0 0]"
   ]
  },
  {
   "cell_type": "code",
   "execution_count": 9,
   "metadata": {
    "collapsed": false
   },
   "outputs": [
    {
     "data": {
      "text/plain": [
       "4×4 Array{Float64,2}:\n",
       " 0.354651  0.354651  0.354651  0.354651\n",
       " 0.328488  0.328488  0.328488  0.328488\n",
       " 0.156977  0.156977  0.156977  0.156977\n",
       " 0.159884  0.159884  0.159884  0.159884"
      ]
     },
     "execution_count": 9,
     "metadata": {
     },
     "output_type": "execute_result"
    }
   ],
   "source": [
    "#Part c\n",
    "Pinf = Q*L*inv(Q)"
   ]
  },
  {
   "cell_type": "code",
   "execution_count": 10,
   "metadata": {
    "collapsed": false
   },
   "outputs": [
    {
     "data": {
      "text/plain": [
       "4-element Array{Float64,1}:\n",
       " 0.354651\n",
       " 0.328488\n",
       " 0.156977\n",
       " 0.159884"
      ]
     },
     "execution_count": 10,
     "metadata": {
     },
     "output_type": "execute_result"
    }
   ],
   "source": [
    "#Part d\n",
    "Pinf*x0"
   ]
  },
  {
   "cell_type": "code",
   "execution_count": 11,
   "metadata": {
    "collapsed": false
   },
   "outputs": [
    {
     "data": {
      "text/plain": [
       "4-element Array{Float64,1}:\n",
       " 0.354651\n",
       " 0.328488\n",
       " 0.156977\n",
       " 0.159884"
      ]
     },
     "execution_count": 11,
     "metadata": {
     },
     "output_type": "execute_result"
    }
   ],
   "source": [
    "#Part e\n",
    "y = [0.1; 0.4; 0.3; 0.2]\n",
    "Pinf*y\n",
    "#Observe that the rows of Pinf are the same. For any a + b + c + d = 1 defining y, Pinf*y corresponds to the column(s) of Pinf."
   ]
  },
  {
   "cell_type": "markdown",
   "metadata": {
    "collapsed": false
   },
   "source": [
    "3b. Repeat with MATLAB exercise 5.6, using the Moore-Penrose pseudoinverse to perform the least squares computation."
   ]
  },
  {
   "cell_type": "code",
   "execution_count": 12,
   "metadata": {
    "collapsed": false
   },
   "outputs": [
    {
     "data": {
      "text/plain": [
       "5-element Array{Float64,1}:\n",
       " 16.5379\n",
       " 21.264 \n",
       " 26.5572\n",
       " 32.4176\n",
       " 39.2232"
      ]
     },
     "execution_count": 12,
     "metadata": {
     },
     "output_type": "execute_result"
    }
   ],
   "source": [
    "#Part a\n",
    "\n",
    "B = [1 75; 1 100; 1 128;1 159;1 195]\n",
    "d = [15;23;26;34;38]\n",
    "Q,R = qr(B)\n",
    "x = Q[:,1]\n",
    "y = Q[:,2]\n",
    "v = dot(x,d)*x + dot(y,d)*y"
   ]
  },
  {
   "cell_type": "code",
   "execution_count": 13,
   "metadata": {
    "collapsed": false
   },
   "outputs": [
    {
     "data": {
      "text/plain": [
       "5-element Array{Float64,1}:\n",
       " 7.10543e-15\n",
       " 3.55271e-15\n",
       " 0.0        \n",
       " 7.10543e-15\n",
       " 7.10543e-15"
      ]
     },
     "execution_count": 13,
     "metadata": {
     },
     "output_type": "execute_result"
    }
   ],
   "source": [
    "#Part b\n",
    "c = B\\v\n",
    "B*c - v #close to 0"
   ]
  },
  {
   "cell_type": "code",
   "execution_count": 14,
   "metadata": {
    "collapsed": false
   },
   "outputs": [
    {
     "data": {
      "text/plain": [
       "2-element Array{Float64,1}:\n",
       " 2.35959 \n",
       " 0.189044"
      ]
     },
     "execution_count": 14,
     "metadata": {
     },
     "output_type": "execute_result"
    }
   ],
   "source": [
    "#Part c\n",
    "pinv(B)*d\n",
    "#check the MATLAB (or previous assignment) solution"
   ]
  },
  {
   "cell_type": "markdown",
   "metadata": {
    "collapsed": false
   },
   "source": [
    "### Problem 4: Hilbert matrices"
   ]
  },
  {
   "cell_type": "markdown",
   "metadata": {
    "collapsed": false
   },
   "source": [
    "Grading criterion: correctness of code and explanations."
   ]
  },
  {
   "cell_type": "markdown",
   "metadata": {
    "collapsed": false
   },
   "source": [
    "4a. Define a Julia function `f`, which on the input of a positive integer $n$, returns the $n \\times n$ Hilbert matrix with floating-point entries. Your function should work directly from the definition; however, you may use Nemo's built-in function to check your answer."
   ]
  },
  {
   "cell_type": "code",
   "execution_count": 15,
   "metadata": {
    "collapsed": false
   },
   "outputs": [
    {
     "data": {
      "text/plain": [
       "f (generic function with 1 method)"
      ]
     },
     "execution_count": 15,
     "metadata": {
     },
     "output_type": "execute_result"
    }
   ],
   "source": [
    "function f(n)\n",
    "    return [(1 / (i + j -1)) for i in 1:n, j in 1:n]\n",
    "end"
   ]
  },
  {
   "cell_type": "markdown",
   "metadata": {
    "collapsed": false
   },
   "source": [
    "4b. Compute the inverse of `f(25)`."
   ]
  },
  {
   "cell_type": "code",
   "execution_count": 16,
   "metadata": {
    "collapsed": false
   },
   "outputs": [
    {
     "data": {
      "text/plain": [
       "25×25 Array{Float64,2}:\n",
       "   124.522      -7318.31         1.25859e5   …  -8.86491e7    2.46497e8 \n",
       " -7013.41           4.87504e5   -7.11564e6       1.17621e10  -3.87614e10\n",
       "     1.01954e5     -5.21906e6   -4.23935e7      -4.45757e11   1.51705e12\n",
       "    -1.9105e5      -6.01282e7    4.53363e9       8.7903e12   -2.57216e13\n",
       "    -6.82799e6      1.45549e9   -6.57675e10     -1.07803e14   2.33434e14\n",
       "     6.58087e7     -1.10292e10   4.40594e11  …   8.45246e14  -1.2521e15 \n",
       "    -2.72285e8      4.22486e10  -1.59833e12     -4.19031e15   4.13147e15\n",
       "     5.80315e8     -8.64748e10   3.15937e12      1.27427e16  -8.30663e15\n",
       "    -5.95059e8      8.53312e10  -2.99223e12     -2.16864e16   9.36203e15\n",
       "     2.7212e8      -3.64748e10   1.15946e12      1.35809e16  -4.45836e15\n",
       "    -5.08792e8      7.47774e10  -2.6634e12   …   1.27447e16   4.97697e14\n",
       "     9.60096e8     -1.44241e11   5.31184e12     -1.57445e16  -2.734e15  \n",
       "     3.34337e8     -4.80938e10   1.66764e12     -1.73947e16   1.43425e15\n",
       "    -1.54695e9      2.27436e11  -8.1764e12       2.36807e16   3.3041e15 \n",
       "    -5.62902e8      8.64273e10  -3.24719e12      9.98229e14   4.85024e15\n",
       "     1.65923e9     -2.44529e11   8.80698e12  …   3.79574e15  -1.04059e16\n",
       "     1.28029e9     -2.00173e11   7.68902e12      7.73666e15  -9.53343e15\n",
       "    -1.40568e9      2.1626e11   -8.15774e12     -4.3861e16    1.6796e16 \n",
       "    -2.11335e9      3.23838e11  -1.21805e13     -3.97404e15   1.16819e16\n",
       "     1.79606e9     -2.81832e11   1.08516e13      4.82857e16  -1.80002e16\n",
       "     1.44557e9     -2.20973e11   8.24941e12  …   3.92131e16  -1.70281e16\n",
       "    -2.39411e9      3.7826e11   -1.45903e13     -1.01144e17   3.47404e16\n",
       "     1.58023e9     -2.50004e11   9.65152e12      4.03802e16  -1.80416e16\n",
       "    -7.58041e8      1.1611e11   -4.3472e12       1.17165e16   2.30639e15\n",
       "     1.90027e8     -2.82552e10   1.0271e12      -7.6259e15    4.46656e14"
      ]
     },
     "execution_count": 16,
     "metadata": {
     },
     "output_type": "execute_result"
    }
   ],
   "source": [
    "inv(f(25))"
   ]
  },
  {
   "cell_type": "markdown",
   "metadata": {
    "collapsed": false
   },
   "source": [
    "4c. Is Julia's default algorithm for matrix inverse numerically stable? Justify your claim in terms of your answer to 4b."
   ]
  },
  {
   "cell_type": "code",
   "execution_count": 17,
   "metadata": {
    "collapsed": false
   },
   "outputs": [
    {
     "data": {
      "text/plain": [
       "25×25 Array{Float64,2}:\n",
       "  1.0         -7.06758e-9   7.34974e-10  …   9.95948e-9   2.98023e-8 \n",
       " -1.77992e-5   0.999995     1.20997e-6       1.8727e-6   -3.8147e-6  \n",
       "  3.08653e-5   6.42741e-5   0.999902         3.89357e-5   0.000244141\n",
       "  0.003211     0.00135359   0.00399982       0.00100631  -0.00390625 \n",
       "  0.0212881    0.0347532    0.00440288      -0.0071059    0.03125    \n",
       "  0.274582     0.176413     0.102111     …  -0.0363124   -0.1875     \n",
       "  0.28469      0.299686    -0.233031        -0.384986     0.25       \n",
       " -1.57692     -0.748504    -0.151903         0.0825231   -1.0        \n",
       "  0.575295     0.611334     0.658993        -0.0629104    1.25       \n",
       "  0.176288    -0.261923     0.0971292        0.187448    -0.5        \n",
       "  1.04963     -0.0791658   -1.08117      …  -0.085211     0.0        \n",
       " -1.00915     -0.858001     0.338376         0.294828    -1.0        \n",
       " -0.323806     0.548735     0.854401        -0.0980128   -0.75       \n",
       "  1.984        2.62965      0.125151         0.496179     0.5        \n",
       "  0.889039     0.786798    -0.166222        -0.208734     1.25       \n",
       "  0.103835    -0.805871     0.407968     …  -1.10255     -2.0        \n",
       " -2.31544     -0.784777     0.913119         0.708942    -0.5        \n",
       "  0.978985     0.362783    -0.705828         0.0639091    0.5        \n",
       "  3.22223      1.33263      1.02459          0.33024      2.0        \n",
       " -0.989988    -0.74997     -0.625029         0.124984    -0.28125    \n",
       "  0.650821     0.434798    -0.358509     …  -0.209474    -0.5        \n",
       "  3.31893      2.55494      1.82672         -0.706843    -0.25       \n",
       " -0.620023    -0.567366    -1.4305           0.125032    -1.0        \n",
       "  0.83567     -0.594835    -0.668515         0.562437     0.5        \n",
       " -0.0525968   -0.10752      0.0675857       -0.0499957    0.693349   "
      ]
     },
     "execution_count": 17,
     "metadata": {
     },
     "output_type": "execute_result"
    }
   ],
   "source": [
    "inv(f(25))*f(25)\n",
    "#Not numerically stable as we should expect an identity matrix"
   ]
  },
  {
   "cell_type": "markdown",
   "metadata": {
    "collapsed": false
   },
   "source": [
    "4d. In light of the Julia mission statement:\n",
    "\n",
    "> Julia is a high-level, high-performance dynamic programming language for numerical computing.\n",
    "    \n",
    "explain why your answer to 4c is to be expected (that is, why the Julia designers chose as they did in this case)."
   ]
  },
  {
   "cell_type": "markdown",
   "metadata": {
    "collapsed": false
   },
   "source": [
    "We are using floaring point numbers and the size of the float determines its precision. Rounding errors are thus inevitable when storing such numbers and accumulate. It can be seen from this example that the developers placed more emphasis on the computational speed than the accuracy (as inverting large matrices is usually a costly process)."
   ]
  },
  {
   "cell_type": "markdown",
   "metadata": {
    "collapsed": false
   },
   "source": [
    "### Problem 5: Hadamard matrices"
   ]
  },
  {
   "cell_type": "markdown",
   "metadata": {
    "collapsed": false
   },
   "source": [
    "Grading criterion: correctness of code and explanations."
   ]
  },
  {
   "cell_type": "markdown",
   "metadata": {
    "collapsed": false
   },
   "source": [
    "For this exercise, you will use the Nemo library."
   ]
  },
  {
   "cell_type": "code",
   "execution_count": 18,
   "metadata": {
    "collapsed": false
   },
   "outputs": [
    {
     "name": "stdout",
     "output_type": "stream",
     "text": [
      "\n",
      "Welcome to Nemo version 0.7.3\n",
      "\n",
      "Nemo comes with absolutely no warranty whatsoever\n",
      "\n"
     ]
    }
   ],
   "source": [
    "using Nemo"
   ]
  },
  {
   "cell_type": "markdown",
   "metadata": {
    "collapsed": false
   },
   "source": [
    "5a. Using Nemo's built-in function, construct a $28 \\times 28$ Hadamard matrix. Call this matrix $H$."
   ]
  },
  {
   "cell_type": "code",
   "execution_count": 19,
   "metadata": {
    "collapsed": false
   },
   "outputs": [
    {
     "data": {
      "text/plain": [
       "[1 -1 1 1 1 1 1 1 1 1 1 1 1 1 1 1 1 1 1 1 1 1 1 1 1 1 1 1]\n",
       "[-1 -1 1 -1 1 -1 1 -1 1 -1 1 -1 1 -1 1 -1 1 -1 1 -1 1 -1 1 -1 1 -1 1 -1]\n",
       "[1 1 1 -1 1 1 -1 -1 1 1 1 1 -1 -1 -1 -1 -1 -1 -1 -1 1 1 1 1 -1 -1 1 1]\n",
       "[1 -1 -1 -1 1 -1 -1 1 1 -1 1 -1 -1 1 -1 1 -1 1 -1 1 1 -1 1 -1 -1 1 1 -1]\n",
       "[1 1 1 1 1 -1 1 1 -1 -1 1 1 1 1 -1 -1 -1 -1 -1 -1 -1 -1 1 1 1 1 -1 -1]\n",
       "[1 -1 1 -1 -1 -1 1 -1 -1 1 1 -1 1 -1 -1 1 -1 1 -1 1 -1 1 1 -1 1 -1 -1 1]\n",
       "[1 1 -1 -1 1 1 1 -1 1 1 -1 -1 1 1 1 1 -1 -1 -1 -1 -1 -1 -1 -1 1 1 1 1]\n",
       "[1 -1 -1 1 1 -1 -1 -1 1 -1 -1 1 1 -1 1 -1 -1 1 -1 1 -1 1 -1 1 1 -1 1 -1]\n",
       "[1 1 1 1 -1 -1 1 1 1 -1 1 1 -1 -1 1 1 1 1 -1 -1 -1 -1 -1 -1 -1 -1 1 1]\n",
       "[1 -1 1 -1 -1 1 1 -1 -1 -1 1 -1 -1 1 1 -1 1 -1 -1 1 -1 1 -1 1 -1 1 1 -1]\n",
       "[1 1 1 1 1 1 -1 -1 1 1 1 -1 1 1 -1 -1 1 1 1 1 -1 -1 -1 -1 -1 -1 -1 -1]\n",
       "[1 -1 1 -1 1 -1 -1 1 1 -1 -1 -1 1 -1 -1 1 1 -1 1 -1 -1 1 -1 1 -1 1 -1 1]\n",
       "[1 1 -1 -1 1 1 1 1 -1 -1 1 1 1 -1 1 1 -1 -1 1 1 1 1 -1 -1 -1 -1 -1 -1]\n",
       "[1 -1 -1 1 1 -1 1 -1 -1 1 1 -1 -1 -1 1 -1 -1 1 1 -1 1 -1 -1 1 -1 1 -1 1]\n",
       "[1 1 -1 -1 -1 -1 1 1 1 1 -1 -1 1 1 1 -1 1 1 -1 -1 1 1 1 1 -1 -1 -1 -1]\n",
       "[1 -1 -1 1 -1 1 1 -1 1 -1 -1 1 1 -1 -1 -1 1 -1 -1 1 1 -1 1 -1 -1 1 -1 1]\n",
       "[1 1 -1 -1 -1 -1 -1 -1 1 1 1 1 -1 -1 1 1 1 -1 1 1 -1 -1 1 1 1 1 -1 -1]\n",
       "[1 -1 -1 1 -1 1 -1 1 1 -1 1 -1 -1 1 1 -1 -1 -1 1 -1 -1 1 1 -1 1 -1 -1 1]\n",
       "[1 1 -1 -1 -1 -1 -1 -1 -1 -1 1 1 1 1 -1 -1 1 1 1 -1 1 1 -1 -1 1 1 1 1]\n",
       "[1 -1 -1 1 -1 1 -1 1 -1 1 1 -1 1 -1 -1 1 1 -1 -1 -1 1 -1 -1 1 1 -1 1 -1]\n",
       "[1 1 1 1 -1 -1 -1 -1 -1 -1 -1 -1 1 1 1 1 -1 -1 1 1 1 -1 1 1 -1 -1 1 1]\n",
       "[1 -1 1 -1 -1 1 -1 1 -1 1 -1 1 1 -1 1 -1 -1 1 1 -1 -1 -1 1 -1 -1 1 1 -1]\n",
       "[1 1 1 1 1 1 -1 -1 -1 -1 -1 -1 -1 -1 1 1 1 1 -1 -1 1 1 1 -1 1 1 -1 -1]\n",
       "[1 -1 1 -1 1 -1 -1 1 -1 1 -1 1 -1 1 1 -1 1 -1 -1 1 1 -1 -1 -1 1 -1 -1 1]\n",
       "[1 1 -1 -1 1 1 1 1 -1 -1 -1 -1 -1 -1 -1 -1 1 1 1 1 -1 -1 1 1 1 -1 1 1]\n",
       "[1 -1 -1 1 1 -1 1 -1 -1 1 -1 1 -1 1 -1 1 1 -1 1 -1 -1 1 1 -1 -1 -1 1 -1]\n",
       "[1 1 1 1 -1 -1 1 1 1 1 -1 -1 -1 -1 -1 -1 -1 -1 1 1 1 1 -1 -1 1 1 1 -1]\n",
       "[1 -1 1 -1 -1 1 1 -1 1 -1 -1 1 -1 1 -1 1 -1 1 1 -1 1 -1 -1 1 1 -1 -1 -1]"
      ]
     },
     "execution_count": 19,
     "metadata": {
     },
     "output_type": "execute_result"
    }
   ],
   "source": [
    "M = MatrixSpace(ZZ, 28, 28)\n",
    "H = hadamard(M)"
   ]
  },
  {
   "cell_type": "code",
   "execution_count": 20,
   "metadata": {
    "collapsed": false
   },
   "outputs": [
    {
     "data": {
      "text/plain": [
       "28-element Array{Array{Int64,1},1}:\n",
       " [1, -1, 1, 1, 1, 1, 1, 1, 1, 1  …  1, 1, 1, 1, 1, 1, 1, 1, 1, 1]          \n",
       " [-1, -1, 1, -1, 1, -1, 1, -1, 1, -1  …  1, -1, 1, -1, 1, -1, 1, -1, 1, -1]\n",
       " [1, 1, 1, -1, 1, 1, -1, -1, 1, 1  …  -1, -1, 1, 1, 1, 1, -1, -1, 1, 1]    \n",
       " [1, -1, -1, -1, 1, -1, -1, 1, 1, -1  …  -1, 1, 1, -1, 1, -1, -1, 1, 1, -1]\n",
       " [1, 1, 1, 1, 1, -1, 1, 1, -1, -1  …  -1, -1, -1, -1, 1, 1, 1, 1, -1, -1]  \n",
       " [1, -1, 1, -1, -1, -1, 1, -1, -1, 1  …  -1, 1, -1, 1, 1, -1, 1, -1, -1, 1]\n",
       " [1, 1, -1, -1, 1, 1, 1, -1, 1, 1  …  -1, -1, -1, -1, -1, -1, 1, 1, 1, 1]  \n",
       " [1, -1, -1, 1, 1, -1, -1, -1, 1, -1  …  -1, 1, -1, 1, -1, 1, 1, -1, 1, -1]\n",
       " [1, 1, 1, 1, -1, -1, 1, 1, 1, -1  …  -1, -1, -1, -1, -1, -1, -1, -1, 1, 1]\n",
       " [1, -1, 1, -1, -1, 1, 1, -1, -1, -1  …  -1, 1, -1, 1, -1, 1, -1, 1, 1, -1]\n",
       " [1, 1, 1, 1, 1, 1, -1, -1, 1, 1  …  1, 1, -1, -1, -1, -1, -1, -1, -1, -1] \n",
       " [1, -1, 1, -1, 1, -1, -1, 1, 1, -1  …  1, -1, -1, 1, -1, 1, -1, 1, -1, 1] \n",
       " [1, 1, -1, -1, 1, 1, 1, 1, -1, -1  …  1, 1, 1, 1, -1, -1, -1, -1, -1, -1] \n",
       " ⋮                                                                         \n",
       " [1, 1, -1, -1, -1, -1, -1, -1, 1, 1  …  1, 1, -1, -1, 1, 1, 1, 1, -1, -1] \n",
       " [1, -1, -1, 1, -1, 1, -1, 1, 1, -1  …  1, -1, -1, 1, 1, -1, 1, -1, -1, 1] \n",
       " [1, 1, -1, -1, -1, -1, -1, -1, -1, -1  …  1, -1, 1, 1, -1, -1, 1, 1, 1, 1]\n",
       " [1, -1, -1, 1, -1, 1, -1, 1, -1, 1  …  -1, -1, 1, -1, -1, 1, 1, -1, 1, -1]\n",
       " [1, 1, 1, 1, -1, -1, -1, -1, -1, -1  …  1, 1, 1, -1, 1, 1, -1, -1, 1, 1]  \n",
       " [1, -1, 1, -1, -1, 1, -1, 1, -1, 1  …  1, -1, -1, -1, 1, -1, -1, 1, 1, -1]\n",
       " [1, 1, 1, 1, 1, 1, -1, -1, -1, -1  …  -1, -1, 1, 1, 1, -1, 1, 1, -1, -1]  \n",
       " [1, -1, 1, -1, 1, -1, -1, 1, -1, 1  …  -1, 1, 1, -1, -1, -1, 1, -1, -1, 1]\n",
       " [1, 1, -1, -1, 1, 1, 1, 1, -1, -1  …  1, 1, -1, -1, 1, 1, 1, -1, 1, 1]    \n",
       " [1, -1, -1, 1, 1, -1, 1, -1, -1, 1  …  1, -1, -1, 1, 1, -1, -1, -1, 1, -1]\n",
       " [1, 1, 1, 1, -1, -1, 1, 1, 1, 1  …  1, 1, 1, 1, -1, -1, 1, 1, 1, -1]      \n",
       " [1, -1, 1, -1, -1, 1, 1, -1, 1, -1  …  1, -1, 1, -1, -1, 1, 1, -1, -1, -1]"
      ]
     },
     "execution_count": 20,
     "metadata": {
     },
     "output_type": "execute_result"
    }
   ],
   "source": [
    "A = [[Int(H[i,j]) for i in 1:28] for j in 1:28]"
   ]
  },
  {
   "cell_type": "markdown",
   "metadata": {
    "collapsed": false
   },
   "source": [
    "5b. Compute the determinant of $H$ and check that it achieves equality in the Hadamard bound."
   ]
  },
  {
   "cell_type": "code",
   "execution_count": 21,
   "metadata": {
    "collapsed": false
   },
   "outputs": [
    {
     "data": {
      "text/plain": [
       "true"
      ]
     },
     "execution_count": 21,
     "metadata": {
     },
     "output_type": "execute_result"
    }
   ],
   "source": [
    "detH = det(H)\n",
    "bound = BigInt(28)^14\n",
    "detH == bound"
   ]
  },
  {
   "cell_type": "markdown",
   "metadata": {
    "collapsed": false
   },
   "source": [
    "5c. Compute the dot products between all pairs of rows in $H$."
   ]
  },
  {
   "cell_type": "code",
   "execution_count": 22,
   "metadata": {
    "collapsed": false
   },
   "outputs": [
    {
     "data": {
      "text/plain": [
       "[28 0 0 0 0 0 0 0 0 0 0 0 0 0 0 0 0 0 0 0 0 0 0 0 0 0 0 0]\n",
       "[0 28 0 0 0 0 0 0 0 0 0 0 0 0 0 0 0 0 0 0 0 0 0 0 0 0 0 0]\n",
       "[0 0 28 0 0 0 0 0 0 0 0 0 0 0 0 0 0 0 0 0 0 0 0 0 0 0 0 0]\n",
       "[0 0 0 28 0 0 0 0 0 0 0 0 0 0 0 0 0 0 0 0 0 0 0 0 0 0 0 0]\n",
       "[0 0 0 0 28 0 0 0 0 0 0 0 0 0 0 0 0 0 0 0 0 0 0 0 0 0 0 0]\n",
       "[0 0 0 0 0 28 0 0 0 0 0 0 0 0 0 0 0 0 0 0 0 0 0 0 0 0 0 0]\n",
       "[0 0 0 0 0 0 28 0 0 0 0 0 0 0 0 0 0 0 0 0 0 0 0 0 0 0 0 0]\n",
       "[0 0 0 0 0 0 0 28 0 0 0 0 0 0 0 0 0 0 0 0 0 0 0 0 0 0 0 0]\n",
       "[0 0 0 0 0 0 0 0 28 0 0 0 0 0 0 0 0 0 0 0 0 0 0 0 0 0 0 0]\n",
       "[0 0 0 0 0 0 0 0 0 28 0 0 0 0 0 0 0 0 0 0 0 0 0 0 0 0 0 0]\n",
       "[0 0 0 0 0 0 0 0 0 0 28 0 0 0 0 0 0 0 0 0 0 0 0 0 0 0 0 0]\n",
       "[0 0 0 0 0 0 0 0 0 0 0 28 0 0 0 0 0 0 0 0 0 0 0 0 0 0 0 0]\n",
       "[0 0 0 0 0 0 0 0 0 0 0 0 28 0 0 0 0 0 0 0 0 0 0 0 0 0 0 0]\n",
       "[0 0 0 0 0 0 0 0 0 0 0 0 0 28 0 0 0 0 0 0 0 0 0 0 0 0 0 0]\n",
       "[0 0 0 0 0 0 0 0 0 0 0 0 0 0 28 0 0 0 0 0 0 0 0 0 0 0 0 0]\n",
       "[0 0 0 0 0 0 0 0 0 0 0 0 0 0 0 28 0 0 0 0 0 0 0 0 0 0 0 0]\n",
       "[0 0 0 0 0 0 0 0 0 0 0 0 0 0 0 0 28 0 0 0 0 0 0 0 0 0 0 0]\n",
       "[0 0 0 0 0 0 0 0 0 0 0 0 0 0 0 0 0 28 0 0 0 0 0 0 0 0 0 0]\n",
       "[0 0 0 0 0 0 0 0 0 0 0 0 0 0 0 0 0 0 28 0 0 0 0 0 0 0 0 0]\n",
       "[0 0 0 0 0 0 0 0 0 0 0 0 0 0 0 0 0 0 0 28 0 0 0 0 0 0 0 0]\n",
       "[0 0 0 0 0 0 0 0 0 0 0 0 0 0 0 0 0 0 0 0 28 0 0 0 0 0 0 0]\n",
       "[0 0 0 0 0 0 0 0 0 0 0 0 0 0 0 0 0 0 0 0 0 28 0 0 0 0 0 0]\n",
       "[0 0 0 0 0 0 0 0 0 0 0 0 0 0 0 0 0 0 0 0 0 0 28 0 0 0 0 0]\n",
       "[0 0 0 0 0 0 0 0 0 0 0 0 0 0 0 0 0 0 0 0 0 0 0 28 0 0 0 0]\n",
       "[0 0 0 0 0 0 0 0 0 0 0 0 0 0 0 0 0 0 0 0 0 0 0 0 28 0 0 0]\n",
       "[0 0 0 0 0 0 0 0 0 0 0 0 0 0 0 0 0 0 0 0 0 0 0 0 0 28 0 0]\n",
       "[0 0 0 0 0 0 0 0 0 0 0 0 0 0 0 0 0 0 0 0 0 0 0 0 0 0 28 0]\n",
       "[0 0 0 0 0 0 0 0 0 0 0 0 0 0 0 0 0 0 0 0 0 0 0 0 0 0 0 28]"
      ]
     },
     "execution_count": 22,
     "metadata": {
     },
     "output_type": "execute_result"
    }
   ],
   "source": [
    "dotH = H*transpose(H)\n",
    "#Note that the (i,j) entry of this matrix is the dot product of the ith and jth row\n",
    "#should be the same as 28*I_28"
   ]
  },
  {
   "cell_type": "markdown",
   "metadata": {
    "collapsed": false
   },
   "source": [
    "5d. Explain the relationship between your answers to 5b and 5c."
   ]
  },
  {
   "cell_type": "code",
   "execution_count": 23,
   "metadata": {
    "collapsed": false
   },
   "outputs": [
    {
     "data": {
      "text/plain": [
       "true"
      ]
     },
     "execution_count": 23,
     "metadata": {
     },
     "output_type": "execute_result"
    }
   ],
   "source": [
    "det(dotH) == detH^2"
   ]
  },
  {
   "cell_type": "markdown",
   "metadata": {
    "collapsed": false
   },
   "source": [
    "### Problem 6: Singular value decomposition"
   ]
  },
  {
   "cell_type": "markdown",
   "metadata": {
    "collapsed": false
   },
   "source": [
    "Grading criterion: correctness and pertinence of code. (Correctness means it runs, pertinence means you followed the instructions.)"
   ]
  },
  {
   "cell_type": "markdown",
   "metadata": {
    "collapsed": false
   },
   "source": [
    "Consider the following example from the [numpy documentation](https://docs.scipy.org/doc/numpy/reference/generated/numpy.linalg.svd.html)."
   ]
  },
  {
   "cell_type": "raw",
   "metadata": {
    "collapsed": false
   },
   "source": [
    ">>> a = np.random.randn(9, 6) + 1j*np.random.randn(9, 6)\n",
    ">>> b = np.random.randn(2, 7, 8, 3) + 1j*np.random.randn(2, 7, 8, 3)\n",
    ">>> u, s, vh = np.linalg.svd(a, full_matrices=True)\n",
    ">>> u.shape, s.shape, vh.shape\n",
    "((9, 9), (6,), (6, 6))\n",
    ">>> np.allclose(a, np.dot(u[:, :6] * s, vh))\n",
    "True\n",
    ">>> smat = np.zeros((9, 6), dtype=complex)\n",
    ">>> smat[:6, :6] = np.diag(s)\n",
    ">>> np.allclose(a, np.dot(u, np.dot(smat, vh)))\n",
    "True"
   ]
  },
  {
   "cell_type": "markdown",
   "metadata": {
    "collapsed": false
   },
   "source": [
    "Write Julia code to emulate this example as faithfully as possible."
   ]
  },
  {
   "cell_type": "code",
   "execution_count": 24,
   "metadata": {
    "collapsed": false
   },
   "outputs": [
    {
     "data": {
      "text/plain": [
       "((9, 9), (6,), (6, 6))"
      ]
     },
     "execution_count": 24,
     "metadata": {
     },
     "output_type": "execute_result"
    }
   ],
   "source": [
    "a = randn(9,6) + 1im*randn(9,6)\n",
    "b = randn(2,7,8,3) + 1im*randn(2,7,8,3)\n",
    "u,s,vh = svd(a, thin =false)\n",
    "size(u),size(s),size(vh)"
   ]
  },
  {
   "cell_type": "code",
   "execution_count": 25,
   "metadata": {
    "collapsed": false
   },
   "outputs": [
    {
     "data": {
      "text/plain": [
       "true"
      ]
     },
     "execution_count": 25,
     "metadata": {
     },
     "output_type": "execute_result"
    }
   ],
   "source": [
    "#Julia equivalent of allclose\n",
    "isapprox(a,(u[:, 1:6].*s') * vh' )"
   ]
  },
  {
   "cell_type": "code",
   "execution_count": 26,
   "metadata": {
    "collapsed": false
   },
   "outputs": [
    {
     "data": {
      "text/plain": [
       "true"
      ]
     },
     "execution_count": 26,
     "metadata": {
     },
     "output_type": "execute_result"
    }
   ],
   "source": [
    "smat = zeros(Complex64, 9,6)\n",
    "smat[1:6,1:6] = diagm(s)\n",
    "isapprox(a, (u*(smat*vh')) , atol = .1 )"
   ]
  }
 ],
 "metadata": {
  "kernelspec": {
   "display_name": "Julia",
   "language": "julia",
   "name": "julia"
  },
  "language_info": {
   "file_extension": ".jl",
   "mimetype": "application/julia",
   "name": "julia",
   "version": "0.6.2"
  }
 },
 "nbformat": 4,
 "nbformat_minor": 0
}