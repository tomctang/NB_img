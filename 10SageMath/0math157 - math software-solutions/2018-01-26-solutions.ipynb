{
 "cells": [
  {
   "cell_type": "markdown",
   "metadata": {
    "collapsed": false
   },
   "source": [
    "## Math 157: Intro to Mathematical Software\n",
    "## UC San Diego, winter 2018; materials by Kiran S. Kedlaya"
   ]
  },
  {
   "cell_type": "markdown",
   "metadata": {
    "collapsed": false
   },
   "source": [
    "## Homework 2: due January 26, 2018"
   ]
  },
  {
   "cell_type": "markdown",
   "metadata": {
    "collapsed": false
   },
   "source": [
    "Please enter all answers within this notebook unless otherwise specified. As usual, don't forget to cite sources and collaborators."
   ]
  },
  {
   "cell_type": "markdown",
   "metadata": {
    "collapsed": false
   },
   "source": [
    "### Problem 1: Comparison of relevant software"
   ]
  },
  {
   "cell_type": "markdown",
   "metadata": {
    "collapsed": false
   },
   "source": [
    "Grading criterion: correctness. Remember to cite all sources!"
   ]
  },
  {
   "cell_type": "markdown",
   "metadata": {
    "collapsed": false
   },
   "source": [
    "1a. Specify whether each of the following computer algebra systems fits the Open Source Initiative definition of an \"open-source\" project (https://opensource.org/definition). If not, identify a criterion which fails to be met.\n",
    "\n",
    "- GAP\n",
    "- Geogebra\n",
    "- Magma\n",
    "- Maple\n",
    "- Mathematica\n",
    "- MATLAB\n",
    "- Pari/GP\n",
    "- Sage\n",
    "- Sympy"
   ]
  },
  {
   "cell_type": "raw",
   "metadata": {
    "collapsed": false
   },
   "source": [
    "GAP: Yes\n",
    "Geogebra: Yes\n",
    "Magma: No. Free distribution.\n",
    "Maple: No. Free distribution.\n",
    "Mathematica: No. Free distribution.\n",
    "MATLAB: No. Free distribution.\n",
    "Pari/GP: Yes.\n",
    "Sage: Yes.\n",
    "Sympy: Yes.\n",
    "\n",
    "Source:\n",
    "https://en.wikipedia.org/wiki/List_of_computer_algebra_systems\n",
    "https://www.gap-system.org/\n",
    "https://www.geogebra.org/\n",
    "https://magma.maths.usyd.edu.au/magma/\n",
    "https://www.maplesoft.com/\n",
    "https://www.wolfram.com/mathematica/\n",
    "https://www.mathworks.com/products/matlab.html\n",
    "https://pari.math.u-bordeaux.fr/\n",
    "http://www.sagemath.org/\n",
    "http://www.sympy.org/en/index.html"
   ]
  },
  {
   "cell_type": "markdown",
   "metadata": {
    "collapsed": false
   },
   "source": [
    "1b. For each of the following projects, give a one-sentence description of the project, and indicate in what year and by what person/organization the first version was released.\n",
    "\n",
    "- Cython\n",
    "- Julia\n",
    "- MacSyma / Maxima (treat as one project)\n",
    "- Numpy\n",
    "- Pandas\n",
    "- Python\n",
    "- R\n",
    "- Sage\n",
    "- Scipy\n",
    "- TeX / LaTeX (treat as one project)\n"
   ]
  },
  {
   "cell_type": "raw",
   "metadata": {
    "collapsed": false
   },
   "source": [
    "Cython: Cython is a superset of the Python programming language with C-like functionality/ 28 July 2007/ Robert Bradshaw, Stefan Behnel, et al.\n",
    "Julia: Julia is a high level programming language for numerical analysis and computational science/ 2012/Jeff Bezanson, Alan Edelman, Stefan Karpinski, Viral B. Shah\n",
    "MacSyma/Maxima: Maxima is a system designed for symbolic and numerical manipulations/ July 1968/ Carl Engelman, William A. Martin, Joel Moses\n",
    "Numpy: Numpy is a library for the programming language Python designed for scientific computing/ 2006 (as Numpy)/ Travis Oliphant\n",
    "Pandas: Pandas is a software library for the programming language Python designed for data structures and analysis/ 2008/ Wes McKinney\n",
    "Python: Python is a high level programming designed for general purpose programming/ 20 February 1991/  Guido van Rossum\n",
    "R: R is a programming language and software environment for statistical computing and graphics/ August 1993/ Ross Ihaka, Robert Gentleman\n",
    "Sage: Sage is a mathematics software system covering many areas of mathematics/ 24 February 2005/ William Stein\n",
    "Scipy: Scipy is a library for the programming language Python designed for scientific computating/ 2001/ Travis Oliphant, Pearu Peterson, Eric Jones\n",
    "TeX/LaTeX: TeX is a typesetting system including features for scientific, technical documentation/ 1978/ Donald Knuth\n",
    "\n",
    "Source:\n",
    "https://en.wikipedia.org/wiki/Cython\n",
    "http://cython.org/\n",
    "https://en.wikipedia.org/wiki/Julia_(programming_language)\n",
    "https://julialang.org/\n",
    "https://en.wikipedia.org/wiki/Macsyma\n",
    "http://maxima.sourceforge.net/\n",
    "https://en.wikipedia.org/wiki/NumPy\n",
    "http://www.numpy.org/\n",
    "https://en.wikipedia.org/wiki/Pandas_(software)\n",
    "https://pandas.pydata.org/\n",
    "https://en.wikipedia.org/wiki/Python_(programming_language)\n",
    "https://www.python.org/\n",
    "https://en.wikipedia.org/wiki/R_(programming_language)\n",
    "https://www.r-project.org/\n",
    "https://en.wikipedia.org/wiki/SageMath\n",
    "http://www.sagemath.org/\n",
    "https://en.wikipedia.org/wiki/SciPy\n",
    "https://www.scipy.org/\n",
    "https://en.wikipedia.org/wiki/TeX\n",
    "https://www.latex-project.org/"
   ]
  },
  {
   "cell_type": "markdown",
   "metadata": {
    "collapsed": false
   },
   "source": [
    "### Problem 2: Under the hood"
   ]
  },
  {
   "cell_type": "markdown",
   "metadata": {
    "collapsed": false
   },
   "source": [
    "Grading criterion: correctness."
   ]
  },
  {
   "cell_type": "markdown",
   "metadata": {
    "collapsed": false
   },
   "source": [
    "For each of the following Sage commands, identify one [external component of Sage](http://www.sagemath.org/links-components.html) which is used to execute that command, and indicate how you did so. (Hint: in addition to the Sage documentation, inspecting docstrings or even source code may be helpful.)"
   ]
  },
  {
   "cell_type": "code",
   "execution_count": 0,
   "metadata": {
    "collapsed": false
   },
   "outputs": [
   ],
   "source": [
    "factor(10^30-13)"
   ]
  },
  {
   "cell_type": "markdown",
   "metadata": {
    "collapsed": false
   },
   "source": [
    "factor uses PARI\n",
    "Source: factor?? \"These implementations are not used by the\n",
    "    generic factor command, which currently just calls PARI\""
   ]
  },
  {
   "cell_type": "code",
   "execution_count": 0,
   "metadata": {
    "collapsed": false
   },
   "outputs": [
   ],
   "source": [
    "plot(lambda x: sin(x), 0, 2*pi)"
   ]
  },
  {
   "cell_type": "markdown",
   "metadata": {
    "collapsed": false
   },
   "source": [
    "plot uses matplotlib\n",
    "Source: plot?? \"Any MATPLOTLIB line option may also be passed in.\""
   ]
  },
  {
   "cell_type": "code",
   "execution_count": 0,
   "metadata": {
    "collapsed": false
   },
   "outputs": [
   ],
   "source": [
    "G = AlternatingGroup(4)\n",
    "G.subgroups()"
   ]
  },
  {
   "cell_type": "markdown",
   "metadata": {
    "collapsed": false
   },
   "source": [
    "AlternatingGroup uses GAP\n",
    "Source: AlternatingGroup?? \"Returns the string used to create this group in GAP.\""
   ]
  },
  {
   "cell_type": "code",
   "execution_count": 0,
   "metadata": {
    "collapsed": false
   },
   "outputs": [
   ],
   "source": [
    "var('x,y,z')\n",
    "f = (x+y)/z\n",
    "f.derivative(z)"
   ]
  },
  {
   "cell_type": "markdown",
   "metadata": {
    "collapsed": false
   },
   "source": [
    "var uses pynac\n",
    "Source: var?? \"The new (Pynac) symbolics are now the only symbolics\""
   ]
  },
  {
   "cell_type": "code",
   "execution_count": 0,
   "metadata": {
    "collapsed": false
   },
   "outputs": [
   ],
   "source": [
    "R.<x,y,z> = PolynomialRing(QQ)\n",
    "factor(x^3+y^3+z^3-3*x*y*z)"
   ]
  },
  {
   "cell_type": "markdown",
   "metadata": {
    "collapsed": false
   },
   "source": [
    "PolynomialRing uses FLINT\n",
    "Source: PolynomialRing?? \" The default is FLINT\""
   ]
  },
  {
   "cell_type": "markdown",
   "metadata": {
    "collapsed": false
   },
   "source": [
    "### Problem 3: Mersenne primes"
   ]
  },
  {
   "cell_type": "markdown",
   "metadata": {
    "collapsed": false
   },
   "source": [
    "Grading criteria: correctness of explanation and code."
   ]
  },
  {
   "cell_type": "markdown",
   "metadata": {
    "collapsed": false
   },
   "source": [
    "3a. A *Mersenne prime* is a prime number of the form $2^p-1$ where $p$ is itself prime. (Note that these are the only possible primes of the form $2^n-1$ where $n$ is a positive integer). They are called this because Marin Mersenne was the first person to attempt to list these primes systematically: he claimed that for $p \\leq 257$, $2^p-1$ is prime if and only if\n",
    "$$p \\in \\{2, 3, 5, 7, 13, 17, 19, 31, 67, 127, 257\\}.$$\n",
    "This list turns out to be incorrect; write Sage code to compute the correct list."
   ]
  },
  {
   "cell_type": "code",
   "execution_count": 2,
   "metadata": {
    "collapsed": false
   },
   "outputs": [
    {
     "data": {
      "text/plain": [
       "[2, 3, 5, 7, 13, 17, 19, 31, 61, 89, 107, 127]"
      ]
     },
     "execution_count": 2,
     "metadata": {
     },
     "output_type": "execute_result"
    }
   ],
   "source": [
    "l = []\n",
    "for i in range(1,258):\n",
    "    if ZZ(i).is_prime() == True and ZZ(2^i -1).is_prime() == True:\n",
    "        l.append(i)\n",
    "l"
   ]
  },
  {
   "cell_type": "markdown",
   "metadata": {
    "collapsed": false
   },
   "source": [
    "3b. On January 3, 2018, the [Great Internet Mersenne Prime Search](https://www.mersenne.org/) announced that $2^{77232917}-1$ is the \"50th known Mersenne prime.\" Why didn't they announce that it is the \"50th Mersenne prime\"?"
   ]
  },
  {
   "cell_type": "raw",
   "metadata": {
    "collapsed": false
   },
   "source": [
    "It has not been fully checked in the sense that there could be another unknown Mersenne prime $2^p -1$ with $p< 77232917$.\n",
    "\n",
    "Source: https://www.mersenne.org/"
   ]
  },
  {
   "cell_type": "markdown",
   "metadata": {
    "collapsed": false
   },
   "source": [
    "3c. The little Fermat theorem states that if $p$ is prime, then $2^{p-1} \\equiv 1 \\pmod{p}$. This can be used as a test for primality (the *Fermat test*) which has no false negatives, but does have some false positives (see part (d)).\n",
    "\n",
    "Explain why the following code cannot be used to  apply the Fermat test to the number $p = 2^{21701}-1$, then give an alternate approach that does work. "
   ]
  },
  {
   "cell_type": "raw",
   "metadata": {
    "collapsed": false
   },
   "source": [
    "p = 2^21701 - 1\n",
    "print(2^(p-1) % p) # This won't work."
   ]
  },
  {
   "cell_type": "raw",
   "metadata": {
    "collapsed": false
   },
   "source": [
    "Exponent exceeds maximum capacity for Python exponentiation."
   ]
  },
  {
   "cell_type": "code",
   "execution_count": 18,
   "metadata": {
    "collapsed": false
   },
   "outputs": [
    {
     "data": {
      "text/plain": [
       "1"
      ]
     },
     "execution_count": 18,
     "metadata": {
     },
     "output_type": "execute_result"
    }
   ],
   "source": [
    "p = 2^21701 - 1\n",
    "a = mod(2, p)\n",
    "a^(p-1)"
   ]
  },
  {
   "cell_type": "markdown",
   "metadata": {
    "collapsed": false
   },
   "source": [
    "3d. Find all integers up to 1000 which are false positives for the Fermat test. These include *Carmichael numbers*, in case you want to read more about this phenomenon."
   ]
  },
  {
   "cell_type": "code",
   "execution_count": 38,
   "metadata": {
    "collapsed": false
   },
   "outputs": [
    {
     "data": {
      "text/plain": [
       "[341, 561, 645]"
      ]
     },
     "execution_count": 38,
     "metadata": {
     },
     "output_type": "execute_result"
    }
   ],
   "source": [
    "l1 = []\n",
    "for i in range(3,1001):\n",
    "    a = mod(2,i)\n",
    "    if a^(i-1) == 1 and is_prime(i) is False:\n",
    "        l1.append(i)\n",
    "\n",
    "l1"
   ]
  },
  {
   "cell_type": "markdown",
   "metadata": {
    "collapsed": false
   },
   "source": [
    "### Problem 4: Defining and evaluating a function"
   ]
  },
  {
   "cell_type": "markdown",
   "metadata": {
    "collapsed": false
   },
   "source": [
    "Grading criteria: correctness of code."
   ]
  },
  {
   "cell_type": "markdown",
   "metadata": {
    "collapsed": false
   },
   "source": [
    "4a. Define in Sage the symbolic function (not a Python function)\n",
    "$$f(x) = \\sinh(x^2-x-1) + e^{\\pi x} + \\arcsin(x) + \\frac{1}{x^3-x-e}$$."
   ]
  },
  {
   "cell_type": "code",
   "execution_count": 5,
   "metadata": {
    "collapsed": false
   },
   "outputs": [
    {
     "data": {
      "text/plain": [
       "1/(x^3 - x - e) + arcsin(x) + e^(pi*x) + sinh(x^2 - x - 1)"
      ]
     },
     "execution_count": 5,
     "metadata": {
     },
     "output_type": "execute_result"
    }
   ],
   "source": [
    "x = var('x')\n",
    "f = sinh(x^2 - x - 1) +e^(pi*x) + arcsin(x) + (x^3 - x - e)^(-1)\n",
    "f"
   ]
  },
  {
   "cell_type": "markdown",
   "metadata": {
    "collapsed": false
   },
   "source": [
    "4b. Compute $f(1/2)$ exactly (i.e., your answer should be a symbolic expression)."
   ]
  },
  {
   "cell_type": "code",
   "execution_count": 9,
   "metadata": {
    "collapsed": false
   },
   "outputs": [
    {
     "data": {
      "text/plain": [
       "1/6*pi - 8/(8*e + 3) + e^(1/2*pi) - sinh(5/4)"
      ]
     },
     "execution_count": 9,
     "metadata": {
     },
     "output_type": "execute_result"
    }
   ],
   "source": [
    "f(1/2)"
   ]
  },
  {
   "cell_type": "markdown",
   "metadata": {
    "collapsed": false
   },
   "source": [
    "4c. Compute $f(1/2)$ numerically (i.e., your answer should be a decimal expansion)."
   ]
  },
  {
   "cell_type": "code",
   "execution_count": 10,
   "metadata": {
    "collapsed": false
   },
   "outputs": [
    {
     "data": {
      "text/plain": [
       "3.40887583146976"
      ]
     },
     "execution_count": 10,
     "metadata": {
     },
     "output_type": "execute_result"
    }
   ],
   "source": [
    "n(f(y))"
   ]
  },
  {
   "cell_type": "markdown",
   "metadata": {
    "collapsed": false
   },
   "source": [
    "4d. Plot $f(x)$ from $-1$ to $1$."
   ]
  },
  {
   "cell_type": "code",
   "execution_count": 8,
   "metadata": {
    "collapsed": false
   },
   "outputs": [
    {
     "data": {
      "image/png": "[encoded data removed]"
     },
     "output_type": "execute_result"
    }
   ],
   "source": [
    "plot(f, (x, -1, 1))"
   ]
  },
  {
   "cell_type": "markdown",
   "metadata": {
    "collapsed": false
   },
   "source": [
    "### Problem 5: Numerical root-finding"
   ]
  },
  {
   "cell_type": "markdown",
   "metadata": {
    "collapsed": false
   },
   "source": [
    "Grading criteria: correctness (of code) and thoroughness (of explanation)."
   ]
  },
  {
   "cell_type": "markdown",
   "metadata": {
    "collapsed": false
   },
   "source": [
    "5a. Plot the function $f(x) = \\displaystyle x^2 + \\sin(x)$ on the interval $[-2,2]$.\n"
   ]
  },
  {
   "cell_type": "code",
   "execution_count": 17,
   "metadata": {
    "collapsed": false
   },
   "outputs": [
    {
     "data": {
      "image/png": "[encoded data removed]"
     },
     "output_type": "execute_result"
    }
   ],
   "source": [
    "x = var('x')\n",
    "f = x^2 + sin(x)\n",
    "plot(f, (x, -2, 2))"
   ]
  },
  {
   "cell_type": "markdown",
   "metadata": {
    "collapsed": false
   },
   "source": [
    "5b. Use Sage to compute the derivative and antiderivative of $f$.\n"
   ]
  },
  {
   "cell_type": "code",
   "execution_count": 18,
   "metadata": {
    "collapsed": false
   },
   "outputs": [
    {
     "data": {
      "text/plain": [
       "{'antiderivative': 1/3*x^3 - cos(x), 'derivative': 2*x + cos(x)}"
      ]
     },
     "execution_count": 18,
     "metadata": {
     },
     "output_type": "execute_result"
    }
   ],
   "source": [
    "l ={'derivative': derivative(f), 'antiderivative': integral(f)}\n",
    "l"
   ]
  },
  {
   "cell_type": "markdown",
   "metadata": {
    "collapsed": false
   },
   "source": [
    "5c. Find numerical approximations to *all* of the zeros of $f(x)$."
   ]
  },
  {
   "cell_type": "code",
   "execution_count": 11,
   "metadata": {
    "collapsed": false
   },
   "outputs": [
    {
     "data": {
      "text/plain": [
       "(-0.8767262153950622, -9.011553445415526e-16)"
      ]
     },
     "execution_count": 11,
     "metadata": {
     },
     "output_type": "execute_result"
    }
   ],
   "source": [
    "find_root(f,-2,-0.5), find_root(f,-0.25,0.25)"
   ]
  },
  {
   "cell_type": "markdown",
   "metadata": {
    "collapsed": false
   },
   "source": [
    "5d. In as much detail as you can, justify mathematically why your list in (c) is complete. Your explanation may include additional Sage code if necessary."
   ]
  },
  {
   "cell_type": "markdown",
   "metadata": {
    "collapsed": false
   },
   "source": [
    "We note that $|\\sin(x)|\\leq 1$ for all $x$ while $|x^2|>1$ when $x$ isn't in the interval $[-1,1]$. All zeros of the function $f(x)$ must therefore be in the interval $[-1,1]$."
   ]
  },
  {
   "cell_type": "markdown",
   "metadata": {
    "collapsed": false
   },
   "source": [
    "### Problem 6: Taylor series"
   ]
  },
  {
   "cell_type": "markdown",
   "metadata": {
    "collapsed": false
   },
   "source": [
    "Grading criteria: correctness."
   ]
  },
  {
   "cell_type": "markdown",
   "metadata": {
    "collapsed": false
   },
   "source": [
    "6a. Define the function $f(x) = \\sin(x^2)$. Find the degree 3 Taylor series $p_3$ of $f$ about $x_0 = 2\\pi$."
   ]
  },
  {
   "cell_type": "code",
   "execution_count": 2,
   "metadata": {
    "collapsed": false
   },
   "outputs": [
    {
     "data": {
      "text/plain": [
       "4/3*(2*pi - x)^3*(8*pi^3*cos(4*pi^2) + 3*pi*sin(4*pi^2)) - (2*pi - x)^2*(8*pi^2*sin(4*pi^2) - cos(4*pi^2)) - 4*pi*(2*pi - x)*cos(4*pi^2) + sin(4*pi^2)"
      ]
     },
     "execution_count": 2,
     "metadata": {
     },
     "output_type": "execute_result"
    }
   ],
   "source": [
    "x = var('x')\n",
    "f = sin(x^2)\n",
    "f.taylor(x,2*pi,3)"
   ]
  },
  {
   "cell_type": "markdown",
   "metadata": {
    "collapsed": false
   },
   "source": [
    "6b. Make a single Sage plot on the interval $x=[\\pi, 3\\pi]$ showing both $f(x)$ and its degree 10 Taylor series $p_{10}$ about $x_0 = 2\\pi$."
   ]
  },
  {
   "cell_type": "code",
   "execution_count": 4,
   "metadata": {
    "collapsed": false,
    "scrolled": true
   },
   "outputs": [
    {
     "data": {
      "image/png": "[encoded data removed]"
     },
     "output_type": "execute_result"
    }
   ],
   "source": [
    "g = f.taylor(x,2*pi,10)\n",
    "p1 = plot(f, (x, pi, 3*pi), color='green', legend_label='$sin(x^2)$')\n",
    "p2 = plot(g, (x, pi, 3*pi), color='blue', linestyle='--', ymin =-2, ymax = 2, legend_label='$p_{10}$')\n",
    "show(p1 + p2)"
   ]
  },
  {
   "cell_type": "code",
   "execution_count": 0,
   "metadata": {
    "collapsed": false
   },
   "outputs": [
   ],
   "source": [
   ]
  }
 ],
 "metadata": {
  "kernelspec": {
   "display_name": "SageMath 8.1",
   "name": "sage-8.1"
  },
  "language_info": {
   "codemirror_mode": {
    "name": "ipython",
    "version": 2
   },
   "file_extension": ".py",
   "mimetype": "text/x-python",
   "name": "python",
   "nbconvert_exporter": "python",
   "pygments_lexer": "ipython2",
   "version": "2.7.14"
  }
 },
 "nbformat": 4,
 "nbformat_minor": 0
}