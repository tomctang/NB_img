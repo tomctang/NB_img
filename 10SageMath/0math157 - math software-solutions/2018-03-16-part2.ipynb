{
 "cells": [
  {
   "cell_type": "code",
   "execution_count": 0,
   "metadata": {
    "collapsed": false
   },
   "outputs": [
   ],
   "source": [
   ]
  },
  {
   "cell_type": "code",
   "execution_count": 0,
   "metadata": {
    "collapsed": false
   },
   "outputs": [
   ],
   "source": [
    "###### Math 157: Intro to Mathematical Software\n",
    "## UC San Diego, winter 2018"
   ]
  },
  {
   "cell_type": "markdown",
   "metadata": {
    "collapsed": false
   },
   "source": [
    "## Final project, part 2: due March 16, 2018"
   ]
  },
  {
   "cell_type": "markdown",
   "metadata": {
    "collapsed": false
   },
   "source": [
    "The final project consists of two parts, each of equal value. Both parts will be submitted in this folder, just like a homework assignment. However, the final project is *not* equivalent to a homework assignment from the point of view of course grading; it is a separate contribution, and cannot be dropped."
   ]
  },
  {
   "cell_type": "markdown",
   "metadata": {
    "collapsed": false
   },
   "source": [
    "Part 2 is an open-ended assignment, in which you will be making a presentation to some of your fellow students on one of these topics:\n",
    " - Combinatorial designs in Sage (see `sage.combinat.designs`)\n",
    " - Fast Fourier transforms (see `scipy.fftpack`)\n",
    " - Linear feedback shift registers in Sage (see `sage.crypto`)\n",
    " - Permutation groups in Sage (see `sage.groups` and related functions)\n",
    " - Model selection for machine learning (see `sklearn.model_selection`)\n",
    " - Numerical solution of ODEs (see `scipy.integrate.ode`)\n",
    " \n",
    "Detailed instructions are given below. Note that you are not being asked to edit *this* notebook in any way; any material added to this notebook will not be counted for credit."
   ]
  },
  {
   "cell_type": "markdown",
   "metadata": {
    "collapsed": false
   },
   "source": [
    "To complete the final project successfully, please follow these steps.\n",
    "- As soon as possible (preferably by Wednesday, February 28), fill out this [Google Form](https://docs.google.com/forms/d/e/1FAIpQLScw8RMWcCdWyzJK2xUgBNHoCgIkQcFmhw0_AYjZZu_j5KcKkg/viewform?usp=sf_link) indicating your first and second choices of topic.\n",
    " - My intention is for everyone to get their first choice; however, if too many people have the same first choice, I will announce this on Wednesday, February 28 and give you a chance to reconsider.\n",
    " - You will also be assigned randomly to a group of 3 or 4 in which all of you have chosen *different* topics (this being the reason why not too many people can choose the same topic). These groups will be announced (and the list made available in the shared project) by Monday, March 5. If I do not have your topic preferences at this point, you will be assigned both a group *and* a topic.\n",
    "- Prepare a Jupyter notebook called \"presentation-xxx.ipynb\" where xxx is your UCSD email address (without the `@ucsd.edu` part).\n",
    " - Your notebook should be in the style of a lecture of this course, but of half the length (20-30 minutes).\n",
    " - Your intended audience is a typical student in this course. In particular, do not assume any prerequisites beyond those required for this course.\n",
    " - You should cover material that has not already been presented in the course.\n",
    " - You should include an appropriate balance of expository text, examples, and references for further information.\n",
    " - You should include at least two sample exercises *with solutions* for a hypothetical problem set on this topic; these should appear at the end of your notebook.\n",
    " - As always, cite all sources and collaborators.\n",
    "- Meet with your assigned group and have each person make a presentation based on their notebook (excluding the exercises).\n",
    " - I don't expect you to have access to a video projector (though if you do, so much the better). Just have everyone crowd around your device as you go through your presentation.\n",
    " - Your group can choose any mutually agreeable time(s) for the presentations as long as you get them done in time to submit the project. However, there will be no lectures on Monday, March 12 or Wednesday, March 14, so you may find it convenient to use these times for this purpose.\n",
    " - You may wish to share your notebook with the students in your group. You can do this by transferring files through the shared project; creating a new project with your group members as the collaborators; or downloading and uploading files out of CoCalc.\n",
    " - It is permitted to revise your notebook after making your presentation; in this case, you will be asked to submit an extra file summarizing these changes.\n",
    " - Please make contact with your group no later than Friday, March 9. If you are unable to contact one of the members of your group, please let me know as soon as possible.\n",
    "- Submit, in this folder, the following files.\n",
    " - `presentation-xxx.ipynb`: your presentation notebook.\n",
    " - `changes-xxx.txt` (optional): a description of any changes you made to your presentation based on feedback from your group.\n",
    " - `feedback-xxx-yyy.txt`: for each other member of your group, your comments on their presentation. Here `yyy` is the other person's UCSD email address, again without `@ucsd.edu`. (So if your group consists of 4 people, you will submit 3 files of this type.)\n"
   ]
  },
  {
   "cell_type": "markdown",
   "metadata": {
    "collapsed": false
   },
   "source": [
    "Grading criteria:\n",
    " - Presentation (50%):\n",
    "   - Completeness: Did you include enough material for 20-30 minutes? Is your material at a suitable depth?\n",
    "   - Correctness: Do your examples work?\n",
    "   - Exposition: Does your text actually explain what is going on?\n",
    " - Exercise set and solution key (30%):\n",
    "   - Completeness: Did you include enough material for two exercises? Is your material at a suitable depth?\n",
    "   - Correctness: Are your solutions correct?\n",
    "   - Exposition: Do your problems serve to elucidate your chosen topic?\n",
    " - Feedback (20%):\n",
    "   - Thoroughness: Did you provide comments on all of your assigned presentations?\n",
    "   - Thoughtfulness: Were you paying attention? Are your comments germane?"
   ]
  }
 ],
 "metadata": {
  "kernelspec": {
   "display_name": "SageMath 8.1",
   "name": "sage-8.1"
  },
  "language_info": {
   "codemirror_mode": {
    "name": "ipython",
    "version": 2
   },
   "file_extension": ".py",
   "mimetype": "text/x-python",
   "name": "python",
   "nbconvert_exporter": "python",
   "pygments_lexer": "ipython2",
   "version": "2.7.14"
  }
 },
 "nbformat": 4,
 "nbformat_minor": 0
}