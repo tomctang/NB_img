{
 "cells": [
  {
   "cell_type": "markdown",
   "metadata": {
    "collapsed": false
   },
   "source": [
    "## Math 157: Intro to Mathematical Software\n",
    "## UC San Diego, winter 2018"
   ]
  },
  {
   "cell_type": "markdown",
   "metadata": {
    "collapsed": false
   },
   "source": [
    "## Homework 4: due February 9, 2018"
   ]
  },
  {
   "cell_type": "markdown",
   "metadata": {
    "collapsed": false
   },
   "source": [
    "Please enter all answers within this notebook unless otherwise specified. As usual, don't forget to cite sources and collaborators.\n",
    "\n",
    "Through this problem set, use the SageMath 8.1 kernel."
   ]
  },
  {
   "cell_type": "markdown",
   "metadata": {
    "collapsed": false
   },
   "source": [
    "### Problem 1: QR codes"
   ]
  },
  {
   "cell_type": "markdown",
   "metadata": {
    "collapsed": false
   },
   "source": [
    "Grading criterion: correctness of code and output."
   ]
  },
  {
   "cell_type": "markdown",
   "metadata": {
    "collapsed": false
   },
   "source": [
    "1a. The following image is the file \"qr.gif\" in this folder: ![qr.gif](qr.gif). Using the command `scipy.misc.imread`, convert this QR code into the underlying 0-1 matrix that it represents (black = 0, white = 1). You might want to read the [Scipy Lectures section on image processing](http://www.scipy-lectures.org/advanced/image_processing/) for some context on image processing.\n",
    "\n",
    "\n"
   ]
  },
  {
   "cell_type": "code",
   "execution_count": 7,
   "metadata": {
    "collapsed": false,
    "scrolled": true
   },
   "outputs": [
   ],
   "source": [
    "from scipy import misc\n",
    "qr=misc.imread('qr.gif', mode='L') # This is a good mode to use for simple black and white images like this one\n",
    "for i in range(100):\n",
    "    for j in range(100):\n",
    "        qr[i][j]=1-qr[i][j]/255 # Turn the 255s to 0 and the 0s to 1\n",
    "newqr=matrix(qr)"
   ]
  },
  {
   "cell_type": "markdown",
   "metadata": {
    "collapsed": false
   },
   "source": [
    "1b. Using the command `matrix_plot`, convert your answer for part (a) back into a QR code. Your answer should be legible to a standard QR code reader (e.g., on your phone)."
   ]
  },
  {
   "cell_type": "code",
   "execution_count": 8,
   "metadata": {
    "collapsed": false
   },
   "outputs": [
    {
     "data": {
      "image/png": "[encoded data removed]"
     },
     "execution_count": 8,
     "metadata": {
     },
     "output_type": "execute_result"
    }
   ],
   "source": [
    "matrix_plot(newqr)"
   ]
  },
  {
   "cell_type": "markdown",
   "metadata": {
    "collapsed": false
   },
   "source": [
    "### Problem 2: Timing"
   ]
  },
  {
   "cell_type": "markdown",
   "metadata": {
    "collapsed": false
   },
   "source": [
    "Grading criterion: correctness of code."
   ]
  },
  {
   "cell_type": "markdown",
   "metadata": {
    "collapsed": false
   },
   "source": [
    "2a. Write a straightforward Python function (that is, directly implement the definition without using any Sage or NumPy shortcuts) to compute the standard deviation of a list of numbers."
   ]
  },
  {
   "cell_type": "code",
   "execution_count": 10,
   "metadata": {
    "collapsed": false
   },
   "outputs": [
    {
     "data": {
      "text/plain": [
       "2.00000000000000"
      ]
     },
     "execution_count": 10,
     "metadata": {
     },
     "output_type": "execute_result"
    }
   ],
   "source": [
    "def f(v):\n",
    "    avg=sum(v)/len(v) # compute average of the list\n",
    "    var_sq=0\n",
    "    for x in v: # compute the square of the varience, term by term\n",
    "        var_sq+= (x-avg)^2/len(v)\n",
    "    return(var_sq^.5) # return the variance\n",
    "\n",
    "\n",
    "f([2,4,4,4,5,5,7,9])"
   ]
  },
  {
   "cell_type": "markdown",
   "metadata": {
    "collapsed": false
   },
   "source": [
    "2b. Using `timeit`, compare the speed of your program when given as input `v = range(1000)`,  `v = range(10000)` and `v = range(100000)` with the built-in functions provided by the following systems:\n",
    "- numpy;\n",
    "- R (use `r.???` to access R functions);\n",
    "- `stats.TimeSeries`."
   ]
  },
  {
   "cell_type": "code",
   "execution_count": 13,
   "metadata": {
    "collapsed": false,
    "scrolled": true
   },
   "outputs": [
    {
     "name": "stdout",
     "output_type": "stream",
     "text": [
      "v=range(1000)\n"
     ]
    },
    {
     "name": "stdout",
     "output_type": "stream",
     "text": [
      "125 loops, best of 3: 1.86 ms per loop\n"
     ]
    },
    {
     "name": "stdout",
     "output_type": "stream",
     "text": [
      "625 loops, best of 3: 101 µs per loop\n"
     ]
    },
    {
     "name": "stdout",
     "output_type": "stream",
     "text": [
      "25 loops, best of 3: 11.7 ms per loop\n",
      "625 loops, best of 3: 32.4 µs per loop\n",
      "v=range(10000)\n"
     ]
    },
    {
     "name": "stdout",
     "output_type": "stream",
     "text": [
      "25 loops, best of 3: 19.5 ms per loop\n"
     ]
    },
    {
     "name": "stdout",
     "output_type": "stream",
     "text": [
      "625 loops, best of 3: 709 µs per loop\n"
     ]
    },
    {
     "name": "stdout",
     "output_type": "stream",
     "text": [
      "25 loops, best of 3: 14.4 ms per loop\n"
     ]
    },
    {
     "name": "stdout",
     "output_type": "stream",
     "text": [
      "625 loops, best of 3: 314 µs per loop\n",
      "v=range(100000)\n"
     ]
    },
    {
     "name": "stdout",
     "output_type": "stream",
     "text": [
      "5 loops, best of 3: 205 ms per loop\n"
     ]
    },
    {
     "name": "stdout",
     "output_type": "stream",
     "text": [
      "25 loops, best of 3: 7.92 ms per loop\n"
     ]
    },
    {
     "name": "stdout",
     "output_type": "stream",
     "text": [
      "25 loops, best of 3: 15.8 ms per loop\n",
      "125 loops, best of 3: 4.1 ms per loop\n"
     ]
    }
   ],
   "source": [
    "import numpy \n",
    "\n",
    "print('v=range(1000)')\n",
    "timeit('f(range(1000))') \n",
    "timeit('numpy.std(range(1000))') \n",
    "timeit('r.sd(r.seq(1,1000))')\n",
    "timeit('stats.TimeSeries.standard_deviation(finance.TimeSeries(range(1000)))')\n",
    "print('v=range(10000)')\n",
    "timeit('f(range(10000))') \n",
    "timeit('numpy.std(range(10000))') \n",
    "timeit('r.sd(r.seq(1,10000))')\n",
    "timeit('stats.TimeSeries.standard_deviation(finance.TimeSeries(range(10000)))')\n",
    "print('v=range(100000)')\n",
    "timeit('f(range(100000))') \n",
    "timeit('numpy.std(range(100000))') \n",
    "timeit('r.sd(r.seq(1,100000))')\n",
    "timeit('stats.TimeSeries.standard_deviation(finance.TimeSeries(range(100000)))')"
   ]
  },
  {
   "cell_type": "code",
   "execution_count": 0,
   "metadata": {
    "collapsed": false
   },
   "outputs": [
   ],
   "source": [
   ]
  },
  {
   "cell_type": "markdown",
   "metadata": {
    "collapsed": false
   },
   "source": [
    "### Problem 3: Playing cards"
   ]
  },
  {
   "cell_type": "markdown",
   "metadata": {
    "collapsed": false
   },
   "source": [
    "Grading criterion: correctness of code and output."
   ]
  },
  {
   "cell_type": "markdown",
   "metadata": {
    "collapsed": false
   },
   "source": [
    "Overall hint: you may want to read this [tutorial](https://doc.sagemath.org/html/en/reference/combinat/sage/combinat/tutorial.html) which solves an easier version of this problem."
   ]
  },
  {
   "cell_type": "markdown",
   "metadata": {
    "collapsed": false
   },
   "source": [
    "3a. Form a \"deck of playing cards\" by making a list of 52 tuples, each of which is an ordered pair whose first member is one of the 13 possible ranks (A,2,3,4,5,6,7,8,9,T,J,Q,K) and whose second member is one of the 4 possible suits (C,D,H,S)."
   ]
  },
  {
   "cell_type": "code",
   "execution_count": 63,
   "metadata": {
    "collapsed": false
   },
   "outputs": [
   ],
   "source": [
    "Suits = Set(['H', 'D', 'S', 'C'])\n",
    "Values = Set(['A', 2,3,4,5,6,7,8,9,10, \"J\", \"Q\", \"K\"])\n",
    "Cards = list(cartesian_product([Values, Suits]))\n"
   ]
  },
  {
   "cell_type": "markdown",
   "metadata": {
    "collapsed": false
   },
   "source": [
    "3b. A *poker hand* consists of five distinct cards (order not important). Construct an iterator (not a list) that enumerates the possible poker hands from your deck."
   ]
  },
  {
   "cell_type": "code",
   "execution_count": 64,
   "metadata": {
    "collapsed": false
   },
   "outputs": [
   ],
   "source": [
    "hands = (Set(Cards[i] for i in indices) for indices in Subsets(range(52), 5))\n"
   ]
  },
  {
   "cell_type": "markdown",
   "metadata": {
    "collapsed": false
   },
   "source": [
    "3c. Write a function that, given a poker hand, returns the classification of this hand according to the [Wikipedia list of poker hands](https://en.wikipedia.org/wiki/List_of_poker_hands)."
   ]
  },
  {
   "cell_type": "code",
   "execution_count": 65,
   "metadata": {
    "collapsed": false
   },
   "outputs": [
   ],
   "source": [
    "def flush_check(hand):\n",
    "    suits=Set(card[1] for card in hand) # Looks at the set of all suits in the hand (ignoring repeats)\n",
    "    if len(suits)==1: # Flushes have exactly one suit\n",
    "        return True\n",
    "    else:\n",
    "        return False\n",
    "        \n",
    "def straight_check(hand):\n",
    "    values=Set(card[0] for card in hand) # Looks at the sets of all values in the hand (order doesn't matter and straights have no repeats)\n",
    "    value_order=['A']+range(2,11)+['J', 'Q', 'K', 'A']\n",
    "    straights=[Set(value_order[i:i+5]) for i in range(len(value_order)-4)] # Makes a list of all the sets that correspond to straights\n",
    "    if values in straights:\n",
    "        return True\n",
    "    else:\n",
    "        return False\n",
    "    \n",
    "def classify(hand):\n",
    "    flush=flush_check(hand)\n",
    "    straight=straight_check(hand)\n",
    "    vals=[card[0] for card in hand] # Looks at the list of values in the hand (repeats matter, so we can't use a set here)\n",
    "    val_set=Set(vals) # Turning this into a set tells us which values appear and now ignores repeats\n",
    "    val_freq=sorted([vals.count(val) for val in val_set]) # Given a value in the hand, vals.count(val) tells how many cards in the hand have this value. val_freq is the list of all such values. This is the information we need to distinguish between things like full houses and two pair.\n",
    "    if flush and straight: # Running through all the possible hand types in order. It's important to check for a straight flush before checking for a straight!\n",
    "        return 1\n",
    "    elif val_freq==[1,4]: # Hands with four of a kind must have exactly this value frequency.\n",
    "        return 2\n",
    "    elif val_freq==[2,3]:\n",
    "        return 3\n",
    "    elif flush:\n",
    "        return 4\n",
    "    elif straight:\n",
    "        return 5\n",
    "    elif val_freq==[1,1,3]:\n",
    "        return 6\n",
    "    elif val_freq==[1,2,2]:\n",
    "        return 7\n",
    "    elif val_freq==[1,1,1,2]: # Hands with one pair (and nothing else) must have exactly this value frequency, a pair and three distinct other values.\n",
    "        return 8\n",
    "    else: \n",
    "        return 9\n",
    "\n",
    "    "
   ]
  },
  {
   "cell_type": "markdown",
   "metadata": {
    "collapsed": false
   },
   "source": [
    "3d. Using your answer to 3c, compute the probability that a poker hand, chosen randomly from a deck, is of any particular type."
   ]
  },
  {
   "cell_type": "code",
   "execution_count": 66,
   "metadata": {
    "collapsed": false
   },
   "outputs": [
    {
     "name": "stdout",
     "output_type": "stream",
     "text": [
      "100000\n"
     ]
    },
    {
     "name": "stdout",
     "output_type": "stream",
     "text": [
      "200000\n"
     ]
    },
    {
     "name": "stdout",
     "output_type": "stream",
     "text": [
      "300000\n"
     ]
    },
    {
     "name": "stdout",
     "output_type": "stream",
     "text": [
      "400000\n"
     ]
    },
    {
     "name": "stdout",
     "output_type": "stream",
     "text": [
      "500000\n"
     ]
    },
    {
     "name": "stdout",
     "output_type": "stream",
     "text": [
      "600000\n"
     ]
    },
    {
     "name": "stdout",
     "output_type": "stream",
     "text": [
      "700000\n"
     ]
    },
    {
     "name": "stdout",
     "output_type": "stream",
     "text": [
      "800000\n"
     ]
    },
    {
     "name": "stdout",
     "output_type": "stream",
     "text": [
      "900000\n"
     ]
    },
    {
     "name": "stdout",
     "output_type": "stream",
     "text": [
      "1000000\n"
     ]
    },
    {
     "name": "stdout",
     "output_type": "stream",
     "text": [
      "1100000\n"
     ]
    },
    {
     "name": "stdout",
     "output_type": "stream",
     "text": [
      "1200000\n"
     ]
    },
    {
     "name": "stdout",
     "output_type": "stream",
     "text": [
      "1300000\n"
     ]
    },
    {
     "name": "stdout",
     "output_type": "stream",
     "text": [
      "1400000\n"
     ]
    },
    {
     "name": "stdout",
     "output_type": "stream",
     "text": [
      "1500000\n"
     ]
    },
    {
     "name": "stdout",
     "output_type": "stream",
     "text": [
      "1600000\n"
     ]
    },
    {
     "name": "stdout",
     "output_type": "stream",
     "text": [
      "1700000\n"
     ]
    },
    {
     "name": "stdout",
     "output_type": "stream",
     "text": [
      "1800000\n"
     ]
    },
    {
     "name": "stdout",
     "output_type": "stream",
     "text": [
      "1900000\n"
     ]
    },
    {
     "name": "stdout",
     "output_type": "stream",
     "text": [
      "2000000\n"
     ]
    },
    {
     "name": "stdout",
     "output_type": "stream",
     "text": [
      "2100000\n"
     ]
    },
    {
     "name": "stdout",
     "output_type": "stream",
     "text": [
      "2200000\n"
     ]
    },
    {
     "name": "stdout",
     "output_type": "stream",
     "text": [
      "2300000\n"
     ]
    },
    {
     "name": "stdout",
     "output_type": "stream",
     "text": [
      "2400000\n"
     ]
    },
    {
     "name": "stdout",
     "output_type": "stream",
     "text": [
      "2500000\n"
     ]
    },
    {
     "data": {
      "text/plain": [
       "{1: 40,\n",
       " 2: 624,\n",
       " 3: 3744,\n",
       " 4: 5108,\n",
       " 5: 10200,\n",
       " 6: 54912,\n",
       " 7: 123552,\n",
       " 8: 1098240,\n",
       " 9: 1302540}"
      ]
     },
     "execution_count": 66,
     "metadata": {
     },
     "output_type": "execute_result"
    }
   ],
   "source": [
    "hand_totals={} # Making a dictionary with the hand types\n",
    "for i in range(1,10):\n",
    "    hand_totals[i]=0 # Initially there are no hands of each type\n",
    "  \n",
    "\n",
    "counter=0\n",
    "for hand in hands: # This takes 30 minutes to run\n",
    "    counter+=1\n",
    "    if counter%100000==0: # Prints out progress reports\n",
    "        print counter\n",
    "    hand_totals[classify(hand)]+=1 # For each hand, classify and update the dictionary\n",
    "    \n",
    "hand_totals\n",
    "    "
   ]
  },
  {
   "cell_type": "code",
   "execution_count": 67,
   "metadata": {
    "collapsed": false
   },
   "outputs": [
    {
     "data": {
      "text/plain": [
       "{1: (1/64974, 1.5390771693292702e-05),\n",
       " 2: (1/4165, 0.00024009603841536616),\n",
       " 3: (6/4165, 0.0014405762304921968),\n",
       " 4: (1277/649740, 0.001965401545233478),\n",
       " 5: (5/1274, 0.003924646781789639),\n",
       " 6: (88/4165, 0.02112845138055222),\n",
       " 7: (198/4165, 0.0475390156062425),\n",
       " 8: (352/833, 0.4225690276110444),\n",
       " 9: (1277/2548, 0.5011773940345369)}"
      ]
     },
     "execution_count": 67,
     "metadata": {
     },
     "output_type": "execute_result"
    }
   ],
   "source": [
    "hand_nums=sum(hand_totals[i] for i in hand_totals) \n",
    "for i in hand_totals:\n",
    "    hand_totals[i]=(hand_totals[i]/hand_nums, float(hand_totals[i]/hand_nums)) # Showing hand frequencies both in fraction and float form\n",
    "hand_totals"
   ]
  },
  {
   "cell_type": "code",
   "execution_count": 0,
   "metadata": {
    "collapsed": false
   },
   "outputs": [
   ],
   "source": [
   ]
  },
  {
   "cell_type": "markdown",
   "metadata": {
    "collapsed": false
   },
   "source": [
    "### Problem 4: The weak Goldbach problem"
   ]
  },
  {
   "cell_type": "markdown",
   "metadata": {
    "collapsed": false
   },
   "source": [
    "Grading criterion: correctness of code and thoroughness of analysis."
   ]
  },
  {
   "cell_type": "markdown",
   "metadata": {
    "collapsed": false
   },
   "source": [
    "The notorious *Goldbach problem* is to prove that every even integer greater than 2 can be written as the sum of two primes. A slightly easier problem (which would follow from the original Goldbach problem) is to prove that every odd integer greater than 5 can be written as the sum of three primes. This was shown for *sufficiently large* integers by Vinogradov in 1937; the gap between \"sufficiently large\" and \"all\" was closed by Helfgott in 2013. (This involves serious use of interval arithmetic, but never mind for now.)"
   ]
  },
  {
   "cell_type": "code",
   "execution_count": 0,
   "metadata": {
    "collapsed": false
   },
   "outputs": [
   ],
   "source": [
   ]
  },
  {
   "cell_type": "markdown",
   "metadata": {
    "collapsed": false
   },
   "source": [
    "4a. Define a function that, given an odd positive integer $n$, returns a list of all of the ways to write $n$ as a sum of three odd primes (up to permutations) by doing a list comprehension over all partitions of $n$ into three positive integers, testing whether each summand is prime."
   ]
  },
  {
   "cell_type": "code",
   "execution_count": 16,
   "metadata": {
    "collapsed": false
   },
   "outputs": [
   ],
   "source": [
    "def weak_goldbach1(n):\n",
    "    if n%2==0:\n",
    "        return 'n must be odd'\n",
    "    plist=[lis for lis in Partitions(n, length=3) if all([is_prime(i) for i in lis])] # Using an iterator because there are lots of partitions\n",
    "    return plist"
   ]
  },
  {
   "cell_type": "markdown",
   "metadata": {
    "collapsed": false
   },
   "source": [
    "4b. Define another function that does the same combination, but this time by doing a list comprehension over all combinations of three elements of the set of primes less than $n$, testing whether each triple adds up to $n$."
   ]
  },
  {
   "cell_type": "code",
   "execution_count": 37,
   "metadata": {
    "collapsed": false
   },
   "outputs": [
   ],
   "source": [
    "import itertools\n",
    "\n",
    "def weak_goldbach2(n):\n",
    "    if n%2==0:\n",
    "        return 'n must be odd'\n",
    "    plist=[s for s in itertools.combinations_with_replacement(primes(1,n), 3) if sum(s)==n] # Counts number of ways to write n as three distinct primes\n",
    "\n",
    "    return plist\n"
   ]
  },
  {
   "cell_type": "markdown",
   "metadata": {
    "collapsed": false
   },
   "source": [
    "4c. To confirm that the two methods agree, count the number of solutions returned by 4a and 4b for $n=10^k+1$ for $k=1,2,3,4,5$."
   ]
  },
  {
   "cell_type": "code",
   "execution_count": 0,
   "metadata": {
    "collapsed": false
   },
   "outputs": [
   ],
   "source": [
   ]
  },
  {
   "cell_type": "code",
   "execution_count": 38,
   "metadata": {
    "collapsed": false
   },
   "outputs": [
    {
     "name": "stdout",
     "output_type": "stream",
     "text": [
      "(2, 2)\n",
      "(38, 38)\n"
     ]
    },
    {
     "name": "stdout",
     "output_type": "stream",
     "text": [
      "(1095, 1095)\n"
     ]
    },
    {
     "name": "stdout",
     "output_type": "stream",
     "text": [
      "(42615, 42615)\n"
     ]
    }
   ],
   "source": [
    "for k in range(1,5):\n",
    "    print(len(weak_goldbach1(10^k+1)), len(weak_goldbach2(10^k+1)))\n"
   ]
  },
  {
   "cell_type": "markdown",
   "metadata": {
    "collapsed": false
   },
   "source": [
    "4d. Using the result of 4c, make a guess about how the number of solutions behaves for large $n$. You may collect additional data if that helps."
   ]
  },
  {
   "cell_type": "code",
   "execution_count": 44,
   "metadata": {
    "collapsed": false
   },
   "outputs": [
    {
     "data": {
      "image/png": "[encoded data removed]"
     },
     "execution_count": 44,
     "metadata": {
     },
     "output_type": "execute_result"
    }
   ],
   "source": [
    "xlis=[]\n",
    "ylis=[]\n",
    "for i in range(1,20):\n",
    "    xlis+=[100*i+1]\n",
    "    ylis+=[len(weak_goldbach1(100*i+1))]\n",
    "    \n",
    "xlis+=[4001, 7001]\n",
    "ylis+=[len(weak_goldbach1(4001)), len(weak_goldbach1(7001))]\n",
    "xlis+=[10^4+1]\n",
    "ylis+=[42615]\n",
    "    \n",
    "import matplotlib.pyplot as plt\n",
    "plt.plot(xlis, ylis)\n",
    "plt.show()"
   ]
  },
  {
   "cell_type": "markdown",
   "metadata": {
    "collapsed": false
   },
   "source": [
    "The number of solutions appears to be growing slightly faster than linearly"
   ]
  },
  {
   "cell_type": "markdown",
   "metadata": {
    "collapsed": false
   },
   "source": [
    "### Problem 5: A threshold property of random graphs"
   ]
  },
  {
   "cell_type": "markdown",
   "metadata": {
    "collapsed": false
   },
   "source": [
    "Grading criterion: correctness of code and thoroughness of analysis."
   ]
  },
  {
   "cell_type": "markdown",
   "metadata": {
    "collapsed": false
   },
   "source": [
    "5a. Let us say that a graph is *mostly connected* if there is a single connected component containing at least 75% of the vertices. Write a function to test whether a given graph has this property."
   ]
  },
  {
   "cell_type": "code",
   "execution_count": 45,
   "metadata": {
    "collapsed": false
   },
   "outputs": [
   ],
   "source": [
    "def Gcomp(graph, compsize=.75):\n",
    "    maxcomp=0\n",
    "    ccomps=graph.connected_components() # Get list of connected components of the graph\n",
    "    for comp in ccomps: # Iterates through the components to find the largest one\n",
    "        if len(comp)>maxcomp:\n",
    "            maxcomp=len(comp) \n",
    "    if maxcomp>=order(graph)*compsize: # If the largest component has over 75% of the vertices, return True\n",
    "        return True\n",
    "    return False\n"
   ]
  },
  {
   "cell_type": "markdown",
   "metadata": {
    "collapsed": false
   },
   "source": [
    "5b. Let $G(n, p)$ be a graph on $n$ vertices in which each possible edge is included with probability $p$. For $n = 100, 500, 1000$, plot the probability that $G(n,p)$ is mostly connected (based on a sample of 100 random graphs) as a function of $p$."
   ]
  },
  {
   "cell_type": "code",
   "execution_count": 52,
   "metadata": {
    "collapsed": false
   },
   "outputs": [
    {
     "data": {
      "image/png": "[encoded data removed]"
     },
     "execution_count": 52,
     "metadata": {
     },
     "output_type": "execute_result"
    },
    {
     "data": {
      "image/png": "[encoded data removed]"
     },
     "execution_count": 52,
     "metadata": {
     },
     "output_type": "execute_result"
    },
    {
     "data": {
      "image/png": "[encoded data removed]"
     },
     "execution_count": 52,
     "metadata": {
     },
     "output_type": "execute_result"
    },
    {
     "data": {
      "text/plain": [
       "(None, None, None)"
      ]
     },
     "execution_count": 52,
     "metadata": {
     },
     "output_type": "execute_result"
    }
   ],
   "source": [
    "import matplotlib.pyplot as plt\n",
    "\n",
    "def Gprob(vert_num, edge_prob, trials=100):\n",
    "    mcon=0 # Make a counter\n",
    "    for i in range(trials):\n",
    "        graph=graphs.RandomGNP(vert_num, edge_prob) # Make a random graph in G(n,p)\n",
    "        if Gcomp(graph): # If it's mostly connected, add one to the counter\n",
    "            mcon+=1\n",
    "    return mcon/trials # Return the probability that it's mostly connected\n",
    "\n",
    "def Gplot(vert_num):\n",
    "    plis=[] # Make list for the x-axis, these are the p that we will check\n",
    "    clis=[] # Make list for the y-axis\n",
    "    for i in range(10):\n",
    "        p = 1/vert_num+i/(5*vert_num) # I chose these p values to make the graph interesting using my answer for 5d\n",
    "        plis += [p]\n",
    "        clis += [Gprob(vert_num, p)] # For each p value, compute the probability that a graph in G(n,p) is mostly connected\n",
    "    plis, clis\n",
    "    plt.plot(plis, clis)\n",
    "    plt.show()\n",
    "                       \n",
    "Gplot(100), Gplot(500), Gplot(1000)"
   ]
  },
  {
   "cell_type": "markdown",
   "metadata": {
    "collapsed": false
   },
   "source": [
    "5c. Write a function that, for a given $n$, finds a value of $p$ for which the probability (based on a sample of 100 random graphs) that $G(n,p)$ is mostly connected is between 25% and 75%."
   ]
  },
  {
   "cell_type": "code",
   "execution_count": 57,
   "metadata": {
    "collapsed": false
   },
   "outputs": [
   ],
   "source": [
    "def connprob(v_num, sample=100):\n",
    "    pguess= .5 # Starting guess for binary search\n",
    "    perr= .25 # Starting error term\n",
    "    prob=0\n",
    "    while (.25>prob) or (.75< prob): # Run until we find a good value of p\n",
    "        prob=Gprob(v_num, pguess, sample)\n",
    "        if prob>.75: # If our p gives a probability that's too big, make it smaller\n",
    "            pguess = pguess-perr\n",
    "            perr = perr*.5\n",
    "        if prob<.25: # Otherwise, make it bigger\n",
    "            pguess = pguess+perr\n",
    "            perr = perr*.5\n",
    "            \n",
    "    return pguess\n"
   ]
  },
  {
   "cell_type": "markdown",
   "metadata": {
    "collapsed": false
   },
   "source": [
    "5d. Plot the values of $p$ you computed in (b) as a function of $n$, going up to at least $n=1000$ with at least 10 sample points. Then make a guess as to how these values depend on $n$."
   ]
  },
  {
   "cell_type": "code",
   "execution_count": 59,
   "metadata": {
    "collapsed": false
   },
   "outputs": [
    {
     "data": {
      "image/png": "[encoded data removed]"
     },
     "execution_count": 59,
     "metadata": {
     },
     "output_type": "execute_result"
    }
   ],
   "source": [
    "vlis=[]\n",
    "plis=[]\n",
    "\n",
    "for i in range(1, 11):\n",
    "    vlis+= [100*i]\n",
    "    prob=connprob(50*i)\n",
    "    plis+= [prob]\n",
    "    \n",
    "plt.plot(vlis,plis)\n",
    "plt.show()"
   ]
  },
  {
   "cell_type": "markdown",
   "metadata": {
    "collapsed": false
   },
   "source": [
    "The value p appears to be going to 0 as n get large. More precisely, it appears that $p\\sim 2/n$."
   ]
  },
  {
   "cell_type": "markdown",
   "metadata": {
    "collapsed": false
   },
   "source": [
    "### Problem 6: Spectral gaps of graphs"
   ]
  },
  {
   "cell_type": "markdown",
   "metadata": {
    "collapsed": false
   },
   "source": [
    "Grading criterion: correctness of code and thoroughness of analysis."
   ]
  },
  {
   "cell_type": "markdown",
   "metadata": {
    "collapsed": false
   },
   "source": [
    "6a. Let $G$ be a graph on $n$ vertices which is $k$-regular (each vertex has $k$ neighbors). Let $A$ be the adjacency matrix of $G$. Explain what the Perron-Frobenius theorem implies about the eigenvalues of $A$."
   ]
  },
  {
   "cell_type": "markdown",
   "metadata": {
    "collapsed": false
   },
   "source": [
    "The eigenvalues are real as $A$ is symmetric and the Perron-Frobenius theorem implies that the largest one is unique and bounded above by $k$. As $k$ is an eigenvalue (the corresponding eigenvector has all 1s), the largest eigenvalue must be $k$. See [Here](https://en.wikipedia.org/wiki/Adjacency_matrix#Properties) for details."
   ]
  },
  {
   "cell_type": "markdown",
   "metadata": {
    "collapsed": false
   },
   "source": [
    "6b. Let $G_n$ be the graph with vertices $\\{0,\\dots,n-1\\}$ in which $x$ is adjacent to $y$ if and only if $x - y$ is congruent to one of $\\pm 1, \\dots, \\pm k$ modulo $n$. Write a function that constructs the adjacency matrix of $G_n$ and returns the norm of its second-largest eigenvalue."
   ]
  },
  {
   "cell_type": "code",
   "execution_count": 22,
   "metadata": {
    "collapsed": false
   },
   "outputs": [
   ],
   "source": [
    "import numpy\n",
    "from numpy import linalg # numpy is faster at computing eigenvalues\n",
    "\n",
    "def strongly_reg_eval(k,n):\n",
    "    vertices={} # Start with empty dictionary\n",
    "    for i in range(n): # Add vertices one at a time\n",
    "        vertices[mod(i,n)]=[] \n",
    "        for j in range(k): # Once a vertex is added, create list of neighbors\n",
    "            vertices[mod(i,n)]+=[mod(i-j-1,n),mod(i+j+1,n)] # Working mod n so we can just subtract vertex labels to see if they are adjacent\n",
    "    G=Graph(vertices) # Make the graph from the vertices\n",
    "    M=G.adjacency_matrix() # Compute adjacency matrix    \n",
    "    numpyM=M.numpy() # Move to numpy to compute eigenvalues\n",
    "    evals=linalg.eigvalsh(numpyM)\n",
    "    return evals[-2] # Return the second largest element"
   ]
  },
  {
   "cell_type": "markdown",
   "metadata": {
    "collapsed": false
   },
   "source": [
    "6c. Write a function that constructs the adjacency matrix of a random $2k$-regular graph on $n$ vertices and returns the norm of its second-largest eigenvalue."
   ]
  },
  {
   "cell_type": "code",
   "execution_count": 21,
   "metadata": {
    "collapsed": false
   },
   "outputs": [
   ],
   "source": [
    "def random_reg_eval(k,n):\n",
    "    G=graphs.RandomRegular(2*k,n) # Create random graph \n",
    "    M=G.adjacency_matrix() # Compute adjacency matrix \n",
    "    numpyM=M.numpy()\n",
    "    evals=linalg.eigvalsh(numpyM) \n",
    "    return evals[-2] # Return the second largest element"
   ]
  },
  {
   "cell_type": "markdown",
   "metadata": {
    "collapsed": false
   },
   "source": [
    "6d. For $k=3,4,5$, make a plot that compares the answers of 6b and 6c for $n$ from 100 to 1000 (with at least 10 sample points)."
   ]
  },
  {
   "cell_type": "code",
   "execution_count": 23,
   "metadata": {
    "collapsed": false
   },
   "outputs": [
    {
     "data": {
      "image/png": "[encoded data removed]"
     },
     "execution_count": 23,
     "metadata": {
     },
     "output_type": "execute_result"
    },
    {
     "data": {
      "image/png": "[encoded data removed]"
     },
     "execution_count": 23,
     "metadata": {
     },
     "output_type": "execute_result"
    },
    {
     "data": {
      "image/png": "[encoded data removed]"
     },
     "execution_count": 23,
     "metadata": {
     },
     "output_type": "execute_result"
    }
   ],
   "source": [
    "import matplotlib.pyplot as plt\n",
    "\n",
    "def graph_comparison(k):\n",
    "    nvals=[] # Make list for x-axis\n",
    "    rand_evals=[] # Make list for eigenvalues of random regular graphs\n",
    "    strong_evals=[] # Make list for eigenvalues of strongly regular graphs\n",
    "    for n in range(100,1100, 100): # Iterate over the x-axis list and compute the corresponding eigenvalues\n",
    "        nvals+=[n]\n",
    "        rand_evals+=[random_reg_eval(k,n)]\n",
    "        strong_evals+=[strongly_reg_eval(k,n)]\n",
    "    plt.plot(nvals, rand_evals) # Plot both on the same graph\n",
    "    plt.plot(nvals, strong_evals)\n",
    "    axes = plt.gca()\n",
    "    axes.set_ylim([0,2*k+1]) # Set y-axis to be reasonable\n",
    "    plt.show() \n",
    "    \n",
    "graph_comparison(3)\n",
    "graph_comparison(4)\n",
    "graph_comparison(5)"
   ]
  },
  {
   "cell_type": "markdown",
   "metadata": {
    "collapsed": false
   },
   "source": [
    "6e. In as much detail as possible, interpret your answer to 6d in terms of mixing of random walks."
   ]
  },
  {
   "cell_type": "markdown",
   "metadata": {
    "collapsed": false
   },
   "source": [
    "Let $G$ be a $k$-regular graph and pick a vertex $v$. If we start at $v$, choose a random neighbor, move to it, and repeat this process $m$ times, we get a random walk of length $m$. We can then ask for the probability distribution: where do we expect to be after $m$ moves? As $m$ goes to infinity, this distribution will become regular: each vertex will be equally likely. The closer the second eigenvalue is to the largest eigenvalue, the longer it will take this distribution to converge to the regular one. We conclude that the special graphs constructed in part 6b will take much longer to mix than a general random regular graph of the same size.  "
   ]
  },
  {
   "cell_type": "markdown",
   "metadata": {
    "collapsed": false
   },
   "source": [
    "Sources: http://www.cs.cornell.edu/courses/cs6850/2017sp/random-walks.pdf, https://en.wikipedia.org/wiki/Expander_graph#Spectral_expansion"
   ]
  }
 ],
 "metadata": {
  "kernelspec": {
   "display_name": "SageMath 8.1",
   "name": "sage-8.1"
  },
  "language_info": {
   "codemirror_mode": {
    "name": "ipython",
    "version": 2
   },
   "file_extension": ".py",
   "mimetype": "text/x-python",
   "name": "python",
   "nbconvert_exporter": "python",
   "pygments_lexer": "ipython2",
   "version": "2.7.14"
  }
 },
 "nbformat": 4,
 "nbformat_minor": 0
}