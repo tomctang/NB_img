{
 "cells": [
  {
   "cell_type": "markdown",
   "metadata": {
    "collapsed": false
   },
   "source": [
    "# C34 Another Nonlinear System Example"
   ]
  },
  {
   "cell_type": "markdown",
   "metadata": {
    "collapsed": false
   },
   "source": [
    "Consider the following system of two nonlinear, autonomous differential equations:\n",
    "\n",
    "$\\qquad\\begin{array}{lcl}\n",
    "x' &=& y^2 - 2y \\\\\n",
    "y' &=& x^2 - x - y\n",
    "\\end{array}$\n",
    "\n",
    "(a) Find the equilibria and their types via a linearization.  \n",
    "\n",
    "(b) Sketch a phase portrait on $-4 \\leq x, y \\leq 4$ with the nullclines and direction arrows in the regions of the plane created by the nullclines.\n",
    "\n",
    "(c) Sketch a solution trajectory on the phase plane with $x(0) = 2$ and $y(0) = -2$, and sketch a plot of $x(t)$ and $y(t)$ versus $t$ on an open interval continaing $t = 0$. \n",
    "\n",
    "(d) Sketch a solution trajectory on the phase plane with $x(0) = -2$ and $y(0) = 1$, and sketch a plot of $x(t)$ and $y(t)$ versus $t$ on an open interval continaing $t = 0$. \n",
    "\n",
    "(e) Sketch additional representative solutions on the phase plane.  \n",
    "\n",
    "(f) Describe the long term behavior of solutions."
   ]
  }
 ],
 "metadata": {
  "kernelspec": {
   "display_name": "SageMath 9.7",
   "language": "sagemath",
   "metadata": {
    "cocalc": {
     "description": "Open-source mathematical software system",
     "priority": 10,
     "url": "https://www.sagemath.org/"
    }
   },
   "name": "sage-9.7",
   "resource_dir": "/ext/jupyter/kernels/sage-9.7"
  },
  "language_info": {
   "codemirror_mode": {
    "name": "ipython",
    "version": 3
   },
   "file_extension": ".py",
   "mimetype": "text/x-python",
   "name": "python",
   "nbconvert_exporter": "python",
   "pygments_lexer": "ipython3",
   "version": "3.10.5"
  }
 },
 "nbformat": 4,
 "nbformat_minor": 4
}