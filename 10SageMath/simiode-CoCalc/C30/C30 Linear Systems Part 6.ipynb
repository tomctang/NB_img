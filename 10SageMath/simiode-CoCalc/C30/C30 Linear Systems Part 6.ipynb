{
 "cells": [
  {
   "cell_type": "markdown",
   "id": "d463ff",
   "metadata": {
    "collapsed": false
   },
   "source": [
    "# C30 Linear Systems Part 6"
   ]
  },
  {
   "cell_type": "markdown",
   "id": "75d4a6",
   "metadata": {
    "collapsed": false
   },
   "source": [
    "## Linear Systems Review"
   ]
  },
  {
   "cell_type": "markdown",
   "id": "e3d70b",
   "metadata": {
    "collapsed": false
   },
   "source": [
    "## Nonhomogeneous Linear Systems"
   ]
  },
  {
   "cell_type": "markdown",
   "id": "b8b9d1",
   "metadata": {
    "collapsed": false
   },
   "source": [
    "Problem: $\\begin{bmatrix} x' \\\\ y' \\end{bmatrix} = \\begin{bmatrix*}[r] -5 & 3 \\\\ 1 & -3 \\end{bmatrix*} \\begin{bmatrix} x \\\\ y \\end{bmatrix} + \\begin{bmatrix} \\sin(t) \\\\ 0 \\end{bmatrix} $."
   ]
  },
  {
   "cell_type": "code",
   "execution_count": 0,
   "id": "fed8f1",
   "metadata": {
    "collapsed": false
   },
   "outputs": [
   ],
   "source": [
    "var('a b c d e f g h')\n",
    "solve([-c == -5*a + 3*b + 1, -d == a - 3*b, a == -5*c + 3*d, b == c - 3*d, 0 == -5*e + 3*f, 0 == e - 3*f + 1, e == -5*g + 3*h, f == g - 3*h], [a, b, c, d, e, f, g, h])"
   ]
  },
  {
   "cell_type": "code",
   "execution_count": 0,
   "id": "872130",
   "metadata": {
    "collapsed": false
   },
   "outputs": [
   ],
   "source": [
    "var('t')\n",
    "x = function('x')(t)\n",
    "y = function('y')(t)\n",
    "de1 = diff(x, t) == -5*x + 3*y + sin(t)\n",
    "de2 = diff(y, t) ==    x - 3*y \n",
    "gsoln = desolve_system([de1, de2], [x,y], ivar = t); show(gsoln)"
   ]
  },
  {
   "cell_type": "code",
   "execution_count": 0,
   "id": "d536e4",
   "metadata": {
    "collapsed": false
   },
   "outputs": [
   ],
   "source": [
    "ssoln = desolve_system([de1, de2], [x,y], ivar = t, ics = (0, 0, 0))\n",
    "xsoln(t) = ssoln[0].rhs()\n",
    "ysoln(t) = ssoln[1].rhs()\n",
    "parametric_plot([xsoln, ysoln], (0,10))"
   ]
  },
  {
   "cell_type": "code",
   "execution_count": 0,
   "id": "dc224a",
   "metadata": {
    "collapsed": false
   },
   "outputs": [
   ],
   "source": [
    "plot([xsoln, ysoln], (0,10))"
   ]
  },
  {
   "cell_type": "markdown",
   "id": "2b4138",
   "metadata": {
    "collapsed": false
   },
   "source": [
    "## Double Harmonic Oscillator"
   ]
  },
  {
   "cell_type": "markdown",
   "id": "a2ced4",
   "metadata": {
    "collapsed": false
   },
   "source": [
    "#### Calculate the eigenvalues and eigenvectors."
   ]
  },
  {
   "cell_type": "code",
   "execution_count": 0,
   "id": "332507",
   "metadata": {
    "collapsed": false
   },
   "outputs": [
   ],
   "source": [
    "c1 = 0; c2 = 0; k1 = 2; k2 = 1; m1 = 2; m2 = 1\n",
    "A = matrix([[0, 1, 0, 0],[-(k1+k2)/m1, -c1/m1, k2/m1, 0], [0, 0, 0, 1], [k2/m2, 0, -k2/m2, -c1/m2]]); show(A)\n",
    "show(A.eigenspaces_right())"
   ]
  },
  {
   "cell_type": "markdown",
   "id": "7db9ff",
   "metadata": {
    "collapsed": false
   },
   "source": [
    "#### Find the General Solution"
   ]
  },
  {
   "cell_type": "code",
   "execution_count": 0,
   "id": "884b09",
   "metadata": {
    "collapsed": false
   },
   "outputs": [
   ],
   "source": [
    "c1 = 0; c2 = 0; k1 = 2; k2 = 1; m1 = 2; m2 = 1\n",
    "var('t')\n",
    "w1 = function('w1')(t)\n",
    "w2 = function('w2')(t)\n",
    "w3 = function('w3')(t)\n",
    "w4 = function('w4')(t)\n",
    "de1 = diff(w1, t) == w2\n",
    "de2 = diff(w2, t) == -(k1+k2)/m1*w1 - c1/m1*w2 + k2/m1*w3\n",
    "de3 = diff(w3, t) == w4\n",
    "de4 = diff(w4, t) == k2/m2*w1 - k2/m2*w3 - c1/m2*w4\n",
    "sol = desolve_system([de1, de2, de3, de4], vars = [w1, w2, w3, w4], ivar = t)\n",
    "w1sol(t) = sol[0].rhs(); show(w1sol(t))\n",
    "w2sol(t) = sol[1].rhs(); show(w2sol(t))\n",
    "w3sol(t) = sol[2].rhs(); show(w3sol(t))\n",
    "w4sol(t) = sol[3].rhs(); show(w4sol(t))"
   ]
  },
  {
   "cell_type": "markdown",
   "id": "96bd87",
   "metadata": {
    "collapsed": false
   },
   "source": [
    "#### Find a specific solution "
   ]
  }
 ],
 "metadata": {
  "kernelspec": {
   "argv": [
    "sage-9.7",
    "--python",
    "-m",
    "sage.repl.ipython_kernel",
    "--matplotlib=inline",
    "-f",
    "{connection_file}"
   ],
   "display_name": "SageMath 9.7",
   "env": {
   },
   "language": "sagemath",
   "metadata": {
    "cocalc": {
     "description": "Open-source mathematical software system",
     "priority": 1,
     "url": "https://www.sagemath.org/"
    }
   },
   "name": "sage-9.7",
   "resource_dir": "/ext/jupyter/kernels/sage-9.7"
  },
  "language_info": {
   "codemirror_mode": {
    "name": "ipython",
    "version": 3
   },
   "file_extension": ".py",
   "mimetype": "text/x-python",
   "name": "python",
   "nbconvert_exporter": "python",
   "pygments_lexer": "ipython3",
   "version": "3.10.5"
  }
 },
 "nbformat": 4,
 "nbformat_minor": 4
}