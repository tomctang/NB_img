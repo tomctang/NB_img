{
 "cells": [
  {
   "cell_type": "markdown",
   "id": "a10249",
   "metadata": {
    "collapsed": false
   },
   "source": [
    "# C17 More Resonance"
   ]
  },
  {
   "cell_type": "markdown",
   "id": "f2541d",
   "metadata": {
    "collapsed": false
   },
   "source": [
    "## Damped Harmonic Oscillator\n",
    "\n",
    "We found last class that all solutions to\n",
    "\n",
    "$$mu''(t) + cu'(t) + ku(t) = C\\sin(\\omega t)$$ \n",
    "\n",
    "with $c > 0$ converge to the particular solution \n",
    "\n",
    "$$u(t) =  \\frac{-C(c\\omega)}{(k - m\\omega^2)^2 + (c\\omega)^2}\\cos(\\omega t) + \\frac{C(k - m\\omega^2)}{(k - m\\omega^2)^2 + (c\\omega)^2}\\sin(\\omega t).$$\n",
    "\n",
    "We also saw that this particular solution could be rewritten \n",
    "\n",
    "$$u(t) = CG(\\omega)\\sin(\\omega t - \\Phi(\\omega))$$\n",
    "\n",
    "where the gain is\n",
    "\n",
    "$$G(\\omega) = \\frac{1}{\\sqrt{(k - m\\omega^2)^2 + (c\\omega)^2}}$$\n",
    "\n",
    "and the phase shift is\n",
    "\n",
    "$$\\Phi(\\omega) = \\tan^{-1}\\left(\\frac{c\\omega}{k + m\\omega^2} \\right).$$\n",
    "\n",
    "Finally, we found that the gain $G$ is maximized at the resonance angular frequency\n",
    "\n",
    "$$\\omega_{\\max} = \\sqrt{\\frac{k}{m} - \\frac{1}{2}\\left(\\frac{c}{m}\\right)^2}$$\n",
    "\n",
    "which is close to the unforced angular frequency\n",
    "\n",
    "$$\\omega_{\\text{nat}} = \\sqrt{\\frac{k}{m} - \\left(\\frac{c}{2m}\\right)^2}.$$\n",
    "\n",
    "Of course, the last two definitions make sense only if $c$ is sufficiently small. Otherwise, the gain is maximized at zero and the unforced ODE does not have an oscillatory solution.  What do these results say about the motion of a forced linear oscillator?  Show the MIT video."
   ]
  },
  {
   "cell_type": "markdown",
   "id": "41593e",
   "metadata": {
    "collapsed": false
   },
   "source": [
    "### Example.\n",
    "Consider $u''(t) + 0.1u'(t) + 10u(t) = \\sin(\\omega t)$.   (To get the Greek symbol $\\omega$ in an input cell, type `\\omega` and the tab key.)\n",
    "\n",
    "a. Find the particular solution for arbitrary $\\omega$.  Compare with our earlier work.\n",
    "\n",
    "b. Plot the gain and phase shift on the interval $0 \\leq \\omega \\leq 5$.  Compare with our earlier work.\n",
    "\n",
    "c. Find the resonant radial frequency.  Compare with the previous graph.\n",
    "\n",
    "d. Plot the forcing term $\\sin(\\omega t)$ and the particular solution $u(t)$ for values of $\\omega$ less than, equal to, and more than the resonant radial frequency   Compare with the earlier parts."
   ]
  },
  {
   "cell_type": "code",
   "execution_count": 0,
   "id": "349984",
   "metadata": {
    "collapsed": false
   },
   "outputs": [
   ],
   "source": [
    "var('t ω'); u = function('u') (t); m = 1; c = 0.1; k = 10\n",
    "de = m*diff(u, t, t) + c*diff(u, t) + k*u == sin(ω*t)\n",
    "usol = desolve(de, dvar = u, ivar = t).subs(_K1 = 0, _K2 = 0)\n",
    "show(usol)\n",
    "G(ω) = 1 / sqrt((k-m*ω^2)^2 + (c*ω)^2)\n",
    "Φ(ω) = arctan2(c*ω, (k - m*ω^2))\n",
    "plot([G, Φ], (0, 5), figsize = 4).show()\n",
    "ωmax = sqrt((k/m) - (c/m)^2/2); show(ωmax.n())"
   ]
  },
  {
   "cell_type": "code",
   "execution_count": 0,
   "id": "25a058",
   "metadata": {
    "collapsed": false
   },
   "outputs": [
   ],
   "source": [
    "plot([sin(1*t), usol.subs(ω = 1)], (t, 0, 2*pi), figsize = 4)"
   ]
  },
  {
   "cell_type": "code",
   "execution_count": 0,
   "id": "778ccf",
   "metadata": {
    "collapsed": false
   },
   "outputs": [
   ],
   "source": [
    "plot([sin(ωmax*t), usol.subs(ω = ωmax)], (t, 0, 2*pi), figsize = 4)"
   ]
  },
  {
   "cell_type": "code",
   "execution_count": 0,
   "id": "4619df",
   "metadata": {
    "collapsed": false
   },
   "outputs": [
   ],
   "source": [
    "plot([sin(5*t), usol.subs(ω = 5)], (t, 0, 2*pi), figsize = 4)"
   ]
  },
  {
   "cell_type": "markdown",
   "id": "6a03e7",
   "metadata": {
    "collapsed": false
   },
   "source": [
    "## Undamped Harmonic Oscillator\n",
    "Find the solution to $mu''(t) + ku(t) = \\cos(\\omega t)$ with initial conditions $u(0) = 0$ and $u'(0) = 0$.. Interpret.\n",
    "\n"
   ]
  },
  {
   "cell_type": "code",
   "execution_count": 0,
   "id": "e60578",
   "metadata": {
    "collapsed": false
   },
   "outputs": [
   ],
   "source": [
    "# Find specific solution\n",
    "var('t m k ω'); u = function('u')(t)\n",
    "forget(); assume(m > 0, k > 0)\n",
    "de = m*diff(u, t, t) + k*u == cos(ω*t)\n",
    "usol = desolve(de, dvar = u, ivar = t, ics = (0, 0, 0))\n",
    "show(usol)"
   ]
  },
  {
   "cell_type": "code",
   "execution_count": 0,
   "id": "c8f98f",
   "metadata": {
    "collapsed": false
   },
   "outputs": [
   ],
   "source": [
    "# natural frequency 20 hertz and forced frequency 19 hertz\n",
    "plot(usol.subs(m = 1, k = (2*pi*20)^2, ω = 2*pi*19), (t, 0, 2), figsize = 4)"
   ]
  },
  {
   "cell_type": "markdown",
   "id": "685f93",
   "metadata": {
    "collapsed": false
   },
   "source": [
    "Open two copies of the tone generator.  Play one at 440 hertz and the other at 439 hertz to hear concert A with 1 second frequency beats.  Decrease the second to hear the beat frequency increasing until two separate tones are perceived."
   ]
  },
  {
   "cell_type": "markdown",
   "id": "f72d07",
   "metadata": {
    "collapsed": false
   },
   "source": [
    "Memorex comercial.  Play as a preview to an exercise in A06."
   ]
  },
  {
   "cell_type": "code",
   "execution_count": 0,
   "id": "70c6ce",
   "metadata": {
    "collapsed": false
   },
   "outputs": [
   ],
   "source": [
   ]
  }
 ],
 "metadata": {
  "kernelspec": {
   "argv": [
    "sage-9.7",
    "--python",
    "-m",
    "sage.repl.ipython_kernel",
    "--matplotlib=inline",
    "-f",
    "{connection_file}"
   ],
   "display_name": "SageMath 9.7",
   "env": {
   },
   "language": "sagemath",
   "metadata": {
    "cocalc": {
     "description": "Open-source mathematical software system",
     "priority": 1,
     "url": "https://www.sagemath.org/"
    }
   },
   "name": "sage-9.7",
   "resource_dir": "/ext/jupyter/kernels/sage-9.7"
  },
  "language_info": {
   "codemirror_mode": {
    "name": "ipython",
    "version": 3
   },
   "file_extension": ".py",
   "mimetype": "text/x-python",
   "name": "python",
   "nbconvert_exporter": "python",
   "pygments_lexer": "ipython3",
   "version": "3.10.5"
  }
 },
 "nbformat": 4,
 "nbformat_minor": 4
}