{
 "cells": [
  {
   "cell_type": "markdown",
   "id": "4c6fd8",
   "metadata": {
    "collapsed": false
   },
   "source": [
    "# C37 Pendulum"
   ]
  },
  {
   "attachments": {
   },
   "cell_type": "markdown",
   "id": "19abad",
   "metadata": {
    "collapsed": false
   },
   "source": [
    "## Assumptions\n",
    "\n",
    "1. $\\overrightarrow{F} = m \\overrightarrow{a}$ (Newton's seonc law of motion)\n",
    "\n",
    "2. $\\overrightarrow{F} = \\overrightarrow{F}_{\\text{gravity}} + \\overrightarrow{F}_{\\text{rod}} + \\overrightarrow{F}_{\\text{drag}} + \\overrightarrow{F}_{\\text{external}}$ (forces are additive and these are the only ones in this situation)\n",
    "\n",
    "3. $\\overrightarrow{F}_{\\text{gravity}} = mg(0, -1)$ (gravity is a constant downward pull)\n",
    "\n",
    "4. $ \\overrightarrow{F}_{\\text{rod}} $ is such that the distance between pivot and bob is constant\n",
    "\n",
    "5. $\\overrightarrow{F}_{\\text{drag}} = -b\\overrightarrow{v}$ (air and pivot resistance)\n",
    "\n",
    "6. $\\overrightarrow{F}_{\\text{external}} = F \\cos(\\omega t) (0,1)$ (action on the pivot)"
   ]
  },
  {
   "cell_type": "markdown",
   "id": "39a4b5",
   "metadata": {
    "collapsed": false
   },
   "source": [
    "## Model Derivation\n",
    "\n",
    "Consider the $(x, y)$ position of the bob as a function of $\\theta$.\n",
    "\n",
    "$\\qquad \\begin{array}{lcccl}\n",
    "\\text{position} &=& \\overrightarrow{p} &=& l(\\sin(\\theta), -\\cos(\\theta)) \\\\\n",
    "\\text{velocity} &=& \\overrightarrow{v} &=& l\\overset{.}{\\theta}(\\cos(\\theta), \\sin(\\theta)) \\\\\n",
    "\\text{acceleration} &=& \\overrightarrow{a} &=& l\\overset{..}{\\theta}(\\cos(\\theta), \\sin(\\theta)) + l(\\overset{.}{\\theta})^2(-\\sin(\\theta), \\cos(\\theta)) \\\\\n",
    "\\end{array}$\n",
    "\n",
    "By assumptions 1 and 2:\n",
    "\n",
    "$\\qquad m \\overrightarrow{a} = \\overrightarrow{F}_{\\text{gravity}} + \\overrightarrow{F}_{\\text{rod}} + \\overrightarrow{F}_{\\text{drag}} + \\overrightarrow{F}_{\\text{external}}$\n",
    "\n",
    "In the direction of motion\n",
    "\n",
    "$\\qquad m l \\overset{..}{\\theta} = -m g \\sin(\\theta) + 0 - b l \\overset{.}{\\theta} + F \\cos(\\omega t) \\sin(\\theta)$\n",
    "\n",
    "As a system,\n",
    "\n",
    "$\\qquad \\begin{array}{lcl}\n",
    "\\overset{.}{\\theta} &=& v \\\\\n",
    "\\overset{.}{v} &=&  -\\dfrac{g}{l} \\sin(\\theta)  - \\dfrac{b}{m} v + \\dfrac{F}{ml} \\cos(\\omega t) \\sin(\\theta)\n",
    "\\end{array}$\n",
    "\n",
    "Choose units so that $g = l = m = 1$:\n",
    "\n",
    "$\\qquad \\begin{array}{lcl}\n",
    "\\overset{.}{\\theta} &=& v \\\\\n",
    "\\overset{.}{v} &=&  -\\sin(\\theta)  - b v + F \\sin(\\theta) \\cos(\\omega t)\n",
    "\\end{array}$\n",
    "\n"
   ]
  },
  {
   "cell_type": "markdown",
   "id": "ccccee",
   "metadata": {
    "collapsed": false
   },
   "source": [
    "## Phase Diagrams"
   ]
  },
  {
   "cell_type": "code",
   "execution_count": 0,
   "id": "5a8732",
   "metadata": {
    "collapsed": false
   },
   "outputs": [
   ],
   "source": [
    "var('u v t'); l = 5\n",
    "b = 0; F = 0; w = 1; u0 = 1; tmax = 30\n",
    "udot = v\n",
    "vdot = -sin(u) - b*v\n",
    "terr = contour_plot(v^2/2 - cos(u), (u, -l, l), (v, -l, l))\n",
    "ics = [(0.5,0), (1,0), (2,0), (3.1,0), (0,3), (0,4), (0,-3), (0,-4)]\n",
    "solns = streamline_plot([udot, vdot], (u, -l, l), (v, -l, l), start_points = ics, color = 'green')\n",
    "unull = line([(-l,0), (l,0)], color = 'red')\n",
    "vnull = implicit_plot(vdot == 0, (u, -l, l), (v, -l, l), color = 'blue')\n",
    "show(terr + solns + unull + vnull, axes = False)"
   ]
  },
  {
   "cell_type": "markdown",
   "id": "f2a25f",
   "metadata": {
    "collapsed": false
   },
   "source": [
    "## Numerical Solutions\n",
    "\n",
    "To obtain a numerical solution, the parameters, initial conditions, and the time domain must be specified numerically.  In the following, I use $u$ for $\\theta$ and $w$ for $\\omega$.\n",
    "\n",
    "Start with an unforced and no drag situation, and consider different initial conditions $u(0) = u_0$ and $v(0) = 0$."
   ]
  },
  {
   "cell_type": "code",
   "execution_count": 0,
   "id": "0c7109",
   "metadata": {
    "collapsed": false
   },
   "outputs": [
   ],
   "source": [
    "var('u v t')\n",
    "b = 0; F = 0; w = 1; u0 = 1; tmax = 30\n",
    "udot = v\n",
    "vdot = -sin(u) - b*v + F*cos(w*t)*sin(u)\n",
    "points = desolve_system_rk4([udot, vdot], [u, v], ivar=t, ics=[0,u0,0], step=0.1, end_points=tmax)"
   ]
  },
  {
   "cell_type": "code",
   "execution_count": 0,
   "id": "0bb999",
   "metadata": {
    "collapsed": false
   },
   "outputs": [
   ],
   "source": [
    "uplot = list_plot([[td,ud] for td,ud,vd in points], color='red')\n",
    "vplot = list_plot([[td,vd] for td,ud,vd in points], color='blue')\n",
    "uplot + vplot"
   ]
  },
  {
   "cell_type": "markdown",
   "id": "3f5041",
   "metadata": {
    "collapsed": false
   },
   "source": [
    "What is the period?"
   ]
  },
  {
   "cell_type": "code",
   "execution_count": 0,
   "id": "ea25fb",
   "metadata": {
    "collapsed": false
   },
   "outputs": [
   ],
   "source": [
    "udata = [ud for td,ud,vd in points]\n",
    "udata.index(max(udata[1:]))"
   ]
  },
  {
   "cell_type": "code",
   "execution_count": 0,
   "id": "e88fd6",
   "metadata": {
    "collapsed": false
   },
   "outputs": [
   ],
   "source": [
    "list_plot([[ud,vd] for td,ud,vd in points])"
   ]
  },
  {
   "cell_type": "markdown",
   "id": "8e70ce",
   "metadata": {
    "collapsed": false
   },
   "source": [
    "Now add some forcing at a period near the natural period."
   ]
  },
  {
   "cell_type": "code",
   "execution_count": 0,
   "id": "c1f6f9",
   "metadata": {
    "collapsed": false
   },
   "outputs": [
   ],
   "source": [
    "var('u v t')\n",
    "b = 0; F = 0.1; w = 2*pi/6.7; u0 = 1; tmax = 500\n",
    "udot = v\n",
    "vdot = -sin(u) - b*v + F*cos(w*t)*sin(u)\n",
    "points = desolve_system_rk4([udot, vdot], [u, v], ivar=t, ics=[0,u0,0], step=0.1, end_points=tmax)\n",
    "list_plot([[ud,vd] for td,ud,vd in points])"
   ]
  },
  {
   "cell_type": "code",
   "execution_count": 0,
   "id": "8de688",
   "metadata": {
    "collapsed": false
   },
   "outputs": [
   ],
   "source": [
   ]
  }
 ],
 "metadata": {
  "kernelspec": {
   "argv": [
    "sage-9.7",
    "--python",
    "-m",
    "sage.repl.ipython_kernel",
    "--matplotlib=inline",
    "-f",
    "{connection_file}"
   ],
   "display_name": "SageMath 9.7",
   "env": {
   },
   "language": "sagemath",
   "metadata": {
    "cocalc": {
     "description": "Open-source mathematical software system",
     "priority": 1,
     "url": "https://www.sagemath.org/"
    }
   },
   "name": "sage-9.7",
   "resource_dir": "/ext/jupyter/kernels/sage-9.7"
  },
  "language_info": {
   "codemirror_mode": {
    "name": "ipython",
    "version": 3
   },
   "file_extension": ".py",
   "mimetype": "text/x-python",
   "name": "python",
   "nbconvert_exporter": "python",
   "pygments_lexer": "ipython3",
   "version": "3.10.5"
  }
 },
 "nbformat": 4,
 "nbformat_minor": 4
}