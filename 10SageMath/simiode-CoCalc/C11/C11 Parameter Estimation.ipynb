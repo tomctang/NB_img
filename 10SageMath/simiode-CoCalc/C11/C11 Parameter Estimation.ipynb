{
 "cells": [
  {
   "cell_type": "markdown",
   "id": "e10986",
   "metadata": {
    "collapsed": false
   },
   "source": [
    "# C11 Parameter Estimation"
   ]
  },
  {
   "cell_type": "markdown",
   "id": "fdbbd8",
   "metadata": {
    "collapsed": false
   },
   "source": [
    "## Atlantic Cod Harvesting Effort"
   ]
  },
  {
   "cell_type": "markdown",
   "id": "d8a0a7",
   "metadata": {
    "collapsed": false
   },
   "source": [
    "This is the Atlantic cod  harvesting effort data from Table 1.2 in the text."
   ]
  },
  {
   "cell_type": "code",
   "execution_count": 0,
   "id": "444ab8",
   "metadata": {
    "collapsed": false
   },
   "outputs": [
   ],
   "source": [
    "tdata = list(range(1978,2008))\n",
    "udata = [0.18847, 0.14974, 0.21921, 0.17678, 0.28203, 0.34528, 0.20655, 0.33819, 0.14724, 0.19757, 0.23154, 0.2086, 0.33565, 0.29534, 0.33185, 0.35039, 0.2827, 0.19928, 0.18781, 0.19357, 0.18953, 0.17011, 0.1566, 0.28179, 0.25287, 0.25542, 0.08103, 0.0874, 0.08195, 0.10518]\n",
    "data = list(zip(tdata, udata))\n",
    "dplt = scatter_plot(data, axes = False, frame = True, axes_labels = [\"Year\", \"Harvesting Effort (per year)\"], axes_labels_size = 1)\n",
    "dplt.show(figsize = 4)"
   ]
  },
  {
   "cell_type": "markdown",
   "id": "549ec2",
   "metadata": {
    "collapsed": false
   },
   "source": [
    "**Exercise 1.** Find best fit constant, linear, and quadratic models for this data.  By \"best fit\" we mean that parameters should be chosen to minimize the sum of the squared residuals.  Compare the three models in terms of the sum of squared residuals and the number of parameters."
   ]
  },
  {
   "cell_type": "markdown",
   "id": "fb6f25",
   "metadata": {
    "collapsed": false
   },
   "source": [
    "## Usain Bolt's Olympic Victory\n",
    "Table 1.1 reports race splits (seconds) every 10 meters for Usain Bolt's 2008 Olympic gold medal final 100 meter race.  The following code draws a scatter plot of this data."
   ]
  },
  {
   "cell_type": "code",
   "execution_count": 0,
   "id": "710a47",
   "metadata": {
    "collapsed": false
   },
   "outputs": [
   ],
   "source": [
    "tdata = [0.165, 1.85, 2.87, 3.78, 4.65, 5.50, 6.32, 7.14, 7.96, 8.79, 9.68]\n",
    "xdata = range(0, 110, 10)\n",
    "data = list(zip(tdata, xdata))\n",
    "dplot = scatter_plot(data, axes = False, frame = True, axes_labels_size = 1,\n",
    "         axes_labels = [\"Time (seconds)\", \"Position (meters)\"])\n",
    "dplot.show(figsize = 4)"
   ]
  },
  {
   "cell_type": "markdown",
   "id": "64947a",
   "metadata": {
    "collapsed": false
   },
   "source": [
    "**Exercise 2.** Solve the Hill-Keller differential equation $v'(t) = P - kv(t), x'(t) = v(t)$ with race initial condition $v(t_0) = 0, x(t_0) = 0$. "
   ]
  },
  {
   "cell_type": "markdown",
   "id": "c38cad",
   "metadata": {
    "collapsed": false
   },
   "source": [
    "**Exercise 3.** Assume $t_0 = 0.165$ and $P = 11$.  Find the best fit value of $k$ to the Usain Bolt data."
   ]
  },
  {
   "cell_type": "markdown",
   "id": "3072d1",
   "metadata": {
    "collapsed": false
   },
   "source": [
    "**Exercise 4.** Assume $t_0 = 0.165$.  Find the best fit values of $k$ and $P$ to the Usain Bolt data.  Compare with the results of the previous exercise"
   ]
  },
  {
   "cell_type": "code",
   "execution_count": 0,
   "id": "e45d95",
   "metadata": {
    "collapsed": false
   },
   "outputs": [
   ],
   "source": [
   ]
  }
 ],
 "metadata": {
  "kernelspec": {
   "argv": [
    "sage-10.4",
    "--python",
    "-m",
    "sage.repl.ipython_kernel",
    "--matplotlib=inline",
    "-f",
    "{connection_file}"
   ],
   "display_name": "SageMath 10.4",
   "env": {
   },
   "language": "sagemath",
   "metadata": {
    "cocalc": {
     "description": "Open-source mathematical software system",
     "priority": 10,
     "url": "https://www.sagemath.org/"
    }
   },
   "name": "sage-10.4",
   "resource_dir": "/ext/jupyter/kernels/sage-10.4"
  },
  "language_info": {
   "codemirror_mode": {
    "name": "ipython",
    "version": 3
   },
   "file_extension": ".py",
   "mimetype": "text/x-python",
   "name": "python",
   "nbconvert_exporter": "python",
   "pygments_lexer": "ipython3",
   "version": "3.10.3"
  }
 },
 "nbformat": 4,
 "nbformat_minor": 4
}