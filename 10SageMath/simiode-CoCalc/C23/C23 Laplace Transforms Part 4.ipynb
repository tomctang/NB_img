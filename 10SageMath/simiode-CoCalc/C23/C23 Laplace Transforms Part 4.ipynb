{
 "cells": [
  {
   "cell_type": "markdown",
   "id": "63db66",
   "metadata": {
    "collapsed": false
   },
   "source": [
    "# C23 Laplace Transforms Part 4"
   ]
  },
  {
   "cell_type": "markdown",
   "id": "e95e62",
   "metadata": {
    "collapsed": false
   },
   "source": [
    "**Exercise 5.4.5b.** A salt tank contains 100 liters of pure water at time $t = 0$, when salty water begins flowing into the tank at 2 liters per minute. The incoming liquid contains a concentration of 0.1 kg of salt per liter. The well-stirred liquid flows out of the tank at 2 liters per minute. At time $t = 20$ minutes 5 kg of salt is dumped into the tank and dissolves instantaneously.  Model the situation with a first-order ODE, with $x(t)$ as the mass of salt in the tank at time $t$. Solve this\n",
    "ODE using the Laplace transform.  Plot the solution to make sure it’s sensible."
   ]
  },
  {
   "cell_type": "markdown",
   "id": "815f1b",
   "metadata": {
    "collapsed": false
   },
   "source": [
    "**Exercise 5.1.1.** A patient with no morphine in their body is given a 5 mg bolus of morphine at 9:00 AM, followed by infusion at a rate of 1 mg of morphine per hour. At 9:00 PM, the infusion rate is increased to 1.5 mg per hour. At 6:00 AM, a 5 mg bolus is administered and the infusion rate is decreased to 1 mg per hour.  Formulate an appropriate differential equation, solve using Laplace transforms, and graph the amount of morphine in the patient over the first 24 hours."
   ]
  },
  {
   "cell_type": "markdown",
   "id": "ee7545",
   "metadata": {
    "collapsed": false
   },
   "source": [
    "**Exercise 5.4.8.** An unforced spring-mass-damper system obeys $2u''(t) + 4u'(t) + 52u(t) = 0$ where $u(t)$ is the position of the mass, with initial conditions $u(0) = 1$ and $u'\n",
    "(0) = −1$.\n",
    "\n",
    "(a) Solve the ODE to find the position u(t) of the mass.\n",
    "\n",
    "(b) The system is underdamped, so the mass repeatedly passes through equilibrium. Find the second positive time $t = t_2$ at which the mass passes through equilibrium.\n",
    "\n",
    "(c) Suppose that at time $t = t_2$ a hammer blow of impulse $A$ is to be applied to the mass to bring it to a dead stop. What should $A$ equal? ($A$ can be negative.) Hint: it should counteract the momentum of the mass.\n",
    "\n",
    "(d) Solve the ODE $2u''(t) + 4u'(t) + 52u(t) = Aδ(t −t_2)$ with initial conditions $u(0) = 1$ and $u'(0) = −1$,and $A$ and $t_2$ as from parts (b) and (c). Plot the solution on the range $0 ≤ t ≤ 2$\n",
    "."
   ]
  },
  {
   "cell_type": "code",
   "execution_count": 0,
   "id": "491b77",
   "metadata": {
    "collapsed": false
   },
   "outputs": [
   ],
   "source": [
   ]
  }
 ],
 "metadata": {
  "kernelspec": {
   "argv": [
    "sage-9.7",
    "--python",
    "-m",
    "sage.repl.ipython_kernel",
    "--matplotlib=inline",
    "-f",
    "{connection_file}"
   ],
   "display_name": "SageMath 9.7",
   "env": {
   },
   "language": "sagemath",
   "metadata": {
    "cocalc": {
     "description": "Open-source mathematical software system",
     "priority": 1,
     "url": "https://www.sagemath.org/"
    }
   },
   "name": "sage-9.7",
   "resource_dir": "/ext/jupyter/kernels/sage-9.7"
  },
  "language_info": {
   "codemirror_mode": {
    "name": "ipython",
    "version": 3
   },
   "file_extension": ".py",
   "mimetype": "text/x-python",
   "name": "python",
   "nbconvert_exporter": "python",
   "pygments_lexer": "ipython3",
   "version": "3.10.5"
  }
 },
 "nbformat": 4,
 "nbformat_minor": 4
}