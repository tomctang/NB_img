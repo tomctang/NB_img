{
 "cells": [
  {
   "cell_type": "code",
   "execution_count": 1,
   "metadata": {
    "collapsed": true
   },
   "outputs": [],
   "source": [
    "import numpy as np"
   ]
  },
  {
   "cell_type": "code",
   "execution_count": 2,
   "metadata": {
    "collapsed": false
   },
   "outputs": [],
   "source": [
    "def primesfrom2to(n):\n",
    "    # https://stackoverflow.com/questions/2068372/fastest-way-to-list-all-primes-below-n-in-python/3035188#3035188\n",
    "    \"\"\" Input n>=6, Returns a array of primes, 2 <= p < n \"\"\"\n",
    "    sieve = np.ones(int(n/3) + (n%6==2), dtype=np.bool)\n",
    "    sieve[0] = False\n",
    "    for i in xrange(int(int(n**0.5)/3)+1):\n",
    "        if sieve[i]:\n",
    "            k=3*i+1|1\n",
    "            sieve[      (int((k*k)/3))      ::2*k] = False\n",
    "            sieve[int((k*k+4*k-2*k*(i&1))/3)::2*k] = False\n",
    "    return np.r_[2,3,((3*np.nonzero(sieve)[0]+1)|1)]"
   ]
  },
  {
   "cell_type": "code",
   "execution_count": 3,
   "metadata": {
    "collapsed": false
   },
   "outputs": [],
   "source": [
    "ps = primesfrom2to(10**7)"
   ]
  },
  {
   "cell_type": "code",
   "execution_count": 4,
   "metadata": {
    "collapsed": true
   },
   "outputs": [],
   "source": [
    "def estimate_a_val(a):\n",
    "    a_max = 0\n",
    "    prev = ps[0] ** a\n",
    "    for nxt in ps[1:]:#\n",
    "        nxt = nxt**a\n",
    "        comp = nxt - prev\n",
    "        if comp > a_max:\n",
    "            a_max = comp\n",
    "            # A, B = prev, nxt\n",
    "        prev = nxt\n",
    "    return a_max"
   ]
  },
  {
   "cell_type": "code",
   "execution_count": 5,
   "metadata": {
    "collapsed": false
   },
   "outputs": [],
   "source": [
    "vals = dict()\n",
    "\n",
    "for a in range(50):\n",
    "    a = 0.5 + a * 1.0 / 100 # calus b/w 0.5 and 0.99\n",
    "    vals[a] = estimate_a_val(a)\n"
   ]
  },
  {
   "cell_type": "code",
   "execution_count": 6,
   "metadata": {
    "collapsed": false
   },
   "outputs": [
    {
     "data": {
      "text/plain": [
       "{0.5: 0.67087347929080909,\n",
       " 0.51: 0.69937572510296242,\n",
       " 0.52: 0.73164359618602326,\n",
       " 0.53: 0.78227437522257048,\n",
       " 0.54: 0.83611121095407803,\n",
       " 0.55: 0.89334678293076664,\n",
       " 0.56: 0.95418495830490535,\n",
       " 0.5700000000000001: 1.0188414257403142,\n",
       " 0.58: 1.087544364591519,\n",
       " 0.59: 1.1605351512873341,\n",
       " 0.6: 1.2380691049586545,\n",
       " 0.61: 1.3204162744609107,\n",
       " 0.62: 1.4078622690579365,\n",
       " 0.63: 1.5007091351571233,\n",
       " 0.64: 1.6271995837737876,\n",
       " 0.65: 1.7760615069445578,\n",
       " 0.66: 1.9380830246487193,\n",
       " 0.67: 2.1143994837786693,\n",
       " 0.6799999999999999: 2.3062424178586696,\n",
       " 0.69: 2.5149475818081157,\n",
       " 0.7: 2.741963650354819,\n",
       " 0.71: 2.9888616344121886,\n",
       " 0.72: 3.2573450741450358,\n",
       " 0.73: 3.5492610722160975,\n",
       " 0.74: 3.8666122358564508,\n",
       " 0.75: 4.2115696019706661,\n",
       " 0.76: 4.58648662550263,\n",
       " 0.77: 5.1218223034816219,\n",
       " 0.78: 5.7544290726004874,\n",
       " 0.79: 6.4641077492074146,\n",
       " 0.8: 7.2601457549967563,\n",
       " 0.81: 8.1529396689566056,\n",
       " 0.8200000000000001: 9.154126700613233,\n",
       " 0.8300000000000001: 10.510868312114326,\n",
       " 0.8400000000000001: 12.189944809273584,\n",
       " 0.85: 14.261824334593257,\n",
       " 0.86: 16.683544046711177,\n",
       " 0.87: 19.513843494816683,\n",
       " 0.88: 22.821276924514677,\n",
       " 0.89: 26.685846238280647,\n",
       " 0.9: 31.200904629542492,\n",
       " 0.9099999999999999: 36.475375607842579,\n",
       " 0.9199999999999999: 42.636339497286826,\n",
       " 0.9299999999999999: 49.832048065727577,\n",
       " 0.94: 58.235437928000465,\n",
       " 0.95: 68.048224985948764,\n",
       " 0.96: 79.999037154018879,\n",
       " 0.97: 94.245811806991696,\n",
       " 0.98: 111.01794896926731,\n",
       " 0.99: 130.76126608811319}"
      ]
     },
     "execution_count": 6,
     "metadata": {},
     "output_type": "execute_result"
    }
   ],
   "source": [
    "vals"
   ]
  },
  {
   "cell_type": "code",
   "execution_count": 7,
   "metadata": {
    "collapsed": false
   },
   "outputs": [],
   "source": [
    "%matplotlib inline\n",
    "\n",
    "import matplotlib\n",
    "import matplotlib.pyplot as plt"
   ]
  },
  {
   "cell_type": "code",
   "execution_count": 8,
   "metadata": {
    "collapsed": true
   },
   "outputs": [],
   "source": [
    "plt.plot?"
   ]
  },
  {
   "cell_type": "code",
   "execution_count": 9,
   "metadata": {
    "collapsed": true
   },
   "outputs": [],
   "source": [
    "plotvals = [[a, vals[a]] for a in vals]\n",
    "xs, ys = zip(*plotvals)"
   ]
  },
  {
   "cell_type": "code",
   "execution_count": 10,
   "metadata": {
    "collapsed": false
   },
   "outputs": [
    {
     "data": {
      "text/plain": [
       "<matplotlib.collections.PathCollection at 0x7f996211ce10>"
      ]
     },
     "execution_count": 10,
     "metadata": {},
     "output_type": "execute_result"
    },
    {
     "data": {
      "image/png": "[encoded data removed]",
      "text/plain": [
       "<matplotlib.figure.Figure at 0x7f9982392410>"
      ]
     },
     "metadata": {},
     "output_type": "display_data"
    }
   ],
   "source": [
    "plt.scatter(xs, ys)"
   ]
  },
  {
   "cell_type": "code",
   "execution_count": 12,
   "metadata": {
    "collapsed": false
   },
   "outputs": [
    {
     "ename": "NameError",
     "evalue": "name 'yd' is not defined",
     "output_type": "error",
     "traceback": [
      "\u001b[0;31m---------------------------------------------------------------------------\u001b[0m",
      "\u001b[0;31mNameError\u001b[0m                                 Traceback (most recent call last)",
      "\u001b[0;32m<ipython-input-12-d79dedb67b93>\u001b[0m in \u001b[0;36m<module>\u001b[0;34m()\u001b[0m\n\u001b[1;32m      1\u001b[0m \u001b[0mlogys\u001b[0m \u001b[0;34m=\u001b[0m \u001b[0mmap\u001b[0m\u001b[0;34m(\u001b[0m\u001b[0mnp\u001b[0m\u001b[0;34m.\u001b[0m\u001b[0mlog\u001b[0m\u001b[0;34m,\u001b[0m \u001b[0mys\u001b[0m\u001b[0;34m)\u001b[0m\u001b[0;34m\u001b[0m\u001b[0m\n\u001b[1;32m      2\u001b[0m \u001b[0mplt\u001b[0m\u001b[0;34m.\u001b[0m\u001b[0mscatter\u001b[0m\u001b[0;34m(\u001b[0m\u001b[0mxs\u001b[0m\u001b[0;34m,\u001b[0m \u001b[0mlogys\u001b[0m\u001b[0;34m)\u001b[0m\u001b[0;34m\u001b[0m\u001b[0m\n\u001b[0;32m----> 3\u001b[0;31m \u001b[0mplt\u001b[0m\u001b[0;34m.\u001b[0m\u001b[0mplot\u001b[0m\u001b[0;34m(\u001b[0m\u001b[0mxs\u001b[0m\u001b[0;34m,\u001b[0m \u001b[0myd\u001b[0m\u001b[0;34m,\u001b[0m \u001b[0mcolor\u001b[0m\u001b[0;34m=\u001b[0m\u001b[0;34m'r'\u001b[0m\u001b[0;34m)\u001b[0m\u001b[0;34m\u001b[0m\u001b[0m\n\u001b[0m",
      "\u001b[0;31mNameError\u001b[0m: name 'yd' is not defined"
     ]
    },
    {
     "data": {
      "image/png": "[encoded data removed]",
      "text/plain": [
       "<matplotlib.figure.Figure at 0x7f998358a050>"
      ]
     },
     "metadata": {},
     "output_type": "display_data"
    }
   ],
   "source": [
    "logys = map(np.log, ys)\n",
    "plt.scatter(xs, logys)\n",
    "plt.plot(xd, yd, color='r')"
   ]
  },
  {
   "cell_type": "code",
   "execution_count": null,
   "metadata": {
    "collapsed": true
   },
   "outputs": [],
   "source": []
  },
  {
   "cell_type": "code",
   "execution_count": null,
   "metadata": {
    "collapsed": true
   },
   "outputs": [],
   "source": []
  },
  {
   "cell_type": "code",
   "execution_count": 13,
   "metadata": {
    "collapsed": false
   },
   "outputs": [
    {
     "data": {
      "text/plain": [
       "<matplotlib.collections.PathCollection at 0x7f9961b52450>"
      ]
     },
     "execution_count": 13,
     "metadata": {},
     "output_type": "execute_result"
    },
    {
     "data": {
      "image/png": "[encoded data removed]",
      "text/plain": [
       "<matplotlib.figure.Figure at 0x7f996cf522d0>"
      ]
     },
     "metadata": {},
     "output_type": "display_data"
    }
   ],
   "source": [
    "plt.scatter(xs, ys)"
   ]
  },
  {
   "cell_type": "code",
   "execution_count": 14,
   "metadata": {
    "collapsed": false
   },
   "outputs": [],
   "source": [
    "logys = map(np.log, ys)"
   ]
  },
  {
   "cell_type": "code",
   "execution_count": 15,
   "metadata": {
    "collapsed": false
   },
   "outputs": [
    {
     "data": {
      "text/plain": [
       "<matplotlib.collections.PathCollection at 0x7f996c4e6510>"
      ]
     },
     "execution_count": 15,
     "metadata": {},
     "output_type": "execute_result"
    },
    {
     "data": {
      "image/png": "[encoded data removed]",
      "text/plain": [
       "<matplotlib.figure.Figure at 0x7f9962fa70d0>"
      ]
     },
     "metadata": {},
     "output_type": "display_data"
    }
   ],
   "source": [
    "plt.scatter(xs, logys)"
   ]
  },
  {
   "cell_type": "code",
   "execution_count": 16,
   "metadata": {
    "collapsed": true
   },
   "outputs": [],
   "source": [
    "logxs = map(np.log, xs)"
   ]
  },
  {
   "cell_type": "code",
   "execution_count": 17,
   "metadata": {
    "collapsed": false
   },
   "outputs": [
    {
     "data": {
      "text/plain": [
       "<matplotlib.collections.PathCollection at 0x7f9962ee0150>"
      ]
     },
     "execution_count": 17,
     "metadata": {},
     "output_type": "execute_result"
    },
    {
     "data": {
      "image/png": "[encoded data removed]",
      "text/plain": [
       "<matplotlib.figure.Figure at 0x7f996c515b90>"
      ]
     },
     "metadata": {},
     "output_type": "display_data"
    }
   ],
   "source": [
    "plt.scatter(logxs, ys)"
   ]
  },
  {
   "cell_type": "code",
   "execution_count": 18,
   "metadata": {
    "collapsed": false
   },
   "outputs": [
    {
     "data": {
      "text/plain": [
       "<matplotlib.collections.PathCollection at 0x7f9961a7a910>"
      ]
     },
     "execution_count": 18,
     "metadata": {},
     "output_type": "execute_result"
    },
    {
     "data": {
      "image/png": "[encoded data removed]",
      "text/plain": [
       "<matplotlib.figure.Figure at 0x7f99621c01d0>"
      ]
     },
     "metadata": {},
     "output_type": "display_data"
    }
   ],
   "source": [
    "plt.scatter(logxs, logys)"
   ]
  },
  {
   "cell_type": "code",
   "execution_count": null,
   "metadata": {
    "collapsed": false
   },
   "outputs": [],
   "source": []
  },
  {
   "cell_type": "code",
   "execution_count": 19,
   "metadata": {
    "collapsed": false
   },
   "outputs": [],
   "source": [
    "z = np.polyfit(xs, logys, 2)\n",
    "f = np.poly1d(z)\n",
    "xd = np.linspace(0.5, 1.0, 50)\n",
    "yd = f(xd)"
   ]
  },
  {
   "cell_type": "code",
   "execution_count": null,
   "metadata": {
    "collapsed": true
   },
   "outputs": [],
   "source": [
    "f"
   ]
  },
  {
   "cell_type": "code",
   "execution_count": 20,
   "metadata": {
    "collapsed": false
   },
   "outputs": [
    {
     "data": {
      "text/plain": [
       "[<matplotlib.lines.Line2D at 0x7f9961a93310>]"
      ]
     },
     "execution_count": 20,
     "metadata": {},
     "output_type": "execute_result"
    },
    {
     "data": {
      "image/png": "[encoded data removed]",
      "text/plain": [
       "<matplotlib.figure.Figure at 0x7f9961a93190>"
      ]
     },
     "metadata": {},
     "output_type": "display_data"
    }
   ],
   "source": [
    "plt.scatter(xs, logys)\n",
    "plt.plot(xd, yd, color='r')"
   ]
  },
  {
   "cell_type": "code",
   "execution_count": 21,
   "metadata": {
    "collapsed": false
   },
   "outputs": [
    {
     "ename": "KeyboardInterrupt",
     "evalue": "",
     "output_type": "error",
     "traceback": [
      "\u001b[0;31m---------------------------------------------------------------------------\u001b[0m",
      "\u001b[0;31mKeyboardInterrupt\u001b[0m                         Traceback (most recent call last)",
      "\u001b[0;32m<ipython-input-21-135d73b085b2>\u001b[0m in \u001b[0;36m<module>\u001b[0;34m()\u001b[0m\n\u001b[1;32m      3\u001b[0m \u001b[0;32mfor\u001b[0m \u001b[0ma\u001b[0m \u001b[0;32min\u001b[0m \u001b[0mrange\u001b[0m\u001b[0;34m(\u001b[0m\u001b[0;36m500\u001b[0m\u001b[0;34m)\u001b[0m\u001b[0;34m:\u001b[0m\u001b[0;34m\u001b[0m\u001b[0m\n\u001b[1;32m      4\u001b[0m     \u001b[0ma\u001b[0m \u001b[0;34m=\u001b[0m \u001b[0;36m0.5\u001b[0m \u001b[0;34m+\u001b[0m \u001b[0ma\u001b[0m \u001b[0;34m*\u001b[0m \u001b[0;36m1.0\u001b[0m \u001b[0;34m/\u001b[0m \u001b[0;36m1000\u001b[0m \u001b[0;31m# calus b/w 0.5 and 0.99\u001b[0m\u001b[0;34m\u001b[0m\u001b[0m\n\u001b[0;32m----> 5\u001b[0;31m     \u001b[0msupervals\u001b[0m\u001b[0;34m[\u001b[0m\u001b[0ma\u001b[0m\u001b[0;34m]\u001b[0m \u001b[0;34m=\u001b[0m \u001b[0mestimate_a_val\u001b[0m\u001b[0;34m(\u001b[0m\u001b[0ma\u001b[0m\u001b[0;34m)\u001b[0m\u001b[0;34m\u001b[0m\u001b[0m\n\u001b[0m",
      "\u001b[0;32m<ipython-input-4-e2acaee35a0c>\u001b[0m in \u001b[0;36mestimate_a_val\u001b[0;34m(a)\u001b[0m\n\u001b[1;32m      3\u001b[0m     \u001b[0mprev\u001b[0m \u001b[0;34m=\u001b[0m \u001b[0mps\u001b[0m\u001b[0;34m[\u001b[0m\u001b[0;36m0\u001b[0m\u001b[0;34m]\u001b[0m \u001b[0;34m**\u001b[0m \u001b[0ma\u001b[0m\u001b[0;34m\u001b[0m\u001b[0m\n\u001b[1;32m      4\u001b[0m     \u001b[0;32mfor\u001b[0m \u001b[0mnxt\u001b[0m \u001b[0;32min\u001b[0m \u001b[0mps\u001b[0m\u001b[0;34m[\u001b[0m\u001b[0;36m1\u001b[0m\u001b[0;34m:\u001b[0m\u001b[0;34m]\u001b[0m\u001b[0;34m:\u001b[0m\u001b[0;31m#\u001b[0m\u001b[0;34m\u001b[0m\u001b[0m\n\u001b[0;32m----> 5\u001b[0;31m         \u001b[0mnxt\u001b[0m \u001b[0;34m=\u001b[0m \u001b[0mnxt\u001b[0m\u001b[0;34m**\u001b[0m\u001b[0ma\u001b[0m\u001b[0;34m\u001b[0m\u001b[0m\n\u001b[0m\u001b[1;32m      6\u001b[0m         \u001b[0mcomp\u001b[0m \u001b[0;34m=\u001b[0m \u001b[0mnxt\u001b[0m \u001b[0;34m-\u001b[0m \u001b[0mprev\u001b[0m\u001b[0;34m\u001b[0m\u001b[0m\n\u001b[1;32m      7\u001b[0m         \u001b[0;32mif\u001b[0m \u001b[0mcomp\u001b[0m \u001b[0;34m>\u001b[0m \u001b[0ma_max\u001b[0m\u001b[0;34m:\u001b[0m\u001b[0;34m\u001b[0m\u001b[0m\n",
      "\u001b[0;31mKeyboardInterrupt\u001b[0m: "
     ]
    }
   ],
   "source": [
    "supervals = dict()\n",
    "\n",
    "for a in range(500):\n",
    "    a = 0.5 + a * 1.0 / 1000 # calus b/w 0.5 and 0.99\n",
    "    supervals[a] = estimate_a_val(a)"
   ]
  },
  {
   "cell_type": "code",
   "execution_count": null,
   "metadata": {
    "collapsed": true
   },
   "outputs": [],
   "source": [
    "plotvals2 = [[a, supervals[a]] for a in supervals]\n",
    "xs2, ys2 = zip(*plotvals2)"
   ]
  },
  {
   "cell_type": "code",
   "execution_count": null,
   "metadata": {
    "collapsed": false
   },
   "outputs": [],
   "source": [
    "plt.scatter(xs2, ys2)"
   ]
  },
  {
   "cell_type": "code",
   "execution_count": null,
   "metadata": {
    "collapsed": true
   },
   "outputs": [],
   "source": [
    "logys2 = map(np.log, ys2)"
   ]
  },
  {
   "cell_type": "code",
   "execution_count": null,
   "metadata": {
    "collapsed": false
   },
   "outputs": [],
   "source": [
    "plt.scatter(xs2, logys2)"
   ]
  },
  {
   "cell_type": "code",
   "execution_count": null,
   "metadata": {
    "collapsed": true
   },
   "outputs": [],
   "source": [
    "import sage.all as sg"
   ]
  },
  {
   "cell_type": "code",
   "execution_count": 22,
   "metadata": {
    "collapsed": true
   },
   "outputs": [],
   "source": [
    "with open(\"prime_gaps.txt\", \"r\") as f:\n",
    "    lines = f.readlines()"
   ]
  },
  {
   "cell_type": "code",
   "execution_count": 23,
   "metadata": {
    "collapsed": false
   },
   "outputs": [
    {
     "data": {
      "text/plain": [
       "'     1* CFC Euclid   -300   1.44     1  2\\n'"
      ]
     },
     "execution_count": 23,
     "metadata": {},
     "output_type": "execute_result"
    }
   ],
   "source": [
    "lines[2] # first non-header line"
   ]
  },
  {
   "cell_type": "code",
   "execution_count": 24,
   "metadata": {
    "collapsed": false
   },
   "outputs": [
    {
     "data": {
      "text/plain": [
       "['804*', 'CFC', 'YPPauloR', '1991', '25.02', '14', '90874329411493']"
      ]
     },
     "execution_count": 24,
     "metadata": {},
     "output_type": "execute_result"
    }
   ],
   "source": [
    "lines[404].split()\n",
    "# gap classification discoverer year merit num_digits lower_prime"
   ]
  },
  {
   "cell_type": "markdown",
   "metadata": {},
   "source": [
    "Here `classification` is a three-letter string. The first and last letters indicate whether the initial (and intermediate) primes are certified primes (C), probabilistic primes (P), or otherwise. The second letter indicates whether the indicated primes are guaranteed to be the first primes of that gap."
   ]
  },
  {
   "cell_type": "code",
   "execution_count": 25,
   "metadata": {
    "collapsed": false
   },
   "outputs": [],
   "source": [
    "first_prime_gap_pairs  = []\n",
    "for line in lines[2:]:\n",
    "    s = line.split()\n",
    "    gap = int(s[0].rstrip('*'))\n",
    "    lower = int(s[-1])\n",
    "    upper = lower + gap\n",
    "    first_prime_gap_pairs.append([lower, upper])"
   ]
  },
  {
   "cell_type": "code",
   "execution_count": 26,
   "metadata": {
    "collapsed": false
   },
   "outputs": [
    {
     "data": {
      "text/plain": [
       "[[3937457950646269397, 3937457950646270759],\n",
       " [1051140888051230423, 1051140888051231787],\n",
       " [5662268059649697577, 5662268059649698943],\n",
       " [4105079953458040849, 4105079953458042217],\n",
       " [418032645936712127, 418032645936713497],\n",
       " [4219088970046367161, 4219088970046368533],\n",
       " [2812814235281609869, 2812814235281611243],\n",
       " [5468779003189090187, 5468779003189091563],\n",
       " [5412399181863804469, 5412399181863805847],\n",
       " [1031501833130243273, 1031501833130244653]]"
      ]
     },
     "execution_count": 26,
     "metadata": {},
     "output_type": "execute_result"
    }
   ],
   "source": [
    "first_prime_gap_pairs[-10:]"
   ]
  },
  {
   "cell_type": "code",
   "execution_count": 27,
   "metadata": {
    "collapsed": true
   },
   "outputs": [],
   "source": [
    "def estimate_a_val_with_gaps(a):\n",
    "    a_max = 0\n",
    "    for prev, nxt in first_prime_gap_pairs:\n",
    "        comp = nxt**a - prev**a\n",
    "        if comp > a_max:\n",
    "            a_max = comp\n",
    "            gap = [prev, nxt]\n",
    "    return a_max, gap"
   ]
  },
  {
   "cell_type": "code",
   "execution_count": 28,
   "metadata": {
    "collapsed": false
   },
   "outputs": [],
   "source": [
    "vals_gaps = dict()\n",
    "gap_maximizing = dict()\n",
    "\n",
    "for a in range(50):\n",
    "    a = 0.5 + a * 1.0 / 100\n",
    "    vals_gaps[a], gap_maximizing[a] = estimate_a_val_with_gaps(a)"
   ]
  },
  {
   "cell_type": "code",
   "execution_count": 29,
   "metadata": {
    "collapsed": false
   },
   "outputs": [
    {
     "data": {
      "text/plain": [
       "0.6708734792908091"
      ]
     },
     "execution_count": 29,
     "metadata": {},
     "output_type": "execute_result"
    }
   ],
   "source": [
    "vals_gaps[.5]"
   ]
  },
  {
   "cell_type": "code",
   "execution_count": 30,
   "metadata": {
    "collapsed": false
   },
   "outputs": [
    {
     "data": {
      "text/plain": [
       "{0.5: [7, 11],\n",
       " 0.51: [7, 11],\n",
       " 0.52: [113, 127],\n",
       " 0.53: [113, 127],\n",
       " 0.54: [113, 127],\n",
       " 0.55: [113, 127],\n",
       " 0.56: [113, 127],\n",
       " 0.5700000000000001: [113, 127],\n",
       " 0.58: [113, 127],\n",
       " 0.59: [113, 127],\n",
       " 0.6: [113, 127],\n",
       " 0.61: [113, 127],\n",
       " 0.62: [113, 127],\n",
       " 0.63: [113, 127],\n",
       " 0.64: [1327, 1361],\n",
       " 0.65: [1327, 1361],\n",
       " 0.66: [1327, 1361],\n",
       " 0.67: [1327, 1361],\n",
       " 0.6799999999999999: [1327, 1361],\n",
       " 0.69: [1327, 1361],\n",
       " 0.7: [1327, 1361],\n",
       " 0.71: [1327, 1361],\n",
       " 0.72: [1327, 1361],\n",
       " 0.73: [1327, 1361],\n",
       " 0.74: [1327, 1361],\n",
       " 0.75: [1327, 1361],\n",
       " 0.76: [1327, 1361],\n",
       " 0.77: [31397, 31469],\n",
       " 0.78: [31397, 31469],\n",
       " 0.79: [31397, 31469],\n",
       " 0.8: [31397, 31469],\n",
       " 0.81: [31397, 31469],\n",
       " 0.8200000000000001: [31397, 31469],\n",
       " 0.8300000000000001: [370261, 370373],\n",
       " 0.8400000000000001: [2010733, 2010881],\n",
       " 0.85: [2010733, 2010881],\n",
       " 0.86: [20831323, 20831533],\n",
       " 0.87: [20831323, 20831533],\n",
       " 0.88: [20831323, 20831533],\n",
       " 0.89: [20831323, 20831533],\n",
       " 0.9: [25056082087, 25056082543],\n",
       " 0.9099999999999999: [25056082087, 25056082543],\n",
       " 0.9199999999999999: [1693182318746371, 1693182318747503],\n",
       " 0.9299999999999999: [2918478076849134103, 2918478076849135433],\n",
       " 0.94: [1693182318746371, 1693182318747503],\n",
       " 0.95: [2980707563031238363, 2980707563031239653],\n",
       " 0.96: [3754930427730628273, 3754930427730629621],\n",
       " 0.97: [4646044042396639877, 4646044042396641223],\n",
       " 0.98: [4459397360427487997, 4459397360427489349],\n",
       " 0.99: [1798556720194308703, 1798556720194309967]}"
      ]
     },
     "execution_count": 30,
     "metadata": {},
     "output_type": "execute_result"
    }
   ],
   "source": [
    "gap_maximizing"
   ]
  },
  {
   "cell_type": "code",
   "execution_count": 31,
   "metadata": {
    "collapsed": false
   },
   "outputs": [
    {
     "name": "stdout",
     "output_type": "stream",
     "text": [
      "key is 0.5. Difference is 0.0\n",
      "key is 0.51. Difference is 0.0\n",
      "key is 0.52. Difference is 0.0\n",
      "key is 0.53. Difference is 0.0\n",
      "key is 0.54. Difference is 0.0\n",
      "key is 0.55. Difference is 0.0\n",
      "key is 0.56. Difference is 0.0\n",
      "key is 0.57. Difference is 0.0\n",
      "key is 0.58. Difference is 0.0\n",
      "key is 0.59. Difference is 0.0\n",
      "key is 0.6. Difference is 0.0\n",
      "key is 0.61. Difference is 0.0\n",
      "key is 0.62. Difference is 0.0\n",
      "key is 0.63. Difference is 0.0\n",
      "key is 0.64. Difference is 0.0\n",
      "key is 0.65. Difference is 0.0\n",
      "key is 0.66. Difference is 0.0\n",
      "key is 0.67. Difference is 0.0\n",
      "key is 0.68. Difference is 0.0\n",
      "key is 0.69. Difference is 0.0\n",
      "key is 0.7. Difference is 0.0\n",
      "key is 0.71. Difference is 0.0\n",
      "key is 0.72. Difference is 0.0\n",
      "key is 0.73. Difference is 0.0\n",
      "key is 0.74. Difference is 0.0\n",
      "key is 0.75. Difference is 0.0\n",
      "key is 0.76. Difference is 0.0\n",
      "key is 0.77. Difference is 0.0\n",
      "key is 0.78. Difference is 0.0\n",
      "key is 0.79. Difference is 0.0\n",
      "key is 0.8. Difference is 0.0\n",
      "key is 0.81. Difference is 0.0\n",
      "key is 0.82. Difference is 0.0\n",
      "key is 0.83. Difference is 0.0\n",
      "key is 0.84. Difference is 0.0\n",
      "key is 0.85. Difference is 0.0\n",
      "key is 0.86. Difference is 0.381093964214\n",
      "key is 0.87. Difference is 0.917883260292\n",
      "key is 0.88. Difference is 1.63867965998\n",
      "key is 0.89. Difference is 2.59274704161\n",
      "key is 0.9. Difference is 6.23738787381\n",
      "key is 0.91. Difference is 11.6200809923\n",
      "key is 0.92. Difference is 20.3636605027\n",
      "key is 0.93. Difference is 46.1679519343\n",
      "key is 0.94. Difference is 71.545812072\n",
      "key is 0.95. Difference is 123.951775014\n",
      "key is 0.96. Difference is 304.000962846\n",
      "key is 0.97. Difference is 417.754188193\n",
      "key is 0.98. Difference is 656.982051031\n",
      "key is 0.99. Difference is 893.238733912\n"
     ]
    }
   ],
   "source": [
    "for key in sorted(vals.keys()):\n",
    "    diff = vals_gaps[key] - vals[key]\n",
    "    print(\"key is \" + str(key) + \". Difference is {}\".format(diff))"
   ]
  },
  {
   "cell_type": "code",
   "execution_count": 32,
   "metadata": {
    "collapsed": false
   },
   "outputs": [
    {
     "data": {
      "text/plain": [
       "<matplotlib.collections.PathCollection at 0x7f99618e0250>"
      ]
     },
     "execution_count": 32,
     "metadata": {},
     "output_type": "execute_result"
    },
    {
     "data": {
      "image/png": "[encoded data removed]",
      "text/plain": [
       "<matplotlib.figure.Figure at 0x7f9961a75090>"
      ]
     },
     "metadata": {},
     "output_type": "display_data"
    }
   ],
   "source": [
    "plotvals = [[a, vals_gaps[a]] for a in vals_gaps]\n",
    "xs, ys = zip(*plotvals)\n",
    "plt.scatter(xs, ys)"
   ]
  },
  {
   "cell_type": "code",
   "execution_count": 33,
   "metadata": {
    "collapsed": false
   },
   "outputs": [
    {
     "data": {
      "text/plain": [
       "<matplotlib.collections.PathCollection at 0x7f9961811490>"
      ]
     },
     "execution_count": 33,
     "metadata": {},
     "output_type": "execute_result"
    },
    {
     "data": {
      "image/png": "[encoded data removed]",
      "text/plain": [
       "<matplotlib.figure.Figure at 0x7f99858ffa90>"
      ]
     },
     "metadata": {},
     "output_type": "display_data"
    }
   ],
   "source": [
    "logys = map(np.log, ys)\n",
    "plt.scatter(xs, logys)"
   ]
  },
  {
   "cell_type": "code",
   "execution_count": 57,
   "metadata": {
    "collapsed": true
   },
   "outputs": [],
   "source": [
    "z = np.polyfit(xs, logys, 4)\n",
    "f = np.poly1d(z)\n",
    "xd = np.linspace(0.5, 1.0, 50)\n",
    "yd = f(xd)"
   ]
  },
  {
   "cell_type": "code",
   "execution_count": 58,
   "metadata": {
    "collapsed": false
   },
   "outputs": [
    {
     "data": {
      "text/plain": [
       "poly1d([ 317.95162646, -841.88687997,  836.71136261, -361.84728478,\n",
       "         56.74163809])"
      ]
     },
     "execution_count": 58,
     "metadata": {},
     "output_type": "execute_result"
    }
   ],
   "source": [
    "f"
   ]
  },
  {
   "cell_type": "code",
   "execution_count": 59,
   "metadata": {
    "collapsed": false
   },
   "outputs": [
    {
     "data": {
      "text/plain": [
       "[<matplotlib.lines.Line2D at 0x7f9961213890>]"
      ]
     },
     "execution_count": 59,
     "metadata": {},
     "output_type": "execute_result"
    },
    {
     "data": {
      "image/png": "[encoded data removed]",
      "text/plain": [
       "<matplotlib.figure.Figure at 0x7f99612132d0>"
      ]
     },
     "metadata": {},
     "output_type": "display_data"
    }
   ],
   "source": [
    "plt.scatter(xs, logys)\n",
    "plt.plot(xd, yd, color='r')"
   ]
  },
  {
   "cell_type": "code",
   "execution_count": 64,
   "metadata": {
    "collapsed": false
   },
   "outputs": [],
   "source": [
    "shiftxs = map(lambda x: 1 - x, xs)\n",
    "logxs_shift = map(np.log, shiftxs)"
   ]
  },
  {
   "cell_type": "code",
   "execution_count": 66,
   "metadata": {
    "collapsed": false
   },
   "outputs": [],
   "source": [
    "z = np.polyfit(logxs_shift, logys, 1)"
   ]
  },
  {
   "cell_type": "code",
   "execution_count": 68,
   "metadata": {
    "collapsed": false
   },
   "outputs": [
    {
     "data": {
      "text/plain": [
       "poly1d([-2.20946496, -1.68371431])"
      ]
     },
     "execution_count": 68,
     "metadata": {},
     "output_type": "execute_result"
    }
   ],
   "source": [
    "f = np.poly1d(z)\n",
    "f"
   ]
  },
  {
   "cell_type": "code",
   "execution_count": 70,
   "metadata": {
    "collapsed": false
   },
   "outputs": [],
   "source": [
    "logalpha = f[0]\n",
    "minusbeta = f[1]\n",
    "alpha = np.exp(logalpha)\n",
    "beta = -1*minusbeta"
   ]
  },
  {
   "cell_type": "code",
   "execution_count": 71,
   "metadata": {
    "collapsed": true
   },
   "outputs": [],
   "source": [
    "def testf(x):\n",
    "    return alpha * (1 - x)**(minusbeta)"
   ]
  },
  {
   "cell_type": "code",
   "execution_count": 81,
   "metadata": {
    "collapsed": false
   },
   "outputs": [
    {
     "data": {
      "text/plain": [
       "(0, 1000)"
      ]
     },
     "execution_count": 81,
     "metadata": {},
     "output_type": "execute_result"
    },
    {
     "data": {
      "image/png": "[encoded data removed]",
      "text/plain": [
       "<matplotlib.figure.Figure at 0x7f9960fd60d0>"
      ]
     },
     "metadata": {},
     "output_type": "display_data"
    }
   ],
   "source": [
    "xd = np.linspace(0.5, 0.99, 50)\n",
    "yd = testf(xd)\n",
    "plt.scatter(xs, ys)\n",
    "plt.plot(xd, yd, color='r')\n",
    "plt.ylim((0, 1000))"
   ]
  },
  {
   "cell_type": "code",
   "execution_count": 82,
   "metadata": {
    "collapsed": false
   },
   "outputs": [
    {
     "data": {
      "text/plain": [
       "2.209464957018239"
      ]
     },
     "execution_count": 82,
     "metadata": {},
     "output_type": "execute_result"
    }
   ],
   "source": [
    "beta"
   ]
  },
  {
   "cell_type": "code",
   "execution_count": 38,
   "metadata": {
    "collapsed": false
   },
   "outputs": [],
   "source": [
    "Xs = map(np.log, xs)"
   ]
  },
  {
   "cell_type": "code",
   "execution_count": 52,
   "metadata": {
    "collapsed": true
   },
   "outputs": [],
   "source": [
    "z = np.polyfit(Xs, logys, 4)\n",
    "f = np.poly1d(z)\n",
    "xd = np.linspace(-1, .1, 100)\n",
    "Yd = f(xd)"
   ]
  },
  {
   "cell_type": "code",
   "execution_count": 53,
   "metadata": {
    "collapsed": false
   },
   "outputs": [
    {
     "data": {
      "text/plain": [
       "[<matplotlib.lines.Line2D at 0x7f9961333d50>]"
      ]
     },
     "execution_count": 53,
     "metadata": {},
     "output_type": "execute_result"
    },
    {
     "data": {
      "image/png": "[encoded data removed]",
      "text/plain": [
       "<matplotlib.figure.Figure at 0x7f9961333d10>"
      ]
     },
     "metadata": {},
     "output_type": "display_data"
    }
   ],
   "source": [
    "plt.scatter(Xs, logys)\n",
    "plt.plot(xd, Yd, color='r')"
   ]
  },
  {
   "cell_type": "code",
   "execution_count": null,
   "metadata": {
    "collapsed": false
   },
   "outputs": [],
   "source": [
    "loglogys = map(np.log, logys)\n",
    "plt.scatter(xs, loglogys)"
   ]
  },
  {
   "cell_type": "code",
   "execution_count": null,
   "metadata": {
    "collapsed": true
   },
   "outputs": [],
   "source": [
    "vals_gaps2 = dict()\n",
    "gap_maximizing2 = dict()\n",
    "\n",
    "for a in range(10):\n",
    "    a = 0.6328380752 + a * 1.0 / 100000000000\n",
    "    vals_gaps2[a], gap_maximizing2[a] = estimate_a_val_with_gaps(a)"
   ]
  },
  {
   "cell_type": "code",
   "execution_count": null,
   "metadata": {
    "collapsed": false
   },
   "outputs": [],
   "source": [
    "for key in sorted(gap_maximizing2):\n",
    "    print(\"{} --- {}\".format(key, gap_maximizing2[key]))"
   ]
  },
  {
   "cell_type": "code",
   "execution_count": 78,
   "metadata": {
    "collapsed": true
   },
   "outputs": [],
   "source": [
    "plt.ylim?"
   ]
  },
  {
   "cell_type": "code",
   "execution_count": null,
   "metadata": {
    "collapsed": true
   },
   "outputs": [],
   "source": []
  }
 ],
 "metadata": {
  "kernelspec": {
   "display_name": "Python 2",
   "language": "python",
   "name": "python2"
  },
  "language_info": {
   "codemirror_mode": {
    "name": "ipython",
    "version": 2
   },
   "file_extension": ".py",
   "mimetype": "text/x-python",
   "name": "python",
   "nbconvert_exporter": "python",
   "pygments_lexer": "ipython2",
   "version": "2.7.13"
  }
 },
 "nbformat": 4,
 "nbformat_minor": 0
}
